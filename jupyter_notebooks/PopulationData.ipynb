{
 "cells": [
  {
   "cell_type": "markdown",
   "metadata": {},
   "source": [
    "This notebook reads raw csv files from my local drive for populations, converting them into dataframes, cleans them, and writes clean pickle files to my local drive."
   ]
  },
  {
   "cell_type": "code",
   "execution_count": 1,
   "metadata": {},
   "outputs": [
    {
     "output_type": "execute_result",
     "data": {
      "text/plain": "     State          County   FIPS  Population\n0  Alabama         Alabama    NaN     4903185\n1  Alabama  Autauga County  01001       55869\n2  Alabama  Baldwin County  01003      223234",
      "text/html": "<div>\n<style scoped>\n    .dataframe tbody tr th:only-of-type {\n        vertical-align: middle;\n    }\n\n    .dataframe tbody tr th {\n        vertical-align: top;\n    }\n\n    .dataframe thead th {\n        text-align: right;\n    }\n</style>\n<table border=\"1\" class=\"dataframe\">\n  <thead>\n    <tr style=\"text-align: right;\">\n      <th></th>\n      <th>State</th>\n      <th>County</th>\n      <th>FIPS</th>\n      <th>Population</th>\n    </tr>\n  </thead>\n  <tbody>\n    <tr>\n      <th>0</th>\n      <td>Alabama</td>\n      <td>Alabama</td>\n      <td>NaN</td>\n      <td>4903185</td>\n    </tr>\n    <tr>\n      <th>1</th>\n      <td>Alabama</td>\n      <td>Autauga County</td>\n      <td>01001</td>\n      <td>55869</td>\n    </tr>\n    <tr>\n      <th>2</th>\n      <td>Alabama</td>\n      <td>Baldwin County</td>\n      <td>01003</td>\n      <td>223234</td>\n    </tr>\n  </tbody>\n</table>\n</div>"
     },
     "metadata": {},
     "execution_count": 1
    }
   ],
   "source": [
    "import pandas as pd\n",
    "import numpy as np\n",
    "from urllib.request import urlopen\n",
    "import json\n",
    "\n",
    "raw_path = r\"C:\\Users\\adiad\\Anaconda3\\envs\\CovidApp36\\covidapp\\data_raw\\\\\"\n",
    "clean_path = r\"C:\\Users\\adiad\\Anaconda3\\envs\\CovidApp36\\covidapp\\data_clean\\\\\"\n",
    "\n",
    "# data is from https://www2.census.gov/programs-surveys/popest/datasets/2010-2019/counties/totals/co-est2019-alldata.csv\n",
    "us_pop_df = pd.read_csv(raw_path + \"co-est2019-alldata.csv\", encoding='cp1252')\n",
    "us_pop_df[\"FIPS\"] = us_pop_df.STATE.astype(str).str.pad(width=2, side=\"left\", fillchar=\"0\") + \\\n",
    "                    us_pop_df.COUNTY.astype(str).str.pad(width=3, side=\"left\", fillchar=\"0\")\n",
    "us_pop_df.loc[us_pop_df.COUNTY == 0, \"FIPS\"] = np.nan\n",
    "us_pop_df = us_pop_df[[\"STNAME\", \"CTYNAME\", \"FIPS\", \"POPESTIMATE2019\"]]\n",
    "us_pop_df.columns = [\"State\", \"County\", \"FIPS\", \"Population\"]\n",
    "us_pop_df.State = us_pop_df.State.astype(\"category\")\n",
    "us_pop_df.County = us_pop_df.County.astype(\"category\")\n",
    "us_pop_df.FIPS = us_pop_df.FIPS.astype(\"category\")\n",
    "us_pop_df.to_pickle(clean_path + \"us_pop_df.pkl\")\n",
    "us_pop_df.head(3)"
   ]
  },
  {
   "cell_type": "code",
   "execution_count": 2,
   "metadata": {},
   "outputs": [
    {
     "output_type": "execute_result",
     "data": {
      "text/plain": "         Country  Population\n0          China  1433783686\n1          India  1366417754\n2  United States   329064917",
      "text/html": "<div>\n<style scoped>\n    .dataframe tbody tr th:only-of-type {\n        vertical-align: middle;\n    }\n\n    .dataframe tbody tr th {\n        vertical-align: top;\n    }\n\n    .dataframe thead th {\n        text-align: right;\n    }\n</style>\n<table border=\"1\" class=\"dataframe\">\n  <thead>\n    <tr style=\"text-align: right;\">\n      <th></th>\n      <th>Country</th>\n      <th>Population</th>\n    </tr>\n  </thead>\n  <tbody>\n    <tr>\n      <th>0</th>\n      <td>China</td>\n      <td>1433783686</td>\n    </tr>\n    <tr>\n      <th>1</th>\n      <td>India</td>\n      <td>1366417754</td>\n    </tr>\n    <tr>\n      <th>2</th>\n      <td>United States</td>\n      <td>329064917</td>\n    </tr>\n  </tbody>\n</table>\n</div>"
     },
     "metadata": {},
     "execution_count": 2
    }
   ],
   "source": [
    "# data from https://en.wikipedia.org/wiki/List_of_countries_by_population_%28United_Nations%29\n",
    "world_pop_df = pd.read_csv(raw_path + \"Nation_Pop_Wikipedia_2020_04_08.csv\", encoding='cp1252')\n",
    "world_pop_df = world_pop_df[[\"Country or area\", \"Population_2019\"]]\n",
    "world_pop_df.columns = [\"Country\", \"Population\"]\n",
    "world_pop_df.State = world_pop_df.Country.astype(\"category\")\n",
    "world_pop_df.to_pickle(clean_path + \"world_pop_df.pkl\")\n",
    "world_pop_df.head(3)"
   ]
  },
  {
   "cell_type": "code",
   "execution_count": 3,
   "metadata": {},
   "outputs": [
    {
     "output_type": "execute_result",
     "data": {
      "text/plain": "                                      State  Population Country\n0                                     Anhui    59500510   China\n1                                   Beijing    19612368   China\n2                                 Chongqing    28846170   China\n3                                    Fujian    36894216   China\n4                                 Guangdong   104303132   China\n5                                     Gansu    25575254   China\n6          Guangxi Zhuang Autonomous Region    46026629   China\n7                                   Guizhou    34746468   China\n8                                     Henan    94023567   China\n9                                     Hubei    57237740   China\n10                                    Hebei    71854202   China\n11                                   Hainan     9171300   China\n12  Hong Kong Special Administrative Region     7061200   China\n13                             Heilongjiang    38312224   China\n14                                    Hunan    65683722   China\n15                                    Jilin    27462297   China\n16                                  Jiangsu    78659903   China\n17                                  Jiangxi    44567475   China\n18                                 Liaoning    43746323   China\n19      Macau Special Administrative Region      552300   China\n20         Inner Mongolia Autonomous Region    24706321   China\n21            Ningxia Hui Autonomous Region     6301350   China\n22                                  Qinghai     5626722   China\n23                                  Sichuan    80418200   China\n24                                 Shandong    95793065   China\n25                                 Shanghai    23019148   China\n26                                  Shaanxi    37327378   China\n27                                   Shanxi    35712111   China\n28                                  Tianjin    12938224   China\n29                                   Taiwan    23162123   China",
      "text/html": "<div>\n<style scoped>\n    .dataframe tbody tr th:only-of-type {\n        vertical-align: middle;\n    }\n\n    .dataframe tbody tr th {\n        vertical-align: top;\n    }\n\n    .dataframe thead th {\n        text-align: right;\n    }\n</style>\n<table border=\"1\" class=\"dataframe\">\n  <thead>\n    <tr style=\"text-align: right;\">\n      <th></th>\n      <th>State</th>\n      <th>Population</th>\n      <th>Country</th>\n    </tr>\n  </thead>\n  <tbody>\n    <tr>\n      <th>0</th>\n      <td>Anhui</td>\n      <td>59500510</td>\n      <td>China</td>\n    </tr>\n    <tr>\n      <th>1</th>\n      <td>Beijing</td>\n      <td>19612368</td>\n      <td>China</td>\n    </tr>\n    <tr>\n      <th>2</th>\n      <td>Chongqing</td>\n      <td>28846170</td>\n      <td>China</td>\n    </tr>\n    <tr>\n      <th>3</th>\n      <td>Fujian</td>\n      <td>36894216</td>\n      <td>China</td>\n    </tr>\n    <tr>\n      <th>4</th>\n      <td>Guangdong</td>\n      <td>104303132</td>\n      <td>China</td>\n    </tr>\n    <tr>\n      <th>5</th>\n      <td>Gansu</td>\n      <td>25575254</td>\n      <td>China</td>\n    </tr>\n    <tr>\n      <th>6</th>\n      <td>Guangxi Zhuang Autonomous Region</td>\n      <td>46026629</td>\n      <td>China</td>\n    </tr>\n    <tr>\n      <th>7</th>\n      <td>Guizhou</td>\n      <td>34746468</td>\n      <td>China</td>\n    </tr>\n    <tr>\n      <th>8</th>\n      <td>Henan</td>\n      <td>94023567</td>\n      <td>China</td>\n    </tr>\n    <tr>\n      <th>9</th>\n      <td>Hubei</td>\n      <td>57237740</td>\n      <td>China</td>\n    </tr>\n    <tr>\n      <th>10</th>\n      <td>Hebei</td>\n      <td>71854202</td>\n      <td>China</td>\n    </tr>\n    <tr>\n      <th>11</th>\n      <td>Hainan</td>\n      <td>9171300</td>\n      <td>China</td>\n    </tr>\n    <tr>\n      <th>12</th>\n      <td>Hong Kong Special Administrative Region</td>\n      <td>7061200</td>\n      <td>China</td>\n    </tr>\n    <tr>\n      <th>13</th>\n      <td>Heilongjiang</td>\n      <td>38312224</td>\n      <td>China</td>\n    </tr>\n    <tr>\n      <th>14</th>\n      <td>Hunan</td>\n      <td>65683722</td>\n      <td>China</td>\n    </tr>\n    <tr>\n      <th>15</th>\n      <td>Jilin</td>\n      <td>27462297</td>\n      <td>China</td>\n    </tr>\n    <tr>\n      <th>16</th>\n      <td>Jiangsu</td>\n      <td>78659903</td>\n      <td>China</td>\n    </tr>\n    <tr>\n      <th>17</th>\n      <td>Jiangxi</td>\n      <td>44567475</td>\n      <td>China</td>\n    </tr>\n    <tr>\n      <th>18</th>\n      <td>Liaoning</td>\n      <td>43746323</td>\n      <td>China</td>\n    </tr>\n    <tr>\n      <th>19</th>\n      <td>Macau Special Administrative Region</td>\n      <td>552300</td>\n      <td>China</td>\n    </tr>\n    <tr>\n      <th>20</th>\n      <td>Inner Mongolia Autonomous Region</td>\n      <td>24706321</td>\n      <td>China</td>\n    </tr>\n    <tr>\n      <th>21</th>\n      <td>Ningxia Hui Autonomous Region</td>\n      <td>6301350</td>\n      <td>China</td>\n    </tr>\n    <tr>\n      <th>22</th>\n      <td>Qinghai</td>\n      <td>5626722</td>\n      <td>China</td>\n    </tr>\n    <tr>\n      <th>23</th>\n      <td>Sichuan</td>\n      <td>80418200</td>\n      <td>China</td>\n    </tr>\n    <tr>\n      <th>24</th>\n      <td>Shandong</td>\n      <td>95793065</td>\n      <td>China</td>\n    </tr>\n    <tr>\n      <th>25</th>\n      <td>Shanghai</td>\n      <td>23019148</td>\n      <td>China</td>\n    </tr>\n    <tr>\n      <th>26</th>\n      <td>Shaanxi</td>\n      <td>37327378</td>\n      <td>China</td>\n    </tr>\n    <tr>\n      <th>27</th>\n      <td>Shanxi</td>\n      <td>35712111</td>\n      <td>China</td>\n    </tr>\n    <tr>\n      <th>28</th>\n      <td>Tianjin</td>\n      <td>12938224</td>\n      <td>China</td>\n    </tr>\n    <tr>\n      <th>29</th>\n      <td>Taiwan</td>\n      <td>23162123</td>\n      <td>China</td>\n    </tr>\n  </tbody>\n</table>\n</div>"
     },
     "metadata": {},
     "execution_count": 3
    }
   ],
   "source": [
    "# data from https://en.wikipedia.org/wiki/Provinces_of_China#List_of_province-level_divisions\n",
    "china_pop_df = pd.read_csv(raw_path + \"China_Pop_2020-04_08.csv\")\n",
    "china_pop_df.Province = china_pop_df.Province.str.replace(\" Province\", \"\")\n",
    "china_pop_df.Province = china_pop_df.Province.str.replace(\" Municipality\", \"\")\n",
    "china_pop_df.columns = [\"State\", \"Population\"]\n",
    "china_pop_df[\"Country\"] = \"China\"\n",
    "china_pop_df.State = china_pop_df.State.astype(\"category\")\n",
    "china_pop_df.Country = china_pop_df.Country.astype(\"category\")\n",
    "china_pop_df.head(30)"
   ]
  },
  {
   "cell_type": "code",
   "execution_count": 4,
   "metadata": {},
   "outputs": [
    {
     "output_type": "execute_result",
     "data": {
      "text/plain": "             State  Population    Country\n0  New South Wales   8089526.0  Australia\n1       Queensland   5095100.0  Australia\n2  South Australia   1751693.0  Australia",
      "text/html": "<div>\n<style scoped>\n    .dataframe tbody tr th:only-of-type {\n        vertical-align: middle;\n    }\n\n    .dataframe tbody tr th {\n        vertical-align: top;\n    }\n\n    .dataframe thead th {\n        text-align: right;\n    }\n</style>\n<table border=\"1\" class=\"dataframe\">\n  <thead>\n    <tr style=\"text-align: right;\">\n      <th></th>\n      <th>State</th>\n      <th>Population</th>\n      <th>Country</th>\n    </tr>\n  </thead>\n  <tbody>\n    <tr>\n      <th>0</th>\n      <td>New South Wales</td>\n      <td>8089526.0</td>\n      <td>Australia</td>\n    </tr>\n    <tr>\n      <th>1</th>\n      <td>Queensland</td>\n      <td>5095100.0</td>\n      <td>Australia</td>\n    </tr>\n    <tr>\n      <th>2</th>\n      <td>South Australia</td>\n      <td>1751693.0</td>\n      <td>Australia</td>\n    </tr>\n  </tbody>\n</table>\n</div>"
     },
     "metadata": {},
     "execution_count": 4
    }
   ],
   "source": [
    "# data from https://en.wikipedia.org/wiki/States_and_territories_of_Australia\n",
    "australia_pop_df = pd.read_csv(raw_path + \"Australia_Pop_2020_04_09.csv\")\n",
    "australia_pop_df.columns = [\"State\", \"Population\"]\n",
    "australia_pop_df[\"Country\"] = \"Australia\"\n",
    "australia_pop_df.State = australia_pop_df.State.astype(\"category\")\n",
    "australia_pop_df.Country = australia_pop_df.Country.astype(\"category\")\n",
    "australia_pop_df.head(3)"
   ]
  },
  {
   "cell_type": "code",
   "execution_count": 5,
   "metadata": {},
   "outputs": [
    {
     "output_type": "execute_result",
     "data": {
      "text/plain": "              State  Population Country\n0           Ontario    13448494  Canada\n1            Quebec     8164361  Canada\n2  British Columbia     4648055  Canada",
      "text/html": "<div>\n<style scoped>\n    .dataframe tbody tr th:only-of-type {\n        vertical-align: middle;\n    }\n\n    .dataframe tbody tr th {\n        vertical-align: top;\n    }\n\n    .dataframe thead th {\n        text-align: right;\n    }\n</style>\n<table border=\"1\" class=\"dataframe\">\n  <thead>\n    <tr style=\"text-align: right;\">\n      <th></th>\n      <th>State</th>\n      <th>Population</th>\n      <th>Country</th>\n    </tr>\n  </thead>\n  <tbody>\n    <tr>\n      <th>0</th>\n      <td>Ontario</td>\n      <td>13448494</td>\n      <td>Canada</td>\n    </tr>\n    <tr>\n      <th>1</th>\n      <td>Quebec</td>\n      <td>8164361</td>\n      <td>Canada</td>\n    </tr>\n    <tr>\n      <th>2</th>\n      <td>British Columbia</td>\n      <td>4648055</td>\n      <td>Canada</td>\n    </tr>\n  </tbody>\n</table>\n</div>"
     },
     "metadata": {},
     "execution_count": 5
    }
   ],
   "source": [
    "# data from https://en.wikipedia.org/wiki/Population_of_Canada_by_province_and_territory\n",
    "canada_pop_df = pd.read_csv(raw_path + \"Canada_Pop_2020_04_08.csv\")\n",
    "canada_pop_df.columns = [\"State\", \"Population\"]\n",
    "canada_pop_df[\"Country\"] = \"Canada\"\n",
    "canada_pop_df.State = canada_pop_df.State.astype(\"category\")\n",
    "canada_pop_df.Country = canada_pop_df.Country.astype(\"category\")\n",
    "canada_pop_df.head(3)"
   ]
  },
  {
   "cell_type": "code",
   "execution_count": 6,
   "metadata": {},
   "outputs": [
    {
     "output_type": "execute_result",
     "data": {
      "text/plain": "             State  Population    Country\n0  New South Wales   8089526.0  Australia\n1       Queensland   5095100.0  Australia\n2  South Australia   1751693.0  Australia",
      "text/html": "<div>\n<style scoped>\n    .dataframe tbody tr th:only-of-type {\n        vertical-align: middle;\n    }\n\n    .dataframe tbody tr th {\n        vertical-align: top;\n    }\n\n    .dataframe thead th {\n        text-align: right;\n    }\n</style>\n<table border=\"1\" class=\"dataframe\">\n  <thead>\n    <tr style=\"text-align: right;\">\n      <th></th>\n      <th>State</th>\n      <th>Population</th>\n      <th>Country</th>\n    </tr>\n  </thead>\n  <tbody>\n    <tr>\n      <th>0</th>\n      <td>New South Wales</td>\n      <td>8089526.0</td>\n      <td>Australia</td>\n    </tr>\n    <tr>\n      <th>1</th>\n      <td>Queensland</td>\n      <td>5095100.0</td>\n      <td>Australia</td>\n    </tr>\n    <tr>\n      <th>2</th>\n      <td>South Australia</td>\n      <td>1751693.0</td>\n      <td>Australia</td>\n    </tr>\n  </tbody>\n</table>\n</div>"
     },
     "metadata": {},
     "execution_count": 6
    }
   ],
   "source": [
    "australia_china_canada_pop_df = australia_pop_df.append(china_pop_df, ignore_index=True)\n",
    "australia_china_canada_pop_df = australia_china_canada_pop_df.append(canada_pop_df, ignore_index=True)\n",
    "australia_china_canada_pop_df.to_pickle(clean_path + \"australia_china_canada_pop_df.pkl\")\n",
    "australia_china_canada_pop_df.head(3)"
   ]
  },
  {
   "cell_type": "code",
   "execution_count": 7,
   "metadata": {},
   "outputs": [],
   "source": [
    "with urlopen('https://raw.githubusercontent.com/plotly/datasets/master/geojson-counties-fips.json') as response:\n",
    "    counties = json.load(response)\n",
    "\n",
    "with open(clean_path +\"us_county_geo.json\", \"w\", encoding=\"utf-8\") as f:\n",
    "    json.dump(counties, f, ensure_ascii=False, indent=4)"
   ]
  }
 ],
 "metadata": {
  "language_info": {
   "name": "python",
   "codemirror_mode": {
    "name": "ipython",
    "version": 3
   },
   "version": "3.6.10-final"
  },
  "orig_nbformat": 2,
  "file_extension": ".py",
  "mimetype": "text/x-python",
  "name": "python",
  "npconvert_exporter": "python",
  "pygments_lexer": "ipython3",
  "version": 3,
  "kernelspec": {
   "name": "python361064bitcovidapp36conda73f2c0ce62d44d7188e4e41c6a3488db",
   "display_name": "Python 3.6.10 64-bit ('CovidApp36': conda)"
  }
 },
 "nbformat": 4,
 "nbformat_minor": 2
}