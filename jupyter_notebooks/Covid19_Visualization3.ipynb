{
  "cells": [
    {
      "cell_type": "markdown",
      "metadata": {},
      "source": [
        "This notebook was created to develop/explore visualizations for the dashboard app.  This notebook is not used in the final ETL pipeline of or in the Dash app."
      ]
    },
    {
      "cell_type": "code",
      "metadata": {
        "id": "MCv6HBqklIFL",
        "colab_type": "code",
        "outputId": "d0b12dc2-3487-44c1-ef32-08deeb76ff0d",
        "colab": {
          "base_uri": "https://localhost:8080/",
          "height": 297
        }
      },
      "source": [
        "import pandas as pd\n",
        "import numpy as np\n",
        "\n",
        "# download the file and save it as defined\n",
        "pkl_filepath = r\"C:\\Users\\adiad\\Anaconda3\\envs\\CovidApp\\covidapp\\data_clean\\Johns_Hopkins_Clean.pkl\"\n",
        "\n",
        "df = pd.read_pickle(pkl_filepath)"
      ],
      "execution_count": 1,
      "outputs": []
    },
    {
      "cell_type": "code",
      "execution_count": 2,
      "metadata": {},
      "outputs": [
        {
          "output_type": "execute_result",
          "data": {
            "text/plain": "  Province/State Country/Region  Confirmed  Deaths  Recovered       Date  \\\n0          Anhui          China          1       0          0 2020-01-22   \n1        Beijing          China         14       0          0 2020-01-22   \n2      Chongqing          China          6       0          0 2020-01-22   \n3         Fujian          China          1       0          0 2020-01-22   \n4          Gansu          China          0       0          0 2020-01-22   \n\n   Latitude  Longitude FIPS County  ConfirmedPerDate  RecoveredPerDate  \\\n0       NaN        NaN    0    nan                 0                 0   \n1       NaN        NaN    0    nan                 0                 0   \n2       NaN        NaN    0    nan                 0                 0   \n3       NaN        NaN    0    nan                 0                 0   \n4       NaN        NaN    0    nan                 0                 0   \n\n   DeathsPerDate USstateAbbr  \n0              0         nan  \n1              0         nan  \n2              0         nan  \n3              0         nan  \n4              0         nan  ",
            "text/html": "<div>\n<style scoped>\n    .dataframe tbody tr th:only-of-type {\n        vertical-align: middle;\n    }\n\n    .dataframe tbody tr th {\n        vertical-align: top;\n    }\n\n    .dataframe thead th {\n        text-align: right;\n    }\n</style>\n<table border=\"1\" class=\"dataframe\">\n  <thead>\n    <tr style=\"text-align: right;\">\n      <th></th>\n      <th>Province/State</th>\n      <th>Country/Region</th>\n      <th>Confirmed</th>\n      <th>Deaths</th>\n      <th>Recovered</th>\n      <th>Date</th>\n      <th>Latitude</th>\n      <th>Longitude</th>\n      <th>FIPS</th>\n      <th>County</th>\n      <th>ConfirmedPerDate</th>\n      <th>RecoveredPerDate</th>\n      <th>DeathsPerDate</th>\n      <th>USstateAbbr</th>\n    </tr>\n  </thead>\n  <tbody>\n    <tr>\n      <th>0</th>\n      <td>Anhui</td>\n      <td>China</td>\n      <td>1</td>\n      <td>0</td>\n      <td>0</td>\n      <td>2020-01-22</td>\n      <td>NaN</td>\n      <td>NaN</td>\n      <td>0</td>\n      <td>nan</td>\n      <td>0</td>\n      <td>0</td>\n      <td>0</td>\n      <td>nan</td>\n    </tr>\n    <tr>\n      <th>1</th>\n      <td>Beijing</td>\n      <td>China</td>\n      <td>14</td>\n      <td>0</td>\n      <td>0</td>\n      <td>2020-01-22</td>\n      <td>NaN</td>\n      <td>NaN</td>\n      <td>0</td>\n      <td>nan</td>\n      <td>0</td>\n      <td>0</td>\n      <td>0</td>\n      <td>nan</td>\n    </tr>\n    <tr>\n      <th>2</th>\n      <td>Chongqing</td>\n      <td>China</td>\n      <td>6</td>\n      <td>0</td>\n      <td>0</td>\n      <td>2020-01-22</td>\n      <td>NaN</td>\n      <td>NaN</td>\n      <td>0</td>\n      <td>nan</td>\n      <td>0</td>\n      <td>0</td>\n      <td>0</td>\n      <td>nan</td>\n    </tr>\n    <tr>\n      <th>3</th>\n      <td>Fujian</td>\n      <td>China</td>\n      <td>1</td>\n      <td>0</td>\n      <td>0</td>\n      <td>2020-01-22</td>\n      <td>NaN</td>\n      <td>NaN</td>\n      <td>0</td>\n      <td>nan</td>\n      <td>0</td>\n      <td>0</td>\n      <td>0</td>\n      <td>nan</td>\n    </tr>\n    <tr>\n      <th>4</th>\n      <td>Gansu</td>\n      <td>China</td>\n      <td>0</td>\n      <td>0</td>\n      <td>0</td>\n      <td>2020-01-22</td>\n      <td>NaN</td>\n      <td>NaN</td>\n      <td>0</td>\n      <td>nan</td>\n      <td>0</td>\n      <td>0</td>\n      <td>0</td>\n      <td>nan</td>\n    </tr>\n  </tbody>\n</table>\n</div>"
          },
          "metadata": {},
          "execution_count": 2
        }
      ],
      "source": [
        "df.head(5)"
      ]
    },
    {
      "cell_type": "code",
      "execution_count": 3,
      "metadata": {},
      "outputs": [
        {
          "output_type": "execute_result",
          "data": {
            "text/plain": "   SUMLEV  REGION  DIVISION  STATE  COUNTY   STNAME         CTYNAME  \\\n0      40       3         6      1       0  Alabama         Alabama   \n1      50       3         6      1       1  Alabama  Autauga County   \n2      50       3         6      1       3  Alabama  Baldwin County   \n\n   CENSUS2010POP  ESTIMATESBASE2010  POPESTIMATE2010  ...  RDOMESTICMIG2019  \\\n0        4779736            4780125          4785437  ...          1.917501   \n1          54571              54597            54773  ...          4.847310   \n2         182265             182265           183112  ...         24.017829   \n\n   RNETMIG2011  RNETMIG2012  RNETMIG2013  RNETMIG2014  RNETMIG2015  \\\n0     0.578434     1.186314     1.522549     0.563489     0.626357   \n1     6.018182    -6.226119    -3.902226     1.970443    -1.712875   \n2    16.641870    17.488579    22.751474    20.184334    17.725964   \n\n   RNETMIG2016  RNETMIG2017  RNETMIG2018  RNETMIG2019  \n0     0.745172     1.090366     1.773786     2.483744  \n1     4.777171     0.849656     0.540916     4.560062  \n2    21.279291    22.398256    24.727215    24.380567  \n\n[3 rows x 164 columns]",
            "text/html": "<div>\n<style scoped>\n    .dataframe tbody tr th:only-of-type {\n        vertical-align: middle;\n    }\n\n    .dataframe tbody tr th {\n        vertical-align: top;\n    }\n\n    .dataframe thead th {\n        text-align: right;\n    }\n</style>\n<table border=\"1\" class=\"dataframe\">\n  <thead>\n    <tr style=\"text-align: right;\">\n      <th></th>\n      <th>SUMLEV</th>\n      <th>REGION</th>\n      <th>DIVISION</th>\n      <th>STATE</th>\n      <th>COUNTY</th>\n      <th>STNAME</th>\n      <th>CTYNAME</th>\n      <th>CENSUS2010POP</th>\n      <th>ESTIMATESBASE2010</th>\n      <th>POPESTIMATE2010</th>\n      <th>...</th>\n      <th>RDOMESTICMIG2019</th>\n      <th>RNETMIG2011</th>\n      <th>RNETMIG2012</th>\n      <th>RNETMIG2013</th>\n      <th>RNETMIG2014</th>\n      <th>RNETMIG2015</th>\n      <th>RNETMIG2016</th>\n      <th>RNETMIG2017</th>\n      <th>RNETMIG2018</th>\n      <th>RNETMIG2019</th>\n    </tr>\n  </thead>\n  <tbody>\n    <tr>\n      <th>0</th>\n      <td>40</td>\n      <td>3</td>\n      <td>6</td>\n      <td>1</td>\n      <td>0</td>\n      <td>Alabama</td>\n      <td>Alabama</td>\n      <td>4779736</td>\n      <td>4780125</td>\n      <td>4785437</td>\n      <td>...</td>\n      <td>1.917501</td>\n      <td>0.578434</td>\n      <td>1.186314</td>\n      <td>1.522549</td>\n      <td>0.563489</td>\n      <td>0.626357</td>\n      <td>0.745172</td>\n      <td>1.090366</td>\n      <td>1.773786</td>\n      <td>2.483744</td>\n    </tr>\n    <tr>\n      <th>1</th>\n      <td>50</td>\n      <td>3</td>\n      <td>6</td>\n      <td>1</td>\n      <td>1</td>\n      <td>Alabama</td>\n      <td>Autauga County</td>\n      <td>54571</td>\n      <td>54597</td>\n      <td>54773</td>\n      <td>...</td>\n      <td>4.847310</td>\n      <td>6.018182</td>\n      <td>-6.226119</td>\n      <td>-3.902226</td>\n      <td>1.970443</td>\n      <td>-1.712875</td>\n      <td>4.777171</td>\n      <td>0.849656</td>\n      <td>0.540916</td>\n      <td>4.560062</td>\n    </tr>\n    <tr>\n      <th>2</th>\n      <td>50</td>\n      <td>3</td>\n      <td>6</td>\n      <td>1</td>\n      <td>3</td>\n      <td>Alabama</td>\n      <td>Baldwin County</td>\n      <td>182265</td>\n      <td>182265</td>\n      <td>183112</td>\n      <td>...</td>\n      <td>24.017829</td>\n      <td>16.641870</td>\n      <td>17.488579</td>\n      <td>22.751474</td>\n      <td>20.184334</td>\n      <td>17.725964</td>\n      <td>21.279291</td>\n      <td>22.398256</td>\n      <td>24.727215</td>\n      <td>24.380567</td>\n    </tr>\n  </tbody>\n</table>\n<p>3 rows × 164 columns</p>\n</div>"
          },
          "metadata": {},
          "execution_count": 3
        }
      ],
      "source": [
        "# data is from https://www2.census.gov/programs-surveys/popest/datasets/2010-2019/counties/totals/co-est2019-alldata.csv\n",
        "us_pop_df = pd.read_csv(r\"C:\\Users\\adiad\\Anaconda3\\envs\\CovidApp\\covidapp\\data_raw\\co-est2019-alldata.csv\",\n",
        "                     encoding='cp1252')\n",
        "us_pop_df.head(3)"
      ]
    },
    {
      "cell_type": "code",
      "execution_count": 4,
      "metadata": {},
      "outputs": [
        {
          "output_type": "execute_result",
          "data": {
            "text/plain": "     State          County  Population\n1  Alabama  Autauga County       55869\n2  Alabama  Baldwin County      223234\n3  Alabama  Barbour County       24686",
            "text/html": "<div>\n<style scoped>\n    .dataframe tbody tr th:only-of-type {\n        vertical-align: middle;\n    }\n\n    .dataframe tbody tr th {\n        vertical-align: top;\n    }\n\n    .dataframe thead th {\n        text-align: right;\n    }\n</style>\n<table border=\"1\" class=\"dataframe\">\n  <thead>\n    <tr style=\"text-align: right;\">\n      <th></th>\n      <th>State</th>\n      <th>County</th>\n      <th>Population</th>\n    </tr>\n  </thead>\n  <tbody>\n    <tr>\n      <th>1</th>\n      <td>Alabama</td>\n      <td>Autauga County</td>\n      <td>55869</td>\n    </tr>\n    <tr>\n      <th>2</th>\n      <td>Alabama</td>\n      <td>Baldwin County</td>\n      <td>223234</td>\n    </tr>\n    <tr>\n      <th>3</th>\n      <td>Alabama</td>\n      <td>Barbour County</td>\n      <td>24686</td>\n    </tr>\n  </tbody>\n</table>\n</div>"
          },
          "metadata": {},
          "execution_count": 4
        }
      ],
      "source": [
        "us_pop_df = us_pop_df[us_pop_df.COUNTY > 0]\n",
        "us_pop_df = us_pop_df[[\"STNAME\", \"CTYNAME\", \"POPESTIMATE2019\"]]\n",
        "us_pop_df.columns = [\"State\", \"County\", \"Population\"]\n",
        "us_pop_df.State = us_pop_df.State.astype(\"category\")\n",
        "us_pop_df.County = us_pop_df.County.astype(\"category\")\n",
        "us_pop_df.head(3)"
      ]
    },
    {
      "cell_type": "code",
      "execution_count": 5,
      "metadata": {},
      "outputs": [
        {
          "output_type": "execute_result",
          "data": {
            "text/plain": "  Country or area UN continental region UN statistical region  \\\n0           China                  Asia          Eastern Asia   \n1           India                  Asia         Southern Asia   \n2   United States              Americas      Northern America   \n\n   Population_2018  Population_2019  \n0       1427647786       1433783686  \n1       1352642280       1366417754  \n2        327096265        329064917  ",
            "text/html": "<div>\n<style scoped>\n    .dataframe tbody tr th:only-of-type {\n        vertical-align: middle;\n    }\n\n    .dataframe tbody tr th {\n        vertical-align: top;\n    }\n\n    .dataframe thead th {\n        text-align: right;\n    }\n</style>\n<table border=\"1\" class=\"dataframe\">\n  <thead>\n    <tr style=\"text-align: right;\">\n      <th></th>\n      <th>Country or area</th>\n      <th>UN continental region</th>\n      <th>UN statistical region</th>\n      <th>Population_2018</th>\n      <th>Population_2019</th>\n    </tr>\n  </thead>\n  <tbody>\n    <tr>\n      <th>0</th>\n      <td>China</td>\n      <td>Asia</td>\n      <td>Eastern Asia</td>\n      <td>1427647786</td>\n      <td>1433783686</td>\n    </tr>\n    <tr>\n      <th>1</th>\n      <td>India</td>\n      <td>Asia</td>\n      <td>Southern Asia</td>\n      <td>1352642280</td>\n      <td>1366417754</td>\n    </tr>\n    <tr>\n      <th>2</th>\n      <td>United States</td>\n      <td>Americas</td>\n      <td>Northern America</td>\n      <td>327096265</td>\n      <td>329064917</td>\n    </tr>\n  </tbody>\n</table>\n</div>"
          },
          "metadata": {},
          "execution_count": 5
        }
      ],
      "source": [
        "# data from https://en.wikipedia.org/wiki/List_of_countries_by_population_%28United_Nations%29\n",
        "world_pop_df = pd.read_csv(r\"C:\\Users\\adiad\\Anaconda3\\envs\\CovidApp\\covidapp\\data_raw\\Nation_Pop_Wikipedia_2020_04_08.csv\", encoding='cp1252')\n",
        "world_pop_df.head(3)"
      ]
    },
    {
      "cell_type": "code",
      "execution_count": 6,
      "metadata": {},
      "outputs": [
        {
          "output_type": "execute_result",
          "data": {
            "text/plain": "          Country  Population\n0           China  1433783686\n1           India  1366417754\n2   United States   329064917",
            "text/html": "<div>\n<style scoped>\n    .dataframe tbody tr th:only-of-type {\n        vertical-align: middle;\n    }\n\n    .dataframe tbody tr th {\n        vertical-align: top;\n    }\n\n    .dataframe thead th {\n        text-align: right;\n    }\n</style>\n<table border=\"1\" class=\"dataframe\">\n  <thead>\n    <tr style=\"text-align: right;\">\n      <th></th>\n      <th>Country</th>\n      <th>Population</th>\n    </tr>\n  </thead>\n  <tbody>\n    <tr>\n      <th>0</th>\n      <td>China</td>\n      <td>1433783686</td>\n    </tr>\n    <tr>\n      <th>1</th>\n      <td>India</td>\n      <td>1366417754</td>\n    </tr>\n    <tr>\n      <th>2</th>\n      <td>United States</td>\n      <td>329064917</td>\n    </tr>\n  </tbody>\n</table>\n</div>"
          },
          "metadata": {},
          "execution_count": 6
        }
      ],
      "source": [
        "world_pop_df = world_pop_df[[\"Country or area\", \"Population_2019\"]]\n",
        "world_pop_df.columns = [\"Country\", \"Population\"]\n",
        "world_pop_df.State = world_pop_df.Country.astype(\"category\")\n",
        "world_pop_df.head(3)"
      ]
    },
    {
      "cell_type": "code",
      "execution_count": 7,
      "metadata": {},
      "outputs": [
        {
          "output_type": "stream",
          "name": "stdout",
          "text": "China ,  Anhui\nChina ,  Beijing\nChina ,  Chongqing\nChina ,  Fujian\nChina ,  Gansu\nChina ,  Guangdong\nChina ,  Guangxi\nChina ,  Guizhou\nChina ,  Hainan\nChina ,  Hebei\nChina ,  Heilongjiang\nChina ,  Henan\nChina ,  Hubei\nChina ,  Hunan\nChina ,  Inner Mongolia\nChina ,  Jiangsu\nChina ,  Jiangxi\nChina ,  Jilin\nChina ,  Liaoning\nChina ,  Macau\nChina ,  Ningxia\nChina ,  Qinghai\nChina ,  Shaanxi\nChina ,  Shandong\nChina ,  Shanghai\nChina ,  Shanxi\nChina ,  Sichuan\nChina ,  Tianjin\nChina ,  Tibet\nChina ,  Xinjiang\nChina ,  Yunnan\nChina ,  Zhejiang\nChina ,  Hong Kong S.A.R.\nHong Kong S.A.R. ,  Hong Kong S.A.R.\nUnited States of America ,  Washington\nUnited States of America ,  Illinois\nUnited States of America ,  California\nUnited States of America ,  Arizona\nUnited States of America ,  Massachusetts\nUnited States of America ,  Wisconsin\nUnited States of America ,  Texas\nUnited States of America ,  Nebraska\nUnited States of America ,  nan\nUnited States of America ,  Oregon\nUnited States of America ,  Rhode Island\nUnited States of America ,  New Hampshire\nUnited States of America ,  Florida\nUnited States of America ,  New York\nUnited States of America ,  Georgia\nUnited States of America ,  North Carolina\nUnited States of America ,  New Jersey\nUnited States of America ,  Nevada\nUnited States of America ,  Tennessee\nUnited States of America ,  Maryland\nUnited States of America ,  Colorado\nUnited States of America ,  Pennsylvania\nUnited States of America ,  Kentucky\nUnited States of America ,  Indiana\nUnited States of America ,  Minnesota\nUnited States of America ,  Connecticut\nUnited States of America ,  South Carolina\nUnited States of America ,  Utah\nUnited States of America ,  Hawaii\nUnited States of America ,  Oklahoma\nUnited States of America ,  Virginia\nUnited States of America ,  D.C.\nUnited States of America ,  Kansas\nUnited States of America ,  Missouri\nUnited States of America ,  Vermont\nUnited States of America ,  Iowa\nUnited States of America ,  Louisiana\nUnited States of America ,  District of Columbia\nUnited States of America ,  Ohio\nUnited States of America ,  Alaska\nUnited States of America ,  Arkansas\nUnited States of America ,  Delaware\nUnited States of America ,  Idaho\nUnited States of America ,  Maine\nUnited States of America ,  Michigan\nUnited States of America ,  Mississippi\nUnited States of America ,  Montana\nUnited States of America ,  New Mexico\nUnited States of America ,  North Dakota\nUnited States of America ,  South Dakota\nUnited States of America ,  West Virginia\nUnited States of America ,  Wyoming\nUnited States of America ,  Alabama\nUnited States of America ,  Puerto Rico\nUnited States of America ,  Guam\nUnited States of America ,  Virgin Islands\nUnited States of America ,  American Samoa\nUnited States of America ,  Northern Mariana Islands\nCanada ,  Ontario\nCanada ,  British Columbia\nCanada ,  Quebec\nCanada ,  Alberta\nCanada ,  New Brunswick\nCanada ,  Manitoba\nCanada ,  Saskatchewan\nCanada ,  Newfoundland and Labrador\nCanada ,  Prince Edward Island\nCanada ,  Nova Scotia\nCanada ,  Northwest Territories\nCanada ,  Yukon\nAustralia ,  nan\nAustralia ,  New South Wales\nAustralia ,  Victoria\nAustralia ,  Queensland\nAustralia ,  South Australia\nAustralia ,  From Diamond Princess\nAustralia ,  Western Australia\nAustralia ,  Tasmania\nAustralia ,  Northern Territory\nAustralia ,  Australian Capital Territory\nAustralia ,  External territories\nAustralia ,  Jervis Bay Territory\nCruise Ship ,  Cruise Ship\nCruise Ship ,  Diamond Princess\nCruise Ship ,  Grand Princess\nCruise Ship ,  nan\nMacao SAR ,  Macau\n"
        }
      ],
      "source": [
        "countries = df.loc[(df[\"Country/Region\"] != \"United States\") & \\\n",
        "       (df[\"Province/State\"] != \"nan\"), \"Country/Region\"].unique()\n",
        "for country in countries:\n",
        "    for region in df.loc[(df[\"Country/Region\"] == country), \"Province/State\"].unique():\n",
        "        print(country, \", \", region)"
      ]
    },
    {
      "cell_type": "code",
      "execution_count": 8,
      "metadata": {},
      "outputs": [
        {
          "output_type": "execute_result",
          "data": {
            "text/plain": "                                   Province    Population\n0                            Anhui Province      59500510\n1                      Beijing Municipality      19612368\n2                    Chongqing Municipality      28846170\n3                           Fujian Province      36894216\n4                        Guangdong Province     104303132\n5                            Gansu Province      25575254\n6          Guangxi Zhuang Autonomous Region      46026629\n7                          Guizhou Province      34746468\n8                            Henan Province      94023567\n9                            Hubei Province      57237740\n10                           Hebei Province      71854202\n11                          Hainan Province  9,171,300[8]\n12  Hong Kong Special Administrative Region       7061200\n13                    Heilongjiang Province      38312224\n14                           Hunan Province      65683722\n15                           Jilin Province      27462297\n16                         Jiangsu Province      78659903\n17                         Jiangxi Province      44567475\n18                        Liaoning Province      43746323\n19      Macau Special Administrative Region        552300\n20         Inner Mongolia Autonomous Region      24706321\n21            Ningxia Hui Autonomous Region       6301350\n22                         Qinghai Province       5626722\n23                         Sichuan Province      80418200\n24                        Shandong Province      95793065\n25                    Shanghai Municipality      23019148\n26                         Shaanxi Province      37327378\n27                          Shanxi Province      35712111\n28                     Tianjin Municipality      12938224\n29                          Taiwan Province      23162123\n30        Xinjiang Uyghur Autonomous Region      21813334\n31                  Tibet Autonomous Region       3002166\n32                          Yunnan Province      45966239\n33                        Zhejiang Province      54426891",
            "text/html": "<div>\n<style scoped>\n    .dataframe tbody tr th:only-of-type {\n        vertical-align: middle;\n    }\n\n    .dataframe tbody tr th {\n        vertical-align: top;\n    }\n\n    .dataframe thead th {\n        text-align: right;\n    }\n</style>\n<table border=\"1\" class=\"dataframe\">\n  <thead>\n    <tr style=\"text-align: right;\">\n      <th></th>\n      <th>Province</th>\n      <th>Population</th>\n    </tr>\n  </thead>\n  <tbody>\n    <tr>\n      <th>0</th>\n      <td>Anhui Province</td>\n      <td>59500510</td>\n    </tr>\n    <tr>\n      <th>1</th>\n      <td>Beijing Municipality</td>\n      <td>19612368</td>\n    </tr>\n    <tr>\n      <th>2</th>\n      <td>Chongqing Municipality</td>\n      <td>28846170</td>\n    </tr>\n    <tr>\n      <th>3</th>\n      <td>Fujian Province</td>\n      <td>36894216</td>\n    </tr>\n    <tr>\n      <th>4</th>\n      <td>Guangdong Province</td>\n      <td>104303132</td>\n    </tr>\n    <tr>\n      <th>5</th>\n      <td>Gansu Province</td>\n      <td>25575254</td>\n    </tr>\n    <tr>\n      <th>6</th>\n      <td>Guangxi Zhuang Autonomous Region</td>\n      <td>46026629</td>\n    </tr>\n    <tr>\n      <th>7</th>\n      <td>Guizhou Province</td>\n      <td>34746468</td>\n    </tr>\n    <tr>\n      <th>8</th>\n      <td>Henan Province</td>\n      <td>94023567</td>\n    </tr>\n    <tr>\n      <th>9</th>\n      <td>Hubei Province</td>\n      <td>57237740</td>\n    </tr>\n    <tr>\n      <th>10</th>\n      <td>Hebei Province</td>\n      <td>71854202</td>\n    </tr>\n    <tr>\n      <th>11</th>\n      <td>Hainan Province</td>\n      <td>9,171,300[8]</td>\n    </tr>\n    <tr>\n      <th>12</th>\n      <td>Hong Kong Special Administrative Region</td>\n      <td>7061200</td>\n    </tr>\n    <tr>\n      <th>13</th>\n      <td>Heilongjiang Province</td>\n      <td>38312224</td>\n    </tr>\n    <tr>\n      <th>14</th>\n      <td>Hunan Province</td>\n      <td>65683722</td>\n    </tr>\n    <tr>\n      <th>15</th>\n      <td>Jilin Province</td>\n      <td>27462297</td>\n    </tr>\n    <tr>\n      <th>16</th>\n      <td>Jiangsu Province</td>\n      <td>78659903</td>\n    </tr>\n    <tr>\n      <th>17</th>\n      <td>Jiangxi Province</td>\n      <td>44567475</td>\n    </tr>\n    <tr>\n      <th>18</th>\n      <td>Liaoning Province</td>\n      <td>43746323</td>\n    </tr>\n    <tr>\n      <th>19</th>\n      <td>Macau Special Administrative Region</td>\n      <td>552300</td>\n    </tr>\n    <tr>\n      <th>20</th>\n      <td>Inner Mongolia Autonomous Region</td>\n      <td>24706321</td>\n    </tr>\n    <tr>\n      <th>21</th>\n      <td>Ningxia Hui Autonomous Region</td>\n      <td>6301350</td>\n    </tr>\n    <tr>\n      <th>22</th>\n      <td>Qinghai Province</td>\n      <td>5626722</td>\n    </tr>\n    <tr>\n      <th>23</th>\n      <td>Sichuan Province</td>\n      <td>80418200</td>\n    </tr>\n    <tr>\n      <th>24</th>\n      <td>Shandong Province</td>\n      <td>95793065</td>\n    </tr>\n    <tr>\n      <th>25</th>\n      <td>Shanghai Municipality</td>\n      <td>23019148</td>\n    </tr>\n    <tr>\n      <th>26</th>\n      <td>Shaanxi Province</td>\n      <td>37327378</td>\n    </tr>\n    <tr>\n      <th>27</th>\n      <td>Shanxi Province</td>\n      <td>35712111</td>\n    </tr>\n    <tr>\n      <th>28</th>\n      <td>Tianjin Municipality</td>\n      <td>12938224</td>\n    </tr>\n    <tr>\n      <th>29</th>\n      <td>Taiwan Province</td>\n      <td>23162123</td>\n    </tr>\n    <tr>\n      <th>30</th>\n      <td>Xinjiang Uyghur Autonomous Region</td>\n      <td>21813334</td>\n    </tr>\n    <tr>\n      <th>31</th>\n      <td>Tibet Autonomous Region</td>\n      <td>3002166</td>\n    </tr>\n    <tr>\n      <th>32</th>\n      <td>Yunnan Province</td>\n      <td>45966239</td>\n    </tr>\n    <tr>\n      <th>33</th>\n      <td>Zhejiang Province</td>\n      <td>54426891</td>\n    </tr>\n  </tbody>\n</table>\n</div>"
          },
          "metadata": {},
          "execution_count": 8
        }
      ],
      "source": [
        "# data from https://en.wikipedia.org/wiki/Provinces_of_China#List_of_province-level_divisions\n",
        "china_pop_df = pd.read_csv(r\"C:\\Users\\adiad\\Anaconda3\\envs\\CovidApp\\covidapp\\data_raw\\China_Pop_2020-04_08.csv\")\n",
        "china_pop_df"
      ]
    },
    {
      "cell_type": "code",
      "execution_count": 9,
      "metadata": {},
      "outputs": [
        {
          "output_type": "execute_result",
          "data": {
            "text/plain": "                                      State    Population\n0                                     Anhui      59500510\n1                                   Beijing      19612368\n2                                 Chongqing      28846170\n3                                    Fujian      36894216\n4                                 Guangdong     104303132\n5                                     Gansu      25575254\n6          Guangxi Zhuang Autonomous Region      46026629\n7                                   Guizhou      34746468\n8                                     Henan      94023567\n9                                     Hubei      57237740\n10                                    Hebei      71854202\n11                                   Hainan  9,171,300[8]\n12  Hong Kong Special Administrative Region       7061200\n13                             Heilongjiang      38312224\n14                                    Hunan      65683722\n15                                    Jilin      27462297\n16                                  Jiangsu      78659903\n17                                  Jiangxi      44567475\n18                                 Liaoning      43746323\n19      Macau Special Administrative Region        552300\n20         Inner Mongolia Autonomous Region      24706321\n21            Ningxia Hui Autonomous Region       6301350\n22                                  Qinghai       5626722\n23                                  Sichuan      80418200\n24                                 Shandong      95793065\n25                                 Shanghai      23019148\n26                                  Shaanxi      37327378\n27                                   Shanxi      35712111\n28                                  Tianjin      12938224\n29                                   Taiwan      23162123\n30        Xinjiang Uyghur Autonomous Region      21813334\n31                  Tibet Autonomous Region       3002166\n32                                   Yunnan      45966239\n33                                 Zhejiang      54426891",
            "text/html": "<div>\n<style scoped>\n    .dataframe tbody tr th:only-of-type {\n        vertical-align: middle;\n    }\n\n    .dataframe tbody tr th {\n        vertical-align: top;\n    }\n\n    .dataframe thead th {\n        text-align: right;\n    }\n</style>\n<table border=\"1\" class=\"dataframe\">\n  <thead>\n    <tr style=\"text-align: right;\">\n      <th></th>\n      <th>State</th>\n      <th>Population</th>\n    </tr>\n  </thead>\n  <tbody>\n    <tr>\n      <th>0</th>\n      <td>Anhui</td>\n      <td>59500510</td>\n    </tr>\n    <tr>\n      <th>1</th>\n      <td>Beijing</td>\n      <td>19612368</td>\n    </tr>\n    <tr>\n      <th>2</th>\n      <td>Chongqing</td>\n      <td>28846170</td>\n    </tr>\n    <tr>\n      <th>3</th>\n      <td>Fujian</td>\n      <td>36894216</td>\n    </tr>\n    <tr>\n      <th>4</th>\n      <td>Guangdong</td>\n      <td>104303132</td>\n    </tr>\n    <tr>\n      <th>5</th>\n      <td>Gansu</td>\n      <td>25575254</td>\n    </tr>\n    <tr>\n      <th>6</th>\n      <td>Guangxi Zhuang Autonomous Region</td>\n      <td>46026629</td>\n    </tr>\n    <tr>\n      <th>7</th>\n      <td>Guizhou</td>\n      <td>34746468</td>\n    </tr>\n    <tr>\n      <th>8</th>\n      <td>Henan</td>\n      <td>94023567</td>\n    </tr>\n    <tr>\n      <th>9</th>\n      <td>Hubei</td>\n      <td>57237740</td>\n    </tr>\n    <tr>\n      <th>10</th>\n      <td>Hebei</td>\n      <td>71854202</td>\n    </tr>\n    <tr>\n      <th>11</th>\n      <td>Hainan</td>\n      <td>9,171,300[8]</td>\n    </tr>\n    <tr>\n      <th>12</th>\n      <td>Hong Kong Special Administrative Region</td>\n      <td>7061200</td>\n    </tr>\n    <tr>\n      <th>13</th>\n      <td>Heilongjiang</td>\n      <td>38312224</td>\n    </tr>\n    <tr>\n      <th>14</th>\n      <td>Hunan</td>\n      <td>65683722</td>\n    </tr>\n    <tr>\n      <th>15</th>\n      <td>Jilin</td>\n      <td>27462297</td>\n    </tr>\n    <tr>\n      <th>16</th>\n      <td>Jiangsu</td>\n      <td>78659903</td>\n    </tr>\n    <tr>\n      <th>17</th>\n      <td>Jiangxi</td>\n      <td>44567475</td>\n    </tr>\n    <tr>\n      <th>18</th>\n      <td>Liaoning</td>\n      <td>43746323</td>\n    </tr>\n    <tr>\n      <th>19</th>\n      <td>Macau Special Administrative Region</td>\n      <td>552300</td>\n    </tr>\n    <tr>\n      <th>20</th>\n      <td>Inner Mongolia Autonomous Region</td>\n      <td>24706321</td>\n    </tr>\n    <tr>\n      <th>21</th>\n      <td>Ningxia Hui Autonomous Region</td>\n      <td>6301350</td>\n    </tr>\n    <tr>\n      <th>22</th>\n      <td>Qinghai</td>\n      <td>5626722</td>\n    </tr>\n    <tr>\n      <th>23</th>\n      <td>Sichuan</td>\n      <td>80418200</td>\n    </tr>\n    <tr>\n      <th>24</th>\n      <td>Shandong</td>\n      <td>95793065</td>\n    </tr>\n    <tr>\n      <th>25</th>\n      <td>Shanghai</td>\n      <td>23019148</td>\n    </tr>\n    <tr>\n      <th>26</th>\n      <td>Shaanxi</td>\n      <td>37327378</td>\n    </tr>\n    <tr>\n      <th>27</th>\n      <td>Shanxi</td>\n      <td>35712111</td>\n    </tr>\n    <tr>\n      <th>28</th>\n      <td>Tianjin</td>\n      <td>12938224</td>\n    </tr>\n    <tr>\n      <th>29</th>\n      <td>Taiwan</td>\n      <td>23162123</td>\n    </tr>\n    <tr>\n      <th>30</th>\n      <td>Xinjiang Uyghur Autonomous Region</td>\n      <td>21813334</td>\n    </tr>\n    <tr>\n      <th>31</th>\n      <td>Tibet Autonomous Region</td>\n      <td>3002166</td>\n    </tr>\n    <tr>\n      <th>32</th>\n      <td>Yunnan</td>\n      <td>45966239</td>\n    </tr>\n    <tr>\n      <th>33</th>\n      <td>Zhejiang</td>\n      <td>54426891</td>\n    </tr>\n  </tbody>\n</table>\n</div>"
          },
          "metadata": {},
          "execution_count": 9
        }
      ],
      "source": [
        "china_pop_df.Province = china_pop_df.Province.str.replace(\" Province\", \"\")\n",
        "china_pop_df.Province = china_pop_df.Province.str.replace(\" Municipality\", \"\")\n",
        "china_pop_df.columns = [\"State\", \"Population\"]\n",
        "china_pop_df.State = china_pop_df.State.astype(\"category\")\n",
        "china_pop_df"
      ]
    },
    {
      "cell_type": "code",
      "execution_count": 10,
      "metadata": {},
      "outputs": [
        {
          "output_type": "execute_result",
          "data": {
            "text/plain": "array(['Australian Capital Territory', 'External territories',\n       'From Diamond Princess', 'Jervis Bay Territory', 'New South Wales',\n       'Northern Territory', 'Queensland', 'South Australia', 'Tasmania',\n       'Victoria', 'Western Australia', 'nan'], dtype=object)"
          },
          "metadata": {},
          "execution_count": 10
        }
      ],
      "source": [
        "np.sort(df.loc[(df[\"Country/Region\"] == \"Australia\"), \"Province/State\"].unique())"
      ]
    },
    {
      "cell_type": "code",
      "execution_count": 11,
      "metadata": {},
      "outputs": [
        {
          "output_type": "execute_result",
          "data": {
            "text/plain": "array(['Australian Capital Territory', 'Jervis Bay Territory',\n       'New South Wales', 'Northern Territory', 'Queensland',\n       'South Australia', 'Tasmania', 'Victoria', 'Western Australia',\n       'nan'], dtype=object)"
          },
          "metadata": {},
          "execution_count": 11
        }
      ],
      "source": [
        "# data from https://en.wikipedia.org/wiki/States_and_territories_of_Australia\n",
        "australia_pop_df = pd.read_csv(r\"C:\\Users\\adiad\\Anaconda3\\envs\\CovidApp\\covidapp\\data_raw\\Australia_Pop_2020_04_09.csv\")\n",
        "australia_pop_df.columns = [\"State\", \"Population\"]\n",
        "australia_pop_df.State = australia_pop_df.State.astype(\"category\")\n",
        "np.sort(australia_pop_df.State.astype(str).unique())"
      ]
    },
    {
      "cell_type": "code",
      "metadata": {
        "id": "YjvpX33aNHHY",
        "colab_type": "code",
        "outputId": "18e6b8ce-8dfa-4e79-b901-c95014ba056f",
        "colab": {
          "base_uri": "https://localhost:8080/",
          "height": 822
        }
      },
      "source": [
        "import numpy as np\n",
        "import plotly, plotly.graph_objects as go\n",
        "import matplotlib, matplotlib.pyplot as plt, matplotlib.cm as cm\n",
        "\n",
        "fig = plotly.subplots.make_subplots(specs=[[{\"secondary_y\": True}]])\n",
        "\n",
        "mask_vars = [\"Confirmed\", \"Recovered\", \"Deaths\"]\n",
        "mask_places = [[\"United States of America\", \"Indiana\", \"\"]]\n",
        "               #[\"United States\", \"Michigan\", \"\"]]\n",
        "nplaces = len(mask_places)\n",
        "\n",
        "ncolors = max(nplaces, len(mask_vars))\n",
        "cmap = cm.get_cmap(\"tab10\", ncolors)    # PiYG\n",
        "colors = [\"\" for i in range(ncolors)]\n",
        "for i in range(cmap.N):\n",
        "  rgb = cmap(i)[:3] # will return rgba, we take only first 3 so we get rgb\n",
        "  colors[i] = matplotlib.colors.rgb2hex(rgb)\n",
        "\n",
        "def calc_zero_day(df, zero_thresh):\n",
        "  started_df = df[df.Confirmed >= zero_thresh]\n",
        "  start_date_series = started_df.Date[:1] - pd.Timedelta(days=1)\n",
        "  df.Zero_Day = df.Date - start_date_series.squeeze()\n",
        "  df.Zero_Day = df.Zero_Day.dt.days\n",
        "  return df\n",
        "\n",
        "def add_trace(fig, var, item, df, color, plot_cumulative, per_capita_norm, pop):\n",
        "  var_per_date = var + \"PerDate\"\n",
        "  vars_ls = [\"Confirmed\", \"Recovered\", \"Deaths\"]\n",
        "  vars_arr = np.array(vars_ls)\n",
        "  vars_avg_ls = [i_var + \"Avg\" for i_var in vars_ls]\n",
        "  vars_per_ls = [i_var + \"PerDate\" for i_var in vars_ls]\n",
        "  vars_per_avg_ls = [i_var + \"PerDateAvg\" for i_var in vars_ls]\n",
        "  var_id = np.where(vars_arr == var)[0][0]\n",
        "  dash_ls = [\"solid\", \"dash\", \"dot\"]\n",
        "  symbol_ls = [\"circle\", \"square\", \"diamond\"]\n",
        "\n",
        "  if np.isnan(per_capita_norm):\n",
        "    capita_frac = 1\n",
        "    per_cap = \"\"\n",
        "  else:\n",
        "    capita_frac = per_capita_norm/pop\n",
        "    per_cap = \" Per \" + str(per_capita_norm) + \" Capita\"\n",
        "  \n",
        "  if plot_cumulative:\n",
        "    y = df.loc[:, vars_ls[var_id]].values*capita_frac\n",
        "    y_fit = df.loc[:, vars_avg_ls[var_id]].values*capita_frac\n",
        "  else:\n",
        "    y = df.loc[:, vars_per_ls[var_id]].values*capita_frac\n",
        "    y_fit = df.loc[:, vars_per_avg_ls[var_id]].values*capita_frac\n",
        "\n",
        "  raw_hover_txt = \"<b>Date</b>: %{text}\" + \\\n",
        "                  \"<br><b>Days Infected</b>: %{x}\"\n",
        "\n",
        "  if np.isnan(per_capita_norm):\n",
        "    raw_hover_txt = raw_hover_txt + \"<br><b>\" + var + \" On Date</b>: %{customdata[0]:.0f}\" + per_cap + \\\n",
        "                                    \"<br><b>Total \" + var + \" To Date</b>: %{customdata[1]:.0f}\" + per_cap\n",
        "  else:\n",
        "    raw_hover_txt = raw_hover_txt + \"<br><b>\" + var + \" On Date</b>: %{customdata[0]:.2e}\" + per_cap + \\\n",
        "                    \"<br><b>Total \" + var + \" To Date</b>: %{customdata[1]:.2f}\" + per_cap\n",
        "\n",
        "  # plot scatter data points\n",
        "  fig.add_trace(go.Scatter(x=df.Zero_Day, y=y, mode='markers', name=item, \\\n",
        "                           marker=dict(symbol=symbol_ls[var_id], size=8, color=color, opacity=0.7), \\\n",
        "                           customdata=np.dstack((df.loc[:, vars_per_ls[var_id]].values*capita_frac, \\\n",
        "                                                 df.loc[:, vars_ls[var_id]].values))[0]*capita_frac, \\\n",
        "                           text=df.Date.dt.strftime('%B %d, %Y'), \\\n",
        "                           hovertemplate=raw_hover_txt, showlegend=False), \\\n",
        "                secondary_y=False)\n",
        "\n",
        "  fit_hover_txt = \"<b>Date</b>: %{text}\" + \\\n",
        "                  \"<br><b>Days Infected</b>: %{x}\"\n",
        "  \n",
        "  if np.isnan(per_capita_norm):\n",
        "    fit_hover_txt = fit_hover_txt + \"<br><b>Fit \" + var + \" On Date</b>: %{customdata[0]:.0f}\" + per_cap + \\\n",
        "                                    \"<br><b>Fit Total \" + var + \" To Date</b>: %{customdata[1]:.0f}\" + per_cap\n",
        "  else:\n",
        "    fit_hover_txt = fit_hover_txt + \"<br><b>Fit \" + var + \" On Date</b>: %{customdata[0]:.2e}\" + per_cap + \\\n",
        "                                    \"<br><b>Fit Total \" + var + \" To Date</b>: %{customdata[1]:.2f}\" + per_cap\n",
        "  \n",
        "  # plot fit lines\n",
        "  fig.add_trace(go.Scatter(x=df.Zero_Day, y=y_fit, mode='lines', name=item + \" Curve Fit\", \\\n",
        "                           line = dict(width=3, dash=dash_ls[var_id], color=color), \\\n",
        "                           customdata=np.dstack((df.loc[:, vars_per_avg_ls[var_id]].values*capita_frac, \\\n",
        "                                                 df.loc[:, vars_avg_ls[var_id]].values))[0]*capita_frac, \\\n",
        "                           text=df.Date.dt.strftime('%B %d, %Y'), \\\n",
        "                           hovertemplate=fit_hover_txt, showlegend=False), \\\n",
        "                secondary_y=False)\n",
        "  return fig\n",
        "\n",
        "plot_cumulative = False\n",
        "per_capita_norm = np.nan # set to np.nan for plotting absolute case count\n",
        "item_counter = 0\n",
        "for place in mask_places:\n",
        "  if (place[1] == \"\") & (place[2] == \"\"):\n",
        "    place_df = df[df[\"Country/Region\"] == place[0]].groupby(\"Date\").\\\n",
        "               agg({\"Confirmed\": [\"sum\"], \"ConfirmedPerDate\": [\"sum\"],\n",
        "                    \"Recovered\": [\"sum\"], \"RecoveredPerDate\": [\"sum\"],\n",
        "                    \"Deaths\": [\"sum\"], \"DeathsPerDate\": [\"sum\"]})\n",
        "  elif place[2] == \"\":\n",
        "    place_df = df[(df[\"Country/Region\"] == place[0]) & \\\n",
        "                  (df[\"Province/State\"] == place[1])].groupby(\"Date\").\\\n",
        "               agg({\"Confirmed\": [\"sum\"], \"ConfirmedPerDate\": [\"sum\"],\n",
        "                    \"Recovered\": [\"sum\"], \"RecoveredPerDate\": [\"sum\"],\n",
        "                    \"Deaths\": [\"sum\"], \"DeathsPerDate\": [\"sum\"]})\n",
        "  else:\n",
        "    place_df = df[(df[\"Country/Region\"] == place[0]) & \\\n",
        "                  (df[\"Province/State\"] == place[1]) & \\\n",
        "                  (df[\"County\"] == place[2])].groupby(\"Date\").\\\n",
        "               agg({\"Confirmed\": [\"sum\"], \"ConfirmedPerDate\": [\"sum\"],\n",
        "                    \"Recovered\": [\"sum\"], \"RecoveredPerDate\": [\"sum\"],\n",
        "                    \"Deaths\": [\"sum\"], \"DeathsPerDate\": [\"sum\"]})\n",
        "  \n",
        "  place_df.columns = place_df.columns.droplevel(level=1)\n",
        "  place_df = place_df.reset_index()\n",
        "  place_df[\"Zero_Day\"] = 0\n",
        "  zero_thresh = 5\n",
        "  place_df = calc_zero_day(place_df, zero_thresh)\n",
        "  place_df = place_df[place_df.Zero_Day >= 0]\n",
        "  \n",
        "  population = np.nan\n",
        "  if np.isnan(per_capita_norm):\n",
        "    place_name = \", \".join(place)\n",
        "\n",
        "  else:\n",
        "    # determine the place's population for normalizing case counts\n",
        "    countries_with_regional_pops = [\"Australia\", \"China\", \"United States of America\"]\n",
        "    if any([(country == place[0]) for country in countries_with_regional_pops]):\n",
        "      if place[0] == \"Australia\":\n",
        "        pop_df = australia_pop_df\n",
        "      elif place[0] == \"China\":\n",
        "        pop_df = china_pop_df\n",
        "      elif place[0] == \"United States\":\n",
        "        pop_df = us_pop_df\n",
        "\n",
        "      place_name = place[0]\n",
        "      if place[1] != \"\":\n",
        "        place_name = place[0] + \",<br>\" + place[1]\n",
        "        if any(pop_df.State.values == place[1]):\n",
        "          if place[2] != \"\":\n",
        "            # State & County were given\n",
        "            place_name = place[0] + \",<br>\" + place[1] + \",<br>\" + place[2]\n",
        "            if any(pop_df.County.values == place[2]):\n",
        "              population = pop_df.loc[(pop_df.State == place[1]) & \\\n",
        "                                      (pop_df.County == place[2]), \"Population\"].values[0]\n",
        "            else:\n",
        "              population = np.nan\n",
        "              error = place_name\n",
        "          else:\n",
        "            # Only the state was given\n",
        "            population = pop_df.loc[(pop_df.State == place[1]), \"Population\"].sum()\n",
        "        else:\n",
        "          population = np.nan\n",
        "          error = place_name\n",
        "      else:\n",
        "        # No state was given\n",
        "        population = pop_df.loc[:, \"Population\"].sum()\n",
        "    else:\n",
        "      # No State or County population data was obtained\n",
        "      place_name = place[0]\n",
        "      if any(world_pop_df.Country == place[0]):\n",
        "        population = world_pop_df.loc[world_pop_df.Country == place[0], \"Population\"].values[0]\n",
        "      else:\n",
        "        population = np.nan\n",
        "        error = place_name\n",
        "\n",
        "  avg_period = 14\n",
        "  place_df[\"ConfirmedAvg\"] = place_df.Confirmed.rolling(avg_period, center=True, min_periods=1).mean().round()\n",
        "  place_df[\"RecoveredAvg\"] = place_df.Recovered.rolling(avg_period, center=True, min_periods=1).mean().round()\n",
        "  place_df[\"DeathsAvg\"] = place_df.Deaths.rolling(avg_period, center=True, min_periods=1).mean().round()\n",
        "  place_df[\"ConfirmedPerDateAvg\"] = place_df.ConfirmedPerDate. \\\n",
        "                                    rolling(avg_period, center=True, min_periods=1).mean().round()\n",
        "  place_df[\"RecoveredPerDateAvg\"] = place_df.RecoveredPerDate. \\\n",
        "                                    rolling(avg_period, center=True, min_periods=1).mean().round()\n",
        "  place_df[\"DeathsPerDateAvg\"] = place_df.DeathsPerDate. \\\n",
        "                                    rolling(avg_period, center=True, min_periods=1).mean().round()\n",
        "  \n",
        "  for var in mask_vars:\n",
        "    fig = add_trace(fig, var, place_name, place_df, colors[item_counter], \\\n",
        "                    plot_cumulative, per_capita_norm, population)\n",
        "    if nplaces == 1:\n",
        "      fig.add_trace(go.Scatter(x=[None], y=[None], mode='lines+markers', \\\n",
        "                                name=mask_vars[item_counter], \\\n",
        "                                line=dict(dash=\"solid\", color=colors[item_counter]), \\\n",
        "                    showlegend=True))\n",
        "      item_counter += 1\n",
        "\n",
        "  if nplaces > 1:\n",
        "    fig.add_trace(go.Scatter(x=[None], y=[None], mode='lines', name=place_name, \\\n",
        "                              line=dict(dash=\"solid\", color=colors[item_counter]), \\\n",
        "                  showlegend=True))\n",
        "    item_counter += 1\n",
        "\n",
        "fig.update_layout(showlegend=True)\n",
        "invis = \"rgba(0,0,0,0)\"\n",
        "axopts = dict(linecolor = \"gray\", linewidth = 0.5, showline = True, mirror=True)\n",
        "fig.update_layout(\n",
        "    paper_bgcolor=invis,\n",
        "    plot_bgcolor=invis,\n",
        "    margin=go.layout.Margin(l=50, r=20, b=10, t=10),\n",
        "    #autosize=True,\n",
        "    width=800,\n",
        "    height=400,\n",
        "    xaxis=axopts,\n",
        "    yaxis=axopts,\n",
        "    #hovermode=\"x unified\",\n",
        "    legend=go.layout.Legend(\n",
        "      x=0,\n",
        "      y=-0.2,\n",
        "      traceorder=\"reversed\",\n",
        "      font=dict(\n",
        "          family=\"sans-serif\",\n",
        "          size=12,\n",
        "          color=\"black\"\n",
        "      ),\n",
        "      bgcolor=\"white\",\n",
        "      bordercolor=\"gray\",\n",
        "      borderwidth=0.5),\n",
        "    legend_orientation=\"h\"\n",
        ")\n",
        "\n",
        "if nplaces > 1:\n",
        "  # add dummy traces to make custom legend\n",
        "  fig.add_trace(go.Scatter(x=[None], y=[None], mode='lines+markers',\n",
        "                marker=dict(size=8, color='black', symbol=\"circle\"),\n",
        "                line=dict(dash=\"solid\"), showlegend=True, name='Confirmed'))\n",
        "  fig.add_trace(go.Scatter(x=[None], y=[None], mode='lines+markers',\n",
        "                marker=dict(size=8, color='black', symbol=\"square\"),\n",
        "                line=dict(dash=\"dot\"), showlegend=True, name='Recovered'))\n",
        "  fig.add_trace(go.Scatter(x=[None], y=[None], mode='lines+markers',\n",
        "                marker=dict(size=8, color='black', symbol=\"diamond\"),\n",
        "                line=dict(dash=\"dash\"), showlegend=True, name='Deaths'))\n",
        "\n",
        "fig.update_xaxes(title_text=\"Days Having \" + str(zero_thresh) + \" or More Confirmed Cases\", \\\n",
        "                 showspikes=True, spikesnap=\"data\", spikemode=\"across\", spikethickness=2)\n",
        "y_axis_factor = 1.1\n",
        "if plot_cumulative:\n",
        "  if ~np.isnan(per_capita_norm):\n",
        "    #axis_max = place_df[mask_vars].max().max()*y_axis_factor\n",
        "    fig.update_yaxes(title_text=\"Cumulative Cases Per \" + str(per_capita_norm) + \" Capita\", \\\n",
        "                     secondary_y=False, showspikes=True, spikesnap=\"data\", spikemode=\"across\",\n",
        "                     spikethickness=2) # range=[0, axis_max]\n",
        "  else:\n",
        "    #axis_max = place_df[mask_vars].max().max()*y_axis_factor\n",
        "    fig.update_yaxes(title_text=\"Cumulative Cases\", secondary_y=False, showspikes=True,\n",
        "                     spikesnap=\"data\", spikemode=\"across\", spikethickness=2) # range=[0, axis_max]\n",
        "else:\n",
        "  if ~np.isnan(per_capita_norm):\n",
        "    mask_vars2 = [var + \"PerDate\" for var in mask_vars]\n",
        "    #axis_max = place_df[mask_vars2].max().max()*y_axis_factor\n",
        "    fig.update_yaxes(title_text=\"Cases Per Date Per \" + str(per_capita_norm) + \" Capita\", \\\n",
        "                     secondary_y=False, showspikes=True, spikesnap=\"data\", spikemode=\"across\",\n",
        "                     spikethickness=2) # range=[0, axis_max]\n",
        "  else:\n",
        "    mask_vars2 = [var + \"PerDate\" for var in mask_vars]\n",
        "    #axis_max = place_df[mask_vars2].max().max()*y_axis_factor\n",
        "    fig.update_yaxes(title_text=\"Cases Per Date\", secondary_y=False, showspikes=True,\n",
        "                     spikesnap=\"data\", spikemode=\"across\", spikethickness=2) # range=[0, axis_max]\n",
        "fig.show()"
      ],
      "execution_count": 13,
      "outputs": [
        {
          "output_type": "display_data",
          "data": {
            "application/vnd.plotly.v1+json": {
              "config": {
                "plotlyServerURL": "https://plot.ly"
              },
              "data": [
                {
                  "customdata": [
                    [
                      1,
                      3
                    ],
                    [
                      3,
                      6
                    ],
                    [
                      5,
                      11
                    ],
                    [
                      2,
                      13
                    ],
                    [
                      0,
                      13
                    ],
                    [
                      3,
                      16
                    ],
                    [
                      4,
                      20
                    ],
                    [
                      5,
                      25
                    ],
                    [
                      5,
                      30
                    ],
                    [
                      9,
                      39
                    ],
                    [
                      21,
                      60
                    ],
                    [
                      26,
                      86
                    ],
                    [
                      42,
                      128
                    ],
                    [
                      0,
                      204
                    ],
                    [
                      10,
                      270
                    ],
                    [
                      155,
                      368
                    ],
                    [
                      112,
                      477
                    ],
                    [
                      168,
                      645
                    ],
                    [
                      334,
                      979
                    ],
                    [
                      255,
                      1233
                    ],
                    [
                      281,
                      1513
                    ],
                    [
                      273,
                      1786
                    ],
                    [
                      375,
                      2158
                    ],
                    [
                      406,
                      2564
                    ],
                    [
                      475,
                      3038
                    ],
                    [
                      400,
                      3437
                    ],
                    [
                      516,
                      3953
                    ],
                    [
                      463,
                      4411
                    ],
                    [
                      525,
                      4956
                    ],
                    [
                      576,
                      5510
                    ],
                    [
                      437,
                      5943
                    ],
                    [
                      410,
                      6351
                    ],
                    [
                      562,
                      6907
                    ],
                    [
                      528,
                      7435
                    ],
                    [
                      495,
                      7928
                    ],
                    [
                      435,
                      8359
                    ],
                    [
                      296,
                      8527
                    ],
                    [
                      436,
                      8960
                    ],
                    [
                      585,
                      9542
                    ],
                    [
                      627,
                      10154
                    ],
                    [
                      491,
                      10641
                    ]
                  ],
                  "hovertemplate": "<b>Date</b>: %{text}<br><b>Days Infected</b>: %{x}<br><b>Confirmed On Date</b>: %{customdata[0]:.0f}<br><b>Total Confirmed To Date</b>: %{customdata[1]:.0f}",
                  "marker": {
                    "color": "#1f77b4",
                    "opacity": 0.7,
                    "size": 8,
                    "symbol": "circle"
                  },
                  "mode": "markers",
                  "name": "United States of America, Indiana, ",
                  "showlegend": false,
                  "text": [
                    "March 09, 2020",
                    "March 10, 2020",
                    "March 11, 2020",
                    "March 12, 2020",
                    "March 13, 2020",
                    "March 14, 2020",
                    "March 15, 2020",
                    "March 16, 2020",
                    "March 17, 2020",
                    "March 18, 2020",
                    "March 19, 2020",
                    "March 20, 2020",
                    "March 21, 2020",
                    "March 22, 2020",
                    "March 23, 2020",
                    "March 24, 2020",
                    "March 25, 2020",
                    "March 26, 2020",
                    "March 27, 2020",
                    "March 28, 2020",
                    "March 29, 2020",
                    "March 30, 2020",
                    "March 31, 2020",
                    "April 01, 2020",
                    "April 02, 2020",
                    "April 03, 2020",
                    "April 04, 2020",
                    "April 05, 2020",
                    "April 06, 2020",
                    "April 07, 2020",
                    "April 08, 2020",
                    "April 09, 2020",
                    "April 10, 2020",
                    "April 11, 2020",
                    "April 12, 2020",
                    "April 13, 2020",
                    "April 14, 2020",
                    "April 15, 2020",
                    "April 16, 2020",
                    "April 17, 2020",
                    "April 18, 2020"
                  ],
                  "type": "scatter",
                  "x": [
                    0,
                    1,
                    2,
                    3,
                    4,
                    5,
                    6,
                    7,
                    8,
                    9,
                    10,
                    11,
                    12,
                    13,
                    14,
                    15,
                    16,
                    17,
                    18,
                    19,
                    20,
                    21,
                    22,
                    23,
                    24,
                    25,
                    26,
                    27,
                    28,
                    29,
                    30,
                    31,
                    32,
                    33,
                    34,
                    35,
                    36,
                    37,
                    38,
                    39,
                    40
                  ],
                  "xaxis": "x",
                  "y": [
                    1,
                    3,
                    5,
                    2,
                    0,
                    3,
                    4,
                    5,
                    5,
                    9,
                    21,
                    26,
                    42,
                    0,
                    10,
                    155,
                    112,
                    168,
                    334,
                    255,
                    281,
                    273,
                    375,
                    406,
                    475,
                    400,
                    516,
                    463,
                    525,
                    576,
                    437,
                    410,
                    562,
                    528,
                    495,
                    435,
                    296,
                    436,
                    585,
                    627,
                    491
                  ],
                  "yaxis": "y"
                },
                {
                  "customdata": [
                    [
                      3,
                      12
                    ],
                    [
                      3,
                      13
                    ],
                    [
                      3,
                      15
                    ],
                    [
                      4,
                      18
                    ],
                    [
                      5,
                      21
                    ],
                    [
                      7,
                      27
                    ],
                    [
                      10,
                      35
                    ],
                    [
                      9,
                      47
                    ],
                    [
                      10,
                      66
                    ],
                    [
                      20,
                      92
                    ],
                    [
                      28,
                      125
                    ],
                    [
                      40,
                      170
                    ],
                    [
                      64,
                      239
                    ],
                    [
                      82,
                      326
                    ],
                    [
                      102,
                      433
                    ],
                    [
                      121,
                      558
                    ],
                    [
                      147,
                      710
                    ],
                    [
                      176,
                      891
                    ],
                    [
                      208,
                      1104
                    ],
                    [
                      235,
                      1343
                    ],
                    [
                      269,
                      1616
                    ],
                    [
                      302,
                      1917
                    ],
                    [
                      338,
                      2251
                    ],
                    [
                      368,
                      2619
                    ],
                    [
                      392,
                      3009
                    ],
                    [
                      409,
                      3417
                    ],
                    [
                      425,
                      3840
                    ],
                    [
                      445,
                      4283
                    ],
                    [
                      460,
                      4741
                    ],
                    [
                      472,
                      5211
                    ],
                    [
                      466,
                      5666
                    ],
                    [
                      468,
                      6122
                    ],
                    [
                      476,
                      6587
                    ],
                    [
                      492,
                      7067
                    ],
                    [
                      490,
                      7545
                    ],
                    [
                      493,
                      7786
                    ],
                    [
                      490,
                      8021
                    ],
                    [
                      482,
                      8250
                    ],
                    [
                      486,
                      8480
                    ],
                    [
                      495,
                      8717
                    ],
                    [
                      487,
                      8943
                    ]
                  ],
                  "hovertemplate": "<b>Date</b>: %{text}<br><b>Days Infected</b>: %{x}<br><b>Fit Confirmed On Date</b>: %{customdata[0]:.0f}<br><b>Fit Total Confirmed To Date</b>: %{customdata[1]:.0f}",
                  "line": {
                    "color": "#1f77b4",
                    "dash": "solid",
                    "width": 3
                  },
                  "mode": "lines",
                  "name": "United States of America, Indiana,  Curve Fit",
                  "showlegend": false,
                  "text": [
                    "March 09, 2020",
                    "March 10, 2020",
                    "March 11, 2020",
                    "March 12, 2020",
                    "March 13, 2020",
                    "March 14, 2020",
                    "March 15, 2020",
                    "March 16, 2020",
                    "March 17, 2020",
                    "March 18, 2020",
                    "March 19, 2020",
                    "March 20, 2020",
                    "March 21, 2020",
                    "March 22, 2020",
                    "March 23, 2020",
                    "March 24, 2020",
                    "March 25, 2020",
                    "March 26, 2020",
                    "March 27, 2020",
                    "March 28, 2020",
                    "March 29, 2020",
                    "March 30, 2020",
                    "March 31, 2020",
                    "April 01, 2020",
                    "April 02, 2020",
                    "April 03, 2020",
                    "April 04, 2020",
                    "April 05, 2020",
                    "April 06, 2020",
                    "April 07, 2020",
                    "April 08, 2020",
                    "April 09, 2020",
                    "April 10, 2020",
                    "April 11, 2020",
                    "April 12, 2020",
                    "April 13, 2020",
                    "April 14, 2020",
                    "April 15, 2020",
                    "April 16, 2020",
                    "April 17, 2020",
                    "April 18, 2020"
                  ],
                  "type": "scatter",
                  "x": [
                    0,
                    1,
                    2,
                    3,
                    4,
                    5,
                    6,
                    7,
                    8,
                    9,
                    10,
                    11,
                    12,
                    13,
                    14,
                    15,
                    16,
                    17,
                    18,
                    19,
                    20,
                    21,
                    22,
                    23,
                    24,
                    25,
                    26,
                    27,
                    28,
                    29,
                    30,
                    31,
                    32,
                    33,
                    34,
                    35,
                    36,
                    37,
                    38,
                    39,
                    40
                  ],
                  "xaxis": "x",
                  "y": [
                    3,
                    3,
                    3,
                    4,
                    5,
                    7,
                    10,
                    9,
                    10,
                    20,
                    28,
                    40,
                    64,
                    82,
                    102,
                    121,
                    147,
                    176,
                    208,
                    235,
                    269,
                    302,
                    338,
                    368,
                    392,
                    409,
                    425,
                    445,
                    460,
                    472,
                    466,
                    468,
                    476,
                    492,
                    490,
                    493,
                    490,
                    482,
                    486,
                    495,
                    487
                  ],
                  "yaxis": "y"
                },
                {
                  "line": {
                    "color": "#1f77b4",
                    "dash": "solid"
                  },
                  "mode": "lines+markers",
                  "name": "Confirmed",
                  "showlegend": true,
                  "type": "scatter",
                  "x": [
                    null
                  ],
                  "y": [
                    null
                  ]
                },
                {
                  "customdata": [
                    [
                      0,
                      0
                    ],
                    [
                      0,
                      0
                    ],
                    [
                      0,
                      0
                    ],
                    [
                      0,
                      0
                    ],
                    [
                      0,
                      0
                    ],
                    [
                      0,
                      0
                    ],
                    [
                      0,
                      0
                    ],
                    [
                      0,
                      0
                    ],
                    [
                      0,
                      0
                    ],
                    [
                      0,
                      0
                    ],
                    [
                      0,
                      0
                    ],
                    [
                      0,
                      0
                    ],
                    [
                      0,
                      0
                    ],
                    [
                      0,
                      0
                    ],
                    [
                      0,
                      0
                    ],
                    [
                      0,
                      0
                    ],
                    [
                      0,
                      0
                    ],
                    [
                      0,
                      0
                    ],
                    [
                      0,
                      0
                    ],
                    [
                      0,
                      0
                    ],
                    [
                      0,
                      0
                    ],
                    [
                      0,
                      0
                    ],
                    [
                      0,
                      0
                    ],
                    [
                      0,
                      0
                    ],
                    [
                      0,
                      0
                    ],
                    [
                      0,
                      0
                    ],
                    [
                      0,
                      0
                    ],
                    [
                      0,
                      0
                    ],
                    [
                      0,
                      0
                    ],
                    [
                      0,
                      0
                    ],
                    [
                      0,
                      0
                    ],
                    [
                      0,
                      0
                    ],
                    [
                      0,
                      0
                    ],
                    [
                      0,
                      0
                    ],
                    [
                      0,
                      0
                    ],
                    [
                      0,
                      0
                    ],
                    [
                      0,
                      0
                    ],
                    [
                      0,
                      0
                    ],
                    [
                      0,
                      0
                    ],
                    [
                      0,
                      0
                    ],
                    [
                      0,
                      0
                    ]
                  ],
                  "hovertemplate": "<b>Date</b>: %{text}<br><b>Days Infected</b>: %{x}<br><b>Recovered On Date</b>: %{customdata[0]:.0f}<br><b>Total Recovered To Date</b>: %{customdata[1]:.0f}",
                  "marker": {
                    "color": "#8c564b",
                    "opacity": 0.7,
                    "size": 8,
                    "symbol": "square"
                  },
                  "mode": "markers",
                  "name": "United States of America, Indiana, ",
                  "showlegend": false,
                  "text": [
                    "March 09, 2020",
                    "March 10, 2020",
                    "March 11, 2020",
                    "March 12, 2020",
                    "March 13, 2020",
                    "March 14, 2020",
                    "March 15, 2020",
                    "March 16, 2020",
                    "March 17, 2020",
                    "March 18, 2020",
                    "March 19, 2020",
                    "March 20, 2020",
                    "March 21, 2020",
                    "March 22, 2020",
                    "March 23, 2020",
                    "March 24, 2020",
                    "March 25, 2020",
                    "March 26, 2020",
                    "March 27, 2020",
                    "March 28, 2020",
                    "March 29, 2020",
                    "March 30, 2020",
                    "March 31, 2020",
                    "April 01, 2020",
                    "April 02, 2020",
                    "April 03, 2020",
                    "April 04, 2020",
                    "April 05, 2020",
                    "April 06, 2020",
                    "April 07, 2020",
                    "April 08, 2020",
                    "April 09, 2020",
                    "April 10, 2020",
                    "April 11, 2020",
                    "April 12, 2020",
                    "April 13, 2020",
                    "April 14, 2020",
                    "April 15, 2020",
                    "April 16, 2020",
                    "April 17, 2020",
                    "April 18, 2020"
                  ],
                  "type": "scatter",
                  "x": [
                    0,
                    1,
                    2,
                    3,
                    4,
                    5,
                    6,
                    7,
                    8,
                    9,
                    10,
                    11,
                    12,
                    13,
                    14,
                    15,
                    16,
                    17,
                    18,
                    19,
                    20,
                    21,
                    22,
                    23,
                    24,
                    25,
                    26,
                    27,
                    28,
                    29,
                    30,
                    31,
                    32,
                    33,
                    34,
                    35,
                    36,
                    37,
                    38,
                    39,
                    40
                  ],
                  "xaxis": "x",
                  "y": [
                    0,
                    0,
                    0,
                    0,
                    0,
                    0,
                    0,
                    0,
                    0,
                    0,
                    0,
                    0,
                    0,
                    0,
                    0,
                    0,
                    0,
                    0,
                    0,
                    0,
                    0,
                    0,
                    0,
                    0,
                    0,
                    0,
                    0,
                    0,
                    0,
                    0,
                    0,
                    0,
                    0,
                    0,
                    0,
                    0,
                    0,
                    0,
                    0,
                    0,
                    0
                  ],
                  "yaxis": "y"
                },
                {
                  "customdata": [
                    [
                      0,
                      0
                    ],
                    [
                      0,
                      0
                    ],
                    [
                      0,
                      0
                    ],
                    [
                      0,
                      0
                    ],
                    [
                      0,
                      0
                    ],
                    [
                      0,
                      0
                    ],
                    [
                      0,
                      0
                    ],
                    [
                      0,
                      0
                    ],
                    [
                      0,
                      0
                    ],
                    [
                      0,
                      0
                    ],
                    [
                      0,
                      0
                    ],
                    [
                      0,
                      0
                    ],
                    [
                      0,
                      0
                    ],
                    [
                      0,
                      0
                    ],
                    [
                      0,
                      0
                    ],
                    [
                      0,
                      0
                    ],
                    [
                      0,
                      0
                    ],
                    [
                      0,
                      0
                    ],
                    [
                      0,
                      0
                    ],
                    [
                      0,
                      0
                    ],
                    [
                      0,
                      0
                    ],
                    [
                      0,
                      0
                    ],
                    [
                      0,
                      0
                    ],
                    [
                      0,
                      0
                    ],
                    [
                      0,
                      0
                    ],
                    [
                      0,
                      0
                    ],
                    [
                      0,
                      0
                    ],
                    [
                      0,
                      0
                    ],
                    [
                      0,
                      0
                    ],
                    [
                      0,
                      0
                    ],
                    [
                      0,
                      0
                    ],
                    [
                      0,
                      0
                    ],
                    [
                      0,
                      0
                    ],
                    [
                      0,
                      0
                    ],
                    [
                      0,
                      0
                    ],
                    [
                      0,
                      0
                    ],
                    [
                      0,
                      0
                    ],
                    [
                      0,
                      0
                    ],
                    [
                      0,
                      0
                    ],
                    [
                      0,
                      0
                    ],
                    [
                      0,
                      0
                    ]
                  ],
                  "hovertemplate": "<b>Date</b>: %{text}<br><b>Days Infected</b>: %{x}<br><b>Fit Recovered On Date</b>: %{customdata[0]:.0f}<br><b>Fit Total Recovered To Date</b>: %{customdata[1]:.0f}",
                  "line": {
                    "color": "#8c564b",
                    "dash": "dash",
                    "width": 3
                  },
                  "mode": "lines",
                  "name": "United States of America, Indiana,  Curve Fit",
                  "showlegend": false,
                  "text": [
                    "March 09, 2020",
                    "March 10, 2020",
                    "March 11, 2020",
                    "March 12, 2020",
                    "March 13, 2020",
                    "March 14, 2020",
                    "March 15, 2020",
                    "March 16, 2020",
                    "March 17, 2020",
                    "March 18, 2020",
                    "March 19, 2020",
                    "March 20, 2020",
                    "March 21, 2020",
                    "March 22, 2020",
                    "March 23, 2020",
                    "March 24, 2020",
                    "March 25, 2020",
                    "March 26, 2020",
                    "March 27, 2020",
                    "March 28, 2020",
                    "March 29, 2020",
                    "March 30, 2020",
                    "March 31, 2020",
                    "April 01, 2020",
                    "April 02, 2020",
                    "April 03, 2020",
                    "April 04, 2020",
                    "April 05, 2020",
                    "April 06, 2020",
                    "April 07, 2020",
                    "April 08, 2020",
                    "April 09, 2020",
                    "April 10, 2020",
                    "April 11, 2020",
                    "April 12, 2020",
                    "April 13, 2020",
                    "April 14, 2020",
                    "April 15, 2020",
                    "April 16, 2020",
                    "April 17, 2020",
                    "April 18, 2020"
                  ],
                  "type": "scatter",
                  "x": [
                    0,
                    1,
                    2,
                    3,
                    4,
                    5,
                    6,
                    7,
                    8,
                    9,
                    10,
                    11,
                    12,
                    13,
                    14,
                    15,
                    16,
                    17,
                    18,
                    19,
                    20,
                    21,
                    22,
                    23,
                    24,
                    25,
                    26,
                    27,
                    28,
                    29,
                    30,
                    31,
                    32,
                    33,
                    34,
                    35,
                    36,
                    37,
                    38,
                    39,
                    40
                  ],
                  "xaxis": "x",
                  "y": [
                    0,
                    0,
                    0,
                    0,
                    0,
                    0,
                    0,
                    0,
                    0,
                    0,
                    0,
                    0,
                    0,
                    0,
                    0,
                    0,
                    0,
                    0,
                    0,
                    0,
                    0,
                    0,
                    0,
                    0,
                    0,
                    0,
                    0,
                    0,
                    0,
                    0,
                    0,
                    0,
                    0,
                    0,
                    0,
                    0,
                    0,
                    0,
                    0,
                    0,
                    0
                  ],
                  "yaxis": "y"
                },
                {
                  "line": {
                    "color": "#8c564b",
                    "dash": "solid"
                  },
                  "mode": "lines+markers",
                  "name": "Recovered",
                  "showlegend": true,
                  "type": "scatter",
                  "x": [
                    null
                  ],
                  "y": [
                    null
                  ]
                },
                {
                  "customdata": [
                    [
                      0,
                      0
                    ],
                    [
                      0,
                      0
                    ],
                    [
                      0,
                      0
                    ],
                    [
                      0,
                      0
                    ],
                    [
                      0,
                      0
                    ],
                    [
                      0,
                      0
                    ],
                    [
                      0,
                      0
                    ],
                    [
                      1,
                      1
                    ],
                    [
                      1,
                      2
                    ],
                    [
                      0,
                      2
                    ],
                    [
                      0,
                      2
                    ],
                    [
                      0,
                      2
                    ],
                    [
                      2,
                      4
                    ],
                    [
                      0,
                      6
                    ],
                    [
                      1,
                      7
                    ],
                    [
                      5,
                      12
                    ],
                    [
                      2,
                      14
                    ],
                    [
                      3,
                      17
                    ],
                    [
                      8,
                      25
                    ],
                    [
                      6,
                      31
                    ],
                    [
                      1,
                      32
                    ],
                    [
                      4,
                      35
                    ],
                    [
                      14,
                      49
                    ],
                    [
                      16,
                      65
                    ],
                    [
                      13,
                      78
                    ],
                    [
                      24,
                      102
                    ],
                    [
                      14,
                      116
                    ],
                    [
                      11,
                      127
                    ],
                    [
                      16,
                      143
                    ],
                    [
                      42,
                      173
                    ],
                    [
                      30,
                      203
                    ],
                    [
                      42,
                      245
                    ],
                    [
                      55,
                      300
                    ],
                    [
                      31,
                      330
                    ],
                    [
                      13,
                      343
                    ],
                    [
                      7,
                      350
                    ],
                    [
                      37,
                      387
                    ],
                    [
                      49,
                      436
                    ],
                    [
                      41,
                      477
                    ],
                    [
                      46,
                      522
                    ],
                    [
                      26,
                      545
                    ]
                  ],
                  "hovertemplate": "<b>Date</b>: %{text}<br><b>Days Infected</b>: %{x}<br><b>Deaths On Date</b>: %{customdata[0]:.0f}<br><b>Total Deaths To Date</b>: %{customdata[1]:.0f}",
                  "marker": {
                    "color": "#17becf",
                    "opacity": 0.7,
                    "size": 8,
                    "symbol": "diamond"
                  },
                  "mode": "markers",
                  "name": "United States of America, Indiana, ",
                  "showlegend": false,
                  "text": [
                    "March 09, 2020",
                    "March 10, 2020",
                    "March 11, 2020",
                    "March 12, 2020",
                    "March 13, 2020",
                    "March 14, 2020",
                    "March 15, 2020",
                    "March 16, 2020",
                    "March 17, 2020",
                    "March 18, 2020",
                    "March 19, 2020",
                    "March 20, 2020",
                    "March 21, 2020",
                    "March 22, 2020",
                    "March 23, 2020",
                    "March 24, 2020",
                    "March 25, 2020",
                    "March 26, 2020",
                    "March 27, 2020",
                    "March 28, 2020",
                    "March 29, 2020",
                    "March 30, 2020",
                    "March 31, 2020",
                    "April 01, 2020",
                    "April 02, 2020",
                    "April 03, 2020",
                    "April 04, 2020",
                    "April 05, 2020",
                    "April 06, 2020",
                    "April 07, 2020",
                    "April 08, 2020",
                    "April 09, 2020",
                    "April 10, 2020",
                    "April 11, 2020",
                    "April 12, 2020",
                    "April 13, 2020",
                    "April 14, 2020",
                    "April 15, 2020",
                    "April 16, 2020",
                    "April 17, 2020",
                    "April 18, 2020"
                  ],
                  "type": "scatter",
                  "x": [
                    0,
                    1,
                    2,
                    3,
                    4,
                    5,
                    6,
                    7,
                    8,
                    9,
                    10,
                    11,
                    12,
                    13,
                    14,
                    15,
                    16,
                    17,
                    18,
                    19,
                    20,
                    21,
                    22,
                    23,
                    24,
                    25,
                    26,
                    27,
                    28,
                    29,
                    30,
                    31,
                    32,
                    33,
                    34,
                    35,
                    36,
                    37,
                    38,
                    39,
                    40
                  ],
                  "xaxis": "x",
                  "y": [
                    0,
                    0,
                    0,
                    0,
                    0,
                    0,
                    0,
                    1,
                    1,
                    0,
                    0,
                    0,
                    2,
                    0,
                    1,
                    5,
                    2,
                    3,
                    8,
                    6,
                    1,
                    4,
                    14,
                    16,
                    13,
                    24,
                    14,
                    11,
                    16,
                    42,
                    30,
                    42,
                    55,
                    31,
                    13,
                    7,
                    37,
                    49,
                    41,
                    46,
                    26
                  ],
                  "yaxis": "y"
                },
                {
                  "customdata": [
                    [
                      0,
                      0
                    ],
                    [
                      0,
                      0
                    ],
                    [
                      0,
                      0
                    ],
                    [
                      0,
                      0
                    ],
                    [
                      0,
                      1
                    ],
                    [
                      0,
                      1
                    ],
                    [
                      0,
                      1
                    ],
                    [
                      0,
                      1
                    ],
                    [
                      0,
                      2
                    ],
                    [
                      1,
                      3
                    ],
                    [
                      1,
                      4
                    ],
                    [
                      1,
                      5
                    ],
                    [
                      2,
                      7
                    ],
                    [
                      2,
                      9
                    ],
                    [
                      2,
                      11
                    ],
                    [
                      2,
                      14
                    ],
                    [
                      3,
                      17
                    ],
                    [
                      4,
                      22
                    ],
                    [
                      5,
                      27
                    ],
                    [
                      7,
                      34
                    ],
                    [
                      8,
                      42
                    ],
                    [
                      9,
                      51
                    ],
                    [
                      10,
                      60
                    ],
                    [
                      12,
                      72
                    ],
                    [
                      14,
                      85
                    ],
                    [
                      17,
                      102
                    ],
                    [
                      21,
                      121
                    ],
                    [
                      22,
                      143
                    ],
                    [
                      23,
                      165
                    ],
                    [
                      23,
                      187
                    ],
                    [
                      25,
                      212
                    ],
                    [
                      27,
                      238
                    ],
                    [
                      29,
                      267
                    ],
                    [
                      31,
                      297
                    ],
                    [
                      32,
                      327
                    ],
                    [
                      33,
                      343
                    ],
                    [
                      35,
                      359
                    ],
                    [
                      34,
                      376
                    ],
                    [
                      35,
                      394
                    ],
                    [
                      34,
                      410
                    ],
                    [
                      31,
                      424
                    ]
                  ],
                  "hovertemplate": "<b>Date</b>: %{text}<br><b>Days Infected</b>: %{x}<br><b>Fit Deaths On Date</b>: %{customdata[0]:.0f}<br><b>Fit Total Deaths To Date</b>: %{customdata[1]:.0f}",
                  "line": {
                    "color": "#17becf",
                    "dash": "dot",
                    "width": 3
                  },
                  "mode": "lines",
                  "name": "United States of America, Indiana,  Curve Fit",
                  "showlegend": false,
                  "text": [
                    "March 09, 2020",
                    "March 10, 2020",
                    "March 11, 2020",
                    "March 12, 2020",
                    "March 13, 2020",
                    "March 14, 2020",
                    "March 15, 2020",
                    "March 16, 2020",
                    "March 17, 2020",
                    "March 18, 2020",
                    "March 19, 2020",
                    "March 20, 2020",
                    "March 21, 2020",
                    "March 22, 2020",
                    "March 23, 2020",
                    "March 24, 2020",
                    "March 25, 2020",
                    "March 26, 2020",
                    "March 27, 2020",
                    "March 28, 2020",
                    "March 29, 2020",
                    "March 30, 2020",
                    "March 31, 2020",
                    "April 01, 2020",
                    "April 02, 2020",
                    "April 03, 2020",
                    "April 04, 2020",
                    "April 05, 2020",
                    "April 06, 2020",
                    "April 07, 2020",
                    "April 08, 2020",
                    "April 09, 2020",
                    "April 10, 2020",
                    "April 11, 2020",
                    "April 12, 2020",
                    "April 13, 2020",
                    "April 14, 2020",
                    "April 15, 2020",
                    "April 16, 2020",
                    "April 17, 2020",
                    "April 18, 2020"
                  ],
                  "type": "scatter",
                  "x": [
                    0,
                    1,
                    2,
                    3,
                    4,
                    5,
                    6,
                    7,
                    8,
                    9,
                    10,
                    11,
                    12,
                    13,
                    14,
                    15,
                    16,
                    17,
                    18,
                    19,
                    20,
                    21,
                    22,
                    23,
                    24,
                    25,
                    26,
                    27,
                    28,
                    29,
                    30,
                    31,
                    32,
                    33,
                    34,
                    35,
                    36,
                    37,
                    38,
                    39,
                    40
                  ],
                  "xaxis": "x",
                  "y": [
                    0,
                    0,
                    0,
                    0,
                    0,
                    0,
                    0,
                    0,
                    0,
                    1,
                    1,
                    1,
                    2,
                    2,
                    2,
                    2,
                    3,
                    4,
                    5,
                    7,
                    8,
                    9,
                    10,
                    12,
                    14,
                    17,
                    21,
                    22,
                    23,
                    23,
                    25,
                    27,
                    29,
                    31,
                    32,
                    33,
                    35,
                    34,
                    35,
                    34,
                    31
                  ],
                  "yaxis": "y"
                },
                {
                  "line": {
                    "color": "#17becf",
                    "dash": "solid"
                  },
                  "mode": "lines+markers",
                  "name": "Deaths",
                  "showlegend": true,
                  "type": "scatter",
                  "x": [
                    null
                  ],
                  "y": [
                    null
                  ]
                }
              ],
              "layout": {
                "height": 400,
                "legend": {
                  "bgcolor": "white",
                  "bordercolor": "gray",
                  "borderwidth": 0.5,
                  "font": {
                    "color": "black",
                    "family": "sans-serif",
                    "size": 12
                  },
                  "orientation": "h",
                  "traceorder": "reversed",
                  "x": 0,
                  "y": -0.2
                },
                "margin": {
                  "b": 10,
                  "l": 50,
                  "r": 20,
                  "t": 10
                },
                "paper_bgcolor": "rgba(0,0,0,0)",
                "plot_bgcolor": "rgba(0,0,0,0)",
                "showlegend": true,
                "template": {
                  "data": {
                    "bar": [
                      {
                        "error_x": {
                          "color": "#2a3f5f"
                        },
                        "error_y": {
                          "color": "#2a3f5f"
                        },
                        "marker": {
                          "line": {
                            "color": "#E5ECF6",
                            "width": 0.5
                          }
                        },
                        "type": "bar"
                      }
                    ],
                    "barpolar": [
                      {
                        "marker": {
                          "line": {
                            "color": "#E5ECF6",
                            "width": 0.5
                          }
                        },
                        "type": "barpolar"
                      }
                    ],
                    "carpet": [
                      {
                        "aaxis": {
                          "endlinecolor": "#2a3f5f",
                          "gridcolor": "white",
                          "linecolor": "white",
                          "minorgridcolor": "white",
                          "startlinecolor": "#2a3f5f"
                        },
                        "baxis": {
                          "endlinecolor": "#2a3f5f",
                          "gridcolor": "white",
                          "linecolor": "white",
                          "minorgridcolor": "white",
                          "startlinecolor": "#2a3f5f"
                        },
                        "type": "carpet"
                      }
                    ],
                    "choropleth": [
                      {
                        "colorbar": {
                          "outlinewidth": 0,
                          "ticks": ""
                        },
                        "type": "choropleth"
                      }
                    ],
                    "contour": [
                      {
                        "colorbar": {
                          "outlinewidth": 0,
                          "ticks": ""
                        },
                        "colorscale": [
                          [
                            0,
                            "#0d0887"
                          ],
                          [
                            0.1111111111111111,
                            "#46039f"
                          ],
                          [
                            0.2222222222222222,
                            "#7201a8"
                          ],
                          [
                            0.3333333333333333,
                            "#9c179e"
                          ],
                          [
                            0.4444444444444444,
                            "#bd3786"
                          ],
                          [
                            0.5555555555555556,
                            "#d8576b"
                          ],
                          [
                            0.6666666666666666,
                            "#ed7953"
                          ],
                          [
                            0.7777777777777778,
                            "#fb9f3a"
                          ],
                          [
                            0.8888888888888888,
                            "#fdca26"
                          ],
                          [
                            1,
                            "#f0f921"
                          ]
                        ],
                        "type": "contour"
                      }
                    ],
                    "contourcarpet": [
                      {
                        "colorbar": {
                          "outlinewidth": 0,
                          "ticks": ""
                        },
                        "type": "contourcarpet"
                      }
                    ],
                    "heatmap": [
                      {
                        "colorbar": {
                          "outlinewidth": 0,
                          "ticks": ""
                        },
                        "colorscale": [
                          [
                            0,
                            "#0d0887"
                          ],
                          [
                            0.1111111111111111,
                            "#46039f"
                          ],
                          [
                            0.2222222222222222,
                            "#7201a8"
                          ],
                          [
                            0.3333333333333333,
                            "#9c179e"
                          ],
                          [
                            0.4444444444444444,
                            "#bd3786"
                          ],
                          [
                            0.5555555555555556,
                            "#d8576b"
                          ],
                          [
                            0.6666666666666666,
                            "#ed7953"
                          ],
                          [
                            0.7777777777777778,
                            "#fb9f3a"
                          ],
                          [
                            0.8888888888888888,
                            "#fdca26"
                          ],
                          [
                            1,
                            "#f0f921"
                          ]
                        ],
                        "type": "heatmap"
                      }
                    ],
                    "heatmapgl": [
                      {
                        "colorbar": {
                          "outlinewidth": 0,
                          "ticks": ""
                        },
                        "colorscale": [
                          [
                            0,
                            "#0d0887"
                          ],
                          [
                            0.1111111111111111,
                            "#46039f"
                          ],
                          [
                            0.2222222222222222,
                            "#7201a8"
                          ],
                          [
                            0.3333333333333333,
                            "#9c179e"
                          ],
                          [
                            0.4444444444444444,
                            "#bd3786"
                          ],
                          [
                            0.5555555555555556,
                            "#d8576b"
                          ],
                          [
                            0.6666666666666666,
                            "#ed7953"
                          ],
                          [
                            0.7777777777777778,
                            "#fb9f3a"
                          ],
                          [
                            0.8888888888888888,
                            "#fdca26"
                          ],
                          [
                            1,
                            "#f0f921"
                          ]
                        ],
                        "type": "heatmapgl"
                      }
                    ],
                    "histogram": [
                      {
                        "marker": {
                          "colorbar": {
                            "outlinewidth": 0,
                            "ticks": ""
                          }
                        },
                        "type": "histogram"
                      }
                    ],
                    "histogram2d": [
                      {
                        "colorbar": {
                          "outlinewidth": 0,
                          "ticks": ""
                        },
                        "colorscale": [
                          [
                            0,
                            "#0d0887"
                          ],
                          [
                            0.1111111111111111,
                            "#46039f"
                          ],
                          [
                            0.2222222222222222,
                            "#7201a8"
                          ],
                          [
                            0.3333333333333333,
                            "#9c179e"
                          ],
                          [
                            0.4444444444444444,
                            "#bd3786"
                          ],
                          [
                            0.5555555555555556,
                            "#d8576b"
                          ],
                          [
                            0.6666666666666666,
                            "#ed7953"
                          ],
                          [
                            0.7777777777777778,
                            "#fb9f3a"
                          ],
                          [
                            0.8888888888888888,
                            "#fdca26"
                          ],
                          [
                            1,
                            "#f0f921"
                          ]
                        ],
                        "type": "histogram2d"
                      }
                    ],
                    "histogram2dcontour": [
                      {
                        "colorbar": {
                          "outlinewidth": 0,
                          "ticks": ""
                        },
                        "colorscale": [
                          [
                            0,
                            "#0d0887"
                          ],
                          [
                            0.1111111111111111,
                            "#46039f"
                          ],
                          [
                            0.2222222222222222,
                            "#7201a8"
                          ],
                          [
                            0.3333333333333333,
                            "#9c179e"
                          ],
                          [
                            0.4444444444444444,
                            "#bd3786"
                          ],
                          [
                            0.5555555555555556,
                            "#d8576b"
                          ],
                          [
                            0.6666666666666666,
                            "#ed7953"
                          ],
                          [
                            0.7777777777777778,
                            "#fb9f3a"
                          ],
                          [
                            0.8888888888888888,
                            "#fdca26"
                          ],
                          [
                            1,
                            "#f0f921"
                          ]
                        ],
                        "type": "histogram2dcontour"
                      }
                    ],
                    "mesh3d": [
                      {
                        "colorbar": {
                          "outlinewidth": 0,
                          "ticks": ""
                        },
                        "type": "mesh3d"
                      }
                    ],
                    "parcoords": [
                      {
                        "line": {
                          "colorbar": {
                            "outlinewidth": 0,
                            "ticks": ""
                          }
                        },
                        "type": "parcoords"
                      }
                    ],
                    "pie": [
                      {
                        "automargin": true,
                        "type": "pie"
                      }
                    ],
                    "scatter": [
                      {
                        "marker": {
                          "colorbar": {
                            "outlinewidth": 0,
                            "ticks": ""
                          }
                        },
                        "type": "scatter"
                      }
                    ],
                    "scatter3d": [
                      {
                        "line": {
                          "colorbar": {
                            "outlinewidth": 0,
                            "ticks": ""
                          }
                        },
                        "marker": {
                          "colorbar": {
                            "outlinewidth": 0,
                            "ticks": ""
                          }
                        },
                        "type": "scatter3d"
                      }
                    ],
                    "scattercarpet": [
                      {
                        "marker": {
                          "colorbar": {
                            "outlinewidth": 0,
                            "ticks": ""
                          }
                        },
                        "type": "scattercarpet"
                      }
                    ],
                    "scattergeo": [
                      {
                        "marker": {
                          "colorbar": {
                            "outlinewidth": 0,
                            "ticks": ""
                          }
                        },
                        "type": "scattergeo"
                      }
                    ],
                    "scattergl": [
                      {
                        "marker": {
                          "colorbar": {
                            "outlinewidth": 0,
                            "ticks": ""
                          }
                        },
                        "type": "scattergl"
                      }
                    ],
                    "scattermapbox": [
                      {
                        "marker": {
                          "colorbar": {
                            "outlinewidth": 0,
                            "ticks": ""
                          }
                        },
                        "type": "scattermapbox"
                      }
                    ],
                    "scatterpolar": [
                      {
                        "marker": {
                          "colorbar": {
                            "outlinewidth": 0,
                            "ticks": ""
                          }
                        },
                        "type": "scatterpolar"
                      }
                    ],
                    "scatterpolargl": [
                      {
                        "marker": {
                          "colorbar": {
                            "outlinewidth": 0,
                            "ticks": ""
                          }
                        },
                        "type": "scatterpolargl"
                      }
                    ],
                    "scatterternary": [
                      {
                        "marker": {
                          "colorbar": {
                            "outlinewidth": 0,
                            "ticks": ""
                          }
                        },
                        "type": "scatterternary"
                      }
                    ],
                    "surface": [
                      {
                        "colorbar": {
                          "outlinewidth": 0,
                          "ticks": ""
                        },
                        "colorscale": [
                          [
                            0,
                            "#0d0887"
                          ],
                          [
                            0.1111111111111111,
                            "#46039f"
                          ],
                          [
                            0.2222222222222222,
                            "#7201a8"
                          ],
                          [
                            0.3333333333333333,
                            "#9c179e"
                          ],
                          [
                            0.4444444444444444,
                            "#bd3786"
                          ],
                          [
                            0.5555555555555556,
                            "#d8576b"
                          ],
                          [
                            0.6666666666666666,
                            "#ed7953"
                          ],
                          [
                            0.7777777777777778,
                            "#fb9f3a"
                          ],
                          [
                            0.8888888888888888,
                            "#fdca26"
                          ],
                          [
                            1,
                            "#f0f921"
                          ]
                        ],
                        "type": "surface"
                      }
                    ],
                    "table": [
                      {
                        "cells": {
                          "fill": {
                            "color": "#EBF0F8"
                          },
                          "line": {
                            "color": "white"
                          }
                        },
                        "header": {
                          "fill": {
                            "color": "#C8D4E3"
                          },
                          "line": {
                            "color": "white"
                          }
                        },
                        "type": "table"
                      }
                    ]
                  },
                  "layout": {
                    "annotationdefaults": {
                      "arrowcolor": "#2a3f5f",
                      "arrowhead": 0,
                      "arrowwidth": 1
                    },
                    "coloraxis": {
                      "colorbar": {
                        "outlinewidth": 0,
                        "ticks": ""
                      }
                    },
                    "colorscale": {
                      "diverging": [
                        [
                          0,
                          "#8e0152"
                        ],
                        [
                          0.1,
                          "#c51b7d"
                        ],
                        [
                          0.2,
                          "#de77ae"
                        ],
                        [
                          0.3,
                          "#f1b6da"
                        ],
                        [
                          0.4,
                          "#fde0ef"
                        ],
                        [
                          0.5,
                          "#f7f7f7"
                        ],
                        [
                          0.6,
                          "#e6f5d0"
                        ],
                        [
                          0.7,
                          "#b8e186"
                        ],
                        [
                          0.8,
                          "#7fbc41"
                        ],
                        [
                          0.9,
                          "#4d9221"
                        ],
                        [
                          1,
                          "#276419"
                        ]
                      ],
                      "sequential": [
                        [
                          0,
                          "#0d0887"
                        ],
                        [
                          0.1111111111111111,
                          "#46039f"
                        ],
                        [
                          0.2222222222222222,
                          "#7201a8"
                        ],
                        [
                          0.3333333333333333,
                          "#9c179e"
                        ],
                        [
                          0.4444444444444444,
                          "#bd3786"
                        ],
                        [
                          0.5555555555555556,
                          "#d8576b"
                        ],
                        [
                          0.6666666666666666,
                          "#ed7953"
                        ],
                        [
                          0.7777777777777778,
                          "#fb9f3a"
                        ],
                        [
                          0.8888888888888888,
                          "#fdca26"
                        ],
                        [
                          1,
                          "#f0f921"
                        ]
                      ],
                      "sequentialminus": [
                        [
                          0,
                          "#0d0887"
                        ],
                        [
                          0.1111111111111111,
                          "#46039f"
                        ],
                        [
                          0.2222222222222222,
                          "#7201a8"
                        ],
                        [
                          0.3333333333333333,
                          "#9c179e"
                        ],
                        [
                          0.4444444444444444,
                          "#bd3786"
                        ],
                        [
                          0.5555555555555556,
                          "#d8576b"
                        ],
                        [
                          0.6666666666666666,
                          "#ed7953"
                        ],
                        [
                          0.7777777777777778,
                          "#fb9f3a"
                        ],
                        [
                          0.8888888888888888,
                          "#fdca26"
                        ],
                        [
                          1,
                          "#f0f921"
                        ]
                      ]
                    },
                    "colorway": [
                      "#636efa",
                      "#EF553B",
                      "#00cc96",
                      "#ab63fa",
                      "#FFA15A",
                      "#19d3f3",
                      "#FF6692",
                      "#B6E880",
                      "#FF97FF",
                      "#FECB52"
                    ],
                    "font": {
                      "color": "#2a3f5f"
                    },
                    "geo": {
                      "bgcolor": "white",
                      "lakecolor": "white",
                      "landcolor": "#E5ECF6",
                      "showlakes": true,
                      "showland": true,
                      "subunitcolor": "white"
                    },
                    "hoverlabel": {
                      "align": "left"
                    },
                    "hovermode": "closest",
                    "mapbox": {
                      "style": "light"
                    },
                    "paper_bgcolor": "white",
                    "plot_bgcolor": "#E5ECF6",
                    "polar": {
                      "angularaxis": {
                        "gridcolor": "white",
                        "linecolor": "white",
                        "ticks": ""
                      },
                      "bgcolor": "#E5ECF6",
                      "radialaxis": {
                        "gridcolor": "white",
                        "linecolor": "white",
                        "ticks": ""
                      }
                    },
                    "scene": {
                      "xaxis": {
                        "backgroundcolor": "#E5ECF6",
                        "gridcolor": "white",
                        "gridwidth": 2,
                        "linecolor": "white",
                        "showbackground": true,
                        "ticks": "",
                        "zerolinecolor": "white"
                      },
                      "yaxis": {
                        "backgroundcolor": "#E5ECF6",
                        "gridcolor": "white",
                        "gridwidth": 2,
                        "linecolor": "white",
                        "showbackground": true,
                        "ticks": "",
                        "zerolinecolor": "white"
                      },
                      "zaxis": {
                        "backgroundcolor": "#E5ECF6",
                        "gridcolor": "white",
                        "gridwidth": 2,
                        "linecolor": "white",
                        "showbackground": true,
                        "ticks": "",
                        "zerolinecolor": "white"
                      }
                    },
                    "shapedefaults": {
                      "line": {
                        "color": "#2a3f5f"
                      }
                    },
                    "ternary": {
                      "aaxis": {
                        "gridcolor": "white",
                        "linecolor": "white",
                        "ticks": ""
                      },
                      "baxis": {
                        "gridcolor": "white",
                        "linecolor": "white",
                        "ticks": ""
                      },
                      "bgcolor": "#E5ECF6",
                      "caxis": {
                        "gridcolor": "white",
                        "linecolor": "white",
                        "ticks": ""
                      }
                    },
                    "title": {
                      "x": 0.05
                    },
                    "xaxis": {
                      "automargin": true,
                      "gridcolor": "white",
                      "linecolor": "white",
                      "ticks": "",
                      "title": {
                        "standoff": 15
                      },
                      "zerolinecolor": "white",
                      "zerolinewidth": 2
                    },
                    "yaxis": {
                      "automargin": true,
                      "gridcolor": "white",
                      "linecolor": "white",
                      "ticks": "",
                      "title": {
                        "standoff": 15
                      },
                      "zerolinecolor": "white",
                      "zerolinewidth": 2
                    }
                  }
                },
                "width": 800,
                "xaxis": {
                  "anchor": "y",
                  "domain": [
                    0,
                    0.94
                  ],
                  "linecolor": "gray",
                  "linewidth": 0.5,
                  "mirror": true,
                  "showline": true,
                  "showspikes": true,
                  "spikemode": "across",
                  "spikesnap": "data",
                  "spikethickness": 2,
                  "title": {
                    "text": "Days Having 5 or More Confirmed Cases"
                  }
                },
                "yaxis": {
                  "anchor": "x",
                  "domain": [
                    0,
                    1
                  ],
                  "linecolor": "gray",
                  "linewidth": 0.5,
                  "mirror": true,
                  "showline": true,
                  "showspikes": true,
                  "spikemode": "across",
                  "spikesnap": "data",
                  "spikethickness": 2,
                  "title": {
                    "text": "Cases Per Date"
                  }
                },
                "yaxis2": {
                  "anchor": "x",
                  "overlaying": "y",
                  "side": "right"
                }
              }
            }
          },
          "metadata": {}
        }
      ]
    },
    {
      "cell_type": "code",
      "execution_count": 1,
      "metadata": {},
      "outputs": [
        {
          "output_type": "error",
          "ename": "NameError",
          "evalue": "name 'place_df' is not defined",
          "traceback": [
            "\u001b[1;31m---------------------------------------------------------------------------\u001b[0m",
            "\u001b[1;31mNameError\u001b[0m                                 Traceback (most recent call last)",
            "\u001b[1;32m<ipython-input-1-286123166d55>\u001b[0m in \u001b[0;36m<module>\u001b[1;34m\u001b[0m\n\u001b[1;32m----> 1\u001b[1;33m \u001b[0mplace_df\u001b[0m\u001b[1;33m[\u001b[0m\u001b[1;34m\"Test\"\u001b[0m\u001b[1;33m]\u001b[0m \u001b[1;33m=\u001b[0m \u001b[0mplace_df\u001b[0m\u001b[1;33m.\u001b[0m\u001b[0mConfirmedPerDate\u001b[0m\u001b[1;33m.\u001b[0m\u001b[0mrolling\u001b[0m\u001b[1;33m(\u001b[0m\u001b[1;36m14\u001b[0m\u001b[1;33m,\u001b[0m \u001b[0mcenter\u001b[0m\u001b[1;33m=\u001b[0m\u001b[1;32mTrue\u001b[0m\u001b[1;33m,\u001b[0m \u001b[0mmin_periods\u001b[0m\u001b[1;33m=\u001b[0m\u001b[1;36m1\u001b[0m\u001b[1;33m)\u001b[0m\u001b[1;33m.\u001b[0m\u001b[0mmean\u001b[0m\u001b[1;33m(\u001b[0m\u001b[1;33m)\u001b[0m\u001b[1;33m\u001b[0m\u001b[1;33m\u001b[0m\u001b[0m\n\u001b[0m\u001b[0;32m      2\u001b[0m \u001b[1;31m#place_df[[\"Date\", \"ConfirmedPerDate\", \"Test\"]].tail(20)\u001b[0m\u001b[1;33m\u001b[0m\u001b[1;33m\u001b[0m\u001b[1;33m\u001b[0m\u001b[0m\n\u001b[0;32m      3\u001b[0m \u001b[1;33m\u001b[0m\u001b[0m\n\u001b[0;32m      4\u001b[0m \u001b[1;32mimport\u001b[0m \u001b[0mmatplotlib\u001b[0m\u001b[1;33m.\u001b[0m\u001b[0mpyplot\u001b[0m \u001b[1;32mas\u001b[0m \u001b[0mplt\u001b[0m\u001b[1;33m\u001b[0m\u001b[1;33m\u001b[0m\u001b[0m\n\u001b[0;32m      5\u001b[0m \u001b[1;33m\u001b[0m\u001b[0m\n",
            "\u001b[1;31mNameError\u001b[0m: name 'place_df' is not defined"
          ]
        }
      ],
      "source": [
        "place_df[\"Test\"] = place_df.ConfirmedPerDate.rolling(14, center=True, min_periods=1).mean()\n",
        "#place_df[[\"Date\", \"ConfirmedPerDate\", \"Test\"]].tail(20)\n",
        "\n",
        "import matplotlib.pyplot as plt\n",
        "\n",
        "x = place_df.Zero_Day.values\n",
        "plt.scatter(x, place_df.ConfirmedPerDate)\n",
        "plt.plot(x, place_df.Test)\n",
        "\n",
        "plt.show()"
      ]
    },
    {
      "cell_type": "code",
      "execution_count": 1,
      "metadata": {},
      "outputs": [
        {
          "output_type": "error",
          "ename": "NameError",
          "evalue": "name 'place_df' is not defined",
          "traceback": [
            "\u001b[1;31m---------------------------------------------------------------------------\u001b[0m",
            "\u001b[1;31mNameError\u001b[0m                                 Traceback (most recent call last)",
            "\u001b[1;32m<ipython-input-1-229bc975d611>\u001b[0m in \u001b[0;36m<module>\u001b[1;34m\u001b[0m\n\u001b[0;32m      2\u001b[0m \u001b[1;32mfrom\u001b[0m \u001b[0mscipy\u001b[0m\u001b[1;33m.\u001b[0m\u001b[0moptimize\u001b[0m \u001b[1;32mimport\u001b[0m \u001b[0mfsolve\u001b[0m\u001b[1;33m\u001b[0m\u001b[1;33m\u001b[0m\u001b[0m\n\u001b[0;32m      3\u001b[0m \u001b[1;33m\u001b[0m\u001b[0m\n\u001b[1;32m----> 4\u001b[1;33m \u001b[0mx\u001b[0m \u001b[1;33m=\u001b[0m \u001b[0mplace_df\u001b[0m\u001b[1;33m.\u001b[0m\u001b[0mZero_Day\u001b[0m\u001b[1;33m.\u001b[0m\u001b[0mvalues\u001b[0m\u001b[1;33m\u001b[0m\u001b[1;33m\u001b[0m\u001b[0m\n\u001b[0m\u001b[0;32m      5\u001b[0m \u001b[0my\u001b[0m \u001b[1;33m=\u001b[0m \u001b[0my_fit_var_arr\u001b[0m\u001b[1;33m[\u001b[0m\u001b[1;33m:\u001b[0m\u001b[1;33m,\u001b[0m\u001b[1;36m0\u001b[0m\u001b[1;33m]\u001b[0m\u001b[1;33m\u001b[0m\u001b[1;33m\u001b[0m\u001b[0m\n\u001b[0;32m      6\u001b[0m \u001b[1;33m\u001b[0m\u001b[0m\n",
            "\u001b[1;31mNameError\u001b[0m: name 'place_df' is not defined"
          ]
        }
      ],
      "source": [
        "from scipy.optimize import curve_fit\n",
        "from scipy.optimize import fsolve\n",
        "\n",
        "x = place_df.Zero_Day.values\n",
        "y = y_fit_var_arr[:,0]\n",
        "\n",
        "def logistic_model(x,a,b,c):\n",
        "    return c/(1 + np.exp(-(x - b)/a))\n",
        "\n",
        "init_fit = curve_fit(logistic_model, x, y, p0=[2, 100, 20000])\n",
        "a, b, c = init_fit[0]\n",
        "sol = int(fsolve(lambda x: logistic_model(x, a, b, c) - int(c), b))\n",
        "pred_y = [logistic_model(x_i, a, b, c) for x_i in x]"
      ]
    },
    {
      "cell_type": "code",
      "execution_count": 3,
      "metadata": {},
      "outputs": [
        {
          "output_type": "error",
          "ename": "NameError",
          "evalue": "name 'place_df' is not defined",
          "traceback": [
            "\u001b[1;31m---------------------------------------------------------------------------\u001b[0m",
            "\u001b[1;31mNameError\u001b[0m                                 Traceback (most recent call last)",
            "\u001b[1;32m<ipython-input-3-fb77d0190cb7>\u001b[0m in \u001b[0;36m<module>\u001b[1;34m\u001b[0m\n\u001b[0;32m      2\u001b[0m \u001b[1;32mfrom\u001b[0m \u001b[0mscipy\u001b[0m\u001b[1;33m.\u001b[0m\u001b[0moptimize\u001b[0m \u001b[1;32mimport\u001b[0m \u001b[0mfsolve\u001b[0m\u001b[1;33m\u001b[0m\u001b[1;33m\u001b[0m\u001b[0m\n\u001b[0;32m      3\u001b[0m \u001b[1;33m\u001b[0m\u001b[0m\n\u001b[1;32m----> 4\u001b[1;33m \u001b[0mx\u001b[0m \u001b[1;33m=\u001b[0m \u001b[0mplace_df\u001b[0m\u001b[1;33m.\u001b[0m\u001b[0mZero_Day\u001b[0m\u001b[1;33m.\u001b[0m\u001b[0mvalues\u001b[0m\u001b[1;33m\u001b[0m\u001b[1;33m\u001b[0m\u001b[0m\n\u001b[0m\u001b[0;32m      5\u001b[0m \u001b[0my\u001b[0m \u001b[1;33m=\u001b[0m \u001b[0my_var_arr\u001b[0m\u001b[1;33m[\u001b[0m\u001b[1;33m:\u001b[0m\u001b[1;33m,\u001b[0m \u001b[1;36m0\u001b[0m\u001b[1;33m]\u001b[0m\u001b[1;33m.\u001b[0m\u001b[0mcumsum\u001b[0m\u001b[1;33m(\u001b[0m\u001b[1;33m)\u001b[0m\u001b[1;33m\u001b[0m\u001b[1;33m\u001b[0m\u001b[0m\n\u001b[0;32m      6\u001b[0m \u001b[1;33m\u001b[0m\u001b[0m\n",
            "\u001b[1;31mNameError\u001b[0m: name 'place_df' is not defined"
          ]
        }
      ],
      "source": [
        "from scipy.optimize import minimize\n",
        "from scipy.optimize import fsolve\n",
        "\n",
        "x = place_df.Zero_Day.values\n",
        "y = y_var_arr[:, 0].cumsum()\n",
        "\n",
        "def logistic_model(x, a, b, c):\n",
        "    return c/(1 + np.exp(-(x - b)/a))\n",
        "\n",
        "def aicc_obj_fun(params, x, y):\n",
        "    a, b, c = params\n",
        "    y_pred = [logistic_model(x_i, a, b, c) for x_i in x]\n",
        "    resid_y = y - y_pred\n",
        "    rmse = sum(resid_y**2)**0.5\n",
        "    k = 3 # number of variables to fit\n",
        "    n = len(x)\n",
        "    aic = 2*k - 2*np.log(rmse)\n",
        "    aicc = aic + (2*(k**2) + 2*k)/(n - k - 1)\n",
        "    return rmse\n",
        "\n",
        "init_param = [2, 50, max(y)]\n",
        "result = minimize(aicc_obj_fun, init_param, args=(x, y), method=\"BFGS\", \\\n",
        "                  jac=\"2-point\", options={\"maxiter\": 100, \"disp\": True}, tol=0.01) # \"gtol\": 1e-6, "
      ]
    },
    {
      "cell_type": "code",
      "execution_count": 4,
      "metadata": {},
      "outputs": [
        {
          "output_type": "error",
          "ename": "NameError",
          "evalue": "name 'x' is not defined",
          "traceback": [
            "\u001b[1;31m---------------------------------------------------------------------------\u001b[0m",
            "\u001b[1;31mNameError\u001b[0m                                 Traceback (most recent call last)",
            "\u001b[1;32m<ipython-input-4-7ae621b716b3>\u001b[0m in \u001b[0;36m<module>\u001b[1;34m\u001b[0m\n\u001b[0;32m      1\u001b[0m \u001b[1;32mimport\u001b[0m \u001b[0mmatplotlib\u001b[0m\u001b[1;33m.\u001b[0m\u001b[0mpyplot\u001b[0m \u001b[1;32mas\u001b[0m \u001b[0mplt\u001b[0m\u001b[1;33m\u001b[0m\u001b[1;33m\u001b[0m\u001b[0m\n\u001b[0;32m      2\u001b[0m \u001b[1;33m\u001b[0m\u001b[0m\n\u001b[1;32m----> 3\u001b[1;33m \u001b[0mplt\u001b[0m\u001b[1;33m.\u001b[0m\u001b[0mscatter\u001b[0m\u001b[1;33m(\u001b[0m\u001b[0mx\u001b[0m\u001b[1;33m,\u001b[0m \u001b[0my\u001b[0m\u001b[1;33m)\u001b[0m\u001b[1;33m\u001b[0m\u001b[1;33m\u001b[0m\u001b[0m\n\u001b[0m\u001b[0;32m      4\u001b[0m \u001b[0ma\u001b[0m\u001b[1;33m,\u001b[0m \u001b[0mb\u001b[0m\u001b[1;33m,\u001b[0m \u001b[0mc\u001b[0m \u001b[1;33m=\u001b[0m \u001b[0mresult\u001b[0m\u001b[1;33m.\u001b[0m\u001b[0mx\u001b[0m\u001b[1;33m\u001b[0m\u001b[1;33m\u001b[0m\u001b[0m\n\u001b[0;32m      5\u001b[0m \u001b[0mx_forecast\u001b[0m \u001b[1;33m=\u001b[0m \u001b[0mnp\u001b[0m\u001b[1;33m.\u001b[0m\u001b[0marange\u001b[0m\u001b[1;33m(\u001b[0m\u001b[1;36m0\u001b[0m\u001b[1;33m,\u001b[0m \u001b[0mmax\u001b[0m\u001b[1;33m(\u001b[0m\u001b[0mx\u001b[0m\u001b[1;33m)\u001b[0m \u001b[1;33m+\u001b[0m \u001b[1;36m30\u001b[0m\u001b[1;33m)\u001b[0m\u001b[1;33m\u001b[0m\u001b[1;33m\u001b[0m\u001b[0m\n",
            "\u001b[1;31mNameError\u001b[0m: name 'x' is not defined"
          ]
        }
      ],
      "source": [
        "import matplotlib.pyplot as plt\n",
        "\n",
        "plt.scatter(x, y)\n",
        "a, b, c = result.x\n",
        "x_forecast = np.arange(0, max(x) + 30)\n",
        "plt.plot(x_forecast, [logistic_model(x_i, a, b, c) for x_i in x_forecast])\n",
        "\n",
        "plt.show()"
      ]
    },
    {
      "cell_type": "code",
      "execution_count": 5,
      "metadata": {},
      "outputs": [
        {
          "output_type": "error",
          "ename": "NameError",
          "evalue": "name 'a' is not defined",
          "traceback": [
            "\u001b[1;31m---------------------------------------------------------------------------\u001b[0m",
            "\u001b[1;31mNameError\u001b[0m                                 Traceback (most recent call last)",
            "\u001b[1;32m<ipython-input-5-6fd489e9d195>\u001b[0m in \u001b[0;36m<module>\u001b[1;34m\u001b[0m\n\u001b[1;32m----> 1\u001b[1;33m \u001b[0ma\u001b[0m\u001b[1;33m,\u001b[0m \u001b[0mb\u001b[0m\u001b[1;33m,\u001b[0m \u001b[0mc\u001b[0m\u001b[1;33m\u001b[0m\u001b[1;33m\u001b[0m\u001b[0m\n\u001b[0m",
            "\u001b[1;31mNameError\u001b[0m: name 'a' is not defined"
          ]
        }
      ],
      "source": [
        "a, b, c"
      ]
    },
    {
      "cell_type": "code",
      "execution_count": 6,
      "metadata": {},
      "outputs": [
        {
          "output_type": "error",
          "ename": "NameError",
          "evalue": "name 'np' is not defined",
          "traceback": [
            "\u001b[1;31m---------------------------------------------------------------------------\u001b[0m",
            "\u001b[1;31mNameError\u001b[0m                                 Traceback (most recent call last)",
            "\u001b[1;32m<ipython-input-6-15b08039fb2e>\u001b[0m in \u001b[0;36m<module>\u001b[1;34m\u001b[0m\n\u001b[1;32m----> 1\u001b[1;33m \u001b[0my_cumulative_forecast\u001b[0m \u001b[1;33m=\u001b[0m \u001b[0mnp\u001b[0m\u001b[1;33m.\u001b[0m\u001b[0marray\u001b[0m\u001b[1;33m(\u001b[0m\u001b[1;33m[\u001b[0m\u001b[0mlogistic_model\u001b[0m\u001b[1;33m(\u001b[0m\u001b[0mx_i\u001b[0m\u001b[1;33m,\u001b[0m \u001b[0ma\u001b[0m\u001b[1;33m,\u001b[0m \u001b[0mb\u001b[0m\u001b[1;33m,\u001b[0m \u001b[0mc\u001b[0m\u001b[1;33m)\u001b[0m \u001b[1;32mfor\u001b[0m \u001b[0mx_i\u001b[0m \u001b[1;32min\u001b[0m \u001b[0mx_forecast\u001b[0m\u001b[1;33m]\u001b[0m\u001b[1;33m)\u001b[0m\u001b[1;33m\u001b[0m\u001b[1;33m\u001b[0m\u001b[0m\n\u001b[0m\u001b[0;32m      2\u001b[0m \u001b[0my_per_forecast\u001b[0m \u001b[1;33m=\u001b[0m \u001b[0mnp\u001b[0m\u001b[1;33m.\u001b[0m\u001b[0marray\u001b[0m\u001b[1;33m(\u001b[0m\u001b[1;33m[\u001b[0m\u001b[1;36m0\u001b[0m\u001b[1;33m]\u001b[0m\u001b[1;33m)\u001b[0m\u001b[1;33m\u001b[0m\u001b[1;33m\u001b[0m\u001b[0m\n\u001b[0;32m      3\u001b[0m \u001b[0my_per_forecast\u001b[0m \u001b[1;33m=\u001b[0m \u001b[0mnp\u001b[0m\u001b[1;33m.\u001b[0m\u001b[0mconcatenate\u001b[0m\u001b[1;33m(\u001b[0m\u001b[1;33m[\u001b[0m\u001b[0my_per_forecast\u001b[0m\u001b[1;33m,\u001b[0m \u001b[0my_cumulative_forecast\u001b[0m\u001b[1;33m[\u001b[0m\u001b[1;36m1\u001b[0m\u001b[1;33m:\u001b[0m\u001b[1;33m]\u001b[0m \u001b[1;33m-\u001b[0m \u001b[0my_cumulative_forecast\u001b[0m\u001b[1;33m[\u001b[0m\u001b[1;33m:\u001b[0m\u001b[1;33m-\u001b[0m\u001b[1;36m1\u001b[0m\u001b[1;33m]\u001b[0m\u001b[1;33m]\u001b[0m\u001b[1;33m)\u001b[0m\u001b[1;33m\u001b[0m\u001b[1;33m\u001b[0m\u001b[0m\n\u001b[0;32m      4\u001b[0m \u001b[0mplt\u001b[0m\u001b[1;33m.\u001b[0m\u001b[0mplot\u001b[0m\u001b[1;33m(\u001b[0m\u001b[0mx_forecast\u001b[0m\u001b[1;33m,\u001b[0m \u001b[0my_per_forecast\u001b[0m\u001b[1;33m)\u001b[0m\u001b[1;33m\u001b[0m\u001b[1;33m\u001b[0m\u001b[0m\n\u001b[0;32m      5\u001b[0m \u001b[0mplt\u001b[0m\u001b[1;33m.\u001b[0m\u001b[0mshow\u001b[0m\u001b[1;33m(\u001b[0m\u001b[1;33m)\u001b[0m\u001b[1;33m\u001b[0m\u001b[1;33m\u001b[0m\u001b[0m\n",
            "\u001b[1;31mNameError\u001b[0m: name 'np' is not defined"
          ]
        }
      ],
      "source": [
        "y_cumulative_forecast = np.array([logistic_model(x_i, a, b, c) for x_i in x_forecast])\n",
        "y_per_forecast = np.array([0])\n",
        "y_per_forecast = np.concatenate([y_per_forecast, y_cumulative_forecast[1:] - y_cumulative_forecast[:-1]])\n",
        "plt.plot(x_forecast, y_per_forecast)\n",
        "plt.show()"
      ]
    },
    {
      "cell_type": "code",
      "execution_count": 7,
      "metadata": {},
      "outputs": [
        {
          "output_type": "error",
          "ename": "NameError",
          "evalue": "name 'df' is not defined",
          "traceback": [
            "\u001b[1;31m---------------------------------------------------------------------------\u001b[0m",
            "\u001b[1;31mNameError\u001b[0m                                 Traceback (most recent call last)",
            "\u001b[1;32m<ipython-input-7-f19301d3ab58>\u001b[0m in \u001b[0;36m<module>\u001b[1;34m\u001b[0m\n\u001b[0;32m      3\u001b[0m \u001b[0mcountry\u001b[0m \u001b[1;33m=\u001b[0m \u001b[1;34m\"United States\"\u001b[0m\u001b[1;33m\u001b[0m\u001b[1;33m\u001b[0m\u001b[0m\n\u001b[0;32m      4\u001b[0m \u001b[0mstate\u001b[0m \u001b[1;33m=\u001b[0m \u001b[1;34m\"Indiana\"\u001b[0m\u001b[1;33m\u001b[0m\u001b[1;33m\u001b[0m\u001b[0m\n\u001b[1;32m----> 5\u001b[1;33m \u001b[0mplace_df2\u001b[0m \u001b[1;33m=\u001b[0m \u001b[0mdf\u001b[0m\u001b[1;33m[\u001b[0m\u001b[1;33m(\u001b[0m\u001b[0mdf\u001b[0m\u001b[1;33m[\u001b[0m\u001b[1;34m\"Country/Region\"\u001b[0m\u001b[1;33m]\u001b[0m \u001b[1;33m==\u001b[0m \u001b[0mcountry\u001b[0m\u001b[1;33m)\u001b[0m \u001b[1;33m&\u001b[0m \u001b[1;33m(\u001b[0m\u001b[0mdf\u001b[0m\u001b[1;33m[\u001b[0m\u001b[1;34m\"Province/State\"\u001b[0m\u001b[1;33m]\u001b[0m \u001b[1;33m==\u001b[0m \u001b[0mstate\u001b[0m\u001b[1;33m)\u001b[0m\u001b[1;33m]\u001b[0m\u001b[1;33m.\u001b[0m\u001b[0mgroupby\u001b[0m\u001b[1;33m(\u001b[0m\u001b[1;34m\"Date\"\u001b[0m\u001b[1;33m)\u001b[0m\u001b[1;33m.\u001b[0m\u001b[0msum\u001b[0m\u001b[1;33m(\u001b[0m\u001b[1;33m)\u001b[0m\u001b[1;33m\u001b[0m\u001b[1;33m\u001b[0m\u001b[0m\n\u001b[0m\u001b[0;32m      6\u001b[0m \u001b[0mrecovered\u001b[0m \u001b[1;33m=\u001b[0m \u001b[0mplace_df2\u001b[0m\u001b[1;33m.\u001b[0m\u001b[0mRecovered\u001b[0m\u001b[1;33m.\u001b[0m\u001b[0mvalues\u001b[0m\u001b[1;33m\u001b[0m\u001b[1;33m\u001b[0m\u001b[0m\n\u001b[0;32m      7\u001b[0m \u001b[0mdeath\u001b[0m \u001b[1;33m=\u001b[0m \u001b[0mplace_df2\u001b[0m\u001b[1;33m.\u001b[0m\u001b[0mDeaths\u001b[0m\u001b[1;33m.\u001b[0m\u001b[0mvalues\u001b[0m\u001b[1;33m\u001b[0m\u001b[1;33m\u001b[0m\u001b[0m\n",
            "\u001b[1;31mNameError\u001b[0m: name 'df' is not defined"
          ]
        }
      ],
      "source": [
        "from scipy.integrate import solve_ivp\n",
        "\n",
        "country = \"United States\"\n",
        "state = \"Indiana\"\n",
        "place_df2 = df[(df[\"Country/Region\"] == country) & (df[\"Province/State\"] == state)].groupby(\"Date\").sum()\n",
        "recovered = place_df2.Recovered.values\n",
        "death = place_df2.Deaths.values\n",
        "active_infection = place_df2.Confirmed - recovered - death\n",
        "\n",
        "def loss(point, data, recovered, params):\n",
        "    size = len(data)\n",
        "    beta, gamma = point\n",
        "    s_0, i_0, r_0 = params\n",
        "    def SIR(t, y):\n",
        "        S = y[0]\n",
        "        I = y[1]\n",
        "        R = y[2]\n",
        "        return [-beta*S*I, beta*S*I-gamma*I, gamma*I]\n",
        "    solution = solve_ivp(SIR, [0, size], [s_0,i_0,r_0], t_eval=np.arange(0, size, 1), vectorized=True)\n",
        "    l1 = np.sqrt(np.mean((solution.y[1] - data)**2))\n",
        "    l2 = np.sqrt(np.mean((solution.y[2] - recovered)**2))\n",
        "    alpha = 0.1\n",
        "    return alpha * l1 + (1 - alpha) * l2\n",
        "\n",
        "init_params = [100000, 2, 10] # s0, i0, r0\n",
        "optimal = minimize(loss, [0.001, 0.001], args=(active_infection, recovered, init_params), \\\n",
        "                   method='L-BFGS-B', bounds=[(0.00000001, 0.4), (0.00000001, 0.4)])\n",
        "print(optimal)\n",
        "\n",
        "beta, gamma = optimal.x\n",
        "def SIR(t, y):\n",
        "    S = y[0]\n",
        "    I = y[1]\n",
        "    R = y[2]\n",
        "    return [-beta*S*I, beta*S*I-gamma*I, gamma*I]\n",
        "predict_t_days = len(x) + 30\n",
        "predict_y = solve_ivp(SIR, [0, predict_t_days], init_params, t_eval=np.arange(0, predict_t_days, 1))\n",
        "predict_y"
      ]
    },
    {
      "cell_type": "code",
      "execution_count": 8,
      "metadata": {},
      "outputs": [
        {
          "output_type": "error",
          "ename": "NameError",
          "evalue": "name 'x' is not defined",
          "traceback": [
            "\u001b[1;31m---------------------------------------------------------------------------\u001b[0m",
            "\u001b[1;31mNameError\u001b[0m                                 Traceback (most recent call last)",
            "\u001b[1;32m<ipython-input-8-4f20fad55137>\u001b[0m in \u001b[0;36m<module>\u001b[1;34m\u001b[0m\n\u001b[1;32m----> 1\u001b[1;33m \u001b[0mplt\u001b[0m\u001b[1;33m.\u001b[0m\u001b[0mscatter\u001b[0m\u001b[1;33m(\u001b[0m\u001b[0mx\u001b[0m\u001b[1;33m,\u001b[0m \u001b[0my\u001b[0m\u001b[1;33m)\u001b[0m\u001b[1;33m\u001b[0m\u001b[1;33m\u001b[0m\u001b[0m\n\u001b[0m\u001b[0;32m      2\u001b[0m \u001b[0ma\u001b[0m\u001b[1;33m,\u001b[0m \u001b[0mb\u001b[0m\u001b[1;33m,\u001b[0m \u001b[0mc\u001b[0m \u001b[1;33m=\u001b[0m \u001b[0mresult\u001b[0m\u001b[1;33m.\u001b[0m\u001b[0mx\u001b[0m\u001b[1;33m\u001b[0m\u001b[1;33m\u001b[0m\u001b[0m\n\u001b[0;32m      3\u001b[0m \u001b[0mx_forecast\u001b[0m \u001b[1;33m=\u001b[0m \u001b[0mnp\u001b[0m\u001b[1;33m.\u001b[0m\u001b[0marange\u001b[0m\u001b[1;33m(\u001b[0m\u001b[1;36m0\u001b[0m\u001b[1;33m,\u001b[0m \u001b[0mmax\u001b[0m\u001b[1;33m(\u001b[0m\u001b[0mx\u001b[0m\u001b[1;33m)\u001b[0m \u001b[1;33m+\u001b[0m \u001b[1;36m30\u001b[0m\u001b[1;33m)\u001b[0m\u001b[1;33m\u001b[0m\u001b[1;33m\u001b[0m\u001b[0m\n\u001b[0;32m      4\u001b[0m \u001b[0mplt\u001b[0m\u001b[1;33m.\u001b[0m\u001b[0mplot\u001b[0m\u001b[1;33m(\u001b[0m\u001b[0mnp\u001b[0m\u001b[1;33m.\u001b[0m\u001b[0marange\u001b[0m\u001b[1;33m(\u001b[0m\u001b[1;36m0\u001b[0m\u001b[1;33m,\u001b[0m \u001b[0mpredict_t_days\u001b[0m\u001b[1;33m)\u001b[0m\u001b[1;33m,\u001b[0m \u001b[0mpredict_y\u001b[0m\u001b[1;33m.\u001b[0m\u001b[0my\u001b[0m\u001b[1;33m[\u001b[0m\u001b[1;36m1\u001b[0m\u001b[1;33m,\u001b[0m\u001b[1;33m:\u001b[0m\u001b[1;33m]\u001b[0m\u001b[1;33m)\u001b[0m\u001b[1;33m\u001b[0m\u001b[1;33m\u001b[0m\u001b[0m\n\u001b[0;32m      5\u001b[0m \u001b[1;33m\u001b[0m\u001b[0m\n",
            "\u001b[1;31mNameError\u001b[0m: name 'x' is not defined"
          ]
        }
      ],
      "source": [
        "\n",
        "\n",
        "plt.scatter(x, y)\n",
        "a, b, c = result.x\n",
        "x_forecast = np.arange(0, max(x) + 30)\n",
        "plt.plot(np.arange(0, predict_t_days), predict_y.y[1,:])\n",
        "\n",
        "plt.show()"
      ]
    },
    {
      "cell_type": "code",
      "execution_count": 9,
      "metadata": {},
      "outputs": [
        {
          "output_type": "error",
          "ename": "NameError",
          "evalue": "name 'df' is not defined",
          "traceback": [
            "\u001b[1;31m---------------------------------------------------------------------------\u001b[0m",
            "\u001b[1;31mNameError\u001b[0m                                 Traceback (most recent call last)",
            "\u001b[1;32m<ipython-input-9-2f0cad02e7a4>\u001b[0m in \u001b[0;36m<module>\u001b[1;34m\u001b[0m\n\u001b[0;32m     11\u001b[0m \u001b[1;33m\u001b[0m\u001b[0m\n\u001b[0;32m     12\u001b[0m \u001b[0mplot_var\u001b[0m \u001b[1;33m=\u001b[0m \u001b[1;34m\"Confirmed\"\u001b[0m\u001b[1;33m\u001b[0m\u001b[1;33m\u001b[0m\u001b[0m\n\u001b[1;32m---> 13\u001b[1;33m us_df = df[(df[\"Country/Region\"] == \"United States\") & \\\n\u001b[0m\u001b[0;32m     14\u001b[0m                   (df.Date == pd.datetime(2020, 4, 12))]\n\u001b[0;32m     15\u001b[0m \u001b[1;33m\u001b[0m\u001b[0m\n",
            "\u001b[1;31mNameError\u001b[0m: name 'df' is not defined"
          ]
        }
      ],
      "source": [
        "from urllib.request import urlopen\n",
        "import json\n",
        "with urlopen('https://raw.githubusercontent.com/plotly/datasets/master/geojson-counties-fips.json') as response:\n",
        "    counties = json.load(response)\n",
        "\n",
        "import pandas as pd\n",
        "test_df = pd.read_csv(\"https://raw.githubusercontent.com/plotly/datasets/master/fips-unemp-16.csv\",\n",
        "                   dtype={\"fips\": str})\n",
        "\n",
        "import plotly.graph_objects as go\n",
        "\n",
        "plot_var = \"Confirmed\"\n",
        "us_df = df[(df[\"Country/Region\"] == \"United States\") & \\\n",
        "                  (df.Date == pd.datetime(2020, 4, 12))]\n",
        "\n",
        "fig = go.Figure(data=go.Choroplethmapbox(geojson=counties, locations=us_df.FIPS, \n",
        "                                         z=np.log10(us_df[plot_var]),\n",
        "                                         customdata=us_df[plot_var],\n",
        "                                         name=\"\",\n",
        "                                         text=us_df.County.astype(str) + \", \" + \\\n",
        "                                              us_df[\"Province/State\"].astype(str),\n",
        "                                         hovertemplate=\"%{text}<br>%{customdata}\",\n",
        "                                         colorbar=dict(outlinewidth=1,\n",
        "                                                       outlinecolor=\"#333333\",\n",
        "                                                       #borderwidth=1,\n",
        "                                                       xpad=10,\n",
        "                                                       xanchor=\"right\",\n",
        "                                                       bgcolor=None, #\"#CBCCCC\",\n",
        "                                                       tickvals=[0,2,4,6],\n",
        "                                                       ticktext=[\"1\", \"100\", \"10K\", \"1M\"],\n",
        "                                                       tickcolor=\"#333333\",\n",
        "                                                       tickwidth=2,\n",
        "                                                       tickfont=dict(color=\"#333333\",\n",
        "                                                                     size=12)),\n",
        "                                         colorscale=\"ylorrd\",\n",
        "                                         #reversescale=True,\n",
        "                                         marker_opacity=0.7,\n",
        "                                         marker_line_width=0))\n",
        "\n",
        "token = open(r\"C:\\Users\\adiad\\Anaconda3\\envs\\CovidApp\\covidapp\\data_clean\\.mapbox_token\").read()\n",
        "fig.update_layout(mapbox_style=\"light\", mapbox_zoom=3,\n",
        "                  mapbox_accesstoken=token,\n",
        "                  mapbox_center={\"lat\": 37.0902, \"lon\": -95.7129},\n",
        "                  margin={\"r\":0,\"t\":0,\"l\":0,\"b\":0},\n",
        "                  plot_bgcolor=None) #, clickmode=\"select\"\n",
        "\n",
        "fig.show()"
      ]
    },
    {
      "cell_type": "code",
      "execution_count": 10,
      "metadata": {},
      "outputs": [
        {
          "output_type": "error",
          "ename": "NameError",
          "evalue": "name 'df' is not defined",
          "traceback": [
            "\u001b[1;31m---------------------------------------------------------------------------\u001b[0m",
            "\u001b[1;31mNameError\u001b[0m                                 Traceback (most recent call last)",
            "\u001b[1;32m<ipython-input-10-5275f1cae9b7>\u001b[0m in \u001b[0;36m<module>\u001b[1;34m\u001b[0m\n\u001b[0;32m     17\u001b[0m \u001b[1;33m\u001b[0m\u001b[0m\n\u001b[0;32m     18\u001b[0m \u001b[0mplot_var\u001b[0m \u001b[1;33m=\u001b[0m \u001b[1;34m\"Confirmed\"\u001b[0m\u001b[1;33m\u001b[0m\u001b[1;33m\u001b[0m\u001b[0m\n\u001b[1;32m---> 19\u001b[1;33m us_df = df[(df[\"Country/Region\"] == \"United States\") & \\\n\u001b[0m\u001b[0;32m     20\u001b[0m            (df.Date > pd.datetime(2020, 3, 21))]\n\u001b[0;32m     21\u001b[0m \u001b[0mdays\u001b[0m \u001b[1;33m=\u001b[0m \u001b[0mnp\u001b[0m\u001b[1;33m.\u001b[0m\u001b[0msort\u001b[0m\u001b[1;33m(\u001b[0m\u001b[0mus_df\u001b[0m\u001b[1;33m.\u001b[0m\u001b[0mDate\u001b[0m\u001b[1;33m.\u001b[0m\u001b[0munique\u001b[0m\u001b[1;33m(\u001b[0m\u001b[1;33m)\u001b[0m\u001b[1;33m)\u001b[0m\u001b[1;33m\u001b[0m\u001b[1;33m\u001b[0m\u001b[0m\n",
            "\u001b[1;31mNameError\u001b[0m: name 'df' is not defined"
          ]
        }
      ],
      "source": [
        "from urllib.request import urlopen\n",
        "import json\n",
        "with urlopen('https://raw.githubusercontent.com/plotly/datasets/master/geojson-counties-fips.json') as response:\n",
        "    counties = json.load(response)\n",
        "\n",
        "import pandas as pd\n",
        "test_df = pd.read_csv(\"https://raw.githubusercontent.com/plotly/datasets/master/fips-unemp-16.csv\",\n",
        "                   dtype={\"fips\": str})\n",
        "\n",
        "import plotly.graph_objects as go\n",
        "import datetime as dt\n",
        "\n",
        "def numpy_dt64_to_str(dt64):\n",
        "    day_timestamp_dt = (dt64 - np.datetime64('1970-01-01T00:00:00Z')) / np.timedelta64(1, 's')\n",
        "    day_dt = dt.datetime.utcfromtimestamp(day_timestamp_dt)\n",
        "    return day_dt.strftime(\"%b %d\")\n",
        "\n",
        "plot_var = \"Confirmed\"\n",
        "us_df = df[(df[\"Country/Region\"] == \"United States\") & \\\n",
        "           (df.Date > pd.datetime(2020, 3, 21))]\n",
        "days = np.sort(us_df.Date.unique())\n",
        "plot_df = us_df[us_df.Date == days[-1]]\n",
        "\n",
        "fig_data =go.Choroplethmapbox(geojson=counties, locations=plot_df.FIPS, \n",
        "                              z=np.log10(plot_df[plot_var]),\n",
        "                              customdata=plot_df[plot_var],\n",
        "                              name=\"\",\n",
        "                              text=plot_df.County.astype(str) + \", \" + \\\n",
        "                                   plot_df[\"Province/State\"].astype(str),\n",
        "                              hovertemplate=\"%{text}<br>%{customdata}\",\n",
        "                              colorbar=dict(outlinewidth=1,\n",
        "                                            outlinecolor=\"#333333\",\n",
        "                                            #borderwidth=1,\n",
        "                                            xpad=10,\n",
        "                                            xanchor=\"right\",\n",
        "                                            bgcolor=None, #\"#CBCCCC\",\n",
        "                                            tickvals=[0,2,4,6],\n",
        "                                            ticktext=[\"1\", \"100\", \"10K\", \"1M\"],\n",
        "                                            tickcolor=\"#333333\",\n",
        "                                            tickwidth=2,\n",
        "                                            tickfont=dict(color=\"#333333\",\n",
        "                                                          size=12)),\n",
        "                              colorscale=\"ylorrd\",\n",
        "                              #reversescale=True,\n",
        "                              marker_opacity=0.7,\n",
        "                              marker_line_width=0)\n",
        "\n",
        "token = open(r\"C:\\Users\\adiad\\Anaconda3\\envs\\CovidApp\\covidapp\\data_clean\\.mapbox_token\").read()\n",
        "fig_layout = go.Layout(mapbox_style=\"light\", mapbox_zoom=3,\n",
        "                       mapbox_accesstoken=token,\n",
        "                       mapbox_center={\"lat\": 37.0902, \"lon\": -95.7129},\n",
        "                       margin={\"r\":0,\"t\":0,\"l\":0,\"b\":0},\n",
        "                       plot_bgcolor=None) #, clickmode=\"select\"\n",
        "\n",
        "fig_layout[\"updatemenus\"] = [dict(buttons=[dict(args=[None,\n",
        "                                                      dict(frame=dict(duration=500,\n",
        "                                                                      redraw=False),\n",
        "                                                           fromcurrent=True,\n",
        "                                                           transition=dict(duration=300,\n",
        "                                                                           easing=\"quadratic-in-out\"))],\n",
        "                                                label=\"Play\",\n",
        "                                                method=\"animate\"),\n",
        "                                           dict(args=[[None],\n",
        "                                                      dict(frame=dict(duration=0,\n",
        "                                                                      redraw=False),\n",
        "                                                           mode=\"immediate\",\n",
        "                                                           transition=dict(duration=0))],\n",
        "                                                label=\"Pause\",\n",
        "                                                method=\"animate\")],\n",
        "                                  direction=\"left\",\n",
        "                                  pad={\"r\": 10, \"t\": 87},\n",
        "                                  showactive=False,\n",
        "                                  type=\"buttons\",\n",
        "                                  x=0.1,\n",
        "                                  xanchor=\"right\",\n",
        "                                  y=0,\n",
        "                                  yanchor=\"top\")]\n",
        "\n",
        "sliders_dict = dict(active=0,\n",
        "                    #initialValue=np.datetime_as_string(days[-1]),\n",
        "                    #plotlycommand=\"animate\",\n",
        "                    #values=days,\n",
        "                    visible=True,\n",
        "                    yanchor=\"top\",\n",
        "                    xanchor=\"left\",\n",
        "                    currentvalue=dict(font=dict(size=20),\n",
        "                                      prefix=\"Date:\",\n",
        "                                      visible=True,\n",
        "                                      xanchor=\"right\"),\n",
        "                    transition=dict(duration=300,\n",
        "                                    easing=\"cubic-in-out\"),\n",
        "                    pad=dict(b=10,\n",
        "                             t=50),\n",
        "                    len=0.9,\n",
        "                    x=0.1,\n",
        "                    y=0,\n",
        "                    steps=[])\n",
        "\n",
        "fig_frames = []\n",
        "for day in days:\n",
        "    plot_df = us_df[us_df.Date == day]\n",
        "    frame = go.Frame(data=[go.Choroplethmapbox(z=np.log10(plot_df[plot_var]),\n",
        "                                               customdata=plot_df[plot_var],\n",
        "                                               name=\"\",\n",
        "                                               text=plot_df.County.astype(str) + \", \" + \\\n",
        "                                                    plot_df[\"Province/State\"].astype(str),\n",
        "                                               hovertemplate=\"%{text}<br>%{customdata}\")],\n",
        "                     name=numpy_dt64_to_str(day))\n",
        "    fig_frames.append(frame)\n",
        "\n",
        "    slider_step = dict(args=[[day],\n",
        "                             dict(frame=dict(duration=300,\n",
        "                                             redraw=False),\n",
        "                                  mode=\"immediate\",\n",
        "                                  transition=dict(duration=300))],\n",
        "                       label=numpy_dt64_to_str(day),\n",
        "                       method=\"animate\")\n",
        "    sliders_dict[\"steps\"].append(slider_step)\n",
        "\n",
        "fig_layout.update(sliders=[sliders_dict])\n",
        "\n",
        "# Plot the figure \n",
        "fig=go.Figure(data=fig_data, layout=fig_layout, frames=fig_frames)\n",
        "#import plotly.io as pio\n",
        "#pio.renderers.default = \"browser\"  ##offline plot\n",
        "fig.show()"
      ]
    },
    {
      "cell_type": "code",
      "execution_count": 26,
      "metadata": {},
      "outputs": [
        {
          "output_type": "display_data",
          "data": {
            "application/vnd.plotly.v1+json": {
              "config": {
                "plotlyServerURL": "https://plot.ly"
              },
              "data": [
                {
                  "autocolorscale": false,
                  "colorbar": {
                    "title": {
                      "text": "Millions USD"
                    }
                  },
                  "colorscale": [
                    [
                      0,
                      "rgb(255,245,240)"
                    ],
                    [
                      0.125,
                      "rgb(254,224,210)"
                    ],
                    [
                      0.25,
                      "rgb(252,187,161)"
                    ],
                    [
                      0.375,
                      "rgb(252,146,114)"
                    ],
                    [
                      0.5,
                      "rgb(251,106,74)"
                    ],
                    [
                      0.625,
                      "rgb(239,59,44)"
                    ],
                    [
                      0.75,
                      "rgb(203,24,29)"
                    ],
                    [
                      0.875,
                      "rgb(165,15,21)"
                    ],
                    [
                      1,
                      "rgb(103,0,13)"
                    ]
                  ],
                  "locationmode": "USA-states",
                  "locations": [
                    "AL",
                    "AK",
                    "AZ",
                    "AR",
                    "CA",
                    "CO",
                    "CT",
                    "DE",
                    "FL",
                    "GA",
                    "HI",
                    "ID",
                    "IL",
                    "IN",
                    "IA",
                    "KS",
                    "KY",
                    "LA",
                    "ME",
                    "MD",
                    "MA",
                    "MI",
                    "MN",
                    "MS",
                    "MO",
                    "MT",
                    "NE",
                    "NV",
                    "NH",
                    "NJ",
                    "NM",
                    "NY",
                    "NC",
                    "ND",
                    "OH",
                    "OK",
                    "OR",
                    "PA",
                    "RI",
                    "SC",
                    "SD",
                    "TN",
                    "TX",
                    "UT",
                    "VT",
                    "VA",
                    "WA",
                    "WV",
                    "WI",
                    "WY"
                  ],
                  "marker": {
                    "line": {
                      "color": "white"
                    }
                  },
                  "text": [
                    "Alabama<br>Beef 34.4 Dairy 4.06<br>Fruits 25.11 Veggies 14.33<br>Wheat 70.0 Corn 34.9",
                    "Alaska<br>Beef 0.2 Dairy 0.19<br>Fruits 0.0 Veggies 1.56<br>Wheat 0.0 Corn 0.0",
                    "Arizona<br>Beef 71.3 Dairy 105.48<br>Fruits 60.27 Veggies 386.91<br>Wheat 48.7 Corn 7.3",
                    "Arkansas<br>Beef 53.2 Dairy 3.53<br>Fruits 6.88 Veggies 11.45<br>Wheat 114.5 Corn 69.5",
                    "California<br>Beef 228.7 Dairy 929.95<br>Fruits 8736.4 Veggies 2106.79<br>Wheat 249.3 Corn 34.6",
                    "Colorado<br>Beef 261.4 Dairy 71.94<br>Fruits 17.99 Veggies 118.27<br>Wheat 400.5 Corn 183.2",
                    "Connecticut<br>Beef 1.1 Dairy 9.49<br>Fruits 13.1 Veggies 11.16<br>Wheat 0.0 Corn 0.0",
                    "Delaware<br>Beef 0.4 Dairy 2.3<br>Fruits 1.53 Veggies 20.03<br>Wheat 22.9 Corn 26.9",
                    "Florida<br>Beef 42.6 Dairy 66.31<br>Fruits 1371.36 Veggies 450.86<br>Wheat 1.8 Corn 3.5",
                    "Georgia<br>Beef 31.0 Dairy 38.38<br>Fruits 233.51 Veggies 154.77<br>Wheat 65.4 Corn 57.8",
                    "Hawaii<br>Beef 4.0 Dairy 1.16<br>Fruits 55.51 Veggies 24.83<br>Wheat 0.0 Corn 0.0",
                    "Idaho<br>Beef 119.8 Dairy 294.6<br>Fruits 21.64 Veggies 319.19<br>Wheat 568.2 Corn 24.0",
                    "Illinois<br>Beef 53.7 Dairy 45.82<br>Fruits 12.53 Veggies 39.95<br>Wheat 223.8 Corn 2228.5",
                    "Indiana<br>Beef 21.9 Dairy 89.7<br>Fruits 12.98 Veggies 37.89<br>Wheat 114.0 Corn 1123.2",
                    "Iowa<br>Beef 289.8 Dairy 107.0<br>Fruits 3.24 Veggies 7.1<br>Wheat 3.1 Corn 2529.8",
                    "Kansas<br>Beef 659.3 Dairy 65.45<br>Fruits 3.11 Veggies 9.32<br>Wheat 1426.5 Corn 457.3",
                    "Kentucky<br>Beef 54.8 Dairy 28.27<br>Fruits 6.6 Veggies 0.0<br>Wheat 149.3 Corn 179.1",
                    "Louisiana<br>Beef 19.8 Dairy 6.02<br>Fruits 17.83 Veggies 17.25<br>Wheat 78.7 Corn 91.4",
                    "Maine<br>Beef 1.4 Dairy 16.18<br>Fruits 52.01 Veggies 62.9<br>Wheat 0.0 Corn 0.0",
                    "Maryland<br>Beef 5.6 Dairy 24.81<br>Fruits 12.9 Veggies 20.43<br>Wheat 55.8 Corn 54.1",
                    "Massachusetts<br>Beef 0.6 Dairy 5.81<br>Fruits 80.83 Veggies 21.13<br>Wheat 0.0 Corn 0.0",
                    "Michigan<br>Beef 37.7 Dairy 214.82<br>Fruits 257.69 Veggies 189.96<br>Wheat 247.0 Corn 381.5",
                    "Minnesota<br>Beef 112.3 Dairy 218.05<br>Fruits 7.91 Veggies 120.37<br>Wheat 538.1 Corn 1264.3",
                    "Mississippi<br>Beef 12.8 Dairy 5.45<br>Fruits 17.04 Veggies 27.87<br>Wheat 102.2 Corn 110.0",
                    "Missouri<br>Beef 137.2 Dairy 34.26<br>Fruits 13.18 Veggies 17.9<br>Wheat 161.7 Corn 428.8",
                    "Montana<br>Beef 105.0 Dairy 6.82<br>Fruits 3.3 Veggies 45.27<br>Wheat 1198.1 Corn 5.4",
                    "Nebraska<br>Beef 762.2 Dairy 30.07<br>Fruits 2.16 Veggies 53.5<br>Wheat 292.3 Corn 1735.9",
                    "Nevada<br>Beef 21.8 Dairy 16.57<br>Fruits 1.19 Veggies 27.93<br>Wheat 5.4 Corn 0.0",
                    "New Hampshire<br>Beef 0.6 Dairy 7.46<br>Fruits 7.98 Veggies 4.5<br>Wheat 0.0 Corn 0.0",
                    "New Jersey<br>Beef 0.8 Dairy 3.37<br>Fruits 109.45 Veggies 56.54<br>Wheat 6.7 Corn 10.1",
                    "New Mexico<br>Beef 117.2 Dairy 191.01<br>Fruits 101.9 Veggies 43.88<br>Wheat 13.9 Corn 11.2",
                    "New York<br>Beef 22.2 Dairy 331.8<br>Fruits 202.56 Veggies 143.37<br>Wheat 29.9 Corn 106.1",
                    "North Carolina<br>Beef 24.8 Dairy 24.9<br>Fruits 74.47 Veggies 150.45<br>Wheat 200.3 Corn 92.2",
                    "North Dakota<br>Beef 78.5 Dairy 8.14<br>Fruits 0.25 Veggies 130.79<br>Wheat 1664.5 Corn 236.1",
                    "Ohio<br>Beef 36.2 Dairy 134.57<br>Fruits 27.21 Veggies 53.53<br>Wheat 207.4 Corn 535.1",
                    "Oklahoma<br>Beef 337.6 Dairy 24.35<br>Fruits 9.24 Veggies 8.9<br>Wheat 324.8 Corn 27.5",
                    "Oregon<br>Beef 58.8 Dairy 63.66<br>Fruits 315.04 Veggies 126.5<br>Wheat 320.3 Corn 11.7",
                    "Pennsylvania<br>Beef 50.9 Dairy 280.87<br>Fruits 89.48 Veggies 38.26<br>Wheat 41.0 Corn 112.1",
                    "Rhode Island<br>Beef 0.1 Dairy 0.52<br>Fruits 2.83 Veggies 3.02<br>Wheat 0.0 Corn 0.0",
                    "South Carolina<br>Beef 15.2 Dairy 7.62<br>Fruits 53.45 Veggies 42.66<br>Wheat 55.3 Corn 32.1",
                    "South Dakota<br>Beef 193.5 Dairy 46.77<br>Fruits 0.8 Veggies 4.06<br>Wheat 704.5 Corn 643.6",
                    "Tennessee<br>Beef 51.1 Dairy 21.18<br>Fruits 6.23 Veggies 24.67<br>Wheat 100.0 Corn 88.8",
                    "Texas<br>Beef 961.0 Dairy 240.55<br>Fruits 99.9 Veggies 115.23<br>Wheat 309.7 Corn 167.2",
                    "Utah<br>Beef 27.9 Dairy 48.6<br>Fruits 12.34 Veggies 6.6<br>Wheat 42.8 Corn 5.3",
                    "Vermont<br>Beef 6.2 Dairy 65.98<br>Fruits 8.01 Veggies 4.05<br>Wheat 0.0 Corn 0.0",
                    "Virginia<br>Beef 39.5 Dairy 47.85<br>Fruits 36.48 Veggies 27.25<br>Wheat 77.5 Corn 39.5",
                    "Washington<br>Beef 59.2 Dairy 154.18<br>Fruits 1738.57 Veggies 363.79<br>Wheat 786.3 Corn 29.5",
                    "West Virginia<br>Beef 12.0 Dairy 3.9<br>Fruits 11.54 Veggies 0.0<br>Wheat 1.6 Corn 3.5",
                    "Wisconsin<br>Beef 107.3 Dairy 633.6<br>Fruits 133.8 Veggies 148.99<br>Wheat 96.7 Corn 460.5",
                    "Wyoming<br>Beef 75.1 Dairy 2.89<br>Fruits 0.17 Veggies 10.23<br>Wheat 20.7 Corn 9.0"
                  ],
                  "type": "choropleth",
                  "z": [
                    1390.63,
                    13.31,
                    1463.17,
                    3586.02,
                    16472.88,
                    1851.33,
                    259.62,
                    282.19,
                    3764.09,
                    2860.84,
                    401.84,
                    2078.89,
                    8709.48,
                    5050.23,
                    11273.76,
                    4589.01,
                    1889.15,
                    1914.23,
                    278.37,
                    692.75,
                    248.65,
                    3164.16,
                    7192.33,
                    2170.8,
                    3933.42,
                    1718,
                    7114.13,
                    139.89,
                    73.06,
                    500.4,
                    751.58,
                    1488.9,
                    3806.05,
                    3761.96,
                    3979.79,
                    1646.41,
                    1794.57,
                    1969.87,
                    31.59,
                    929.93,
                    3770.19,
                    1535.13,
                    6648.22,
                    453.39,
                    180.14,
                    1146.48,
                    3894.81,
                    138.89,
                    3090.23,
                    349.69
                  ]
                }
              ],
              "layout": {
                "geo": {
                  "lakecolor": "rgb(255, 255, 255)",
                  "projection": {
                    "type": "albers usa"
                  },
                  "scope": "usa",
                  "showlakes": true
                },
                "template": {
                  "data": {
                    "bar": [
                      {
                        "error_x": {
                          "color": "#2a3f5f"
                        },
                        "error_y": {
                          "color": "#2a3f5f"
                        },
                        "marker": {
                          "line": {
                            "color": "#E5ECF6",
                            "width": 0.5
                          }
                        },
                        "type": "bar"
                      }
                    ],
                    "barpolar": [
                      {
                        "marker": {
                          "line": {
                            "color": "#E5ECF6",
                            "width": 0.5
                          }
                        },
                        "type": "barpolar"
                      }
                    ],
                    "carpet": [
                      {
                        "aaxis": {
                          "endlinecolor": "#2a3f5f",
                          "gridcolor": "white",
                          "linecolor": "white",
                          "minorgridcolor": "white",
                          "startlinecolor": "#2a3f5f"
                        },
                        "baxis": {
                          "endlinecolor": "#2a3f5f",
                          "gridcolor": "white",
                          "linecolor": "white",
                          "minorgridcolor": "white",
                          "startlinecolor": "#2a3f5f"
                        },
                        "type": "carpet"
                      }
                    ],
                    "choropleth": [
                      {
                        "colorbar": {
                          "outlinewidth": 0,
                          "ticks": ""
                        },
                        "type": "choropleth"
                      }
                    ],
                    "contour": [
                      {
                        "colorbar": {
                          "outlinewidth": 0,
                          "ticks": ""
                        },
                        "colorscale": [
                          [
                            0,
                            "#0d0887"
                          ],
                          [
                            0.1111111111111111,
                            "#46039f"
                          ],
                          [
                            0.2222222222222222,
                            "#7201a8"
                          ],
                          [
                            0.3333333333333333,
                            "#9c179e"
                          ],
                          [
                            0.4444444444444444,
                            "#bd3786"
                          ],
                          [
                            0.5555555555555556,
                            "#d8576b"
                          ],
                          [
                            0.6666666666666666,
                            "#ed7953"
                          ],
                          [
                            0.7777777777777778,
                            "#fb9f3a"
                          ],
                          [
                            0.8888888888888888,
                            "#fdca26"
                          ],
                          [
                            1,
                            "#f0f921"
                          ]
                        ],
                        "type": "contour"
                      }
                    ],
                    "contourcarpet": [
                      {
                        "colorbar": {
                          "outlinewidth": 0,
                          "ticks": ""
                        },
                        "type": "contourcarpet"
                      }
                    ],
                    "heatmap": [
                      {
                        "colorbar": {
                          "outlinewidth": 0,
                          "ticks": ""
                        },
                        "colorscale": [
                          [
                            0,
                            "#0d0887"
                          ],
                          [
                            0.1111111111111111,
                            "#46039f"
                          ],
                          [
                            0.2222222222222222,
                            "#7201a8"
                          ],
                          [
                            0.3333333333333333,
                            "#9c179e"
                          ],
                          [
                            0.4444444444444444,
                            "#bd3786"
                          ],
                          [
                            0.5555555555555556,
                            "#d8576b"
                          ],
                          [
                            0.6666666666666666,
                            "#ed7953"
                          ],
                          [
                            0.7777777777777778,
                            "#fb9f3a"
                          ],
                          [
                            0.8888888888888888,
                            "#fdca26"
                          ],
                          [
                            1,
                            "#f0f921"
                          ]
                        ],
                        "type": "heatmap"
                      }
                    ],
                    "heatmapgl": [
                      {
                        "colorbar": {
                          "outlinewidth": 0,
                          "ticks": ""
                        },
                        "colorscale": [
                          [
                            0,
                            "#0d0887"
                          ],
                          [
                            0.1111111111111111,
                            "#46039f"
                          ],
                          [
                            0.2222222222222222,
                            "#7201a8"
                          ],
                          [
                            0.3333333333333333,
                            "#9c179e"
                          ],
                          [
                            0.4444444444444444,
                            "#bd3786"
                          ],
                          [
                            0.5555555555555556,
                            "#d8576b"
                          ],
                          [
                            0.6666666666666666,
                            "#ed7953"
                          ],
                          [
                            0.7777777777777778,
                            "#fb9f3a"
                          ],
                          [
                            0.8888888888888888,
                            "#fdca26"
                          ],
                          [
                            1,
                            "#f0f921"
                          ]
                        ],
                        "type": "heatmapgl"
                      }
                    ],
                    "histogram": [
                      {
                        "marker": {
                          "colorbar": {
                            "outlinewidth": 0,
                            "ticks": ""
                          }
                        },
                        "type": "histogram"
                      }
                    ],
                    "histogram2d": [
                      {
                        "colorbar": {
                          "outlinewidth": 0,
                          "ticks": ""
                        },
                        "colorscale": [
                          [
                            0,
                            "#0d0887"
                          ],
                          [
                            0.1111111111111111,
                            "#46039f"
                          ],
                          [
                            0.2222222222222222,
                            "#7201a8"
                          ],
                          [
                            0.3333333333333333,
                            "#9c179e"
                          ],
                          [
                            0.4444444444444444,
                            "#bd3786"
                          ],
                          [
                            0.5555555555555556,
                            "#d8576b"
                          ],
                          [
                            0.6666666666666666,
                            "#ed7953"
                          ],
                          [
                            0.7777777777777778,
                            "#fb9f3a"
                          ],
                          [
                            0.8888888888888888,
                            "#fdca26"
                          ],
                          [
                            1,
                            "#f0f921"
                          ]
                        ],
                        "type": "histogram2d"
                      }
                    ],
                    "histogram2dcontour": [
                      {
                        "colorbar": {
                          "outlinewidth": 0,
                          "ticks": ""
                        },
                        "colorscale": [
                          [
                            0,
                            "#0d0887"
                          ],
                          [
                            0.1111111111111111,
                            "#46039f"
                          ],
                          [
                            0.2222222222222222,
                            "#7201a8"
                          ],
                          [
                            0.3333333333333333,
                            "#9c179e"
                          ],
                          [
                            0.4444444444444444,
                            "#bd3786"
                          ],
                          [
                            0.5555555555555556,
                            "#d8576b"
                          ],
                          [
                            0.6666666666666666,
                            "#ed7953"
                          ],
                          [
                            0.7777777777777778,
                            "#fb9f3a"
                          ],
                          [
                            0.8888888888888888,
                            "#fdca26"
                          ],
                          [
                            1,
                            "#f0f921"
                          ]
                        ],
                        "type": "histogram2dcontour"
                      }
                    ],
                    "mesh3d": [
                      {
                        "colorbar": {
                          "outlinewidth": 0,
                          "ticks": ""
                        },
                        "type": "mesh3d"
                      }
                    ],
                    "parcoords": [
                      {
                        "line": {
                          "colorbar": {
                            "outlinewidth": 0,
                            "ticks": ""
                          }
                        },
                        "type": "parcoords"
                      }
                    ],
                    "pie": [
                      {
                        "automargin": true,
                        "type": "pie"
                      }
                    ],
                    "scatter": [
                      {
                        "marker": {
                          "colorbar": {
                            "outlinewidth": 0,
                            "ticks": ""
                          }
                        },
                        "type": "scatter"
                      }
                    ],
                    "scatter3d": [
                      {
                        "line": {
                          "colorbar": {
                            "outlinewidth": 0,
                            "ticks": ""
                          }
                        },
                        "marker": {
                          "colorbar": {
                            "outlinewidth": 0,
                            "ticks": ""
                          }
                        },
                        "type": "scatter3d"
                      }
                    ],
                    "scattercarpet": [
                      {
                        "marker": {
                          "colorbar": {
                            "outlinewidth": 0,
                            "ticks": ""
                          }
                        },
                        "type": "scattercarpet"
                      }
                    ],
                    "scattergeo": [
                      {
                        "marker": {
                          "colorbar": {
                            "outlinewidth": 0,
                            "ticks": ""
                          }
                        },
                        "type": "scattergeo"
                      }
                    ],
                    "scattergl": [
                      {
                        "marker": {
                          "colorbar": {
                            "outlinewidth": 0,
                            "ticks": ""
                          }
                        },
                        "type": "scattergl"
                      }
                    ],
                    "scattermapbox": [
                      {
                        "marker": {
                          "colorbar": {
                            "outlinewidth": 0,
                            "ticks": ""
                          }
                        },
                        "type": "scattermapbox"
                      }
                    ],
                    "scatterpolar": [
                      {
                        "marker": {
                          "colorbar": {
                            "outlinewidth": 0,
                            "ticks": ""
                          }
                        },
                        "type": "scatterpolar"
                      }
                    ],
                    "scatterpolargl": [
                      {
                        "marker": {
                          "colorbar": {
                            "outlinewidth": 0,
                            "ticks": ""
                          }
                        },
                        "type": "scatterpolargl"
                      }
                    ],
                    "scatterternary": [
                      {
                        "marker": {
                          "colorbar": {
                            "outlinewidth": 0,
                            "ticks": ""
                          }
                        },
                        "type": "scatterternary"
                      }
                    ],
                    "surface": [
                      {
                        "colorbar": {
                          "outlinewidth": 0,
                          "ticks": ""
                        },
                        "colorscale": [
                          [
                            0,
                            "#0d0887"
                          ],
                          [
                            0.1111111111111111,
                            "#46039f"
                          ],
                          [
                            0.2222222222222222,
                            "#7201a8"
                          ],
                          [
                            0.3333333333333333,
                            "#9c179e"
                          ],
                          [
                            0.4444444444444444,
                            "#bd3786"
                          ],
                          [
                            0.5555555555555556,
                            "#d8576b"
                          ],
                          [
                            0.6666666666666666,
                            "#ed7953"
                          ],
                          [
                            0.7777777777777778,
                            "#fb9f3a"
                          ],
                          [
                            0.8888888888888888,
                            "#fdca26"
                          ],
                          [
                            1,
                            "#f0f921"
                          ]
                        ],
                        "type": "surface"
                      }
                    ],
                    "table": [
                      {
                        "cells": {
                          "fill": {
                            "color": "#EBF0F8"
                          },
                          "line": {
                            "color": "white"
                          }
                        },
                        "header": {
                          "fill": {
                            "color": "#C8D4E3"
                          },
                          "line": {
                            "color": "white"
                          }
                        },
                        "type": "table"
                      }
                    ]
                  },
                  "layout": {
                    "annotationdefaults": {
                      "arrowcolor": "#2a3f5f",
                      "arrowhead": 0,
                      "arrowwidth": 1
                    },
                    "coloraxis": {
                      "colorbar": {
                        "outlinewidth": 0,
                        "ticks": ""
                      }
                    },
                    "colorscale": {
                      "diverging": [
                        [
                          0,
                          "#8e0152"
                        ],
                        [
                          0.1,
                          "#c51b7d"
                        ],
                        [
                          0.2,
                          "#de77ae"
                        ],
                        [
                          0.3,
                          "#f1b6da"
                        ],
                        [
                          0.4,
                          "#fde0ef"
                        ],
                        [
                          0.5,
                          "#f7f7f7"
                        ],
                        [
                          0.6,
                          "#e6f5d0"
                        ],
                        [
                          0.7,
                          "#b8e186"
                        ],
                        [
                          0.8,
                          "#7fbc41"
                        ],
                        [
                          0.9,
                          "#4d9221"
                        ],
                        [
                          1,
                          "#276419"
                        ]
                      ],
                      "sequential": [
                        [
                          0,
                          "#0d0887"
                        ],
                        [
                          0.1111111111111111,
                          "#46039f"
                        ],
                        [
                          0.2222222222222222,
                          "#7201a8"
                        ],
                        [
                          0.3333333333333333,
                          "#9c179e"
                        ],
                        [
                          0.4444444444444444,
                          "#bd3786"
                        ],
                        [
                          0.5555555555555556,
                          "#d8576b"
                        ],
                        [
                          0.6666666666666666,
                          "#ed7953"
                        ],
                        [
                          0.7777777777777778,
                          "#fb9f3a"
                        ],
                        [
                          0.8888888888888888,
                          "#fdca26"
                        ],
                        [
                          1,
                          "#f0f921"
                        ]
                      ],
                      "sequentialminus": [
                        [
                          0,
                          "#0d0887"
                        ],
                        [
                          0.1111111111111111,
                          "#46039f"
                        ],
                        [
                          0.2222222222222222,
                          "#7201a8"
                        ],
                        [
                          0.3333333333333333,
                          "#9c179e"
                        ],
                        [
                          0.4444444444444444,
                          "#bd3786"
                        ],
                        [
                          0.5555555555555556,
                          "#d8576b"
                        ],
                        [
                          0.6666666666666666,
                          "#ed7953"
                        ],
                        [
                          0.7777777777777778,
                          "#fb9f3a"
                        ],
                        [
                          0.8888888888888888,
                          "#fdca26"
                        ],
                        [
                          1,
                          "#f0f921"
                        ]
                      ]
                    },
                    "colorway": [
                      "#636efa",
                      "#EF553B",
                      "#00cc96",
                      "#ab63fa",
                      "#FFA15A",
                      "#19d3f3",
                      "#FF6692",
                      "#B6E880",
                      "#FF97FF",
                      "#FECB52"
                    ],
                    "font": {
                      "color": "#2a3f5f"
                    },
                    "geo": {
                      "bgcolor": "white",
                      "lakecolor": "white",
                      "landcolor": "#E5ECF6",
                      "showlakes": true,
                      "showland": true,
                      "subunitcolor": "white"
                    },
                    "hoverlabel": {
                      "align": "left"
                    },
                    "hovermode": "closest",
                    "mapbox": {
                      "style": "light"
                    },
                    "paper_bgcolor": "white",
                    "plot_bgcolor": "#E5ECF6",
                    "polar": {
                      "angularaxis": {
                        "gridcolor": "white",
                        "linecolor": "white",
                        "ticks": ""
                      },
                      "bgcolor": "#E5ECF6",
                      "radialaxis": {
                        "gridcolor": "white",
                        "linecolor": "white",
                        "ticks": ""
                      }
                    },
                    "scene": {
                      "xaxis": {
                        "backgroundcolor": "#E5ECF6",
                        "gridcolor": "white",
                        "gridwidth": 2,
                        "linecolor": "white",
                        "showbackground": true,
                        "ticks": "",
                        "zerolinecolor": "white"
                      },
                      "yaxis": {
                        "backgroundcolor": "#E5ECF6",
                        "gridcolor": "white",
                        "gridwidth": 2,
                        "linecolor": "white",
                        "showbackground": true,
                        "ticks": "",
                        "zerolinecolor": "white"
                      },
                      "zaxis": {
                        "backgroundcolor": "#E5ECF6",
                        "gridcolor": "white",
                        "gridwidth": 2,
                        "linecolor": "white",
                        "showbackground": true,
                        "ticks": "",
                        "zerolinecolor": "white"
                      }
                    },
                    "shapedefaults": {
                      "line": {
                        "color": "#2a3f5f"
                      }
                    },
                    "ternary": {
                      "aaxis": {
                        "gridcolor": "white",
                        "linecolor": "white",
                        "ticks": ""
                      },
                      "baxis": {
                        "gridcolor": "white",
                        "linecolor": "white",
                        "ticks": ""
                      },
                      "bgcolor": "#E5ECF6",
                      "caxis": {
                        "gridcolor": "white",
                        "linecolor": "white",
                        "ticks": ""
                      }
                    },
                    "title": {
                      "x": 0.05
                    },
                    "xaxis": {
                      "automargin": true,
                      "gridcolor": "white",
                      "linecolor": "white",
                      "ticks": "",
                      "title": {
                        "standoff": 15
                      },
                      "zerolinecolor": "white",
                      "zerolinewidth": 2
                    },
                    "yaxis": {
                      "automargin": true,
                      "gridcolor": "white",
                      "linecolor": "white",
                      "ticks": "",
                      "title": {
                        "standoff": 15
                      },
                      "zerolinecolor": "white",
                      "zerolinewidth": 2
                    }
                  }
                },
                "title": {
                  "text": "2011 US Agriculture Exports by State<br>(Hover for breakdown)"
                }
              }
            }
          },
          "metadata": {}
        }
      ],
      "source": [
        "import plotly.graph_objects as go\n",
        "\n",
        "import pandas as pd\n",
        "df = pd.read_csv('https://raw.githubusercontent.com/plotly/datasets/master/2011_us_ag_exports.csv')\n",
        "\n",
        "for col in df.columns:\n",
        "    df[col] = df[col].astype(str)\n",
        "\n",
        "df['text'] = df['state'] + '<br>' + \\\n",
        "    'Beef ' + df['beef'] + ' Dairy ' + df['dairy'] + '<br>' + \\\n",
        "    'Fruits ' + df['total fruits'] + ' Veggies ' + df['total veggies'] + '<br>' + \\\n",
        "    'Wheat ' + df['wheat'] + ' Corn ' + df['corn']\n",
        "\n",
        "fig = go.Figure(data=go.Choropleth(\n",
        "    locations=df['code'],\n",
        "    z=df['total exports'].astype(float),\n",
        "    locationmode='USA-states',\n",
        "    colorscale='Reds',\n",
        "    autocolorscale=False,\n",
        "    text=df['text'], # hover text\n",
        "    marker_line_color='white', # line markers between states\n",
        "    colorbar_title=\"Millions USD\"\n",
        "))\n",
        "\n",
        "fig.update_layout(\n",
        "    title_text='2011 US Agriculture Exports by State<br>(Hover for breakdown)',\n",
        "    geo = dict(\n",
        "        scope='usa',\n",
        "        projection=go.layout.geo.Projection(type = 'albers usa'),\n",
        "        showlakes=True, # lakes\n",
        "        lakecolor='rgb(255, 255, 255)'),\n",
        ")\n",
        "\n",
        "fig.show()"
      ]
    },
    {
      "cell_type": "code",
      "execution_count": 113,
      "metadata": {},
      "outputs": [
        {
          "output_type": "execute_result",
          "data": {
            "text/plain": "     USstateAbbr       Date  Confirmed  Deaths  Recovered  ConfirmedPerDate  \\\n4505          WA 2020-01-22          1       0          0                 0   \n4506          WA 2020-01-23          1       0          0                 0   \n4507          WA 2020-01-24          1       0          0                 0   \n4508          WA 2020-01-25          1       0          0                 0   \n4509          WA 2020-01-26          1       0          0                 0   \n4510          WA 2020-01-27          1       0          0                 0   \n4511          WA 2020-01-28          1       0          0                 0   \n4512          WA 2020-01-29          1       0          0                 0   \n4513          WA 2020-01-30          1       0          0                 0   \n4514          WA 2020-01-31          1       0          0                 0   \n4515          WA 2020-02-01          1       0          0                 0   \n4516          WA 2020-02-02          1       0          0                 0   \n4517          WA 2020-02-03          1       0          0                 0   \n4518          WA 2020-02-04          1       0          0                 0   \n4519          WA 2020-02-05          1       0          0                 0   \n4520          WA 2020-02-06          1       0          0                 0   \n4521          WA 2020-02-07          1       0          0                 0   \n4522          WA 2020-02-08          1       0          0                 0   \n4523          WA 2020-02-09          1       0          1                 0   \n4524          WA 2020-02-10          1       0          1                 0   \n4525          WA 2020-02-11          1       0          1                 0   \n4526          WA 2020-02-12          1       0          1                 0   \n4527          WA 2020-02-13          1       0          1                 0   \n4528          WA 2020-02-14          1       0          1                 0   \n4529          WA 2020-02-15          1       0          1                 0   \n4530          WA 2020-02-16          1       0          1                 0   \n4531          WA 2020-02-17          1       0          1                 0   \n4532          WA 2020-02-18          1       0          1                 0   \n4533          WA 2020-02-19          1       0          1                 0   \n4534          WA 2020-02-20          1       0          1                 0   \n\n      RecoveredPerDate  DeathsPerDate Province/State  \n4505                 0              0     Washington  \n4506                 0              0     Washington  \n4507                 0              0     Washington  \n4508                 0              0     Washington  \n4509                 0              0     Washington  \n4510                 0              0     Washington  \n4511                 0              0     Washington  \n4512                 0              0     Washington  \n4513                 0              0     Washington  \n4514                 0              0     Washington  \n4515                 0              0     Washington  \n4516                 0              0     Washington  \n4517                 0              0     Washington  \n4518                 0              0     Washington  \n4519                 0              0     Washington  \n4520                 0              0     Washington  \n4521                 0              0     Washington  \n4522                 0              0     Washington  \n4523                 1              0     Washington  \n4524                 0              0     Washington  \n4525                 0              0     Washington  \n4526                 0              0     Washington  \n4527                 0              0     Washington  \n4528                 0              0     Washington  \n4529                 0              0     Washington  \n4530                 0              0     Washington  \n4531                 0              0     Washington  \n4532                 0              0     Washington  \n4533                 0              0     Washington  \n4534                 0              0     Washington  ",
            "text/html": "<div>\n<style scoped>\n    .dataframe tbody tr th:only-of-type {\n        vertical-align: middle;\n    }\n\n    .dataframe tbody tr th {\n        vertical-align: top;\n    }\n\n    .dataframe thead th {\n        text-align: right;\n    }\n</style>\n<table border=\"1\" class=\"dataframe\">\n  <thead>\n    <tr style=\"text-align: right;\">\n      <th></th>\n      <th>USstateAbbr</th>\n      <th>Date</th>\n      <th>Confirmed</th>\n      <th>Deaths</th>\n      <th>Recovered</th>\n      <th>ConfirmedPerDate</th>\n      <th>RecoveredPerDate</th>\n      <th>DeathsPerDate</th>\n      <th>Province/State</th>\n    </tr>\n  </thead>\n  <tbody>\n    <tr>\n      <th>4505</th>\n      <td>WA</td>\n      <td>2020-01-22</td>\n      <td>1</td>\n      <td>0</td>\n      <td>0</td>\n      <td>0</td>\n      <td>0</td>\n      <td>0</td>\n      <td>Washington</td>\n    </tr>\n    <tr>\n      <th>4506</th>\n      <td>WA</td>\n      <td>2020-01-23</td>\n      <td>1</td>\n      <td>0</td>\n      <td>0</td>\n      <td>0</td>\n      <td>0</td>\n      <td>0</td>\n      <td>Washington</td>\n    </tr>\n    <tr>\n      <th>4507</th>\n      <td>WA</td>\n      <td>2020-01-24</td>\n      <td>1</td>\n      <td>0</td>\n      <td>0</td>\n      <td>0</td>\n      <td>0</td>\n      <td>0</td>\n      <td>Washington</td>\n    </tr>\n    <tr>\n      <th>4508</th>\n      <td>WA</td>\n      <td>2020-01-25</td>\n      <td>1</td>\n      <td>0</td>\n      <td>0</td>\n      <td>0</td>\n      <td>0</td>\n      <td>0</td>\n      <td>Washington</td>\n    </tr>\n    <tr>\n      <th>4509</th>\n      <td>WA</td>\n      <td>2020-01-26</td>\n      <td>1</td>\n      <td>0</td>\n      <td>0</td>\n      <td>0</td>\n      <td>0</td>\n      <td>0</td>\n      <td>Washington</td>\n    </tr>\n    <tr>\n      <th>4510</th>\n      <td>WA</td>\n      <td>2020-01-27</td>\n      <td>1</td>\n      <td>0</td>\n      <td>0</td>\n      <td>0</td>\n      <td>0</td>\n      <td>0</td>\n      <td>Washington</td>\n    </tr>\n    <tr>\n      <th>4511</th>\n      <td>WA</td>\n      <td>2020-01-28</td>\n      <td>1</td>\n      <td>0</td>\n      <td>0</td>\n      <td>0</td>\n      <td>0</td>\n      <td>0</td>\n      <td>Washington</td>\n    </tr>\n    <tr>\n      <th>4512</th>\n      <td>WA</td>\n      <td>2020-01-29</td>\n      <td>1</td>\n      <td>0</td>\n      <td>0</td>\n      <td>0</td>\n      <td>0</td>\n      <td>0</td>\n      <td>Washington</td>\n    </tr>\n    <tr>\n      <th>4513</th>\n      <td>WA</td>\n      <td>2020-01-30</td>\n      <td>1</td>\n      <td>0</td>\n      <td>0</td>\n      <td>0</td>\n      <td>0</td>\n      <td>0</td>\n      <td>Washington</td>\n    </tr>\n    <tr>\n      <th>4514</th>\n      <td>WA</td>\n      <td>2020-01-31</td>\n      <td>1</td>\n      <td>0</td>\n      <td>0</td>\n      <td>0</td>\n      <td>0</td>\n      <td>0</td>\n      <td>Washington</td>\n    </tr>\n    <tr>\n      <th>4515</th>\n      <td>WA</td>\n      <td>2020-02-01</td>\n      <td>1</td>\n      <td>0</td>\n      <td>0</td>\n      <td>0</td>\n      <td>0</td>\n      <td>0</td>\n      <td>Washington</td>\n    </tr>\n    <tr>\n      <th>4516</th>\n      <td>WA</td>\n      <td>2020-02-02</td>\n      <td>1</td>\n      <td>0</td>\n      <td>0</td>\n      <td>0</td>\n      <td>0</td>\n      <td>0</td>\n      <td>Washington</td>\n    </tr>\n    <tr>\n      <th>4517</th>\n      <td>WA</td>\n      <td>2020-02-03</td>\n      <td>1</td>\n      <td>0</td>\n      <td>0</td>\n      <td>0</td>\n      <td>0</td>\n      <td>0</td>\n      <td>Washington</td>\n    </tr>\n    <tr>\n      <th>4518</th>\n      <td>WA</td>\n      <td>2020-02-04</td>\n      <td>1</td>\n      <td>0</td>\n      <td>0</td>\n      <td>0</td>\n      <td>0</td>\n      <td>0</td>\n      <td>Washington</td>\n    </tr>\n    <tr>\n      <th>4519</th>\n      <td>WA</td>\n      <td>2020-02-05</td>\n      <td>1</td>\n      <td>0</td>\n      <td>0</td>\n      <td>0</td>\n      <td>0</td>\n      <td>0</td>\n      <td>Washington</td>\n    </tr>\n    <tr>\n      <th>4520</th>\n      <td>WA</td>\n      <td>2020-02-06</td>\n      <td>1</td>\n      <td>0</td>\n      <td>0</td>\n      <td>0</td>\n      <td>0</td>\n      <td>0</td>\n      <td>Washington</td>\n    </tr>\n    <tr>\n      <th>4521</th>\n      <td>WA</td>\n      <td>2020-02-07</td>\n      <td>1</td>\n      <td>0</td>\n      <td>0</td>\n      <td>0</td>\n      <td>0</td>\n      <td>0</td>\n      <td>Washington</td>\n    </tr>\n    <tr>\n      <th>4522</th>\n      <td>WA</td>\n      <td>2020-02-08</td>\n      <td>1</td>\n      <td>0</td>\n      <td>0</td>\n      <td>0</td>\n      <td>0</td>\n      <td>0</td>\n      <td>Washington</td>\n    </tr>\n    <tr>\n      <th>4523</th>\n      <td>WA</td>\n      <td>2020-02-09</td>\n      <td>1</td>\n      <td>0</td>\n      <td>1</td>\n      <td>0</td>\n      <td>1</td>\n      <td>0</td>\n      <td>Washington</td>\n    </tr>\n    <tr>\n      <th>4524</th>\n      <td>WA</td>\n      <td>2020-02-10</td>\n      <td>1</td>\n      <td>0</td>\n      <td>1</td>\n      <td>0</td>\n      <td>0</td>\n      <td>0</td>\n      <td>Washington</td>\n    </tr>\n    <tr>\n      <th>4525</th>\n      <td>WA</td>\n      <td>2020-02-11</td>\n      <td>1</td>\n      <td>0</td>\n      <td>1</td>\n      <td>0</td>\n      <td>0</td>\n      <td>0</td>\n      <td>Washington</td>\n    </tr>\n    <tr>\n      <th>4526</th>\n      <td>WA</td>\n      <td>2020-02-12</td>\n      <td>1</td>\n      <td>0</td>\n      <td>1</td>\n      <td>0</td>\n      <td>0</td>\n      <td>0</td>\n      <td>Washington</td>\n    </tr>\n    <tr>\n      <th>4527</th>\n      <td>WA</td>\n      <td>2020-02-13</td>\n      <td>1</td>\n      <td>0</td>\n      <td>1</td>\n      <td>0</td>\n      <td>0</td>\n      <td>0</td>\n      <td>Washington</td>\n    </tr>\n    <tr>\n      <th>4528</th>\n      <td>WA</td>\n      <td>2020-02-14</td>\n      <td>1</td>\n      <td>0</td>\n      <td>1</td>\n      <td>0</td>\n      <td>0</td>\n      <td>0</td>\n      <td>Washington</td>\n    </tr>\n    <tr>\n      <th>4529</th>\n      <td>WA</td>\n      <td>2020-02-15</td>\n      <td>1</td>\n      <td>0</td>\n      <td>1</td>\n      <td>0</td>\n      <td>0</td>\n      <td>0</td>\n      <td>Washington</td>\n    </tr>\n    <tr>\n      <th>4530</th>\n      <td>WA</td>\n      <td>2020-02-16</td>\n      <td>1</td>\n      <td>0</td>\n      <td>1</td>\n      <td>0</td>\n      <td>0</td>\n      <td>0</td>\n      <td>Washington</td>\n    </tr>\n    <tr>\n      <th>4531</th>\n      <td>WA</td>\n      <td>2020-02-17</td>\n      <td>1</td>\n      <td>0</td>\n      <td>1</td>\n      <td>0</td>\n      <td>0</td>\n      <td>0</td>\n      <td>Washington</td>\n    </tr>\n    <tr>\n      <th>4532</th>\n      <td>WA</td>\n      <td>2020-02-18</td>\n      <td>1</td>\n      <td>0</td>\n      <td>1</td>\n      <td>0</td>\n      <td>0</td>\n      <td>0</td>\n      <td>Washington</td>\n    </tr>\n    <tr>\n      <th>4533</th>\n      <td>WA</td>\n      <td>2020-02-19</td>\n      <td>1</td>\n      <td>0</td>\n      <td>1</td>\n      <td>0</td>\n      <td>0</td>\n      <td>0</td>\n      <td>Washington</td>\n    </tr>\n    <tr>\n      <th>4534</th>\n      <td>WA</td>\n      <td>2020-02-20</td>\n      <td>1</td>\n      <td>0</td>\n      <td>1</td>\n      <td>0</td>\n      <td>0</td>\n      <td>0</td>\n      <td>Washington</td>\n    </tr>\n  </tbody>\n</table>\n</div>"
          },
          "metadata": {},
          "execution_count": 113
        }
      ],
      "source": [
        "us_df = df[(df[\"Country/Region\"] == \"United States\")]. \\\n",
        "        drop([\"Latitude\", \"Longitude\"], axis=1)\n",
        "state_df = us_df.groupby([\"USstateAbbr\", \"Date\"]).sum()\n",
        "state_df = state_df.reset_index()\n",
        "us_state_abbr_df = us_df.reindex([\"USstateAbbr\", \"Province/State\"], axis=1).drop_duplicates().reset_index()\n",
        "state_df[\"Province/State\"] = state_df.USstateAbbr\n",
        "n_states = len(us_state_abbr_df.USstateAbbr.unique())\n",
        "for i_row in range(n_states):\n",
        "    state_df[\"Province/State\"].replace(us_state_abbr_df[\"USstateAbbr\"][i_row], \\\n",
        "                                       us_state_abbr_df[\"Province/State\"][i_row], \\\n",
        "                                       inplace=True)\n",
        "state_df[state_df[\"USstateAbbr\"] == \"WA\"].head(30)\n",
        "#state_df.head(20)"
      ]
    },
    {
      "cell_type": "code",
      "execution_count": 115,
      "metadata": {},
      "outputs": [
        {
          "output_type": "execute_result",
          "data": {
            "text/plain": "     USstateAbbr       Date  Confirmed  Deaths  Recovered  ConfirmedPerDate  \\\n3289          NY 2020-03-21      11710      60          0              3400   \n3290          NY 2020-03-22      15800     117          0              4090   \n3291          NY 2020-03-23      20884     158          0              5084   \n\n      RecoveredPerDate  DeathsPerDate Province/State  \n3289                 0             18       New York  \n3290                 0             57       New York  \n3291                 0             43       New York  ",
            "text/html": "<div>\n<style scoped>\n    .dataframe tbody tr th:only-of-type {\n        vertical-align: middle;\n    }\n\n    .dataframe tbody tr th {\n        vertical-align: top;\n    }\n\n    .dataframe thead th {\n        text-align: right;\n    }\n</style>\n<table border=\"1\" class=\"dataframe\">\n  <thead>\n    <tr style=\"text-align: right;\">\n      <th></th>\n      <th>USstateAbbr</th>\n      <th>Date</th>\n      <th>Confirmed</th>\n      <th>Deaths</th>\n      <th>Recovered</th>\n      <th>ConfirmedPerDate</th>\n      <th>RecoveredPerDate</th>\n      <th>DeathsPerDate</th>\n      <th>Province/State</th>\n    </tr>\n  </thead>\n  <tbody>\n    <tr>\n      <th>3289</th>\n      <td>NY</td>\n      <td>2020-03-21</td>\n      <td>11710</td>\n      <td>60</td>\n      <td>0</td>\n      <td>3400</td>\n      <td>0</td>\n      <td>18</td>\n      <td>New York</td>\n    </tr>\n    <tr>\n      <th>3290</th>\n      <td>NY</td>\n      <td>2020-03-22</td>\n      <td>15800</td>\n      <td>117</td>\n      <td>0</td>\n      <td>4090</td>\n      <td>0</td>\n      <td>57</td>\n      <td>New York</td>\n    </tr>\n    <tr>\n      <th>3291</th>\n      <td>NY</td>\n      <td>2020-03-23</td>\n      <td>20884</td>\n      <td>158</td>\n      <td>0</td>\n      <td>5084</td>\n      <td>0</td>\n      <td>43</td>\n      <td>New York</td>\n    </tr>\n  </tbody>\n</table>\n</div>"
          },
          "metadata": {},
          "execution_count": 115
        }
      ],
      "source": [
        "state_df[state_df.Date.isin([pd.datetime(2020,3,21), pd.datetime(2020,3,22), pd.datetime(2020,3,23)]) & (state_df.USstateAbbr == \"NY\")].head(30)"
      ]
    },
    {
      "cell_type": "code",
      "execution_count": 91,
      "metadata": {},
      "outputs": [
        {
          "output_type": "execute_result",
          "data": {
            "text/plain": "                 Province/State USstateAbbr\n31                   Washington          WA\n118                    Illinois          IL\n204                  California          CA\n205                     Arizona          AZ\n554               Massachusetts          MA\n818                   Wisconsin          WI\n1362                      Texas          TX\n1900                   Nebraska          NE\n2119                        nan         nan\n2646                     Oregon          OR\n2761               Rhode Island          RI\n2884              New Hampshire          NH\n2885                    Florida          FL\n2887                   New York          NY\n2987                    Georgia          GA\n3020             North Carolina          NC\n3271                 New Jersey          NJ\n3303                     Nevada          NV\n3307                  Tennessee          TN\n3417                   Maryland          MD\n3427                   Colorado          CO\n3463               Pennsylvania          PA\n3465                   Kentucky          KY\n3467                    Indiana          IN\n3468                  Minnesota          MN\n3600                Connecticut          CT\n3629             South Carolina          SC\n3632                       Utah          UT\n3636                     Hawaii          HI\n3640                   Oklahoma          OK\n3790                   Virginia          VA\n3791                       D.C.        D.C.\n3818                     Kansas          KS\n3821                   Missouri          MO\n3823                    Vermont          VT\n3963                       Iowa          IA\n4007                  Louisiana          LA\n4154       District of Columbia          DC\n4167                       Ohio          OH\n4208                     Alaska          AK\n4209                   Arkansas          AR\n4210                   Delaware          DE\n4211                      Idaho          ID\n4212                      Maine          ME\n4213                   Michigan          MI\n4214                Mississippi          MS\n4215                    Montana          MT\n4216                 New Mexico          NM\n4217               North Dakota          ND\n4218               South Dakota          SD\n4219              West Virginia          WV\n4220                    Wyoming          WY\n4767                    Alabama          AL\n5046                Puerto Rico          PR\n5290                       Guam          GU\n5599             Virgin Islands          VI\n10124            American Samoa          AS\n10125  Northern Mariana Islands          MP",
            "text/html": "<div>\n<style scoped>\n    .dataframe tbody tr th:only-of-type {\n        vertical-align: middle;\n    }\n\n    .dataframe tbody tr th {\n        vertical-align: top;\n    }\n\n    .dataframe thead th {\n        text-align: right;\n    }\n</style>\n<table border=\"1\" class=\"dataframe\">\n  <thead>\n    <tr style=\"text-align: right;\">\n      <th></th>\n      <th>Province/State</th>\n      <th>USstateAbbr</th>\n    </tr>\n  </thead>\n  <tbody>\n    <tr>\n      <th>31</th>\n      <td>Washington</td>\n      <td>WA</td>\n    </tr>\n    <tr>\n      <th>118</th>\n      <td>Illinois</td>\n      <td>IL</td>\n    </tr>\n    <tr>\n      <th>204</th>\n      <td>California</td>\n      <td>CA</td>\n    </tr>\n    <tr>\n      <th>205</th>\n      <td>Arizona</td>\n      <td>AZ</td>\n    </tr>\n    <tr>\n      <th>554</th>\n      <td>Massachusetts</td>\n      <td>MA</td>\n    </tr>\n    <tr>\n      <th>818</th>\n      <td>Wisconsin</td>\n      <td>WI</td>\n    </tr>\n    <tr>\n      <th>1362</th>\n      <td>Texas</td>\n      <td>TX</td>\n    </tr>\n    <tr>\n      <th>1900</th>\n      <td>Nebraska</td>\n      <td>NE</td>\n    </tr>\n    <tr>\n      <th>2119</th>\n      <td>nan</td>\n      <td>nan</td>\n    </tr>\n    <tr>\n      <th>2646</th>\n      <td>Oregon</td>\n      <td>OR</td>\n    </tr>\n    <tr>\n      <th>2761</th>\n      <td>Rhode Island</td>\n      <td>RI</td>\n    </tr>\n    <tr>\n      <th>2884</th>\n      <td>New Hampshire</td>\n      <td>NH</td>\n    </tr>\n    <tr>\n      <th>2885</th>\n      <td>Florida</td>\n      <td>FL</td>\n    </tr>\n    <tr>\n      <th>2887</th>\n      <td>New York</td>\n      <td>NY</td>\n    </tr>\n    <tr>\n      <th>2987</th>\n      <td>Georgia</td>\n      <td>GA</td>\n    </tr>\n    <tr>\n      <th>3020</th>\n      <td>North Carolina</td>\n      <td>NC</td>\n    </tr>\n    <tr>\n      <th>3271</th>\n      <td>New Jersey</td>\n      <td>NJ</td>\n    </tr>\n    <tr>\n      <th>3303</th>\n      <td>Nevada</td>\n      <td>NV</td>\n    </tr>\n    <tr>\n      <th>3307</th>\n      <td>Tennessee</td>\n      <td>TN</td>\n    </tr>\n    <tr>\n      <th>3417</th>\n      <td>Maryland</td>\n      <td>MD</td>\n    </tr>\n    <tr>\n      <th>3427</th>\n      <td>Colorado</td>\n      <td>CO</td>\n    </tr>\n    <tr>\n      <th>3463</th>\n      <td>Pennsylvania</td>\n      <td>PA</td>\n    </tr>\n    <tr>\n      <th>3465</th>\n      <td>Kentucky</td>\n      <td>KY</td>\n    </tr>\n    <tr>\n      <th>3467</th>\n      <td>Indiana</td>\n      <td>IN</td>\n    </tr>\n    <tr>\n      <th>3468</th>\n      <td>Minnesota</td>\n      <td>MN</td>\n    </tr>\n    <tr>\n      <th>3600</th>\n      <td>Connecticut</td>\n      <td>CT</td>\n    </tr>\n    <tr>\n      <th>3629</th>\n      <td>South Carolina</td>\n      <td>SC</td>\n    </tr>\n    <tr>\n      <th>3632</th>\n      <td>Utah</td>\n      <td>UT</td>\n    </tr>\n    <tr>\n      <th>3636</th>\n      <td>Hawaii</td>\n      <td>HI</td>\n    </tr>\n    <tr>\n      <th>3640</th>\n      <td>Oklahoma</td>\n      <td>OK</td>\n    </tr>\n    <tr>\n      <th>3790</th>\n      <td>Virginia</td>\n      <td>VA</td>\n    </tr>\n    <tr>\n      <th>3791</th>\n      <td>D.C.</td>\n      <td>D.C.</td>\n    </tr>\n    <tr>\n      <th>3818</th>\n      <td>Kansas</td>\n      <td>KS</td>\n    </tr>\n    <tr>\n      <th>3821</th>\n      <td>Missouri</td>\n      <td>MO</td>\n    </tr>\n    <tr>\n      <th>3823</th>\n      <td>Vermont</td>\n      <td>VT</td>\n    </tr>\n    <tr>\n      <th>3963</th>\n      <td>Iowa</td>\n      <td>IA</td>\n    </tr>\n    <tr>\n      <th>4007</th>\n      <td>Louisiana</td>\n      <td>LA</td>\n    </tr>\n    <tr>\n      <th>4154</th>\n      <td>District of Columbia</td>\n      <td>DC</td>\n    </tr>\n    <tr>\n      <th>4167</th>\n      <td>Ohio</td>\n      <td>OH</td>\n    </tr>\n    <tr>\n      <th>4208</th>\n      <td>Alaska</td>\n      <td>AK</td>\n    </tr>\n    <tr>\n      <th>4209</th>\n      <td>Arkansas</td>\n      <td>AR</td>\n    </tr>\n    <tr>\n      <th>4210</th>\n      <td>Delaware</td>\n      <td>DE</td>\n    </tr>\n    <tr>\n      <th>4211</th>\n      <td>Idaho</td>\n      <td>ID</td>\n    </tr>\n    <tr>\n      <th>4212</th>\n      <td>Maine</td>\n      <td>ME</td>\n    </tr>\n    <tr>\n      <th>4213</th>\n      <td>Michigan</td>\n      <td>MI</td>\n    </tr>\n    <tr>\n      <th>4214</th>\n      <td>Mississippi</td>\n      <td>MS</td>\n    </tr>\n    <tr>\n      <th>4215</th>\n      <td>Montana</td>\n      <td>MT</td>\n    </tr>\n    <tr>\n      <th>4216</th>\n      <td>New Mexico</td>\n      <td>NM</td>\n    </tr>\n    <tr>\n      <th>4217</th>\n      <td>North Dakota</td>\n      <td>ND</td>\n    </tr>\n    <tr>\n      <th>4218</th>\n      <td>South Dakota</td>\n      <td>SD</td>\n    </tr>\n    <tr>\n      <th>4219</th>\n      <td>West Virginia</td>\n      <td>WV</td>\n    </tr>\n    <tr>\n      <th>4220</th>\n      <td>Wyoming</td>\n      <td>WY</td>\n    </tr>\n    <tr>\n      <th>4767</th>\n      <td>Alabama</td>\n      <td>AL</td>\n    </tr>\n    <tr>\n      <th>5046</th>\n      <td>Puerto Rico</td>\n      <td>PR</td>\n    </tr>\n    <tr>\n      <th>5290</th>\n      <td>Guam</td>\n      <td>GU</td>\n    </tr>\n    <tr>\n      <th>5599</th>\n      <td>Virgin Islands</td>\n      <td>VI</td>\n    </tr>\n    <tr>\n      <th>10124</th>\n      <td>American Samoa</td>\n      <td>AS</td>\n    </tr>\n    <tr>\n      <th>10125</th>\n      <td>Northern Mariana Islands</td>\n      <td>MP</td>\n    </tr>\n  </tbody>\n</table>\n</div>"
          },
          "metadata": {},
          "execution_count": 91
        }
      ],
      "source": [
        "us_state_abbr_df = us_df.reindex([\"Province/State\", \"USstateAbbr\"], axis=1).drop_duplicates()"
      ]
    },
    {
      "cell_type": "code",
      "execution_count": 125,
      "metadata": {},
      "outputs": [
        {
          "output_type": "execute_result",
          "data": {
            "text/plain": "                      Province/State Country/Region  Confirmed  Deaths  \\\n294328            Northern Territory      Australia          0       0   \n294326          Jervis Bay Territory      Australia          0       0   \n294327               New South Wales      Australia          0       0   \n294323  Australian Capital Territory      Australia          0       0   \n294329                    Queensland      Australia          0       0   \n294330               South Australia      Australia          0       0   \n294331                      Tasmania      Australia          0       0   \n294332                      Victoria      Australia          0       0   \n294333             Western Australia      Australia          0       0   \n294334                           nan      Australia          0       0   \n294324          External territories      Australia          0       0   \n294325         From Diamond Princess      Australia          0       0   \n283834                      Victoria      Australia          0       0   \n283833                      Tasmania      Australia          0       0   \n283832               South Australia      Australia          0       0   \n283831                    Queensland      Australia          0       0   \n283830            Northern Territory      Australia          0       0   \n283829               New South Wales      Australia          0       0   \n283828          Jervis Bay Territory      Australia          0       0   \n283827         From Diamond Princess      Australia          0       0   \n283826          External territories      Australia          0       0   \n283835             Western Australia      Australia          0       0   \n80                               nan      Australia          0       0   \n283825  Australian Capital Territory      Australia          0       0   \n297830  Australian Capital Territory      Australia          0       0   \n297831          External territories      Australia          0       0   \n297832         From Diamond Princess      Australia          0       0   \n297833          Jervis Bay Territory      Australia          0       0   \n297834               New South Wales      Australia          0       0   \n297835            Northern Territory      Australia          0       0   \n\n        Recovered       Date  Latitude  Longitude FIPS County  \\\n294328          0 2020-01-22       NaN        NaN    0    nan   \n294326          0 2020-01-22       NaN        NaN    0    nan   \n294327          0 2020-01-22       NaN        NaN    0    nan   \n294323          0 2020-01-22       NaN        NaN    0    nan   \n294329          0 2020-01-22       NaN        NaN    0    nan   \n294330          0 2020-01-22       NaN        NaN    0    nan   \n294331          0 2020-01-22       NaN        NaN    0    nan   \n294332          0 2020-01-22       NaN        NaN    0    nan   \n294333          0 2020-01-22       NaN        NaN    0    nan   \n294334          0 2020-01-22       NaN        NaN    0    nan   \n294324          0 2020-01-22       NaN        NaN    0    nan   \n294325          0 2020-01-22       NaN        NaN    0    nan   \n283834          0 2020-01-23       NaN        NaN    0    nan   \n283833          0 2020-01-23       NaN        NaN    0    nan   \n283832          0 2020-01-23       NaN        NaN    0    nan   \n283831          0 2020-01-23       NaN        NaN    0    nan   \n283830          0 2020-01-23       NaN        NaN    0    nan   \n283829          0 2020-01-23       NaN        NaN    0    nan   \n283828          0 2020-01-23       NaN        NaN    0    nan   \n283827          0 2020-01-23       NaN        NaN    0    nan   \n283826          0 2020-01-23       NaN        NaN    0    nan   \n283835          0 2020-01-23       NaN        NaN    0    nan   \n80              0 2020-01-23       NaN        NaN    0    nan   \n283825          0 2020-01-23       NaN        NaN    0    nan   \n297830          0 2020-01-24       NaN        NaN    0    nan   \n297831          0 2020-01-24       NaN        NaN    0    nan   \n297832          0 2020-01-24       NaN        NaN    0    nan   \n297833          0 2020-01-24       NaN        NaN    0    nan   \n297834          0 2020-01-24       NaN        NaN    0    nan   \n297835          0 2020-01-24       NaN        NaN    0    nan   \n\n        ConfirmedPerDate  RecoveredPerDate  DeathsPerDate USstateAbbr  \n294328                 0                 0              0         nan  \n294326                 0                 0              0         nan  \n294327                 0                 0              0         nan  \n294323                 0                 0              0         nan  \n294329                 0                 0              0         nan  \n294330                 0                 0              0         nan  \n294331                 0                 0              0         nan  \n294332                 0                 0              0         nan  \n294333                 0                 0              0         nan  \n294334                 0                 0              0         nan  \n294324                 0                 0              0         nan  \n294325                 0                 0              0         nan  \n283834                 0                 0              0         nan  \n283833                 0                 0              0         nan  \n283832                 0                 0              0         nan  \n283831                 0                 0              0         nan  \n283830                 0                 0              0         nan  \n283829                 0                 0              0         nan  \n283828                 0                 0              0         nan  \n283827                 0                 0              0         nan  \n283826                 0                 0              0         nan  \n283835                 0                 0              0         nan  \n80                     0                 0              0         nan  \n283825                 0                 0              0         nan  \n297830                 0                 0              0         nan  \n297831                 0                 0              0         nan  \n297832                 0                 0              0         nan  \n297833                 0                 0              0         nan  \n297834                 0                 0              0         nan  \n297835                 0                 0              0         nan  ",
            "text/html": "<div>\n<style scoped>\n    .dataframe tbody tr th:only-of-type {\n        vertical-align: middle;\n    }\n\n    .dataframe tbody tr th {\n        vertical-align: top;\n    }\n\n    .dataframe thead th {\n        text-align: right;\n    }\n</style>\n<table border=\"1\" class=\"dataframe\">\n  <thead>\n    <tr style=\"text-align: right;\">\n      <th></th>\n      <th>Province/State</th>\n      <th>Country/Region</th>\n      <th>Confirmed</th>\n      <th>Deaths</th>\n      <th>Recovered</th>\n      <th>Date</th>\n      <th>Latitude</th>\n      <th>Longitude</th>\n      <th>FIPS</th>\n      <th>County</th>\n      <th>ConfirmedPerDate</th>\n      <th>RecoveredPerDate</th>\n      <th>DeathsPerDate</th>\n      <th>USstateAbbr</th>\n    </tr>\n  </thead>\n  <tbody>\n    <tr>\n      <th>294328</th>\n      <td>Northern Territory</td>\n      <td>Australia</td>\n      <td>0</td>\n      <td>0</td>\n      <td>0</td>\n      <td>2020-01-22</td>\n      <td>NaN</td>\n      <td>NaN</td>\n      <td>0</td>\n      <td>nan</td>\n      <td>0</td>\n      <td>0</td>\n      <td>0</td>\n      <td>nan</td>\n    </tr>\n    <tr>\n      <th>294326</th>\n      <td>Jervis Bay Territory</td>\n      <td>Australia</td>\n      <td>0</td>\n      <td>0</td>\n      <td>0</td>\n      <td>2020-01-22</td>\n      <td>NaN</td>\n      <td>NaN</td>\n      <td>0</td>\n      <td>nan</td>\n      <td>0</td>\n      <td>0</td>\n      <td>0</td>\n      <td>nan</td>\n    </tr>\n    <tr>\n      <th>294327</th>\n      <td>New South Wales</td>\n      <td>Australia</td>\n      <td>0</td>\n      <td>0</td>\n      <td>0</td>\n      <td>2020-01-22</td>\n      <td>NaN</td>\n      <td>NaN</td>\n      <td>0</td>\n      <td>nan</td>\n      <td>0</td>\n      <td>0</td>\n      <td>0</td>\n      <td>nan</td>\n    </tr>\n    <tr>\n      <th>294323</th>\n      <td>Australian Capital Territory</td>\n      <td>Australia</td>\n      <td>0</td>\n      <td>0</td>\n      <td>0</td>\n      <td>2020-01-22</td>\n      <td>NaN</td>\n      <td>NaN</td>\n      <td>0</td>\n      <td>nan</td>\n      <td>0</td>\n      <td>0</td>\n      <td>0</td>\n      <td>nan</td>\n    </tr>\n    <tr>\n      <th>294329</th>\n      <td>Queensland</td>\n      <td>Australia</td>\n      <td>0</td>\n      <td>0</td>\n      <td>0</td>\n      <td>2020-01-22</td>\n      <td>NaN</td>\n      <td>NaN</td>\n      <td>0</td>\n      <td>nan</td>\n      <td>0</td>\n      <td>0</td>\n      <td>0</td>\n      <td>nan</td>\n    </tr>\n    <tr>\n      <th>294330</th>\n      <td>South Australia</td>\n      <td>Australia</td>\n      <td>0</td>\n      <td>0</td>\n      <td>0</td>\n      <td>2020-01-22</td>\n      <td>NaN</td>\n      <td>NaN</td>\n      <td>0</td>\n      <td>nan</td>\n      <td>0</td>\n      <td>0</td>\n      <td>0</td>\n      <td>nan</td>\n    </tr>\n    <tr>\n      <th>294331</th>\n      <td>Tasmania</td>\n      <td>Australia</td>\n      <td>0</td>\n      <td>0</td>\n      <td>0</td>\n      <td>2020-01-22</td>\n      <td>NaN</td>\n      <td>NaN</td>\n      <td>0</td>\n      <td>nan</td>\n      <td>0</td>\n      <td>0</td>\n      <td>0</td>\n      <td>nan</td>\n    </tr>\n    <tr>\n      <th>294332</th>\n      <td>Victoria</td>\n      <td>Australia</td>\n      <td>0</td>\n      <td>0</td>\n      <td>0</td>\n      <td>2020-01-22</td>\n      <td>NaN</td>\n      <td>NaN</td>\n      <td>0</td>\n      <td>nan</td>\n      <td>0</td>\n      <td>0</td>\n      <td>0</td>\n      <td>nan</td>\n    </tr>\n    <tr>\n      <th>294333</th>\n      <td>Western Australia</td>\n      <td>Australia</td>\n      <td>0</td>\n      <td>0</td>\n      <td>0</td>\n      <td>2020-01-22</td>\n      <td>NaN</td>\n      <td>NaN</td>\n      <td>0</td>\n      <td>nan</td>\n      <td>0</td>\n      <td>0</td>\n      <td>0</td>\n      <td>nan</td>\n    </tr>\n    <tr>\n      <th>294334</th>\n      <td>nan</td>\n      <td>Australia</td>\n      <td>0</td>\n      <td>0</td>\n      <td>0</td>\n      <td>2020-01-22</td>\n      <td>NaN</td>\n      <td>NaN</td>\n      <td>0</td>\n      <td>nan</td>\n      <td>0</td>\n      <td>0</td>\n      <td>0</td>\n      <td>nan</td>\n    </tr>\n    <tr>\n      <th>294324</th>\n      <td>External territories</td>\n      <td>Australia</td>\n      <td>0</td>\n      <td>0</td>\n      <td>0</td>\n      <td>2020-01-22</td>\n      <td>NaN</td>\n      <td>NaN</td>\n      <td>0</td>\n      <td>nan</td>\n      <td>0</td>\n      <td>0</td>\n      <td>0</td>\n      <td>nan</td>\n    </tr>\n    <tr>\n      <th>294325</th>\n      <td>From Diamond Princess</td>\n      <td>Australia</td>\n      <td>0</td>\n      <td>0</td>\n      <td>0</td>\n      <td>2020-01-22</td>\n      <td>NaN</td>\n      <td>NaN</td>\n      <td>0</td>\n      <td>nan</td>\n      <td>0</td>\n      <td>0</td>\n      <td>0</td>\n      <td>nan</td>\n    </tr>\n    <tr>\n      <th>283834</th>\n      <td>Victoria</td>\n      <td>Australia</td>\n      <td>0</td>\n      <td>0</td>\n      <td>0</td>\n      <td>2020-01-23</td>\n      <td>NaN</td>\n      <td>NaN</td>\n      <td>0</td>\n      <td>nan</td>\n      <td>0</td>\n      <td>0</td>\n      <td>0</td>\n      <td>nan</td>\n    </tr>\n    <tr>\n      <th>283833</th>\n      <td>Tasmania</td>\n      <td>Australia</td>\n      <td>0</td>\n      <td>0</td>\n      <td>0</td>\n      <td>2020-01-23</td>\n      <td>NaN</td>\n      <td>NaN</td>\n      <td>0</td>\n      <td>nan</td>\n      <td>0</td>\n      <td>0</td>\n      <td>0</td>\n      <td>nan</td>\n    </tr>\n    <tr>\n      <th>283832</th>\n      <td>South Australia</td>\n      <td>Australia</td>\n      <td>0</td>\n      <td>0</td>\n      <td>0</td>\n      <td>2020-01-23</td>\n      <td>NaN</td>\n      <td>NaN</td>\n      <td>0</td>\n      <td>nan</td>\n      <td>0</td>\n      <td>0</td>\n      <td>0</td>\n      <td>nan</td>\n    </tr>\n    <tr>\n      <th>283831</th>\n      <td>Queensland</td>\n      <td>Australia</td>\n      <td>0</td>\n      <td>0</td>\n      <td>0</td>\n      <td>2020-01-23</td>\n      <td>NaN</td>\n      <td>NaN</td>\n      <td>0</td>\n      <td>nan</td>\n      <td>0</td>\n      <td>0</td>\n      <td>0</td>\n      <td>nan</td>\n    </tr>\n    <tr>\n      <th>283830</th>\n      <td>Northern Territory</td>\n      <td>Australia</td>\n      <td>0</td>\n      <td>0</td>\n      <td>0</td>\n      <td>2020-01-23</td>\n      <td>NaN</td>\n      <td>NaN</td>\n      <td>0</td>\n      <td>nan</td>\n      <td>0</td>\n      <td>0</td>\n      <td>0</td>\n      <td>nan</td>\n    </tr>\n    <tr>\n      <th>283829</th>\n      <td>New South Wales</td>\n      <td>Australia</td>\n      <td>0</td>\n      <td>0</td>\n      <td>0</td>\n      <td>2020-01-23</td>\n      <td>NaN</td>\n      <td>NaN</td>\n      <td>0</td>\n      <td>nan</td>\n      <td>0</td>\n      <td>0</td>\n      <td>0</td>\n      <td>nan</td>\n    </tr>\n    <tr>\n      <th>283828</th>\n      <td>Jervis Bay Territory</td>\n      <td>Australia</td>\n      <td>0</td>\n      <td>0</td>\n      <td>0</td>\n      <td>2020-01-23</td>\n      <td>NaN</td>\n      <td>NaN</td>\n      <td>0</td>\n      <td>nan</td>\n      <td>0</td>\n      <td>0</td>\n      <td>0</td>\n      <td>nan</td>\n    </tr>\n    <tr>\n      <th>283827</th>\n      <td>From Diamond Princess</td>\n      <td>Australia</td>\n      <td>0</td>\n      <td>0</td>\n      <td>0</td>\n      <td>2020-01-23</td>\n      <td>NaN</td>\n      <td>NaN</td>\n      <td>0</td>\n      <td>nan</td>\n      <td>0</td>\n      <td>0</td>\n      <td>0</td>\n      <td>nan</td>\n    </tr>\n    <tr>\n      <th>283826</th>\n      <td>External territories</td>\n      <td>Australia</td>\n      <td>0</td>\n      <td>0</td>\n      <td>0</td>\n      <td>2020-01-23</td>\n      <td>NaN</td>\n      <td>NaN</td>\n      <td>0</td>\n      <td>nan</td>\n      <td>0</td>\n      <td>0</td>\n      <td>0</td>\n      <td>nan</td>\n    </tr>\n    <tr>\n      <th>283835</th>\n      <td>Western Australia</td>\n      <td>Australia</td>\n      <td>0</td>\n      <td>0</td>\n      <td>0</td>\n      <td>2020-01-23</td>\n      <td>NaN</td>\n      <td>NaN</td>\n      <td>0</td>\n      <td>nan</td>\n      <td>0</td>\n      <td>0</td>\n      <td>0</td>\n      <td>nan</td>\n    </tr>\n    <tr>\n      <th>80</th>\n      <td>nan</td>\n      <td>Australia</td>\n      <td>0</td>\n      <td>0</td>\n      <td>0</td>\n      <td>2020-01-23</td>\n      <td>NaN</td>\n      <td>NaN</td>\n      <td>0</td>\n      <td>nan</td>\n      <td>0</td>\n      <td>0</td>\n      <td>0</td>\n      <td>nan</td>\n    </tr>\n    <tr>\n      <th>283825</th>\n      <td>Australian Capital Territory</td>\n      <td>Australia</td>\n      <td>0</td>\n      <td>0</td>\n      <td>0</td>\n      <td>2020-01-23</td>\n      <td>NaN</td>\n      <td>NaN</td>\n      <td>0</td>\n      <td>nan</td>\n      <td>0</td>\n      <td>0</td>\n      <td>0</td>\n      <td>nan</td>\n    </tr>\n    <tr>\n      <th>297830</th>\n      <td>Australian Capital Territory</td>\n      <td>Australia</td>\n      <td>0</td>\n      <td>0</td>\n      <td>0</td>\n      <td>2020-01-24</td>\n      <td>NaN</td>\n      <td>NaN</td>\n      <td>0</td>\n      <td>nan</td>\n      <td>0</td>\n      <td>0</td>\n      <td>0</td>\n      <td>nan</td>\n    </tr>\n    <tr>\n      <th>297831</th>\n      <td>External territories</td>\n      <td>Australia</td>\n      <td>0</td>\n      <td>0</td>\n      <td>0</td>\n      <td>2020-01-24</td>\n      <td>NaN</td>\n      <td>NaN</td>\n      <td>0</td>\n      <td>nan</td>\n      <td>0</td>\n      <td>0</td>\n      <td>0</td>\n      <td>nan</td>\n    </tr>\n    <tr>\n      <th>297832</th>\n      <td>From Diamond Princess</td>\n      <td>Australia</td>\n      <td>0</td>\n      <td>0</td>\n      <td>0</td>\n      <td>2020-01-24</td>\n      <td>NaN</td>\n      <td>NaN</td>\n      <td>0</td>\n      <td>nan</td>\n      <td>0</td>\n      <td>0</td>\n      <td>0</td>\n      <td>nan</td>\n    </tr>\n    <tr>\n      <th>297833</th>\n      <td>Jervis Bay Territory</td>\n      <td>Australia</td>\n      <td>0</td>\n      <td>0</td>\n      <td>0</td>\n      <td>2020-01-24</td>\n      <td>NaN</td>\n      <td>NaN</td>\n      <td>0</td>\n      <td>nan</td>\n      <td>0</td>\n      <td>0</td>\n      <td>0</td>\n      <td>nan</td>\n    </tr>\n    <tr>\n      <th>297834</th>\n      <td>New South Wales</td>\n      <td>Australia</td>\n      <td>0</td>\n      <td>0</td>\n      <td>0</td>\n      <td>2020-01-24</td>\n      <td>NaN</td>\n      <td>NaN</td>\n      <td>0</td>\n      <td>nan</td>\n      <td>0</td>\n      <td>0</td>\n      <td>0</td>\n      <td>nan</td>\n    </tr>\n    <tr>\n      <th>297835</th>\n      <td>Northern Territory</td>\n      <td>Australia</td>\n      <td>0</td>\n      <td>0</td>\n      <td>0</td>\n      <td>2020-01-24</td>\n      <td>NaN</td>\n      <td>NaN</td>\n      <td>0</td>\n      <td>nan</td>\n      <td>0</td>\n      <td>0</td>\n      <td>0</td>\n      <td>nan</td>\n    </tr>\n  </tbody>\n</table>\n</div>"
          },
          "metadata": {},
          "execution_count": 125
        }
      ],
      "source": [
        "states = df.loc[(df[\"Country/Region\"] == \"Australia\") & df[\"Province/State\"].notna(), :].sort_values([\"Date\"])\n",
        "#for state in states:\n",
        "#    print(state)\n",
        "states.head(30)"
      ]
    },
    {
      "cell_type": "code",
      "execution_count": 126,
      "metadata": {},
      "outputs": [],
      "source": [
        "with open(r\"C:\\Users\\adiad\\Anaconda3\\envs\\CovidApp\\covidapp\\data_clean\\all_countries_geo.json\") as f:\n",
        "    world_json = json.load(f)"
      ]
    },
    {
      "cell_type": "code",
      "execution_count": 157,
      "metadata": {
        "tags": [
          "outputPrepend"
        ]
      },
      "outputs": [
        {
          "output_type": "execute_result",
          "data": {
            "text/plain": "array(['Afghanistan', 'Akrotiri Sovereign Base Area', 'Aland', 'Albania',\n       'Algeria', 'American Samoa', 'Andorra', 'Angola', 'Anguilla',\n       'Antarctica', 'Antigua and Barbuda', 'Argentina', 'Armenia',\n       'Aruba', 'Ashmore and Cartier Islands', 'Australia', 'Austria',\n       'Azerbaijan', 'Bahrain', 'Bajo Nuevo Bank (Petrel Is.)',\n       'Bangladesh', 'Barbados', 'Baykonur Cosmodrome', 'Belarus',\n       'Belgium', 'Belize', 'Benin', 'Bermuda', 'Bhutan', 'Bolivia',\n       'Bosnia and Herzegovina', 'Botswana', 'Brazil',\n       'British Indian Ocean Territory', 'British Virgin Islands',\n       'Brunei', 'Bulgaria', 'Burkina Faso', 'Burundi', 'Cambodia',\n       'Cameroon', 'Canada', 'Cape Verde', 'Cayman Islands',\n       'Central African Republic', 'Chad', 'Chile', 'China',\n       'Clipperton Island', 'Colombia', 'Comoros', 'Cook Islands',\n       'Coral Sea Islands', 'Costa Rica', 'Croatia', 'Cuba', 'CuraÃ§ao',\n       'Cyprus', 'Cyprus No Mans Area', 'Czech Republic',\n       'Democratic Republic of the Congo', 'Denmark',\n       'Dhekelia Sovereign Base Area', 'Djibouti', 'Dominica',\n       'Dominican Republic', 'East Timor', 'Ecuador', 'Egypt',\n       'El Salvador', 'Equatorial Guinea', 'Eritrea', 'Estonia',\n       'Ethiopia', 'Falkland Islands', 'Faroe Islands',\n       'Federated States of Micronesia', 'Fiji', 'Finland', 'France',\n       'French Polynesia', 'French Southern and Antarctic Lands', 'Gabon',\n       'Gambia', 'Georgia', 'Germany', 'Ghana', 'Gibraltar', 'Greece',\n       'Greenland', 'Grenada', 'Guam', 'Guatemala', 'Guernsey', 'Guinea',\n       'Guinea Bissau', 'Guyana', 'Haiti',\n       'Heard Island and McDonald Islands', 'Honduras',\n       'Hong Kong S.A.R.', 'Hungary', 'Iceland', 'India',\n       'Indian Ocean Territories', 'Indonesia', 'Iran', 'Iraq', 'Ireland',\n       'Isle of Man', 'Israel', 'Italy', 'Ivory Coast', 'Jamaica',\n       'Japan', 'Jersey', 'Jordan', 'Kazakhstan', 'Kenya', 'Kiribati',\n       'Kosovo', 'Kuwait', 'Kyrgyzstan', 'Laos', 'Latvia', 'Lebanon',\n       'Lesotho', 'Liberia', 'Libya', 'Liechtenstein', 'Lithuania',\n       'Luxembourg', 'Macao S.A.R', 'Macedonia', 'Madagascar', 'Malawi',\n       'Malaysia', 'Maldives', 'Mali', 'Malta', 'Marshall Islands',\n       'Mauritania', 'Mauritius', 'Mexico', 'Moldova', 'Monaco',\n       'Mongolia', 'Montenegro', 'Montserrat', 'Morocco', 'Mozambique',\n       'Myanmar', 'Namibia', 'Nauru', 'Nepal', 'Netherlands',\n       'New Caledonia', 'New Zealand', 'Nicaragua', 'Niger', 'Nigeria',\n       'Niue', 'Norfolk Island', 'North Korea', 'Northern Cyprus',\n       'Northern Mariana Islands', 'Norway', 'Oman', 'Pakistan', 'Palau',\n       'Palestine', 'Panama', 'Papua New Guinea', 'Paraguay', 'Peru',\n       'Philippines', 'Pitcairn Islands', 'Poland', 'Portugal',\n       'Puerto Rico', 'Qatar', 'Republic of Congo', 'Republic of Serbia',\n       'Romania', 'Russia', 'Rwanda', 'Saint Barthelemy', 'Saint Helena',\n       'Saint Kitts and Nevis', 'Saint Lucia', 'Saint Martin',\n       'Saint Pierre and Miquelon', 'Saint Vincent and the Grenadines',\n       'Samoa', 'San Marino', 'Sao Tome and Principe', 'Saudi Arabia',\n       'Scarborough Reef', 'Senegal', 'Serranilla Bank', 'Seychelles',\n       'Siachen Glacier', 'Sierra Leone', 'Singapore', 'Sint Maarten',\n       'Slovakia', 'Slovenia', 'Solomon Islands', 'Somalia', 'Somaliland',\n       'South Africa', 'South Georgia and South Sandwich Islands',\n       'South Korea', 'South Sudan', 'Spain', 'Spratly Islands',\n       'Sri Lanka', 'Sudan', 'Suriname', 'Swaziland', 'Sweden',\n       'Switzerland', 'Syria', 'Taiwan', 'Tajikistan', 'Thailand',\n       'The Bahamas', 'Togo', 'Tonga', 'Trinidad and Tobago', 'Tunisia',\n       'Turkey', 'Turkmenistan', 'Turks and Caicos Islands', 'Tuvalu',\n       'US Naval Base Guantanamo Bay', 'Uganda', 'Ukraine',\n       'United Arab Emirates', 'United Kingdom',\n       'United Republic of Tanzania',\n       'United States Minor Outlying Islands',\n       'United States Virgin Islands', 'United States of America',\n       'Uruguay', 'Uzbekistan', 'Vanuatu', 'Vatican', 'Venezuela',\n       'Vietnam', 'Wallis and Futuna', 'Western Sahara', 'Yemen',\n       'Zambia', 'Zimbabwe'], dtype='<U40')"
          },
          "metadata": {},
          "execution_count": 157
        }
      ],
      "source": [
        "json_countries = [item[\"properties\"][\"ADMIN\"] for item in world_json[\"features\"]]\n",
        "json_countries = np.sort(json_countries)\n",
        "json_countries"
      ]
    },
    {
      "cell_type": "code",
      "execution_count": 171,
      "metadata": {},
      "outputs": [
        {
          "output_type": "execute_result",
          "data": {
            "text/plain": "['Cruise Ship',\n 'Macao SAR',\n 'Channel Islands',\n 'Congo (Kinshasa)',\n 'Reunion',\n 'Eswatini',\n 'Congo (Brazzaville)']"
          },
          "metadata": {},
          "execution_count": 171
        }
      ],
      "source": [
        "miss_countries = [country for country in df[\"Country/Region\"].unique() if country not in json_countries]\n",
        "miss_countries"
      ]
    },
    {
      "cell_type": "code",
      "execution_count": 16,
      "metadata": {},
      "outputs": [
        {
          "output_type": "execute_result",
          "data": {
            "text/plain": "array(['Afghanistan', 'Albania', 'Algeria', 'Andorra', 'Angola',\n       'Antigua and Barbuda', 'Argentina', 'Armenia', 'Aruba',\n       'Australia', 'Austria', 'Azerbaijan', 'Bahrain', 'Bangladesh',\n       'Barbados', 'Belarus', 'Belgium', 'Belize', 'Benin', 'Bhutan',\n       'Bolivia', 'Bosnia and Herzegovina', 'Botswana', 'Brazil',\n       'Brunei', 'Bulgaria', 'Burkina Faso', 'Burundi', 'Cambodia',\n       'Cameroon', 'Canada', 'Cape Verde', 'Cayman Islands',\n       'Central African Republic', 'Chad', 'Channel Islands', 'Chile',\n       'China', 'Colombia', 'Congo (Brazzaville)', 'Congo (Kinshasa)',\n       'Costa Rica', 'Croatia', 'Cruise Ship', 'Cuba', 'Cyprus',\n       'Czech Republic', 'Denmark', 'Djibouti', 'Dominica',\n       'Dominican Republic', 'East Timor', 'Ecuador', 'Egypt',\n       'El Salvador', 'Equatorial Guinea', 'Eritrea', 'Estonia',\n       'Eswatini', 'Ethiopia', 'Faroe Islands', 'Fiji', 'Finland',\n       'France', 'Gabon', 'Gambia', 'Georgia', 'Germany', 'Ghana',\n       'Gibraltar', 'Greece', 'Greenland', 'Grenada', 'Guam', 'Guatemala',\n       'Guernsey', 'Guinea', 'Guinea Bissau', 'Guyana', 'Haiti',\n       'Honduras', 'Hong Kong S.A.R.', 'Hungary', 'Iceland', 'India',\n       'Indonesia', 'Iran', 'Iraq', 'Ireland', 'Israel', 'Italy',\n       'Ivory Coast', 'Jamaica', 'Japan', 'Jersey', 'Jordan',\n       'Kazakhstan', 'Kenya', 'Kosovo', 'Kuwait', 'Kyrgyzstan', 'Laos',\n       'Latvia', 'Lebanon', 'Liberia', 'Libya', 'Liechtenstein',\n       'Lithuania', 'Luxembourg', 'Macao SAR', 'Macedonia', 'Madagascar',\n       'Malawi', 'Malaysia', 'Maldives', 'Mali', 'Malta', 'Mauritania',\n       'Mauritius', 'Mexico', 'Moldova', 'Monaco', 'Mongolia',\n       'Montenegro', 'Morocco', 'Mozambique', 'Myanmar', 'Namibia',\n       'Nepal', 'Netherlands', 'New Zealand', 'Nicaragua', 'Niger',\n       'Nigeria', 'Norway', 'Oman', 'Pakistan', 'Palestine', 'Panama',\n       'Papua New Guinea', 'Paraguay', 'Peru', 'Philippines', 'Poland',\n       'Portugal', 'Puerto Rico', 'Qatar', 'Republic of Congo',\n       'Republic of Serbia', 'Reunion', 'Romania', 'Russia', 'Rwanda',\n       'Saint Barthelemy', 'Saint Kitts and Nevis', 'Saint Lucia',\n       'Saint Martin', 'Saint Vincent and the Grenadines', 'San Marino',\n       'Sao Tome and Principe', 'Saudi Arabia', 'Senegal', 'Seychelles',\n       'Sierra Leone', 'Singapore', 'Slovakia', 'Slovenia', 'Somalia',\n       'South Africa', 'South Korea', 'South Sudan', 'Spain', 'Sri Lanka',\n       'Sudan', 'Suriname', 'Sweden', 'Switzerland', 'Syria', 'Taiwan',\n       'Thailand', 'The Bahamas', 'Togo', 'Trinidad and Tobago',\n       'Tunisia', 'Turkey', 'Uganda', 'Ukraine', 'United Arab Emirates',\n       'United Kingdom', 'United Republic of Tanzania',\n       'United States of America', 'Uruguay', 'Uzbekistan', 'Vatican',\n       'Venezuela', 'Vietnam', 'Western Sahara', 'Yemen', 'Zambia',\n       'Zimbabwe'], dtype='<U32')"
          },
          "metadata": {},
          "execution_count": 16
        }
      ],
      "source": [
        "np.sort(df[\"Country/Region\"].unique().tolist())"
      ]
    },
    {
      "cell_type": "code",
      "execution_count": 18,
      "metadata": {},
      "outputs": [
        {
          "output_type": "execute_result",
          "data": {
            "text/plain": "     Province/State     Country/Region  Confirmed  Deaths  Recovered  \\\n5570            nan  Republic of Congo          1       0          0   \n\n           Date  Latitude  Longitude FIPS County  ConfirmedPerDate  \\\n5570 2020-03-16  -1.44043  15.554688    0    nan                 0   \n\n      RecoveredPerDate  DeathsPerDate USstateAbbr  \n5570                 0              0         nan  ",
            "text/html": "<div>\n<style scoped>\n    .dataframe tbody tr th:only-of-type {\n        vertical-align: middle;\n    }\n\n    .dataframe tbody tr th {\n        vertical-align: top;\n    }\n\n    .dataframe thead th {\n        text-align: right;\n    }\n</style>\n<table border=\"1\" class=\"dataframe\">\n  <thead>\n    <tr style=\"text-align: right;\">\n      <th></th>\n      <th>Province/State</th>\n      <th>Country/Region</th>\n      <th>Confirmed</th>\n      <th>Deaths</th>\n      <th>Recovered</th>\n      <th>Date</th>\n      <th>Latitude</th>\n      <th>Longitude</th>\n      <th>FIPS</th>\n      <th>County</th>\n      <th>ConfirmedPerDate</th>\n      <th>RecoveredPerDate</th>\n      <th>DeathsPerDate</th>\n      <th>USstateAbbr</th>\n    </tr>\n  </thead>\n  <tbody>\n    <tr>\n      <th>5570</th>\n      <td>nan</td>\n      <td>Republic of Congo</td>\n      <td>1</td>\n      <td>0</td>\n      <td>0</td>\n      <td>2020-03-16</td>\n      <td>-1.44043</td>\n      <td>15.554688</td>\n      <td>0</td>\n      <td>nan</td>\n      <td>0</td>\n      <td>0</td>\n      <td>0</td>\n      <td>nan</td>\n    </tr>\n  </tbody>\n</table>\n</div>"
          },
          "metadata": {},
          "execution_count": 18
        }
      ],
      "source": [
        "df[(df[\"Country/Region\"] == \"Republic of Congo\") & (df.Confirmed > 0)]"
      ]
    },
    {
      "cell_type": "code",
      "execution_count": 22,
      "metadata": {},
      "outputs": [
        {
          "output_type": "execute_result",
          "data": {
            "text/plain": "     State          County   FIPS  Population\n0  Alabama         Alabama    NaN     4903185\n1  Alabama  Autauga County  01001       55869\n2  Alabama  Baldwin County  01003      223234",
            "text/html": "<div>\n<style scoped>\n    .dataframe tbody tr th:only-of-type {\n        vertical-align: middle;\n    }\n\n    .dataframe tbody tr th {\n        vertical-align: top;\n    }\n\n    .dataframe thead th {\n        text-align: right;\n    }\n</style>\n<table border=\"1\" class=\"dataframe\">\n  <thead>\n    <tr style=\"text-align: right;\">\n      <th></th>\n      <th>State</th>\n      <th>County</th>\n      <th>FIPS</th>\n      <th>Population</th>\n    </tr>\n  </thead>\n  <tbody>\n    <tr>\n      <th>0</th>\n      <td>Alabama</td>\n      <td>Alabama</td>\n      <td>NaN</td>\n      <td>4903185</td>\n    </tr>\n    <tr>\n      <th>1</th>\n      <td>Alabama</td>\n      <td>Autauga County</td>\n      <td>01001</td>\n      <td>55869</td>\n    </tr>\n    <tr>\n      <th>2</th>\n      <td>Alabama</td>\n      <td>Baldwin County</td>\n      <td>01003</td>\n      <td>223234</td>\n    </tr>\n  </tbody>\n</table>\n</div>"
          },
          "metadata": {},
          "execution_count": 22
        }
      ],
      "source": [
        "us_pop_df = pd.read_pickle(r\"C:\\Users\\adiad\\Anaconda3\\envs\\CovidApp\\covidapp\\data_clean\\us_pop_df.pkl\")\n",
        "us_pop_df.head(3)"
      ]
    },
    {
      "cell_type": "code",
      "execution_count": 67,
      "metadata": {},
      "outputs": [
        {
          "output_type": "stream",
          "name": "stdout",
          "text": "FIPS  Population\n01001 55869\n01003 223234\n01005 24686\n"
        }
      ],
      "source": [
        "us_pop_dict = {}\n",
        "us_pop_df = us_pop_df[us_pop_df.FIPS.notna()]\n",
        "for fips in us_pop_df.FIPS:\n",
        "    pop = us_pop_df.loc[us_pop_df.FIPS == fips, \"Population\"].values[0]\n",
        "    us_pop_dict.update({fips:pop})\n",
        "\n",
        "print(\"FIPS  Population\")\n",
        "for x in list(us_pop_dict)[:3]:\n",
        "    print (x, us_pop_dict[x])"
      ]
    },
    {
      "cell_type": "code",
      "execution_count": 71,
      "metadata": {},
      "outputs": [
        {
          "output_type": "stream",
          "name": "stdout",
          "text": "5.9959 seconds\n"
        }
      ],
      "source": [
        "import time\n",
        "us_df = df[(df[\"Country/Region\"] == \"United States of America\") & \\\n",
        "           (df.Date > pd.datetime(2020, 3, 21))]\n",
        "tic = time.perf_counter()\n",
        "us_df[\"Confirmed\"] = us_df.Confirmed / us_df.FIPS.replace(us_pop_dict)\n",
        "toc = time.perf_counter()\n",
        "us_df.head(5)\n",
        "print(f\"{toc - tic:0.4f} seconds\")"
      ]
    },
    {
      "cell_type": "code",
      "execution_count": 76,
      "metadata": {},
      "outputs": [
        {
          "output_type": "execute_result",
          "data": {
            "text/plain": "         Country  Population\n0          China  1433783686\n1          India  1366417754\n2  United States   329064917",
            "text/html": "<div>\n<style scoped>\n    .dataframe tbody tr th:only-of-type {\n        vertical-align: middle;\n    }\n\n    .dataframe tbody tr th {\n        vertical-align: top;\n    }\n\n    .dataframe thead th {\n        text-align: right;\n    }\n</style>\n<table border=\"1\" class=\"dataframe\">\n  <thead>\n    <tr style=\"text-align: right;\">\n      <th></th>\n      <th>Country</th>\n      <th>Population</th>\n    </tr>\n  </thead>\n  <tbody>\n    <tr>\n      <th>0</th>\n      <td>China</td>\n      <td>1433783686</td>\n    </tr>\n    <tr>\n      <th>1</th>\n      <td>India</td>\n      <td>1366417754</td>\n    </tr>\n    <tr>\n      <th>2</th>\n      <td>United States</td>\n      <td>329064917</td>\n    </tr>\n  </tbody>\n</table>\n</div>"
          },
          "metadata": {},
          "execution_count": 76
        }
      ],
      "source": [
        "world_pop_df = pd.read_pickle(r\"C:\\Users\\adiad\\Anaconda3\\envs\\CovidApp\\covidapp\\data_clean\\world_pop_df.pkl\")\n",
        "world_pop_df.head(3)"
      ]
    },
    {
      "cell_type": "code",
      "execution_count": 145,
      "metadata": {},
      "outputs": [],
      "source": [
        "from scipy.integrate import solve_ivp\n",
        "import numpy as np\n",
        "import matplotlib.pyplot as plt\n",
        "\n",
        "# assuming 1 person is infected in the whole population of size N\n",
        "# and the params d & r0 are providef in a listed arrange as:\n",
        "# [[t0, d0, r0], [t1, d1, r1], ...]\n",
        "# where t1, t2, etc. reprsent the beginning of new values for d & r\n",
        "# perc_recovered defines termination criteria for when to stop the sim\n",
        "def predict_sir(N, params_t, perc_recovered):\n",
        "\n",
        "    # define a function which \n",
        "    def SIR(t, y):\n",
        "        S = y[0]\n",
        "        I = y[1]\n",
        "        R = y[2]\n",
        "        return [-beta*S*I/N, beta*S*I/N-gamma*I, gamma*I]\n",
        "    \n",
        "    # define a function which extras individual parameters given the time index\n",
        "    def get_params(t_ind):\n",
        "\n",
        "        # get basic parameters\n",
        "        t = params_t[t_ind][0]\n",
        "        d = params_t[t_ind][1]\n",
        "        r = params_t[t_ind][2]\n",
        "\n",
        "        # derive exponential function parameters\n",
        "        gamma = 1 / d\n",
        "        beta = r * gamma\n",
        "\n",
        "        return t, gamma, beta\n",
        "\n",
        "    # simulatd population sub-group sizes\n",
        "    sir_init_pop = [N - 1, 1, 0] # [S, I, R]\n",
        "\n",
        "    # set initial values for loop variables\n",
        "    recovered = 0\n",
        "    loop_count = 0\n",
        "    n_periods = len(params_t)\n",
        "    period_ind = 0\n",
        "    t_period_loop = 30 # sim will pause to check termination criterion\n",
        "    t_start, gamma, beta = get_params(period_ind)\n",
        "    if n_periods == 1:\n",
        "        t_period_end = t_period_loop\n",
        "    else:\n",
        "        period_ind_max = n_periods - 1\n",
        "        t_end, ignore1, ignore2 = get_params(period_ind + 1)\n",
        "        t_period_end = t_end\n",
        "\n",
        "    while (recovered < perc_recovered * N) & (loop_count < 24):\n",
        "\n",
        "        # predict SIR for loop period days\n",
        "        #######################################################\n",
        "        # inspect these arguments\n",
        "        predict_period_sir = solve_ivp(SIR, [0, t_period_end], sir_init_pop, \\\n",
        "                                       t_eval=np.arange(0, t_period_end, 1))\n",
        "        #######################################################\n",
        "\n",
        "        # append loop results to previous results\n",
        "        if recovered == 0:\n",
        "            t = predict_period_sir[\"t\"]\n",
        "            s = predict_period_sir[\"y\"][0]\n",
        "            i = predict_period_sir[\"y\"][1]\n",
        "            r = predict_period_sir[\"y\"][2]\n",
        "        else:\n",
        "            # segmenting the sim into periods causes the first day's prediction\n",
        "            # to be a repeat of the results from the last loop's last day, so\n",
        "            # drop the first day\n",
        "            t = np.concatenate((t, t_start - 1 + predict_period_sir[\"t\"][1:]))\n",
        "            s = np.concatenate((s, predict_period_sir[\"y\"][0][1:]))\n",
        "            i = np.concatenate((i, predict_period_sir[\"y\"][1][1:]))\n",
        "            r = np.concatenate((r, predict_period_sir[\"y\"][2][1:]))\n",
        "        \n",
        "        # update loop variables with new period results\n",
        "        recovered = r[-1]\n",
        "        sir_init_pop = [s[-1], i[-1], r[-1]]\n",
        "        loop_count += 1\n",
        "\n",
        "        if n_periods > 1:\n",
        "            if period_ind_max > period_ind + 1:\n",
        "                # simulate the next period until its end\n",
        "                period_ind += 1\n",
        "                t_start, gamma, beta = get_params(period_ind)\n",
        "                t_end, ignore1, ignore2 = get_params(period_ind + 1)\n",
        "                t_period_end = t_end - t_start\n",
        "            elif period_ind_max > period_ind:\n",
        "                # simulate the last period until termination criteria are met\n",
        "                period_ind += 1\n",
        "                t_start, gamma, beta = get_params(period_ind)\n",
        "                t_period_end = t_period_loop\n",
        "            else:\n",
        "                # continue simulating the last period until termination criteria are met\n",
        "                t_start = t[-1] + 1\n",
        "        else:\n",
        "            # continue simulating the only period until termination criteria are met\n",
        "            t_start = t[-1] + 1\n",
        "\n",
        "    \n",
        "    return np.column_stack((t, s, i, r))"
      ]
    },
    {
      "cell_type": "code",
      "execution_count": 146,
      "metadata": {
        "tags": [
          "outputPrepend",
          "outputPrepend"
        ]
      },
      "outputs": [],
      "source": [
        "sir_scenario1 = predict_sir(10000, [[0, 10, 1.2]], 0.9)\n",
        "sir_scenario2 = predict_sir(10000, [[0, 10, 2]], 0.9)\n",
        "#sir_scenario2 = predict_sir(10000, [[0, 14, 3], [20, 14, 0.9], [40, 14, 1.5]], 0.9)"
      ]
    },
    {
      "cell_type": "code",
      "execution_count": 147,
      "metadata": {},
      "outputs": [
        {
          "output_type": "display_data",
          "data": {
            "text/plain": "<Figure size 432x288 with 1 Axes>",
            "image/svg+xml": "<?xml version=\"1.0\" encoding=\"utf-8\" standalone=\"no\"?>\r\n<!DOCTYPE svg PUBLIC \"-//W3C//DTD SVG 1.1//EN\"\r\n  \"http://www.w3.org/Graphics/SVG/1.1/DTD/svg11.dtd\">\r\n<!-- Created with matplotlib (https://matplotlib.org/) -->\r\n<svg height=\"248.518125pt\" version=\"1.1\" viewBox=\"0 0 381.65 248.518125\" width=\"381.65pt\" xmlns=\"http://www.w3.org/2000/svg\" xmlns:xlink=\"http://www.w3.org/1999/xlink\">\r\n <defs>\r\n  <style type=\"text/css\">\r\n*{stroke-linecap:butt;stroke-linejoin:round;}\r\n  </style>\r\n </defs>\r\n <g id=\"figure_1\">\r\n  <g id=\"patch_1\">\r\n   <path d=\"M -0 248.518125 \r\nL 381.65 248.518125 \r\nL 381.65 0 \r\nL -0 0 \r\nz\r\n\" style=\"fill:none;\"/>\r\n  </g>\r\n  <g id=\"axes_1\">\r\n   <g id=\"patch_2\">\r\n    <path d=\"M 39.65 224.64 \r\nL 374.45 224.64 \r\nL 374.45 7.2 \r\nL 39.65 7.2 \r\nz\r\n\" style=\"fill:#ffffff;\"/>\r\n   </g>\r\n   <g id=\"PathCollection_1\">\r\n    <defs>\r\n     <path d=\"M 0 3 \r\nC 0.795609 3 1.55874 2.683901 2.12132 2.12132 \r\nC 2.683901 1.55874 3 0.795609 3 0 \r\nC 3 -0.795609 2.683901 -1.55874 2.12132 -2.12132 \r\nC 1.55874 -2.683901 0.795609 -3 0 -3 \r\nC -0.795609 -3 -1.55874 -2.683901 -2.12132 -2.12132 \r\nC -2.683901 -1.55874 -3 -0.795609 -3 0 \r\nC -3 0.795609 -2.683901 1.55874 -2.12132 2.12132 \r\nC -1.55874 2.683901 -0.795609 3 0 3 \r\nz\r\n\" id=\"m3b8428b64b\" style=\"stroke:#1f77b4;\"/>\r\n    </defs>\r\n    <g clip-path=\"url(#pfadf6ed532)\">\r\n     <use style=\"fill:#1f77b4;stroke:#1f77b4;\" x=\"54.868182\" xlink:href=\"#m3b8428b64b\" y=\"214.693345\"/>\r\n     <use style=\"fill:#1f77b4;stroke:#1f77b4;\" x=\"55.305486\" xlink:href=\"#m3b8428b64b\" y=\"214.692073\"/>\r\n     <use style=\"fill:#1f77b4;stroke:#1f77b4;\" x=\"55.74279\" xlink:href=\"#m3b8428b64b\" y=\"214.690775\"/>\r\n     <use style=\"fill:#1f77b4;stroke:#1f77b4;\" x=\"56.180094\" xlink:href=\"#m3b8428b64b\" y=\"214.689451\"/>\r\n     <use style=\"fill:#1f77b4;stroke:#1f77b4;\" x=\"56.617398\" xlink:href=\"#m3b8428b64b\" y=\"214.6881\"/>\r\n     <use style=\"fill:#1f77b4;stroke:#1f77b4;\" x=\"57.054702\" xlink:href=\"#m3b8428b64b\" y=\"214.686723\"/>\r\n     <use style=\"fill:#1f77b4;stroke:#1f77b4;\" x=\"57.492006\" xlink:href=\"#m3b8428b64b\" y=\"214.685317\"/>\r\n     <use style=\"fill:#1f77b4;stroke:#1f77b4;\" x=\"57.92931\" xlink:href=\"#m3b8428b64b\" y=\"214.683884\"/>\r\n     <use style=\"fill:#1f77b4;stroke:#1f77b4;\" x=\"58.366614\" xlink:href=\"#m3b8428b64b\" y=\"214.682421\"/>\r\n     <use style=\"fill:#1f77b4;stroke:#1f77b4;\" x=\"58.803918\" xlink:href=\"#m3b8428b64b\" y=\"214.680929\"/>\r\n     <use style=\"fill:#1f77b4;stroke:#1f77b4;\" x=\"59.241223\" xlink:href=\"#m3b8428b64b\" y=\"214.679408\"/>\r\n     <use style=\"fill:#1f77b4;stroke:#1f77b4;\" x=\"59.678527\" xlink:href=\"#m3b8428b64b\" y=\"214.677855\"/>\r\n     <use style=\"fill:#1f77b4;stroke:#1f77b4;\" x=\"60.115831\" xlink:href=\"#m3b8428b64b\" y=\"214.676272\"/>\r\n     <use style=\"fill:#1f77b4;stroke:#1f77b4;\" x=\"60.553135\" xlink:href=\"#m3b8428b64b\" y=\"214.674656\"/>\r\n     <use style=\"fill:#1f77b4;stroke:#1f77b4;\" x=\"60.990439\" xlink:href=\"#m3b8428b64b\" y=\"214.673009\"/>\r\n     <use style=\"fill:#1f77b4;stroke:#1f77b4;\" x=\"61.427743\" xlink:href=\"#m3b8428b64b\" y=\"214.671328\"/>\r\n     <use style=\"fill:#1f77b4;stroke:#1f77b4;\" x=\"61.865047\" xlink:href=\"#m3b8428b64b\" y=\"214.669613\"/>\r\n     <use style=\"fill:#1f77b4;stroke:#1f77b4;\" x=\"62.302351\" xlink:href=\"#m3b8428b64b\" y=\"214.667864\"/>\r\n     <use style=\"fill:#1f77b4;stroke:#1f77b4;\" x=\"62.739655\" xlink:href=\"#m3b8428b64b\" y=\"214.66608\"/>\r\n     <use style=\"fill:#1f77b4;stroke:#1f77b4;\" x=\"63.176959\" xlink:href=\"#m3b8428b64b\" y=\"214.664261\"/>\r\n     <use style=\"fill:#1f77b4;stroke:#1f77b4;\" x=\"63.614263\" xlink:href=\"#m3b8428b64b\" y=\"214.662404\"/>\r\n     <use style=\"fill:#1f77b4;stroke:#1f77b4;\" x=\"64.051567\" xlink:href=\"#m3b8428b64b\" y=\"214.660511\"/>\r\n     <use style=\"fill:#1f77b4;stroke:#1f77b4;\" x=\"64.488871\" xlink:href=\"#m3b8428b64b\" y=\"214.65858\"/>\r\n     <use style=\"fill:#1f77b4;stroke:#1f77b4;\" x=\"64.926176\" xlink:href=\"#m3b8428b64b\" y=\"214.656609\"/>\r\n     <use style=\"fill:#1f77b4;stroke:#1f77b4;\" x=\"65.36348\" xlink:href=\"#m3b8428b64b\" y=\"214.6546\"/>\r\n     <use style=\"fill:#1f77b4;stroke:#1f77b4;\" x=\"65.800784\" xlink:href=\"#m3b8428b64b\" y=\"214.65255\"/>\r\n     <use style=\"fill:#1f77b4;stroke:#1f77b4;\" x=\"66.238088\" xlink:href=\"#m3b8428b64b\" y=\"214.650459\"/>\r\n     <use style=\"fill:#1f77b4;stroke:#1f77b4;\" x=\"66.675392\" xlink:href=\"#m3b8428b64b\" y=\"214.648327\"/>\r\n     <use style=\"fill:#1f77b4;stroke:#1f77b4;\" x=\"67.112696\" xlink:href=\"#m3b8428b64b\" y=\"214.646151\"/>\r\n     <use style=\"fill:#1f77b4;stroke:#1f77b4;\" x=\"67.55\" xlink:href=\"#m3b8428b64b\" y=\"214.643932\"/>\r\n     <use style=\"fill:#1f77b4;stroke:#1f77b4;\" x=\"67.987304\" xlink:href=\"#m3b8428b64b\" y=\"214.641669\"/>\r\n     <use style=\"fill:#1f77b4;stroke:#1f77b4;\" x=\"68.424608\" xlink:href=\"#m3b8428b64b\" y=\"214.639361\"/>\r\n     <use style=\"fill:#1f77b4;stroke:#1f77b4;\" x=\"68.861912\" xlink:href=\"#m3b8428b64b\" y=\"214.637006\"/>\r\n     <use style=\"fill:#1f77b4;stroke:#1f77b4;\" x=\"69.299216\" xlink:href=\"#m3b8428b64b\" y=\"214.634604\"/>\r\n     <use style=\"fill:#1f77b4;stroke:#1f77b4;\" x=\"69.73652\" xlink:href=\"#m3b8428b64b\" y=\"214.632155\"/>\r\n     <use style=\"fill:#1f77b4;stroke:#1f77b4;\" x=\"70.173824\" xlink:href=\"#m3b8428b64b\" y=\"214.629656\"/>\r\n     <use style=\"fill:#1f77b4;stroke:#1f77b4;\" x=\"70.611129\" xlink:href=\"#m3b8428b64b\" y=\"214.627107\"/>\r\n     <use style=\"fill:#1f77b4;stroke:#1f77b4;\" x=\"71.048433\" xlink:href=\"#m3b8428b64b\" y=\"214.624508\"/>\r\n     <use style=\"fill:#1f77b4;stroke:#1f77b4;\" x=\"71.485737\" xlink:href=\"#m3b8428b64b\" y=\"214.621857\"/>\r\n     <use style=\"fill:#1f77b4;stroke:#1f77b4;\" x=\"71.923041\" xlink:href=\"#m3b8428b64b\" y=\"214.619153\"/>\r\n     <use style=\"fill:#1f77b4;stroke:#1f77b4;\" x=\"72.360345\" xlink:href=\"#m3b8428b64b\" y=\"214.616395\"/>\r\n     <use style=\"fill:#1f77b4;stroke:#1f77b4;\" x=\"72.797649\" xlink:href=\"#m3b8428b64b\" y=\"214.613582\"/>\r\n     <use style=\"fill:#1f77b4;stroke:#1f77b4;\" x=\"73.234953\" xlink:href=\"#m3b8428b64b\" y=\"214.610712\"/>\r\n     <use style=\"fill:#1f77b4;stroke:#1f77b4;\" x=\"73.672257\" xlink:href=\"#m3b8428b64b\" y=\"214.607786\"/>\r\n     <use style=\"fill:#1f77b4;stroke:#1f77b4;\" x=\"74.109561\" xlink:href=\"#m3b8428b64b\" y=\"214.604802\"/>\r\n     <use style=\"fill:#1f77b4;stroke:#1f77b4;\" x=\"74.546865\" xlink:href=\"#m3b8428b64b\" y=\"214.601758\"/>\r\n     <use style=\"fill:#1f77b4;stroke:#1f77b4;\" x=\"74.984169\" xlink:href=\"#m3b8428b64b\" y=\"214.598653\"/>\r\n     <use style=\"fill:#1f77b4;stroke:#1f77b4;\" x=\"75.421473\" xlink:href=\"#m3b8428b64b\" y=\"214.595487\"/>\r\n     <use style=\"fill:#1f77b4;stroke:#1f77b4;\" x=\"75.858777\" xlink:href=\"#m3b8428b64b\" y=\"214.592258\"/>\r\n     <use style=\"fill:#1f77b4;stroke:#1f77b4;\" x=\"76.296082\" xlink:href=\"#m3b8428b64b\" y=\"214.588964\"/>\r\n     <use style=\"fill:#1f77b4;stroke:#1f77b4;\" x=\"76.733386\" xlink:href=\"#m3b8428b64b\" y=\"214.585605\"/>\r\n     <use style=\"fill:#1f77b4;stroke:#1f77b4;\" x=\"77.17069\" xlink:href=\"#m3b8428b64b\" y=\"214.58218\"/>\r\n     <use style=\"fill:#1f77b4;stroke:#1f77b4;\" x=\"77.607994\" xlink:href=\"#m3b8428b64b\" y=\"214.578686\"/>\r\n     <use style=\"fill:#1f77b4;stroke:#1f77b4;\" x=\"78.045298\" xlink:href=\"#m3b8428b64b\" y=\"214.575123\"/>\r\n     <use style=\"fill:#1f77b4;stroke:#1f77b4;\" x=\"78.482602\" xlink:href=\"#m3b8428b64b\" y=\"214.57149\"/>\r\n     <use style=\"fill:#1f77b4;stroke:#1f77b4;\" x=\"78.919906\" xlink:href=\"#m3b8428b64b\" y=\"214.567784\"/>\r\n     <use style=\"fill:#1f77b4;stroke:#1f77b4;\" x=\"79.35721\" xlink:href=\"#m3b8428b64b\" y=\"214.564005\"/>\r\n     <use style=\"fill:#1f77b4;stroke:#1f77b4;\" x=\"79.794514\" xlink:href=\"#m3b8428b64b\" y=\"214.560151\"/>\r\n     <use style=\"fill:#1f77b4;stroke:#1f77b4;\" x=\"80.231818\" xlink:href=\"#m3b8428b64b\" y=\"214.55622\"/>\r\n     <use style=\"fill:#1f77b4;stroke:#1f77b4;\" x=\"80.669122\" xlink:href=\"#m3b8428b64b\" y=\"214.552212\"/>\r\n     <use style=\"fill:#1f77b4;stroke:#1f77b4;\" x=\"81.106426\" xlink:href=\"#m3b8428b64b\" y=\"214.548125\"/>\r\n     <use style=\"fill:#1f77b4;stroke:#1f77b4;\" x=\"81.54373\" xlink:href=\"#m3b8428b64b\" y=\"214.543957\"/>\r\n     <use style=\"fill:#1f77b4;stroke:#1f77b4;\" x=\"81.981034\" xlink:href=\"#m3b8428b64b\" y=\"214.539706\"/>\r\n     <use style=\"fill:#1f77b4;stroke:#1f77b4;\" x=\"82.418339\" xlink:href=\"#m3b8428b64b\" y=\"214.535371\"/>\r\n     <use style=\"fill:#1f77b4;stroke:#1f77b4;\" x=\"82.855643\" xlink:href=\"#m3b8428b64b\" y=\"214.530951\"/>\r\n     <use style=\"fill:#1f77b4;stroke:#1f77b4;\" x=\"83.292947\" xlink:href=\"#m3b8428b64b\" y=\"214.526443\"/>\r\n     <use style=\"fill:#1f77b4;stroke:#1f77b4;\" x=\"83.730251\" xlink:href=\"#m3b8428b64b\" y=\"214.521847\"/>\r\n     <use style=\"fill:#1f77b4;stroke:#1f77b4;\" x=\"84.167555\" xlink:href=\"#m3b8428b64b\" y=\"214.51716\"/>\r\n     <use style=\"fill:#1f77b4;stroke:#1f77b4;\" x=\"84.604859\" xlink:href=\"#m3b8428b64b\" y=\"214.512381\"/>\r\n     <use style=\"fill:#1f77b4;stroke:#1f77b4;\" x=\"85.042163\" xlink:href=\"#m3b8428b64b\" y=\"214.507507\"/>\r\n     <use style=\"fill:#1f77b4;stroke:#1f77b4;\" x=\"85.479467\" xlink:href=\"#m3b8428b64b\" y=\"214.502538\"/>\r\n     <use style=\"fill:#1f77b4;stroke:#1f77b4;\" x=\"85.916771\" xlink:href=\"#m3b8428b64b\" y=\"214.497471\"/>\r\n     <use style=\"fill:#1f77b4;stroke:#1f77b4;\" x=\"86.354075\" xlink:href=\"#m3b8428b64b\" y=\"214.492304\"/>\r\n     <use style=\"fill:#1f77b4;stroke:#1f77b4;\" x=\"86.791379\" xlink:href=\"#m3b8428b64b\" y=\"214.487036\"/>\r\n     <use style=\"fill:#1f77b4;stroke:#1f77b4;\" x=\"87.228683\" xlink:href=\"#m3b8428b64b\" y=\"214.481665\"/>\r\n     <use style=\"fill:#1f77b4;stroke:#1f77b4;\" x=\"87.665987\" xlink:href=\"#m3b8428b64b\" y=\"214.476188\"/>\r\n     <use style=\"fill:#1f77b4;stroke:#1f77b4;\" x=\"88.103292\" xlink:href=\"#m3b8428b64b\" y=\"214.470604\"/>\r\n     <use style=\"fill:#1f77b4;stroke:#1f77b4;\" x=\"88.540596\" xlink:href=\"#m3b8428b64b\" y=\"214.46491\"/>\r\n     <use style=\"fill:#1f77b4;stroke:#1f77b4;\" x=\"88.9779\" xlink:href=\"#m3b8428b64b\" y=\"214.459105\"/>\r\n     <use style=\"fill:#1f77b4;stroke:#1f77b4;\" x=\"89.415204\" xlink:href=\"#m3b8428b64b\" y=\"214.453186\"/>\r\n     <use style=\"fill:#1f77b4;stroke:#1f77b4;\" x=\"89.852508\" xlink:href=\"#m3b8428b64b\" y=\"214.447152\"/>\r\n     <use style=\"fill:#1f77b4;stroke:#1f77b4;\" x=\"90.289812\" xlink:href=\"#m3b8428b64b\" y=\"214.441\"/>\r\n     <use style=\"fill:#1f77b4;stroke:#1f77b4;\" x=\"90.727116\" xlink:href=\"#m3b8428b64b\" y=\"214.434727\"/>\r\n     <use style=\"fill:#1f77b4;stroke:#1f77b4;\" x=\"91.16442\" xlink:href=\"#m3b8428b64b\" y=\"214.428332\"/>\r\n     <use style=\"fill:#1f77b4;stroke:#1f77b4;\" x=\"91.601724\" xlink:href=\"#m3b8428b64b\" y=\"214.421813\"/>\r\n     <use style=\"fill:#1f77b4;stroke:#1f77b4;\" x=\"92.039028\" xlink:href=\"#m3b8428b64b\" y=\"214.415167\"/>\r\n     <use style=\"fill:#1f77b4;stroke:#1f77b4;\" x=\"92.476332\" xlink:href=\"#m3b8428b64b\" y=\"214.408391\"/>\r\n     <use style=\"fill:#1f77b4;stroke:#1f77b4;\" x=\"92.913636\" xlink:href=\"#m3b8428b64b\" y=\"214.401484\"/>\r\n     <use style=\"fill:#1f77b4;stroke:#1f77b4;\" x=\"93.35094\" xlink:href=\"#m3b8428b64b\" y=\"214.394442\"/>\r\n     <use style=\"fill:#1f77b4;stroke:#1f77b4;\" x=\"93.788245\" xlink:href=\"#m3b8428b64b\" y=\"214.387264\"/>\r\n     <use style=\"fill:#1f77b4;stroke:#1f77b4;\" x=\"94.225549\" xlink:href=\"#m3b8428b64b\" y=\"214.379946\"/>\r\n     <use style=\"fill:#1f77b4;stroke:#1f77b4;\" x=\"94.662853\" xlink:href=\"#m3b8428b64b\" y=\"214.372487\"/>\r\n     <use style=\"fill:#1f77b4;stroke:#1f77b4;\" x=\"95.100157\" xlink:href=\"#m3b8428b64b\" y=\"214.364883\"/>\r\n     <use style=\"fill:#1f77b4;stroke:#1f77b4;\" x=\"95.537461\" xlink:href=\"#m3b8428b64b\" y=\"214.357132\"/>\r\n     <use style=\"fill:#1f77b4;stroke:#1f77b4;\" x=\"95.974765\" xlink:href=\"#m3b8428b64b\" y=\"214.349232\"/>\r\n     <use style=\"fill:#1f77b4;stroke:#1f77b4;\" x=\"96.412069\" xlink:href=\"#m3b8428b64b\" y=\"214.341179\"/>\r\n     <use style=\"fill:#1f77b4;stroke:#1f77b4;\" x=\"96.849373\" xlink:href=\"#m3b8428b64b\" y=\"214.33297\"/>\r\n     <use style=\"fill:#1f77b4;stroke:#1f77b4;\" x=\"97.286677\" xlink:href=\"#m3b8428b64b\" y=\"214.324604\"/>\r\n     <use style=\"fill:#1f77b4;stroke:#1f77b4;\" x=\"97.723981\" xlink:href=\"#m3b8428b64b\" y=\"214.316077\"/>\r\n     <use style=\"fill:#1f77b4;stroke:#1f77b4;\" x=\"98.161285\" xlink:href=\"#m3b8428b64b\" y=\"214.307385\"/>\r\n     <use style=\"fill:#1f77b4;stroke:#1f77b4;\" x=\"98.598589\" xlink:href=\"#m3b8428b64b\" y=\"214.298527\"/>\r\n     <use style=\"fill:#1f77b4;stroke:#1f77b4;\" x=\"99.035893\" xlink:href=\"#m3b8428b64b\" y=\"214.289499\"/>\r\n     <use style=\"fill:#1f77b4;stroke:#1f77b4;\" x=\"99.473197\" xlink:href=\"#m3b8428b64b\" y=\"214.280298\"/>\r\n     <use style=\"fill:#1f77b4;stroke:#1f77b4;\" x=\"99.910502\" xlink:href=\"#m3b8428b64b\" y=\"214.270921\"/>\r\n     <use style=\"fill:#1f77b4;stroke:#1f77b4;\" x=\"100.347806\" xlink:href=\"#m3b8428b64b\" y=\"214.261365\"/>\r\n     <use style=\"fill:#1f77b4;stroke:#1f77b4;\" x=\"100.78511\" xlink:href=\"#m3b8428b64b\" y=\"214.251626\"/>\r\n     <use style=\"fill:#1f77b4;stroke:#1f77b4;\" x=\"101.222414\" xlink:href=\"#m3b8428b64b\" y=\"214.241701\"/>\r\n     <use style=\"fill:#1f77b4;stroke:#1f77b4;\" x=\"101.659718\" xlink:href=\"#m3b8428b64b\" y=\"214.231588\"/>\r\n     <use style=\"fill:#1f77b4;stroke:#1f77b4;\" x=\"102.097022\" xlink:href=\"#m3b8428b64b\" y=\"214.221282\"/>\r\n     <use style=\"fill:#1f77b4;stroke:#1f77b4;\" x=\"102.534326\" xlink:href=\"#m3b8428b64b\" y=\"214.21078\"/>\r\n     <use style=\"fill:#1f77b4;stroke:#1f77b4;\" x=\"102.97163\" xlink:href=\"#m3b8428b64b\" y=\"214.20008\"/>\r\n     <use style=\"fill:#1f77b4;stroke:#1f77b4;\" x=\"103.408934\" xlink:href=\"#m3b8428b64b\" y=\"214.189176\"/>\r\n     <use style=\"fill:#1f77b4;stroke:#1f77b4;\" x=\"103.846238\" xlink:href=\"#m3b8428b64b\" y=\"214.178066\"/>\r\n     <use style=\"fill:#1f77b4;stroke:#1f77b4;\" x=\"104.283542\" xlink:href=\"#m3b8428b64b\" y=\"214.166747\"/>\r\n     <use style=\"fill:#1f77b4;stroke:#1f77b4;\" x=\"104.720846\" xlink:href=\"#m3b8428b64b\" y=\"214.155214\"/>\r\n     <use style=\"fill:#1f77b4;stroke:#1f77b4;\" x=\"105.15815\" xlink:href=\"#m3b8428b64b\" y=\"214.143463\"/>\r\n     <use style=\"fill:#1f77b4;stroke:#1f77b4;\" x=\"105.595455\" xlink:href=\"#m3b8428b64b\" y=\"214.131492\"/>\r\n     <use style=\"fill:#1f77b4;stroke:#1f77b4;\" x=\"106.032759\" xlink:href=\"#m3b8428b64b\" y=\"214.119296\"/>\r\n     <use style=\"fill:#1f77b4;stroke:#1f77b4;\" x=\"106.470063\" xlink:href=\"#m3b8428b64b\" y=\"214.106871\"/>\r\n     <use style=\"fill:#1f77b4;stroke:#1f77b4;\" x=\"106.907367\" xlink:href=\"#m3b8428b64b\" y=\"214.094214\"/>\r\n     <use style=\"fill:#1f77b4;stroke:#1f77b4;\" x=\"107.344671\" xlink:href=\"#m3b8428b64b\" y=\"214.08132\"/>\r\n     <use style=\"fill:#1f77b4;stroke:#1f77b4;\" x=\"107.781975\" xlink:href=\"#m3b8428b64b\" y=\"214.068186\"/>\r\n     <use style=\"fill:#1f77b4;stroke:#1f77b4;\" x=\"108.219279\" xlink:href=\"#m3b8428b64b\" y=\"214.054807\"/>\r\n     <use style=\"fill:#1f77b4;stroke:#1f77b4;\" x=\"108.656583\" xlink:href=\"#m3b8428b64b\" y=\"214.041179\"/>\r\n     <use style=\"fill:#1f77b4;stroke:#1f77b4;\" x=\"109.093887\" xlink:href=\"#m3b8428b64b\" y=\"214.027299\"/>\r\n     <use style=\"fill:#1f77b4;stroke:#1f77b4;\" x=\"109.531191\" xlink:href=\"#m3b8428b64b\" y=\"214.013161\"/>\r\n     <use style=\"fill:#1f77b4;stroke:#1f77b4;\" x=\"109.968495\" xlink:href=\"#m3b8428b64b\" y=\"213.998762\"/>\r\n     <use style=\"fill:#1f77b4;stroke:#1f77b4;\" x=\"110.405799\" xlink:href=\"#m3b8428b64b\" y=\"213.984097\"/>\r\n     <use style=\"fill:#1f77b4;stroke:#1f77b4;\" x=\"110.843103\" xlink:href=\"#m3b8428b64b\" y=\"213.969162\"/>\r\n     <use style=\"fill:#1f77b4;stroke:#1f77b4;\" x=\"111.280408\" xlink:href=\"#m3b8428b64b\" y=\"213.953953\"/>\r\n     <use style=\"fill:#1f77b4;stroke:#1f77b4;\" x=\"111.717712\" xlink:href=\"#m3b8428b64b\" y=\"213.938465\"/>\r\n     <use style=\"fill:#1f77b4;stroke:#1f77b4;\" x=\"112.155016\" xlink:href=\"#m3b8428b64b\" y=\"213.922693\"/>\r\n     <use style=\"fill:#1f77b4;stroke:#1f77b4;\" x=\"112.59232\" xlink:href=\"#m3b8428b64b\" y=\"213.906633\"/>\r\n     <use style=\"fill:#1f77b4;stroke:#1f77b4;\" x=\"113.029624\" xlink:href=\"#m3b8428b64b\" y=\"213.890281\"/>\r\n     <use style=\"fill:#1f77b4;stroke:#1f77b4;\" x=\"113.466928\" xlink:href=\"#m3b8428b64b\" y=\"213.873631\"/>\r\n     <use style=\"fill:#1f77b4;stroke:#1f77b4;\" x=\"113.904232\" xlink:href=\"#m3b8428b64b\" y=\"213.856679\"/>\r\n     <use style=\"fill:#1f77b4;stroke:#1f77b4;\" x=\"114.341536\" xlink:href=\"#m3b8428b64b\" y=\"213.83942\"/>\r\n     <use style=\"fill:#1f77b4;stroke:#1f77b4;\" x=\"114.77884\" xlink:href=\"#m3b8428b64b\" y=\"213.82185\"/>\r\n     <use style=\"fill:#1f77b4;stroke:#1f77b4;\" x=\"115.216144\" xlink:href=\"#m3b8428b64b\" y=\"213.803963\"/>\r\n     <use style=\"fill:#1f77b4;stroke:#1f77b4;\" x=\"115.653448\" xlink:href=\"#m3b8428b64b\" y=\"213.785755\"/>\r\n     <use style=\"fill:#1f77b4;stroke:#1f77b4;\" x=\"116.090752\" xlink:href=\"#m3b8428b64b\" y=\"213.76722\"/>\r\n     <use style=\"fill:#1f77b4;stroke:#1f77b4;\" x=\"116.528056\" xlink:href=\"#m3b8428b64b\" y=\"213.748354\"/>\r\n     <use style=\"fill:#1f77b4;stroke:#1f77b4;\" x=\"116.965361\" xlink:href=\"#m3b8428b64b\" y=\"213.729152\"/>\r\n     <use style=\"fill:#1f77b4;stroke:#1f77b4;\" x=\"117.402665\" xlink:href=\"#m3b8428b64b\" y=\"213.709608\"/>\r\n     <use style=\"fill:#1f77b4;stroke:#1f77b4;\" x=\"117.839969\" xlink:href=\"#m3b8428b64b\" y=\"213.689717\"/>\r\n     <use style=\"fill:#1f77b4;stroke:#1f77b4;\" x=\"118.277273\" xlink:href=\"#m3b8428b64b\" y=\"213.669475\"/>\r\n     <use style=\"fill:#1f77b4;stroke:#1f77b4;\" x=\"118.714577\" xlink:href=\"#m3b8428b64b\" y=\"213.648876\"/>\r\n     <use style=\"fill:#1f77b4;stroke:#1f77b4;\" x=\"119.151881\" xlink:href=\"#m3b8428b64b\" y=\"213.627915\"/>\r\n     <use style=\"fill:#1f77b4;stroke:#1f77b4;\" x=\"119.589185\" xlink:href=\"#m3b8428b64b\" y=\"213.606586\"/>\r\n     <use style=\"fill:#1f77b4;stroke:#1f77b4;\" x=\"120.026489\" xlink:href=\"#m3b8428b64b\" y=\"213.584885\"/>\r\n     <use style=\"fill:#1f77b4;stroke:#1f77b4;\" x=\"120.463793\" xlink:href=\"#m3b8428b64b\" y=\"213.562806\"/>\r\n     <use style=\"fill:#1f77b4;stroke:#1f77b4;\" x=\"120.901097\" xlink:href=\"#m3b8428b64b\" y=\"213.540344\"/>\r\n     <use style=\"fill:#1f77b4;stroke:#1f77b4;\" x=\"121.338401\" xlink:href=\"#m3b8428b64b\" y=\"213.517493\"/>\r\n     <use style=\"fill:#1f77b4;stroke:#1f77b4;\" x=\"121.775705\" xlink:href=\"#m3b8428b64b\" y=\"213.494248\"/>\r\n     <use style=\"fill:#1f77b4;stroke:#1f77b4;\" x=\"122.213009\" xlink:href=\"#m3b8428b64b\" y=\"213.470603\"/>\r\n     <use style=\"fill:#1f77b4;stroke:#1f77b4;\" x=\"122.650313\" xlink:href=\"#m3b8428b64b\" y=\"213.446552\"/>\r\n     <use style=\"fill:#1f77b4;stroke:#1f77b4;\" x=\"123.087618\" xlink:href=\"#m3b8428b64b\" y=\"213.422092\"/>\r\n     <use style=\"fill:#1f77b4;stroke:#1f77b4;\" x=\"123.524922\" xlink:href=\"#m3b8428b64b\" y=\"213.397215\"/>\r\n     <use style=\"fill:#1f77b4;stroke:#1f77b4;\" x=\"123.962226\" xlink:href=\"#m3b8428b64b\" y=\"213.371917\"/>\r\n     <use style=\"fill:#1f77b4;stroke:#1f77b4;\" x=\"124.39953\" xlink:href=\"#m3b8428b64b\" y=\"213.346192\"/>\r\n     <use style=\"fill:#1f77b4;stroke:#1f77b4;\" x=\"124.836834\" xlink:href=\"#m3b8428b64b\" y=\"213.320035\"/>\r\n     <use style=\"fill:#1f77b4;stroke:#1f77b4;\" x=\"125.274138\" xlink:href=\"#m3b8428b64b\" y=\"213.29344\"/>\r\n     <use style=\"fill:#1f77b4;stroke:#1f77b4;\" x=\"125.711442\" xlink:href=\"#m3b8428b64b\" y=\"213.266401\"/>\r\n     <use style=\"fill:#1f77b4;stroke:#1f77b4;\" x=\"126.148746\" xlink:href=\"#m3b8428b64b\" y=\"213.238914\"/>\r\n     <use style=\"fill:#1f77b4;stroke:#1f77b4;\" x=\"126.58605\" xlink:href=\"#m3b8428b64b\" y=\"213.210973\"/>\r\n     <use style=\"fill:#1f77b4;stroke:#1f77b4;\" x=\"127.023354\" xlink:href=\"#m3b8428b64b\" y=\"213.182573\"/>\r\n     <use style=\"fill:#1f77b4;stroke:#1f77b4;\" x=\"127.460658\" xlink:href=\"#m3b8428b64b\" y=\"213.153707\"/>\r\n     <use style=\"fill:#1f77b4;stroke:#1f77b4;\" x=\"127.897962\" xlink:href=\"#m3b8428b64b\" y=\"213.124371\"/>\r\n     <use style=\"fill:#1f77b4;stroke:#1f77b4;\" x=\"128.335266\" xlink:href=\"#m3b8428b64b\" y=\"213.094558\"/>\r\n     <use style=\"fill:#1f77b4;stroke:#1f77b4;\" x=\"128.772571\" xlink:href=\"#m3b8428b64b\" y=\"213.064265\"/>\r\n     <use style=\"fill:#1f77b4;stroke:#1f77b4;\" x=\"129.209875\" xlink:href=\"#m3b8428b64b\" y=\"213.033485\"/>\r\n     <use style=\"fill:#1f77b4;stroke:#1f77b4;\" x=\"129.647179\" xlink:href=\"#m3b8428b64b\" y=\"213.002212\"/>\r\n     <use style=\"fill:#1f77b4;stroke:#1f77b4;\" x=\"130.084483\" xlink:href=\"#m3b8428b64b\" y=\"212.970443\"/>\r\n     <use style=\"fill:#1f77b4;stroke:#1f77b4;\" x=\"130.521787\" xlink:href=\"#m3b8428b64b\" y=\"212.93817\"/>\r\n     <use style=\"fill:#1f77b4;stroke:#1f77b4;\" x=\"130.959091\" xlink:href=\"#m3b8428b64b\" y=\"212.905391\"/>\r\n     <use style=\"fill:#1f77b4;stroke:#1f77b4;\" x=\"131.396395\" xlink:href=\"#m3b8428b64b\" y=\"212.872098\"/>\r\n     <use style=\"fill:#1f77b4;stroke:#1f77b4;\" x=\"131.833699\" xlink:href=\"#m3b8428b64b\" y=\"212.838288\"/>\r\n     <use style=\"fill:#1f77b4;stroke:#1f77b4;\" x=\"132.271003\" xlink:href=\"#m3b8428b64b\" y=\"212.803955\"/>\r\n     <use style=\"fill:#1f77b4;stroke:#1f77b4;\" x=\"132.708307\" xlink:href=\"#m3b8428b64b\" y=\"212.769095\"/>\r\n     <use style=\"fill:#1f77b4;stroke:#1f77b4;\" x=\"133.145611\" xlink:href=\"#m3b8428b64b\" y=\"212.733703\"/>\r\n     <use style=\"fill:#1f77b4;stroke:#1f77b4;\" x=\"133.582915\" xlink:href=\"#m3b8428b64b\" y=\"212.697774\"/>\r\n     <use style=\"fill:#1f77b4;stroke:#1f77b4;\" x=\"134.020219\" xlink:href=\"#m3b8428b64b\" y=\"212.661304\"/>\r\n     <use style=\"fill:#1f77b4;stroke:#1f77b4;\" x=\"134.457524\" xlink:href=\"#m3b8428b64b\" y=\"212.624287\"/>\r\n     <use style=\"fill:#1f77b4;stroke:#1f77b4;\" x=\"134.894828\" xlink:href=\"#m3b8428b64b\" y=\"212.586719\"/>\r\n     <use style=\"fill:#1f77b4;stroke:#1f77b4;\" x=\"135.332132\" xlink:href=\"#m3b8428b64b\" y=\"212.548595\"/>\r\n     <use style=\"fill:#1f77b4;stroke:#1f77b4;\" x=\"135.769436\" xlink:href=\"#m3b8428b64b\" y=\"212.509912\"/>\r\n     <use style=\"fill:#1f77b4;stroke:#1f77b4;\" x=\"136.20674\" xlink:href=\"#m3b8428b64b\" y=\"212.470666\"/>\r\n     <use style=\"fill:#1f77b4;stroke:#1f77b4;\" x=\"136.644044\" xlink:href=\"#m3b8428b64b\" y=\"212.430853\"/>\r\n     <use style=\"fill:#1f77b4;stroke:#1f77b4;\" x=\"137.081348\" xlink:href=\"#m3b8428b64b\" y=\"212.390469\"/>\r\n     <use style=\"fill:#1f77b4;stroke:#1f77b4;\" x=\"137.518652\" xlink:href=\"#m3b8428b64b\" y=\"212.34951\"/>\r\n     <use style=\"fill:#1f77b4;stroke:#1f77b4;\" x=\"137.955956\" xlink:href=\"#m3b8428b64b\" y=\"212.307975\"/>\r\n     <use style=\"fill:#1f77b4;stroke:#1f77b4;\" x=\"138.39326\" xlink:href=\"#m3b8428b64b\" y=\"212.265858\"/>\r\n     <use style=\"fill:#1f77b4;stroke:#1f77b4;\" x=\"138.830564\" xlink:href=\"#m3b8428b64b\" y=\"212.223158\"/>\r\n     <use style=\"fill:#1f77b4;stroke:#1f77b4;\" x=\"139.267868\" xlink:href=\"#m3b8428b64b\" y=\"212.179871\"/>\r\n     <use style=\"fill:#1f77b4;stroke:#1f77b4;\" x=\"139.705172\" xlink:href=\"#m3b8428b64b\" y=\"212.135996\"/>\r\n     <use style=\"fill:#1f77b4;stroke:#1f77b4;\" x=\"140.142476\" xlink:href=\"#m3b8428b64b\" y=\"212.091529\"/>\r\n     <use style=\"fill:#1f77b4;stroke:#1f77b4;\" x=\"140.579781\" xlink:href=\"#m3b8428b64b\" y=\"212.046469\"/>\r\n     <use style=\"fill:#1f77b4;stroke:#1f77b4;\" x=\"141.017085\" xlink:href=\"#m3b8428b64b\" y=\"212.000813\"/>\r\n     <use style=\"fill:#1f77b4;stroke:#1f77b4;\" x=\"141.454389\" xlink:href=\"#m3b8428b64b\" y=\"211.954559\"/>\r\n     <use style=\"fill:#1f77b4;stroke:#1f77b4;\" x=\"141.891693\" xlink:href=\"#m3b8428b64b\" y=\"211.907706\"/>\r\n     <use style=\"fill:#1f77b4;stroke:#1f77b4;\" x=\"142.328997\" xlink:href=\"#m3b8428b64b\" y=\"211.860252\"/>\r\n     <use style=\"fill:#1f77b4;stroke:#1f77b4;\" x=\"142.766301\" xlink:href=\"#m3b8428b64b\" y=\"211.812196\"/>\r\n     <use style=\"fill:#1f77b4;stroke:#1f77b4;\" x=\"143.203605\" xlink:href=\"#m3b8428b64b\" y=\"211.763539\"/>\r\n     <use style=\"fill:#1f77b4;stroke:#1f77b4;\" x=\"143.640909\" xlink:href=\"#m3b8428b64b\" y=\"211.714279\"/>\r\n     <use style=\"fill:#1f77b4;stroke:#1f77b4;\" x=\"144.078213\" xlink:href=\"#m3b8428b64b\" y=\"211.664416\"/>\r\n     <use style=\"fill:#1f77b4;stroke:#1f77b4;\" x=\"144.515517\" xlink:href=\"#m3b8428b64b\" y=\"211.613951\"/>\r\n     <use style=\"fill:#1f77b4;stroke:#1f77b4;\" x=\"144.952821\" xlink:href=\"#m3b8428b64b\" y=\"211.562885\"/>\r\n     <use style=\"fill:#1f77b4;stroke:#1f77b4;\" x=\"145.390125\" xlink:href=\"#m3b8428b64b\" y=\"211.511219\"/>\r\n     <use style=\"fill:#1f77b4;stroke:#1f77b4;\" x=\"145.827429\" xlink:href=\"#m3b8428b64b\" y=\"211.458954\"/>\r\n     <use style=\"fill:#1f77b4;stroke:#1f77b4;\" x=\"146.264734\" xlink:href=\"#m3b8428b64b\" y=\"211.406091\"/>\r\n     <use style=\"fill:#1f77b4;stroke:#1f77b4;\" x=\"146.702038\" xlink:href=\"#m3b8428b64b\" y=\"211.352632\"/>\r\n     <use style=\"fill:#1f77b4;stroke:#1f77b4;\" x=\"147.139342\" xlink:href=\"#m3b8428b64b\" y=\"211.298578\"/>\r\n     <use style=\"fill:#1f77b4;stroke:#1f77b4;\" x=\"147.576646\" xlink:href=\"#m3b8428b64b\" y=\"211.243934\"/>\r\n     <use style=\"fill:#1f77b4;stroke:#1f77b4;\" x=\"148.01395\" xlink:href=\"#m3b8428b64b\" y=\"211.188702\"/>\r\n     <use style=\"fill:#1f77b4;stroke:#1f77b4;\" x=\"148.451254\" xlink:href=\"#m3b8428b64b\" y=\"211.132884\"/>\r\n     <use style=\"fill:#1f77b4;stroke:#1f77b4;\" x=\"148.888558\" xlink:href=\"#m3b8428b64b\" y=\"211.076487\"/>\r\n     <use style=\"fill:#1f77b4;stroke:#1f77b4;\" x=\"149.325862\" xlink:href=\"#m3b8428b64b\" y=\"211.019513\"/>\r\n     <use style=\"fill:#1f77b4;stroke:#1f77b4;\" x=\"149.763166\" xlink:href=\"#m3b8428b64b\" y=\"210.961969\"/>\r\n     <use style=\"fill:#1f77b4;stroke:#1f77b4;\" x=\"150.20047\" xlink:href=\"#m3b8428b64b\" y=\"210.903859\"/>\r\n     <use style=\"fill:#1f77b4;stroke:#1f77b4;\" x=\"150.637774\" xlink:href=\"#m3b8428b64b\" y=\"210.84519\"/>\r\n     <use style=\"fill:#1f77b4;stroke:#1f77b4;\" x=\"151.075078\" xlink:href=\"#m3b8428b64b\" y=\"210.785967\"/>\r\n     <use style=\"fill:#1f77b4;stroke:#1f77b4;\" x=\"151.512382\" xlink:href=\"#m3b8428b64b\" y=\"210.726199\"/>\r\n     <use style=\"fill:#1f77b4;stroke:#1f77b4;\" x=\"151.949687\" xlink:href=\"#m3b8428b64b\" y=\"210.665892\"/>\r\n     <use style=\"fill:#1f77b4;stroke:#1f77b4;\" x=\"152.386991\" xlink:href=\"#m3b8428b64b\" y=\"210.605055\"/>\r\n     <use style=\"fill:#1f77b4;stroke:#1f77b4;\" x=\"152.824295\" xlink:href=\"#m3b8428b64b\" y=\"210.543695\"/>\r\n     <use style=\"fill:#1f77b4;stroke:#1f77b4;\" x=\"153.261599\" xlink:href=\"#m3b8428b64b\" y=\"210.481822\"/>\r\n     <use style=\"fill:#1f77b4;stroke:#1f77b4;\" x=\"153.698903\" xlink:href=\"#m3b8428b64b\" y=\"210.419444\"/>\r\n     <use style=\"fill:#1f77b4;stroke:#1f77b4;\" x=\"154.136207\" xlink:href=\"#m3b8428b64b\" y=\"210.356573\"/>\r\n     <use style=\"fill:#1f77b4;stroke:#1f77b4;\" x=\"154.573511\" xlink:href=\"#m3b8428b64b\" y=\"210.293217\"/>\r\n     <use style=\"fill:#1f77b4;stroke:#1f77b4;\" x=\"155.010815\" xlink:href=\"#m3b8428b64b\" y=\"210.229388\"/>\r\n     <use style=\"fill:#1f77b4;stroke:#1f77b4;\" x=\"155.448119\" xlink:href=\"#m3b8428b64b\" y=\"210.165098\"/>\r\n     <use style=\"fill:#1f77b4;stroke:#1f77b4;\" x=\"155.885423\" xlink:href=\"#m3b8428b64b\" y=\"210.100359\"/>\r\n     <use style=\"fill:#1f77b4;stroke:#1f77b4;\" x=\"156.322727\" xlink:href=\"#m3b8428b64b\" y=\"210.035184\"/>\r\n     <use style=\"fill:#1f77b4;stroke:#1f77b4;\" x=\"156.760031\" xlink:href=\"#m3b8428b64b\" y=\"209.969587\"/>\r\n     <use style=\"fill:#1f77b4;stroke:#1f77b4;\" x=\"157.197335\" xlink:href=\"#m3b8428b64b\" y=\"209.903581\"/>\r\n     <use style=\"fill:#1f77b4;stroke:#1f77b4;\" x=\"157.634639\" xlink:href=\"#m3b8428b64b\" y=\"209.837182\"/>\r\n     <use style=\"fill:#1f77b4;stroke:#1f77b4;\" x=\"158.071944\" xlink:href=\"#m3b8428b64b\" y=\"209.770404\"/>\r\n     <use style=\"fill:#1f77b4;stroke:#1f77b4;\" x=\"158.509248\" xlink:href=\"#m3b8428b64b\" y=\"209.703264\"/>\r\n     <use style=\"fill:#1f77b4;stroke:#1f77b4;\" x=\"158.946552\" xlink:href=\"#m3b8428b64b\" y=\"209.635778\"/>\r\n     <use style=\"fill:#1f77b4;stroke:#1f77b4;\" x=\"159.383856\" xlink:href=\"#m3b8428b64b\" y=\"209.567963\"/>\r\n     <use style=\"fill:#1f77b4;stroke:#1f77b4;\" x=\"159.82116\" xlink:href=\"#m3b8428b64b\" y=\"209.499838\"/>\r\n     <use style=\"fill:#1f77b4;stroke:#1f77b4;\" x=\"160.258464\" xlink:href=\"#m3b8428b64b\" y=\"209.431421\"/>\r\n     <use style=\"fill:#1f77b4;stroke:#1f77b4;\" x=\"160.695768\" xlink:href=\"#m3b8428b64b\" y=\"209.36273\"/>\r\n     <use style=\"fill:#1f77b4;stroke:#1f77b4;\" x=\"161.133072\" xlink:href=\"#m3b8428b64b\" y=\"209.293787\"/>\r\n     <use style=\"fill:#1f77b4;stroke:#1f77b4;\" x=\"161.570376\" xlink:href=\"#m3b8428b64b\" y=\"209.224611\"/>\r\n     <use style=\"fill:#1f77b4;stroke:#1f77b4;\" x=\"162.00768\" xlink:href=\"#m3b8428b64b\" y=\"209.155223\"/>\r\n     <use style=\"fill:#1f77b4;stroke:#1f77b4;\" x=\"162.444984\" xlink:href=\"#m3b8428b64b\" y=\"209.085645\"/>\r\n     <use style=\"fill:#1f77b4;stroke:#1f77b4;\" x=\"162.882288\" xlink:href=\"#m3b8428b64b\" y=\"209.015899\"/>\r\n     <use style=\"fill:#1f77b4;stroke:#1f77b4;\" x=\"163.319592\" xlink:href=\"#m3b8428b64b\" y=\"208.946008\"/>\r\n     <use style=\"fill:#1f77b4;stroke:#1f77b4;\" x=\"163.756897\" xlink:href=\"#m3b8428b64b\" y=\"208.875994\"/>\r\n     <use style=\"fill:#1f77b4;stroke:#1f77b4;\" x=\"164.194201\" xlink:href=\"#m3b8428b64b\" y=\"208.805883\"/>\r\n     <use style=\"fill:#1f77b4;stroke:#1f77b4;\" x=\"164.631505\" xlink:href=\"#m3b8428b64b\" y=\"208.735698\"/>\r\n     <use style=\"fill:#1f77b4;stroke:#1f77b4;\" x=\"165.068809\" xlink:href=\"#m3b8428b64b\" y=\"208.665465\"/>\r\n     <use style=\"fill:#1f77b4;stroke:#1f77b4;\" x=\"165.506113\" xlink:href=\"#m3b8428b64b\" y=\"208.595209\"/>\r\n     <use style=\"fill:#1f77b4;stroke:#1f77b4;\" x=\"165.943417\" xlink:href=\"#m3b8428b64b\" y=\"208.524957\"/>\r\n     <use style=\"fill:#1f77b4;stroke:#1f77b4;\" x=\"166.380721\" xlink:href=\"#m3b8428b64b\" y=\"208.454735\"/>\r\n     <use style=\"fill:#1f77b4;stroke:#1f77b4;\" x=\"166.818025\" xlink:href=\"#m3b8428b64b\" y=\"208.384572\"/>\r\n     <use style=\"fill:#1f77b4;stroke:#1f77b4;\" x=\"167.255329\" xlink:href=\"#m3b8428b64b\" y=\"208.314495\"/>\r\n     <use style=\"fill:#1f77b4;stroke:#1f77b4;\" x=\"167.692633\" xlink:href=\"#m3b8428b64b\" y=\"208.244534\"/>\r\n     <use style=\"fill:#1f77b4;stroke:#1f77b4;\" x=\"168.129937\" xlink:href=\"#m3b8428b64b\" y=\"208.174717\"/>\r\n     <use style=\"fill:#1f77b4;stroke:#1f77b4;\" x=\"168.567241\" xlink:href=\"#m3b8428b64b\" y=\"208.105073\"/>\r\n     <use style=\"fill:#1f77b4;stroke:#1f77b4;\" x=\"169.004545\" xlink:href=\"#m3b8428b64b\" y=\"208.035633\"/>\r\n     <use style=\"fill:#1f77b4;stroke:#1f77b4;\" x=\"169.44185\" xlink:href=\"#m3b8428b64b\" y=\"207.966426\"/>\r\n     <use style=\"fill:#1f77b4;stroke:#1f77b4;\" x=\"169.879154\" xlink:href=\"#m3b8428b64b\" y=\"207.897484\"/>\r\n     <use style=\"fill:#1f77b4;stroke:#1f77b4;\" x=\"170.316458\" xlink:href=\"#m3b8428b64b\" y=\"207.828837\"/>\r\n     <use style=\"fill:#1f77b4;stroke:#1f77b4;\" x=\"170.753762\" xlink:href=\"#m3b8428b64b\" y=\"207.760515\"/>\r\n     <use style=\"fill:#1f77b4;stroke:#1f77b4;\" x=\"171.191066\" xlink:href=\"#m3b8428b64b\" y=\"207.692548\"/>\r\n     <use style=\"fill:#1f77b4;stroke:#1f77b4;\" x=\"171.62837\" xlink:href=\"#m3b8428b64b\" y=\"207.624972\"/>\r\n     <use style=\"fill:#1f77b4;stroke:#1f77b4;\" x=\"172.065674\" xlink:href=\"#m3b8428b64b\" y=\"207.55782\"/>\r\n     <use style=\"fill:#1f77b4;stroke:#1f77b4;\" x=\"172.502978\" xlink:href=\"#m3b8428b64b\" y=\"207.491125\"/>\r\n     <use style=\"fill:#1f77b4;stroke:#1f77b4;\" x=\"172.940282\" xlink:href=\"#m3b8428b64b\" y=\"207.42492\"/>\r\n     <use style=\"fill:#1f77b4;stroke:#1f77b4;\" x=\"173.377586\" xlink:href=\"#m3b8428b64b\" y=\"207.359241\"/>\r\n     <use style=\"fill:#1f77b4;stroke:#1f77b4;\" x=\"173.81489\" xlink:href=\"#m3b8428b64b\" y=\"207.294119\"/>\r\n     <use style=\"fill:#1f77b4;stroke:#1f77b4;\" x=\"174.252194\" xlink:href=\"#m3b8428b64b\" y=\"207.229588\"/>\r\n     <use style=\"fill:#1f77b4;stroke:#1f77b4;\" x=\"174.689498\" xlink:href=\"#m3b8428b64b\" y=\"207.165682\"/>\r\n     <use style=\"fill:#1f77b4;stroke:#1f77b4;\" x=\"175.126803\" xlink:href=\"#m3b8428b64b\" y=\"207.102434\"/>\r\n     <use style=\"fill:#1f77b4;stroke:#1f77b4;\" x=\"175.564107\" xlink:href=\"#m3b8428b64b\" y=\"207.039877\"/>\r\n     <use style=\"fill:#1f77b4;stroke:#1f77b4;\" x=\"176.001411\" xlink:href=\"#m3b8428b64b\" y=\"206.978044\"/>\r\n     <use style=\"fill:#1f77b4;stroke:#1f77b4;\" x=\"176.438715\" xlink:href=\"#m3b8428b64b\" y=\"206.916968\"/>\r\n     <use style=\"fill:#1f77b4;stroke:#1f77b4;\" x=\"176.876019\" xlink:href=\"#m3b8428b64b\" y=\"206.856683\"/>\r\n     <use style=\"fill:#1f77b4;stroke:#1f77b4;\" x=\"177.313323\" xlink:href=\"#m3b8428b64b\" y=\"206.797221\"/>\r\n     <use style=\"fill:#1f77b4;stroke:#1f77b4;\" x=\"177.750627\" xlink:href=\"#m3b8428b64b\" y=\"206.738615\"/>\r\n     <use style=\"fill:#1f77b4;stroke:#1f77b4;\" x=\"178.187931\" xlink:href=\"#m3b8428b64b\" y=\"206.680898\"/>\r\n     <use style=\"fill:#1f77b4;stroke:#1f77b4;\" x=\"178.625235\" xlink:href=\"#m3b8428b64b\" y=\"206.624104\"/>\r\n     <use style=\"fill:#1f77b4;stroke:#1f77b4;\" x=\"179.062539\" xlink:href=\"#m3b8428b64b\" y=\"206.568263\"/>\r\n     <use style=\"fill:#1f77b4;stroke:#1f77b4;\" x=\"179.499843\" xlink:href=\"#m3b8428b64b\" y=\"206.51341\"/>\r\n     <use style=\"fill:#1f77b4;stroke:#1f77b4;\" x=\"179.937147\" xlink:href=\"#m3b8428b64b\" y=\"206.459577\"/>\r\n     <use style=\"fill:#1f77b4;stroke:#1f77b4;\" x=\"180.374451\" xlink:href=\"#m3b8428b64b\" y=\"206.406797\"/>\r\n     <use style=\"fill:#1f77b4;stroke:#1f77b4;\" x=\"180.811755\" xlink:href=\"#m3b8428b64b\" y=\"206.355101\"/>\r\n     <use style=\"fill:#1f77b4;stroke:#1f77b4;\" x=\"181.24906\" xlink:href=\"#m3b8428b64b\" y=\"206.304523\"/>\r\n     <use style=\"fill:#1f77b4;stroke:#1f77b4;\" x=\"181.686364\" xlink:href=\"#m3b8428b64b\" y=\"206.25509\"/>\r\n     <use style=\"fill:#1f77b4;stroke:#1f77b4;\" x=\"182.123668\" xlink:href=\"#m3b8428b64b\" y=\"206.206831\"/>\r\n     <use style=\"fill:#1f77b4;stroke:#1f77b4;\" x=\"182.560972\" xlink:href=\"#m3b8428b64b\" y=\"206.159776\"/>\r\n     <use style=\"fill:#1f77b4;stroke:#1f77b4;\" x=\"182.998276\" xlink:href=\"#m3b8428b64b\" y=\"206.113953\"/>\r\n     <use style=\"fill:#1f77b4;stroke:#1f77b4;\" x=\"183.43558\" xlink:href=\"#m3b8428b64b\" y=\"206.069389\"/>\r\n     <use style=\"fill:#1f77b4;stroke:#1f77b4;\" x=\"183.872884\" xlink:href=\"#m3b8428b64b\" y=\"206.026109\"/>\r\n     <use style=\"fill:#1f77b4;stroke:#1f77b4;\" x=\"184.310188\" xlink:href=\"#m3b8428b64b\" y=\"205.984143\"/>\r\n     <use style=\"fill:#1f77b4;stroke:#1f77b4;\" x=\"184.747492\" xlink:href=\"#m3b8428b64b\" y=\"205.943516\"/>\r\n     <use style=\"fill:#1f77b4;stroke:#1f77b4;\" x=\"185.184796\" xlink:href=\"#m3b8428b64b\" y=\"205.904255\"/>\r\n     <use style=\"fill:#1f77b4;stroke:#1f77b4;\" x=\"185.6221\" xlink:href=\"#m3b8428b64b\" y=\"205.866384\"/>\r\n     <use style=\"fill:#1f77b4;stroke:#1f77b4;\" x=\"186.059404\" xlink:href=\"#m3b8428b64b\" y=\"205.829927\"/>\r\n     <use style=\"fill:#1f77b4;stroke:#1f77b4;\" x=\"186.496708\" xlink:href=\"#m3b8428b64b\" y=\"205.794906\"/>\r\n     <use style=\"fill:#1f77b4;stroke:#1f77b4;\" x=\"186.934013\" xlink:href=\"#m3b8428b64b\" y=\"205.761343\"/>\r\n     <use style=\"fill:#1f77b4;stroke:#1f77b4;\" x=\"187.371317\" xlink:href=\"#m3b8428b64b\" y=\"205.729258\"/>\r\n     <use style=\"fill:#1f77b4;stroke:#1f77b4;\" x=\"187.808621\" xlink:href=\"#m3b8428b64b\" y=\"205.698671\"/>\r\n     <use style=\"fill:#1f77b4;stroke:#1f77b4;\" x=\"188.245925\" xlink:href=\"#m3b8428b64b\" y=\"205.6696\"/>\r\n     <use style=\"fill:#1f77b4;stroke:#1f77b4;\" x=\"188.683229\" xlink:href=\"#m3b8428b64b\" y=\"205.642062\"/>\r\n     <use style=\"fill:#1f77b4;stroke:#1f77b4;\" x=\"189.120533\" xlink:href=\"#m3b8428b64b\" y=\"205.616073\"/>\r\n     <use style=\"fill:#1f77b4;stroke:#1f77b4;\" x=\"189.557837\" xlink:href=\"#m3b8428b64b\" y=\"205.59165\"/>\r\n     <use style=\"fill:#1f77b4;stroke:#1f77b4;\" x=\"189.995141\" xlink:href=\"#m3b8428b64b\" y=\"205.568805\"/>\r\n     <use style=\"fill:#1f77b4;stroke:#1f77b4;\" x=\"190.432445\" xlink:href=\"#m3b8428b64b\" y=\"205.547552\"/>\r\n     <use style=\"fill:#1f77b4;stroke:#1f77b4;\" x=\"190.869749\" xlink:href=\"#m3b8428b64b\" y=\"205.527904\"/>\r\n     <use style=\"fill:#1f77b4;stroke:#1f77b4;\" x=\"191.307053\" xlink:href=\"#m3b8428b64b\" y=\"205.50987\"/>\r\n     <use style=\"fill:#1f77b4;stroke:#1f77b4;\" x=\"191.744357\" xlink:href=\"#m3b8428b64b\" y=\"205.493462\"/>\r\n     <use style=\"fill:#1f77b4;stroke:#1f77b4;\" x=\"192.181661\" xlink:href=\"#m3b8428b64b\" y=\"205.478688\"/>\r\n     <use style=\"fill:#1f77b4;stroke:#1f77b4;\" x=\"192.618966\" xlink:href=\"#m3b8428b64b\" y=\"205.465555\"/>\r\n     <use style=\"fill:#1f77b4;stroke:#1f77b4;\" x=\"193.05627\" xlink:href=\"#m3b8428b64b\" y=\"205.454071\"/>\r\n     <use style=\"fill:#1f77b4;stroke:#1f77b4;\" x=\"193.493574\" xlink:href=\"#m3b8428b64b\" y=\"205.444242\"/>\r\n     <use style=\"fill:#1f77b4;stroke:#1f77b4;\" x=\"193.930878\" xlink:href=\"#m3b8428b64b\" y=\"205.436072\"/>\r\n     <use style=\"fill:#1f77b4;stroke:#1f77b4;\" x=\"194.368182\" xlink:href=\"#m3b8428b64b\" y=\"205.429564\"/>\r\n     <use style=\"fill:#1f77b4;stroke:#1f77b4;\" x=\"194.805486\" xlink:href=\"#m3b8428b64b\" y=\"205.424721\"/>\r\n     <use style=\"fill:#1f77b4;stroke:#1f77b4;\" x=\"195.24279\" xlink:href=\"#m3b8428b64b\" y=\"205.421541\"/>\r\n     <use style=\"fill:#1f77b4;stroke:#1f77b4;\" x=\"195.680094\" xlink:href=\"#m3b8428b64b\" y=\"205.420024\"/>\r\n     <use style=\"fill:#1f77b4;stroke:#1f77b4;\" x=\"196.117398\" xlink:href=\"#m3b8428b64b\" y=\"205.42017\"/>\r\n     <use style=\"fill:#1f77b4;stroke:#1f77b4;\" x=\"196.554702\" xlink:href=\"#m3b8428b64b\" y=\"205.421976\"/>\r\n     <use style=\"fill:#1f77b4;stroke:#1f77b4;\" x=\"196.992006\" xlink:href=\"#m3b8428b64b\" y=\"205.425437\"/>\r\n     <use style=\"fill:#1f77b4;stroke:#1f77b4;\" x=\"197.42931\" xlink:href=\"#m3b8428b64b\" y=\"205.430547\"/>\r\n     <use style=\"fill:#1f77b4;stroke:#1f77b4;\" x=\"197.866614\" xlink:href=\"#m3b8428b64b\" y=\"205.437298\"/>\r\n     <use style=\"fill:#1f77b4;stroke:#1f77b4;\" x=\"198.303918\" xlink:href=\"#m3b8428b64b\" y=\"205.445682\"/>\r\n     <use style=\"fill:#1f77b4;stroke:#1f77b4;\" x=\"198.741223\" xlink:href=\"#m3b8428b64b\" y=\"205.45569\"/>\r\n     <use style=\"fill:#1f77b4;stroke:#1f77b4;\" x=\"199.178527\" xlink:href=\"#m3b8428b64b\" y=\"205.467311\"/>\r\n     <use style=\"fill:#1f77b4;stroke:#1f77b4;\" x=\"199.615831\" xlink:href=\"#m3b8428b64b\" y=\"205.480534\"/>\r\n     <use style=\"fill:#1f77b4;stroke:#1f77b4;\" x=\"200.053135\" xlink:href=\"#m3b8428b64b\" y=\"205.495349\"/>\r\n     <use style=\"fill:#1f77b4;stroke:#1f77b4;\" x=\"200.490439\" xlink:href=\"#m3b8428b64b\" y=\"205.51174\"/>\r\n     <use style=\"fill:#1f77b4;stroke:#1f77b4;\" x=\"200.927743\" xlink:href=\"#m3b8428b64b\" y=\"205.529696\"/>\r\n     <use style=\"fill:#1f77b4;stroke:#1f77b4;\" x=\"201.365047\" xlink:href=\"#m3b8428b64b\" y=\"205.5492\"/>\r\n     <use style=\"fill:#1f77b4;stroke:#1f77b4;\" x=\"201.802351\" xlink:href=\"#m3b8428b64b\" y=\"205.570238\"/>\r\n     <use style=\"fill:#1f77b4;stroke:#1f77b4;\" x=\"202.239655\" xlink:href=\"#m3b8428b64b\" y=\"205.592793\"/>\r\n     <use style=\"fill:#1f77b4;stroke:#1f77b4;\" x=\"202.676959\" xlink:href=\"#m3b8428b64b\" y=\"205.616847\"/>\r\n     <use style=\"fill:#1f77b4;stroke:#1f77b4;\" x=\"203.114263\" xlink:href=\"#m3b8428b64b\" y=\"205.642382\"/>\r\n     <use style=\"fill:#1f77b4;stroke:#1f77b4;\" x=\"203.551567\" xlink:href=\"#m3b8428b64b\" y=\"205.669379\"/>\r\n     <use style=\"fill:#1f77b4;stroke:#1f77b4;\" x=\"203.988871\" xlink:href=\"#m3b8428b64b\" y=\"205.697817\"/>\r\n     <use style=\"fill:#1f77b4;stroke:#1f77b4;\" x=\"204.426176\" xlink:href=\"#m3b8428b64b\" y=\"205.727675\"/>\r\n     <use style=\"fill:#1f77b4;stroke:#1f77b4;\" x=\"204.86348\" xlink:href=\"#m3b8428b64b\" y=\"205.758932\"/>\r\n     <use style=\"fill:#1f77b4;stroke:#1f77b4;\" x=\"205.300784\" xlink:href=\"#m3b8428b64b\" y=\"205.791563\"/>\r\n     <use style=\"fill:#1f77b4;stroke:#1f77b4;\" x=\"205.738088\" xlink:href=\"#m3b8428b64b\" y=\"205.825546\"/>\r\n     <use style=\"fill:#1f77b4;stroke:#1f77b4;\" x=\"206.175392\" xlink:href=\"#m3b8428b64b\" y=\"205.860855\"/>\r\n     <use style=\"fill:#1f77b4;stroke:#1f77b4;\" x=\"206.612696\" xlink:href=\"#m3b8428b64b\" y=\"205.897464\"/>\r\n     <use style=\"fill:#1f77b4;stroke:#1f77b4;\" x=\"207.05\" xlink:href=\"#m3b8428b64b\" y=\"205.935348\"/>\r\n     <use style=\"fill:#1f77b4;stroke:#1f77b4;\" x=\"207.487304\" xlink:href=\"#m3b8428b64b\" y=\"205.974476\"/>\r\n     <use style=\"fill:#1f77b4;stroke:#1f77b4;\" x=\"207.924608\" xlink:href=\"#m3b8428b64b\" y=\"206.014826\"/>\r\n     <use style=\"fill:#1f77b4;stroke:#1f77b4;\" x=\"208.361912\" xlink:href=\"#m3b8428b64b\" y=\"206.056371\"/>\r\n     <use style=\"fill:#1f77b4;stroke:#1f77b4;\" x=\"208.799216\" xlink:href=\"#m3b8428b64b\" y=\"206.099086\"/>\r\n     <use style=\"fill:#1f77b4;stroke:#1f77b4;\" x=\"209.23652\" xlink:href=\"#m3b8428b64b\" y=\"206.142943\"/>\r\n     <use style=\"fill:#1f77b4;stroke:#1f77b4;\" x=\"209.673824\" xlink:href=\"#m3b8428b64b\" y=\"206.187912\"/>\r\n     <use style=\"fill:#1f77b4;stroke:#1f77b4;\" x=\"210.111129\" xlink:href=\"#m3b8428b64b\" y=\"206.233965\"/>\r\n     <use style=\"fill:#1f77b4;stroke:#1f77b4;\" x=\"210.548433\" xlink:href=\"#m3b8428b64b\" y=\"206.281069\"/>\r\n     <use style=\"fill:#1f77b4;stroke:#1f77b4;\" x=\"210.985737\" xlink:href=\"#m3b8428b64b\" y=\"206.329195\"/>\r\n     <use style=\"fill:#1f77b4;stroke:#1f77b4;\" x=\"211.423041\" xlink:href=\"#m3b8428b64b\" y=\"206.378314\"/>\r\n     <use style=\"fill:#1f77b4;stroke:#1f77b4;\" x=\"211.860345\" xlink:href=\"#m3b8428b64b\" y=\"206.428394\"/>\r\n     <use style=\"fill:#1f77b4;stroke:#1f77b4;\" x=\"212.297649\" xlink:href=\"#m3b8428b64b\" y=\"206.479406\"/>\r\n     <use style=\"fill:#1f77b4;stroke:#1f77b4;\" x=\"212.734953\" xlink:href=\"#m3b8428b64b\" y=\"206.531319\"/>\r\n     <use style=\"fill:#1f77b4;stroke:#1f77b4;\" x=\"213.172257\" xlink:href=\"#m3b8428b64b\" y=\"206.584103\"/>\r\n     <use style=\"fill:#1f77b4;stroke:#1f77b4;\" x=\"213.609561\" xlink:href=\"#m3b8428b64b\" y=\"206.637729\"/>\r\n     <use style=\"fill:#1f77b4;stroke:#1f77b4;\" x=\"214.046865\" xlink:href=\"#m3b8428b64b\" y=\"206.692166\"/>\r\n     <use style=\"fill:#1f77b4;stroke:#1f77b4;\" x=\"214.484169\" xlink:href=\"#m3b8428b64b\" y=\"206.747383\"/>\r\n     <use style=\"fill:#1f77b4;stroke:#1f77b4;\" x=\"214.921473\" xlink:href=\"#m3b8428b64b\" y=\"206.803352\"/>\r\n     <use style=\"fill:#1f77b4;stroke:#1f77b4;\" x=\"215.358777\" xlink:href=\"#m3b8428b64b\" y=\"206.860041\"/>\r\n     <use style=\"fill:#1f77b4;stroke:#1f77b4;\" x=\"215.796082\" xlink:href=\"#m3b8428b64b\" y=\"206.917421\"/>\r\n     <use style=\"fill:#1f77b4;stroke:#1f77b4;\" x=\"216.233386\" xlink:href=\"#m3b8428b64b\" y=\"206.975461\"/>\r\n     <use style=\"fill:#1f77b4;stroke:#1f77b4;\" x=\"216.67069\" xlink:href=\"#m3b8428b64b\" y=\"207.034131\"/>\r\n     <use style=\"fill:#1f77b4;stroke:#1f77b4;\" x=\"217.107994\" xlink:href=\"#m3b8428b64b\" y=\"207.093402\"/>\r\n     <use style=\"fill:#1f77b4;stroke:#1f77b4;\" x=\"217.545298\" xlink:href=\"#m3b8428b64b\" y=\"207.153244\"/>\r\n     <use style=\"fill:#1f77b4;stroke:#1f77b4;\" x=\"217.982602\" xlink:href=\"#m3b8428b64b\" y=\"207.213625\"/>\r\n     <use style=\"fill:#1f77b4;stroke:#1f77b4;\" x=\"218.419906\" xlink:href=\"#m3b8428b64b\" y=\"207.274516\"/>\r\n     <use style=\"fill:#1f77b4;stroke:#1f77b4;\" x=\"218.85721\" xlink:href=\"#m3b8428b64b\" y=\"207.335888\"/>\r\n     <use style=\"fill:#1f77b4;stroke:#1f77b4;\" x=\"219.294514\" xlink:href=\"#m3b8428b64b\" y=\"207.397709\"/>\r\n     <use style=\"fill:#1f77b4;stroke:#1f77b4;\" x=\"219.731818\" xlink:href=\"#m3b8428b64b\" y=\"207.45995\"/>\r\n     <use style=\"fill:#1f77b4;stroke:#1f77b4;\" x=\"220.169122\" xlink:href=\"#m3b8428b64b\" y=\"207.52258\"/>\r\n     <use style=\"fill:#1f77b4;stroke:#1f77b4;\" x=\"220.606426\" xlink:href=\"#m3b8428b64b\" y=\"207.585573\"/>\r\n     <use style=\"fill:#1f77b4;stroke:#1f77b4;\" x=\"221.04373\" xlink:href=\"#m3b8428b64b\" y=\"207.648903\"/>\r\n     <use style=\"fill:#1f77b4;stroke:#1f77b4;\" x=\"221.481034\" xlink:href=\"#m3b8428b64b\" y=\"207.712543\"/>\r\n     <use style=\"fill:#1f77b4;stroke:#1f77b4;\" x=\"221.918339\" xlink:href=\"#m3b8428b64b\" y=\"207.776465\"/>\r\n     <use style=\"fill:#1f77b4;stroke:#1f77b4;\" x=\"222.355643\" xlink:href=\"#m3b8428b64b\" y=\"207.840641\"/>\r\n     <use style=\"fill:#1f77b4;stroke:#1f77b4;\" x=\"222.792947\" xlink:href=\"#m3b8428b64b\" y=\"207.905046\"/>\r\n     <use style=\"fill:#1f77b4;stroke:#1f77b4;\" x=\"223.230251\" xlink:href=\"#m3b8428b64b\" y=\"207.969653\"/>\r\n     <use style=\"fill:#1f77b4;stroke:#1f77b4;\" x=\"223.667555\" xlink:href=\"#m3b8428b64b\" y=\"208.034437\"/>\r\n     <use style=\"fill:#1f77b4;stroke:#1f77b4;\" x=\"224.104859\" xlink:href=\"#m3b8428b64b\" y=\"208.099371\"/>\r\n     <use style=\"fill:#1f77b4;stroke:#1f77b4;\" x=\"224.542163\" xlink:href=\"#m3b8428b64b\" y=\"208.164432\"/>\r\n     <use style=\"fill:#1f77b4;stroke:#1f77b4;\" x=\"224.979467\" xlink:href=\"#m3b8428b64b\" y=\"208.229596\"/>\r\n     <use style=\"fill:#1f77b4;stroke:#1f77b4;\" x=\"225.416771\" xlink:href=\"#m3b8428b64b\" y=\"208.294837\"/>\r\n     <use style=\"fill:#1f77b4;stroke:#1f77b4;\" x=\"225.854075\" xlink:href=\"#m3b8428b64b\" y=\"208.360134\"/>\r\n     <use style=\"fill:#1f77b4;stroke:#1f77b4;\" x=\"226.291379\" xlink:href=\"#m3b8428b64b\" y=\"208.425464\"/>\r\n     <use style=\"fill:#1f77b4;stroke:#1f77b4;\" x=\"226.728683\" xlink:href=\"#m3b8428b64b\" y=\"208.490803\"/>\r\n     <use style=\"fill:#1f77b4;stroke:#1f77b4;\" x=\"227.165987\" xlink:href=\"#m3b8428b64b\" y=\"208.556131\"/>\r\n     <use style=\"fill:#1f77b4;stroke:#1f77b4;\" x=\"227.603292\" xlink:href=\"#m3b8428b64b\" y=\"208.621426\"/>\r\n     <use style=\"fill:#1f77b4;stroke:#1f77b4;\" x=\"228.040596\" xlink:href=\"#m3b8428b64b\" y=\"208.686667\"/>\r\n     <use style=\"fill:#1f77b4;stroke:#1f77b4;\" x=\"228.4779\" xlink:href=\"#m3b8428b64b\" y=\"208.751835\"/>\r\n     <use style=\"fill:#1f77b4;stroke:#1f77b4;\" x=\"228.915204\" xlink:href=\"#m3b8428b64b\" y=\"208.816908\"/>\r\n     <use style=\"fill:#1f77b4;stroke:#1f77b4;\" x=\"229.352508\" xlink:href=\"#m3b8428b64b\" y=\"208.881868\"/>\r\n     <use style=\"fill:#1f77b4;stroke:#1f77b4;\" x=\"229.789812\" xlink:href=\"#m3b8428b64b\" y=\"208.946696\"/>\r\n     <use style=\"fill:#1f77b4;stroke:#1f77b4;\" x=\"230.227116\" xlink:href=\"#m3b8428b64b\" y=\"209.011374\"/>\r\n     <use style=\"fill:#1f77b4;stroke:#1f77b4;\" x=\"230.66442\" xlink:href=\"#m3b8428b64b\" y=\"209.075883\"/>\r\n     <use style=\"fill:#1f77b4;stroke:#1f77b4;\" x=\"231.101724\" xlink:href=\"#m3b8428b64b\" y=\"209.140207\"/>\r\n     <use style=\"fill:#1f77b4;stroke:#1f77b4;\" x=\"231.539028\" xlink:href=\"#m3b8428b64b\" y=\"209.204328\"/>\r\n     <use style=\"fill:#1f77b4;stroke:#1f77b4;\" x=\"231.976332\" xlink:href=\"#m3b8428b64b\" y=\"209.268231\"/>\r\n     <use style=\"fill:#1f77b4;stroke:#1f77b4;\" x=\"232.413636\" xlink:href=\"#m3b8428b64b\" y=\"209.331898\"/>\r\n     <use style=\"fill:#1f77b4;stroke:#1f77b4;\" x=\"232.85094\" xlink:href=\"#m3b8428b64b\" y=\"209.395315\"/>\r\n     <use style=\"fill:#1f77b4;stroke:#1f77b4;\" x=\"233.288245\" xlink:href=\"#m3b8428b64b\" y=\"209.458468\"/>\r\n     <use style=\"fill:#1f77b4;stroke:#1f77b4;\" x=\"233.725549\" xlink:href=\"#m3b8428b64b\" y=\"209.521342\"/>\r\n     <use style=\"fill:#1f77b4;stroke:#1f77b4;\" x=\"234.162853\" xlink:href=\"#m3b8428b64b\" y=\"209.583923\"/>\r\n     <use style=\"fill:#1f77b4;stroke:#1f77b4;\" x=\"234.600157\" xlink:href=\"#m3b8428b64b\" y=\"209.646198\"/>\r\n     <use style=\"fill:#1f77b4;stroke:#1f77b4;\" x=\"235.037461\" xlink:href=\"#m3b8428b64b\" y=\"209.708154\"/>\r\n     <use style=\"fill:#1f77b4;stroke:#1f77b4;\" x=\"235.474765\" xlink:href=\"#m3b8428b64b\" y=\"209.76978\"/>\r\n     <use style=\"fill:#1f77b4;stroke:#1f77b4;\" x=\"235.912069\" xlink:href=\"#m3b8428b64b\" y=\"209.831063\"/>\r\n     <use style=\"fill:#1f77b4;stroke:#1f77b4;\" x=\"236.349373\" xlink:href=\"#m3b8428b64b\" y=\"209.891993\"/>\r\n     <use style=\"fill:#1f77b4;stroke:#1f77b4;\" x=\"236.786677\" xlink:href=\"#m3b8428b64b\" y=\"209.952559\"/>\r\n     <use style=\"fill:#1f77b4;stroke:#1f77b4;\" x=\"237.223981\" xlink:href=\"#m3b8428b64b\" y=\"210.012751\"/>\r\n     <use style=\"fill:#1f77b4;stroke:#1f77b4;\" x=\"237.661285\" xlink:href=\"#m3b8428b64b\" y=\"210.072559\"/>\r\n     <use style=\"fill:#1f77b4;stroke:#1f77b4;\" x=\"238.098589\" xlink:href=\"#m3b8428b64b\" y=\"210.131974\"/>\r\n     <use style=\"fill:#1f77b4;stroke:#1f77b4;\" x=\"238.535893\" xlink:href=\"#m3b8428b64b\" y=\"210.190986\"/>\r\n     <use style=\"fill:#1f77b4;stroke:#1f77b4;\" x=\"238.973197\" xlink:href=\"#m3b8428b64b\" y=\"210.249586\"/>\r\n     <use style=\"fill:#1f77b4;stroke:#1f77b4;\" x=\"239.410502\" xlink:href=\"#m3b8428b64b\" y=\"210.307767\"/>\r\n     <use style=\"fill:#1f77b4;stroke:#1f77b4;\" x=\"239.847806\" xlink:href=\"#m3b8428b64b\" y=\"210.365521\"/>\r\n     <use style=\"fill:#1f77b4;stroke:#1f77b4;\" x=\"240.28511\" xlink:href=\"#m3b8428b64b\" y=\"210.42284\"/>\r\n     <use style=\"fill:#1f77b4;stroke:#1f77b4;\" x=\"240.722414\" xlink:href=\"#m3b8428b64b\" y=\"210.479717\"/>\r\n     <use style=\"fill:#1f77b4;stroke:#1f77b4;\" x=\"241.159718\" xlink:href=\"#m3b8428b64b\" y=\"210.536145\"/>\r\n     <use style=\"fill:#1f77b4;stroke:#1f77b4;\" x=\"241.597022\" xlink:href=\"#m3b8428b64b\" y=\"210.592119\"/>\r\n     <use style=\"fill:#1f77b4;stroke:#1f77b4;\" x=\"242.034326\" xlink:href=\"#m3b8428b64b\" y=\"210.647632\"/>\r\n     <use style=\"fill:#1f77b4;stroke:#1f77b4;\" x=\"242.47163\" xlink:href=\"#m3b8428b64b\" y=\"210.702679\"/>\r\n     <use style=\"fill:#1f77b4;stroke:#1f77b4;\" x=\"242.908934\" xlink:href=\"#m3b8428b64b\" y=\"210.757255\"/>\r\n     <use style=\"fill:#1f77b4;stroke:#1f77b4;\" x=\"243.346238\" xlink:href=\"#m3b8428b64b\" y=\"210.811356\"/>\r\n     <use style=\"fill:#1f77b4;stroke:#1f77b4;\" x=\"243.783542\" xlink:href=\"#m3b8428b64b\" y=\"210.864976\"/>\r\n     <use style=\"fill:#1f77b4;stroke:#1f77b4;\" x=\"244.220846\" xlink:href=\"#m3b8428b64b\" y=\"210.918113\"/>\r\n     <use style=\"fill:#1f77b4;stroke:#1f77b4;\" x=\"244.65815\" xlink:href=\"#m3b8428b64b\" y=\"210.970763\"/>\r\n     <use style=\"fill:#1f77b4;stroke:#1f77b4;\" x=\"245.095455\" xlink:href=\"#m3b8428b64b\" y=\"211.022922\"/>\r\n     <use style=\"fill:#1f77b4;stroke:#1f77b4;\" x=\"245.532759\" xlink:href=\"#m3b8428b64b\" y=\"211.074589\"/>\r\n     <use style=\"fill:#1f77b4;stroke:#1f77b4;\" x=\"245.970063\" xlink:href=\"#m3b8428b64b\" y=\"211.125761\"/>\r\n     <use style=\"fill:#1f77b4;stroke:#1f77b4;\" x=\"246.407367\" xlink:href=\"#m3b8428b64b\" y=\"211.176433\"/>\r\n     <use style=\"fill:#1f77b4;stroke:#1f77b4;\" x=\"246.844671\" xlink:href=\"#m3b8428b64b\" y=\"211.226605\"/>\r\n     <use style=\"fill:#1f77b4;stroke:#1f77b4;\" x=\"247.281975\" xlink:href=\"#m3b8428b64b\" y=\"211.276274\"/>\r\n     <use style=\"fill:#1f77b4;stroke:#1f77b4;\" x=\"247.719279\" xlink:href=\"#m3b8428b64b\" y=\"211.325439\"/>\r\n     <use style=\"fill:#1f77b4;stroke:#1f77b4;\" x=\"248.156583\" xlink:href=\"#m3b8428b64b\" y=\"211.374099\"/>\r\n     <use style=\"fill:#1f77b4;stroke:#1f77b4;\" x=\"248.593887\" xlink:href=\"#m3b8428b64b\" y=\"211.422253\"/>\r\n     <use style=\"fill:#1f77b4;stroke:#1f77b4;\" x=\"249.031191\" xlink:href=\"#m3b8428b64b\" y=\"211.4699\"/>\r\n     <use style=\"fill:#1f77b4;stroke:#1f77b4;\" x=\"249.468495\" xlink:href=\"#m3b8428b64b\" y=\"211.51704\"/>\r\n     <use style=\"fill:#1f77b4;stroke:#1f77b4;\" x=\"249.905799\" xlink:href=\"#m3b8428b64b\" y=\"211.563673\"/>\r\n     <use style=\"fill:#1f77b4;stroke:#1f77b4;\" x=\"250.343103\" xlink:href=\"#m3b8428b64b\" y=\"211.609799\"/>\r\n     <use style=\"fill:#1f77b4;stroke:#1f77b4;\" x=\"250.780408\" xlink:href=\"#m3b8428b64b\" y=\"211.655418\"/>\r\n     <use style=\"fill:#1f77b4;stroke:#1f77b4;\" x=\"251.217712\" xlink:href=\"#m3b8428b64b\" y=\"211.700529\"/>\r\n     <use style=\"fill:#1f77b4;stroke:#1f77b4;\" x=\"251.655016\" xlink:href=\"#m3b8428b64b\" y=\"211.745134\"/>\r\n     <use style=\"fill:#1f77b4;stroke:#1f77b4;\" x=\"252.09232\" xlink:href=\"#m3b8428b64b\" y=\"211.789233\"/>\r\n     <use style=\"fill:#1f77b4;stroke:#1f77b4;\" x=\"252.529624\" xlink:href=\"#m3b8428b64b\" y=\"211.832827\"/>\r\n     <use style=\"fill:#1f77b4;stroke:#1f77b4;\" x=\"252.966928\" xlink:href=\"#m3b8428b64b\" y=\"211.875917\"/>\r\n     <use style=\"fill:#1f77b4;stroke:#1f77b4;\" x=\"253.404232\" xlink:href=\"#m3b8428b64b\" y=\"211.918504\"/>\r\n     <use style=\"fill:#1f77b4;stroke:#1f77b4;\" x=\"253.841536\" xlink:href=\"#m3b8428b64b\" y=\"211.96059\"/>\r\n     <use style=\"fill:#1f77b4;stroke:#1f77b4;\" x=\"254.27884\" xlink:href=\"#m3b8428b64b\" y=\"212.002176\"/>\r\n     <use style=\"fill:#1f77b4;stroke:#1f77b4;\" x=\"254.716144\" xlink:href=\"#m3b8428b64b\" y=\"212.043264\"/>\r\n     <use style=\"fill:#1f77b4;stroke:#1f77b4;\" x=\"255.153448\" xlink:href=\"#m3b8428b64b\" y=\"212.083856\"/>\r\n     <use style=\"fill:#1f77b4;stroke:#1f77b4;\" x=\"255.590752\" xlink:href=\"#m3b8428b64b\" y=\"212.123954\"/>\r\n     <use style=\"fill:#1f77b4;stroke:#1f77b4;\" x=\"256.028056\" xlink:href=\"#m3b8428b64b\" y=\"212.16356\"/>\r\n     <use style=\"fill:#1f77b4;stroke:#1f77b4;\" x=\"256.465361\" xlink:href=\"#m3b8428b64b\" y=\"212.202677\"/>\r\n     <use style=\"fill:#1f77b4;stroke:#1f77b4;\" x=\"256.902665\" xlink:href=\"#m3b8428b64b\" y=\"212.241307\"/>\r\n     <use style=\"fill:#1f77b4;stroke:#1f77b4;\" x=\"257.339969\" xlink:href=\"#m3b8428b64b\" y=\"212.279454\"/>\r\n     <use style=\"fill:#1f77b4;stroke:#1f77b4;\" x=\"257.777273\" xlink:href=\"#m3b8428b64b\" y=\"212.31712\"/>\r\n     <use style=\"fill:#1f77b4;stroke:#1f77b4;\" x=\"258.214577\" xlink:href=\"#m3b8428b64b\" y=\"212.354308\"/>\r\n     <use style=\"fill:#1f77b4;stroke:#1f77b4;\" x=\"258.651881\" xlink:href=\"#m3b8428b64b\" y=\"212.391021\"/>\r\n     <use style=\"fill:#1f77b4;stroke:#1f77b4;\" x=\"259.089185\" xlink:href=\"#m3b8428b64b\" y=\"212.427262\"/>\r\n     <use style=\"fill:#1f77b4;stroke:#1f77b4;\" x=\"259.526489\" xlink:href=\"#m3b8428b64b\" y=\"212.463033\"/>\r\n     <use style=\"fill:#1f77b4;stroke:#1f77b4;\" x=\"259.963793\" xlink:href=\"#m3b8428b64b\" y=\"212.498338\"/>\r\n     <use style=\"fill:#1f77b4;stroke:#1f77b4;\" x=\"260.401097\" xlink:href=\"#m3b8428b64b\" y=\"212.53318\"/>\r\n     <use style=\"fill:#1f77b4;stroke:#1f77b4;\" x=\"260.838401\" xlink:href=\"#m3b8428b64b\" y=\"212.567563\"/>\r\n     <use style=\"fill:#1f77b4;stroke:#1f77b4;\" x=\"261.275705\" xlink:href=\"#m3b8428b64b\" y=\"212.60149\"/>\r\n     <use style=\"fill:#1f77b4;stroke:#1f77b4;\" x=\"261.713009\" xlink:href=\"#m3b8428b64b\" y=\"212.634965\"/>\r\n     <use style=\"fill:#1f77b4;stroke:#1f77b4;\" x=\"262.150313\" xlink:href=\"#m3b8428b64b\" y=\"212.667992\"/>\r\n     <use style=\"fill:#1f77b4;stroke:#1f77b4;\" x=\"262.587618\" xlink:href=\"#m3b8428b64b\" y=\"212.700573\"/>\r\n     <use style=\"fill:#1f77b4;stroke:#1f77b4;\" x=\"263.024922\" xlink:href=\"#m3b8428b64b\" y=\"212.732713\"/>\r\n     <use style=\"fill:#1f77b4;stroke:#1f77b4;\" x=\"263.462226\" xlink:href=\"#m3b8428b64b\" y=\"212.764415\"/>\r\n     <use style=\"fill:#1f77b4;stroke:#1f77b4;\" x=\"263.89953\" xlink:href=\"#m3b8428b64b\" y=\"212.795683\"/>\r\n     <use style=\"fill:#1f77b4;stroke:#1f77b4;\" x=\"264.336834\" xlink:href=\"#m3b8428b64b\" y=\"212.826521\"/>\r\n     <use style=\"fill:#1f77b4;stroke:#1f77b4;\" x=\"264.774138\" xlink:href=\"#m3b8428b64b\" y=\"212.856933\"/>\r\n     <use style=\"fill:#1f77b4;stroke:#1f77b4;\" x=\"265.211442\" xlink:href=\"#m3b8428b64b\" y=\"212.886922\"/>\r\n     <use style=\"fill:#1f77b4;stroke:#1f77b4;\" x=\"265.648746\" xlink:href=\"#m3b8428b64b\" y=\"212.916492\"/>\r\n     <use style=\"fill:#1f77b4;stroke:#1f77b4;\" x=\"266.08605\" xlink:href=\"#m3b8428b64b\" y=\"212.945648\"/>\r\n     <use style=\"fill:#1f77b4;stroke:#1f77b4;\" x=\"266.523354\" xlink:href=\"#m3b8428b64b\" y=\"212.974393\"/>\r\n     <use style=\"fill:#1f77b4;stroke:#1f77b4;\" x=\"266.960658\" xlink:href=\"#m3b8428b64b\" y=\"213.002732\"/>\r\n     <use style=\"fill:#1f77b4;stroke:#1f77b4;\" x=\"267.397962\" xlink:href=\"#m3b8428b64b\" y=\"213.030668\"/>\r\n     <use style=\"fill:#1f77b4;stroke:#1f77b4;\" x=\"267.835266\" xlink:href=\"#m3b8428b64b\" y=\"213.058205\"/>\r\n     <use style=\"fill:#1f77b4;stroke:#1f77b4;\" x=\"268.272571\" xlink:href=\"#m3b8428b64b\" y=\"213.085349\"/>\r\n     <use style=\"fill:#1f77b4;stroke:#1f77b4;\" x=\"268.709875\" xlink:href=\"#m3b8428b64b\" y=\"213.112102\"/>\r\n     <use style=\"fill:#1f77b4;stroke:#1f77b4;\" x=\"269.147179\" xlink:href=\"#m3b8428b64b\" y=\"213.138469\"/>\r\n     <use style=\"fill:#1f77b4;stroke:#1f77b4;\" x=\"269.584483\" xlink:href=\"#m3b8428b64b\" y=\"213.164455\"/>\r\n     <use style=\"fill:#1f77b4;stroke:#1f77b4;\" x=\"270.021787\" xlink:href=\"#m3b8428b64b\" y=\"213.190063\"/>\r\n     <use style=\"fill:#1f77b4;stroke:#1f77b4;\" x=\"270.459091\" xlink:href=\"#m3b8428b64b\" y=\"213.215299\"/>\r\n     <use style=\"fill:#1f77b4;stroke:#1f77b4;\" x=\"270.896395\" xlink:href=\"#m3b8428b64b\" y=\"213.240165\"/>\r\n     <use style=\"fill:#1f77b4;stroke:#1f77b4;\" x=\"271.333699\" xlink:href=\"#m3b8428b64b\" y=\"213.264666\"/>\r\n     <use style=\"fill:#1f77b4;stroke:#1f77b4;\" x=\"271.771003\" xlink:href=\"#m3b8428b64b\" y=\"213.288806\"/>\r\n     <use style=\"fill:#1f77b4;stroke:#1f77b4;\" x=\"272.208307\" xlink:href=\"#m3b8428b64b\" y=\"213.312589\"/>\r\n     <use style=\"fill:#1f77b4;stroke:#1f77b4;\" x=\"272.645611\" xlink:href=\"#m3b8428b64b\" y=\"213.33602\"/>\r\n     <use style=\"fill:#1f77b4;stroke:#1f77b4;\" x=\"273.082915\" xlink:href=\"#m3b8428b64b\" y=\"213.359102\"/>\r\n     <use style=\"fill:#1f77b4;stroke:#1f77b4;\" x=\"273.520219\" xlink:href=\"#m3b8428b64b\" y=\"213.38184\"/>\r\n     <use style=\"fill:#1f77b4;stroke:#1f77b4;\" x=\"273.957524\" xlink:href=\"#m3b8428b64b\" y=\"213.404237\"/>\r\n     <use style=\"fill:#1f77b4;stroke:#1f77b4;\" x=\"274.394828\" xlink:href=\"#m3b8428b64b\" y=\"213.426298\"/>\r\n     <use style=\"fill:#1f77b4;stroke:#1f77b4;\" x=\"274.832132\" xlink:href=\"#m3b8428b64b\" y=\"213.448027\"/>\r\n     <use style=\"fill:#1f77b4;stroke:#1f77b4;\" x=\"275.269436\" xlink:href=\"#m3b8428b64b\" y=\"213.469428\"/>\r\n     <use style=\"fill:#1f77b4;stroke:#1f77b4;\" x=\"275.70674\" xlink:href=\"#m3b8428b64b\" y=\"213.490504\"/>\r\n     <use style=\"fill:#1f77b4;stroke:#1f77b4;\" x=\"276.144044\" xlink:href=\"#m3b8428b64b\" y=\"213.511261\"/>\r\n     <use style=\"fill:#1f77b4;stroke:#1f77b4;\" x=\"276.581348\" xlink:href=\"#m3b8428b64b\" y=\"213.531701\"/>\r\n     <use style=\"fill:#1f77b4;stroke:#1f77b4;\" x=\"277.018652\" xlink:href=\"#m3b8428b64b\" y=\"213.551829\"/>\r\n     <use style=\"fill:#1f77b4;stroke:#1f77b4;\" x=\"277.455956\" xlink:href=\"#m3b8428b64b\" y=\"213.571649\"/>\r\n     <use style=\"fill:#1f77b4;stroke:#1f77b4;\" x=\"277.89326\" xlink:href=\"#m3b8428b64b\" y=\"213.591164\"/>\r\n     <use style=\"fill:#1f77b4;stroke:#1f77b4;\" x=\"278.330564\" xlink:href=\"#m3b8428b64b\" y=\"213.610379\"/>\r\n     <use style=\"fill:#1f77b4;stroke:#1f77b4;\" x=\"278.767868\" xlink:href=\"#m3b8428b64b\" y=\"213.629297\"/>\r\n     <use style=\"fill:#1f77b4;stroke:#1f77b4;\" x=\"279.205172\" xlink:href=\"#m3b8428b64b\" y=\"213.647923\"/>\r\n     <use style=\"fill:#1f77b4;stroke:#1f77b4;\" x=\"279.642476\" xlink:href=\"#m3b8428b64b\" y=\"213.66626\"/>\r\n     <use style=\"fill:#1f77b4;stroke:#1f77b4;\" x=\"280.079781\" xlink:href=\"#m3b8428b64b\" y=\"213.684312\"/>\r\n     <use style=\"fill:#1f77b4;stroke:#1f77b4;\" x=\"280.517085\" xlink:href=\"#m3b8428b64b\" y=\"213.702082\"/>\r\n     <use style=\"fill:#1f77b4;stroke:#1f77b4;\" x=\"280.954389\" xlink:href=\"#m3b8428b64b\" y=\"213.719576\"/>\r\n     <use style=\"fill:#1f77b4;stroke:#1f77b4;\" x=\"281.391693\" xlink:href=\"#m3b8428b64b\" y=\"213.736796\"/>\r\n     <use style=\"fill:#1f77b4;stroke:#1f77b4;\" x=\"281.828997\" xlink:href=\"#m3b8428b64b\" y=\"213.753746\"/>\r\n     <use style=\"fill:#1f77b4;stroke:#1f77b4;\" x=\"282.266301\" xlink:href=\"#m3b8428b64b\" y=\"213.770431\"/>\r\n     <use style=\"fill:#1f77b4;stroke:#1f77b4;\" x=\"282.703605\" xlink:href=\"#m3b8428b64b\" y=\"213.786853\"/>\r\n     <use style=\"fill:#1f77b4;stroke:#1f77b4;\" x=\"283.140909\" xlink:href=\"#m3b8428b64b\" y=\"213.803016\"/>\r\n     <use style=\"fill:#1f77b4;stroke:#1f77b4;\" x=\"283.578213\" xlink:href=\"#m3b8428b64b\" y=\"213.818924\"/>\r\n     <use style=\"fill:#1f77b4;stroke:#1f77b4;\" x=\"284.015517\" xlink:href=\"#m3b8428b64b\" y=\"213.834581\"/>\r\n     <use style=\"fill:#1f77b4;stroke:#1f77b4;\" x=\"284.452821\" xlink:href=\"#m3b8428b64b\" y=\"213.849989\"/>\r\n     <use style=\"fill:#1f77b4;stroke:#1f77b4;\" x=\"284.890125\" xlink:href=\"#m3b8428b64b\" y=\"213.865152\"/>\r\n     <use style=\"fill:#1f77b4;stroke:#1f77b4;\" x=\"285.327429\" xlink:href=\"#m3b8428b64b\" y=\"213.880075\"/>\r\n     <use style=\"fill:#1f77b4;stroke:#1f77b4;\" x=\"285.764734\" xlink:href=\"#m3b8428b64b\" y=\"213.894759\"/>\r\n     <use style=\"fill:#1f77b4;stroke:#1f77b4;\" x=\"286.202038\" xlink:href=\"#m3b8428b64b\" y=\"213.90921\"/>\r\n     <use style=\"fill:#1f77b4;stroke:#1f77b4;\" x=\"286.639342\" xlink:href=\"#m3b8428b64b\" y=\"213.923429\"/>\r\n     <use style=\"fill:#1f77b4;stroke:#1f77b4;\" x=\"287.076646\" xlink:href=\"#m3b8428b64b\" y=\"213.93742\"/>\r\n     <use style=\"fill:#1f77b4;stroke:#1f77b4;\" x=\"287.51395\" xlink:href=\"#m3b8428b64b\" y=\"213.951187\"/>\r\n     <use style=\"fill:#1f77b4;stroke:#1f77b4;\" x=\"287.951254\" xlink:href=\"#m3b8428b64b\" y=\"213.964732\"/>\r\n     <use style=\"fill:#1f77b4;stroke:#1f77b4;\" x=\"288.388558\" xlink:href=\"#m3b8428b64b\" y=\"213.978059\"/>\r\n     <use style=\"fill:#1f77b4;stroke:#1f77b4;\" x=\"288.825862\" xlink:href=\"#m3b8428b64b\" y=\"213.991171\"/>\r\n     <use style=\"fill:#1f77b4;stroke:#1f77b4;\" x=\"289.263166\" xlink:href=\"#m3b8428b64b\" y=\"214.004071\"/>\r\n     <use style=\"fill:#1f77b4;stroke:#1f77b4;\" x=\"289.70047\" xlink:href=\"#m3b8428b64b\" y=\"214.016762\"/>\r\n     <use style=\"fill:#1f77b4;stroke:#1f77b4;\" x=\"290.137774\" xlink:href=\"#m3b8428b64b\" y=\"214.029248\"/>\r\n     <use style=\"fill:#1f77b4;stroke:#1f77b4;\" x=\"290.575078\" xlink:href=\"#m3b8428b64b\" y=\"214.041531\"/>\r\n     <use style=\"fill:#1f77b4;stroke:#1f77b4;\" x=\"291.012382\" xlink:href=\"#m3b8428b64b\" y=\"214.053614\"/>\r\n     <use style=\"fill:#1f77b4;stroke:#1f77b4;\" x=\"291.449687\" xlink:href=\"#m3b8428b64b\" y=\"214.0655\"/>\r\n     <use style=\"fill:#1f77b4;stroke:#1f77b4;\" x=\"291.886991\" xlink:href=\"#m3b8428b64b\" y=\"214.077193\"/>\r\n     <use style=\"fill:#1f77b4;stroke:#1f77b4;\" x=\"292.324295\" xlink:href=\"#m3b8428b64b\" y=\"214.088695\"/>\r\n     <use style=\"fill:#1f77b4;stroke:#1f77b4;\" x=\"292.761599\" xlink:href=\"#m3b8428b64b\" y=\"214.100009\"/>\r\n     <use style=\"fill:#1f77b4;stroke:#1f77b4;\" x=\"293.198903\" xlink:href=\"#m3b8428b64b\" y=\"214.111138\"/>\r\n     <use style=\"fill:#1f77b4;stroke:#1f77b4;\" x=\"293.636207\" xlink:href=\"#m3b8428b64b\" y=\"214.122084\"/>\r\n     <use style=\"fill:#1f77b4;stroke:#1f77b4;\" x=\"294.073511\" xlink:href=\"#m3b8428b64b\" y=\"214.132852\"/>\r\n     <use style=\"fill:#1f77b4;stroke:#1f77b4;\" x=\"294.510815\" xlink:href=\"#m3b8428b64b\" y=\"214.143442\"/>\r\n     <use style=\"fill:#1f77b4;stroke:#1f77b4;\" x=\"294.948119\" xlink:href=\"#m3b8428b64b\" y=\"214.153859\"/>\r\n     <use style=\"fill:#1f77b4;stroke:#1f77b4;\" x=\"295.385423\" xlink:href=\"#m3b8428b64b\" y=\"214.164104\"/>\r\n     <use style=\"fill:#1f77b4;stroke:#1f77b4;\" x=\"295.822727\" xlink:href=\"#m3b8428b64b\" y=\"214.174181\"/>\r\n     <use style=\"fill:#1f77b4;stroke:#1f77b4;\" x=\"296.260031\" xlink:href=\"#m3b8428b64b\" y=\"214.184092\"/>\r\n     <use style=\"fill:#1f77b4;stroke:#1f77b4;\" x=\"296.697335\" xlink:href=\"#m3b8428b64b\" y=\"214.193839\"/>\r\n     <use style=\"fill:#1f77b4;stroke:#1f77b4;\" x=\"297.134639\" xlink:href=\"#m3b8428b64b\" y=\"214.203424\"/>\r\n     <use style=\"fill:#1f77b4;stroke:#1f77b4;\" x=\"297.571944\" xlink:href=\"#m3b8428b64b\" y=\"214.212852\"/>\r\n     <use style=\"fill:#1f77b4;stroke:#1f77b4;\" x=\"298.009248\" xlink:href=\"#m3b8428b64b\" y=\"214.222123\"/>\r\n     <use style=\"fill:#1f77b4;stroke:#1f77b4;\" x=\"298.446552\" xlink:href=\"#m3b8428b64b\" y=\"214.231241\"/>\r\n     <use style=\"fill:#1f77b4;stroke:#1f77b4;\" x=\"298.883856\" xlink:href=\"#m3b8428b64b\" y=\"214.240207\"/>\r\n     <use style=\"fill:#1f77b4;stroke:#1f77b4;\" x=\"299.32116\" xlink:href=\"#m3b8428b64b\" y=\"214.249025\"/>\r\n     <use style=\"fill:#1f77b4;stroke:#1f77b4;\" x=\"299.758464\" xlink:href=\"#m3b8428b64b\" y=\"214.257696\"/>\r\n     <use style=\"fill:#1f77b4;stroke:#1f77b4;\" x=\"300.195768\" xlink:href=\"#m3b8428b64b\" y=\"214.266222\"/>\r\n     <use style=\"fill:#1f77b4;stroke:#1f77b4;\" x=\"300.633072\" xlink:href=\"#m3b8428b64b\" y=\"214.274607\"/>\r\n     <use style=\"fill:#1f77b4;stroke:#1f77b4;\" x=\"301.070376\" xlink:href=\"#m3b8428b64b\" y=\"214.282851\"/>\r\n     <use style=\"fill:#1f77b4;stroke:#1f77b4;\" x=\"301.50768\" xlink:href=\"#m3b8428b64b\" y=\"214.290958\"/>\r\n     <use style=\"fill:#1f77b4;stroke:#1f77b4;\" x=\"301.944984\" xlink:href=\"#m3b8428b64b\" y=\"214.29893\"/>\r\n     <use style=\"fill:#1f77b4;stroke:#1f77b4;\" x=\"302.382288\" xlink:href=\"#m3b8428b64b\" y=\"214.306767\"/>\r\n     <use style=\"fill:#1f77b4;stroke:#1f77b4;\" x=\"302.819592\" xlink:href=\"#m3b8428b64b\" y=\"214.314474\"/>\r\n     <use style=\"fill:#1f77b4;stroke:#1f77b4;\" x=\"303.256897\" xlink:href=\"#m3b8428b64b\" y=\"214.322052\"/>\r\n     <use style=\"fill:#1f77b4;stroke:#1f77b4;\" x=\"303.694201\" xlink:href=\"#m3b8428b64b\" y=\"214.329502\"/>\r\n     <use style=\"fill:#1f77b4;stroke:#1f77b4;\" x=\"304.131505\" xlink:href=\"#m3b8428b64b\" y=\"214.336827\"/>\r\n     <use style=\"fill:#1f77b4;stroke:#1f77b4;\" x=\"304.568809\" xlink:href=\"#m3b8428b64b\" y=\"214.344029\"/>\r\n     <use style=\"fill:#1f77b4;stroke:#1f77b4;\" x=\"305.006113\" xlink:href=\"#m3b8428b64b\" y=\"214.351111\"/>\r\n     <use style=\"fill:#1f77b4;stroke:#1f77b4;\" x=\"305.443417\" xlink:href=\"#m3b8428b64b\" y=\"214.358073\"/>\r\n     <use style=\"fill:#1f77b4;stroke:#1f77b4;\" x=\"305.880721\" xlink:href=\"#m3b8428b64b\" y=\"214.364917\"/>\r\n     <use style=\"fill:#1f77b4;stroke:#1f77b4;\" x=\"306.318025\" xlink:href=\"#m3b8428b64b\" y=\"214.371647\"/>\r\n     <use style=\"fill:#1f77b4;stroke:#1f77b4;\" x=\"306.755329\" xlink:href=\"#m3b8428b64b\" y=\"214.378263\"/>\r\n     <use style=\"fill:#1f77b4;stroke:#1f77b4;\" x=\"307.192633\" xlink:href=\"#m3b8428b64b\" y=\"214.384768\"/>\r\n     <use style=\"fill:#1f77b4;stroke:#1f77b4;\" x=\"307.629937\" xlink:href=\"#m3b8428b64b\" y=\"214.391163\"/>\r\n     <use style=\"fill:#1f77b4;stroke:#1f77b4;\" x=\"308.067241\" xlink:href=\"#m3b8428b64b\" y=\"214.397451\"/>\r\n     <use style=\"fill:#1f77b4;stroke:#1f77b4;\" x=\"308.504545\" xlink:href=\"#m3b8428b64b\" y=\"214.403632\"/>\r\n     <use style=\"fill:#1f77b4;stroke:#1f77b4;\" x=\"308.94185\" xlink:href=\"#m3b8428b64b\" y=\"214.409708\"/>\r\n     <use style=\"fill:#1f77b4;stroke:#1f77b4;\" x=\"309.379154\" xlink:href=\"#m3b8428b64b\" y=\"214.415682\"/>\r\n     <use style=\"fill:#1f77b4;stroke:#1f77b4;\" x=\"309.816458\" xlink:href=\"#m3b8428b64b\" y=\"214.421555\"/>\r\n     <use style=\"fill:#1f77b4;stroke:#1f77b4;\" x=\"310.253762\" xlink:href=\"#m3b8428b64b\" y=\"214.427328\"/>\r\n     <use style=\"fill:#1f77b4;stroke:#1f77b4;\" x=\"310.691066\" xlink:href=\"#m3b8428b64b\" y=\"214.433003\"/>\r\n     <use style=\"fill:#1f77b4;stroke:#1f77b4;\" x=\"311.12837\" xlink:href=\"#m3b8428b64b\" y=\"214.438582\"/>\r\n     <use style=\"fill:#1f77b4;stroke:#1f77b4;\" x=\"311.565674\" xlink:href=\"#m3b8428b64b\" y=\"214.444067\"/>\r\n     <use style=\"fill:#1f77b4;stroke:#1f77b4;\" x=\"312.002978\" xlink:href=\"#m3b8428b64b\" y=\"214.449458\"/>\r\n     <use style=\"fill:#1f77b4;stroke:#1f77b4;\" x=\"312.440282\" xlink:href=\"#m3b8428b64b\" y=\"214.454758\"/>\r\n     <use style=\"fill:#1f77b4;stroke:#1f77b4;\" x=\"312.877586\" xlink:href=\"#m3b8428b64b\" y=\"214.459968\"/>\r\n     <use style=\"fill:#1f77b4;stroke:#1f77b4;\" x=\"313.31489\" xlink:href=\"#m3b8428b64b\" y=\"214.465089\"/>\r\n     <use style=\"fill:#1f77b4;stroke:#1f77b4;\" x=\"313.752194\" xlink:href=\"#m3b8428b64b\" y=\"214.470123\"/>\r\n     <use style=\"fill:#1f77b4;stroke:#1f77b4;\" x=\"314.189498\" xlink:href=\"#m3b8428b64b\" y=\"214.475071\"/>\r\n     <use style=\"fill:#1f77b4;stroke:#1f77b4;\" x=\"314.626803\" xlink:href=\"#m3b8428b64b\" y=\"214.479934\"/>\r\n     <use style=\"fill:#1f77b4;stroke:#1f77b4;\" x=\"315.064107\" xlink:href=\"#m3b8428b64b\" y=\"214.484715\"/>\r\n     <use style=\"fill:#1f77b4;stroke:#1f77b4;\" x=\"315.501411\" xlink:href=\"#m3b8428b64b\" y=\"214.489414\"/>\r\n     <use style=\"fill:#1f77b4;stroke:#1f77b4;\" x=\"315.938715\" xlink:href=\"#m3b8428b64b\" y=\"214.494033\"/>\r\n     <use style=\"fill:#1f77b4;stroke:#1f77b4;\" x=\"316.376019\" xlink:href=\"#m3b8428b64b\" y=\"214.498573\"/>\r\n     <use style=\"fill:#1f77b4;stroke:#1f77b4;\" x=\"316.813323\" xlink:href=\"#m3b8428b64b\" y=\"214.503035\"/>\r\n     <use style=\"fill:#1f77b4;stroke:#1f77b4;\" x=\"317.250627\" xlink:href=\"#m3b8428b64b\" y=\"214.507421\"/>\r\n     <use style=\"fill:#1f77b4;stroke:#1f77b4;\" x=\"317.687931\" xlink:href=\"#m3b8428b64b\" y=\"214.511732\"/>\r\n     <use style=\"fill:#1f77b4;stroke:#1f77b4;\" x=\"318.125235\" xlink:href=\"#m3b8428b64b\" y=\"214.515969\"/>\r\n     <use style=\"fill:#1f77b4;stroke:#1f77b4;\" x=\"318.562539\" xlink:href=\"#m3b8428b64b\" y=\"214.520134\"/>\r\n     <use style=\"fill:#1f77b4;stroke:#1f77b4;\" x=\"318.999843\" xlink:href=\"#m3b8428b64b\" y=\"214.524227\"/>\r\n     <use style=\"fill:#1f77b4;stroke:#1f77b4;\" x=\"319.437147\" xlink:href=\"#m3b8428b64b\" y=\"214.528251\"/>\r\n     <use style=\"fill:#1f77b4;stroke:#1f77b4;\" x=\"319.874451\" xlink:href=\"#m3b8428b64b\" y=\"214.532205\"/>\r\n     <use style=\"fill:#1f77b4;stroke:#1f77b4;\" x=\"320.311755\" xlink:href=\"#m3b8428b64b\" y=\"214.536092\"/>\r\n     <use style=\"fill:#1f77b4;stroke:#1f77b4;\" x=\"320.74906\" xlink:href=\"#m3b8428b64b\" y=\"214.539912\"/>\r\n     <use style=\"fill:#1f77b4;stroke:#1f77b4;\" x=\"321.186364\" xlink:href=\"#m3b8428b64b\" y=\"214.543667\"/>\r\n     <use style=\"fill:#1f77b4;stroke:#1f77b4;\" x=\"321.623668\" xlink:href=\"#m3b8428b64b\" y=\"214.547357\"/>\r\n     <use style=\"fill:#1f77b4;stroke:#1f77b4;\" x=\"322.060972\" xlink:href=\"#m3b8428b64b\" y=\"214.550984\"/>\r\n     <use style=\"fill:#1f77b4;stroke:#1f77b4;\" x=\"322.498276\" xlink:href=\"#m3b8428b64b\" y=\"214.554549\"/>\r\n     <use style=\"fill:#1f77b4;stroke:#1f77b4;\" x=\"322.93558\" xlink:href=\"#m3b8428b64b\" y=\"214.558052\"/>\r\n     <use style=\"fill:#1f77b4;stroke:#1f77b4;\" x=\"323.372884\" xlink:href=\"#m3b8428b64b\" y=\"214.561496\"/>\r\n     <use style=\"fill:#1f77b4;stroke:#1f77b4;\" x=\"323.810188\" xlink:href=\"#m3b8428b64b\" y=\"214.56488\"/>\r\n     <use style=\"fill:#1f77b4;stroke:#1f77b4;\" x=\"324.247492\" xlink:href=\"#m3b8428b64b\" y=\"214.568206\"/>\r\n     <use style=\"fill:#1f77b4;stroke:#1f77b4;\" x=\"324.684796\" xlink:href=\"#m3b8428b64b\" y=\"214.571475\"/>\r\n     <use style=\"fill:#1f77b4;stroke:#1f77b4;\" x=\"325.1221\" xlink:href=\"#m3b8428b64b\" y=\"214.574687\"/>\r\n     <use style=\"fill:#1f77b4;stroke:#1f77b4;\" x=\"325.559404\" xlink:href=\"#m3b8428b64b\" y=\"214.577845\"/>\r\n     <use style=\"fill:#1f77b4;stroke:#1f77b4;\" x=\"325.996708\" xlink:href=\"#m3b8428b64b\" y=\"214.580947\"/>\r\n     <use style=\"fill:#1f77b4;stroke:#1f77b4;\" x=\"326.434013\" xlink:href=\"#m3b8428b64b\" y=\"214.583997\"/>\r\n     <use style=\"fill:#1f77b4;stroke:#1f77b4;\" x=\"326.871317\" xlink:href=\"#m3b8428b64b\" y=\"214.586993\"/>\r\n     <use style=\"fill:#1f77b4;stroke:#1f77b4;\" x=\"327.308621\" xlink:href=\"#m3b8428b64b\" y=\"214.589938\"/>\r\n     <use style=\"fill:#1f77b4;stroke:#1f77b4;\" x=\"327.745925\" xlink:href=\"#m3b8428b64b\" y=\"214.592833\"/>\r\n     <use style=\"fill:#1f77b4;stroke:#1f77b4;\" x=\"328.183229\" xlink:href=\"#m3b8428b64b\" y=\"214.595677\"/>\r\n     <use style=\"fill:#1f77b4;stroke:#1f77b4;\" x=\"328.620533\" xlink:href=\"#m3b8428b64b\" y=\"214.598472\"/>\r\n     <use style=\"fill:#1f77b4;stroke:#1f77b4;\" x=\"329.057837\" xlink:href=\"#m3b8428b64b\" y=\"214.601219\"/>\r\n     <use style=\"fill:#1f77b4;stroke:#1f77b4;\" x=\"329.495141\" xlink:href=\"#m3b8428b64b\" y=\"214.603918\"/>\r\n     <use style=\"fill:#1f77b4;stroke:#1f77b4;\" x=\"329.932445\" xlink:href=\"#m3b8428b64b\" y=\"214.606571\"/>\r\n     <use style=\"fill:#1f77b4;stroke:#1f77b4;\" x=\"330.369749\" xlink:href=\"#m3b8428b64b\" y=\"214.609178\"/>\r\n     <use style=\"fill:#1f77b4;stroke:#1f77b4;\" x=\"330.807053\" xlink:href=\"#m3b8428b64b\" y=\"214.61174\"/>\r\n     <use style=\"fill:#1f77b4;stroke:#1f77b4;\" x=\"331.244357\" xlink:href=\"#m3b8428b64b\" y=\"214.614257\"/>\r\n     <use style=\"fill:#1f77b4;stroke:#1f77b4;\" x=\"331.681661\" xlink:href=\"#m3b8428b64b\" y=\"214.616732\"/>\r\n     <use style=\"fill:#1f77b4;stroke:#1f77b4;\" x=\"332.118966\" xlink:href=\"#m3b8428b64b\" y=\"214.619163\"/>\r\n     <use style=\"fill:#1f77b4;stroke:#1f77b4;\" x=\"332.55627\" xlink:href=\"#m3b8428b64b\" y=\"214.621552\"/>\r\n     <use style=\"fill:#1f77b4;stroke:#1f77b4;\" x=\"332.993574\" xlink:href=\"#m3b8428b64b\" y=\"214.6239\"/>\r\n     <use style=\"fill:#1f77b4;stroke:#1f77b4;\" x=\"333.430878\" xlink:href=\"#m3b8428b64b\" y=\"214.626208\"/>\r\n     <use style=\"fill:#1f77b4;stroke:#1f77b4;\" x=\"333.868182\" xlink:href=\"#m3b8428b64b\" y=\"214.628475\"/>\r\n     <use style=\"fill:#1f77b4;stroke:#1f77b4;\" x=\"334.305486\" xlink:href=\"#m3b8428b64b\" y=\"214.630704\"/>\r\n     <use style=\"fill:#1f77b4;stroke:#1f77b4;\" x=\"334.74279\" xlink:href=\"#m3b8428b64b\" y=\"214.632894\"/>\r\n     <use style=\"fill:#1f77b4;stroke:#1f77b4;\" x=\"335.180094\" xlink:href=\"#m3b8428b64b\" y=\"214.635045\"/>\r\n     <use style=\"fill:#1f77b4;stroke:#1f77b4;\" x=\"335.617398\" xlink:href=\"#m3b8428b64b\" y=\"214.63716\"/>\r\n     <use style=\"fill:#1f77b4;stroke:#1f77b4;\" x=\"336.054702\" xlink:href=\"#m3b8428b64b\" y=\"214.639238\"/>\r\n     <use style=\"fill:#1f77b4;stroke:#1f77b4;\" x=\"336.492006\" xlink:href=\"#m3b8428b64b\" y=\"214.64128\"/>\r\n     <use style=\"fill:#1f77b4;stroke:#1f77b4;\" x=\"336.92931\" xlink:href=\"#m3b8428b64b\" y=\"214.643287\"/>\r\n     <use style=\"fill:#1f77b4;stroke:#1f77b4;\" x=\"337.366614\" xlink:href=\"#m3b8428b64b\" y=\"214.645259\"/>\r\n     <use style=\"fill:#1f77b4;stroke:#1f77b4;\" x=\"337.803918\" xlink:href=\"#m3b8428b64b\" y=\"214.647196\"/>\r\n     <use style=\"fill:#1f77b4;stroke:#1f77b4;\" x=\"338.241223\" xlink:href=\"#m3b8428b64b\" y=\"214.6491\"/>\r\n     <use style=\"fill:#1f77b4;stroke:#1f77b4;\" x=\"338.678527\" xlink:href=\"#m3b8428b64b\" y=\"214.650971\"/>\r\n     <use style=\"fill:#1f77b4;stroke:#1f77b4;\" x=\"339.115831\" xlink:href=\"#m3b8428b64b\" y=\"214.65281\"/>\r\n     <use style=\"fill:#1f77b4;stroke:#1f77b4;\" x=\"339.553135\" xlink:href=\"#m3b8428b64b\" y=\"214.654616\"/>\r\n     <use style=\"fill:#1f77b4;stroke:#1f77b4;\" x=\"339.990439\" xlink:href=\"#m3b8428b64b\" y=\"214.656391\"/>\r\n     <use style=\"fill:#1f77b4;stroke:#1f77b4;\" x=\"340.427743\" xlink:href=\"#m3b8428b64b\" y=\"214.658136\"/>\r\n     <use style=\"fill:#1f77b4;stroke:#1f77b4;\" x=\"340.865047\" xlink:href=\"#m3b8428b64b\" y=\"214.65985\"/>\r\n     <use style=\"fill:#1f77b4;stroke:#1f77b4;\" x=\"341.302351\" xlink:href=\"#m3b8428b64b\" y=\"214.661534\"/>\r\n     <use style=\"fill:#1f77b4;stroke:#1f77b4;\" x=\"341.739655\" xlink:href=\"#m3b8428b64b\" y=\"214.663189\"/>\r\n     <use style=\"fill:#1f77b4;stroke:#1f77b4;\" x=\"342.176959\" xlink:href=\"#m3b8428b64b\" y=\"214.664815\"/>\r\n     <use style=\"fill:#1f77b4;stroke:#1f77b4;\" x=\"342.614263\" xlink:href=\"#m3b8428b64b\" y=\"214.666413\"/>\r\n     <use style=\"fill:#1f77b4;stroke:#1f77b4;\" x=\"343.051567\" xlink:href=\"#m3b8428b64b\" y=\"214.667983\"/>\r\n     <use style=\"fill:#1f77b4;stroke:#1f77b4;\" x=\"343.488871\" xlink:href=\"#m3b8428b64b\" y=\"214.669526\"/>\r\n     <use style=\"fill:#1f77b4;stroke:#1f77b4;\" x=\"343.926176\" xlink:href=\"#m3b8428b64b\" y=\"214.671042\"/>\r\n     <use style=\"fill:#1f77b4;stroke:#1f77b4;\" x=\"344.36348\" xlink:href=\"#m3b8428b64b\" y=\"214.672532\"/>\r\n     <use style=\"fill:#1f77b4;stroke:#1f77b4;\" x=\"344.800784\" xlink:href=\"#m3b8428b64b\" y=\"214.673996\"/>\r\n     <use style=\"fill:#1f77b4;stroke:#1f77b4;\" x=\"345.238088\" xlink:href=\"#m3b8428b64b\" y=\"214.675434\"/>\r\n     <use style=\"fill:#1f77b4;stroke:#1f77b4;\" x=\"345.675392\" xlink:href=\"#m3b8428b64b\" y=\"214.676847\"/>\r\n     <use style=\"fill:#1f77b4;stroke:#1f77b4;\" x=\"346.112696\" xlink:href=\"#m3b8428b64b\" y=\"214.678236\"/>\r\n     <use style=\"fill:#1f77b4;stroke:#1f77b4;\" x=\"346.55\" xlink:href=\"#m3b8428b64b\" y=\"214.679601\"/>\r\n     <use style=\"fill:#1f77b4;stroke:#1f77b4;\" x=\"346.987304\" xlink:href=\"#m3b8428b64b\" y=\"214.680942\"/>\r\n     <use style=\"fill:#1f77b4;stroke:#1f77b4;\" x=\"347.424608\" xlink:href=\"#m3b8428b64b\" y=\"214.682259\"/>\r\n     <use style=\"fill:#1f77b4;stroke:#1f77b4;\" x=\"347.861912\" xlink:href=\"#m3b8428b64b\" y=\"214.683554\"/>\r\n     <use style=\"fill:#1f77b4;stroke:#1f77b4;\" x=\"348.299216\" xlink:href=\"#m3b8428b64b\" y=\"214.684826\"/>\r\n     <use style=\"fill:#1f77b4;stroke:#1f77b4;\" x=\"348.73652\" xlink:href=\"#m3b8428b64b\" y=\"214.686076\"/>\r\n     <use style=\"fill:#1f77b4;stroke:#1f77b4;\" x=\"349.173824\" xlink:href=\"#m3b8428b64b\" y=\"214.687304\"/>\r\n     <use style=\"fill:#1f77b4;stroke:#1f77b4;\" x=\"349.611129\" xlink:href=\"#m3b8428b64b\" y=\"214.688511\"/>\r\n     <use style=\"fill:#1f77b4;stroke:#1f77b4;\" x=\"350.048433\" xlink:href=\"#m3b8428b64b\" y=\"214.689697\"/>\r\n     <use style=\"fill:#1f77b4;stroke:#1f77b4;\" x=\"350.485737\" xlink:href=\"#m3b8428b64b\" y=\"214.690862\"/>\r\n     <use style=\"fill:#1f77b4;stroke:#1f77b4;\" x=\"350.923041\" xlink:href=\"#m3b8428b64b\" y=\"214.692007\"/>\r\n     <use style=\"fill:#1f77b4;stroke:#1f77b4;\" x=\"351.360345\" xlink:href=\"#m3b8428b64b\" y=\"214.693132\"/>\r\n     <use style=\"fill:#1f77b4;stroke:#1f77b4;\" x=\"351.797649\" xlink:href=\"#m3b8428b64b\" y=\"214.694238\"/>\r\n     <use style=\"fill:#1f77b4;stroke:#1f77b4;\" x=\"352.234953\" xlink:href=\"#m3b8428b64b\" y=\"214.695324\"/>\r\n     <use style=\"fill:#1f77b4;stroke:#1f77b4;\" x=\"352.672257\" xlink:href=\"#m3b8428b64b\" y=\"214.696391\"/>\r\n     <use style=\"fill:#1f77b4;stroke:#1f77b4;\" x=\"353.109561\" xlink:href=\"#m3b8428b64b\" y=\"214.697439\"/>\r\n     <use style=\"fill:#1f77b4;stroke:#1f77b4;\" x=\"353.546865\" xlink:href=\"#m3b8428b64b\" y=\"214.69847\"/>\r\n     <use style=\"fill:#1f77b4;stroke:#1f77b4;\" x=\"353.984169\" xlink:href=\"#m3b8428b64b\" y=\"214.699482\"/>\r\n     <use style=\"fill:#1f77b4;stroke:#1f77b4;\" x=\"354.421473\" xlink:href=\"#m3b8428b64b\" y=\"214.700476\"/>\r\n     <use style=\"fill:#1f77b4;stroke:#1f77b4;\" x=\"354.858777\" xlink:href=\"#m3b8428b64b\" y=\"214.701454\"/>\r\n     <use style=\"fill:#1f77b4;stroke:#1f77b4;\" x=\"355.296082\" xlink:href=\"#m3b8428b64b\" y=\"214.702414\"/>\r\n     <use style=\"fill:#1f77b4;stroke:#1f77b4;\" x=\"355.733386\" xlink:href=\"#m3b8428b64b\" y=\"214.703357\"/>\r\n     <use style=\"fill:#1f77b4;stroke:#1f77b4;\" x=\"356.17069\" xlink:href=\"#m3b8428b64b\" y=\"214.704284\"/>\r\n     <use style=\"fill:#1f77b4;stroke:#1f77b4;\" x=\"356.607994\" xlink:href=\"#m3b8428b64b\" y=\"214.705195\"/>\r\n     <use style=\"fill:#1f77b4;stroke:#1f77b4;\" x=\"357.045298\" xlink:href=\"#m3b8428b64b\" y=\"214.70609\"/>\r\n     <use style=\"fill:#1f77b4;stroke:#1f77b4;\" x=\"357.482602\" xlink:href=\"#m3b8428b64b\" y=\"214.706969\"/>\r\n     <use style=\"fill:#1f77b4;stroke:#1f77b4;\" x=\"357.919906\" xlink:href=\"#m3b8428b64b\" y=\"214.707833\"/>\r\n     <use style=\"fill:#1f77b4;stroke:#1f77b4;\" x=\"358.35721\" xlink:href=\"#m3b8428b64b\" y=\"214.708682\"/>\r\n     <use style=\"fill:#1f77b4;stroke:#1f77b4;\" x=\"358.794514\" xlink:href=\"#m3b8428b64b\" y=\"214.709516\"/>\r\n     <use style=\"fill:#1f77b4;stroke:#1f77b4;\" x=\"359.231818\" xlink:href=\"#m3b8428b64b\" y=\"214.710336\"/>\r\n    </g>\r\n   </g>\r\n   <g id=\"PathCollection_2\">\r\n    <defs>\r\n     <path d=\"M 0 3 \r\nC 0.795609 3 1.55874 2.683901 2.12132 2.12132 \r\nC 2.683901 1.55874 3 0.795609 3 0 \r\nC 3 -0.795609 2.683901 -1.55874 2.12132 -2.12132 \r\nC 1.55874 -2.683901 0.795609 -3 0 -3 \r\nC -0.795609 -3 -1.55874 -2.683901 -2.12132 -2.12132 \r\nC -2.683901 -1.55874 -3 -0.795609 -3 0 \r\nC -3 0.795609 -2.683901 1.55874 -2.12132 2.12132 \r\nC -1.55874 2.683901 -0.795609 3 0 3 \r\nz\r\n\" id=\"mf4b6018c92\" style=\"stroke:#ff7f0e;\"/>\r\n    </defs>\r\n    <g clip-path=\"url(#pfadf6ed532)\">\r\n     <use style=\"fill:#ff7f0e;stroke:#ff7f0e;\" x=\"54.868182\" xlink:href=\"#mf4b6018c92\" y=\"214.756364\"/>\r\n     <use style=\"fill:#ff7f0e;stroke:#ff7f0e;\" x=\"55.305486\" xlink:href=\"#mf4b6018c92\" y=\"214.749998\"/>\r\n     <use style=\"fill:#ff7f0e;stroke:#ff7f0e;\" x=\"55.74279\" xlink:href=\"#mf4b6018c92\" y=\"214.743505\"/>\r\n     <use style=\"fill:#ff7f0e;stroke:#ff7f0e;\" x=\"56.180094\" xlink:href=\"#mf4b6018c92\" y=\"214.73688\"/>\r\n     <use style=\"fill:#ff7f0e;stroke:#ff7f0e;\" x=\"56.617398\" xlink:href=\"#mf4b6018c92\" y=\"214.730121\"/>\r\n     <use style=\"fill:#ff7f0e;stroke:#ff7f0e;\" x=\"57.054702\" xlink:href=\"#mf4b6018c92\" y=\"214.723226\"/>\r\n     <use style=\"fill:#ff7f0e;stroke:#ff7f0e;\" x=\"57.492006\" xlink:href=\"#mf4b6018c92\" y=\"214.716192\"/>\r\n     <use style=\"fill:#ff7f0e;stroke:#ff7f0e;\" x=\"57.92931\" xlink:href=\"#mf4b6018c92\" y=\"214.709016\"/>\r\n     <use style=\"fill:#ff7f0e;stroke:#ff7f0e;\" x=\"58.366614\" xlink:href=\"#mf4b6018c92\" y=\"214.701695\"/>\r\n     <use style=\"fill:#ff7f0e;stroke:#ff7f0e;\" x=\"58.803918\" xlink:href=\"#mf4b6018c92\" y=\"214.694226\"/>\r\n     <use style=\"fill:#ff7f0e;stroke:#ff7f0e;\" x=\"59.241223\" xlink:href=\"#mf4b6018c92\" y=\"214.686607\"/>\r\n     <use style=\"fill:#ff7f0e;stroke:#ff7f0e;\" x=\"59.678527\" xlink:href=\"#mf4b6018c92\" y=\"214.678834\"/>\r\n     <use style=\"fill:#ff7f0e;stroke:#ff7f0e;\" x=\"60.115831\" xlink:href=\"#mf4b6018c92\" y=\"214.670905\"/>\r\n     <use style=\"fill:#ff7f0e;stroke:#ff7f0e;\" x=\"60.553135\" xlink:href=\"#mf4b6018c92\" y=\"214.662815\"/>\r\n     <use style=\"fill:#ff7f0e;stroke:#ff7f0e;\" x=\"60.990439\" xlink:href=\"#mf4b6018c92\" y=\"214.654562\"/>\r\n     <use style=\"fill:#ff7f0e;stroke:#ff7f0e;\" x=\"61.427743\" xlink:href=\"#mf4b6018c92\" y=\"214.646143\"/>\r\n     <use style=\"fill:#ff7f0e;stroke:#ff7f0e;\" x=\"61.865047\" xlink:href=\"#mf4b6018c92\" y=\"214.637554\"/>\r\n     <use style=\"fill:#ff7f0e;stroke:#ff7f0e;\" x=\"62.302351\" xlink:href=\"#mf4b6018c92\" y=\"214.628792\"/>\r\n     <use style=\"fill:#ff7f0e;stroke:#ff7f0e;\" x=\"62.739655\" xlink:href=\"#mf4b6018c92\" y=\"214.619853\"/>\r\n     <use style=\"fill:#ff7f0e;stroke:#ff7f0e;\" x=\"63.176959\" xlink:href=\"#mf4b6018c92\" y=\"214.610734\"/>\r\n     <use style=\"fill:#ff7f0e;stroke:#ff7f0e;\" x=\"63.614263\" xlink:href=\"#mf4b6018c92\" y=\"214.601431\"/>\r\n     <use style=\"fill:#ff7f0e;stroke:#ff7f0e;\" x=\"64.051567\" xlink:href=\"#mf4b6018c92\" y=\"214.59194\"/>\r\n     <use style=\"fill:#ff7f0e;stroke:#ff7f0e;\" x=\"64.488871\" xlink:href=\"#mf4b6018c92\" y=\"214.582259\"/>\r\n     <use style=\"fill:#ff7f0e;stroke:#ff7f0e;\" x=\"64.926176\" xlink:href=\"#mf4b6018c92\" y=\"214.572382\"/>\r\n     <use style=\"fill:#ff7f0e;stroke:#ff7f0e;\" x=\"65.36348\" xlink:href=\"#mf4b6018c92\" y=\"214.562307\"/>\r\n     <use style=\"fill:#ff7f0e;stroke:#ff7f0e;\" x=\"65.800784\" xlink:href=\"#mf4b6018c92\" y=\"214.552028\"/>\r\n     <use style=\"fill:#ff7f0e;stroke:#ff7f0e;\" x=\"66.238088\" xlink:href=\"#mf4b6018c92\" y=\"214.541543\"/>\r\n     <use style=\"fill:#ff7f0e;stroke:#ff7f0e;\" x=\"66.675392\" xlink:href=\"#mf4b6018c92\" y=\"214.530846\"/>\r\n     <use style=\"fill:#ff7f0e;stroke:#ff7f0e;\" x=\"67.112696\" xlink:href=\"#mf4b6018c92\" y=\"214.519934\"/>\r\n     <use style=\"fill:#ff7f0e;stroke:#ff7f0e;\" x=\"67.55\" xlink:href=\"#mf4b6018c92\" y=\"214.508802\"/>\r\n     <use style=\"fill:#ff7f0e;stroke:#ff7f0e;\" x=\"67.987304\" xlink:href=\"#mf4b6018c92\" y=\"214.497446\"/>\r\n     <use style=\"fill:#ff7f0e;stroke:#ff7f0e;\" x=\"68.424608\" xlink:href=\"#mf4b6018c92\" y=\"214.485862\"/>\r\n     <use style=\"fill:#ff7f0e;stroke:#ff7f0e;\" x=\"68.861912\" xlink:href=\"#mf4b6018c92\" y=\"214.474044\"/>\r\n     <use style=\"fill:#ff7f0e;stroke:#ff7f0e;\" x=\"69.299216\" xlink:href=\"#mf4b6018c92\" y=\"214.461989\"/>\r\n     <use style=\"fill:#ff7f0e;stroke:#ff7f0e;\" x=\"69.73652\" xlink:href=\"#mf4b6018c92\" y=\"214.44969\"/>\r\n     <use style=\"fill:#ff7f0e;stroke:#ff7f0e;\" x=\"70.173824\" xlink:href=\"#mf4b6018c92\" y=\"214.437145\"/>\r\n     <use style=\"fill:#ff7f0e;stroke:#ff7f0e;\" x=\"70.611129\" xlink:href=\"#mf4b6018c92\" y=\"214.424347\"/>\r\n     <use style=\"fill:#ff7f0e;stroke:#ff7f0e;\" x=\"71.048433\" xlink:href=\"#mf4b6018c92\" y=\"214.411291\"/>\r\n     <use style=\"fill:#ff7f0e;stroke:#ff7f0e;\" x=\"71.485737\" xlink:href=\"#mf4b6018c92\" y=\"214.397974\"/>\r\n     <use style=\"fill:#ff7f0e;stroke:#ff7f0e;\" x=\"71.923041\" xlink:href=\"#mf4b6018c92\" y=\"214.384388\"/>\r\n     <use style=\"fill:#ff7f0e;stroke:#ff7f0e;\" x=\"72.360345\" xlink:href=\"#mf4b6018c92\" y=\"214.37053\"/>\r\n     <use style=\"fill:#ff7f0e;stroke:#ff7f0e;\" x=\"72.797649\" xlink:href=\"#mf4b6018c92\" y=\"214.356393\"/>\r\n     <use style=\"fill:#ff7f0e;stroke:#ff7f0e;\" x=\"73.234953\" xlink:href=\"#mf4b6018c92\" y=\"214.341972\"/>\r\n     <use style=\"fill:#ff7f0e;stroke:#ff7f0e;\" x=\"73.672257\" xlink:href=\"#mf4b6018c92\" y=\"214.327261\"/>\r\n     <use style=\"fill:#ff7f0e;stroke:#ff7f0e;\" x=\"74.109561\" xlink:href=\"#mf4b6018c92\" y=\"214.312255\"/>\r\n     <use style=\"fill:#ff7f0e;stroke:#ff7f0e;\" x=\"74.546865\" xlink:href=\"#mf4b6018c92\" y=\"214.296947\"/>\r\n     <use style=\"fill:#ff7f0e;stroke:#ff7f0e;\" x=\"74.984169\" xlink:href=\"#mf4b6018c92\" y=\"214.281332\"/>\r\n     <use style=\"fill:#ff7f0e;stroke:#ff7f0e;\" x=\"75.421473\" xlink:href=\"#mf4b6018c92\" y=\"214.265403\"/>\r\n     <use style=\"fill:#ff7f0e;stroke:#ff7f0e;\" x=\"75.858777\" xlink:href=\"#mf4b6018c92\" y=\"214.249154\"/>\r\n     <use style=\"fill:#ff7f0e;stroke:#ff7f0e;\" x=\"76.296082\" xlink:href=\"#mf4b6018c92\" y=\"214.232579\"/>\r\n     <use style=\"fill:#ff7f0e;stroke:#ff7f0e;\" x=\"76.733386\" xlink:href=\"#mf4b6018c92\" y=\"214.215672\"/>\r\n     <use style=\"fill:#ff7f0e;stroke:#ff7f0e;\" x=\"77.17069\" xlink:href=\"#mf4b6018c92\" y=\"214.198425\"/>\r\n     <use style=\"fill:#ff7f0e;stroke:#ff7f0e;\" x=\"77.607994\" xlink:href=\"#mf4b6018c92\" y=\"214.180833\"/>\r\n     <use style=\"fill:#ff7f0e;stroke:#ff7f0e;\" x=\"78.045298\" xlink:href=\"#mf4b6018c92\" y=\"214.162888\"/>\r\n     <use style=\"fill:#ff7f0e;stroke:#ff7f0e;\" x=\"78.482602\" xlink:href=\"#mf4b6018c92\" y=\"214.144582\"/>\r\n     <use style=\"fill:#ff7f0e;stroke:#ff7f0e;\" x=\"78.919906\" xlink:href=\"#mf4b6018c92\" y=\"214.12591\"/>\r\n     <use style=\"fill:#ff7f0e;stroke:#ff7f0e;\" x=\"79.35721\" xlink:href=\"#mf4b6018c92\" y=\"214.106864\"/>\r\n     <use style=\"fill:#ff7f0e;stroke:#ff7f0e;\" x=\"79.794514\" xlink:href=\"#mf4b6018c92\" y=\"214.087436\"/>\r\n     <use style=\"fill:#ff7f0e;stroke:#ff7f0e;\" x=\"80.231818\" xlink:href=\"#mf4b6018c92\" y=\"214.067619\"/>\r\n     <use style=\"fill:#ff7f0e;stroke:#ff7f0e;\" x=\"80.669122\" xlink:href=\"#mf4b6018c92\" y=\"214.047405\"/>\r\n     <use style=\"fill:#ff7f0e;stroke:#ff7f0e;\" x=\"81.106426\" xlink:href=\"#mf4b6018c92\" y=\"214.026786\"/>\r\n     <use style=\"fill:#ff7f0e;stroke:#ff7f0e;\" x=\"81.54373\" xlink:href=\"#mf4b6018c92\" y=\"214.005754\"/>\r\n     <use style=\"fill:#ff7f0e;stroke:#ff7f0e;\" x=\"81.981034\" xlink:href=\"#mf4b6018c92\" y=\"213.984301\"/>\r\n     <use style=\"fill:#ff7f0e;stroke:#ff7f0e;\" x=\"82.418339\" xlink:href=\"#mf4b6018c92\" y=\"213.962419\"/>\r\n     <use style=\"fill:#ff7f0e;stroke:#ff7f0e;\" x=\"82.855643\" xlink:href=\"#mf4b6018c92\" y=\"213.940099\"/>\r\n     <use style=\"fill:#ff7f0e;stroke:#ff7f0e;\" x=\"83.292947\" xlink:href=\"#mf4b6018c92\" y=\"213.917333\"/>\r\n     <use style=\"fill:#ff7f0e;stroke:#ff7f0e;\" x=\"83.730251\" xlink:href=\"#mf4b6018c92\" y=\"213.894111\"/>\r\n     <use style=\"fill:#ff7f0e;stroke:#ff7f0e;\" x=\"84.167555\" xlink:href=\"#mf4b6018c92\" y=\"213.870426\"/>\r\n     <use style=\"fill:#ff7f0e;stroke:#ff7f0e;\" x=\"84.604859\" xlink:href=\"#mf4b6018c92\" y=\"213.846267\"/>\r\n     <use style=\"fill:#ff7f0e;stroke:#ff7f0e;\" x=\"85.042163\" xlink:href=\"#mf4b6018c92\" y=\"213.821626\"/>\r\n     <use style=\"fill:#ff7f0e;stroke:#ff7f0e;\" x=\"85.479467\" xlink:href=\"#mf4b6018c92\" y=\"213.796493\"/>\r\n     <use style=\"fill:#ff7f0e;stroke:#ff7f0e;\" x=\"85.916771\" xlink:href=\"#mf4b6018c92\" y=\"213.770858\"/>\r\n     <use style=\"fill:#ff7f0e;stroke:#ff7f0e;\" x=\"86.354075\" xlink:href=\"#mf4b6018c92\" y=\"213.744712\"/>\r\n     <use style=\"fill:#ff7f0e;stroke:#ff7f0e;\" x=\"86.791379\" xlink:href=\"#mf4b6018c92\" y=\"213.718044\"/>\r\n     <use style=\"fill:#ff7f0e;stroke:#ff7f0e;\" x=\"87.228683\" xlink:href=\"#mf4b6018c92\" y=\"213.690844\"/>\r\n     <use style=\"fill:#ff7f0e;stroke:#ff7f0e;\" x=\"87.665987\" xlink:href=\"#mf4b6018c92\" y=\"213.663101\"/>\r\n     <use style=\"fill:#ff7f0e;stroke:#ff7f0e;\" x=\"88.103292\" xlink:href=\"#mf4b6018c92\" y=\"213.634806\"/>\r\n     <use style=\"fill:#ff7f0e;stroke:#ff7f0e;\" x=\"88.540596\" xlink:href=\"#mf4b6018c92\" y=\"213.605946\"/>\r\n     <use style=\"fill:#ff7f0e;stroke:#ff7f0e;\" x=\"88.9779\" xlink:href=\"#mf4b6018c92\" y=\"213.576511\"/>\r\n     <use style=\"fill:#ff7f0e;stroke:#ff7f0e;\" x=\"89.415204\" xlink:href=\"#mf4b6018c92\" y=\"213.54649\"/>\r\n     <use style=\"fill:#ff7f0e;stroke:#ff7f0e;\" x=\"89.852508\" xlink:href=\"#mf4b6018c92\" y=\"213.515872\"/>\r\n     <use style=\"fill:#ff7f0e;stroke:#ff7f0e;\" x=\"90.289812\" xlink:href=\"#mf4b6018c92\" y=\"213.484644\"/>\r\n     <use style=\"fill:#ff7f0e;stroke:#ff7f0e;\" x=\"90.727116\" xlink:href=\"#mf4b6018c92\" y=\"213.452795\"/>\r\n     <use style=\"fill:#ff7f0e;stroke:#ff7f0e;\" x=\"91.16442\" xlink:href=\"#mf4b6018c92\" y=\"213.420312\"/>\r\n     <use style=\"fill:#ff7f0e;stroke:#ff7f0e;\" x=\"91.601724\" xlink:href=\"#mf4b6018c92\" y=\"213.387184\"/>\r\n     <use style=\"fill:#ff7f0e;stroke:#ff7f0e;\" x=\"92.039028\" xlink:href=\"#mf4b6018c92\" y=\"213.353398\"/>\r\n     <use style=\"fill:#ff7f0e;stroke:#ff7f0e;\" x=\"92.476332\" xlink:href=\"#mf4b6018c92\" y=\"213.31894\"/>\r\n     <use style=\"fill:#ff7f0e;stroke:#ff7f0e;\" x=\"92.913636\" xlink:href=\"#mf4b6018c92\" y=\"213.283799\"/>\r\n     <use style=\"fill:#ff7f0e;stroke:#ff7f0e;\" x=\"93.35094\" xlink:href=\"#mf4b6018c92\" y=\"213.24796\"/>\r\n     <use style=\"fill:#ff7f0e;stroke:#ff7f0e;\" x=\"93.788245\" xlink:href=\"#mf4b6018c92\" y=\"213.21141\"/>\r\n     <use style=\"fill:#ff7f0e;stroke:#ff7f0e;\" x=\"94.225549\" xlink:href=\"#mf4b6018c92\" y=\"213.174135\"/>\r\n     <use style=\"fill:#ff7f0e;stroke:#ff7f0e;\" x=\"94.662853\" xlink:href=\"#mf4b6018c92\" y=\"213.136121\"/>\r\n     <use style=\"fill:#ff7f0e;stroke:#ff7f0e;\" x=\"95.100157\" xlink:href=\"#mf4b6018c92\" y=\"213.097354\"/>\r\n     <use style=\"fill:#ff7f0e;stroke:#ff7f0e;\" x=\"95.537461\" xlink:href=\"#mf4b6018c92\" y=\"213.057819\"/>\r\n     <use style=\"fill:#ff7f0e;stroke:#ff7f0e;\" x=\"95.974765\" xlink:href=\"#mf4b6018c92\" y=\"213.017501\"/>\r\n     <use style=\"fill:#ff7f0e;stroke:#ff7f0e;\" x=\"96.412069\" xlink:href=\"#mf4b6018c92\" y=\"212.976386\"/>\r\n     <use style=\"fill:#ff7f0e;stroke:#ff7f0e;\" x=\"96.849373\" xlink:href=\"#mf4b6018c92\" y=\"212.934458\"/>\r\n     <use style=\"fill:#ff7f0e;stroke:#ff7f0e;\" x=\"97.286677\" xlink:href=\"#mf4b6018c92\" y=\"212.891701\"/>\r\n     <use style=\"fill:#ff7f0e;stroke:#ff7f0e;\" x=\"97.723981\" xlink:href=\"#mf4b6018c92\" y=\"212.8481\"/>\r\n     <use style=\"fill:#ff7f0e;stroke:#ff7f0e;\" x=\"98.161285\" xlink:href=\"#mf4b6018c92\" y=\"212.803639\"/>\r\n     <use style=\"fill:#ff7f0e;stroke:#ff7f0e;\" x=\"98.598589\" xlink:href=\"#mf4b6018c92\" y=\"212.7583\"/>\r\n     <use style=\"fill:#ff7f0e;stroke:#ff7f0e;\" x=\"99.035893\" xlink:href=\"#mf4b6018c92\" y=\"212.712067\"/>\r\n     <use style=\"fill:#ff7f0e;stroke:#ff7f0e;\" x=\"99.473197\" xlink:href=\"#mf4b6018c92\" y=\"212.664922\"/>\r\n     <use style=\"fill:#ff7f0e;stroke:#ff7f0e;\" x=\"99.910502\" xlink:href=\"#mf4b6018c92\" y=\"212.616849\"/>\r\n     <use style=\"fill:#ff7f0e;stroke:#ff7f0e;\" x=\"100.347806\" xlink:href=\"#mf4b6018c92\" y=\"212.567829\"/>\r\n     <use style=\"fill:#ff7f0e;stroke:#ff7f0e;\" x=\"100.78511\" xlink:href=\"#mf4b6018c92\" y=\"212.517844\"/>\r\n     <use style=\"fill:#ff7f0e;stroke:#ff7f0e;\" x=\"101.222414\" xlink:href=\"#mf4b6018c92\" y=\"212.466876\"/>\r\n     <use style=\"fill:#ff7f0e;stroke:#ff7f0e;\" x=\"101.659718\" xlink:href=\"#mf4b6018c92\" y=\"212.414906\"/>\r\n     <use style=\"fill:#ff7f0e;stroke:#ff7f0e;\" x=\"102.097022\" xlink:href=\"#mf4b6018c92\" y=\"212.361914\"/>\r\n     <use style=\"fill:#ff7f0e;stroke:#ff7f0e;\" x=\"102.534326\" xlink:href=\"#mf4b6018c92\" y=\"212.307882\"/>\r\n     <use style=\"fill:#ff7f0e;stroke:#ff7f0e;\" x=\"102.97163\" xlink:href=\"#mf4b6018c92\" y=\"212.25279\"/>\r\n     <use style=\"fill:#ff7f0e;stroke:#ff7f0e;\" x=\"103.408934\" xlink:href=\"#mf4b6018c92\" y=\"212.196618\"/>\r\n     <use style=\"fill:#ff7f0e;stroke:#ff7f0e;\" x=\"103.846238\" xlink:href=\"#mf4b6018c92\" y=\"212.139346\"/>\r\n     <use style=\"fill:#ff7f0e;stroke:#ff7f0e;\" x=\"104.283542\" xlink:href=\"#mf4b6018c92\" y=\"212.080952\"/>\r\n     <use style=\"fill:#ff7f0e;stroke:#ff7f0e;\" x=\"104.720846\" xlink:href=\"#mf4b6018c92\" y=\"212.021415\"/>\r\n     <use style=\"fill:#ff7f0e;stroke:#ff7f0e;\" x=\"105.15815\" xlink:href=\"#mf4b6018c92\" y=\"211.960715\"/>\r\n     <use style=\"fill:#ff7f0e;stroke:#ff7f0e;\" x=\"105.595455\" xlink:href=\"#mf4b6018c92\" y=\"211.898828\"/>\r\n     <use style=\"fill:#ff7f0e;stroke:#ff7f0e;\" x=\"106.032759\" xlink:href=\"#mf4b6018c92\" y=\"211.835733\"/>\r\n     <use style=\"fill:#ff7f0e;stroke:#ff7f0e;\" x=\"106.470063\" xlink:href=\"#mf4b6018c92\" y=\"211.771407\"/>\r\n     <use style=\"fill:#ff7f0e;stroke:#ff7f0e;\" x=\"106.907367\" xlink:href=\"#mf4b6018c92\" y=\"211.705826\"/>\r\n     <use style=\"fill:#ff7f0e;stroke:#ff7f0e;\" x=\"107.344671\" xlink:href=\"#mf4b6018c92\" y=\"211.638968\"/>\r\n     <use style=\"fill:#ff7f0e;stroke:#ff7f0e;\" x=\"107.781975\" xlink:href=\"#mf4b6018c92\" y=\"211.570808\"/>\r\n     <use style=\"fill:#ff7f0e;stroke:#ff7f0e;\" x=\"108.219279\" xlink:href=\"#mf4b6018c92\" y=\"211.501322\"/>\r\n     <use style=\"fill:#ff7f0e;stroke:#ff7f0e;\" x=\"108.656583\" xlink:href=\"#mf4b6018c92\" y=\"211.430486\"/>\r\n     <use style=\"fill:#ff7f0e;stroke:#ff7f0e;\" x=\"109.093887\" xlink:href=\"#mf4b6018c92\" y=\"211.358275\"/>\r\n     <use style=\"fill:#ff7f0e;stroke:#ff7f0e;\" x=\"109.531191\" xlink:href=\"#mf4b6018c92\" y=\"211.284663\"/>\r\n     <use style=\"fill:#ff7f0e;stroke:#ff7f0e;\" x=\"109.968495\" xlink:href=\"#mf4b6018c92\" y=\"211.209624\"/>\r\n     <use style=\"fill:#ff7f0e;stroke:#ff7f0e;\" x=\"110.405799\" xlink:href=\"#mf4b6018c92\" y=\"211.133133\"/>\r\n     <use style=\"fill:#ff7f0e;stroke:#ff7f0e;\" x=\"110.843103\" xlink:href=\"#mf4b6018c92\" y=\"211.055162\"/>\r\n     <use style=\"fill:#ff7f0e;stroke:#ff7f0e;\" x=\"111.280408\" xlink:href=\"#mf4b6018c92\" y=\"210.975684\"/>\r\n     <use style=\"fill:#ff7f0e;stroke:#ff7f0e;\" x=\"111.717712\" xlink:href=\"#mf4b6018c92\" y=\"210.894671\"/>\r\n     <use style=\"fill:#ff7f0e;stroke:#ff7f0e;\" x=\"112.155016\" xlink:href=\"#mf4b6018c92\" y=\"210.812096\"/>\r\n     <use style=\"fill:#ff7f0e;stroke:#ff7f0e;\" x=\"112.59232\" xlink:href=\"#mf4b6018c92\" y=\"210.727929\"/>\r\n     <use style=\"fill:#ff7f0e;stroke:#ff7f0e;\" x=\"113.029624\" xlink:href=\"#mf4b6018c92\" y=\"210.642141\"/>\r\n     <use style=\"fill:#ff7f0e;stroke:#ff7f0e;\" x=\"113.466928\" xlink:href=\"#mf4b6018c92\" y=\"210.554704\"/>\r\n     <use style=\"fill:#ff7f0e;stroke:#ff7f0e;\" x=\"113.904232\" xlink:href=\"#mf4b6018c92\" y=\"210.465586\"/>\r\n     <use style=\"fill:#ff7f0e;stroke:#ff7f0e;\" x=\"114.341536\" xlink:href=\"#mf4b6018c92\" y=\"210.374757\"/>\r\n     <use style=\"fill:#ff7f0e;stroke:#ff7f0e;\" x=\"114.77884\" xlink:href=\"#mf4b6018c92\" y=\"210.282187\"/>\r\n     <use style=\"fill:#ff7f0e;stroke:#ff7f0e;\" x=\"115.216144\" xlink:href=\"#mf4b6018c92\" y=\"210.187844\"/>\r\n     <use style=\"fill:#ff7f0e;stroke:#ff7f0e;\" x=\"115.653448\" xlink:href=\"#mf4b6018c92\" y=\"210.091696\"/>\r\n     <use style=\"fill:#ff7f0e;stroke:#ff7f0e;\" x=\"116.090752\" xlink:href=\"#mf4b6018c92\" y=\"209.993711\"/>\r\n     <use style=\"fill:#ff7f0e;stroke:#ff7f0e;\" x=\"116.528056\" xlink:href=\"#mf4b6018c92\" y=\"209.893856\"/>\r\n     <use style=\"fill:#ff7f0e;stroke:#ff7f0e;\" x=\"116.965361\" xlink:href=\"#mf4b6018c92\" y=\"209.792098\"/>\r\n     <use style=\"fill:#ff7f0e;stroke:#ff7f0e;\" x=\"117.402665\" xlink:href=\"#mf4b6018c92\" y=\"209.688403\"/>\r\n     <use style=\"fill:#ff7f0e;stroke:#ff7f0e;\" x=\"117.839969\" xlink:href=\"#mf4b6018c92\" y=\"209.582735\"/>\r\n     <use style=\"fill:#ff7f0e;stroke:#ff7f0e;\" x=\"118.277273\" xlink:href=\"#mf4b6018c92\" y=\"209.475062\"/>\r\n     <use style=\"fill:#ff7f0e;stroke:#ff7f0e;\" x=\"118.714577\" xlink:href=\"#mf4b6018c92\" y=\"209.365346\"/>\r\n     <use style=\"fill:#ff7f0e;stroke:#ff7f0e;\" x=\"119.151881\" xlink:href=\"#mf4b6018c92\" y=\"209.253552\"/>\r\n     <use style=\"fill:#ff7f0e;stroke:#ff7f0e;\" x=\"119.589185\" xlink:href=\"#mf4b6018c92\" y=\"209.139644\"/>\r\n     <use style=\"fill:#ff7f0e;stroke:#ff7f0e;\" x=\"120.026489\" xlink:href=\"#mf4b6018c92\" y=\"209.023584\"/>\r\n     <use style=\"fill:#ff7f0e;stroke:#ff7f0e;\" x=\"120.463793\" xlink:href=\"#mf4b6018c92\" y=\"208.905334\"/>\r\n     <use style=\"fill:#ff7f0e;stroke:#ff7f0e;\" x=\"120.901097\" xlink:href=\"#mf4b6018c92\" y=\"208.784858\"/>\r\n     <use style=\"fill:#ff7f0e;stroke:#ff7f0e;\" x=\"121.338401\" xlink:href=\"#mf4b6018c92\" y=\"208.662115\"/>\r\n     <use style=\"fill:#ff7f0e;stroke:#ff7f0e;\" x=\"121.775705\" xlink:href=\"#mf4b6018c92\" y=\"208.537068\"/>\r\n     <use style=\"fill:#ff7f0e;stroke:#ff7f0e;\" x=\"122.213009\" xlink:href=\"#mf4b6018c92\" y=\"208.409676\"/>\r\n     <use style=\"fill:#ff7f0e;stroke:#ff7f0e;\" x=\"122.650313\" xlink:href=\"#mf4b6018c92\" y=\"208.2799\"/>\r\n     <use style=\"fill:#ff7f0e;stroke:#ff7f0e;\" x=\"123.087618\" xlink:href=\"#mf4b6018c92\" y=\"208.147698\"/>\r\n     <use style=\"fill:#ff7f0e;stroke:#ff7f0e;\" x=\"123.524922\" xlink:href=\"#mf4b6018c92\" y=\"208.01303\"/>\r\n     <use style=\"fill:#ff7f0e;stroke:#ff7f0e;\" x=\"123.962226\" xlink:href=\"#mf4b6018c92\" y=\"207.875853\"/>\r\n     <use style=\"fill:#ff7f0e;stroke:#ff7f0e;\" x=\"124.39953\" xlink:href=\"#mf4b6018c92\" y=\"207.736126\"/>\r\n     <use style=\"fill:#ff7f0e;stroke:#ff7f0e;\" x=\"124.836834\" xlink:href=\"#mf4b6018c92\" y=\"207.593804\"/>\r\n     <use style=\"fill:#ff7f0e;stroke:#ff7f0e;\" x=\"125.274138\" xlink:href=\"#mf4b6018c92\" y=\"207.448845\"/>\r\n     <use style=\"fill:#ff7f0e;stroke:#ff7f0e;\" x=\"125.711442\" xlink:href=\"#mf4b6018c92\" y=\"207.301205\"/>\r\n     <use style=\"fill:#ff7f0e;stroke:#ff7f0e;\" x=\"126.148746\" xlink:href=\"#mf4b6018c92\" y=\"207.150839\"/>\r\n     <use style=\"fill:#ff7f0e;stroke:#ff7f0e;\" x=\"126.58605\" xlink:href=\"#mf4b6018c92\" y=\"206.997702\"/>\r\n     <use style=\"fill:#ff7f0e;stroke:#ff7f0e;\" x=\"127.023354\" xlink:href=\"#mf4b6018c92\" y=\"206.841747\"/>\r\n     <use style=\"fill:#ff7f0e;stroke:#ff7f0e;\" x=\"127.460658\" xlink:href=\"#mf4b6018c92\" y=\"206.68293\"/>\r\n     <use style=\"fill:#ff7f0e;stroke:#ff7f0e;\" x=\"127.897962\" xlink:href=\"#mf4b6018c92\" y=\"206.521202\"/>\r\n     <use style=\"fill:#ff7f0e;stroke:#ff7f0e;\" x=\"128.335266\" xlink:href=\"#mf4b6018c92\" y=\"206.356517\"/>\r\n     <use style=\"fill:#ff7f0e;stroke:#ff7f0e;\" x=\"128.772571\" xlink:href=\"#mf4b6018c92\" y=\"206.188827\"/>\r\n     <use style=\"fill:#ff7f0e;stroke:#ff7f0e;\" x=\"129.209875\" xlink:href=\"#mf4b6018c92\" y=\"206.018082\"/>\r\n     <use style=\"fill:#ff7f0e;stroke:#ff7f0e;\" x=\"129.647179\" xlink:href=\"#mf4b6018c92\" y=\"205.844235\"/>\r\n     <use style=\"fill:#ff7f0e;stroke:#ff7f0e;\" x=\"130.084483\" xlink:href=\"#mf4b6018c92\" y=\"205.667235\"/>\r\n     <use style=\"fill:#ff7f0e;stroke:#ff7f0e;\" x=\"130.521787\" xlink:href=\"#mf4b6018c92\" y=\"205.487034\"/>\r\n     <use style=\"fill:#ff7f0e;stroke:#ff7f0e;\" x=\"130.959091\" xlink:href=\"#mf4b6018c92\" y=\"205.30358\"/>\r\n     <use style=\"fill:#ff7f0e;stroke:#ff7f0e;\" x=\"131.396395\" xlink:href=\"#mf4b6018c92\" y=\"205.116822\"/>\r\n     <use style=\"fill:#ff7f0e;stroke:#ff7f0e;\" x=\"131.833699\" xlink:href=\"#mf4b6018c92\" y=\"204.92671\"/>\r\n     <use style=\"fill:#ff7f0e;stroke:#ff7f0e;\" x=\"132.271003\" xlink:href=\"#mf4b6018c92\" y=\"204.73319\"/>\r\n     <use style=\"fill:#ff7f0e;stroke:#ff7f0e;\" x=\"132.708307\" xlink:href=\"#mf4b6018c92\" y=\"204.536211\"/>\r\n     <use style=\"fill:#ff7f0e;stroke:#ff7f0e;\" x=\"133.145611\" xlink:href=\"#mf4b6018c92\" y=\"204.33572\"/>\r\n     <use style=\"fill:#ff7f0e;stroke:#ff7f0e;\" x=\"133.582915\" xlink:href=\"#mf4b6018c92\" y=\"204.131662\"/>\r\n     <use style=\"fill:#ff7f0e;stroke:#ff7f0e;\" x=\"134.020219\" xlink:href=\"#mf4b6018c92\" y=\"203.923984\"/>\r\n     <use style=\"fill:#ff7f0e;stroke:#ff7f0e;\" x=\"134.457524\" xlink:href=\"#mf4b6018c92\" y=\"203.712631\"/>\r\n     <use style=\"fill:#ff7f0e;stroke:#ff7f0e;\" x=\"134.894828\" xlink:href=\"#mf4b6018c92\" y=\"203.497548\"/>\r\n     <use style=\"fill:#ff7f0e;stroke:#ff7f0e;\" x=\"135.332132\" xlink:href=\"#mf4b6018c92\" y=\"203.27868\"/>\r\n     <use style=\"fill:#ff7f0e;stroke:#ff7f0e;\" x=\"135.769436\" xlink:href=\"#mf4b6018c92\" y=\"203.055971\"/>\r\n     <use style=\"fill:#ff7f0e;stroke:#ff7f0e;\" x=\"136.20674\" xlink:href=\"#mf4b6018c92\" y=\"202.829365\"/>\r\n     <use style=\"fill:#ff7f0e;stroke:#ff7f0e;\" x=\"136.644044\" xlink:href=\"#mf4b6018c92\" y=\"202.598806\"/>\r\n     <use style=\"fill:#ff7f0e;stroke:#ff7f0e;\" x=\"137.081348\" xlink:href=\"#mf4b6018c92\" y=\"202.364238\"/>\r\n     <use style=\"fill:#ff7f0e;stroke:#ff7f0e;\" x=\"137.518652\" xlink:href=\"#mf4b6018c92\" y=\"202.125603\"/>\r\n     <use style=\"fill:#ff7f0e;stroke:#ff7f0e;\" x=\"137.955956\" xlink:href=\"#mf4b6018c92\" y=\"201.882844\"/>\r\n     <use style=\"fill:#ff7f0e;stroke:#ff7f0e;\" x=\"138.39326\" xlink:href=\"#mf4b6018c92\" y=\"201.635903\"/>\r\n     <use style=\"fill:#ff7f0e;stroke:#ff7f0e;\" x=\"138.830564\" xlink:href=\"#mf4b6018c92\" y=\"201.384722\"/>\r\n     <use style=\"fill:#ff7f0e;stroke:#ff7f0e;\" x=\"139.267868\" xlink:href=\"#mf4b6018c92\" y=\"201.129243\"/>\r\n     <use style=\"fill:#ff7f0e;stroke:#ff7f0e;\" x=\"139.705172\" xlink:href=\"#mf4b6018c92\" y=\"200.869406\"/>\r\n     <use style=\"fill:#ff7f0e;stroke:#ff7f0e;\" x=\"140.142476\" xlink:href=\"#mf4b6018c92\" y=\"200.605154\"/>\r\n     <use style=\"fill:#ff7f0e;stroke:#ff7f0e;\" x=\"140.579781\" xlink:href=\"#mf4b6018c92\" y=\"200.336425\"/>\r\n     <use style=\"fill:#ff7f0e;stroke:#ff7f0e;\" x=\"141.017085\" xlink:href=\"#mf4b6018c92\" y=\"200.063162\"/>\r\n     <use style=\"fill:#ff7f0e;stroke:#ff7f0e;\" x=\"141.454389\" xlink:href=\"#mf4b6018c92\" y=\"199.785302\"/>\r\n     <use style=\"fill:#ff7f0e;stroke:#ff7f0e;\" x=\"141.891693\" xlink:href=\"#mf4b6018c92\" y=\"199.502786\"/>\r\n     <use style=\"fill:#ff7f0e;stroke:#ff7f0e;\" x=\"142.328997\" xlink:href=\"#mf4b6018c92\" y=\"199.215553\"/>\r\n     <use style=\"fill:#ff7f0e;stroke:#ff7f0e;\" x=\"142.766301\" xlink:href=\"#mf4b6018c92\" y=\"198.923544\"/>\r\n     <use style=\"fill:#ff7f0e;stroke:#ff7f0e;\" x=\"143.203605\" xlink:href=\"#mf4b6018c92\" y=\"198.626699\"/>\r\n     <use style=\"fill:#ff7f0e;stroke:#ff7f0e;\" x=\"143.640909\" xlink:href=\"#mf4b6018c92\" y=\"198.324959\"/>\r\n     <use style=\"fill:#ff7f0e;stroke:#ff7f0e;\" x=\"144.078213\" xlink:href=\"#mf4b6018c92\" y=\"198.018262\"/>\r\n     <use style=\"fill:#ff7f0e;stroke:#ff7f0e;\" x=\"144.515517\" xlink:href=\"#mf4b6018c92\" y=\"197.706549\"/>\r\n     <use style=\"fill:#ff7f0e;stroke:#ff7f0e;\" x=\"144.952821\" xlink:href=\"#mf4b6018c92\" y=\"197.38976\"/>\r\n     <use style=\"fill:#ff7f0e;stroke:#ff7f0e;\" x=\"145.390125\" xlink:href=\"#mf4b6018c92\" y=\"197.067837\"/>\r\n     <use style=\"fill:#ff7f0e;stroke:#ff7f0e;\" x=\"145.827429\" xlink:href=\"#mf4b6018c92\" y=\"196.740718\"/>\r\n     <use style=\"fill:#ff7f0e;stroke:#ff7f0e;\" x=\"146.264734\" xlink:href=\"#mf4b6018c92\" y=\"196.408343\"/>\r\n     <use style=\"fill:#ff7f0e;stroke:#ff7f0e;\" x=\"146.702038\" xlink:href=\"#mf4b6018c92\" y=\"196.070651\"/>\r\n     <use style=\"fill:#ff7f0e;stroke:#ff7f0e;\" x=\"147.139342\" xlink:href=\"#mf4b6018c92\" y=\"195.727581\"/>\r\n     <use style=\"fill:#ff7f0e;stroke:#ff7f0e;\" x=\"147.576646\" xlink:href=\"#mf4b6018c92\" y=\"195.379075\"/>\r\n     <use style=\"fill:#ff7f0e;stroke:#ff7f0e;\" x=\"148.01395\" xlink:href=\"#mf4b6018c92\" y=\"195.025072\"/>\r\n     <use style=\"fill:#ff7f0e;stroke:#ff7f0e;\" x=\"148.451254\" xlink:href=\"#mf4b6018c92\" y=\"194.665515\"/>\r\n     <use style=\"fill:#ff7f0e;stroke:#ff7f0e;\" x=\"148.888558\" xlink:href=\"#mf4b6018c92\" y=\"194.300346\"/>\r\n     <use style=\"fill:#ff7f0e;stroke:#ff7f0e;\" x=\"149.325862\" xlink:href=\"#mf4b6018c92\" y=\"193.929507\"/>\r\n     <use style=\"fill:#ff7f0e;stroke:#ff7f0e;\" x=\"149.763166\" xlink:href=\"#mf4b6018c92\" y=\"193.552942\"/>\r\n     <use style=\"fill:#ff7f0e;stroke:#ff7f0e;\" x=\"150.20047\" xlink:href=\"#mf4b6018c92\" y=\"193.170594\"/>\r\n     <use style=\"fill:#ff7f0e;stroke:#ff7f0e;\" x=\"150.637774\" xlink:href=\"#mf4b6018c92\" y=\"192.782408\"/>\r\n     <use style=\"fill:#ff7f0e;stroke:#ff7f0e;\" x=\"151.075078\" xlink:href=\"#mf4b6018c92\" y=\"192.38833\"/>\r\n     <use style=\"fill:#ff7f0e;stroke:#ff7f0e;\" x=\"151.512382\" xlink:href=\"#mf4b6018c92\" y=\"191.988303\"/>\r\n     <use style=\"fill:#ff7f0e;stroke:#ff7f0e;\" x=\"151.949687\" xlink:href=\"#mf4b6018c92\" y=\"191.582275\"/>\r\n     <use style=\"fill:#ff7f0e;stroke:#ff7f0e;\" x=\"152.386991\" xlink:href=\"#mf4b6018c92\" y=\"191.170192\"/>\r\n     <use style=\"fill:#ff7f0e;stroke:#ff7f0e;\" x=\"152.824295\" xlink:href=\"#mf4b6018c92\" y=\"190.752002\"/>\r\n     <use style=\"fill:#ff7f0e;stroke:#ff7f0e;\" x=\"153.261599\" xlink:href=\"#mf4b6018c92\" y=\"190.327652\"/>\r\n     <use style=\"fill:#ff7f0e;stroke:#ff7f0e;\" x=\"153.698903\" xlink:href=\"#mf4b6018c92\" y=\"189.89709\"/>\r\n     <use style=\"fill:#ff7f0e;stroke:#ff7f0e;\" x=\"154.136207\" xlink:href=\"#mf4b6018c92\" y=\"189.460266\"/>\r\n     <use style=\"fill:#ff7f0e;stroke:#ff7f0e;\" x=\"154.573511\" xlink:href=\"#mf4b6018c92\" y=\"189.017129\"/>\r\n     <use style=\"fill:#ff7f0e;stroke:#ff7f0e;\" x=\"155.010815\" xlink:href=\"#mf4b6018c92\" y=\"188.567629\"/>\r\n     <use style=\"fill:#ff7f0e;stroke:#ff7f0e;\" x=\"155.448119\" xlink:href=\"#mf4b6018c92\" y=\"188.111721\"/>\r\n     <use style=\"fill:#ff7f0e;stroke:#ff7f0e;\" x=\"155.885423\" xlink:href=\"#mf4b6018c92\" y=\"187.649361\"/>\r\n     <use style=\"fill:#ff7f0e;stroke:#ff7f0e;\" x=\"156.322727\" xlink:href=\"#mf4b6018c92\" y=\"187.180506\"/>\r\n     <use style=\"fill:#ff7f0e;stroke:#ff7f0e;\" x=\"156.760031\" xlink:href=\"#mf4b6018c92\" y=\"186.705111\"/>\r\n     <use style=\"fill:#ff7f0e;stroke:#ff7f0e;\" x=\"157.197335\" xlink:href=\"#mf4b6018c92\" y=\"186.223137\"/>\r\n     <use style=\"fill:#ff7f0e;stroke:#ff7f0e;\" x=\"157.634639\" xlink:href=\"#mf4b6018c92\" y=\"185.734542\"/>\r\n     <use style=\"fill:#ff7f0e;stroke:#ff7f0e;\" x=\"158.071944\" xlink:href=\"#mf4b6018c92\" y=\"185.239292\"/>\r\n     <use style=\"fill:#ff7f0e;stroke:#ff7f0e;\" x=\"158.509248\" xlink:href=\"#mf4b6018c92\" y=\"184.73735\"/>\r\n     <use style=\"fill:#ff7f0e;stroke:#ff7f0e;\" x=\"158.946552\" xlink:href=\"#mf4b6018c92\" y=\"184.228676\"/>\r\n     <use style=\"fill:#ff7f0e;stroke:#ff7f0e;\" x=\"159.383856\" xlink:href=\"#mf4b6018c92\" y=\"183.713236\"/>\r\n     <use style=\"fill:#ff7f0e;stroke:#ff7f0e;\" x=\"159.82116\" xlink:href=\"#mf4b6018c92\" y=\"183.190996\"/>\r\n     <use style=\"fill:#ff7f0e;stroke:#ff7f0e;\" x=\"160.258464\" xlink:href=\"#mf4b6018c92\" y=\"182.661927\"/>\r\n     <use style=\"fill:#ff7f0e;stroke:#ff7f0e;\" x=\"160.695768\" xlink:href=\"#mf4b6018c92\" y=\"182.125999\"/>\r\n     <use style=\"fill:#ff7f0e;stroke:#ff7f0e;\" x=\"161.133072\" xlink:href=\"#mf4b6018c92\" y=\"181.583187\"/>\r\n     <use style=\"fill:#ff7f0e;stroke:#ff7f0e;\" x=\"161.570376\" xlink:href=\"#mf4b6018c92\" y=\"181.033466\"/>\r\n     <use style=\"fill:#ff7f0e;stroke:#ff7f0e;\" x=\"162.00768\" xlink:href=\"#mf4b6018c92\" y=\"180.476814\"/>\r\n     <use style=\"fill:#ff7f0e;stroke:#ff7f0e;\" x=\"162.444984\" xlink:href=\"#mf4b6018c92\" y=\"179.913213\"/>\r\n     <use style=\"fill:#ff7f0e;stroke:#ff7f0e;\" x=\"162.882288\" xlink:href=\"#mf4b6018c92\" y=\"179.342645\"/>\r\n     <use style=\"fill:#ff7f0e;stroke:#ff7f0e;\" x=\"163.319592\" xlink:href=\"#mf4b6018c92\" y=\"178.765095\"/>\r\n     <use style=\"fill:#ff7f0e;stroke:#ff7f0e;\" x=\"163.756897\" xlink:href=\"#mf4b6018c92\" y=\"178.180551\"/>\r\n     <use style=\"fill:#ff7f0e;stroke:#ff7f0e;\" x=\"164.194201\" xlink:href=\"#mf4b6018c92\" y=\"177.589003\"/>\r\n     <use style=\"fill:#ff7f0e;stroke:#ff7f0e;\" x=\"164.631505\" xlink:href=\"#mf4b6018c92\" y=\"176.990443\"/>\r\n     <use style=\"fill:#ff7f0e;stroke:#ff7f0e;\" x=\"165.068809\" xlink:href=\"#mf4b6018c92\" y=\"176.384864\"/>\r\n     <use style=\"fill:#ff7f0e;stroke:#ff7f0e;\" x=\"165.506113\" xlink:href=\"#mf4b6018c92\" y=\"175.772264\"/>\r\n     <use style=\"fill:#ff7f0e;stroke:#ff7f0e;\" x=\"165.943417\" xlink:href=\"#mf4b6018c92\" y=\"175.15264\"/>\r\n     <use style=\"fill:#ff7f0e;stroke:#ff7f0e;\" x=\"166.380721\" xlink:href=\"#mf4b6018c92\" y=\"174.525996\"/>\r\n     <use style=\"fill:#ff7f0e;stroke:#ff7f0e;\" x=\"166.818025\" xlink:href=\"#mf4b6018c92\" y=\"173.892333\"/>\r\n     <use style=\"fill:#ff7f0e;stroke:#ff7f0e;\" x=\"167.255329\" xlink:href=\"#mf4b6018c92\" y=\"173.251657\"/>\r\n     <use style=\"fill:#ff7f0e;stroke:#ff7f0e;\" x=\"167.692633\" xlink:href=\"#mf4b6018c92\" y=\"172.603977\"/>\r\n     <use style=\"fill:#ff7f0e;stroke:#ff7f0e;\" x=\"168.129937\" xlink:href=\"#mf4b6018c92\" y=\"171.949303\"/>\r\n     <use style=\"fill:#ff7f0e;stroke:#ff7f0e;\" x=\"168.567241\" xlink:href=\"#mf4b6018c92\" y=\"171.287654\"/>\r\n     <use style=\"fill:#ff7f0e;stroke:#ff7f0e;\" x=\"169.004545\" xlink:href=\"#mf4b6018c92\" y=\"170.619051\"/>\r\n     <use style=\"fill:#ff7f0e;stroke:#ff7f0e;\" x=\"169.44185\" xlink:href=\"#mf4b6018c92\" y=\"169.943516\"/>\r\n     <use style=\"fill:#ff7f0e;stroke:#ff7f0e;\" x=\"169.879154\" xlink:href=\"#mf4b6018c92\" y=\"169.261072\"/>\r\n     <use style=\"fill:#ff7f0e;stroke:#ff7f0e;\" x=\"170.316458\" xlink:href=\"#mf4b6018c92\" y=\"168.57175\"/>\r\n     <use style=\"fill:#ff7f0e;stroke:#ff7f0e;\" x=\"170.753762\" xlink:href=\"#mf4b6018c92\" y=\"167.875578\"/>\r\n     <use style=\"fill:#ff7f0e;stroke:#ff7f0e;\" x=\"171.191066\" xlink:href=\"#mf4b6018c92\" y=\"167.172591\"/>\r\n     <use style=\"fill:#ff7f0e;stroke:#ff7f0e;\" x=\"171.62837\" xlink:href=\"#mf4b6018c92\" y=\"166.462827\"/>\r\n     <use style=\"fill:#ff7f0e;stroke:#ff7f0e;\" x=\"172.065674\" xlink:href=\"#mf4b6018c92\" y=\"165.746327\"/>\r\n     <use style=\"fill:#ff7f0e;stroke:#ff7f0e;\" x=\"172.502978\" xlink:href=\"#mf4b6018c92\" y=\"165.023134\"/>\r\n     <use style=\"fill:#ff7f0e;stroke:#ff7f0e;\" x=\"172.940282\" xlink:href=\"#mf4b6018c92\" y=\"164.293296\"/>\r\n     <use style=\"fill:#ff7f0e;stroke:#ff7f0e;\" x=\"173.377586\" xlink:href=\"#mf4b6018c92\" y=\"163.556864\"/>\r\n     <use style=\"fill:#ff7f0e;stroke:#ff7f0e;\" x=\"173.81489\" xlink:href=\"#mf4b6018c92\" y=\"162.813891\"/>\r\n     <use style=\"fill:#ff7f0e;stroke:#ff7f0e;\" x=\"174.252194\" xlink:href=\"#mf4b6018c92\" y=\"162.064437\"/>\r\n     <use style=\"fill:#ff7f0e;stroke:#ff7f0e;\" x=\"174.689498\" xlink:href=\"#mf4b6018c92\" y=\"161.30856\"/>\r\n     <use style=\"fill:#ff7f0e;stroke:#ff7f0e;\" x=\"175.126803\" xlink:href=\"#mf4b6018c92\" y=\"160.546325\"/>\r\n     <use style=\"fill:#ff7f0e;stroke:#ff7f0e;\" x=\"175.564107\" xlink:href=\"#mf4b6018c92\" y=\"159.777799\"/>\r\n     <use style=\"fill:#ff7f0e;stroke:#ff7f0e;\" x=\"176.001411\" xlink:href=\"#mf4b6018c92\" y=\"159.003054\"/>\r\n     <use style=\"fill:#ff7f0e;stroke:#ff7f0e;\" x=\"176.438715\" xlink:href=\"#mf4b6018c92\" y=\"158.222163\"/>\r\n     <use style=\"fill:#ff7f0e;stroke:#ff7f0e;\" x=\"176.876019\" xlink:href=\"#mf4b6018c92\" y=\"157.435203\"/>\r\n     <use style=\"fill:#ff7f0e;stroke:#ff7f0e;\" x=\"177.313323\" xlink:href=\"#mf4b6018c92\" y=\"156.642255\"/>\r\n     <use style=\"fill:#ff7f0e;stroke:#ff7f0e;\" x=\"177.750627\" xlink:href=\"#mf4b6018c92\" y=\"155.843403\"/>\r\n     <use style=\"fill:#ff7f0e;stroke:#ff7f0e;\" x=\"178.187931\" xlink:href=\"#mf4b6018c92\" y=\"155.038734\"/>\r\n     <use style=\"fill:#ff7f0e;stroke:#ff7f0e;\" x=\"178.625235\" xlink:href=\"#mf4b6018c92\" y=\"154.228339\"/>\r\n     <use style=\"fill:#ff7f0e;stroke:#ff7f0e;\" x=\"179.062539\" xlink:href=\"#mf4b6018c92\" y=\"153.412312\"/>\r\n     <use style=\"fill:#ff7f0e;stroke:#ff7f0e;\" x=\"179.499843\" xlink:href=\"#mf4b6018c92\" y=\"152.590749\"/>\r\n     <use style=\"fill:#ff7f0e;stroke:#ff7f0e;\" x=\"179.937147\" xlink:href=\"#mf4b6018c92\" y=\"151.763752\"/>\r\n     <use style=\"fill:#ff7f0e;stroke:#ff7f0e;\" x=\"180.374451\" xlink:href=\"#mf4b6018c92\" y=\"150.931424\"/>\r\n     <use style=\"fill:#ff7f0e;stroke:#ff7f0e;\" x=\"180.811755\" xlink:href=\"#mf4b6018c92\" y=\"150.093873\"/>\r\n     <use style=\"fill:#ff7f0e;stroke:#ff7f0e;\" x=\"181.24906\" xlink:href=\"#mf4b6018c92\" y=\"149.251208\"/>\r\n     <use style=\"fill:#ff7f0e;stroke:#ff7f0e;\" x=\"181.686364\" xlink:href=\"#mf4b6018c92\" y=\"148.403542\"/>\r\n     <use style=\"fill:#ff7f0e;stroke:#ff7f0e;\" x=\"182.123668\" xlink:href=\"#mf4b6018c92\" y=\"147.550992\"/>\r\n     <use style=\"fill:#ff7f0e;stroke:#ff7f0e;\" x=\"182.560972\" xlink:href=\"#mf4b6018c92\" y=\"146.693676\"/>\r\n     <use style=\"fill:#ff7f0e;stroke:#ff7f0e;\" x=\"182.998276\" xlink:href=\"#mf4b6018c92\" y=\"145.831716\"/>\r\n     <use style=\"fill:#ff7f0e;stroke:#ff7f0e;\" x=\"183.43558\" xlink:href=\"#mf4b6018c92\" y=\"144.965226\"/>\r\n     <use style=\"fill:#ff7f0e;stroke:#ff7f0e;\" x=\"183.872884\" xlink:href=\"#mf4b6018c92\" y=\"144.094334\"/>\r\n     <use style=\"fill:#ff7f0e;stroke:#ff7f0e;\" x=\"184.310188\" xlink:href=\"#mf4b6018c92\" y=\"143.219175\"/>\r\n     <use style=\"fill:#ff7f0e;stroke:#ff7f0e;\" x=\"184.747492\" xlink:href=\"#mf4b6018c92\" y=\"142.339885\"/>\r\n     <use style=\"fill:#ff7f0e;stroke:#ff7f0e;\" x=\"185.184796\" xlink:href=\"#mf4b6018c92\" y=\"141.456604\"/>\r\n     <use style=\"fill:#ff7f0e;stroke:#ff7f0e;\" x=\"185.6221\" xlink:href=\"#mf4b6018c92\" y=\"140.569472\"/>\r\n     <use style=\"fill:#ff7f0e;stroke:#ff7f0e;\" x=\"186.059404\" xlink:href=\"#mf4b6018c92\" y=\"139.678629\"/>\r\n     <use style=\"fill:#ff7f0e;stroke:#ff7f0e;\" x=\"186.496708\" xlink:href=\"#mf4b6018c92\" y=\"138.78422\"/>\r\n     <use style=\"fill:#ff7f0e;stroke:#ff7f0e;\" x=\"186.934013\" xlink:href=\"#mf4b6018c92\" y=\"137.886389\"/>\r\n     <use style=\"fill:#ff7f0e;stroke:#ff7f0e;\" x=\"187.371317\" xlink:href=\"#mf4b6018c92\" y=\"136.985282\"/>\r\n     <use style=\"fill:#ff7f0e;stroke:#ff7f0e;\" x=\"187.808621\" xlink:href=\"#mf4b6018c92\" y=\"136.081047\"/>\r\n     <use style=\"fill:#ff7f0e;stroke:#ff7f0e;\" x=\"188.245925\" xlink:href=\"#mf4b6018c92\" y=\"135.173834\"/>\r\n     <use style=\"fill:#ff7f0e;stroke:#ff7f0e;\" x=\"188.683229\" xlink:href=\"#mf4b6018c92\" y=\"134.263792\"/>\r\n     <use style=\"fill:#ff7f0e;stroke:#ff7f0e;\" x=\"189.120533\" xlink:href=\"#mf4b6018c92\" y=\"133.351076\"/>\r\n     <use style=\"fill:#ff7f0e;stroke:#ff7f0e;\" x=\"189.557837\" xlink:href=\"#mf4b6018c92\" y=\"132.435838\"/>\r\n     <use style=\"fill:#ff7f0e;stroke:#ff7f0e;\" x=\"189.995141\" xlink:href=\"#mf4b6018c92\" y=\"131.518234\"/>\r\n     <use style=\"fill:#ff7f0e;stroke:#ff7f0e;\" x=\"190.432445\" xlink:href=\"#mf4b6018c92\" y=\"130.598421\"/>\r\n     <use style=\"fill:#ff7f0e;stroke:#ff7f0e;\" x=\"190.869749\" xlink:href=\"#mf4b6018c92\" y=\"129.676558\"/>\r\n     <use style=\"fill:#ff7f0e;stroke:#ff7f0e;\" x=\"191.307053\" xlink:href=\"#mf4b6018c92\" y=\"128.752804\"/>\r\n     <use style=\"fill:#ff7f0e;stroke:#ff7f0e;\" x=\"191.744357\" xlink:href=\"#mf4b6018c92\" y=\"127.827322\"/>\r\n     <use style=\"fill:#ff7f0e;stroke:#ff7f0e;\" x=\"192.181661\" xlink:href=\"#mf4b6018c92\" y=\"126.900274\"/>\r\n     <use style=\"fill:#ff7f0e;stroke:#ff7f0e;\" x=\"192.618966\" xlink:href=\"#mf4b6018c92\" y=\"125.971825\"/>\r\n     <use style=\"fill:#ff7f0e;stroke:#ff7f0e;\" x=\"193.05627\" xlink:href=\"#mf4b6018c92\" y=\"125.042142\"/>\r\n     <use style=\"fill:#ff7f0e;stroke:#ff7f0e;\" x=\"193.493574\" xlink:href=\"#mf4b6018c92\" y=\"124.111392\"/>\r\n     <use style=\"fill:#ff7f0e;stroke:#ff7f0e;\" x=\"193.930878\" xlink:href=\"#mf4b6018c92\" y=\"123.179744\"/>\r\n     <use style=\"fill:#ff7f0e;stroke:#ff7f0e;\" x=\"194.368182\" xlink:href=\"#mf4b6018c92\" y=\"122.24737\"/>\r\n     <use style=\"fill:#ff7f0e;stroke:#ff7f0e;\" x=\"194.805486\" xlink:href=\"#mf4b6018c92\" y=\"121.314434\"/>\r\n     <use style=\"fill:#ff7f0e;stroke:#ff7f0e;\" x=\"195.24279\" xlink:href=\"#mf4b6018c92\" y=\"120.381097\"/>\r\n     <use style=\"fill:#ff7f0e;stroke:#ff7f0e;\" x=\"195.680094\" xlink:href=\"#mf4b6018c92\" y=\"119.447525\"/>\r\n     <use style=\"fill:#ff7f0e;stroke:#ff7f0e;\" x=\"196.117398\" xlink:href=\"#mf4b6018c92\" y=\"118.513877\"/>\r\n     <use style=\"fill:#ff7f0e;stroke:#ff7f0e;\" x=\"196.554702\" xlink:href=\"#mf4b6018c92\" y=\"117.580313\"/>\r\n     <use style=\"fill:#ff7f0e;stroke:#ff7f0e;\" x=\"196.992006\" xlink:href=\"#mf4b6018c92\" y=\"116.647006\"/>\r\n     <use style=\"fill:#ff7f0e;stroke:#ff7f0e;\" x=\"197.42931\" xlink:href=\"#mf4b6018c92\" y=\"115.714125\"/>\r\n     <use style=\"fill:#ff7f0e;stroke:#ff7f0e;\" x=\"197.866614\" xlink:href=\"#mf4b6018c92\" y=\"114.781839\"/>\r\n     <use style=\"fill:#ff7f0e;stroke:#ff7f0e;\" x=\"198.303918\" xlink:href=\"#mf4b6018c92\" y=\"113.850313\"/>\r\n     <use style=\"fill:#ff7f0e;stroke:#ff7f0e;\" x=\"198.741223\" xlink:href=\"#mf4b6018c92\" y=\"112.919714\"/>\r\n     <use style=\"fill:#ff7f0e;stroke:#ff7f0e;\" x=\"199.178527\" xlink:href=\"#mf4b6018c92\" y=\"111.990203\"/>\r\n     <use style=\"fill:#ff7f0e;stroke:#ff7f0e;\" x=\"199.615831\" xlink:href=\"#mf4b6018c92\" y=\"111.061942\"/>\r\n     <use style=\"fill:#ff7f0e;stroke:#ff7f0e;\" x=\"200.053135\" xlink:href=\"#mf4b6018c92\" y=\"110.135091\"/>\r\n     <use style=\"fill:#ff7f0e;stroke:#ff7f0e;\" x=\"200.490439\" xlink:href=\"#mf4b6018c92\" y=\"109.209807\"/>\r\n     <use style=\"fill:#ff7f0e;stroke:#ff7f0e;\" x=\"200.927743\" xlink:href=\"#mf4b6018c92\" y=\"108.286247\"/>\r\n     <use style=\"fill:#ff7f0e;stroke:#ff7f0e;\" x=\"201.365047\" xlink:href=\"#mf4b6018c92\" y=\"107.364565\"/>\r\n     <use style=\"fill:#ff7f0e;stroke:#ff7f0e;\" x=\"201.802351\" xlink:href=\"#mf4b6018c92\" y=\"106.444913\"/>\r\n     <use style=\"fill:#ff7f0e;stroke:#ff7f0e;\" x=\"202.239655\" xlink:href=\"#mf4b6018c92\" y=\"105.527442\"/>\r\n     <use style=\"fill:#ff7f0e;stroke:#ff7f0e;\" x=\"202.676959\" xlink:href=\"#mf4b6018c92\" y=\"104.612302\"/>\r\n     <use style=\"fill:#ff7f0e;stroke:#ff7f0e;\" x=\"203.114263\" xlink:href=\"#mf4b6018c92\" y=\"103.69964\"/>\r\n     <use style=\"fill:#ff7f0e;stroke:#ff7f0e;\" x=\"203.551567\" xlink:href=\"#mf4b6018c92\" y=\"102.789601\"/>\r\n     <use style=\"fill:#ff7f0e;stroke:#ff7f0e;\" x=\"203.988871\" xlink:href=\"#mf4b6018c92\" y=\"101.88233\"/>\r\n     <use style=\"fill:#ff7f0e;stroke:#ff7f0e;\" x=\"204.426176\" xlink:href=\"#mf4b6018c92\" y=\"100.977968\"/>\r\n     <use style=\"fill:#ff7f0e;stroke:#ff7f0e;\" x=\"204.86348\" xlink:href=\"#mf4b6018c92\" y=\"100.076656\"/>\r\n     <use style=\"fill:#ff7f0e;stroke:#ff7f0e;\" x=\"205.300784\" xlink:href=\"#mf4b6018c92\" y=\"99.178533\"/>\r\n     <use style=\"fill:#ff7f0e;stroke:#ff7f0e;\" x=\"205.738088\" xlink:href=\"#mf4b6018c92\" y=\"98.283736\"/>\r\n     <use style=\"fill:#ff7f0e;stroke:#ff7f0e;\" x=\"206.175392\" xlink:href=\"#mf4b6018c92\" y=\"97.3924\"/>\r\n     <use style=\"fill:#ff7f0e;stroke:#ff7f0e;\" x=\"206.612696\" xlink:href=\"#mf4b6018c92\" y=\"96.504658\"/>\r\n     <use style=\"fill:#ff7f0e;stroke:#ff7f0e;\" x=\"207.05\" xlink:href=\"#mf4b6018c92\" y=\"95.620642\"/>\r\n     <use style=\"fill:#ff7f0e;stroke:#ff7f0e;\" x=\"207.487304\" xlink:href=\"#mf4b6018c92\" y=\"94.740487\"/>\r\n     <use style=\"fill:#ff7f0e;stroke:#ff7f0e;\" x=\"207.924608\" xlink:href=\"#mf4b6018c92\" y=\"93.864305\"/>\r\n     <use style=\"fill:#ff7f0e;stroke:#ff7f0e;\" x=\"208.361912\" xlink:href=\"#mf4b6018c92\" y=\"92.992219\"/>\r\n     <use style=\"fill:#ff7f0e;stroke:#ff7f0e;\" x=\"208.799216\" xlink:href=\"#mf4b6018c92\" y=\"92.124346\"/>\r\n     <use style=\"fill:#ff7f0e;stroke:#ff7f0e;\" x=\"209.23652\" xlink:href=\"#mf4b6018c92\" y=\"91.260801\"/>\r\n     <use style=\"fill:#ff7f0e;stroke:#ff7f0e;\" x=\"209.673824\" xlink:href=\"#mf4b6018c92\" y=\"90.401698\"/>\r\n     <use style=\"fill:#ff7f0e;stroke:#ff7f0e;\" x=\"210.111129\" xlink:href=\"#mf4b6018c92\" y=\"89.547146\"/>\r\n     <use style=\"fill:#ff7f0e;stroke:#ff7f0e;\" x=\"210.548433\" xlink:href=\"#mf4b6018c92\" y=\"88.697252\"/>\r\n     <use style=\"fill:#ff7f0e;stroke:#ff7f0e;\" x=\"210.985737\" xlink:href=\"#mf4b6018c92\" y=\"87.85212\"/>\r\n     <use style=\"fill:#ff7f0e;stroke:#ff7f0e;\" x=\"211.423041\" xlink:href=\"#mf4b6018c92\" y=\"87.01185\"/>\r\n     <use style=\"fill:#ff7f0e;stroke:#ff7f0e;\" x=\"211.860345\" xlink:href=\"#mf4b6018c92\" y=\"86.17654\"/>\r\n     <use style=\"fill:#ff7f0e;stroke:#ff7f0e;\" x=\"212.297649\" xlink:href=\"#mf4b6018c92\" y=\"85.346285\"/>\r\n     <use style=\"fill:#ff7f0e;stroke:#ff7f0e;\" x=\"212.734953\" xlink:href=\"#mf4b6018c92\" y=\"84.521177\"/>\r\n     <use style=\"fill:#ff7f0e;stroke:#ff7f0e;\" x=\"213.172257\" xlink:href=\"#mf4b6018c92\" y=\"83.701304\"/>\r\n     <use style=\"fill:#ff7f0e;stroke:#ff7f0e;\" x=\"213.609561\" xlink:href=\"#mf4b6018c92\" y=\"82.886752\"/>\r\n     <use style=\"fill:#ff7f0e;stroke:#ff7f0e;\" x=\"214.046865\" xlink:href=\"#mf4b6018c92\" y=\"82.077603\"/>\r\n     <use style=\"fill:#ff7f0e;stroke:#ff7f0e;\" x=\"214.484169\" xlink:href=\"#mf4b6018c92\" y=\"81.273937\"/>\r\n     <use style=\"fill:#ff7f0e;stroke:#ff7f0e;\" x=\"214.921473\" xlink:href=\"#mf4b6018c92\" y=\"80.475831\"/>\r\n     <use style=\"fill:#ff7f0e;stroke:#ff7f0e;\" x=\"215.358777\" xlink:href=\"#mf4b6018c92\" y=\"79.683358\"/>\r\n     <use style=\"fill:#ff7f0e;stroke:#ff7f0e;\" x=\"215.796082\" xlink:href=\"#mf4b6018c92\" y=\"78.89659\"/>\r\n     <use style=\"fill:#ff7f0e;stroke:#ff7f0e;\" x=\"216.233386\" xlink:href=\"#mf4b6018c92\" y=\"78.115592\"/>\r\n     <use style=\"fill:#ff7f0e;stroke:#ff7f0e;\" x=\"216.67069\" xlink:href=\"#mf4b6018c92\" y=\"77.340431\"/>\r\n     <use style=\"fill:#ff7f0e;stroke:#ff7f0e;\" x=\"217.107994\" xlink:href=\"#mf4b6018c92\" y=\"76.571166\"/>\r\n     <use style=\"fill:#ff7f0e;stroke:#ff7f0e;\" x=\"217.545298\" xlink:href=\"#mf4b6018c92\" y=\"75.807858\"/>\r\n     <use style=\"fill:#ff7f0e;stroke:#ff7f0e;\" x=\"217.982602\" xlink:href=\"#mf4b6018c92\" y=\"75.050562\"/>\r\n     <use style=\"fill:#ff7f0e;stroke:#ff7f0e;\" x=\"218.419906\" xlink:href=\"#mf4b6018c92\" y=\"74.299329\"/>\r\n     <use style=\"fill:#ff7f0e;stroke:#ff7f0e;\" x=\"218.85721\" xlink:href=\"#mf4b6018c92\" y=\"73.554209\"/>\r\n     <use style=\"fill:#ff7f0e;stroke:#ff7f0e;\" x=\"219.294514\" xlink:href=\"#mf4b6018c92\" y=\"72.81525\"/>\r\n     <use style=\"fill:#ff7f0e;stroke:#ff7f0e;\" x=\"219.731818\" xlink:href=\"#mf4b6018c92\" y=\"72.082493\"/>\r\n     <use style=\"fill:#ff7f0e;stroke:#ff7f0e;\" x=\"220.169122\" xlink:href=\"#mf4b6018c92\" y=\"71.35598\"/>\r\n     <use style=\"fill:#ff7f0e;stroke:#ff7f0e;\" x=\"220.606426\" xlink:href=\"#mf4b6018c92\" y=\"70.635749\"/>\r\n     <use style=\"fill:#ff7f0e;stroke:#ff7f0e;\" x=\"221.04373\" xlink:href=\"#mf4b6018c92\" y=\"69.921834\"/>\r\n     <use style=\"fill:#ff7f0e;stroke:#ff7f0e;\" x=\"221.481034\" xlink:href=\"#mf4b6018c92\" y=\"69.214271\"/>\r\n     <use style=\"fill:#ff7f0e;stroke:#ff7f0e;\" x=\"221.918339\" xlink:href=\"#mf4b6018c92\" y=\"68.513095\"/>\r\n     <use style=\"fill:#ff7f0e;stroke:#ff7f0e;\" x=\"222.355643\" xlink:href=\"#mf4b6018c92\" y=\"67.818327\"/>\r\n     <use style=\"fill:#ff7f0e;stroke:#ff7f0e;\" x=\"222.792947\" xlink:href=\"#mf4b6018c92\" y=\"67.129991\"/>\r\n     <use style=\"fill:#ff7f0e;stroke:#ff7f0e;\" x=\"223.230251\" xlink:href=\"#mf4b6018c92\" y=\"66.448104\"/>\r\n     <use style=\"fill:#ff7f0e;stroke:#ff7f0e;\" x=\"223.667555\" xlink:href=\"#mf4b6018c92\" y=\"65.772686\"/>\r\n     <use style=\"fill:#ff7f0e;stroke:#ff7f0e;\" x=\"224.104859\" xlink:href=\"#mf4b6018c92\" y=\"65.10375\"/>\r\n     <use style=\"fill:#ff7f0e;stroke:#ff7f0e;\" x=\"224.542163\" xlink:href=\"#mf4b6018c92\" y=\"64.44131\"/>\r\n     <use style=\"fill:#ff7f0e;stroke:#ff7f0e;\" x=\"224.979467\" xlink:href=\"#mf4b6018c92\" y=\"63.785377\"/>\r\n     <use style=\"fill:#ff7f0e;stroke:#ff7f0e;\" x=\"225.416771\" xlink:href=\"#mf4b6018c92\" y=\"63.13596\"/>\r\n     <use style=\"fill:#ff7f0e;stroke:#ff7f0e;\" x=\"225.854075\" xlink:href=\"#mf4b6018c92\" y=\"62.493066\"/>\r\n     <use style=\"fill:#ff7f0e;stroke:#ff7f0e;\" x=\"226.291379\" xlink:href=\"#mf4b6018c92\" y=\"61.856701\"/>\r\n     <use style=\"fill:#ff7f0e;stroke:#ff7f0e;\" x=\"226.728683\" xlink:href=\"#mf4b6018c92\" y=\"61.226866\"/>\r\n     <use style=\"fill:#ff7f0e;stroke:#ff7f0e;\" x=\"227.165987\" xlink:href=\"#mf4b6018c92\" y=\"60.603562\"/>\r\n     <use style=\"fill:#ff7f0e;stroke:#ff7f0e;\" x=\"227.603292\" xlink:href=\"#mf4b6018c92\" y=\"59.986789\"/>\r\n     <use style=\"fill:#ff7f0e;stroke:#ff7f0e;\" x=\"228.040596\" xlink:href=\"#mf4b6018c92\" y=\"59.376543\"/>\r\n     <use style=\"fill:#ff7f0e;stroke:#ff7f0e;\" x=\"228.4779\" xlink:href=\"#mf4b6018c92\" y=\"58.772817\"/>\r\n     <use style=\"fill:#ff7f0e;stroke:#ff7f0e;\" x=\"228.915204\" xlink:href=\"#mf4b6018c92\" y=\"58.175606\"/>\r\n     <use style=\"fill:#ff7f0e;stroke:#ff7f0e;\" x=\"229.352508\" xlink:href=\"#mf4b6018c92\" y=\"57.584898\"/>\r\n     <use style=\"fill:#ff7f0e;stroke:#ff7f0e;\" x=\"229.789812\" xlink:href=\"#mf4b6018c92\" y=\"57.000683\"/>\r\n     <use style=\"fill:#ff7f0e;stroke:#ff7f0e;\" x=\"230.227116\" xlink:href=\"#mf4b6018c92\" y=\"56.422946\"/>\r\n     <use style=\"fill:#ff7f0e;stroke:#ff7f0e;\" x=\"230.66442\" xlink:href=\"#mf4b6018c92\" y=\"55.851672\"/>\r\n     <use style=\"fill:#ff7f0e;stroke:#ff7f0e;\" x=\"231.101724\" xlink:href=\"#mf4b6018c92\" y=\"55.286843\"/>\r\n     <use style=\"fill:#ff7f0e;stroke:#ff7f0e;\" x=\"231.539028\" xlink:href=\"#mf4b6018c92\" y=\"54.728438\"/>\r\n     <use style=\"fill:#ff7f0e;stroke:#ff7f0e;\" x=\"231.976332\" xlink:href=\"#mf4b6018c92\" y=\"54.176436\"/>\r\n     <use style=\"fill:#ff7f0e;stroke:#ff7f0e;\" x=\"232.413636\" xlink:href=\"#mf4b6018c92\" y=\"53.630812\"/>\r\n     <use style=\"fill:#ff7f0e;stroke:#ff7f0e;\" x=\"232.85094\" xlink:href=\"#mf4b6018c92\" y=\"53.091539\"/>\r\n     <use style=\"fill:#ff7f0e;stroke:#ff7f0e;\" x=\"233.288245\" xlink:href=\"#mf4b6018c92\" y=\"52.558594\"/>\r\n     <use style=\"fill:#ff7f0e;stroke:#ff7f0e;\" x=\"233.725549\" xlink:href=\"#mf4b6018c92\" y=\"52.03195\"/>\r\n     <use style=\"fill:#ff7f0e;stroke:#ff7f0e;\" x=\"234.162853\" xlink:href=\"#mf4b6018c92\" y=\"51.511583\"/>\r\n     <use style=\"fill:#ff7f0e;stroke:#ff7f0e;\" x=\"234.600157\" xlink:href=\"#mf4b6018c92\" y=\"50.997464\"/>\r\n     <use style=\"fill:#ff7f0e;stroke:#ff7f0e;\" x=\"235.037461\" xlink:href=\"#mf4b6018c92\" y=\"50.48956\"/>\r\n     <use style=\"fill:#ff7f0e;stroke:#ff7f0e;\" x=\"235.474765\" xlink:href=\"#mf4b6018c92\" y=\"49.987835\"/>\r\n     <use style=\"fill:#ff7f0e;stroke:#ff7f0e;\" x=\"235.912069\" xlink:href=\"#mf4b6018c92\" y=\"49.492254\"/>\r\n     <use style=\"fill:#ff7f0e;stroke:#ff7f0e;\" x=\"236.349373\" xlink:href=\"#mf4b6018c92\" y=\"49.002782\"/>\r\n     <use style=\"fill:#ff7f0e;stroke:#ff7f0e;\" x=\"236.786677\" xlink:href=\"#mf4b6018c92\" y=\"48.519383\"/>\r\n     <use style=\"fill:#ff7f0e;stroke:#ff7f0e;\" x=\"237.223981\" xlink:href=\"#mf4b6018c92\" y=\"48.042018\"/>\r\n     <use style=\"fill:#ff7f0e;stroke:#ff7f0e;\" x=\"237.661285\" xlink:href=\"#mf4b6018c92\" y=\"47.57065\"/>\r\n     <use style=\"fill:#ff7f0e;stroke:#ff7f0e;\" x=\"238.098589\" xlink:href=\"#mf4b6018c92\" y=\"47.10524\"/>\r\n     <use style=\"fill:#ff7f0e;stroke:#ff7f0e;\" x=\"238.535893\" xlink:href=\"#mf4b6018c92\" y=\"46.645749\"/>\r\n     <use style=\"fill:#ff7f0e;stroke:#ff7f0e;\" x=\"238.973197\" xlink:href=\"#mf4b6018c92\" y=\"46.192136\"/>\r\n     <use style=\"fill:#ff7f0e;stroke:#ff7f0e;\" x=\"239.410502\" xlink:href=\"#mf4b6018c92\" y=\"45.74436\"/>\r\n     <use style=\"fill:#ff7f0e;stroke:#ff7f0e;\" x=\"239.847806\" xlink:href=\"#mf4b6018c92\" y=\"45.302381\"/>\r\n     <use style=\"fill:#ff7f0e;stroke:#ff7f0e;\" x=\"240.28511\" xlink:href=\"#mf4b6018c92\" y=\"44.866154\"/>\r\n     <use style=\"fill:#ff7f0e;stroke:#ff7f0e;\" x=\"240.722414\" xlink:href=\"#mf4b6018c92\" y=\"44.435638\"/>\r\n     <use style=\"fill:#ff7f0e;stroke:#ff7f0e;\" x=\"241.159718\" xlink:href=\"#mf4b6018c92\" y=\"44.010788\"/>\r\n     <use style=\"fill:#ff7f0e;stroke:#ff7f0e;\" x=\"241.597022\" xlink:href=\"#mf4b6018c92\" y=\"43.591561\"/>\r\n     <use style=\"fill:#ff7f0e;stroke:#ff7f0e;\" x=\"242.034326\" xlink:href=\"#mf4b6018c92\" y=\"43.177909\"/>\r\n     <use style=\"fill:#ff7f0e;stroke:#ff7f0e;\" x=\"242.47163\" xlink:href=\"#mf4b6018c92\" y=\"42.769789\"/>\r\n     <use style=\"fill:#ff7f0e;stroke:#ff7f0e;\" x=\"242.908934\" xlink:href=\"#mf4b6018c92\" y=\"42.367152\"/>\r\n     <use style=\"fill:#ff7f0e;stroke:#ff7f0e;\" x=\"243.346238\" xlink:href=\"#mf4b6018c92\" y=\"41.969952\"/>\r\n     <use style=\"fill:#ff7f0e;stroke:#ff7f0e;\" x=\"243.783542\" xlink:href=\"#mf4b6018c92\" y=\"41.57814\"/>\r\n     <use style=\"fill:#ff7f0e;stroke:#ff7f0e;\" x=\"244.220846\" xlink:href=\"#mf4b6018c92\" y=\"41.191668\"/>\r\n     <use style=\"fill:#ff7f0e;stroke:#ff7f0e;\" x=\"244.65815\" xlink:href=\"#mf4b6018c92\" y=\"40.810485\"/>\r\n     <use style=\"fill:#ff7f0e;stroke:#ff7f0e;\" x=\"245.095455\" xlink:href=\"#mf4b6018c92\" y=\"40.434541\"/>\r\n     <use style=\"fill:#ff7f0e;stroke:#ff7f0e;\" x=\"245.532759\" xlink:href=\"#mf4b6018c92\" y=\"40.063785\"/>\r\n     <use style=\"fill:#ff7f0e;stroke:#ff7f0e;\" x=\"245.970063\" xlink:href=\"#mf4b6018c92\" y=\"39.69817\"/>\r\n     <use style=\"fill:#ff7f0e;stroke:#ff7f0e;\" x=\"246.407367\" xlink:href=\"#mf4b6018c92\" y=\"39.337647\"/>\r\n     <use style=\"fill:#ff7f0e;stroke:#ff7f0e;\" x=\"246.844671\" xlink:href=\"#mf4b6018c92\" y=\"38.982168\"/>\r\n     <use style=\"fill:#ff7f0e;stroke:#ff7f0e;\" x=\"247.281975\" xlink:href=\"#mf4b6018c92\" y=\"38.631681\"/>\r\n     <use style=\"fill:#ff7f0e;stroke:#ff7f0e;\" x=\"247.719279\" xlink:href=\"#mf4b6018c92\" y=\"38.286135\"/>\r\n     <use style=\"fill:#ff7f0e;stroke:#ff7f0e;\" x=\"248.156583\" xlink:href=\"#mf4b6018c92\" y=\"37.94548\"/>\r\n     <use style=\"fill:#ff7f0e;stroke:#ff7f0e;\" x=\"248.593887\" xlink:href=\"#mf4b6018c92\" y=\"37.609665\"/>\r\n     <use style=\"fill:#ff7f0e;stroke:#ff7f0e;\" x=\"249.031191\" xlink:href=\"#mf4b6018c92\" y=\"37.278639\"/>\r\n     <use style=\"fill:#ff7f0e;stroke:#ff7f0e;\" x=\"249.468495\" xlink:href=\"#mf4b6018c92\" y=\"36.952352\"/>\r\n     <use style=\"fill:#ff7f0e;stroke:#ff7f0e;\" x=\"249.905799\" xlink:href=\"#mf4b6018c92\" y=\"36.630752\"/>\r\n     <use style=\"fill:#ff7f0e;stroke:#ff7f0e;\" x=\"250.343103\" xlink:href=\"#mf4b6018c92\" y=\"36.313789\"/>\r\n     <use style=\"fill:#ff7f0e;stroke:#ff7f0e;\" x=\"250.780408\" xlink:href=\"#mf4b6018c92\" y=\"36.001413\"/>\r\n     <use style=\"fill:#ff7f0e;stroke:#ff7f0e;\" x=\"251.217712\" xlink:href=\"#mf4b6018c92\" y=\"35.693573\"/>\r\n     <use style=\"fill:#ff7f0e;stroke:#ff7f0e;\" x=\"251.655016\" xlink:href=\"#mf4b6018c92\" y=\"35.390219\"/>\r\n     <use style=\"fill:#ff7f0e;stroke:#ff7f0e;\" x=\"252.09232\" xlink:href=\"#mf4b6018c92\" y=\"35.0913\"/>\r\n     <use style=\"fill:#ff7f0e;stroke:#ff7f0e;\" x=\"252.529624\" xlink:href=\"#mf4b6018c92\" y=\"34.796767\"/>\r\n     <use style=\"fill:#ff7f0e;stroke:#ff7f0e;\" x=\"252.966928\" xlink:href=\"#mf4b6018c92\" y=\"34.506569\"/>\r\n     <use style=\"fill:#ff7f0e;stroke:#ff7f0e;\" x=\"253.404232\" xlink:href=\"#mf4b6018c92\" y=\"34.220657\"/>\r\n     <use style=\"fill:#ff7f0e;stroke:#ff7f0e;\" x=\"253.841536\" xlink:href=\"#mf4b6018c92\" y=\"33.938979\"/>\r\n     <use style=\"fill:#ff7f0e;stroke:#ff7f0e;\" x=\"254.27884\" xlink:href=\"#mf4b6018c92\" y=\"33.661486\"/>\r\n     <use style=\"fill:#ff7f0e;stroke:#ff7f0e;\" x=\"254.716144\" xlink:href=\"#mf4b6018c92\" y=\"33.388129\"/>\r\n     <use style=\"fill:#ff7f0e;stroke:#ff7f0e;\" x=\"255.153448\" xlink:href=\"#mf4b6018c92\" y=\"33.118857\"/>\r\n     <use style=\"fill:#ff7f0e;stroke:#ff7f0e;\" x=\"255.590752\" xlink:href=\"#mf4b6018c92\" y=\"32.853621\"/>\r\n     <use style=\"fill:#ff7f0e;stroke:#ff7f0e;\" x=\"256.028056\" xlink:href=\"#mf4b6018c92\" y=\"32.592371\"/>\r\n     <use style=\"fill:#ff7f0e;stroke:#ff7f0e;\" x=\"256.465361\" xlink:href=\"#mf4b6018c92\" y=\"32.335057\"/>\r\n     <use style=\"fill:#ff7f0e;stroke:#ff7f0e;\" x=\"256.902665\" xlink:href=\"#mf4b6018c92\" y=\"32.08163\"/>\r\n     <use style=\"fill:#ff7f0e;stroke:#ff7f0e;\" x=\"257.339969\" xlink:href=\"#mf4b6018c92\" y=\"31.83204\"/>\r\n     <use style=\"fill:#ff7f0e;stroke:#ff7f0e;\" x=\"257.777273\" xlink:href=\"#mf4b6018c92\" y=\"31.586239\"/>\r\n     <use style=\"fill:#ff7f0e;stroke:#ff7f0e;\" x=\"258.214577\" xlink:href=\"#mf4b6018c92\" y=\"31.344178\"/>\r\n     <use style=\"fill:#ff7f0e;stroke:#ff7f0e;\" x=\"258.651881\" xlink:href=\"#mf4b6018c92\" y=\"31.105812\"/>\r\n     <use style=\"fill:#ff7f0e;stroke:#ff7f0e;\" x=\"259.089185\" xlink:href=\"#mf4b6018c92\" y=\"30.871093\"/>\r\n     <use style=\"fill:#ff7f0e;stroke:#ff7f0e;\" x=\"259.526489\" xlink:href=\"#mf4b6018c92\" y=\"30.639974\"/>\r\n     <use style=\"fill:#ff7f0e;stroke:#ff7f0e;\" x=\"259.963793\" xlink:href=\"#mf4b6018c92\" y=\"30.412408\"/>\r\n     <use style=\"fill:#ff7f0e;stroke:#ff7f0e;\" x=\"260.401097\" xlink:href=\"#mf4b6018c92\" y=\"30.188347\"/>\r\n     <use style=\"fill:#ff7f0e;stroke:#ff7f0e;\" x=\"260.838401\" xlink:href=\"#mf4b6018c92\" y=\"29.967747\"/>\r\n     <use style=\"fill:#ff7f0e;stroke:#ff7f0e;\" x=\"261.275705\" xlink:href=\"#mf4b6018c92\" y=\"29.750562\"/>\r\n     <use style=\"fill:#ff7f0e;stroke:#ff7f0e;\" x=\"261.713009\" xlink:href=\"#mf4b6018c92\" y=\"29.536746\"/>\r\n     <use style=\"fill:#ff7f0e;stroke:#ff7f0e;\" x=\"262.150313\" xlink:href=\"#mf4b6018c92\" y=\"29.326256\"/>\r\n     <use style=\"fill:#ff7f0e;stroke:#ff7f0e;\" x=\"262.587618\" xlink:href=\"#mf4b6018c92\" y=\"29.119046\"/>\r\n     <use style=\"fill:#ff7f0e;stroke:#ff7f0e;\" x=\"263.024922\" xlink:href=\"#mf4b6018c92\" y=\"28.915072\"/>\r\n     <use style=\"fill:#ff7f0e;stroke:#ff7f0e;\" x=\"263.462226\" xlink:href=\"#mf4b6018c92\" y=\"28.714292\"/>\r\n     <use style=\"fill:#ff7f0e;stroke:#ff7f0e;\" x=\"263.89953\" xlink:href=\"#mf4b6018c92\" y=\"28.516661\"/>\r\n     <use style=\"fill:#ff7f0e;stroke:#ff7f0e;\" x=\"264.336834\" xlink:href=\"#mf4b6018c92\" y=\"28.322136\"/>\r\n     <use style=\"fill:#ff7f0e;stroke:#ff7f0e;\" x=\"264.774138\" xlink:href=\"#mf4b6018c92\" y=\"28.130675\"/>\r\n     <use style=\"fill:#ff7f0e;stroke:#ff7f0e;\" x=\"265.211442\" xlink:href=\"#mf4b6018c92\" y=\"27.942235\"/>\r\n     <use style=\"fill:#ff7f0e;stroke:#ff7f0e;\" x=\"265.648746\" xlink:href=\"#mf4b6018c92\" y=\"27.756775\"/>\r\n     <use style=\"fill:#ff7f0e;stroke:#ff7f0e;\" x=\"266.08605\" xlink:href=\"#mf4b6018c92\" y=\"27.574252\"/>\r\n     <use style=\"fill:#ff7f0e;stroke:#ff7f0e;\" x=\"266.523354\" xlink:href=\"#mf4b6018c92\" y=\"27.394626\"/>\r\n     <use style=\"fill:#ff7f0e;stroke:#ff7f0e;\" x=\"266.960658\" xlink:href=\"#mf4b6018c92\" y=\"27.217854\"/>\r\n     <use style=\"fill:#ff7f0e;stroke:#ff7f0e;\" x=\"267.397962\" xlink:href=\"#mf4b6018c92\" y=\"27.043897\"/>\r\n     <use style=\"fill:#ff7f0e;stroke:#ff7f0e;\" x=\"267.835266\" xlink:href=\"#mf4b6018c92\" y=\"26.872715\"/>\r\n     <use style=\"fill:#ff7f0e;stroke:#ff7f0e;\" x=\"268.272571\" xlink:href=\"#mf4b6018c92\" y=\"26.704266\"/>\r\n     <use style=\"fill:#ff7f0e;stroke:#ff7f0e;\" x=\"268.709875\" xlink:href=\"#mf4b6018c92\" y=\"26.538512\"/>\r\n     <use style=\"fill:#ff7f0e;stroke:#ff7f0e;\" x=\"269.147179\" xlink:href=\"#mf4b6018c92\" y=\"26.375414\"/>\r\n     <use style=\"fill:#ff7f0e;stroke:#ff7f0e;\" x=\"269.584483\" xlink:href=\"#mf4b6018c92\" y=\"26.214932\"/>\r\n     <use style=\"fill:#ff7f0e;stroke:#ff7f0e;\" x=\"270.021787\" xlink:href=\"#mf4b6018c92\" y=\"26.057027\"/>\r\n     <use style=\"fill:#ff7f0e;stroke:#ff7f0e;\" x=\"270.459091\" xlink:href=\"#mf4b6018c92\" y=\"25.901663\"/>\r\n     <use style=\"fill:#ff7f0e;stroke:#ff7f0e;\" x=\"270.896395\" xlink:href=\"#mf4b6018c92\" y=\"25.748802\"/>\r\n     <use style=\"fill:#ff7f0e;stroke:#ff7f0e;\" x=\"271.333699\" xlink:href=\"#mf4b6018c92\" y=\"25.598411\"/>\r\n     <use style=\"fill:#ff7f0e;stroke:#ff7f0e;\" x=\"271.771003\" xlink:href=\"#mf4b6018c92\" y=\"25.450451\"/>\r\n     <use style=\"fill:#ff7f0e;stroke:#ff7f0e;\" x=\"272.208307\" xlink:href=\"#mf4b6018c92\" y=\"25.304886\"/>\r\n     <use style=\"fill:#ff7f0e;stroke:#ff7f0e;\" x=\"272.645611\" xlink:href=\"#mf4b6018c92\" y=\"25.161679\"/>\r\n     <use style=\"fill:#ff7f0e;stroke:#ff7f0e;\" x=\"273.082915\" xlink:href=\"#mf4b6018c92\" y=\"25.020797\"/>\r\n     <use style=\"fill:#ff7f0e;stroke:#ff7f0e;\" x=\"273.520219\" xlink:href=\"#mf4b6018c92\" y=\"24.882205\"/>\r\n     <use style=\"fill:#ff7f0e;stroke:#ff7f0e;\" x=\"273.957524\" xlink:href=\"#mf4b6018c92\" y=\"24.745869\"/>\r\n     <use style=\"fill:#ff7f0e;stroke:#ff7f0e;\" x=\"274.394828\" xlink:href=\"#mf4b6018c92\" y=\"24.611757\"/>\r\n     <use style=\"fill:#ff7f0e;stroke:#ff7f0e;\" x=\"274.832132\" xlink:href=\"#mf4b6018c92\" y=\"24.479834\"/>\r\n     <use style=\"fill:#ff7f0e;stroke:#ff7f0e;\" x=\"275.269436\" xlink:href=\"#mf4b6018c92\" y=\"24.350068\"/>\r\n     <use style=\"fill:#ff7f0e;stroke:#ff7f0e;\" x=\"275.70674\" xlink:href=\"#mf4b6018c92\" y=\"24.222427\"/>\r\n     <use style=\"fill:#ff7f0e;stroke:#ff7f0e;\" x=\"276.144044\" xlink:href=\"#mf4b6018c92\" y=\"24.096879\"/>\r\n     <use style=\"fill:#ff7f0e;stroke:#ff7f0e;\" x=\"276.581348\" xlink:href=\"#mf4b6018c92\" y=\"23.973391\"/>\r\n     <use style=\"fill:#ff7f0e;stroke:#ff7f0e;\" x=\"277.018652\" xlink:href=\"#mf4b6018c92\" y=\"23.851933\"/>\r\n     <use style=\"fill:#ff7f0e;stroke:#ff7f0e;\" x=\"277.455956\" xlink:href=\"#mf4b6018c92\" y=\"23.732474\"/>\r\n     <use style=\"fill:#ff7f0e;stroke:#ff7f0e;\" x=\"277.89326\" xlink:href=\"#mf4b6018c92\" y=\"23.614983\"/>\r\n     <use style=\"fill:#ff7f0e;stroke:#ff7f0e;\" x=\"278.330564\" xlink:href=\"#mf4b6018c92\" y=\"23.499429\"/>\r\n     <use style=\"fill:#ff7f0e;stroke:#ff7f0e;\" x=\"278.767868\" xlink:href=\"#mf4b6018c92\" y=\"23.385783\"/>\r\n     <use style=\"fill:#ff7f0e;stroke:#ff7f0e;\" x=\"279.205172\" xlink:href=\"#mf4b6018c92\" y=\"23.274015\"/>\r\n     <use style=\"fill:#ff7f0e;stroke:#ff7f0e;\" x=\"279.642476\" xlink:href=\"#mf4b6018c92\" y=\"23.164095\"/>\r\n     <use style=\"fill:#ff7f0e;stroke:#ff7f0e;\" x=\"280.079781\" xlink:href=\"#mf4b6018c92\" y=\"23.055996\"/>\r\n     <use style=\"fill:#ff7f0e;stroke:#ff7f0e;\" x=\"280.517085\" xlink:href=\"#mf4b6018c92\" y=\"22.949688\"/>\r\n     <use style=\"fill:#ff7f0e;stroke:#ff7f0e;\" x=\"280.954389\" xlink:href=\"#mf4b6018c92\" y=\"22.845142\"/>\r\n     <use style=\"fill:#ff7f0e;stroke:#ff7f0e;\" x=\"281.391693\" xlink:href=\"#mf4b6018c92\" y=\"22.742332\"/>\r\n     <use style=\"fill:#ff7f0e;stroke:#ff7f0e;\" x=\"281.828997\" xlink:href=\"#mf4b6018c92\" y=\"22.64123\"/>\r\n     <use style=\"fill:#ff7f0e;stroke:#ff7f0e;\" x=\"282.266301\" xlink:href=\"#mf4b6018c92\" y=\"22.541808\"/>\r\n     <use style=\"fill:#ff7f0e;stroke:#ff7f0e;\" x=\"282.703605\" xlink:href=\"#mf4b6018c92\" y=\"22.444039\"/>\r\n     <use style=\"fill:#ff7f0e;stroke:#ff7f0e;\" x=\"283.140909\" xlink:href=\"#mf4b6018c92\" y=\"22.347898\"/>\r\n     <use style=\"fill:#ff7f0e;stroke:#ff7f0e;\" x=\"283.578213\" xlink:href=\"#mf4b6018c92\" y=\"22.253361\"/>\r\n     <use style=\"fill:#ff7f0e;stroke:#ff7f0e;\" x=\"284.015517\" xlink:href=\"#mf4b6018c92\" y=\"22.160402\"/>\r\n     <use style=\"fill:#ff7f0e;stroke:#ff7f0e;\" x=\"284.452821\" xlink:href=\"#mf4b6018c92\" y=\"22.068996\"/>\r\n     <use style=\"fill:#ff7f0e;stroke:#ff7f0e;\" x=\"284.890125\" xlink:href=\"#mf4b6018c92\" y=\"21.979118\"/>\r\n     <use style=\"fill:#ff7f0e;stroke:#ff7f0e;\" x=\"285.327429\" xlink:href=\"#mf4b6018c92\" y=\"21.890742\"/>\r\n     <use style=\"fill:#ff7f0e;stroke:#ff7f0e;\" x=\"285.764734\" xlink:href=\"#mf4b6018c92\" y=\"21.803845\"/>\r\n     <use style=\"fill:#ff7f0e;stroke:#ff7f0e;\" x=\"286.202038\" xlink:href=\"#mf4b6018c92\" y=\"21.718404\"/>\r\n     <use style=\"fill:#ff7f0e;stroke:#ff7f0e;\" x=\"286.639342\" xlink:href=\"#mf4b6018c92\" y=\"21.634397\"/>\r\n     <use style=\"fill:#ff7f0e;stroke:#ff7f0e;\" x=\"287.076646\" xlink:href=\"#mf4b6018c92\" y=\"21.551801\"/>\r\n     <use style=\"fill:#ff7f0e;stroke:#ff7f0e;\" x=\"287.51395\" xlink:href=\"#mf4b6018c92\" y=\"21.470592\"/>\r\n     <use style=\"fill:#ff7f0e;stroke:#ff7f0e;\" x=\"287.951254\" xlink:href=\"#mf4b6018c92\" y=\"21.39075\"/>\r\n     <use style=\"fill:#ff7f0e;stroke:#ff7f0e;\" x=\"288.388558\" xlink:href=\"#mf4b6018c92\" y=\"21.312252\"/>\r\n     <use style=\"fill:#ff7f0e;stroke:#ff7f0e;\" x=\"288.825862\" xlink:href=\"#mf4b6018c92\" y=\"21.235077\"/>\r\n     <use style=\"fill:#ff7f0e;stroke:#ff7f0e;\" x=\"289.263166\" xlink:href=\"#mf4b6018c92\" y=\"21.159204\"/>\r\n     <use style=\"fill:#ff7f0e;stroke:#ff7f0e;\" x=\"289.70047\" xlink:href=\"#mf4b6018c92\" y=\"21.084611\"/>\r\n     <use style=\"fill:#ff7f0e;stroke:#ff7f0e;\" x=\"290.137774\" xlink:href=\"#mf4b6018c92\" y=\"21.011278\"/>\r\n     <use style=\"fill:#ff7f0e;stroke:#ff7f0e;\" x=\"290.575078\" xlink:href=\"#mf4b6018c92\" y=\"20.939184\"/>\r\n     <use style=\"fill:#ff7f0e;stroke:#ff7f0e;\" x=\"291.012382\" xlink:href=\"#mf4b6018c92\" y=\"20.868309\"/>\r\n     <use style=\"fill:#ff7f0e;stroke:#ff7f0e;\" x=\"291.449687\" xlink:href=\"#mf4b6018c92\" y=\"20.798633\"/>\r\n     <use style=\"fill:#ff7f0e;stroke:#ff7f0e;\" x=\"291.886991\" xlink:href=\"#mf4b6018c92\" y=\"20.730137\"/>\r\n     <use style=\"fill:#ff7f0e;stroke:#ff7f0e;\" x=\"292.324295\" xlink:href=\"#mf4b6018c92\" y=\"20.662801\"/>\r\n     <use style=\"fill:#ff7f0e;stroke:#ff7f0e;\" x=\"292.761599\" xlink:href=\"#mf4b6018c92\" y=\"20.596606\"/>\r\n     <use style=\"fill:#ff7f0e;stroke:#ff7f0e;\" x=\"293.198903\" xlink:href=\"#mf4b6018c92\" y=\"20.531533\"/>\r\n     <use style=\"fill:#ff7f0e;stroke:#ff7f0e;\" x=\"293.636207\" xlink:href=\"#mf4b6018c92\" y=\"20.467563\"/>\r\n     <use style=\"fill:#ff7f0e;stroke:#ff7f0e;\" x=\"294.073511\" xlink:href=\"#mf4b6018c92\" y=\"20.404679\"/>\r\n     <use style=\"fill:#ff7f0e;stroke:#ff7f0e;\" x=\"294.510815\" xlink:href=\"#mf4b6018c92\" y=\"20.342862\"/>\r\n     <use style=\"fill:#ff7f0e;stroke:#ff7f0e;\" x=\"294.948119\" xlink:href=\"#mf4b6018c92\" y=\"20.282094\"/>\r\n     <use style=\"fill:#ff7f0e;stroke:#ff7f0e;\" x=\"295.385423\" xlink:href=\"#mf4b6018c92\" y=\"20.222358\"/>\r\n     <use style=\"fill:#ff7f0e;stroke:#ff7f0e;\" x=\"295.822727\" xlink:href=\"#mf4b6018c92\" y=\"20.163637\"/>\r\n     <use style=\"fill:#ff7f0e;stroke:#ff7f0e;\" x=\"296.260031\" xlink:href=\"#mf4b6018c92\" y=\"20.105916\"/>\r\n     <use style=\"fill:#ff7f0e;stroke:#ff7f0e;\" x=\"296.697335\" xlink:href=\"#mf4b6018c92\" y=\"20.049177\"/>\r\n     <use style=\"fill:#ff7f0e;stroke:#ff7f0e;\" x=\"297.134639\" xlink:href=\"#mf4b6018c92\" y=\"19.993405\"/>\r\n     <use style=\"fill:#ff7f0e;stroke:#ff7f0e;\" x=\"297.571944\" xlink:href=\"#mf4b6018c92\" y=\"19.938583\"/>\r\n     <use style=\"fill:#ff7f0e;stroke:#ff7f0e;\" x=\"298.009248\" xlink:href=\"#mf4b6018c92\" y=\"19.884695\"/>\r\n     <use style=\"fill:#ff7f0e;stroke:#ff7f0e;\" x=\"298.446552\" xlink:href=\"#mf4b6018c92\" y=\"19.831725\"/>\r\n     <use style=\"fill:#ff7f0e;stroke:#ff7f0e;\" x=\"298.883856\" xlink:href=\"#mf4b6018c92\" y=\"19.779659\"/>\r\n     <use style=\"fill:#ff7f0e;stroke:#ff7f0e;\" x=\"299.32116\" xlink:href=\"#mf4b6018c92\" y=\"19.728482\"/>\r\n     <use style=\"fill:#ff7f0e;stroke:#ff7f0e;\" x=\"299.758464\" xlink:href=\"#mf4b6018c92\" y=\"19.67818\"/>\r\n     <use style=\"fill:#ff7f0e;stroke:#ff7f0e;\" x=\"300.195768\" xlink:href=\"#mf4b6018c92\" y=\"19.628738\"/>\r\n     <use style=\"fill:#ff7f0e;stroke:#ff7f0e;\" x=\"300.633072\" xlink:href=\"#mf4b6018c92\" y=\"19.580142\"/>\r\n     <use style=\"fill:#ff7f0e;stroke:#ff7f0e;\" x=\"301.070376\" xlink:href=\"#mf4b6018c92\" y=\"19.532378\"/>\r\n     <use style=\"fill:#ff7f0e;stroke:#ff7f0e;\" x=\"301.50768\" xlink:href=\"#mf4b6018c92\" y=\"19.485432\"/>\r\n     <use style=\"fill:#ff7f0e;stroke:#ff7f0e;\" x=\"301.944984\" xlink:href=\"#mf4b6018c92\" y=\"19.43929\"/>\r\n     <use style=\"fill:#ff7f0e;stroke:#ff7f0e;\" x=\"302.382288\" xlink:href=\"#mf4b6018c92\" y=\"19.39394\"/>\r\n     <use style=\"fill:#ff7f0e;stroke:#ff7f0e;\" x=\"302.819592\" xlink:href=\"#mf4b6018c92\" y=\"19.349368\"/>\r\n     <use style=\"fill:#ff7f0e;stroke:#ff7f0e;\" x=\"303.256897\" xlink:href=\"#mf4b6018c92\" y=\"19.30556\"/>\r\n     <use style=\"fill:#ff7f0e;stroke:#ff7f0e;\" x=\"303.694201\" xlink:href=\"#mf4b6018c92\" y=\"19.262504\"/>\r\n     <use style=\"fill:#ff7f0e;stroke:#ff7f0e;\" x=\"304.131505\" xlink:href=\"#mf4b6018c92\" y=\"19.220188\"/>\r\n     <use style=\"fill:#ff7f0e;stroke:#ff7f0e;\" x=\"304.568809\" xlink:href=\"#mf4b6018c92\" y=\"19.178598\"/>\r\n     <use style=\"fill:#ff7f0e;stroke:#ff7f0e;\" x=\"305.006113\" xlink:href=\"#mf4b6018c92\" y=\"19.137723\"/>\r\n     <use style=\"fill:#ff7f0e;stroke:#ff7f0e;\" x=\"305.443417\" xlink:href=\"#mf4b6018c92\" y=\"19.09755\"/>\r\n     <use style=\"fill:#ff7f0e;stroke:#ff7f0e;\" x=\"305.880721\" xlink:href=\"#mf4b6018c92\" y=\"19.058067\"/>\r\n     <use style=\"fill:#ff7f0e;stroke:#ff7f0e;\" x=\"306.318025\" xlink:href=\"#mf4b6018c92\" y=\"19.019263\"/>\r\n     <use style=\"fill:#ff7f0e;stroke:#ff7f0e;\" x=\"306.755329\" xlink:href=\"#mf4b6018c92\" y=\"18.981125\"/>\r\n     <use style=\"fill:#ff7f0e;stroke:#ff7f0e;\" x=\"307.192633\" xlink:href=\"#mf4b6018c92\" y=\"18.943643\"/>\r\n     <use style=\"fill:#ff7f0e;stroke:#ff7f0e;\" x=\"307.629937\" xlink:href=\"#mf4b6018c92\" y=\"18.906806\"/>\r\n     <use style=\"fill:#ff7f0e;stroke:#ff7f0e;\" x=\"308.067241\" xlink:href=\"#mf4b6018c92\" y=\"18.870601\"/>\r\n     <use style=\"fill:#ff7f0e;stroke:#ff7f0e;\" x=\"308.504545\" xlink:href=\"#mf4b6018c92\" y=\"18.83502\"/>\r\n     <use style=\"fill:#ff7f0e;stroke:#ff7f0e;\" x=\"308.94185\" xlink:href=\"#mf4b6018c92\" y=\"18.800051\"/>\r\n     <use style=\"fill:#ff7f0e;stroke:#ff7f0e;\" x=\"309.379154\" xlink:href=\"#mf4b6018c92\" y=\"18.765685\"/>\r\n     <use style=\"fill:#ff7f0e;stroke:#ff7f0e;\" x=\"309.816458\" xlink:href=\"#mf4b6018c92\" y=\"18.731912\"/>\r\n     <use style=\"fill:#ff7f0e;stroke:#ff7f0e;\" x=\"310.253762\" xlink:href=\"#mf4b6018c92\" y=\"18.698719\"/>\r\n     <use style=\"fill:#ff7f0e;stroke:#ff7f0e;\" x=\"310.691066\" xlink:href=\"#mf4b6018c92\" y=\"18.666099\"/>\r\n     <use style=\"fill:#ff7f0e;stroke:#ff7f0e;\" x=\"311.12837\" xlink:href=\"#mf4b6018c92\" y=\"18.634041\"/>\r\n     <use style=\"fill:#ff7f0e;stroke:#ff7f0e;\" x=\"311.565674\" xlink:href=\"#mf4b6018c92\" y=\"18.602536\"/>\r\n     <use style=\"fill:#ff7f0e;stroke:#ff7f0e;\" x=\"312.002978\" xlink:href=\"#mf4b6018c92\" y=\"18.571574\"/>\r\n     <use style=\"fill:#ff7f0e;stroke:#ff7f0e;\" x=\"312.440282\" xlink:href=\"#mf4b6018c92\" y=\"18.541147\"/>\r\n     <use style=\"fill:#ff7f0e;stroke:#ff7f0e;\" x=\"312.877586\" xlink:href=\"#mf4b6018c92\" y=\"18.511246\"/>\r\n     <use style=\"fill:#ff7f0e;stroke:#ff7f0e;\" x=\"313.31489\" xlink:href=\"#mf4b6018c92\" y=\"18.481862\"/>\r\n     <use style=\"fill:#ff7f0e;stroke:#ff7f0e;\" x=\"313.752194\" xlink:href=\"#mf4b6018c92\" y=\"18.452986\"/>\r\n     <use style=\"fill:#ff7f0e;stroke:#ff7f0e;\" x=\"314.189498\" xlink:href=\"#mf4b6018c92\" y=\"18.424609\"/>\r\n     <use style=\"fill:#ff7f0e;stroke:#ff7f0e;\" x=\"314.626803\" xlink:href=\"#mf4b6018c92\" y=\"18.396723\"/>\r\n     <use style=\"fill:#ff7f0e;stroke:#ff7f0e;\" x=\"315.064107\" xlink:href=\"#mf4b6018c92\" y=\"18.36932\"/>\r\n     <use style=\"fill:#ff7f0e;stroke:#ff7f0e;\" x=\"315.501411\" xlink:href=\"#mf4b6018c92\" y=\"18.342391\"/>\r\n     <use style=\"fill:#ff7f0e;stroke:#ff7f0e;\" x=\"315.938715\" xlink:href=\"#mf4b6018c92\" y=\"18.315929\"/>\r\n     <use style=\"fill:#ff7f0e;stroke:#ff7f0e;\" x=\"316.376019\" xlink:href=\"#mf4b6018c92\" y=\"18.289925\"/>\r\n     <use style=\"fill:#ff7f0e;stroke:#ff7f0e;\" x=\"316.813323\" xlink:href=\"#mf4b6018c92\" y=\"18.264371\"/>\r\n     <use style=\"fill:#ff7f0e;stroke:#ff7f0e;\" x=\"317.250627\" xlink:href=\"#mf4b6018c92\" y=\"18.23926\"/>\r\n     <use style=\"fill:#ff7f0e;stroke:#ff7f0e;\" x=\"317.687931\" xlink:href=\"#mf4b6018c92\" y=\"18.214584\"/>\r\n     <use style=\"fill:#ff7f0e;stroke:#ff7f0e;\" x=\"318.125235\" xlink:href=\"#mf4b6018c92\" y=\"18.190335\"/>\r\n     <use style=\"fill:#ff7f0e;stroke:#ff7f0e;\" x=\"318.562539\" xlink:href=\"#mf4b6018c92\" y=\"18.166506\"/>\r\n     <use style=\"fill:#ff7f0e;stroke:#ff7f0e;\" x=\"318.999843\" xlink:href=\"#mf4b6018c92\" y=\"18.143091\"/>\r\n     <use style=\"fill:#ff7f0e;stroke:#ff7f0e;\" x=\"319.437147\" xlink:href=\"#mf4b6018c92\" y=\"18.12008\"/>\r\n     <use style=\"fill:#ff7f0e;stroke:#ff7f0e;\" x=\"319.874451\" xlink:href=\"#mf4b6018c92\" y=\"18.097468\"/>\r\n     <use style=\"fill:#ff7f0e;stroke:#ff7f0e;\" x=\"320.311755\" xlink:href=\"#mf4b6018c92\" y=\"18.075248\"/>\r\n     <use style=\"fill:#ff7f0e;stroke:#ff7f0e;\" x=\"320.74906\" xlink:href=\"#mf4b6018c92\" y=\"18.053413\"/>\r\n     <use style=\"fill:#ff7f0e;stroke:#ff7f0e;\" x=\"321.186364\" xlink:href=\"#mf4b6018c92\" y=\"18.031956\"/>\r\n     <use style=\"fill:#ff7f0e;stroke:#ff7f0e;\" x=\"321.623668\" xlink:href=\"#mf4b6018c92\" y=\"18.010871\"/>\r\n     <use style=\"fill:#ff7f0e;stroke:#ff7f0e;\" x=\"322.060972\" xlink:href=\"#mf4b6018c92\" y=\"17.990153\"/>\r\n     <use style=\"fill:#ff7f0e;stroke:#ff7f0e;\" x=\"322.498276\" xlink:href=\"#mf4b6018c92\" y=\"17.969793\"/>\r\n     <use style=\"fill:#ff7f0e;stroke:#ff7f0e;\" x=\"322.93558\" xlink:href=\"#mf4b6018c92\" y=\"17.949787\"/>\r\n     <use style=\"fill:#ff7f0e;stroke:#ff7f0e;\" x=\"323.372884\" xlink:href=\"#mf4b6018c92\" y=\"17.930128\"/>\r\n     <use style=\"fill:#ff7f0e;stroke:#ff7f0e;\" x=\"323.810188\" xlink:href=\"#mf4b6018c92\" y=\"17.910809\"/>\r\n     <use style=\"fill:#ff7f0e;stroke:#ff7f0e;\" x=\"324.247492\" xlink:href=\"#mf4b6018c92\" y=\"17.891827\"/>\r\n     <use style=\"fill:#ff7f0e;stroke:#ff7f0e;\" x=\"324.684796\" xlink:href=\"#mf4b6018c92\" y=\"17.873173\"/>\r\n     <use style=\"fill:#ff7f0e;stroke:#ff7f0e;\" x=\"325.1221\" xlink:href=\"#mf4b6018c92\" y=\"17.854844\"/>\r\n     <use style=\"fill:#ff7f0e;stroke:#ff7f0e;\" x=\"325.559404\" xlink:href=\"#mf4b6018c92\" y=\"17.836834\"/>\r\n     <use style=\"fill:#ff7f0e;stroke:#ff7f0e;\" x=\"325.996708\" xlink:href=\"#mf4b6018c92\" y=\"17.819136\"/>\r\n     <use style=\"fill:#ff7f0e;stroke:#ff7f0e;\" x=\"326.434013\" xlink:href=\"#mf4b6018c92\" y=\"17.801747\"/>\r\n     <use style=\"fill:#ff7f0e;stroke:#ff7f0e;\" x=\"326.871317\" xlink:href=\"#mf4b6018c92\" y=\"17.78466\"/>\r\n     <use style=\"fill:#ff7f0e;stroke:#ff7f0e;\" x=\"327.308621\" xlink:href=\"#mf4b6018c92\" y=\"17.767871\"/>\r\n     <use style=\"fill:#ff7f0e;stroke:#ff7f0e;\" x=\"327.745925\" xlink:href=\"#mf4b6018c92\" y=\"17.751373\"/>\r\n     <use style=\"fill:#ff7f0e;stroke:#ff7f0e;\" x=\"328.183229\" xlink:href=\"#mf4b6018c92\" y=\"17.735163\"/>\r\n     <use style=\"fill:#ff7f0e;stroke:#ff7f0e;\" x=\"328.620533\" xlink:href=\"#mf4b6018c92\" y=\"17.719235\"/>\r\n     <use style=\"fill:#ff7f0e;stroke:#ff7f0e;\" x=\"329.057837\" xlink:href=\"#mf4b6018c92\" y=\"17.703585\"/>\r\n     <use style=\"fill:#ff7f0e;stroke:#ff7f0e;\" x=\"329.495141\" xlink:href=\"#mf4b6018c92\" y=\"17.688207\"/>\r\n     <use style=\"fill:#ff7f0e;stroke:#ff7f0e;\" x=\"329.932445\" xlink:href=\"#mf4b6018c92\" y=\"17.673096\"/>\r\n     <use style=\"fill:#ff7f0e;stroke:#ff7f0e;\" x=\"330.369749\" xlink:href=\"#mf4b6018c92\" y=\"17.658249\"/>\r\n     <use style=\"fill:#ff7f0e;stroke:#ff7f0e;\" x=\"330.807053\" xlink:href=\"#mf4b6018c92\" y=\"17.64366\"/>\r\n     <use style=\"fill:#ff7f0e;stroke:#ff7f0e;\" x=\"331.244357\" xlink:href=\"#mf4b6018c92\" y=\"17.629325\"/>\r\n     <use style=\"fill:#ff7f0e;stroke:#ff7f0e;\" x=\"331.681661\" xlink:href=\"#mf4b6018c92\" y=\"17.61524\"/>\r\n     <use style=\"fill:#ff7f0e;stroke:#ff7f0e;\" x=\"332.118966\" xlink:href=\"#mf4b6018c92\" y=\"17.601399\"/>\r\n     <use style=\"fill:#ff7f0e;stroke:#ff7f0e;\" x=\"332.55627\" xlink:href=\"#mf4b6018c92\" y=\"17.5878\"/>\r\n     <use style=\"fill:#ff7f0e;stroke:#ff7f0e;\" x=\"332.993574\" xlink:href=\"#mf4b6018c92\" y=\"17.574437\"/>\r\n     <use style=\"fill:#ff7f0e;stroke:#ff7f0e;\" x=\"333.430878\" xlink:href=\"#mf4b6018c92\" y=\"17.561307\"/>\r\n     <use style=\"fill:#ff7f0e;stroke:#ff7f0e;\" x=\"333.868182\" xlink:href=\"#mf4b6018c92\" y=\"17.548405\"/>\r\n     <use style=\"fill:#ff7f0e;stroke:#ff7f0e;\" x=\"334.305486\" xlink:href=\"#mf4b6018c92\" y=\"17.535728\"/>\r\n     <use style=\"fill:#ff7f0e;stroke:#ff7f0e;\" x=\"334.74279\" xlink:href=\"#mf4b6018c92\" y=\"17.523271\"/>\r\n     <use style=\"fill:#ff7f0e;stroke:#ff7f0e;\" x=\"335.180094\" xlink:href=\"#mf4b6018c92\" y=\"17.511032\"/>\r\n     <use style=\"fill:#ff7f0e;stroke:#ff7f0e;\" x=\"335.617398\" xlink:href=\"#mf4b6018c92\" y=\"17.499006\"/>\r\n     <use style=\"fill:#ff7f0e;stroke:#ff7f0e;\" x=\"336.054702\" xlink:href=\"#mf4b6018c92\" y=\"17.48719\"/>\r\n     <use style=\"fill:#ff7f0e;stroke:#ff7f0e;\" x=\"336.492006\" xlink:href=\"#mf4b6018c92\" y=\"17.475579\"/>\r\n     <use style=\"fill:#ff7f0e;stroke:#ff7f0e;\" x=\"336.92931\" xlink:href=\"#mf4b6018c92\" y=\"17.46417\"/>\r\n     <use style=\"fill:#ff7f0e;stroke:#ff7f0e;\" x=\"337.366614\" xlink:href=\"#mf4b6018c92\" y=\"17.45296\"/>\r\n     <use style=\"fill:#ff7f0e;stroke:#ff7f0e;\" x=\"337.803918\" xlink:href=\"#mf4b6018c92\" y=\"17.441946\"/>\r\n     <use style=\"fill:#ff7f0e;stroke:#ff7f0e;\" x=\"338.241223\" xlink:href=\"#mf4b6018c92\" y=\"17.431124\"/>\r\n     <use style=\"fill:#ff7f0e;stroke:#ff7f0e;\" x=\"338.678527\" xlink:href=\"#mf4b6018c92\" y=\"17.420491\"/>\r\n     <use style=\"fill:#ff7f0e;stroke:#ff7f0e;\" x=\"339.115831\" xlink:href=\"#mf4b6018c92\" y=\"17.410044\"/>\r\n     <use style=\"fill:#ff7f0e;stroke:#ff7f0e;\" x=\"339.553135\" xlink:href=\"#mf4b6018c92\" y=\"17.399779\"/>\r\n     <use style=\"fill:#ff7f0e;stroke:#ff7f0e;\" x=\"339.990439\" xlink:href=\"#mf4b6018c92\" y=\"17.389693\"/>\r\n     <use style=\"fill:#ff7f0e;stroke:#ff7f0e;\" x=\"340.427743\" xlink:href=\"#mf4b6018c92\" y=\"17.379783\"/>\r\n     <use style=\"fill:#ff7f0e;stroke:#ff7f0e;\" x=\"340.865047\" xlink:href=\"#mf4b6018c92\" y=\"17.370047\"/>\r\n     <use style=\"fill:#ff7f0e;stroke:#ff7f0e;\" x=\"341.302351\" xlink:href=\"#mf4b6018c92\" y=\"17.36048\"/>\r\n     <use style=\"fill:#ff7f0e;stroke:#ff7f0e;\" x=\"341.739655\" xlink:href=\"#mf4b6018c92\" y=\"17.351081\"/>\r\n     <use style=\"fill:#ff7f0e;stroke:#ff7f0e;\" x=\"342.176959\" xlink:href=\"#mf4b6018c92\" y=\"17.341845\"/>\r\n     <use style=\"fill:#ff7f0e;stroke:#ff7f0e;\" x=\"342.614263\" xlink:href=\"#mf4b6018c92\" y=\"17.332771\"/>\r\n     <use style=\"fill:#ff7f0e;stroke:#ff7f0e;\" x=\"343.051567\" xlink:href=\"#mf4b6018c92\" y=\"17.323856\"/>\r\n     <use style=\"fill:#ff7f0e;stroke:#ff7f0e;\" x=\"343.488871\" xlink:href=\"#mf4b6018c92\" y=\"17.315096\"/>\r\n     <use style=\"fill:#ff7f0e;stroke:#ff7f0e;\" x=\"343.926176\" xlink:href=\"#mf4b6018c92\" y=\"17.306489\"/>\r\n     <use style=\"fill:#ff7f0e;stroke:#ff7f0e;\" x=\"344.36348\" xlink:href=\"#mf4b6018c92\" y=\"17.298032\"/>\r\n     <use style=\"fill:#ff7f0e;stroke:#ff7f0e;\" x=\"344.800784\" xlink:href=\"#mf4b6018c92\" y=\"17.289723\"/>\r\n     <use style=\"fill:#ff7f0e;stroke:#ff7f0e;\" x=\"345.238088\" xlink:href=\"#mf4b6018c92\" y=\"17.281559\"/>\r\n     <use style=\"fill:#ff7f0e;stroke:#ff7f0e;\" x=\"345.675392\" xlink:href=\"#mf4b6018c92\" y=\"17.273537\"/>\r\n     <use style=\"fill:#ff7f0e;stroke:#ff7f0e;\" x=\"346.112696\" xlink:href=\"#mf4b6018c92\" y=\"17.265655\"/>\r\n     <use style=\"fill:#ff7f0e;stroke:#ff7f0e;\" x=\"346.55\" xlink:href=\"#mf4b6018c92\" y=\"17.257911\"/>\r\n     <use style=\"fill:#ff7f0e;stroke:#ff7f0e;\" x=\"346.987304\" xlink:href=\"#mf4b6018c92\" y=\"17.250302\"/>\r\n     <use style=\"fill:#ff7f0e;stroke:#ff7f0e;\" x=\"347.424608\" xlink:href=\"#mf4b6018c92\" y=\"17.242825\"/>\r\n     <use style=\"fill:#ff7f0e;stroke:#ff7f0e;\" x=\"347.861912\" xlink:href=\"#mf4b6018c92\" y=\"17.23548\"/>\r\n     <use style=\"fill:#ff7f0e;stroke:#ff7f0e;\" x=\"348.299216\" xlink:href=\"#mf4b6018c92\" y=\"17.228263\"/>\r\n     <use style=\"fill:#ff7f0e;stroke:#ff7f0e;\" x=\"348.73652\" xlink:href=\"#mf4b6018c92\" y=\"17.221171\"/>\r\n     <use style=\"fill:#ff7f0e;stroke:#ff7f0e;\" x=\"349.173824\" xlink:href=\"#mf4b6018c92\" y=\"17.214204\"/>\r\n     <use style=\"fill:#ff7f0e;stroke:#ff7f0e;\" x=\"349.611129\" xlink:href=\"#mf4b6018c92\" y=\"17.207358\"/>\r\n     <use style=\"fill:#ff7f0e;stroke:#ff7f0e;\" x=\"350.048433\" xlink:href=\"#mf4b6018c92\" y=\"17.200631\"/>\r\n     <use style=\"fill:#ff7f0e;stroke:#ff7f0e;\" x=\"350.485737\" xlink:href=\"#mf4b6018c92\" y=\"17.194023\"/>\r\n     <use style=\"fill:#ff7f0e;stroke:#ff7f0e;\" x=\"350.923041\" xlink:href=\"#mf4b6018c92\" y=\"17.18753\"/>\r\n     <use style=\"fill:#ff7f0e;stroke:#ff7f0e;\" x=\"351.360345\" xlink:href=\"#mf4b6018c92\" y=\"17.18115\"/>\r\n     <use style=\"fill:#ff7f0e;stroke:#ff7f0e;\" x=\"351.797649\" xlink:href=\"#mf4b6018c92\" y=\"17.174882\"/>\r\n     <use style=\"fill:#ff7f0e;stroke:#ff7f0e;\" x=\"352.234953\" xlink:href=\"#mf4b6018c92\" y=\"17.168724\"/>\r\n     <use style=\"fill:#ff7f0e;stroke:#ff7f0e;\" x=\"352.672257\" xlink:href=\"#mf4b6018c92\" y=\"17.162673\"/>\r\n     <use style=\"fill:#ff7f0e;stroke:#ff7f0e;\" x=\"353.109561\" xlink:href=\"#mf4b6018c92\" y=\"17.156729\"/>\r\n     <use style=\"fill:#ff7f0e;stroke:#ff7f0e;\" x=\"353.546865\" xlink:href=\"#mf4b6018c92\" y=\"17.150888\"/>\r\n     <use style=\"fill:#ff7f0e;stroke:#ff7f0e;\" x=\"353.984169\" xlink:href=\"#mf4b6018c92\" y=\"17.14515\"/>\r\n     <use style=\"fill:#ff7f0e;stroke:#ff7f0e;\" x=\"354.421473\" xlink:href=\"#mf4b6018c92\" y=\"17.139512\"/>\r\n     <use style=\"fill:#ff7f0e;stroke:#ff7f0e;\" x=\"354.858777\" xlink:href=\"#mf4b6018c92\" y=\"17.133972\"/>\r\n     <use style=\"fill:#ff7f0e;stroke:#ff7f0e;\" x=\"355.296082\" xlink:href=\"#mf4b6018c92\" y=\"17.12853\"/>\r\n     <use style=\"fill:#ff7f0e;stroke:#ff7f0e;\" x=\"355.733386\" xlink:href=\"#mf4b6018c92\" y=\"17.123183\"/>\r\n     <use style=\"fill:#ff7f0e;stroke:#ff7f0e;\" x=\"356.17069\" xlink:href=\"#mf4b6018c92\" y=\"17.117929\"/>\r\n     <use style=\"fill:#ff7f0e;stroke:#ff7f0e;\" x=\"356.607994\" xlink:href=\"#mf4b6018c92\" y=\"17.112767\"/>\r\n     <use style=\"fill:#ff7f0e;stroke:#ff7f0e;\" x=\"357.045298\" xlink:href=\"#mf4b6018c92\" y=\"17.107695\"/>\r\n     <use style=\"fill:#ff7f0e;stroke:#ff7f0e;\" x=\"357.482602\" xlink:href=\"#mf4b6018c92\" y=\"17.102713\"/>\r\n     <use style=\"fill:#ff7f0e;stroke:#ff7f0e;\" x=\"357.919906\" xlink:href=\"#mf4b6018c92\" y=\"17.097817\"/>\r\n     <use style=\"fill:#ff7f0e;stroke:#ff7f0e;\" x=\"358.35721\" xlink:href=\"#mf4b6018c92\" y=\"17.093006\"/>\r\n     <use style=\"fill:#ff7f0e;stroke:#ff7f0e;\" x=\"358.794514\" xlink:href=\"#mf4b6018c92\" y=\"17.08828\"/>\r\n     <use style=\"fill:#ff7f0e;stroke:#ff7f0e;\" x=\"359.231818\" xlink:href=\"#mf4b6018c92\" y=\"17.083636\"/>\r\n    </g>\r\n   </g>\r\n   <g id=\"matplotlib.axis_1\">\r\n    <g id=\"xtick_1\">\r\n     <g id=\"line2d_1\">\r\n      <defs>\r\n       <path d=\"M 0 0 \r\nL 0 3.5 \r\n\" id=\"m6c4c5aaa2a\" style=\"stroke:#000000;stroke-width:0.8;\"/>\r\n      </defs>\r\n      <g>\r\n       <use style=\"stroke:#000000;stroke-width:0.8;\" x=\"54.868182\" xlink:href=\"#m6c4c5aaa2a\" y=\"224.64\"/>\r\n      </g>\r\n     </g>\r\n     <g id=\"text_1\">\r\n      <!-- 0 -->\r\n      <defs>\r\n       <path d=\"M 31.78125 66.40625 \r\nQ 24.171875 66.40625 20.328125 58.90625 \r\nQ 16.5 51.421875 16.5 36.375 \r\nQ 16.5 21.390625 20.328125 13.890625 \r\nQ 24.171875 6.390625 31.78125 6.390625 \r\nQ 39.453125 6.390625 43.28125 13.890625 \r\nQ 47.125 21.390625 47.125 36.375 \r\nQ 47.125 51.421875 43.28125 58.90625 \r\nQ 39.453125 66.40625 31.78125 66.40625 \r\nz\r\nM 31.78125 74.21875 \r\nQ 44.046875 74.21875 50.515625 64.515625 \r\nQ 56.984375 54.828125 56.984375 36.375 \r\nQ 56.984375 17.96875 50.515625 8.265625 \r\nQ 44.046875 -1.421875 31.78125 -1.421875 \r\nQ 19.53125 -1.421875 13.0625 8.265625 \r\nQ 6.59375 17.96875 6.59375 36.375 \r\nQ 6.59375 54.828125 13.0625 64.515625 \r\nQ 19.53125 74.21875 31.78125 74.21875 \r\nz\r\n\" id=\"DejaVuSans-48\"/>\r\n      </defs>\r\n      <g transform=\"translate(51.686932 239.238437)scale(0.1 -0.1)\">\r\n       <use xlink:href=\"#DejaVuSans-48\"/>\r\n      </g>\r\n     </g>\r\n    </g>\r\n    <g id=\"xtick_2\">\r\n     <g id=\"line2d_2\">\r\n      <g>\r\n       <use style=\"stroke:#000000;stroke-width:0.8;\" x=\"98.598589\" xlink:href=\"#m6c4c5aaa2a\" y=\"224.64\"/>\r\n      </g>\r\n     </g>\r\n     <g id=\"text_2\">\r\n      <!-- 100 -->\r\n      <defs>\r\n       <path d=\"M 12.40625 8.296875 \r\nL 28.515625 8.296875 \r\nL 28.515625 63.921875 \r\nL 10.984375 60.40625 \r\nL 10.984375 69.390625 \r\nL 28.421875 72.90625 \r\nL 38.28125 72.90625 \r\nL 38.28125 8.296875 \r\nL 54.390625 8.296875 \r\nL 54.390625 0 \r\nL 12.40625 0 \r\nz\r\n\" id=\"DejaVuSans-49\"/>\r\n      </defs>\r\n      <g transform=\"translate(89.054839 239.238437)scale(0.1 -0.1)\">\r\n       <use xlink:href=\"#DejaVuSans-49\"/>\r\n       <use x=\"63.623047\" xlink:href=\"#DejaVuSans-48\"/>\r\n       <use x=\"127.246094\" xlink:href=\"#DejaVuSans-48\"/>\r\n      </g>\r\n     </g>\r\n    </g>\r\n    <g id=\"xtick_3\">\r\n     <g id=\"line2d_3\">\r\n      <g>\r\n       <use style=\"stroke:#000000;stroke-width:0.8;\" x=\"142.328997\" xlink:href=\"#m6c4c5aaa2a\" y=\"224.64\"/>\r\n      </g>\r\n     </g>\r\n     <g id=\"text_3\">\r\n      <!-- 200 -->\r\n      <defs>\r\n       <path d=\"M 19.1875 8.296875 \r\nL 53.609375 8.296875 \r\nL 53.609375 0 \r\nL 7.328125 0 \r\nL 7.328125 8.296875 \r\nQ 12.9375 14.109375 22.625 23.890625 \r\nQ 32.328125 33.6875 34.8125 36.53125 \r\nQ 39.546875 41.84375 41.421875 45.53125 \r\nQ 43.3125 49.21875 43.3125 52.78125 \r\nQ 43.3125 58.59375 39.234375 62.25 \r\nQ 35.15625 65.921875 28.609375 65.921875 \r\nQ 23.96875 65.921875 18.8125 64.3125 \r\nQ 13.671875 62.703125 7.8125 59.421875 \r\nL 7.8125 69.390625 \r\nQ 13.765625 71.78125 18.9375 73 \r\nQ 24.125 74.21875 28.421875 74.21875 \r\nQ 39.75 74.21875 46.484375 68.546875 \r\nQ 53.21875 62.890625 53.21875 53.421875 \r\nQ 53.21875 48.921875 51.53125 44.890625 \r\nQ 49.859375 40.875 45.40625 35.40625 \r\nQ 44.1875 33.984375 37.640625 27.21875 \r\nQ 31.109375 20.453125 19.1875 8.296875 \r\nz\r\n\" id=\"DejaVuSans-50\"/>\r\n      </defs>\r\n      <g transform=\"translate(132.785247 239.238437)scale(0.1 -0.1)\">\r\n       <use xlink:href=\"#DejaVuSans-50\"/>\r\n       <use x=\"63.623047\" xlink:href=\"#DejaVuSans-48\"/>\r\n       <use x=\"127.246094\" xlink:href=\"#DejaVuSans-48\"/>\r\n      </g>\r\n     </g>\r\n    </g>\r\n    <g id=\"xtick_4\">\r\n     <g id=\"line2d_4\">\r\n      <g>\r\n       <use style=\"stroke:#000000;stroke-width:0.8;\" x=\"186.059404\" xlink:href=\"#m6c4c5aaa2a\" y=\"224.64\"/>\r\n      </g>\r\n     </g>\r\n     <g id=\"text_4\">\r\n      <!-- 300 -->\r\n      <defs>\r\n       <path d=\"M 40.578125 39.3125 \r\nQ 47.65625 37.796875 51.625 33 \r\nQ 55.609375 28.21875 55.609375 21.1875 \r\nQ 55.609375 10.40625 48.1875 4.484375 \r\nQ 40.765625 -1.421875 27.09375 -1.421875 \r\nQ 22.515625 -1.421875 17.65625 -0.515625 \r\nQ 12.796875 0.390625 7.625 2.203125 \r\nL 7.625 11.71875 \r\nQ 11.71875 9.328125 16.59375 8.109375 \r\nQ 21.484375 6.890625 26.8125 6.890625 \r\nQ 36.078125 6.890625 40.9375 10.546875 \r\nQ 45.796875 14.203125 45.796875 21.1875 \r\nQ 45.796875 27.640625 41.28125 31.265625 \r\nQ 36.765625 34.90625 28.71875 34.90625 \r\nL 20.21875 34.90625 \r\nL 20.21875 43.015625 \r\nL 29.109375 43.015625 \r\nQ 36.375 43.015625 40.234375 45.921875 \r\nQ 44.09375 48.828125 44.09375 54.296875 \r\nQ 44.09375 59.90625 40.109375 62.90625 \r\nQ 36.140625 65.921875 28.71875 65.921875 \r\nQ 24.65625 65.921875 20.015625 65.03125 \r\nQ 15.375 64.15625 9.8125 62.3125 \r\nL 9.8125 71.09375 \r\nQ 15.4375 72.65625 20.34375 73.4375 \r\nQ 25.25 74.21875 29.59375 74.21875 \r\nQ 40.828125 74.21875 47.359375 69.109375 \r\nQ 53.90625 64.015625 53.90625 55.328125 \r\nQ 53.90625 49.265625 50.4375 45.09375 \r\nQ 46.96875 40.921875 40.578125 39.3125 \r\nz\r\n\" id=\"DejaVuSans-51\"/>\r\n      </defs>\r\n      <g transform=\"translate(176.515654 239.238437)scale(0.1 -0.1)\">\r\n       <use xlink:href=\"#DejaVuSans-51\"/>\r\n       <use x=\"63.623047\" xlink:href=\"#DejaVuSans-48\"/>\r\n       <use x=\"127.246094\" xlink:href=\"#DejaVuSans-48\"/>\r\n      </g>\r\n     </g>\r\n    </g>\r\n    <g id=\"xtick_5\">\r\n     <g id=\"line2d_5\">\r\n      <g>\r\n       <use style=\"stroke:#000000;stroke-width:0.8;\" x=\"229.789812\" xlink:href=\"#m6c4c5aaa2a\" y=\"224.64\"/>\r\n      </g>\r\n     </g>\r\n     <g id=\"text_5\">\r\n      <!-- 400 -->\r\n      <defs>\r\n       <path d=\"M 37.796875 64.3125 \r\nL 12.890625 25.390625 \r\nL 37.796875 25.390625 \r\nz\r\nM 35.203125 72.90625 \r\nL 47.609375 72.90625 \r\nL 47.609375 25.390625 \r\nL 58.015625 25.390625 \r\nL 58.015625 17.1875 \r\nL 47.609375 17.1875 \r\nL 47.609375 0 \r\nL 37.796875 0 \r\nL 37.796875 17.1875 \r\nL 4.890625 17.1875 \r\nL 4.890625 26.703125 \r\nz\r\n\" id=\"DejaVuSans-52\"/>\r\n      </defs>\r\n      <g transform=\"translate(220.246062 239.238437)scale(0.1 -0.1)\">\r\n       <use xlink:href=\"#DejaVuSans-52\"/>\r\n       <use x=\"63.623047\" xlink:href=\"#DejaVuSans-48\"/>\r\n       <use x=\"127.246094\" xlink:href=\"#DejaVuSans-48\"/>\r\n      </g>\r\n     </g>\r\n    </g>\r\n    <g id=\"xtick_6\">\r\n     <g id=\"line2d_6\">\r\n      <g>\r\n       <use style=\"stroke:#000000;stroke-width:0.8;\" x=\"273.520219\" xlink:href=\"#m6c4c5aaa2a\" y=\"224.64\"/>\r\n      </g>\r\n     </g>\r\n     <g id=\"text_6\">\r\n      <!-- 500 -->\r\n      <defs>\r\n       <path d=\"M 10.796875 72.90625 \r\nL 49.515625 72.90625 \r\nL 49.515625 64.59375 \r\nL 19.828125 64.59375 \r\nL 19.828125 46.734375 \r\nQ 21.96875 47.46875 24.109375 47.828125 \r\nQ 26.265625 48.1875 28.421875 48.1875 \r\nQ 40.625 48.1875 47.75 41.5 \r\nQ 54.890625 34.8125 54.890625 23.390625 \r\nQ 54.890625 11.625 47.5625 5.09375 \r\nQ 40.234375 -1.421875 26.90625 -1.421875 \r\nQ 22.3125 -1.421875 17.546875 -0.640625 \r\nQ 12.796875 0.140625 7.71875 1.703125 \r\nL 7.71875 11.625 \r\nQ 12.109375 9.234375 16.796875 8.0625 \r\nQ 21.484375 6.890625 26.703125 6.890625 \r\nQ 35.15625 6.890625 40.078125 11.328125 \r\nQ 45.015625 15.765625 45.015625 23.390625 \r\nQ 45.015625 31 40.078125 35.4375 \r\nQ 35.15625 39.890625 26.703125 39.890625 \r\nQ 22.75 39.890625 18.8125 39.015625 \r\nQ 14.890625 38.140625 10.796875 36.28125 \r\nz\r\n\" id=\"DejaVuSans-53\"/>\r\n      </defs>\r\n      <g transform=\"translate(263.976469 239.238437)scale(0.1 -0.1)\">\r\n       <use xlink:href=\"#DejaVuSans-53\"/>\r\n       <use x=\"63.623047\" xlink:href=\"#DejaVuSans-48\"/>\r\n       <use x=\"127.246094\" xlink:href=\"#DejaVuSans-48\"/>\r\n      </g>\r\n     </g>\r\n    </g>\r\n    <g id=\"xtick_7\">\r\n     <g id=\"line2d_7\">\r\n      <g>\r\n       <use style=\"stroke:#000000;stroke-width:0.8;\" x=\"317.250627\" xlink:href=\"#m6c4c5aaa2a\" y=\"224.64\"/>\r\n      </g>\r\n     </g>\r\n     <g id=\"text_7\">\r\n      <!-- 600 -->\r\n      <defs>\r\n       <path d=\"M 33.015625 40.375 \r\nQ 26.375 40.375 22.484375 35.828125 \r\nQ 18.609375 31.296875 18.609375 23.390625 \r\nQ 18.609375 15.53125 22.484375 10.953125 \r\nQ 26.375 6.390625 33.015625 6.390625 \r\nQ 39.65625 6.390625 43.53125 10.953125 \r\nQ 47.40625 15.53125 47.40625 23.390625 \r\nQ 47.40625 31.296875 43.53125 35.828125 \r\nQ 39.65625 40.375 33.015625 40.375 \r\nz\r\nM 52.59375 71.296875 \r\nL 52.59375 62.3125 \r\nQ 48.875 64.0625 45.09375 64.984375 \r\nQ 41.3125 65.921875 37.59375 65.921875 \r\nQ 27.828125 65.921875 22.671875 59.328125 \r\nQ 17.53125 52.734375 16.796875 39.40625 \r\nQ 19.671875 43.65625 24.015625 45.921875 \r\nQ 28.375 48.1875 33.59375 48.1875 \r\nQ 44.578125 48.1875 50.953125 41.515625 \r\nQ 57.328125 34.859375 57.328125 23.390625 \r\nQ 57.328125 12.15625 50.6875 5.359375 \r\nQ 44.046875 -1.421875 33.015625 -1.421875 \r\nQ 20.359375 -1.421875 13.671875 8.265625 \r\nQ 6.984375 17.96875 6.984375 36.375 \r\nQ 6.984375 53.65625 15.1875 63.9375 \r\nQ 23.390625 74.21875 37.203125 74.21875 \r\nQ 40.921875 74.21875 44.703125 73.484375 \r\nQ 48.484375 72.75 52.59375 71.296875 \r\nz\r\n\" id=\"DejaVuSans-54\"/>\r\n      </defs>\r\n      <g transform=\"translate(307.706877 239.238437)scale(0.1 -0.1)\">\r\n       <use xlink:href=\"#DejaVuSans-54\"/>\r\n       <use x=\"63.623047\" xlink:href=\"#DejaVuSans-48\"/>\r\n       <use x=\"127.246094\" xlink:href=\"#DejaVuSans-48\"/>\r\n      </g>\r\n     </g>\r\n    </g>\r\n    <g id=\"xtick_8\">\r\n     <g id=\"line2d_8\">\r\n      <g>\r\n       <use style=\"stroke:#000000;stroke-width:0.8;\" x=\"360.981034\" xlink:href=\"#m6c4c5aaa2a\" y=\"224.64\"/>\r\n      </g>\r\n     </g>\r\n     <g id=\"text_8\">\r\n      <!-- 700 -->\r\n      <defs>\r\n       <path d=\"M 8.203125 72.90625 \r\nL 55.078125 72.90625 \r\nL 55.078125 68.703125 \r\nL 28.609375 0 \r\nL 18.3125 0 \r\nL 43.21875 64.59375 \r\nL 8.203125 64.59375 \r\nz\r\n\" id=\"DejaVuSans-55\"/>\r\n      </defs>\r\n      <g transform=\"translate(351.437284 239.238437)scale(0.1 -0.1)\">\r\n       <use xlink:href=\"#DejaVuSans-55\"/>\r\n       <use x=\"63.623047\" xlink:href=\"#DejaVuSans-48\"/>\r\n       <use x=\"127.246094\" xlink:href=\"#DejaVuSans-48\"/>\r\n      </g>\r\n     </g>\r\n    </g>\r\n   </g>\r\n   <g id=\"matplotlib.axis_2\">\r\n    <g id=\"ytick_1\">\r\n     <g id=\"line2d_9\">\r\n      <defs>\r\n       <path d=\"M 0 0 \r\nL -3.5 0 \r\n\" id=\"mf8d9120cd2\" style=\"stroke:#000000;stroke-width:0.8;\"/>\r\n      </defs>\r\n      <g>\r\n       <use style=\"stroke:#000000;stroke-width:0.8;\" x=\"39.65\" xlink:href=\"#mf8d9120cd2\" y=\"214.756364\"/>\r\n      </g>\r\n     </g>\r\n     <g id=\"text_9\">\r\n      <!-- 0 -->\r\n      <g transform=\"translate(26.2875 218.555582)scale(0.1 -0.1)\">\r\n       <use xlink:href=\"#DejaVuSans-48\"/>\r\n      </g>\r\n     </g>\r\n    </g>\r\n    <g id=\"ytick_2\">\r\n     <g id=\"line2d_10\">\r\n      <g>\r\n       <use style=\"stroke:#000000;stroke-width:0.8;\" x=\"39.65\" xlink:href=\"#mf8d9120cd2\" y=\"183.247028\"/>\r\n      </g>\r\n     </g>\r\n     <g id=\"text_10\">\r\n      <!-- 500 -->\r\n      <g transform=\"translate(13.5625 187.046247)scale(0.1 -0.1)\">\r\n       <use xlink:href=\"#DejaVuSans-53\"/>\r\n       <use x=\"63.623047\" xlink:href=\"#DejaVuSans-48\"/>\r\n       <use x=\"127.246094\" xlink:href=\"#DejaVuSans-48\"/>\r\n      </g>\r\n     </g>\r\n    </g>\r\n    <g id=\"ytick_3\">\r\n     <g id=\"line2d_11\">\r\n      <g>\r\n       <use style=\"stroke:#000000;stroke-width:0.8;\" x=\"39.65\" xlink:href=\"#mf8d9120cd2\" y=\"151.737693\"/>\r\n      </g>\r\n     </g>\r\n     <g id=\"text_11\">\r\n      <!-- 1000 -->\r\n      <g transform=\"translate(7.2 155.536912)scale(0.1 -0.1)\">\r\n       <use xlink:href=\"#DejaVuSans-49\"/>\r\n       <use x=\"63.623047\" xlink:href=\"#DejaVuSans-48\"/>\r\n       <use x=\"127.246094\" xlink:href=\"#DejaVuSans-48\"/>\r\n       <use x=\"190.869141\" xlink:href=\"#DejaVuSans-48\"/>\r\n      </g>\r\n     </g>\r\n    </g>\r\n    <g id=\"ytick_4\">\r\n     <g id=\"line2d_12\">\r\n      <g>\r\n       <use style=\"stroke:#000000;stroke-width:0.8;\" x=\"39.65\" xlink:href=\"#mf8d9120cd2\" y=\"120.228358\"/>\r\n      </g>\r\n     </g>\r\n     <g id=\"text_12\">\r\n      <!-- 1500 -->\r\n      <g transform=\"translate(7.2 124.027577)scale(0.1 -0.1)\">\r\n       <use xlink:href=\"#DejaVuSans-49\"/>\r\n       <use x=\"63.623047\" xlink:href=\"#DejaVuSans-53\"/>\r\n       <use x=\"127.246094\" xlink:href=\"#DejaVuSans-48\"/>\r\n       <use x=\"190.869141\" xlink:href=\"#DejaVuSans-48\"/>\r\n      </g>\r\n     </g>\r\n    </g>\r\n    <g id=\"ytick_5\">\r\n     <g id=\"line2d_13\">\r\n      <g>\r\n       <use style=\"stroke:#000000;stroke-width:0.8;\" x=\"39.65\" xlink:href=\"#mf8d9120cd2\" y=\"88.719023\"/>\r\n      </g>\r\n     </g>\r\n     <g id=\"text_13\">\r\n      <!-- 2000 -->\r\n      <g transform=\"translate(7.2 92.518242)scale(0.1 -0.1)\">\r\n       <use xlink:href=\"#DejaVuSans-50\"/>\r\n       <use x=\"63.623047\" xlink:href=\"#DejaVuSans-48\"/>\r\n       <use x=\"127.246094\" xlink:href=\"#DejaVuSans-48\"/>\r\n       <use x=\"190.869141\" xlink:href=\"#DejaVuSans-48\"/>\r\n      </g>\r\n     </g>\r\n    </g>\r\n    <g id=\"ytick_6\">\r\n     <g id=\"line2d_14\">\r\n      <g>\r\n       <use style=\"stroke:#000000;stroke-width:0.8;\" x=\"39.65\" xlink:href=\"#mf8d9120cd2\" y=\"57.209688\"/>\r\n      </g>\r\n     </g>\r\n     <g id=\"text_14\">\r\n      <!-- 2500 -->\r\n      <g transform=\"translate(7.2 61.008906)scale(0.1 -0.1)\">\r\n       <use xlink:href=\"#DejaVuSans-50\"/>\r\n       <use x=\"63.623047\" xlink:href=\"#DejaVuSans-53\"/>\r\n       <use x=\"127.246094\" xlink:href=\"#DejaVuSans-48\"/>\r\n       <use x=\"190.869141\" xlink:href=\"#DejaVuSans-48\"/>\r\n      </g>\r\n     </g>\r\n    </g>\r\n    <g id=\"ytick_7\">\r\n     <g id=\"line2d_15\">\r\n      <g>\r\n       <use style=\"stroke:#000000;stroke-width:0.8;\" x=\"39.65\" xlink:href=\"#mf8d9120cd2\" y=\"25.700352\"/>\r\n      </g>\r\n     </g>\r\n     <g id=\"text_15\">\r\n      <!-- 3000 -->\r\n      <g transform=\"translate(7.2 29.499571)scale(0.1 -0.1)\">\r\n       <use xlink:href=\"#DejaVuSans-51\"/>\r\n       <use x=\"63.623047\" xlink:href=\"#DejaVuSans-48\"/>\r\n       <use x=\"127.246094\" xlink:href=\"#DejaVuSans-48\"/>\r\n       <use x=\"190.869141\" xlink:href=\"#DejaVuSans-48\"/>\r\n      </g>\r\n     </g>\r\n    </g>\r\n   </g>\r\n   <g id=\"patch_3\">\r\n    <path d=\"M 39.65 224.64 \r\nL 39.65 7.2 \r\n\" style=\"fill:none;stroke:#000000;stroke-linecap:square;stroke-linejoin:miter;stroke-width:0.8;\"/>\r\n   </g>\r\n   <g id=\"patch_4\">\r\n    <path d=\"M 374.45 224.64 \r\nL 374.45 7.2 \r\n\" style=\"fill:none;stroke:#000000;stroke-linecap:square;stroke-linejoin:miter;stroke-width:0.8;\"/>\r\n   </g>\r\n   <g id=\"patch_5\">\r\n    <path d=\"M 39.65 224.64 \r\nL 374.45 224.64 \r\n\" style=\"fill:none;stroke:#000000;stroke-linecap:square;stroke-linejoin:miter;stroke-width:0.8;\"/>\r\n   </g>\r\n   <g id=\"patch_6\">\r\n    <path d=\"M 39.65 7.2 \r\nL 374.45 7.2 \r\n\" style=\"fill:none;stroke:#000000;stroke-linecap:square;stroke-linejoin:miter;stroke-width:0.8;\"/>\r\n   </g>\r\n   <g id=\"legend_1\">\r\n    <g id=\"patch_7\">\r\n     <path d=\"M 46.65 44.55625 \r\nL 85.598438 44.55625 \r\nQ 87.598438 44.55625 87.598438 42.55625 \r\nL 87.598438 14.2 \r\nQ 87.598438 12.2 85.598438 12.2 \r\nL 46.65 12.2 \r\nQ 44.65 12.2 44.65 14.2 \r\nL 44.65 42.55625 \r\nQ 44.65 44.55625 46.65 44.55625 \r\nz\r\n\" style=\"fill:#ffffff;opacity:0.8;stroke:#cccccc;stroke-linejoin:miter;\"/>\r\n    </g>\r\n    <g id=\"PathCollection_3\">\r\n     <g>\r\n      <use style=\"fill:#1f77b4;stroke:#1f77b4;\" x=\"58.65\" xlink:href=\"#m3b8428b64b\" y=\"21.173437\"/>\r\n     </g>\r\n    </g>\r\n    <g id=\"text_16\">\r\n     <!-- I -->\r\n     <defs>\r\n      <path d=\"M 9.8125 72.90625 \r\nL 19.671875 72.90625 \r\nL 19.671875 0 \r\nL 9.8125 0 \r\nz\r\n\" id=\"DejaVuSans-73\"/>\r\n     </defs>\r\n     <g transform=\"translate(76.65 23.798437)scale(0.1 -0.1)\">\r\n      <use xlink:href=\"#DejaVuSans-73\"/>\r\n     </g>\r\n    </g>\r\n    <g id=\"PathCollection_4\">\r\n     <g>\r\n      <use style=\"fill:#ff7f0e;stroke:#ff7f0e;\" x=\"58.65\" xlink:href=\"#mf4b6018c92\" y=\"35.851562\"/>\r\n     </g>\r\n    </g>\r\n    <g id=\"text_17\">\r\n     <!-- R -->\r\n     <defs>\r\n      <path d=\"M 44.390625 34.1875 \r\nQ 47.5625 33.109375 50.5625 29.59375 \r\nQ 53.5625 26.078125 56.59375 19.921875 \r\nL 66.609375 0 \r\nL 56 0 \r\nL 46.6875 18.703125 \r\nQ 43.0625 26.03125 39.671875 28.421875 \r\nQ 36.28125 30.8125 30.421875 30.8125 \r\nL 19.671875 30.8125 \r\nL 19.671875 0 \r\nL 9.8125 0 \r\nL 9.8125 72.90625 \r\nL 32.078125 72.90625 \r\nQ 44.578125 72.90625 50.734375 67.671875 \r\nQ 56.890625 62.453125 56.890625 51.90625 \r\nQ 56.890625 45.015625 53.6875 40.46875 \r\nQ 50.484375 35.9375 44.390625 34.1875 \r\nz\r\nM 19.671875 64.796875 \r\nL 19.671875 38.921875 \r\nL 32.078125 38.921875 \r\nQ 39.203125 38.921875 42.84375 42.21875 \r\nQ 46.484375 45.515625 46.484375 51.90625 \r\nQ 46.484375 58.296875 42.84375 61.546875 \r\nQ 39.203125 64.796875 32.078125 64.796875 \r\nz\r\n\" id=\"DejaVuSans-82\"/>\r\n     </defs>\r\n     <g transform=\"translate(76.65 38.476562)scale(0.1 -0.1)\">\r\n      <use xlink:href=\"#DejaVuSans-82\"/>\r\n     </g>\r\n    </g>\r\n   </g>\r\n  </g>\r\n </g>\r\n <defs>\r\n  <clipPath id=\"pfadf6ed532\">\r\n   <rect height=\"217.44\" width=\"334.8\" x=\"39.65\" y=\"7.2\"/>\r\n  </clipPath>\r\n </defs>\r\n</svg>\r\n",
            "image/png": "[encoded data removed]"
          },
          "metadata": {
            "needs_background": "light"
          }
        }
      ],
      "source": [
        "fig, ax = plt.subplots()\n",
        "#ax.scatter(sir_scenario1[:, 0], sir_scenario1[:, 1], label=\"S\")\n",
        "ax.scatter(sir_scenario1[:, 0], sir_scenario1[:, 2], label=\"I\")\n",
        "ax.scatter(sir_scenario1[:, 0], sir_scenario1[:, 3], label=\"R\")\n",
        "ax.legend()\n",
        "plt.show()"
      ]
    },
    {
      "cell_type": "code",
      "execution_count": 148,
      "metadata": {},
      "outputs": [
        {
          "output_type": "display_data",
          "data": {
            "text/plain": "<Figure size 432x288 with 1 Axes>",
            "image/svg+xml": "<?xml version=\"1.0\" encoding=\"utf-8\" standalone=\"no\"?>\r\n<!DOCTYPE svg PUBLIC \"-//W3C//DTD SVG 1.1//EN\"\r\n  \"http://www.w3.org/Graphics/SVG/1.1/DTD/svg11.dtd\">\r\n<!-- Created with matplotlib (https://matplotlib.org/) -->\r\n<svg height=\"248.518125pt\" version=\"1.1\" viewBox=\"0 0 381.65 248.518125\" width=\"381.65pt\" xmlns=\"http://www.w3.org/2000/svg\" xmlns:xlink=\"http://www.w3.org/1999/xlink\">\r\n <defs>\r\n  <style type=\"text/css\">\r\n*{stroke-linecap:butt;stroke-linejoin:round;}\r\n  </style>\r\n </defs>\r\n <g id=\"figure_1\">\r\n  <g id=\"patch_1\">\r\n   <path d=\"M -0 248.518125 \r\nL 381.65 248.518125 \r\nL 381.65 0 \r\nL -0 0 \r\nz\r\n\" style=\"fill:none;\"/>\r\n  </g>\r\n  <g id=\"axes_1\">\r\n   <g id=\"patch_2\">\r\n    <path d=\"M 39.65 224.64 \r\nL 374.45 224.64 \r\nL 374.45 7.2 \r\nL 39.65 7.2 \r\nz\r\n\" style=\"fill:#ffffff;\"/>\r\n   </g>\r\n   <g id=\"PathCollection_1\">\r\n    <defs>\r\n     <path d=\"M 0 3 \r\nC 0.795609 3 1.55874 2.683901 2.12132 2.12132 \r\nC 2.683901 1.55874 3 0.795609 3 0 \r\nC 3 -0.795609 2.683901 -1.55874 2.12132 -2.12132 \r\nC 1.55874 -2.683901 0.795609 -3 0 -3 \r\nC -0.795609 -3 -1.55874 -2.683901 -2.12132 -2.12132 \r\nC -2.683901 -1.55874 -3 -0.795609 -3 0 \r\nC -3 0.795609 -2.683901 1.55874 -2.12132 2.12132 \r\nC -1.55874 2.683901 -0.795609 3 0 3 \r\nz\r\n\" id=\"mc160ed06e4\" style=\"stroke:#1f77b4;\"/>\r\n    </defs>\r\n    <g clip-path=\"url(#p32dfe40e3d)\">\r\n     <use style=\"fill:#1f77b4;stroke:#1f77b4;\" x=\"54.868182\" xlink:href=\"#mc160ed06e4\" y=\"214.731542\"/>\r\n     <use style=\"fill:#1f77b4;stroke:#1f77b4;\" x=\"55.305486\" xlink:href=\"#mc160ed06e4\" y=\"214.728932\"/>\r\n     <use style=\"fill:#1f77b4;stroke:#1f77b4;\" x=\"55.74279\" xlink:href=\"#mc160ed06e4\" y=\"214.726048\"/>\r\n     <use style=\"fill:#1f77b4;stroke:#1f77b4;\" x=\"56.180094\" xlink:href=\"#mc160ed06e4\" y=\"214.72286\"/>\r\n     <use style=\"fill:#1f77b4;stroke:#1f77b4;\" x=\"56.617398\" xlink:href=\"#mc160ed06e4\" y=\"214.719338\"/>\r\n     <use style=\"fill:#1f77b4;stroke:#1f77b4;\" x=\"57.054702\" xlink:href=\"#mc160ed06e4\" y=\"214.715446\"/>\r\n     <use style=\"fill:#1f77b4;stroke:#1f77b4;\" x=\"57.492006\" xlink:href=\"#mc160ed06e4\" y=\"214.711146\"/>\r\n     <use style=\"fill:#1f77b4;stroke:#1f77b4;\" x=\"57.92931\" xlink:href=\"#mc160ed06e4\" y=\"214.706393\"/>\r\n     <use style=\"fill:#1f77b4;stroke:#1f77b4;\" x=\"58.366614\" xlink:href=\"#mc160ed06e4\" y=\"214.701141\"/>\r\n     <use style=\"fill:#1f77b4;stroke:#1f77b4;\" x=\"58.803918\" xlink:href=\"#mc160ed06e4\" y=\"214.695337\"/>\r\n     <use style=\"fill:#1f77b4;stroke:#1f77b4;\" x=\"59.241223\" xlink:href=\"#mc160ed06e4\" y=\"214.688922\"/>\r\n     <use style=\"fill:#1f77b4;stroke:#1f77b4;\" x=\"59.678527\" xlink:href=\"#mc160ed06e4\" y=\"214.681833\"/>\r\n     <use style=\"fill:#1f77b4;stroke:#1f77b4;\" x=\"60.115831\" xlink:href=\"#mc160ed06e4\" y=\"214.674004\"/>\r\n     <use style=\"fill:#1f77b4;stroke:#1f77b4;\" x=\"60.553135\" xlink:href=\"#mc160ed06e4\" y=\"214.665359\"/>\r\n     <use style=\"fill:#1f77b4;stroke:#1f77b4;\" x=\"60.990439\" xlink:href=\"#mc160ed06e4\" y=\"214.655809\"/>\r\n     <use style=\"fill:#1f77b4;stroke:#1f77b4;\" x=\"61.427743\" xlink:href=\"#mc160ed06e4\" y=\"214.645258\"/>\r\n     <use style=\"fill:#1f77b4;stroke:#1f77b4;\" x=\"61.865047\" xlink:href=\"#mc160ed06e4\" y=\"214.633598\"/>\r\n     <use style=\"fill:#1f77b4;stroke:#1f77b4;\" x=\"62.302351\" xlink:href=\"#mc160ed06e4\" y=\"214.620711\"/>\r\n     <use style=\"fill:#1f77b4;stroke:#1f77b4;\" x=\"62.739655\" xlink:href=\"#mc160ed06e4\" y=\"214.606467\"/>\r\n     <use style=\"fill:#1f77b4;stroke:#1f77b4;\" x=\"63.176959\" xlink:href=\"#mc160ed06e4\" y=\"214.590729\"/>\r\n     <use style=\"fill:#1f77b4;stroke:#1f77b4;\" x=\"63.614263\" xlink:href=\"#mc160ed06e4\" y=\"214.573348\"/>\r\n     <use style=\"fill:#1f77b4;stroke:#1f77b4;\" x=\"64.051567\" xlink:href=\"#mc160ed06e4\" y=\"214.554155\"/>\r\n     <use style=\"fill:#1f77b4;stroke:#1f77b4;\" x=\"64.488871\" xlink:href=\"#mc160ed06e4\" y=\"214.532956\"/>\r\n     <use style=\"fill:#1f77b4;stroke:#1f77b4;\" x=\"64.926176\" xlink:href=\"#mc160ed06e4\" y=\"214.509549\"/>\r\n     <use style=\"fill:#1f77b4;stroke:#1f77b4;\" x=\"65.36348\" xlink:href=\"#mc160ed06e4\" y=\"214.483707\"/>\r\n     <use style=\"fill:#1f77b4;stroke:#1f77b4;\" x=\"65.800784\" xlink:href=\"#mc160ed06e4\" y=\"214.455176\"/>\r\n     <use style=\"fill:#1f77b4;stroke:#1f77b4;\" x=\"66.238088\" xlink:href=\"#mc160ed06e4\" y=\"214.423671\"/>\r\n     <use style=\"fill:#1f77b4;stroke:#1f77b4;\" x=\"66.675392\" xlink:href=\"#mc160ed06e4\" y=\"214.388882\"/>\r\n     <use style=\"fill:#1f77b4;stroke:#1f77b4;\" x=\"67.112696\" xlink:href=\"#mc160ed06e4\" y=\"214.35047\"/>\r\n     <use style=\"fill:#1f77b4;stroke:#1f77b4;\" x=\"67.55\" xlink:href=\"#mc160ed06e4\" y=\"214.308066\"/>\r\n     <use style=\"fill:#1f77b4;stroke:#1f77b4;\" x=\"67.987304\" xlink:href=\"#mc160ed06e4\" y=\"214.261285\"/>\r\n     <use style=\"fill:#1f77b4;stroke:#1f77b4;\" x=\"68.424608\" xlink:href=\"#mc160ed06e4\" y=\"214.209665\"/>\r\n     <use style=\"fill:#1f77b4;stroke:#1f77b4;\" x=\"68.861912\" xlink:href=\"#mc160ed06e4\" y=\"214.152709\"/>\r\n     <use style=\"fill:#1f77b4;stroke:#1f77b4;\" x=\"69.299216\" xlink:href=\"#mc160ed06e4\" y=\"214.089891\"/>\r\n     <use style=\"fill:#1f77b4;stroke:#1f77b4;\" x=\"69.73652\" xlink:href=\"#mc160ed06e4\" y=\"214.020631\"/>\r\n     <use style=\"fill:#1f77b4;stroke:#1f77b4;\" x=\"70.173824\" xlink:href=\"#mc160ed06e4\" y=\"213.944279\"/>\r\n     <use style=\"fill:#1f77b4;stroke:#1f77b4;\" x=\"70.611129\" xlink:href=\"#mc160ed06e4\" y=\"213.860116\"/>\r\n     <use style=\"fill:#1f77b4;stroke:#1f77b4;\" x=\"71.048433\" xlink:href=\"#mc160ed06e4\" y=\"213.767355\"/>\r\n     <use style=\"fill:#1f77b4;stroke:#1f77b4;\" x=\"71.485737\" xlink:href=\"#mc160ed06e4\" y=\"213.665142\"/>\r\n     <use style=\"fill:#1f77b4;stroke:#1f77b4;\" x=\"71.923041\" xlink:href=\"#mc160ed06e4\" y=\"213.552551\"/>\r\n     <use style=\"fill:#1f77b4;stroke:#1f77b4;\" x=\"72.360345\" xlink:href=\"#mc160ed06e4\" y=\"213.428589\"/>\r\n     <use style=\"fill:#1f77b4;stroke:#1f77b4;\" x=\"72.797649\" xlink:href=\"#mc160ed06e4\" y=\"213.292196\"/>\r\n     <use style=\"fill:#1f77b4;stroke:#1f77b4;\" x=\"73.234953\" xlink:href=\"#mc160ed06e4\" y=\"213.142295\"/>\r\n     <use style=\"fill:#1f77b4;stroke:#1f77b4;\" x=\"73.672257\" xlink:href=\"#mc160ed06e4\" y=\"212.977649\"/>\r\n     <use style=\"fill:#1f77b4;stroke:#1f77b4;\" x=\"74.109561\" xlink:href=\"#mc160ed06e4\" y=\"212.796772\"/>\r\n     <use style=\"fill:#1f77b4;stroke:#1f77b4;\" x=\"74.546865\" xlink:href=\"#mc160ed06e4\" y=\"212.598087\"/>\r\n     <use style=\"fill:#1f77b4;stroke:#1f77b4;\" x=\"74.984169\" xlink:href=\"#mc160ed06e4\" y=\"212.379927\"/>\r\n     <use style=\"fill:#1f77b4;stroke:#1f77b4;\" x=\"75.421473\" xlink:href=\"#mc160ed06e4\" y=\"212.140539\"/>\r\n     <use style=\"fill:#1f77b4;stroke:#1f77b4;\" x=\"75.858777\" xlink:href=\"#mc160ed06e4\" y=\"211.87808\"/>\r\n     <use style=\"fill:#1f77b4;stroke:#1f77b4;\" x=\"76.296082\" xlink:href=\"#mc160ed06e4\" y=\"211.59062\"/>\r\n     <use style=\"fill:#1f77b4;stroke:#1f77b4;\" x=\"76.733386\" xlink:href=\"#mc160ed06e4\" y=\"211.276141\"/>\r\n     <use style=\"fill:#1f77b4;stroke:#1f77b4;\" x=\"77.17069\" xlink:href=\"#mc160ed06e4\" y=\"210.932534\"/>\r\n     <use style=\"fill:#1f77b4;stroke:#1f77b4;\" x=\"77.607994\" xlink:href=\"#mc160ed06e4\" y=\"210.557605\"/>\r\n     <use style=\"fill:#1f77b4;stroke:#1f77b4;\" x=\"78.045298\" xlink:href=\"#mc160ed06e4\" y=\"210.14907\"/>\r\n     <use style=\"fill:#1f77b4;stroke:#1f77b4;\" x=\"78.482602\" xlink:href=\"#mc160ed06e4\" y=\"209.704557\"/>\r\n     <use style=\"fill:#1f77b4;stroke:#1f77b4;\" x=\"78.919906\" xlink:href=\"#mc160ed06e4\" y=\"209.221601\"/>\r\n     <use style=\"fill:#1f77b4;stroke:#1f77b4;\" x=\"79.35721\" xlink:href=\"#mc160ed06e4\" y=\"208.697653\"/>\r\n     <use style=\"fill:#1f77b4;stroke:#1f77b4;\" x=\"79.794514\" xlink:href=\"#mc160ed06e4\" y=\"208.13024\"/>\r\n     <use style=\"fill:#1f77b4;stroke:#1f77b4;\" x=\"80.231818\" xlink:href=\"#mc160ed06e4\" y=\"207.517007\"/>\r\n     <use style=\"fill:#1f77b4;stroke:#1f77b4;\" x=\"80.669122\" xlink:href=\"#mc160ed06e4\" y=\"206.8557\"/>\r\n     <use style=\"fill:#1f77b4;stroke:#1f77b4;\" x=\"81.106426\" xlink:href=\"#mc160ed06e4\" y=\"206.14427\"/>\r\n     <use style=\"fill:#1f77b4;stroke:#1f77b4;\" x=\"81.54373\" xlink:href=\"#mc160ed06e4\" y=\"205.382253\"/>\r\n     <use style=\"fill:#1f77b4;stroke:#1f77b4;\" x=\"81.981034\" xlink:href=\"#mc160ed06e4\" y=\"204.567645\"/>\r\n     <use style=\"fill:#1f77b4;stroke:#1f77b4;\" x=\"82.418339\" xlink:href=\"#mc160ed06e4\" y=\"203.698153\"/>\r\n     <use style=\"fill:#1f77b4;stroke:#1f77b4;\" x=\"82.855643\" xlink:href=\"#mc160ed06e4\" y=\"202.772513\"/>\r\n     <use style=\"fill:#1f77b4;stroke:#1f77b4;\" x=\"83.292947\" xlink:href=\"#mc160ed06e4\" y=\"201.790499\"/>\r\n     <use style=\"fill:#1f77b4;stroke:#1f77b4;\" x=\"83.730251\" xlink:href=\"#mc160ed06e4\" y=\"200.752916\"/>\r\n     <use style=\"fill:#1f77b4;stroke:#1f77b4;\" x=\"84.167555\" xlink:href=\"#mc160ed06e4\" y=\"199.661604\"/>\r\n     <use style=\"fill:#1f77b4;stroke:#1f77b4;\" x=\"84.604859\" xlink:href=\"#mc160ed06e4\" y=\"198.519439\"/>\r\n     <use style=\"fill:#1f77b4;stroke:#1f77b4;\" x=\"85.042163\" xlink:href=\"#mc160ed06e4\" y=\"197.330328\"/>\r\n     <use style=\"fill:#1f77b4;stroke:#1f77b4;\" x=\"85.479467\" xlink:href=\"#mc160ed06e4\" y=\"196.099214\"/>\r\n     <use style=\"fill:#1f77b4;stroke:#1f77b4;\" x=\"85.916771\" xlink:href=\"#mc160ed06e4\" y=\"194.832074\"/>\r\n     <use style=\"fill:#1f77b4;stroke:#1f77b4;\" x=\"86.354075\" xlink:href=\"#mc160ed06e4\" y=\"193.535919\"/>\r\n     <use style=\"fill:#1f77b4;stroke:#1f77b4;\" x=\"86.791379\" xlink:href=\"#mc160ed06e4\" y=\"192.218793\"/>\r\n     <use style=\"fill:#1f77b4;stroke:#1f77b4;\" x=\"87.228683\" xlink:href=\"#mc160ed06e4\" y=\"190.886913\"/>\r\n     <use style=\"fill:#1f77b4;stroke:#1f77b4;\" x=\"87.665987\" xlink:href=\"#mc160ed06e4\" y=\"189.548907\"/>\r\n     <use style=\"fill:#1f77b4;stroke:#1f77b4;\" x=\"88.103292\" xlink:href=\"#mc160ed06e4\" y=\"188.219079\"/>\r\n     <use style=\"fill:#1f77b4;stroke:#1f77b4;\" x=\"88.540596\" xlink:href=\"#mc160ed06e4\" y=\"186.911025\"/>\r\n     <use style=\"fill:#1f77b4;stroke:#1f77b4;\" x=\"88.9779\" xlink:href=\"#mc160ed06e4\" y=\"185.637583\"/>\r\n     <use style=\"fill:#1f77b4;stroke:#1f77b4;\" x=\"89.415204\" xlink:href=\"#mc160ed06e4\" y=\"184.410837\"/>\r\n     <use style=\"fill:#1f77b4;stroke:#1f77b4;\" x=\"89.852508\" xlink:href=\"#mc160ed06e4\" y=\"183.242117\"/>\r\n     <use style=\"fill:#1f77b4;stroke:#1f77b4;\" x=\"90.289812\" xlink:href=\"#mc160ed06e4\" y=\"182.141995\"/>\r\n     <use style=\"fill:#1f77b4;stroke:#1f77b4;\" x=\"90.727116\" xlink:href=\"#mc160ed06e4\" y=\"181.120289\"/>\r\n     <use style=\"fill:#1f77b4;stroke:#1f77b4;\" x=\"91.16442\" xlink:href=\"#mc160ed06e4\" y=\"180.186064\"/>\r\n     <use style=\"fill:#1f77b4;stroke:#1f77b4;\" x=\"91.601724\" xlink:href=\"#mc160ed06e4\" y=\"179.347626\"/>\r\n     <use style=\"fill:#1f77b4;stroke:#1f77b4;\" x=\"92.039028\" xlink:href=\"#mc160ed06e4\" y=\"178.612528\"/>\r\n     <use style=\"fill:#1f77b4;stroke:#1f77b4;\" x=\"92.476332\" xlink:href=\"#mc160ed06e4\" y=\"177.987568\"/>\r\n     <use style=\"fill:#1f77b4;stroke:#1f77b4;\" x=\"92.913636\" xlink:href=\"#mc160ed06e4\" y=\"177.478788\"/>\r\n     <use style=\"fill:#1f77b4;stroke:#1f77b4;\" x=\"93.35094\" xlink:href=\"#mc160ed06e4\" y=\"177.093187\"/>\r\n     <use style=\"fill:#1f77b4;stroke:#1f77b4;\" x=\"93.788245\" xlink:href=\"#mc160ed06e4\" y=\"176.828804\"/>\r\n     <use style=\"fill:#1f77b4;stroke:#1f77b4;\" x=\"94.225549\" xlink:href=\"#mc160ed06e4\" y=\"176.686219\"/>\r\n     <use style=\"fill:#1f77b4;stroke:#1f77b4;\" x=\"94.662853\" xlink:href=\"#mc160ed06e4\" y=\"176.663719\"/>\r\n     <use style=\"fill:#1f77b4;stroke:#1f77b4;\" x=\"95.100157\" xlink:href=\"#mc160ed06e4\" y=\"176.756345\"/>\r\n     <use style=\"fill:#1f77b4;stroke:#1f77b4;\" x=\"95.537461\" xlink:href=\"#mc160ed06e4\" y=\"176.958747\"/>\r\n     <use style=\"fill:#1f77b4;stroke:#1f77b4;\" x=\"95.974765\" xlink:href=\"#mc160ed06e4\" y=\"177.26522\"/>\r\n     <use style=\"fill:#1f77b4;stroke:#1f77b4;\" x=\"96.412069\" xlink:href=\"#mc160ed06e4\" y=\"177.669704\"/>\r\n     <use style=\"fill:#1f77b4;stroke:#1f77b4;\" x=\"96.849373\" xlink:href=\"#mc160ed06e4\" y=\"178.165785\"/>\r\n     <use style=\"fill:#1f77b4;stroke:#1f77b4;\" x=\"97.286677\" xlink:href=\"#mc160ed06e4\" y=\"178.746697\"/>\r\n     <use style=\"fill:#1f77b4;stroke:#1f77b4;\" x=\"97.723981\" xlink:href=\"#mc160ed06e4\" y=\"179.405316\"/>\r\n     <use style=\"fill:#1f77b4;stroke:#1f77b4;\" x=\"98.161285\" xlink:href=\"#mc160ed06e4\" y=\"180.134168\"/>\r\n     <use style=\"fill:#1f77b4;stroke:#1f77b4;\" x=\"98.598589\" xlink:href=\"#mc160ed06e4\" y=\"180.92542\"/>\r\n     <use style=\"fill:#1f77b4;stroke:#1f77b4;\" x=\"99.035893\" xlink:href=\"#mc160ed06e4\" y=\"181.770889\"/>\r\n     <use style=\"fill:#1f77b4;stroke:#1f77b4;\" x=\"99.473197\" xlink:href=\"#mc160ed06e4\" y=\"182.662036\"/>\r\n     <use style=\"fill:#1f77b4;stroke:#1f77b4;\" x=\"99.910502\" xlink:href=\"#mc160ed06e4\" y=\"183.589968\"/>\r\n     <use style=\"fill:#1f77b4;stroke:#1f77b4;\" x=\"100.347806\" xlink:href=\"#mc160ed06e4\" y=\"184.545436\"/>\r\n     <use style=\"fill:#1f77b4;stroke:#1f77b4;\" x=\"100.78511\" xlink:href=\"#mc160ed06e4\" y=\"185.51884\"/>\r\n     <use style=\"fill:#1f77b4;stroke:#1f77b4;\" x=\"101.222414\" xlink:href=\"#mc160ed06e4\" y=\"186.500223\"/>\r\n     <use style=\"fill:#1f77b4;stroke:#1f77b4;\" x=\"101.659718\" xlink:href=\"#mc160ed06e4\" y=\"187.480741\"/>\r\n     <use style=\"fill:#1f77b4;stroke:#1f77b4;\" x=\"102.097022\" xlink:href=\"#mc160ed06e4\" y=\"188.462408\"/>\r\n     <use style=\"fill:#1f77b4;stroke:#1f77b4;\" x=\"102.534326\" xlink:href=\"#mc160ed06e4\" y=\"189.442373\"/>\r\n     <use style=\"fill:#1f77b4;stroke:#1f77b4;\" x=\"102.97163\" xlink:href=\"#mc160ed06e4\" y=\"190.416388\"/>\r\n     <use style=\"fill:#1f77b4;stroke:#1f77b4;\" x=\"103.408934\" xlink:href=\"#mc160ed06e4\" y=\"191.380627\"/>\r\n     <use style=\"fill:#1f77b4;stroke:#1f77b4;\" x=\"103.846238\" xlink:href=\"#mc160ed06e4\" y=\"192.331682\"/>\r\n     <use style=\"fill:#1f77b4;stroke:#1f77b4;\" x=\"104.283542\" xlink:href=\"#mc160ed06e4\" y=\"193.266569\"/>\r\n     <use style=\"fill:#1f77b4;stroke:#1f77b4;\" x=\"104.720846\" xlink:href=\"#mc160ed06e4\" y=\"194.182722\"/>\r\n     <use style=\"fill:#1f77b4;stroke:#1f77b4;\" x=\"105.15815\" xlink:href=\"#mc160ed06e4\" y=\"195.077997\"/>\r\n     <use style=\"fill:#1f77b4;stroke:#1f77b4;\" x=\"105.595455\" xlink:href=\"#mc160ed06e4\" y=\"195.950668\"/>\r\n     <use style=\"fill:#1f77b4;stroke:#1f77b4;\" x=\"106.032759\" xlink:href=\"#mc160ed06e4\" y=\"196.799515\"/>\r\n     <use style=\"fill:#1f77b4;stroke:#1f77b4;\" x=\"106.470063\" xlink:href=\"#mc160ed06e4\" y=\"197.623298\"/>\r\n     <use style=\"fill:#1f77b4;stroke:#1f77b4;\" x=\"106.907367\" xlink:href=\"#mc160ed06e4\" y=\"198.420918\"/>\r\n     <use style=\"fill:#1f77b4;stroke:#1f77b4;\" x=\"107.344671\" xlink:href=\"#mc160ed06e4\" y=\"199.191466\"/>\r\n     <use style=\"fill:#1f77b4;stroke:#1f77b4;\" x=\"107.781975\" xlink:href=\"#mc160ed06e4\" y=\"199.934997\"/>\r\n     <use style=\"fill:#1f77b4;stroke:#1f77b4;\" x=\"108.219279\" xlink:href=\"#mc160ed06e4\" y=\"200.651643\"/>\r\n     <use style=\"fill:#1f77b4;stroke:#1f77b4;\" x=\"108.656583\" xlink:href=\"#mc160ed06e4\" y=\"201.341585\"/>\r\n     <use style=\"fill:#1f77b4;stroke:#1f77b4;\" x=\"109.093887\" xlink:href=\"#mc160ed06e4\" y=\"202.005051\"/>\r\n     <use style=\"fill:#1f77b4;stroke:#1f77b4;\" x=\"109.531191\" xlink:href=\"#mc160ed06e4\" y=\"202.642316\"/>\r\n     <use style=\"fill:#1f77b4;stroke:#1f77b4;\" x=\"109.968495\" xlink:href=\"#mc160ed06e4\" y=\"203.253701\"/>\r\n     <use style=\"fill:#1f77b4;stroke:#1f77b4;\" x=\"110.405799\" xlink:href=\"#mc160ed06e4\" y=\"203.839578\"/>\r\n     <use style=\"fill:#1f77b4;stroke:#1f77b4;\" x=\"110.843103\" xlink:href=\"#mc160ed06e4\" y=\"204.400363\"/>\r\n     <use style=\"fill:#1f77b4;stroke:#1f77b4;\" x=\"111.280408\" xlink:href=\"#mc160ed06e4\" y=\"204.93652\"/>\r\n     <use style=\"fill:#1f77b4;stroke:#1f77b4;\" x=\"111.717712\" xlink:href=\"#mc160ed06e4\" y=\"205.448561\"/>\r\n     <use style=\"fill:#1f77b4;stroke:#1f77b4;\" x=\"112.155016\" xlink:href=\"#mc160ed06e4\" y=\"205.937046\"/>\r\n     <use style=\"fill:#1f77b4;stroke:#1f77b4;\" x=\"112.59232\" xlink:href=\"#mc160ed06e4\" y=\"206.40258\"/>\r\n     <use style=\"fill:#1f77b4;stroke:#1f77b4;\" x=\"113.029624\" xlink:href=\"#mc160ed06e4\" y=\"206.845818\"/>\r\n     <use style=\"fill:#1f77b4;stroke:#1f77b4;\" x=\"113.466928\" xlink:href=\"#mc160ed06e4\" y=\"207.267461\"/>\r\n     <use style=\"fill:#1f77b4;stroke:#1f77b4;\" x=\"113.904232\" xlink:href=\"#mc160ed06e4\" y=\"207.668257\"/>\r\n     <use style=\"fill:#1f77b4;stroke:#1f77b4;\" x=\"114.341536\" xlink:href=\"#mc160ed06e4\" y=\"208.049002\"/>\r\n     <use style=\"fill:#1f77b4;stroke:#1f77b4;\" x=\"114.77884\" xlink:href=\"#mc160ed06e4\" y=\"208.410539\"/>\r\n     <use style=\"fill:#1f77b4;stroke:#1f77b4;\" x=\"115.216144\" xlink:href=\"#mc160ed06e4\" y=\"208.753759\"/>\r\n     <use style=\"fill:#1f77b4;stroke:#1f77b4;\" x=\"115.653448\" xlink:href=\"#mc160ed06e4\" y=\"209.079589\"/>\r\n     <use style=\"fill:#1f77b4;stroke:#1f77b4;\" x=\"116.090752\" xlink:href=\"#mc160ed06e4\" y=\"209.38883\"/>\r\n     <use style=\"fill:#1f77b4;stroke:#1f77b4;\" x=\"116.528056\" xlink:href=\"#mc160ed06e4\" y=\"209.682191\"/>\r\n     <use style=\"fill:#1f77b4;stroke:#1f77b4;\" x=\"116.965361\" xlink:href=\"#mc160ed06e4\" y=\"209.960375\"/>\r\n     <use style=\"fill:#1f77b4;stroke:#1f77b4;\" x=\"117.402665\" xlink:href=\"#mc160ed06e4\" y=\"210.224063\"/>\r\n     <use style=\"fill:#1f77b4;stroke:#1f77b4;\" x=\"117.839969\" xlink:href=\"#mc160ed06e4\" y=\"210.473925\"/>\r\n     <use style=\"fill:#1f77b4;stroke:#1f77b4;\" x=\"118.277273\" xlink:href=\"#mc160ed06e4\" y=\"210.710611\"/>\r\n     <use style=\"fill:#1f77b4;stroke:#1f77b4;\" x=\"118.714577\" xlink:href=\"#mc160ed06e4\" y=\"210.934763\"/>\r\n     <use style=\"fill:#1f77b4;stroke:#1f77b4;\" x=\"119.151881\" xlink:href=\"#mc160ed06e4\" y=\"211.146973\"/>\r\n     <use style=\"fill:#1f77b4;stroke:#1f77b4;\" x=\"119.589185\" xlink:href=\"#mc160ed06e4\" y=\"211.347944\"/>\r\n     <use style=\"fill:#1f77b4;stroke:#1f77b4;\" x=\"120.026489\" xlink:href=\"#mc160ed06e4\" y=\"211.538393\"/>\r\n     <use style=\"fill:#1f77b4;stroke:#1f77b4;\" x=\"120.463793\" xlink:href=\"#mc160ed06e4\" y=\"211.718751\"/>\r\n     <use style=\"fill:#1f77b4;stroke:#1f77b4;\" x=\"120.901097\" xlink:href=\"#mc160ed06e4\" y=\"211.889436\"/>\r\n     <use style=\"fill:#1f77b4;stroke:#1f77b4;\" x=\"121.338401\" xlink:href=\"#mc160ed06e4\" y=\"212.05086\"/>\r\n     <use style=\"fill:#1f77b4;stroke:#1f77b4;\" x=\"121.775705\" xlink:href=\"#mc160ed06e4\" y=\"212.203432\"/>\r\n     <use style=\"fill:#1f77b4;stroke:#1f77b4;\" x=\"122.213009\" xlink:href=\"#mc160ed06e4\" y=\"212.347554\"/>\r\n     <use style=\"fill:#1f77b4;stroke:#1f77b4;\" x=\"122.650313\" xlink:href=\"#mc160ed06e4\" y=\"212.483623\"/>\r\n     <use style=\"fill:#1f77b4;stroke:#1f77b4;\" x=\"123.087618\" xlink:href=\"#mc160ed06e4\" y=\"212.612031\"/>\r\n     <use style=\"fill:#1f77b4;stroke:#1f77b4;\" x=\"123.524922\" xlink:href=\"#mc160ed06e4\" y=\"212.733166\"/>\r\n     <use style=\"fill:#1f77b4;stroke:#1f77b4;\" x=\"123.962226\" xlink:href=\"#mc160ed06e4\" y=\"212.847409\"/>\r\n     <use style=\"fill:#1f77b4;stroke:#1f77b4;\" x=\"124.39953\" xlink:href=\"#mc160ed06e4\" y=\"212.955135\"/>\r\n     <use style=\"fill:#1f77b4;stroke:#1f77b4;\" x=\"124.836834\" xlink:href=\"#mc160ed06e4\" y=\"213.056717\"/>\r\n     <use style=\"fill:#1f77b4;stroke:#1f77b4;\" x=\"125.274138\" xlink:href=\"#mc160ed06e4\" y=\"213.15252\"/>\r\n     <use style=\"fill:#1f77b4;stroke:#1f77b4;\" x=\"125.711442\" xlink:href=\"#mc160ed06e4\" y=\"213.242905\"/>\r\n     <use style=\"fill:#1f77b4;stroke:#1f77b4;\" x=\"126.148746\" xlink:href=\"#mc160ed06e4\" y=\"213.328226\"/>\r\n     <use style=\"fill:#1f77b4;stroke:#1f77b4;\" x=\"126.58605\" xlink:href=\"#mc160ed06e4\" y=\"213.408835\"/>\r\n     <use style=\"fill:#1f77b4;stroke:#1f77b4;\" x=\"127.023354\" xlink:href=\"#mc160ed06e4\" y=\"213.485076\"/>\r\n     <use style=\"fill:#1f77b4;stroke:#1f77b4;\" x=\"127.460658\" xlink:href=\"#mc160ed06e4\" y=\"213.557287\"/>\r\n     <use style=\"fill:#1f77b4;stroke:#1f77b4;\" x=\"127.897962\" xlink:href=\"#mc160ed06e4\" y=\"213.625565\"/>\r\n     <use style=\"fill:#1f77b4;stroke:#1f77b4;\" x=\"128.335266\" xlink:href=\"#mc160ed06e4\" y=\"213.69\"/>\r\n     <use style=\"fill:#1f77b4;stroke:#1f77b4;\" x=\"128.772571\" xlink:href=\"#mc160ed06e4\" y=\"213.750798\"/>\r\n     <use style=\"fill:#1f77b4;stroke:#1f77b4;\" x=\"129.209875\" xlink:href=\"#mc160ed06e4\" y=\"213.808157\"/>\r\n     <use style=\"fill:#1f77b4;stroke:#1f77b4;\" x=\"129.647179\" xlink:href=\"#mc160ed06e4\" y=\"213.862267\"/>\r\n     <use style=\"fill:#1f77b4;stroke:#1f77b4;\" x=\"130.084483\" xlink:href=\"#mc160ed06e4\" y=\"213.913309\"/>\r\n     <use style=\"fill:#1f77b4;stroke:#1f77b4;\" x=\"130.521787\" xlink:href=\"#mc160ed06e4\" y=\"213.961456\"/>\r\n     <use style=\"fill:#1f77b4;stroke:#1f77b4;\" x=\"130.959091\" xlink:href=\"#mc160ed06e4\" y=\"214.006874\"/>\r\n     <use style=\"fill:#1f77b4;stroke:#1f77b4;\" x=\"131.396395\" xlink:href=\"#mc160ed06e4\" y=\"214.049722\"/>\r\n     <use style=\"fill:#1f77b4;stroke:#1f77b4;\" x=\"131.833699\" xlink:href=\"#mc160ed06e4\" y=\"214.090137\"/>\r\n     <use style=\"fill:#1f77b4;stroke:#1f77b4;\" x=\"132.271003\" xlink:href=\"#mc160ed06e4\" y=\"214.128281\"/>\r\n     <use style=\"fill:#1f77b4;stroke:#1f77b4;\" x=\"132.708307\" xlink:href=\"#mc160ed06e4\" y=\"214.164314\"/>\r\n     <use style=\"fill:#1f77b4;stroke:#1f77b4;\" x=\"133.145611\" xlink:href=\"#mc160ed06e4\" y=\"214.198333\"/>\r\n     <use style=\"fill:#1f77b4;stroke:#1f77b4;\" x=\"133.582915\" xlink:href=\"#mc160ed06e4\" y=\"214.230428\"/>\r\n     <use style=\"fill:#1f77b4;stroke:#1f77b4;\" x=\"134.020219\" xlink:href=\"#mc160ed06e4\" y=\"214.260689\"/>\r\n     <use style=\"fill:#1f77b4;stroke:#1f77b4;\" x=\"134.457524\" xlink:href=\"#mc160ed06e4\" y=\"214.289207\"/>\r\n     <use style=\"fill:#1f77b4;stroke:#1f77b4;\" x=\"134.894828\" xlink:href=\"#mc160ed06e4\" y=\"214.316069\"/>\r\n     <use style=\"fill:#1f77b4;stroke:#1f77b4;\" x=\"135.332132\" xlink:href=\"#mc160ed06e4\" y=\"214.341361\"/>\r\n     <use style=\"fill:#1f77b4;stroke:#1f77b4;\" x=\"135.769436\" xlink:href=\"#mc160ed06e4\" y=\"214.365168\"/>\r\n     <use style=\"fill:#1f77b4;stroke:#1f77b4;\" x=\"136.20674\" xlink:href=\"#mc160ed06e4\" y=\"214.387573\"/>\r\n     <use style=\"fill:#1f77b4;stroke:#1f77b4;\" x=\"136.644044\" xlink:href=\"#mc160ed06e4\" y=\"214.408658\"/>\r\n     <use style=\"fill:#1f77b4;stroke:#1f77b4;\" x=\"137.081348\" xlink:href=\"#mc160ed06e4\" y=\"214.428503\"/>\r\n     <use style=\"fill:#1f77b4;stroke:#1f77b4;\" x=\"137.518652\" xlink:href=\"#mc160ed06e4\" y=\"214.447188\"/>\r\n     <use style=\"fill:#1f77b4;stroke:#1f77b4;\" x=\"137.955956\" xlink:href=\"#mc160ed06e4\" y=\"214.46479\"/>\r\n     <use style=\"fill:#1f77b4;stroke:#1f77b4;\" x=\"138.39326\" xlink:href=\"#mc160ed06e4\" y=\"214.481384\"/>\r\n     <use style=\"fill:#1f77b4;stroke:#1f77b4;\" x=\"138.830564\" xlink:href=\"#mc160ed06e4\" y=\"214.497046\"/>\r\n     <use style=\"fill:#1f77b4;stroke:#1f77b4;\" x=\"139.267868\" xlink:href=\"#mc160ed06e4\" y=\"214.511848\"/>\r\n     <use style=\"fill:#1f77b4;stroke:#1f77b4;\" x=\"139.705172\" xlink:href=\"#mc160ed06e4\" y=\"214.525862\"/>\r\n     <use style=\"fill:#1f77b4;stroke:#1f77b4;\" x=\"140.142476\" xlink:href=\"#mc160ed06e4\" y=\"214.539104\"/>\r\n     <use style=\"fill:#1f77b4;stroke:#1f77b4;\" x=\"140.579781\" xlink:href=\"#mc160ed06e4\" y=\"214.551587\"/>\r\n     <use style=\"fill:#1f77b4;stroke:#1f77b4;\" x=\"141.017085\" xlink:href=\"#mc160ed06e4\" y=\"214.563355\"/>\r\n     <use style=\"fill:#1f77b4;stroke:#1f77b4;\" x=\"141.454389\" xlink:href=\"#mc160ed06e4\" y=\"214.574446\"/>\r\n     <use style=\"fill:#1f77b4;stroke:#1f77b4;\" x=\"141.891693\" xlink:href=\"#mc160ed06e4\" y=\"214.584899\"/>\r\n     <use style=\"fill:#1f77b4;stroke:#1f77b4;\" x=\"142.328997\" xlink:href=\"#mc160ed06e4\" y=\"214.594751\"/>\r\n     <use style=\"fill:#1f77b4;stroke:#1f77b4;\" x=\"142.766301\" xlink:href=\"#mc160ed06e4\" y=\"214.604036\"/>\r\n     <use style=\"fill:#1f77b4;stroke:#1f77b4;\" x=\"143.203605\" xlink:href=\"#mc160ed06e4\" y=\"214.612788\"/>\r\n     <use style=\"fill:#1f77b4;stroke:#1f77b4;\" x=\"143.640909\" xlink:href=\"#mc160ed06e4\" y=\"214.621037\"/>\r\n     <use style=\"fill:#1f77b4;stroke:#1f77b4;\" x=\"144.078213\" xlink:href=\"#mc160ed06e4\" y=\"214.628817\"/>\r\n     <use style=\"fill:#1f77b4;stroke:#1f77b4;\" x=\"144.515517\" xlink:href=\"#mc160ed06e4\" y=\"214.636149\"/>\r\n     <use style=\"fill:#1f77b4;stroke:#1f77b4;\" x=\"144.952821\" xlink:href=\"#mc160ed06e4\" y=\"214.643066\"/>\r\n     <use style=\"fill:#1f77b4;stroke:#1f77b4;\" x=\"145.390125\" xlink:href=\"#mc160ed06e4\" y=\"214.649596\"/>\r\n     <use style=\"fill:#1f77b4;stroke:#1f77b4;\" x=\"145.827429\" xlink:href=\"#mc160ed06e4\" y=\"214.655757\"/>\r\n     <use style=\"fill:#1f77b4;stroke:#1f77b4;\" x=\"146.264734\" xlink:href=\"#mc160ed06e4\" y=\"214.661567\"/>\r\n     <use style=\"fill:#1f77b4;stroke:#1f77b4;\" x=\"146.702038\" xlink:href=\"#mc160ed06e4\" y=\"214.667043\"/>\r\n     <use style=\"fill:#1f77b4;stroke:#1f77b4;\" x=\"147.139342\" xlink:href=\"#mc160ed06e4\" y=\"214.6722\"/>\r\n     <use style=\"fill:#1f77b4;stroke:#1f77b4;\" x=\"147.576646\" xlink:href=\"#mc160ed06e4\" y=\"214.677055\"/>\r\n     <use style=\"fill:#1f77b4;stroke:#1f77b4;\" x=\"148.01395\" xlink:href=\"#mc160ed06e4\" y=\"214.681624\"/>\r\n     <use style=\"fill:#1f77b4;stroke:#1f77b4;\" x=\"148.451254\" xlink:href=\"#mc160ed06e4\" y=\"214.685923\"/>\r\n     <use style=\"fill:#1f77b4;stroke:#1f77b4;\" x=\"148.888558\" xlink:href=\"#mc160ed06e4\" y=\"214.689968\"/>\r\n     <use style=\"fill:#1f77b4;stroke:#1f77b4;\" x=\"149.325862\" xlink:href=\"#mc160ed06e4\" y=\"214.693772\"/>\r\n     <use style=\"fill:#1f77b4;stroke:#1f77b4;\" x=\"149.763166\" xlink:href=\"#mc160ed06e4\" y=\"214.697352\"/>\r\n     <use style=\"fill:#1f77b4;stroke:#1f77b4;\" x=\"150.20047\" xlink:href=\"#mc160ed06e4\" y=\"214.700722\"/>\r\n     <use style=\"fill:#1f77b4;stroke:#1f77b4;\" x=\"150.637774\" xlink:href=\"#mc160ed06e4\" y=\"214.703895\"/>\r\n     <use style=\"fill:#1f77b4;stroke:#1f77b4;\" x=\"151.075078\" xlink:href=\"#mc160ed06e4\" y=\"214.706887\"/>\r\n     <use style=\"fill:#1f77b4;stroke:#1f77b4;\" x=\"151.512382\" xlink:href=\"#mc160ed06e4\" y=\"214.709711\"/>\r\n     <use style=\"fill:#1f77b4;stroke:#1f77b4;\" x=\"151.949687\" xlink:href=\"#mc160ed06e4\" y=\"214.71238\"/>\r\n     <use style=\"fill:#1f77b4;stroke:#1f77b4;\" x=\"152.386991\" xlink:href=\"#mc160ed06e4\" y=\"214.714907\"/>\r\n     <use style=\"fill:#1f77b4;stroke:#1f77b4;\" x=\"152.824295\" xlink:href=\"#mc160ed06e4\" y=\"214.717292\"/>\r\n     <use style=\"fill:#1f77b4;stroke:#1f77b4;\" x=\"153.261599\" xlink:href=\"#mc160ed06e4\" y=\"214.719541\"/>\r\n     <use style=\"fill:#1f77b4;stroke:#1f77b4;\" x=\"153.698903\" xlink:href=\"#mc160ed06e4\" y=\"214.72166\"/>\r\n     <use style=\"fill:#1f77b4;stroke:#1f77b4;\" x=\"154.136207\" xlink:href=\"#mc160ed06e4\" y=\"214.723657\"/>\r\n     <use style=\"fill:#1f77b4;stroke:#1f77b4;\" x=\"154.573511\" xlink:href=\"#mc160ed06e4\" y=\"214.725539\"/>\r\n     <use style=\"fill:#1f77b4;stroke:#1f77b4;\" x=\"155.010815\" xlink:href=\"#mc160ed06e4\" y=\"214.727312\"/>\r\n     <use style=\"fill:#1f77b4;stroke:#1f77b4;\" x=\"155.448119\" xlink:href=\"#mc160ed06e4\" y=\"214.728983\"/>\r\n     <use style=\"fill:#1f77b4;stroke:#1f77b4;\" x=\"155.885423\" xlink:href=\"#mc160ed06e4\" y=\"214.730558\"/>\r\n     <use style=\"fill:#1f77b4;stroke:#1f77b4;\" x=\"156.322727\" xlink:href=\"#mc160ed06e4\" y=\"214.732042\"/>\r\n     <use style=\"fill:#1f77b4;stroke:#1f77b4;\" x=\"156.760031\" xlink:href=\"#mc160ed06e4\" y=\"214.733442\"/>\r\n     <use style=\"fill:#1f77b4;stroke:#1f77b4;\" x=\"157.197335\" xlink:href=\"#mc160ed06e4\" y=\"214.734761\"/>\r\n     <use style=\"fill:#1f77b4;stroke:#1f77b4;\" x=\"157.634639\" xlink:href=\"#mc160ed06e4\" y=\"214.736005\"/>\r\n     <use style=\"fill:#1f77b4;stroke:#1f77b4;\" x=\"158.071944\" xlink:href=\"#mc160ed06e4\" y=\"214.737179\"/>\r\n     <use style=\"fill:#1f77b4;stroke:#1f77b4;\" x=\"158.509248\" xlink:href=\"#mc160ed06e4\" y=\"214.738287\"/>\r\n     <use style=\"fill:#1f77b4;stroke:#1f77b4;\" x=\"158.946552\" xlink:href=\"#mc160ed06e4\" y=\"214.739332\"/>\r\n     <use style=\"fill:#1f77b4;stroke:#1f77b4;\" x=\"159.383856\" xlink:href=\"#mc160ed06e4\" y=\"214.740316\"/>\r\n     <use style=\"fill:#1f77b4;stroke:#1f77b4;\" x=\"159.82116\" xlink:href=\"#mc160ed06e4\" y=\"214.741243\"/>\r\n     <use style=\"fill:#1f77b4;stroke:#1f77b4;\" x=\"160.258464\" xlink:href=\"#mc160ed06e4\" y=\"214.742116\"/>\r\n     <use style=\"fill:#1f77b4;stroke:#1f77b4;\" x=\"160.695768\" xlink:href=\"#mc160ed06e4\" y=\"214.742937\"/>\r\n     <use style=\"fill:#1f77b4;stroke:#1f77b4;\" x=\"161.133072\" xlink:href=\"#mc160ed06e4\" y=\"214.74371\"/>\r\n     <use style=\"fill:#1f77b4;stroke:#1f77b4;\" x=\"161.570376\" xlink:href=\"#mc160ed06e4\" y=\"214.744437\"/>\r\n     <use style=\"fill:#1f77b4;stroke:#1f77b4;\" x=\"162.00768\" xlink:href=\"#mc160ed06e4\" y=\"214.745121\"/>\r\n     <use style=\"fill:#1f77b4;stroke:#1f77b4;\" x=\"162.444984\" xlink:href=\"#mc160ed06e4\" y=\"214.745764\"/>\r\n     <use style=\"fill:#1f77b4;stroke:#1f77b4;\" x=\"162.882288\" xlink:href=\"#mc160ed06e4\" y=\"214.746369\"/>\r\n     <use style=\"fill:#1f77b4;stroke:#1f77b4;\" x=\"163.319592\" xlink:href=\"#mc160ed06e4\" y=\"214.74694\"/>\r\n     <use style=\"fill:#1f77b4;stroke:#1f77b4;\" x=\"163.756897\" xlink:href=\"#mc160ed06e4\" y=\"214.747477\"/>\r\n     <use style=\"fill:#1f77b4;stroke:#1f77b4;\" x=\"164.194201\" xlink:href=\"#mc160ed06e4\" y=\"214.747984\"/>\r\n     <use style=\"fill:#1f77b4;stroke:#1f77b4;\" x=\"164.631505\" xlink:href=\"#mc160ed06e4\" y=\"214.748464\"/>\r\n     <use style=\"fill:#1f77b4;stroke:#1f77b4;\" x=\"165.068809\" xlink:href=\"#mc160ed06e4\" y=\"214.748918\"/>\r\n     <use style=\"fill:#1f77b4;stroke:#1f77b4;\" x=\"165.506113\" xlink:href=\"#mc160ed06e4\" y=\"214.749347\"/>\r\n     <use style=\"fill:#1f77b4;stroke:#1f77b4;\" x=\"165.943417\" xlink:href=\"#mc160ed06e4\" y=\"214.749751\"/>\r\n     <use style=\"fill:#1f77b4;stroke:#1f77b4;\" x=\"166.380721\" xlink:href=\"#mc160ed06e4\" y=\"214.750131\"/>\r\n     <use style=\"fill:#1f77b4;stroke:#1f77b4;\" x=\"166.818025\" xlink:href=\"#mc160ed06e4\" y=\"214.75049\"/>\r\n     <use style=\"fill:#1f77b4;stroke:#1f77b4;\" x=\"167.255329\" xlink:href=\"#mc160ed06e4\" y=\"214.750828\"/>\r\n     <use style=\"fill:#1f77b4;stroke:#1f77b4;\" x=\"167.692633\" xlink:href=\"#mc160ed06e4\" y=\"214.751147\"/>\r\n     <use style=\"fill:#1f77b4;stroke:#1f77b4;\" x=\"168.129937\" xlink:href=\"#mc160ed06e4\" y=\"214.751447\"/>\r\n     <use style=\"fill:#1f77b4;stroke:#1f77b4;\" x=\"168.567241\" xlink:href=\"#mc160ed06e4\" y=\"214.75173\"/>\r\n     <use style=\"fill:#1f77b4;stroke:#1f77b4;\" x=\"169.004545\" xlink:href=\"#mc160ed06e4\" y=\"214.751996\"/>\r\n     <use style=\"fill:#1f77b4;stroke:#1f77b4;\" x=\"169.44185\" xlink:href=\"#mc160ed06e4\" y=\"214.752247\"/>\r\n     <use style=\"fill:#1f77b4;stroke:#1f77b4;\" x=\"169.879154\" xlink:href=\"#mc160ed06e4\" y=\"214.752484\"/>\r\n     <use style=\"fill:#1f77b4;stroke:#1f77b4;\" x=\"170.316458\" xlink:href=\"#mc160ed06e4\" y=\"214.752708\"/>\r\n     <use style=\"fill:#1f77b4;stroke:#1f77b4;\" x=\"170.753762\" xlink:href=\"#mc160ed06e4\" y=\"214.752919\"/>\r\n     <use style=\"fill:#1f77b4;stroke:#1f77b4;\" x=\"171.191066\" xlink:href=\"#mc160ed06e4\" y=\"214.753118\"/>\r\n     <use style=\"fill:#1f77b4;stroke:#1f77b4;\" x=\"171.62837\" xlink:href=\"#mc160ed06e4\" y=\"214.753305\"/>\r\n     <use style=\"fill:#1f77b4;stroke:#1f77b4;\" x=\"172.065674\" xlink:href=\"#mc160ed06e4\" y=\"214.753482\"/>\r\n     <use style=\"fill:#1f77b4;stroke:#1f77b4;\" x=\"172.502978\" xlink:href=\"#mc160ed06e4\" y=\"214.753649\"/>\r\n     <use style=\"fill:#1f77b4;stroke:#1f77b4;\" x=\"172.940282\" xlink:href=\"#mc160ed06e4\" y=\"214.753805\"/>\r\n     <use style=\"fill:#1f77b4;stroke:#1f77b4;\" x=\"173.377586\" xlink:href=\"#mc160ed06e4\" y=\"214.753953\"/>\r\n     <use style=\"fill:#1f77b4;stroke:#1f77b4;\" x=\"173.81489\" xlink:href=\"#mc160ed06e4\" y=\"214.754092\"/>\r\n     <use style=\"fill:#1f77b4;stroke:#1f77b4;\" x=\"174.252194\" xlink:href=\"#mc160ed06e4\" y=\"214.754222\"/>\r\n     <use style=\"fill:#1f77b4;stroke:#1f77b4;\" x=\"174.689498\" xlink:href=\"#mc160ed06e4\" y=\"214.754345\"/>\r\n     <use style=\"fill:#1f77b4;stroke:#1f77b4;\" x=\"175.126803\" xlink:href=\"#mc160ed06e4\" y=\"214.75446\"/>\r\n     <use style=\"fill:#1f77b4;stroke:#1f77b4;\" x=\"175.564107\" xlink:href=\"#mc160ed06e4\" y=\"214.754569\"/>\r\n     <use style=\"fill:#1f77b4;stroke:#1f77b4;\" x=\"176.001411\" xlink:href=\"#mc160ed06e4\" y=\"214.754671\"/>\r\n     <use style=\"fill:#1f77b4;stroke:#1f77b4;\" x=\"176.438715\" xlink:href=\"#mc160ed06e4\" y=\"214.754768\"/>\r\n     <use style=\"fill:#1f77b4;stroke:#1f77b4;\" x=\"176.876019\" xlink:href=\"#mc160ed06e4\" y=\"214.754859\"/>\r\n     <use style=\"fill:#1f77b4;stroke:#1f77b4;\" x=\"177.313323\" xlink:href=\"#mc160ed06e4\" y=\"214.754945\"/>\r\n     <use style=\"fill:#1f77b4;stroke:#1f77b4;\" x=\"177.750627\" xlink:href=\"#mc160ed06e4\" y=\"214.755027\"/>\r\n     <use style=\"fill:#1f77b4;stroke:#1f77b4;\" x=\"178.187931\" xlink:href=\"#mc160ed06e4\" y=\"214.755104\"/>\r\n     <use style=\"fill:#1f77b4;stroke:#1f77b4;\" x=\"178.625235\" xlink:href=\"#mc160ed06e4\" y=\"214.755176\"/>\r\n     <use style=\"fill:#1f77b4;stroke:#1f77b4;\" x=\"179.062539\" xlink:href=\"#mc160ed06e4\" y=\"214.755245\"/>\r\n     <use style=\"fill:#1f77b4;stroke:#1f77b4;\" x=\"179.499843\" xlink:href=\"#mc160ed06e4\" y=\"214.755309\"/>\r\n     <use style=\"fill:#1f77b4;stroke:#1f77b4;\" x=\"179.937147\" xlink:href=\"#mc160ed06e4\" y=\"214.75537\"/>\r\n     <use style=\"fill:#1f77b4;stroke:#1f77b4;\" x=\"180.374451\" xlink:href=\"#mc160ed06e4\" y=\"214.755427\"/>\r\n     <use style=\"fill:#1f77b4;stroke:#1f77b4;\" x=\"180.811755\" xlink:href=\"#mc160ed06e4\" y=\"214.755481\"/>\r\n     <use style=\"fill:#1f77b4;stroke:#1f77b4;\" x=\"181.24906\" xlink:href=\"#mc160ed06e4\" y=\"214.755532\"/>\r\n     <use style=\"fill:#1f77b4;stroke:#1f77b4;\" x=\"181.686364\" xlink:href=\"#mc160ed06e4\" y=\"214.755579\"/>\r\n     <use style=\"fill:#1f77b4;stroke:#1f77b4;\" x=\"182.123668\" xlink:href=\"#mc160ed06e4\" y=\"214.755625\"/>\r\n     <use style=\"fill:#1f77b4;stroke:#1f77b4;\" x=\"182.560972\" xlink:href=\"#mc160ed06e4\" y=\"214.755667\"/>\r\n     <use style=\"fill:#1f77b4;stroke:#1f77b4;\" x=\"182.998276\" xlink:href=\"#mc160ed06e4\" y=\"214.755707\"/>\r\n     <use style=\"fill:#1f77b4;stroke:#1f77b4;\" x=\"183.43558\" xlink:href=\"#mc160ed06e4\" y=\"214.755745\"/>\r\n     <use style=\"fill:#1f77b4;stroke:#1f77b4;\" x=\"183.872884\" xlink:href=\"#mc160ed06e4\" y=\"214.755781\"/>\r\n     <use style=\"fill:#1f77b4;stroke:#1f77b4;\" x=\"184.310188\" xlink:href=\"#mc160ed06e4\" y=\"214.755815\"/>\r\n     <use style=\"fill:#1f77b4;stroke:#1f77b4;\" x=\"184.747492\" xlink:href=\"#mc160ed06e4\" y=\"214.755846\"/>\r\n     <use style=\"fill:#1f77b4;stroke:#1f77b4;\" x=\"185.184796\" xlink:href=\"#mc160ed06e4\" y=\"214.755876\"/>\r\n     <use style=\"fill:#1f77b4;stroke:#1f77b4;\" x=\"185.6221\" xlink:href=\"#mc160ed06e4\" y=\"214.755904\"/>\r\n     <use style=\"fill:#1f77b4;stroke:#1f77b4;\" x=\"186.059404\" xlink:href=\"#mc160ed06e4\" y=\"214.755931\"/>\r\n     <use style=\"fill:#1f77b4;stroke:#1f77b4;\" x=\"186.496708\" xlink:href=\"#mc160ed06e4\" y=\"214.755956\"/>\r\n     <use style=\"fill:#1f77b4;stroke:#1f77b4;\" x=\"186.934013\" xlink:href=\"#mc160ed06e4\" y=\"214.755979\"/>\r\n     <use style=\"fill:#1f77b4;stroke:#1f77b4;\" x=\"187.371317\" xlink:href=\"#mc160ed06e4\" y=\"214.756001\"/>\r\n     <use style=\"fill:#1f77b4;stroke:#1f77b4;\" x=\"187.808621\" xlink:href=\"#mc160ed06e4\" y=\"214.756022\"/>\r\n     <use style=\"fill:#1f77b4;stroke:#1f77b4;\" x=\"188.245925\" xlink:href=\"#mc160ed06e4\" y=\"214.756041\"/>\r\n     <use style=\"fill:#1f77b4;stroke:#1f77b4;\" x=\"188.683229\" xlink:href=\"#mc160ed06e4\" y=\"214.75606\"/>\r\n     <use style=\"fill:#1f77b4;stroke:#1f77b4;\" x=\"189.120533\" xlink:href=\"#mc160ed06e4\" y=\"214.756077\"/>\r\n     <use style=\"fill:#1f77b4;stroke:#1f77b4;\" x=\"189.557837\" xlink:href=\"#mc160ed06e4\" y=\"214.756094\"/>\r\n     <use style=\"fill:#1f77b4;stroke:#1f77b4;\" x=\"189.995141\" xlink:href=\"#mc160ed06e4\" y=\"214.756109\"/>\r\n     <use style=\"fill:#1f77b4;stroke:#1f77b4;\" x=\"190.432445\" xlink:href=\"#mc160ed06e4\" y=\"214.756124\"/>\r\n     <use style=\"fill:#1f77b4;stroke:#1f77b4;\" x=\"190.869749\" xlink:href=\"#mc160ed06e4\" y=\"214.756137\"/>\r\n     <use style=\"fill:#1f77b4;stroke:#1f77b4;\" x=\"191.307053\" xlink:href=\"#mc160ed06e4\" y=\"214.75615\"/>\r\n     <use style=\"fill:#1f77b4;stroke:#1f77b4;\" x=\"191.744357\" xlink:href=\"#mc160ed06e4\" y=\"214.756163\"/>\r\n     <use style=\"fill:#1f77b4;stroke:#1f77b4;\" x=\"192.181661\" xlink:href=\"#mc160ed06e4\" y=\"214.756174\"/>\r\n     <use style=\"fill:#1f77b4;stroke:#1f77b4;\" x=\"192.618966\" xlink:href=\"#mc160ed06e4\" y=\"214.756185\"/>\r\n     <use style=\"fill:#1f77b4;stroke:#1f77b4;\" x=\"193.05627\" xlink:href=\"#mc160ed06e4\" y=\"214.756195\"/>\r\n     <use style=\"fill:#1f77b4;stroke:#1f77b4;\" x=\"193.493574\" xlink:href=\"#mc160ed06e4\" y=\"214.756205\"/>\r\n     <use style=\"fill:#1f77b4;stroke:#1f77b4;\" x=\"193.930878\" xlink:href=\"#mc160ed06e4\" y=\"214.756214\"/>\r\n     <use style=\"fill:#1f77b4;stroke:#1f77b4;\" x=\"194.368182\" xlink:href=\"#mc160ed06e4\" y=\"214.756223\"/>\r\n     <use style=\"fill:#1f77b4;stroke:#1f77b4;\" x=\"194.805486\" xlink:href=\"#mc160ed06e4\" y=\"214.756231\"/>\r\n     <use style=\"fill:#1f77b4;stroke:#1f77b4;\" x=\"195.24279\" xlink:href=\"#mc160ed06e4\" y=\"214.756239\"/>\r\n     <use style=\"fill:#1f77b4;stroke:#1f77b4;\" x=\"195.680094\" xlink:href=\"#mc160ed06e4\" y=\"214.756246\"/>\r\n     <use style=\"fill:#1f77b4;stroke:#1f77b4;\" x=\"196.117398\" xlink:href=\"#mc160ed06e4\" y=\"214.756253\"/>\r\n     <use style=\"fill:#1f77b4;stroke:#1f77b4;\" x=\"196.554702\" xlink:href=\"#mc160ed06e4\" y=\"214.756259\"/>\r\n     <use style=\"fill:#1f77b4;stroke:#1f77b4;\" x=\"196.992006\" xlink:href=\"#mc160ed06e4\" y=\"214.756265\"/>\r\n     <use style=\"fill:#1f77b4;stroke:#1f77b4;\" x=\"197.42931\" xlink:href=\"#mc160ed06e4\" y=\"214.756271\"/>\r\n     <use style=\"fill:#1f77b4;stroke:#1f77b4;\" x=\"197.866614\" xlink:href=\"#mc160ed06e4\" y=\"214.756276\"/>\r\n     <use style=\"fill:#1f77b4;stroke:#1f77b4;\" x=\"198.303918\" xlink:href=\"#mc160ed06e4\" y=\"214.756281\"/>\r\n     <use style=\"fill:#1f77b4;stroke:#1f77b4;\" x=\"198.741223\" xlink:href=\"#mc160ed06e4\" y=\"214.756286\"/>\r\n     <use style=\"fill:#1f77b4;stroke:#1f77b4;\" x=\"199.178527\" xlink:href=\"#mc160ed06e4\" y=\"214.75629\"/>\r\n     <use style=\"fill:#1f77b4;stroke:#1f77b4;\" x=\"199.615831\" xlink:href=\"#mc160ed06e4\" y=\"214.756295\"/>\r\n     <use style=\"fill:#1f77b4;stroke:#1f77b4;\" x=\"200.053135\" xlink:href=\"#mc160ed06e4\" y=\"214.756299\"/>\r\n     <use style=\"fill:#1f77b4;stroke:#1f77b4;\" x=\"200.490439\" xlink:href=\"#mc160ed06e4\" y=\"214.756302\"/>\r\n     <use style=\"fill:#1f77b4;stroke:#1f77b4;\" x=\"200.927743\" xlink:href=\"#mc160ed06e4\" y=\"214.756306\"/>\r\n     <use style=\"fill:#1f77b4;stroke:#1f77b4;\" x=\"201.365047\" xlink:href=\"#mc160ed06e4\" y=\"214.756309\"/>\r\n     <use style=\"fill:#1f77b4;stroke:#1f77b4;\" x=\"201.802351\" xlink:href=\"#mc160ed06e4\" y=\"214.756312\"/>\r\n     <use style=\"fill:#1f77b4;stroke:#1f77b4;\" x=\"202.239655\" xlink:href=\"#mc160ed06e4\" y=\"214.756315\"/>\r\n     <use style=\"fill:#1f77b4;stroke:#1f77b4;\" x=\"202.676959\" xlink:href=\"#mc160ed06e4\" y=\"214.756318\"/>\r\n     <use style=\"fill:#1f77b4;stroke:#1f77b4;\" x=\"203.114263\" xlink:href=\"#mc160ed06e4\" y=\"214.756321\"/>\r\n     <use style=\"fill:#1f77b4;stroke:#1f77b4;\" x=\"203.551567\" xlink:href=\"#mc160ed06e4\" y=\"214.756323\"/>\r\n     <use style=\"fill:#1f77b4;stroke:#1f77b4;\" x=\"203.988871\" xlink:href=\"#mc160ed06e4\" y=\"214.756325\"/>\r\n     <use style=\"fill:#1f77b4;stroke:#1f77b4;\" x=\"204.426176\" xlink:href=\"#mc160ed06e4\" y=\"214.756328\"/>\r\n     <use style=\"fill:#1f77b4;stroke:#1f77b4;\" x=\"204.86348\" xlink:href=\"#mc160ed06e4\" y=\"214.75633\"/>\r\n     <use style=\"fill:#1f77b4;stroke:#1f77b4;\" x=\"205.300784\" xlink:href=\"#mc160ed06e4\" y=\"214.756332\"/>\r\n     <use style=\"fill:#1f77b4;stroke:#1f77b4;\" x=\"205.738088\" xlink:href=\"#mc160ed06e4\" y=\"214.756333\"/>\r\n     <use style=\"fill:#1f77b4;stroke:#1f77b4;\" x=\"206.175392\" xlink:href=\"#mc160ed06e4\" y=\"214.756335\"/>\r\n     <use style=\"fill:#1f77b4;stroke:#1f77b4;\" x=\"206.612696\" xlink:href=\"#mc160ed06e4\" y=\"214.756337\"/>\r\n     <use style=\"fill:#1f77b4;stroke:#1f77b4;\" x=\"207.05\" xlink:href=\"#mc160ed06e4\" y=\"214.756338\"/>\r\n     <use style=\"fill:#1f77b4;stroke:#1f77b4;\" x=\"207.487304\" xlink:href=\"#mc160ed06e4\" y=\"214.75634\"/>\r\n     <use style=\"fill:#1f77b4;stroke:#1f77b4;\" x=\"207.924608\" xlink:href=\"#mc160ed06e4\" y=\"214.756341\"/>\r\n     <use style=\"fill:#1f77b4;stroke:#1f77b4;\" x=\"208.361912\" xlink:href=\"#mc160ed06e4\" y=\"214.756342\"/>\r\n     <use style=\"fill:#1f77b4;stroke:#1f77b4;\" x=\"208.799216\" xlink:href=\"#mc160ed06e4\" y=\"214.756344\"/>\r\n     <use style=\"fill:#1f77b4;stroke:#1f77b4;\" x=\"209.23652\" xlink:href=\"#mc160ed06e4\" y=\"214.756345\"/>\r\n     <use style=\"fill:#1f77b4;stroke:#1f77b4;\" x=\"209.673824\" xlink:href=\"#mc160ed06e4\" y=\"214.756346\"/>\r\n     <use style=\"fill:#1f77b4;stroke:#1f77b4;\" x=\"210.111129\" xlink:href=\"#mc160ed06e4\" y=\"214.756347\"/>\r\n     <use style=\"fill:#1f77b4;stroke:#1f77b4;\" x=\"210.548433\" xlink:href=\"#mc160ed06e4\" y=\"214.756348\"/>\r\n     <use style=\"fill:#1f77b4;stroke:#1f77b4;\" x=\"210.985737\" xlink:href=\"#mc160ed06e4\" y=\"214.756349\"/>\r\n     <use style=\"fill:#1f77b4;stroke:#1f77b4;\" x=\"211.423041\" xlink:href=\"#mc160ed06e4\" y=\"214.75635\"/>\r\n     <use style=\"fill:#1f77b4;stroke:#1f77b4;\" x=\"211.860345\" xlink:href=\"#mc160ed06e4\" y=\"214.756351\"/>\r\n     <use style=\"fill:#1f77b4;stroke:#1f77b4;\" x=\"212.297649\" xlink:href=\"#mc160ed06e4\" y=\"214.756351\"/>\r\n     <use style=\"fill:#1f77b4;stroke:#1f77b4;\" x=\"212.734953\" xlink:href=\"#mc160ed06e4\" y=\"214.756352\"/>\r\n     <use style=\"fill:#1f77b4;stroke:#1f77b4;\" x=\"213.172257\" xlink:href=\"#mc160ed06e4\" y=\"214.756353\"/>\r\n     <use style=\"fill:#1f77b4;stroke:#1f77b4;\" x=\"213.609561\" xlink:href=\"#mc160ed06e4\" y=\"214.756353\"/>\r\n     <use style=\"fill:#1f77b4;stroke:#1f77b4;\" x=\"214.046865\" xlink:href=\"#mc160ed06e4\" y=\"214.756354\"/>\r\n     <use style=\"fill:#1f77b4;stroke:#1f77b4;\" x=\"214.484169\" xlink:href=\"#mc160ed06e4\" y=\"214.756354\"/>\r\n     <use style=\"fill:#1f77b4;stroke:#1f77b4;\" x=\"214.921473\" xlink:href=\"#mc160ed06e4\" y=\"214.756355\"/>\r\n     <use style=\"fill:#1f77b4;stroke:#1f77b4;\" x=\"215.358777\" xlink:href=\"#mc160ed06e4\" y=\"214.756355\"/>\r\n     <use style=\"fill:#1f77b4;stroke:#1f77b4;\" x=\"215.796082\" xlink:href=\"#mc160ed06e4\" y=\"214.756356\"/>\r\n     <use style=\"fill:#1f77b4;stroke:#1f77b4;\" x=\"216.233386\" xlink:href=\"#mc160ed06e4\" y=\"214.756356\"/>\r\n     <use style=\"fill:#1f77b4;stroke:#1f77b4;\" x=\"216.67069\" xlink:href=\"#mc160ed06e4\" y=\"214.756357\"/>\r\n     <use style=\"fill:#1f77b4;stroke:#1f77b4;\" x=\"217.107994\" xlink:href=\"#mc160ed06e4\" y=\"214.756357\"/>\r\n     <use style=\"fill:#1f77b4;stroke:#1f77b4;\" x=\"217.545298\" xlink:href=\"#mc160ed06e4\" y=\"214.756358\"/>\r\n     <use style=\"fill:#1f77b4;stroke:#1f77b4;\" x=\"217.982602\" xlink:href=\"#mc160ed06e4\" y=\"214.756358\"/>\r\n     <use style=\"fill:#1f77b4;stroke:#1f77b4;\" x=\"218.419906\" xlink:href=\"#mc160ed06e4\" y=\"214.756358\"/>\r\n     <use style=\"fill:#1f77b4;stroke:#1f77b4;\" x=\"218.85721\" xlink:href=\"#mc160ed06e4\" y=\"214.756359\"/>\r\n     <use style=\"fill:#1f77b4;stroke:#1f77b4;\" x=\"219.294514\" xlink:href=\"#mc160ed06e4\" y=\"214.756359\"/>\r\n     <use style=\"fill:#1f77b4;stroke:#1f77b4;\" x=\"219.731818\" xlink:href=\"#mc160ed06e4\" y=\"214.756359\"/>\r\n     <use style=\"fill:#1f77b4;stroke:#1f77b4;\" x=\"220.169122\" xlink:href=\"#mc160ed06e4\" y=\"214.756359\"/>\r\n     <use style=\"fill:#1f77b4;stroke:#1f77b4;\" x=\"220.606426\" xlink:href=\"#mc160ed06e4\" y=\"214.75636\"/>\r\n     <use style=\"fill:#1f77b4;stroke:#1f77b4;\" x=\"221.04373\" xlink:href=\"#mc160ed06e4\" y=\"214.75636\"/>\r\n     <use style=\"fill:#1f77b4;stroke:#1f77b4;\" x=\"221.481034\" xlink:href=\"#mc160ed06e4\" y=\"214.75636\"/>\r\n     <use style=\"fill:#1f77b4;stroke:#1f77b4;\" x=\"221.918339\" xlink:href=\"#mc160ed06e4\" y=\"214.75636\"/>\r\n     <use style=\"fill:#1f77b4;stroke:#1f77b4;\" x=\"222.355643\" xlink:href=\"#mc160ed06e4\" y=\"214.75636\"/>\r\n     <use style=\"fill:#1f77b4;stroke:#1f77b4;\" x=\"222.792947\" xlink:href=\"#mc160ed06e4\" y=\"214.756361\"/>\r\n     <use style=\"fill:#1f77b4;stroke:#1f77b4;\" x=\"223.230251\" xlink:href=\"#mc160ed06e4\" y=\"214.756361\"/>\r\n     <use style=\"fill:#1f77b4;stroke:#1f77b4;\" x=\"223.667555\" xlink:href=\"#mc160ed06e4\" y=\"214.756361\"/>\r\n     <use style=\"fill:#1f77b4;stroke:#1f77b4;\" x=\"224.104859\" xlink:href=\"#mc160ed06e4\" y=\"214.756361\"/>\r\n     <use style=\"fill:#1f77b4;stroke:#1f77b4;\" x=\"224.542163\" xlink:href=\"#mc160ed06e4\" y=\"214.756361\"/>\r\n     <use style=\"fill:#1f77b4;stroke:#1f77b4;\" x=\"224.979467\" xlink:href=\"#mc160ed06e4\" y=\"214.756361\"/>\r\n     <use style=\"fill:#1f77b4;stroke:#1f77b4;\" x=\"225.416771\" xlink:href=\"#mc160ed06e4\" y=\"214.756362\"/>\r\n     <use style=\"fill:#1f77b4;stroke:#1f77b4;\" x=\"225.854075\" xlink:href=\"#mc160ed06e4\" y=\"214.756362\"/>\r\n     <use style=\"fill:#1f77b4;stroke:#1f77b4;\" x=\"226.291379\" xlink:href=\"#mc160ed06e4\" y=\"214.756362\"/>\r\n     <use style=\"fill:#1f77b4;stroke:#1f77b4;\" x=\"226.728683\" xlink:href=\"#mc160ed06e4\" y=\"214.756362\"/>\r\n     <use style=\"fill:#1f77b4;stroke:#1f77b4;\" x=\"227.165987\" xlink:href=\"#mc160ed06e4\" y=\"214.756362\"/>\r\n     <use style=\"fill:#1f77b4;stroke:#1f77b4;\" x=\"227.603292\" xlink:href=\"#mc160ed06e4\" y=\"214.756362\"/>\r\n     <use style=\"fill:#1f77b4;stroke:#1f77b4;\" x=\"228.040596\" xlink:href=\"#mc160ed06e4\" y=\"214.756362\"/>\r\n     <use style=\"fill:#1f77b4;stroke:#1f77b4;\" x=\"228.4779\" xlink:href=\"#mc160ed06e4\" y=\"214.756362\"/>\r\n     <use style=\"fill:#1f77b4;stroke:#1f77b4;\" x=\"228.915204\" xlink:href=\"#mc160ed06e4\" y=\"214.756362\"/>\r\n     <use style=\"fill:#1f77b4;stroke:#1f77b4;\" x=\"229.352508\" xlink:href=\"#mc160ed06e4\" y=\"214.756362\"/>\r\n     <use style=\"fill:#1f77b4;stroke:#1f77b4;\" x=\"229.789812\" xlink:href=\"#mc160ed06e4\" y=\"214.756362\"/>\r\n     <use style=\"fill:#1f77b4;stroke:#1f77b4;\" x=\"230.227116\" xlink:href=\"#mc160ed06e4\" y=\"214.756363\"/>\r\n     <use style=\"fill:#1f77b4;stroke:#1f77b4;\" x=\"230.66442\" xlink:href=\"#mc160ed06e4\" y=\"214.756363\"/>\r\n     <use style=\"fill:#1f77b4;stroke:#1f77b4;\" x=\"231.101724\" xlink:href=\"#mc160ed06e4\" y=\"214.756363\"/>\r\n     <use style=\"fill:#1f77b4;stroke:#1f77b4;\" x=\"231.539028\" xlink:href=\"#mc160ed06e4\" y=\"214.756363\"/>\r\n     <use style=\"fill:#1f77b4;stroke:#1f77b4;\" x=\"231.976332\" xlink:href=\"#mc160ed06e4\" y=\"214.756363\"/>\r\n     <use style=\"fill:#1f77b4;stroke:#1f77b4;\" x=\"232.413636\" xlink:href=\"#mc160ed06e4\" y=\"214.756363\"/>\r\n     <use style=\"fill:#1f77b4;stroke:#1f77b4;\" x=\"232.85094\" xlink:href=\"#mc160ed06e4\" y=\"214.756363\"/>\r\n     <use style=\"fill:#1f77b4;stroke:#1f77b4;\" x=\"233.288245\" xlink:href=\"#mc160ed06e4\" y=\"214.756363\"/>\r\n     <use style=\"fill:#1f77b4;stroke:#1f77b4;\" x=\"233.725549\" xlink:href=\"#mc160ed06e4\" y=\"214.756363\"/>\r\n     <use style=\"fill:#1f77b4;stroke:#1f77b4;\" x=\"234.162853\" xlink:href=\"#mc160ed06e4\" y=\"214.756363\"/>\r\n     <use style=\"fill:#1f77b4;stroke:#1f77b4;\" x=\"234.600157\" xlink:href=\"#mc160ed06e4\" y=\"214.756363\"/>\r\n     <use style=\"fill:#1f77b4;stroke:#1f77b4;\" x=\"235.037461\" xlink:href=\"#mc160ed06e4\" y=\"214.756363\"/>\r\n     <use style=\"fill:#1f77b4;stroke:#1f77b4;\" x=\"235.474765\" xlink:href=\"#mc160ed06e4\" y=\"214.756363\"/>\r\n     <use style=\"fill:#1f77b4;stroke:#1f77b4;\" x=\"235.912069\" xlink:href=\"#mc160ed06e4\" y=\"214.756363\"/>\r\n     <use style=\"fill:#1f77b4;stroke:#1f77b4;\" x=\"236.349373\" xlink:href=\"#mc160ed06e4\" y=\"214.756363\"/>\r\n     <use style=\"fill:#1f77b4;stroke:#1f77b4;\" x=\"236.786677\" xlink:href=\"#mc160ed06e4\" y=\"214.756363\"/>\r\n     <use style=\"fill:#1f77b4;stroke:#1f77b4;\" x=\"237.223981\" xlink:href=\"#mc160ed06e4\" y=\"214.756363\"/>\r\n     <use style=\"fill:#1f77b4;stroke:#1f77b4;\" x=\"237.661285\" xlink:href=\"#mc160ed06e4\" y=\"214.756363\"/>\r\n     <use style=\"fill:#1f77b4;stroke:#1f77b4;\" x=\"238.098589\" xlink:href=\"#mc160ed06e4\" y=\"214.756363\"/>\r\n     <use style=\"fill:#1f77b4;stroke:#1f77b4;\" x=\"238.535893\" xlink:href=\"#mc160ed06e4\" y=\"214.756363\"/>\r\n     <use style=\"fill:#1f77b4;stroke:#1f77b4;\" x=\"238.973197\" xlink:href=\"#mc160ed06e4\" y=\"214.756363\"/>\r\n     <use style=\"fill:#1f77b4;stroke:#1f77b4;\" x=\"239.410502\" xlink:href=\"#mc160ed06e4\" y=\"214.756363\"/>\r\n     <use style=\"fill:#1f77b4;stroke:#1f77b4;\" x=\"239.847806\" xlink:href=\"#mc160ed06e4\" y=\"214.756363\"/>\r\n     <use style=\"fill:#1f77b4;stroke:#1f77b4;\" x=\"240.28511\" xlink:href=\"#mc160ed06e4\" y=\"214.756363\"/>\r\n     <use style=\"fill:#1f77b4;stroke:#1f77b4;\" x=\"240.722414\" xlink:href=\"#mc160ed06e4\" y=\"214.756363\"/>\r\n     <use style=\"fill:#1f77b4;stroke:#1f77b4;\" x=\"241.159718\" xlink:href=\"#mc160ed06e4\" y=\"214.756363\"/>\r\n     <use style=\"fill:#1f77b4;stroke:#1f77b4;\" x=\"241.597022\" xlink:href=\"#mc160ed06e4\" y=\"214.756363\"/>\r\n     <use style=\"fill:#1f77b4;stroke:#1f77b4;\" x=\"242.034326\" xlink:href=\"#mc160ed06e4\" y=\"214.756363\"/>\r\n     <use style=\"fill:#1f77b4;stroke:#1f77b4;\" x=\"242.47163\" xlink:href=\"#mc160ed06e4\" y=\"214.756363\"/>\r\n     <use style=\"fill:#1f77b4;stroke:#1f77b4;\" x=\"242.908934\" xlink:href=\"#mc160ed06e4\" y=\"214.756363\"/>\r\n     <use style=\"fill:#1f77b4;stroke:#1f77b4;\" x=\"243.346238\" xlink:href=\"#mc160ed06e4\" y=\"214.756363\"/>\r\n     <use style=\"fill:#1f77b4;stroke:#1f77b4;\" x=\"243.783542\" xlink:href=\"#mc160ed06e4\" y=\"214.756363\"/>\r\n     <use style=\"fill:#1f77b4;stroke:#1f77b4;\" x=\"244.220846\" xlink:href=\"#mc160ed06e4\" y=\"214.756363\"/>\r\n     <use style=\"fill:#1f77b4;stroke:#1f77b4;\" x=\"244.65815\" xlink:href=\"#mc160ed06e4\" y=\"214.756363\"/>\r\n     <use style=\"fill:#1f77b4;stroke:#1f77b4;\" x=\"245.095455\" xlink:href=\"#mc160ed06e4\" y=\"214.756363\"/>\r\n     <use style=\"fill:#1f77b4;stroke:#1f77b4;\" x=\"245.532759\" xlink:href=\"#mc160ed06e4\" y=\"214.756363\"/>\r\n     <use style=\"fill:#1f77b4;stroke:#1f77b4;\" x=\"245.970063\" xlink:href=\"#mc160ed06e4\" y=\"214.756363\"/>\r\n     <use style=\"fill:#1f77b4;stroke:#1f77b4;\" x=\"246.407367\" xlink:href=\"#mc160ed06e4\" y=\"214.756364\"/>\r\n     <use style=\"fill:#1f77b4;stroke:#1f77b4;\" x=\"246.844671\" xlink:href=\"#mc160ed06e4\" y=\"214.756364\"/>\r\n     <use style=\"fill:#1f77b4;stroke:#1f77b4;\" x=\"247.281975\" xlink:href=\"#mc160ed06e4\" y=\"214.756364\"/>\r\n     <use style=\"fill:#1f77b4;stroke:#1f77b4;\" x=\"247.719279\" xlink:href=\"#mc160ed06e4\" y=\"214.756364\"/>\r\n     <use style=\"fill:#1f77b4;stroke:#1f77b4;\" x=\"248.156583\" xlink:href=\"#mc160ed06e4\" y=\"214.756364\"/>\r\n     <use style=\"fill:#1f77b4;stroke:#1f77b4;\" x=\"248.593887\" xlink:href=\"#mc160ed06e4\" y=\"214.756364\"/>\r\n     <use style=\"fill:#1f77b4;stroke:#1f77b4;\" x=\"249.031191\" xlink:href=\"#mc160ed06e4\" y=\"214.756364\"/>\r\n     <use style=\"fill:#1f77b4;stroke:#1f77b4;\" x=\"249.468495\" xlink:href=\"#mc160ed06e4\" y=\"214.756364\"/>\r\n     <use style=\"fill:#1f77b4;stroke:#1f77b4;\" x=\"249.905799\" xlink:href=\"#mc160ed06e4\" y=\"214.756364\"/>\r\n     <use style=\"fill:#1f77b4;stroke:#1f77b4;\" x=\"250.343103\" xlink:href=\"#mc160ed06e4\" y=\"214.756364\"/>\r\n     <use style=\"fill:#1f77b4;stroke:#1f77b4;\" x=\"250.780408\" xlink:href=\"#mc160ed06e4\" y=\"214.756364\"/>\r\n     <use style=\"fill:#1f77b4;stroke:#1f77b4;\" x=\"251.217712\" xlink:href=\"#mc160ed06e4\" y=\"214.756364\"/>\r\n     <use style=\"fill:#1f77b4;stroke:#1f77b4;\" x=\"251.655016\" xlink:href=\"#mc160ed06e4\" y=\"214.756364\"/>\r\n     <use style=\"fill:#1f77b4;stroke:#1f77b4;\" x=\"252.09232\" xlink:href=\"#mc160ed06e4\" y=\"214.756364\"/>\r\n     <use style=\"fill:#1f77b4;stroke:#1f77b4;\" x=\"252.529624\" xlink:href=\"#mc160ed06e4\" y=\"214.756364\"/>\r\n     <use style=\"fill:#1f77b4;stroke:#1f77b4;\" x=\"252.966928\" xlink:href=\"#mc160ed06e4\" y=\"214.756364\"/>\r\n     <use style=\"fill:#1f77b4;stroke:#1f77b4;\" x=\"253.404232\" xlink:href=\"#mc160ed06e4\" y=\"214.756364\"/>\r\n     <use style=\"fill:#1f77b4;stroke:#1f77b4;\" x=\"253.841536\" xlink:href=\"#mc160ed06e4\" y=\"214.756364\"/>\r\n     <use style=\"fill:#1f77b4;stroke:#1f77b4;\" x=\"254.27884\" xlink:href=\"#mc160ed06e4\" y=\"214.756364\"/>\r\n     <use style=\"fill:#1f77b4;stroke:#1f77b4;\" x=\"254.716144\" xlink:href=\"#mc160ed06e4\" y=\"214.756364\"/>\r\n     <use style=\"fill:#1f77b4;stroke:#1f77b4;\" x=\"255.153448\" xlink:href=\"#mc160ed06e4\" y=\"214.756364\"/>\r\n     <use style=\"fill:#1f77b4;stroke:#1f77b4;\" x=\"255.590752\" xlink:href=\"#mc160ed06e4\" y=\"214.756364\"/>\r\n     <use style=\"fill:#1f77b4;stroke:#1f77b4;\" x=\"256.028056\" xlink:href=\"#mc160ed06e4\" y=\"214.756364\"/>\r\n     <use style=\"fill:#1f77b4;stroke:#1f77b4;\" x=\"256.465361\" xlink:href=\"#mc160ed06e4\" y=\"214.756364\"/>\r\n     <use style=\"fill:#1f77b4;stroke:#1f77b4;\" x=\"256.902665\" xlink:href=\"#mc160ed06e4\" y=\"214.756364\"/>\r\n     <use style=\"fill:#1f77b4;stroke:#1f77b4;\" x=\"257.339969\" xlink:href=\"#mc160ed06e4\" y=\"214.756364\"/>\r\n     <use style=\"fill:#1f77b4;stroke:#1f77b4;\" x=\"257.777273\" xlink:href=\"#mc160ed06e4\" y=\"214.756364\"/>\r\n     <use style=\"fill:#1f77b4;stroke:#1f77b4;\" x=\"258.214577\" xlink:href=\"#mc160ed06e4\" y=\"214.756364\"/>\r\n     <use style=\"fill:#1f77b4;stroke:#1f77b4;\" x=\"258.651881\" xlink:href=\"#mc160ed06e4\" y=\"214.756364\"/>\r\n     <use style=\"fill:#1f77b4;stroke:#1f77b4;\" x=\"259.089185\" xlink:href=\"#mc160ed06e4\" y=\"214.756364\"/>\r\n     <use style=\"fill:#1f77b4;stroke:#1f77b4;\" x=\"259.526489\" xlink:href=\"#mc160ed06e4\" y=\"214.756364\"/>\r\n     <use style=\"fill:#1f77b4;stroke:#1f77b4;\" x=\"259.963793\" xlink:href=\"#mc160ed06e4\" y=\"214.756364\"/>\r\n     <use style=\"fill:#1f77b4;stroke:#1f77b4;\" x=\"260.401097\" xlink:href=\"#mc160ed06e4\" y=\"214.756364\"/>\r\n     <use style=\"fill:#1f77b4;stroke:#1f77b4;\" x=\"260.838401\" xlink:href=\"#mc160ed06e4\" y=\"214.756364\"/>\r\n     <use style=\"fill:#1f77b4;stroke:#1f77b4;\" x=\"261.275705\" xlink:href=\"#mc160ed06e4\" y=\"214.756364\"/>\r\n     <use style=\"fill:#1f77b4;stroke:#1f77b4;\" x=\"261.713009\" xlink:href=\"#mc160ed06e4\" y=\"214.756364\"/>\r\n     <use style=\"fill:#1f77b4;stroke:#1f77b4;\" x=\"262.150313\" xlink:href=\"#mc160ed06e4\" y=\"214.756364\"/>\r\n     <use style=\"fill:#1f77b4;stroke:#1f77b4;\" x=\"262.587618\" xlink:href=\"#mc160ed06e4\" y=\"214.756364\"/>\r\n     <use style=\"fill:#1f77b4;stroke:#1f77b4;\" x=\"263.024922\" xlink:href=\"#mc160ed06e4\" y=\"214.756364\"/>\r\n     <use style=\"fill:#1f77b4;stroke:#1f77b4;\" x=\"263.462226\" xlink:href=\"#mc160ed06e4\" y=\"214.756364\"/>\r\n     <use style=\"fill:#1f77b4;stroke:#1f77b4;\" x=\"263.89953\" xlink:href=\"#mc160ed06e4\" y=\"214.756364\"/>\r\n     <use style=\"fill:#1f77b4;stroke:#1f77b4;\" x=\"264.336834\" xlink:href=\"#mc160ed06e4\" y=\"214.756364\"/>\r\n     <use style=\"fill:#1f77b4;stroke:#1f77b4;\" x=\"264.774138\" xlink:href=\"#mc160ed06e4\" y=\"214.756364\"/>\r\n     <use style=\"fill:#1f77b4;stroke:#1f77b4;\" x=\"265.211442\" xlink:href=\"#mc160ed06e4\" y=\"214.756364\"/>\r\n     <use style=\"fill:#1f77b4;stroke:#1f77b4;\" x=\"265.648746\" xlink:href=\"#mc160ed06e4\" y=\"214.756364\"/>\r\n     <use style=\"fill:#1f77b4;stroke:#1f77b4;\" x=\"266.08605\" xlink:href=\"#mc160ed06e4\" y=\"214.756364\"/>\r\n     <use style=\"fill:#1f77b4;stroke:#1f77b4;\" x=\"266.523354\" xlink:href=\"#mc160ed06e4\" y=\"214.756364\"/>\r\n     <use style=\"fill:#1f77b4;stroke:#1f77b4;\" x=\"266.960658\" xlink:href=\"#mc160ed06e4\" y=\"214.756364\"/>\r\n     <use style=\"fill:#1f77b4;stroke:#1f77b4;\" x=\"267.397962\" xlink:href=\"#mc160ed06e4\" y=\"214.756364\"/>\r\n     <use style=\"fill:#1f77b4;stroke:#1f77b4;\" x=\"267.835266\" xlink:href=\"#mc160ed06e4\" y=\"214.756364\"/>\r\n     <use style=\"fill:#1f77b4;stroke:#1f77b4;\" x=\"268.272571\" xlink:href=\"#mc160ed06e4\" y=\"214.756364\"/>\r\n     <use style=\"fill:#1f77b4;stroke:#1f77b4;\" x=\"268.709875\" xlink:href=\"#mc160ed06e4\" y=\"214.756364\"/>\r\n     <use style=\"fill:#1f77b4;stroke:#1f77b4;\" x=\"269.147179\" xlink:href=\"#mc160ed06e4\" y=\"214.756364\"/>\r\n     <use style=\"fill:#1f77b4;stroke:#1f77b4;\" x=\"269.584483\" xlink:href=\"#mc160ed06e4\" y=\"214.756364\"/>\r\n     <use style=\"fill:#1f77b4;stroke:#1f77b4;\" x=\"270.021787\" xlink:href=\"#mc160ed06e4\" y=\"214.756364\"/>\r\n     <use style=\"fill:#1f77b4;stroke:#1f77b4;\" x=\"270.459091\" xlink:href=\"#mc160ed06e4\" y=\"214.756364\"/>\r\n     <use style=\"fill:#1f77b4;stroke:#1f77b4;\" x=\"270.896395\" xlink:href=\"#mc160ed06e4\" y=\"214.756364\"/>\r\n     <use style=\"fill:#1f77b4;stroke:#1f77b4;\" x=\"271.333699\" xlink:href=\"#mc160ed06e4\" y=\"214.756364\"/>\r\n     <use style=\"fill:#1f77b4;stroke:#1f77b4;\" x=\"271.771003\" xlink:href=\"#mc160ed06e4\" y=\"214.756364\"/>\r\n     <use style=\"fill:#1f77b4;stroke:#1f77b4;\" x=\"272.208307\" xlink:href=\"#mc160ed06e4\" y=\"214.756364\"/>\r\n     <use style=\"fill:#1f77b4;stroke:#1f77b4;\" x=\"272.645611\" xlink:href=\"#mc160ed06e4\" y=\"214.756364\"/>\r\n     <use style=\"fill:#1f77b4;stroke:#1f77b4;\" x=\"273.082915\" xlink:href=\"#mc160ed06e4\" y=\"214.756364\"/>\r\n     <use style=\"fill:#1f77b4;stroke:#1f77b4;\" x=\"273.520219\" xlink:href=\"#mc160ed06e4\" y=\"214.756364\"/>\r\n     <use style=\"fill:#1f77b4;stroke:#1f77b4;\" x=\"273.957524\" xlink:href=\"#mc160ed06e4\" y=\"214.756364\"/>\r\n     <use style=\"fill:#1f77b4;stroke:#1f77b4;\" x=\"274.394828\" xlink:href=\"#mc160ed06e4\" y=\"214.756364\"/>\r\n     <use style=\"fill:#1f77b4;stroke:#1f77b4;\" x=\"274.832132\" xlink:href=\"#mc160ed06e4\" y=\"214.756364\"/>\r\n     <use style=\"fill:#1f77b4;stroke:#1f77b4;\" x=\"275.269436\" xlink:href=\"#mc160ed06e4\" y=\"214.756364\"/>\r\n     <use style=\"fill:#1f77b4;stroke:#1f77b4;\" x=\"275.70674\" xlink:href=\"#mc160ed06e4\" y=\"214.756364\"/>\r\n     <use style=\"fill:#1f77b4;stroke:#1f77b4;\" x=\"276.144044\" xlink:href=\"#mc160ed06e4\" y=\"214.756364\"/>\r\n     <use style=\"fill:#1f77b4;stroke:#1f77b4;\" x=\"276.581348\" xlink:href=\"#mc160ed06e4\" y=\"214.756364\"/>\r\n     <use style=\"fill:#1f77b4;stroke:#1f77b4;\" x=\"277.018652\" xlink:href=\"#mc160ed06e4\" y=\"214.756364\"/>\r\n     <use style=\"fill:#1f77b4;stroke:#1f77b4;\" x=\"277.455956\" xlink:href=\"#mc160ed06e4\" y=\"214.756364\"/>\r\n     <use style=\"fill:#1f77b4;stroke:#1f77b4;\" x=\"277.89326\" xlink:href=\"#mc160ed06e4\" y=\"214.756364\"/>\r\n     <use style=\"fill:#1f77b4;stroke:#1f77b4;\" x=\"278.330564\" xlink:href=\"#mc160ed06e4\" y=\"214.756364\"/>\r\n     <use style=\"fill:#1f77b4;stroke:#1f77b4;\" x=\"278.767868\" xlink:href=\"#mc160ed06e4\" y=\"214.756364\"/>\r\n     <use style=\"fill:#1f77b4;stroke:#1f77b4;\" x=\"279.205172\" xlink:href=\"#mc160ed06e4\" y=\"214.756364\"/>\r\n     <use style=\"fill:#1f77b4;stroke:#1f77b4;\" x=\"279.642476\" xlink:href=\"#mc160ed06e4\" y=\"214.756364\"/>\r\n     <use style=\"fill:#1f77b4;stroke:#1f77b4;\" x=\"280.079781\" xlink:href=\"#mc160ed06e4\" y=\"214.756364\"/>\r\n     <use style=\"fill:#1f77b4;stroke:#1f77b4;\" x=\"280.517085\" xlink:href=\"#mc160ed06e4\" y=\"214.756364\"/>\r\n     <use style=\"fill:#1f77b4;stroke:#1f77b4;\" x=\"280.954389\" xlink:href=\"#mc160ed06e4\" y=\"214.756364\"/>\r\n     <use style=\"fill:#1f77b4;stroke:#1f77b4;\" x=\"281.391693\" xlink:href=\"#mc160ed06e4\" y=\"214.756364\"/>\r\n     <use style=\"fill:#1f77b4;stroke:#1f77b4;\" x=\"281.828997\" xlink:href=\"#mc160ed06e4\" y=\"214.756364\"/>\r\n     <use style=\"fill:#1f77b4;stroke:#1f77b4;\" x=\"282.266301\" xlink:href=\"#mc160ed06e4\" y=\"214.756364\"/>\r\n     <use style=\"fill:#1f77b4;stroke:#1f77b4;\" x=\"282.703605\" xlink:href=\"#mc160ed06e4\" y=\"214.756364\"/>\r\n     <use style=\"fill:#1f77b4;stroke:#1f77b4;\" x=\"283.140909\" xlink:href=\"#mc160ed06e4\" y=\"214.756364\"/>\r\n     <use style=\"fill:#1f77b4;stroke:#1f77b4;\" x=\"283.578213\" xlink:href=\"#mc160ed06e4\" y=\"214.756364\"/>\r\n     <use style=\"fill:#1f77b4;stroke:#1f77b4;\" x=\"284.015517\" xlink:href=\"#mc160ed06e4\" y=\"214.756364\"/>\r\n     <use style=\"fill:#1f77b4;stroke:#1f77b4;\" x=\"284.452821\" xlink:href=\"#mc160ed06e4\" y=\"214.756364\"/>\r\n     <use style=\"fill:#1f77b4;stroke:#1f77b4;\" x=\"284.890125\" xlink:href=\"#mc160ed06e4\" y=\"214.756364\"/>\r\n     <use style=\"fill:#1f77b4;stroke:#1f77b4;\" x=\"285.327429\" xlink:href=\"#mc160ed06e4\" y=\"214.756364\"/>\r\n     <use style=\"fill:#1f77b4;stroke:#1f77b4;\" x=\"285.764734\" xlink:href=\"#mc160ed06e4\" y=\"214.756364\"/>\r\n     <use style=\"fill:#1f77b4;stroke:#1f77b4;\" x=\"286.202038\" xlink:href=\"#mc160ed06e4\" y=\"214.756364\"/>\r\n     <use style=\"fill:#1f77b4;stroke:#1f77b4;\" x=\"286.639342\" xlink:href=\"#mc160ed06e4\" y=\"214.756364\"/>\r\n     <use style=\"fill:#1f77b4;stroke:#1f77b4;\" x=\"287.076646\" xlink:href=\"#mc160ed06e4\" y=\"214.756364\"/>\r\n     <use style=\"fill:#1f77b4;stroke:#1f77b4;\" x=\"287.51395\" xlink:href=\"#mc160ed06e4\" y=\"214.756364\"/>\r\n     <use style=\"fill:#1f77b4;stroke:#1f77b4;\" x=\"287.951254\" xlink:href=\"#mc160ed06e4\" y=\"214.756364\"/>\r\n     <use style=\"fill:#1f77b4;stroke:#1f77b4;\" x=\"288.388558\" xlink:href=\"#mc160ed06e4\" y=\"214.756364\"/>\r\n     <use style=\"fill:#1f77b4;stroke:#1f77b4;\" x=\"288.825862\" xlink:href=\"#mc160ed06e4\" y=\"214.756364\"/>\r\n     <use style=\"fill:#1f77b4;stroke:#1f77b4;\" x=\"289.263166\" xlink:href=\"#mc160ed06e4\" y=\"214.756364\"/>\r\n     <use style=\"fill:#1f77b4;stroke:#1f77b4;\" x=\"289.70047\" xlink:href=\"#mc160ed06e4\" y=\"214.756364\"/>\r\n     <use style=\"fill:#1f77b4;stroke:#1f77b4;\" x=\"290.137774\" xlink:href=\"#mc160ed06e4\" y=\"214.756364\"/>\r\n     <use style=\"fill:#1f77b4;stroke:#1f77b4;\" x=\"290.575078\" xlink:href=\"#mc160ed06e4\" y=\"214.756364\"/>\r\n     <use style=\"fill:#1f77b4;stroke:#1f77b4;\" x=\"291.012382\" xlink:href=\"#mc160ed06e4\" y=\"214.756364\"/>\r\n     <use style=\"fill:#1f77b4;stroke:#1f77b4;\" x=\"291.449687\" xlink:href=\"#mc160ed06e4\" y=\"214.756364\"/>\r\n     <use style=\"fill:#1f77b4;stroke:#1f77b4;\" x=\"291.886991\" xlink:href=\"#mc160ed06e4\" y=\"214.756364\"/>\r\n     <use style=\"fill:#1f77b4;stroke:#1f77b4;\" x=\"292.324295\" xlink:href=\"#mc160ed06e4\" y=\"214.756364\"/>\r\n     <use style=\"fill:#1f77b4;stroke:#1f77b4;\" x=\"292.761599\" xlink:href=\"#mc160ed06e4\" y=\"214.756364\"/>\r\n     <use style=\"fill:#1f77b4;stroke:#1f77b4;\" x=\"293.198903\" xlink:href=\"#mc160ed06e4\" y=\"214.756364\"/>\r\n     <use style=\"fill:#1f77b4;stroke:#1f77b4;\" x=\"293.636207\" xlink:href=\"#mc160ed06e4\" y=\"214.756364\"/>\r\n     <use style=\"fill:#1f77b4;stroke:#1f77b4;\" x=\"294.073511\" xlink:href=\"#mc160ed06e4\" y=\"214.756364\"/>\r\n     <use style=\"fill:#1f77b4;stroke:#1f77b4;\" x=\"294.510815\" xlink:href=\"#mc160ed06e4\" y=\"214.756364\"/>\r\n     <use style=\"fill:#1f77b4;stroke:#1f77b4;\" x=\"294.948119\" xlink:href=\"#mc160ed06e4\" y=\"214.756364\"/>\r\n     <use style=\"fill:#1f77b4;stroke:#1f77b4;\" x=\"295.385423\" xlink:href=\"#mc160ed06e4\" y=\"214.756364\"/>\r\n     <use style=\"fill:#1f77b4;stroke:#1f77b4;\" x=\"295.822727\" xlink:href=\"#mc160ed06e4\" y=\"214.756364\"/>\r\n     <use style=\"fill:#1f77b4;stroke:#1f77b4;\" x=\"296.260031\" xlink:href=\"#mc160ed06e4\" y=\"214.756364\"/>\r\n     <use style=\"fill:#1f77b4;stroke:#1f77b4;\" x=\"296.697335\" xlink:href=\"#mc160ed06e4\" y=\"214.756364\"/>\r\n     <use style=\"fill:#1f77b4;stroke:#1f77b4;\" x=\"297.134639\" xlink:href=\"#mc160ed06e4\" y=\"214.756364\"/>\r\n     <use style=\"fill:#1f77b4;stroke:#1f77b4;\" x=\"297.571944\" xlink:href=\"#mc160ed06e4\" y=\"214.756364\"/>\r\n     <use style=\"fill:#1f77b4;stroke:#1f77b4;\" x=\"298.009248\" xlink:href=\"#mc160ed06e4\" y=\"214.756364\"/>\r\n     <use style=\"fill:#1f77b4;stroke:#1f77b4;\" x=\"298.446552\" xlink:href=\"#mc160ed06e4\" y=\"214.756364\"/>\r\n     <use style=\"fill:#1f77b4;stroke:#1f77b4;\" x=\"298.883856\" xlink:href=\"#mc160ed06e4\" y=\"214.756364\"/>\r\n     <use style=\"fill:#1f77b4;stroke:#1f77b4;\" x=\"299.32116\" xlink:href=\"#mc160ed06e4\" y=\"214.756364\"/>\r\n     <use style=\"fill:#1f77b4;stroke:#1f77b4;\" x=\"299.758464\" xlink:href=\"#mc160ed06e4\" y=\"214.756364\"/>\r\n     <use style=\"fill:#1f77b4;stroke:#1f77b4;\" x=\"300.195768\" xlink:href=\"#mc160ed06e4\" y=\"214.756364\"/>\r\n     <use style=\"fill:#1f77b4;stroke:#1f77b4;\" x=\"300.633072\" xlink:href=\"#mc160ed06e4\" y=\"214.756364\"/>\r\n     <use style=\"fill:#1f77b4;stroke:#1f77b4;\" x=\"301.070376\" xlink:href=\"#mc160ed06e4\" y=\"214.756364\"/>\r\n     <use style=\"fill:#1f77b4;stroke:#1f77b4;\" x=\"301.50768\" xlink:href=\"#mc160ed06e4\" y=\"214.756364\"/>\r\n     <use style=\"fill:#1f77b4;stroke:#1f77b4;\" x=\"301.944984\" xlink:href=\"#mc160ed06e4\" y=\"214.756364\"/>\r\n     <use style=\"fill:#1f77b4;stroke:#1f77b4;\" x=\"302.382288\" xlink:href=\"#mc160ed06e4\" y=\"214.756364\"/>\r\n     <use style=\"fill:#1f77b4;stroke:#1f77b4;\" x=\"302.819592\" xlink:href=\"#mc160ed06e4\" y=\"214.756364\"/>\r\n     <use style=\"fill:#1f77b4;stroke:#1f77b4;\" x=\"303.256897\" xlink:href=\"#mc160ed06e4\" y=\"214.756364\"/>\r\n     <use style=\"fill:#1f77b4;stroke:#1f77b4;\" x=\"303.694201\" xlink:href=\"#mc160ed06e4\" y=\"214.756364\"/>\r\n     <use style=\"fill:#1f77b4;stroke:#1f77b4;\" x=\"304.131505\" xlink:href=\"#mc160ed06e4\" y=\"214.756364\"/>\r\n     <use style=\"fill:#1f77b4;stroke:#1f77b4;\" x=\"304.568809\" xlink:href=\"#mc160ed06e4\" y=\"214.756364\"/>\r\n     <use style=\"fill:#1f77b4;stroke:#1f77b4;\" x=\"305.006113\" xlink:href=\"#mc160ed06e4\" y=\"214.756364\"/>\r\n     <use style=\"fill:#1f77b4;stroke:#1f77b4;\" x=\"305.443417\" xlink:href=\"#mc160ed06e4\" y=\"214.756364\"/>\r\n     <use style=\"fill:#1f77b4;stroke:#1f77b4;\" x=\"305.880721\" xlink:href=\"#mc160ed06e4\" y=\"214.756364\"/>\r\n     <use style=\"fill:#1f77b4;stroke:#1f77b4;\" x=\"306.318025\" xlink:href=\"#mc160ed06e4\" y=\"214.756364\"/>\r\n     <use style=\"fill:#1f77b4;stroke:#1f77b4;\" x=\"306.755329\" xlink:href=\"#mc160ed06e4\" y=\"214.756364\"/>\r\n     <use style=\"fill:#1f77b4;stroke:#1f77b4;\" x=\"307.192633\" xlink:href=\"#mc160ed06e4\" y=\"214.756364\"/>\r\n     <use style=\"fill:#1f77b4;stroke:#1f77b4;\" x=\"307.629937\" xlink:href=\"#mc160ed06e4\" y=\"214.756364\"/>\r\n     <use style=\"fill:#1f77b4;stroke:#1f77b4;\" x=\"308.067241\" xlink:href=\"#mc160ed06e4\" y=\"214.756364\"/>\r\n     <use style=\"fill:#1f77b4;stroke:#1f77b4;\" x=\"308.504545\" xlink:href=\"#mc160ed06e4\" y=\"214.756364\"/>\r\n     <use style=\"fill:#1f77b4;stroke:#1f77b4;\" x=\"308.94185\" xlink:href=\"#mc160ed06e4\" y=\"214.756364\"/>\r\n     <use style=\"fill:#1f77b4;stroke:#1f77b4;\" x=\"309.379154\" xlink:href=\"#mc160ed06e4\" y=\"214.756364\"/>\r\n     <use style=\"fill:#1f77b4;stroke:#1f77b4;\" x=\"309.816458\" xlink:href=\"#mc160ed06e4\" y=\"214.756364\"/>\r\n     <use style=\"fill:#1f77b4;stroke:#1f77b4;\" x=\"310.253762\" xlink:href=\"#mc160ed06e4\" y=\"214.756364\"/>\r\n     <use style=\"fill:#1f77b4;stroke:#1f77b4;\" x=\"310.691066\" xlink:href=\"#mc160ed06e4\" y=\"214.756364\"/>\r\n     <use style=\"fill:#1f77b4;stroke:#1f77b4;\" x=\"311.12837\" xlink:href=\"#mc160ed06e4\" y=\"214.756364\"/>\r\n     <use style=\"fill:#1f77b4;stroke:#1f77b4;\" x=\"311.565674\" xlink:href=\"#mc160ed06e4\" y=\"214.756364\"/>\r\n     <use style=\"fill:#1f77b4;stroke:#1f77b4;\" x=\"312.002978\" xlink:href=\"#mc160ed06e4\" y=\"214.756364\"/>\r\n     <use style=\"fill:#1f77b4;stroke:#1f77b4;\" x=\"312.440282\" xlink:href=\"#mc160ed06e4\" y=\"214.756364\"/>\r\n     <use style=\"fill:#1f77b4;stroke:#1f77b4;\" x=\"312.877586\" xlink:href=\"#mc160ed06e4\" y=\"214.756364\"/>\r\n     <use style=\"fill:#1f77b4;stroke:#1f77b4;\" x=\"313.31489\" xlink:href=\"#mc160ed06e4\" y=\"214.756364\"/>\r\n     <use style=\"fill:#1f77b4;stroke:#1f77b4;\" x=\"313.752194\" xlink:href=\"#mc160ed06e4\" y=\"214.756364\"/>\r\n     <use style=\"fill:#1f77b4;stroke:#1f77b4;\" x=\"314.189498\" xlink:href=\"#mc160ed06e4\" y=\"214.756364\"/>\r\n     <use style=\"fill:#1f77b4;stroke:#1f77b4;\" x=\"314.626803\" xlink:href=\"#mc160ed06e4\" y=\"214.756364\"/>\r\n     <use style=\"fill:#1f77b4;stroke:#1f77b4;\" x=\"315.064107\" xlink:href=\"#mc160ed06e4\" y=\"214.756364\"/>\r\n     <use style=\"fill:#1f77b4;stroke:#1f77b4;\" x=\"315.501411\" xlink:href=\"#mc160ed06e4\" y=\"214.756364\"/>\r\n     <use style=\"fill:#1f77b4;stroke:#1f77b4;\" x=\"315.938715\" xlink:href=\"#mc160ed06e4\" y=\"214.756364\"/>\r\n     <use style=\"fill:#1f77b4;stroke:#1f77b4;\" x=\"316.376019\" xlink:href=\"#mc160ed06e4\" y=\"214.756364\"/>\r\n     <use style=\"fill:#1f77b4;stroke:#1f77b4;\" x=\"316.813323\" xlink:href=\"#mc160ed06e4\" y=\"214.756364\"/>\r\n     <use style=\"fill:#1f77b4;stroke:#1f77b4;\" x=\"317.250627\" xlink:href=\"#mc160ed06e4\" y=\"214.756364\"/>\r\n     <use style=\"fill:#1f77b4;stroke:#1f77b4;\" x=\"317.687931\" xlink:href=\"#mc160ed06e4\" y=\"214.756364\"/>\r\n     <use style=\"fill:#1f77b4;stroke:#1f77b4;\" x=\"318.125235\" xlink:href=\"#mc160ed06e4\" y=\"214.756364\"/>\r\n     <use style=\"fill:#1f77b4;stroke:#1f77b4;\" x=\"318.562539\" xlink:href=\"#mc160ed06e4\" y=\"214.756364\"/>\r\n     <use style=\"fill:#1f77b4;stroke:#1f77b4;\" x=\"318.999843\" xlink:href=\"#mc160ed06e4\" y=\"214.756364\"/>\r\n     <use style=\"fill:#1f77b4;stroke:#1f77b4;\" x=\"319.437147\" xlink:href=\"#mc160ed06e4\" y=\"214.756364\"/>\r\n     <use style=\"fill:#1f77b4;stroke:#1f77b4;\" x=\"319.874451\" xlink:href=\"#mc160ed06e4\" y=\"214.756364\"/>\r\n     <use style=\"fill:#1f77b4;stroke:#1f77b4;\" x=\"320.311755\" xlink:href=\"#mc160ed06e4\" y=\"214.756364\"/>\r\n     <use style=\"fill:#1f77b4;stroke:#1f77b4;\" x=\"320.74906\" xlink:href=\"#mc160ed06e4\" y=\"214.756364\"/>\r\n     <use style=\"fill:#1f77b4;stroke:#1f77b4;\" x=\"321.186364\" xlink:href=\"#mc160ed06e4\" y=\"214.756364\"/>\r\n     <use style=\"fill:#1f77b4;stroke:#1f77b4;\" x=\"321.623668\" xlink:href=\"#mc160ed06e4\" y=\"214.756364\"/>\r\n     <use style=\"fill:#1f77b4;stroke:#1f77b4;\" x=\"322.060972\" xlink:href=\"#mc160ed06e4\" y=\"214.756364\"/>\r\n     <use style=\"fill:#1f77b4;stroke:#1f77b4;\" x=\"322.498276\" xlink:href=\"#mc160ed06e4\" y=\"214.756364\"/>\r\n     <use style=\"fill:#1f77b4;stroke:#1f77b4;\" x=\"322.93558\" xlink:href=\"#mc160ed06e4\" y=\"214.756364\"/>\r\n     <use style=\"fill:#1f77b4;stroke:#1f77b4;\" x=\"323.372884\" xlink:href=\"#mc160ed06e4\" y=\"214.756364\"/>\r\n     <use style=\"fill:#1f77b4;stroke:#1f77b4;\" x=\"323.810188\" xlink:href=\"#mc160ed06e4\" y=\"214.756364\"/>\r\n     <use style=\"fill:#1f77b4;stroke:#1f77b4;\" x=\"324.247492\" xlink:href=\"#mc160ed06e4\" y=\"214.756364\"/>\r\n     <use style=\"fill:#1f77b4;stroke:#1f77b4;\" x=\"324.684796\" xlink:href=\"#mc160ed06e4\" y=\"214.756364\"/>\r\n     <use style=\"fill:#1f77b4;stroke:#1f77b4;\" x=\"325.1221\" xlink:href=\"#mc160ed06e4\" y=\"214.756364\"/>\r\n     <use style=\"fill:#1f77b4;stroke:#1f77b4;\" x=\"325.559404\" xlink:href=\"#mc160ed06e4\" y=\"214.756364\"/>\r\n     <use style=\"fill:#1f77b4;stroke:#1f77b4;\" x=\"325.996708\" xlink:href=\"#mc160ed06e4\" y=\"214.756364\"/>\r\n     <use style=\"fill:#1f77b4;stroke:#1f77b4;\" x=\"326.434013\" xlink:href=\"#mc160ed06e4\" y=\"214.756364\"/>\r\n     <use style=\"fill:#1f77b4;stroke:#1f77b4;\" x=\"326.871317\" xlink:href=\"#mc160ed06e4\" y=\"214.756364\"/>\r\n     <use style=\"fill:#1f77b4;stroke:#1f77b4;\" x=\"327.308621\" xlink:href=\"#mc160ed06e4\" y=\"214.756364\"/>\r\n     <use style=\"fill:#1f77b4;stroke:#1f77b4;\" x=\"327.745925\" xlink:href=\"#mc160ed06e4\" y=\"214.756364\"/>\r\n     <use style=\"fill:#1f77b4;stroke:#1f77b4;\" x=\"328.183229\" xlink:href=\"#mc160ed06e4\" y=\"214.756364\"/>\r\n     <use style=\"fill:#1f77b4;stroke:#1f77b4;\" x=\"328.620533\" xlink:href=\"#mc160ed06e4\" y=\"214.756364\"/>\r\n     <use style=\"fill:#1f77b4;stroke:#1f77b4;\" x=\"329.057837\" xlink:href=\"#mc160ed06e4\" y=\"214.756364\"/>\r\n     <use style=\"fill:#1f77b4;stroke:#1f77b4;\" x=\"329.495141\" xlink:href=\"#mc160ed06e4\" y=\"214.756364\"/>\r\n     <use style=\"fill:#1f77b4;stroke:#1f77b4;\" x=\"329.932445\" xlink:href=\"#mc160ed06e4\" y=\"214.756364\"/>\r\n     <use style=\"fill:#1f77b4;stroke:#1f77b4;\" x=\"330.369749\" xlink:href=\"#mc160ed06e4\" y=\"214.756364\"/>\r\n     <use style=\"fill:#1f77b4;stroke:#1f77b4;\" x=\"330.807053\" xlink:href=\"#mc160ed06e4\" y=\"214.756364\"/>\r\n     <use style=\"fill:#1f77b4;stroke:#1f77b4;\" x=\"331.244357\" xlink:href=\"#mc160ed06e4\" y=\"214.756364\"/>\r\n     <use style=\"fill:#1f77b4;stroke:#1f77b4;\" x=\"331.681661\" xlink:href=\"#mc160ed06e4\" y=\"214.756364\"/>\r\n     <use style=\"fill:#1f77b4;stroke:#1f77b4;\" x=\"332.118966\" xlink:href=\"#mc160ed06e4\" y=\"214.756364\"/>\r\n     <use style=\"fill:#1f77b4;stroke:#1f77b4;\" x=\"332.55627\" xlink:href=\"#mc160ed06e4\" y=\"214.756364\"/>\r\n     <use style=\"fill:#1f77b4;stroke:#1f77b4;\" x=\"332.993574\" xlink:href=\"#mc160ed06e4\" y=\"214.756364\"/>\r\n     <use style=\"fill:#1f77b4;stroke:#1f77b4;\" x=\"333.430878\" xlink:href=\"#mc160ed06e4\" y=\"214.756364\"/>\r\n     <use style=\"fill:#1f77b4;stroke:#1f77b4;\" x=\"333.868182\" xlink:href=\"#mc160ed06e4\" y=\"214.756364\"/>\r\n     <use style=\"fill:#1f77b4;stroke:#1f77b4;\" x=\"334.305486\" xlink:href=\"#mc160ed06e4\" y=\"214.756364\"/>\r\n     <use style=\"fill:#1f77b4;stroke:#1f77b4;\" x=\"334.74279\" xlink:href=\"#mc160ed06e4\" y=\"214.756364\"/>\r\n     <use style=\"fill:#1f77b4;stroke:#1f77b4;\" x=\"335.180094\" xlink:href=\"#mc160ed06e4\" y=\"214.756364\"/>\r\n     <use style=\"fill:#1f77b4;stroke:#1f77b4;\" x=\"335.617398\" xlink:href=\"#mc160ed06e4\" y=\"214.756364\"/>\r\n     <use style=\"fill:#1f77b4;stroke:#1f77b4;\" x=\"336.054702\" xlink:href=\"#mc160ed06e4\" y=\"214.756364\"/>\r\n     <use style=\"fill:#1f77b4;stroke:#1f77b4;\" x=\"336.492006\" xlink:href=\"#mc160ed06e4\" y=\"214.756364\"/>\r\n     <use style=\"fill:#1f77b4;stroke:#1f77b4;\" x=\"336.92931\" xlink:href=\"#mc160ed06e4\" y=\"214.756364\"/>\r\n     <use style=\"fill:#1f77b4;stroke:#1f77b4;\" x=\"337.366614\" xlink:href=\"#mc160ed06e4\" y=\"214.756364\"/>\r\n     <use style=\"fill:#1f77b4;stroke:#1f77b4;\" x=\"337.803918\" xlink:href=\"#mc160ed06e4\" y=\"214.756364\"/>\r\n     <use style=\"fill:#1f77b4;stroke:#1f77b4;\" x=\"338.241223\" xlink:href=\"#mc160ed06e4\" y=\"214.756364\"/>\r\n     <use style=\"fill:#1f77b4;stroke:#1f77b4;\" x=\"338.678527\" xlink:href=\"#mc160ed06e4\" y=\"214.756364\"/>\r\n     <use style=\"fill:#1f77b4;stroke:#1f77b4;\" x=\"339.115831\" xlink:href=\"#mc160ed06e4\" y=\"214.756364\"/>\r\n     <use style=\"fill:#1f77b4;stroke:#1f77b4;\" x=\"339.553135\" xlink:href=\"#mc160ed06e4\" y=\"214.756364\"/>\r\n     <use style=\"fill:#1f77b4;stroke:#1f77b4;\" x=\"339.990439\" xlink:href=\"#mc160ed06e4\" y=\"214.756364\"/>\r\n     <use style=\"fill:#1f77b4;stroke:#1f77b4;\" x=\"340.427743\" xlink:href=\"#mc160ed06e4\" y=\"214.756364\"/>\r\n     <use style=\"fill:#1f77b4;stroke:#1f77b4;\" x=\"340.865047\" xlink:href=\"#mc160ed06e4\" y=\"214.756364\"/>\r\n     <use style=\"fill:#1f77b4;stroke:#1f77b4;\" x=\"341.302351\" xlink:href=\"#mc160ed06e4\" y=\"214.756364\"/>\r\n     <use style=\"fill:#1f77b4;stroke:#1f77b4;\" x=\"341.739655\" xlink:href=\"#mc160ed06e4\" y=\"214.756364\"/>\r\n     <use style=\"fill:#1f77b4;stroke:#1f77b4;\" x=\"342.176959\" xlink:href=\"#mc160ed06e4\" y=\"214.756364\"/>\r\n     <use style=\"fill:#1f77b4;stroke:#1f77b4;\" x=\"342.614263\" xlink:href=\"#mc160ed06e4\" y=\"214.756364\"/>\r\n     <use style=\"fill:#1f77b4;stroke:#1f77b4;\" x=\"343.051567\" xlink:href=\"#mc160ed06e4\" y=\"214.756364\"/>\r\n     <use style=\"fill:#1f77b4;stroke:#1f77b4;\" x=\"343.488871\" xlink:href=\"#mc160ed06e4\" y=\"214.756364\"/>\r\n     <use style=\"fill:#1f77b4;stroke:#1f77b4;\" x=\"343.926176\" xlink:href=\"#mc160ed06e4\" y=\"214.756364\"/>\r\n     <use style=\"fill:#1f77b4;stroke:#1f77b4;\" x=\"344.36348\" xlink:href=\"#mc160ed06e4\" y=\"214.756364\"/>\r\n     <use style=\"fill:#1f77b4;stroke:#1f77b4;\" x=\"344.800784\" xlink:href=\"#mc160ed06e4\" y=\"214.756364\"/>\r\n     <use style=\"fill:#1f77b4;stroke:#1f77b4;\" x=\"345.238088\" xlink:href=\"#mc160ed06e4\" y=\"214.756364\"/>\r\n     <use style=\"fill:#1f77b4;stroke:#1f77b4;\" x=\"345.675392\" xlink:href=\"#mc160ed06e4\" y=\"214.756364\"/>\r\n     <use style=\"fill:#1f77b4;stroke:#1f77b4;\" x=\"346.112696\" xlink:href=\"#mc160ed06e4\" y=\"214.756364\"/>\r\n     <use style=\"fill:#1f77b4;stroke:#1f77b4;\" x=\"346.55\" xlink:href=\"#mc160ed06e4\" y=\"214.756364\"/>\r\n     <use style=\"fill:#1f77b4;stroke:#1f77b4;\" x=\"346.987304\" xlink:href=\"#mc160ed06e4\" y=\"214.756364\"/>\r\n     <use style=\"fill:#1f77b4;stroke:#1f77b4;\" x=\"347.424608\" xlink:href=\"#mc160ed06e4\" y=\"214.756364\"/>\r\n     <use style=\"fill:#1f77b4;stroke:#1f77b4;\" x=\"347.861912\" xlink:href=\"#mc160ed06e4\" y=\"214.756364\"/>\r\n     <use style=\"fill:#1f77b4;stroke:#1f77b4;\" x=\"348.299216\" xlink:href=\"#mc160ed06e4\" y=\"214.756364\"/>\r\n     <use style=\"fill:#1f77b4;stroke:#1f77b4;\" x=\"348.73652\" xlink:href=\"#mc160ed06e4\" y=\"214.756364\"/>\r\n     <use style=\"fill:#1f77b4;stroke:#1f77b4;\" x=\"349.173824\" xlink:href=\"#mc160ed06e4\" y=\"214.756364\"/>\r\n     <use style=\"fill:#1f77b4;stroke:#1f77b4;\" x=\"349.611129\" xlink:href=\"#mc160ed06e4\" y=\"214.756364\"/>\r\n     <use style=\"fill:#1f77b4;stroke:#1f77b4;\" x=\"350.048433\" xlink:href=\"#mc160ed06e4\" y=\"214.756364\"/>\r\n     <use style=\"fill:#1f77b4;stroke:#1f77b4;\" x=\"350.485737\" xlink:href=\"#mc160ed06e4\" y=\"214.756364\"/>\r\n     <use style=\"fill:#1f77b4;stroke:#1f77b4;\" x=\"350.923041\" xlink:href=\"#mc160ed06e4\" y=\"214.756364\"/>\r\n     <use style=\"fill:#1f77b4;stroke:#1f77b4;\" x=\"351.360345\" xlink:href=\"#mc160ed06e4\" y=\"214.756364\"/>\r\n     <use style=\"fill:#1f77b4;stroke:#1f77b4;\" x=\"351.797649\" xlink:href=\"#mc160ed06e4\" y=\"214.756364\"/>\r\n     <use style=\"fill:#1f77b4;stroke:#1f77b4;\" x=\"352.234953\" xlink:href=\"#mc160ed06e4\" y=\"214.756364\"/>\r\n     <use style=\"fill:#1f77b4;stroke:#1f77b4;\" x=\"352.672257\" xlink:href=\"#mc160ed06e4\" y=\"214.756364\"/>\r\n     <use style=\"fill:#1f77b4;stroke:#1f77b4;\" x=\"353.109561\" xlink:href=\"#mc160ed06e4\" y=\"214.756364\"/>\r\n     <use style=\"fill:#1f77b4;stroke:#1f77b4;\" x=\"353.546865\" xlink:href=\"#mc160ed06e4\" y=\"214.756364\"/>\r\n     <use style=\"fill:#1f77b4;stroke:#1f77b4;\" x=\"353.984169\" xlink:href=\"#mc160ed06e4\" y=\"214.756364\"/>\r\n     <use style=\"fill:#1f77b4;stroke:#1f77b4;\" x=\"354.421473\" xlink:href=\"#mc160ed06e4\" y=\"214.756364\"/>\r\n     <use style=\"fill:#1f77b4;stroke:#1f77b4;\" x=\"354.858777\" xlink:href=\"#mc160ed06e4\" y=\"214.756364\"/>\r\n     <use style=\"fill:#1f77b4;stroke:#1f77b4;\" x=\"355.296082\" xlink:href=\"#mc160ed06e4\" y=\"214.756364\"/>\r\n     <use style=\"fill:#1f77b4;stroke:#1f77b4;\" x=\"355.733386\" xlink:href=\"#mc160ed06e4\" y=\"214.756364\"/>\r\n     <use style=\"fill:#1f77b4;stroke:#1f77b4;\" x=\"356.17069\" xlink:href=\"#mc160ed06e4\" y=\"214.756364\"/>\r\n     <use style=\"fill:#1f77b4;stroke:#1f77b4;\" x=\"356.607994\" xlink:href=\"#mc160ed06e4\" y=\"214.756364\"/>\r\n     <use style=\"fill:#1f77b4;stroke:#1f77b4;\" x=\"357.045298\" xlink:href=\"#mc160ed06e4\" y=\"214.756364\"/>\r\n     <use style=\"fill:#1f77b4;stroke:#1f77b4;\" x=\"357.482602\" xlink:href=\"#mc160ed06e4\" y=\"214.756364\"/>\r\n     <use style=\"fill:#1f77b4;stroke:#1f77b4;\" x=\"357.919906\" xlink:href=\"#mc160ed06e4\" y=\"214.756364\"/>\r\n     <use style=\"fill:#1f77b4;stroke:#1f77b4;\" x=\"358.35721\" xlink:href=\"#mc160ed06e4\" y=\"214.756364\"/>\r\n     <use style=\"fill:#1f77b4;stroke:#1f77b4;\" x=\"358.794514\" xlink:href=\"#mc160ed06e4\" y=\"214.756364\"/>\r\n     <use style=\"fill:#1f77b4;stroke:#1f77b4;\" x=\"359.231818\" xlink:href=\"#mc160ed06e4\" y=\"214.756364\"/>\r\n    </g>\r\n   </g>\r\n   <g id=\"PathCollection_2\">\r\n    <defs>\r\n     <path d=\"M 0 3 \r\nC 0.795609 3 1.55874 2.683901 2.12132 2.12132 \r\nC 2.683901 1.55874 3 0.795609 3 0 \r\nC 3 -0.795609 2.683901 -1.55874 2.12132 -2.12132 \r\nC 1.55874 -2.683901 0.795609 -3 0 -3 \r\nC -0.795609 -3 -1.55874 -2.683901 -2.12132 -2.12132 \r\nC -2.683901 -1.55874 -3 -0.795609 -3 0 \r\nC -3 0.795609 -2.683901 1.55874 -2.12132 2.12132 \r\nC -1.55874 2.683901 -0.795609 3 0 3 \r\nz\r\n\" id=\"m58ebb58d18\" style=\"stroke:#ff7f0e;\"/>\r\n    </defs>\r\n    <g clip-path=\"url(#p32dfe40e3d)\">\r\n     <use style=\"fill:#ff7f0e;stroke:#ff7f0e;\" x=\"54.868182\" xlink:href=\"#m58ebb58d18\" y=\"214.756364\"/>\r\n     <use style=\"fill:#ff7f0e;stroke:#ff7f0e;\" x=\"55.305486\" xlink:href=\"#m58ebb58d18\" y=\"214.753753\"/>\r\n     <use style=\"fill:#ff7f0e;stroke:#ff7f0e;\" x=\"55.74279\" xlink:href=\"#m58ebb58d18\" y=\"214.750868\"/>\r\n     <use style=\"fill:#ff7f0e;stroke:#ff7f0e;\" x=\"56.180094\" xlink:href=\"#m58ebb58d18\" y=\"214.747679\"/>\r\n     <use style=\"fill:#ff7f0e;stroke:#ff7f0e;\" x=\"56.617398\" xlink:href=\"#m58ebb58d18\" y=\"214.744156\"/>\r\n     <use style=\"fill:#ff7f0e;stroke:#ff7f0e;\" x=\"57.054702\" xlink:href=\"#m58ebb58d18\" y=\"214.740262\"/>\r\n     <use style=\"fill:#ff7f0e;stroke:#ff7f0e;\" x=\"57.492006\" xlink:href=\"#m58ebb58d18\" y=\"214.73596\"/>\r\n     <use style=\"fill:#ff7f0e;stroke:#ff7f0e;\" x=\"57.92931\" xlink:href=\"#m58ebb58d18\" y=\"214.731204\"/>\r\n     <use style=\"fill:#ff7f0e;stroke:#ff7f0e;\" x=\"58.366614\" xlink:href=\"#m58ebb58d18\" y=\"214.725949\"/>\r\n     <use style=\"fill:#ff7f0e;stroke:#ff7f0e;\" x=\"58.803918\" xlink:href=\"#m58ebb58d18\" y=\"214.72014\"/>\r\n     <use style=\"fill:#ff7f0e;stroke:#ff7f0e;\" x=\"59.241223\" xlink:href=\"#m58ebb58d18\" y=\"214.71372\"/>\r\n     <use style=\"fill:#ff7f0e;stroke:#ff7f0e;\" x=\"59.678527\" xlink:href=\"#m58ebb58d18\" y=\"214.706624\"/>\r\n     <use style=\"fill:#ff7f0e;stroke:#ff7f0e;\" x=\"60.115831\" xlink:href=\"#m58ebb58d18\" y=\"214.698787\"/>\r\n     <use style=\"fill:#ff7f0e;stroke:#ff7f0e;\" x=\"60.553135\" xlink:href=\"#m58ebb58d18\" y=\"214.690131\"/>\r\n     <use style=\"fill:#ff7f0e;stroke:#ff7f0e;\" x=\"60.990439\" xlink:href=\"#m58ebb58d18\" y=\"214.680569\"/>\r\n     <use style=\"fill:#ff7f0e;stroke:#ff7f0e;\" x=\"61.427743\" xlink:href=\"#m58ebb58d18\" y=\"214.670002\"/>\r\n     <use style=\"fill:#ff7f0e;stroke:#ff7f0e;\" x=\"61.865047\" xlink:href=\"#m58ebb58d18\" y=\"214.658323\"/>\r\n     <use style=\"fill:#ff7f0e;stroke:#ff7f0e;\" x=\"62.302351\" xlink:href=\"#m58ebb58d18\" y=\"214.645411\"/>\r\n     <use style=\"fill:#ff7f0e;stroke:#ff7f0e;\" x=\"62.739655\" xlink:href=\"#m58ebb58d18\" y=\"214.631138\"/>\r\n     <use style=\"fill:#ff7f0e;stroke:#ff7f0e;\" x=\"63.176959\" xlink:href=\"#m58ebb58d18\" y=\"214.615363\"/>\r\n     <use style=\"fill:#ff7f0e;stroke:#ff7f0e;\" x=\"63.614263\" xlink:href=\"#m58ebb58d18\" y=\"214.597936\"/>\r\n     <use style=\"fill:#ff7f0e;stroke:#ff7f0e;\" x=\"64.051567\" xlink:href=\"#m58ebb58d18\" y=\"214.578687\"/>\r\n     <use style=\"fill:#ff7f0e;stroke:#ff7f0e;\" x=\"64.488871\" xlink:href=\"#m58ebb58d18\" y=\"214.557418\"/>\r\n     <use style=\"fill:#ff7f0e;stroke:#ff7f0e;\" x=\"64.926176\" xlink:href=\"#m58ebb58d18\" y=\"214.533926\"/>\r\n     <use style=\"fill:#ff7f0e;stroke:#ff7f0e;\" x=\"65.36348\" xlink:href=\"#m58ebb58d18\" y=\"214.507981\"/>\r\n     <use style=\"fill:#ff7f0e;stroke:#ff7f0e;\" x=\"65.800784\" xlink:href=\"#m58ebb58d18\" y=\"214.479323\"/>\r\n     <use style=\"fill:#ff7f0e;stroke:#ff7f0e;\" x=\"66.238088\" xlink:href=\"#m58ebb58d18\" y=\"214.447665\"/>\r\n     <use style=\"fill:#ff7f0e;stroke:#ff7f0e;\" x=\"66.675392\" xlink:href=\"#m58ebb58d18\" y=\"214.412687\"/>\r\n     <use style=\"fill:#ff7f0e;stroke:#ff7f0e;\" x=\"67.112696\" xlink:href=\"#m58ebb58d18\" y=\"214.374041\"/>\r\n     <use style=\"fill:#ff7f0e;stroke:#ff7f0e;\" x=\"67.55\" xlink:href=\"#m58ebb58d18\" y=\"214.331351\"/>\r\n     <use style=\"fill:#ff7f0e;stroke:#ff7f0e;\" x=\"67.987304\" xlink:href=\"#m58ebb58d18\" y=\"214.284221\"/>\r\n     <use style=\"fill:#ff7f0e;stroke:#ff7f0e;\" x=\"68.424608\" xlink:href=\"#m58ebb58d18\" y=\"214.232173\"/>\r\n     <use style=\"fill:#ff7f0e;stroke:#ff7f0e;\" x=\"68.861912\" xlink:href=\"#m58ebb58d18\" y=\"214.174686\"/>\r\n     <use style=\"fill:#ff7f0e;stroke:#ff7f0e;\" x=\"69.299216\" xlink:href=\"#m58ebb58d18\" y=\"214.111218\"/>\r\n     <use style=\"fill:#ff7f0e;stroke:#ff7f0e;\" x=\"69.73652\" xlink:href=\"#m58ebb58d18\" y=\"214.041174\"/>\r\n     <use style=\"fill:#ff7f0e;stroke:#ff7f0e;\" x=\"70.173824\" xlink:href=\"#m58ebb58d18\" y=\"213.963874\"/>\r\n     <use style=\"fill:#ff7f0e;stroke:#ff7f0e;\" x=\"70.611129\" xlink:href=\"#m58ebb58d18\" y=\"213.878561\"/>\r\n     <use style=\"fill:#ff7f0e;stroke:#ff7f0e;\" x=\"71.048433\" xlink:href=\"#m58ebb58d18\" y=\"213.784399\"/>\r\n     <use style=\"fill:#ff7f0e;stroke:#ff7f0e;\" x=\"71.485737\" xlink:href=\"#m58ebb58d18\" y=\"213.68047\"/>\r\n     <use style=\"fill:#ff7f0e;stroke:#ff7f0e;\" x=\"71.923041\" xlink:href=\"#m58ebb58d18\" y=\"213.565778\"/>\r\n     <use style=\"fill:#ff7f0e;stroke:#ff7f0e;\" x=\"72.360345\" xlink:href=\"#m58ebb58d18\" y=\"213.439248\"/>\r\n     <use style=\"fill:#ff7f0e;stroke:#ff7f0e;\" x=\"72.797649\" xlink:href=\"#m58ebb58d18\" y=\"213.299723\"/>\r\n     <use style=\"fill:#ff7f0e;stroke:#ff7f0e;\" x=\"73.234953\" xlink:href=\"#m58ebb58d18\" y=\"213.145907\"/>\r\n     <use style=\"fill:#ff7f0e;stroke:#ff7f0e;\" x=\"73.672257\" xlink:href=\"#m58ebb58d18\" y=\"212.97637\"/>\r\n     <use style=\"fill:#ff7f0e;stroke:#ff7f0e;\" x=\"74.109561\" xlink:href=\"#m58ebb58d18\" y=\"212.789612\"/>\r\n     <use style=\"fill:#ff7f0e;stroke:#ff7f0e;\" x=\"74.546865\" xlink:href=\"#m58ebb58d18\" y=\"212.583947\"/>\r\n     <use style=\"fill:#ff7f0e;stroke:#ff7f0e;\" x=\"74.984169\" xlink:href=\"#m58ebb58d18\" y=\"212.3575\"/>\r\n     <use style=\"fill:#ff7f0e;stroke:#ff7f0e;\" x=\"75.421473\" xlink:href=\"#m58ebb58d18\" y=\"212.108208\"/>\r\n     <use style=\"fill:#ff7f0e;stroke:#ff7f0e;\" x=\"75.858777\" xlink:href=\"#m58ebb58d18\" y=\"211.833818\"/>\r\n     <use style=\"fill:#ff7f0e;stroke:#ff7f0e;\" x=\"76.296082\" xlink:href=\"#m58ebb58d18\" y=\"211.53189\"/>\r\n     <use style=\"fill:#ff7f0e;stroke:#ff7f0e;\" x=\"76.733386\" xlink:href=\"#m58ebb58d18\" y=\"211.199792\"/>\r\n     <use style=\"fill:#ff7f0e;stroke:#ff7f0e;\" x=\"77.17069\" xlink:href=\"#m58ebb58d18\" y=\"210.834708\"/>\r\n     <use style=\"fill:#ff7f0e;stroke:#ff7f0e;\" x=\"77.607994\" xlink:href=\"#m58ebb58d18\" y=\"210.433629\"/>\r\n     <use style=\"fill:#ff7f0e;stroke:#ff7f0e;\" x=\"78.045298\" xlink:href=\"#m58ebb58d18\" y=\"209.993359\"/>\r\n     <use style=\"fill:#ff7f0e;stroke:#ff7f0e;\" x=\"78.482602\" xlink:href=\"#m58ebb58d18\" y=\"209.510514\"/>\r\n     <use style=\"fill:#ff7f0e;stroke:#ff7f0e;\" x=\"78.919906\" xlink:href=\"#m58ebb58d18\" y=\"208.981481\"/>\r\n     <use style=\"fill:#ff7f0e;stroke:#ff7f0e;\" x=\"79.35721\" xlink:href=\"#m58ebb58d18\" y=\"208.402155\"/>\r\n     <use style=\"fill:#ff7f0e;stroke:#ff7f0e;\" x=\"79.794514\" xlink:href=\"#m58ebb58d18\" y=\"207.768282\"/>\r\n     <use style=\"fill:#ff7f0e;stroke:#ff7f0e;\" x=\"80.231818\" xlink:href=\"#m58ebb58d18\" y=\"207.075401\"/>\r\n     <use style=\"fill:#ff7f0e;stroke:#ff7f0e;\" x=\"80.669122\" xlink:href=\"#m58ebb58d18\" y=\"206.31881\"/>\r\n     <use style=\"fill:#ff7f0e;stroke:#ff7f0e;\" x=\"81.106426\" xlink:href=\"#m58ebb58d18\" y=\"205.493617\"/>\r\n     <use style=\"fill:#ff7f0e;stroke:#ff7f0e;\" x=\"81.54373\" xlink:href=\"#m58ebb58d18\" y=\"204.59553\"/>\r\n     <use style=\"fill:#ff7f0e;stroke:#ff7f0e;\" x=\"81.981034\" xlink:href=\"#m58ebb58d18\" y=\"203.618928\"/>\r\n     <use style=\"fill:#ff7f0e;stroke:#ff7f0e;\" x=\"82.418339\" xlink:href=\"#m58ebb58d18\" y=\"202.557647\"/>\r\n     <use style=\"fill:#ff7f0e;stroke:#ff7f0e;\" x=\"82.855643\" xlink:href=\"#m58ebb58d18\" y=\"201.405798\"/>\r\n     <use style=\"fill:#ff7f0e;stroke:#ff7f0e;\" x=\"83.292947\" xlink:href=\"#m58ebb58d18\" y=\"200.157763\"/>\r\n     <use style=\"fill:#ff7f0e;stroke:#ff7f0e;\" x=\"83.730251\" xlink:href=\"#m58ebb58d18\" y=\"198.808201\"/>\r\n     <use style=\"fill:#ff7f0e;stroke:#ff7f0e;\" x=\"84.167555\" xlink:href=\"#m58ebb58d18\" y=\"197.352042\"/>\r\n     <use style=\"fill:#ff7f0e;stroke:#ff7f0e;\" x=\"84.604859\" xlink:href=\"#m58ebb58d18\" y=\"195.784492\"/>\r\n     <use style=\"fill:#ff7f0e;stroke:#ff7f0e;\" x=\"85.042163\" xlink:href=\"#m58ebb58d18\" y=\"194.10103\"/>\r\n     <use style=\"fill:#ff7f0e;stroke:#ff7f0e;\" x=\"85.479467\" xlink:href=\"#m58ebb58d18\" y=\"192.297407\"/>\r\n     <use style=\"fill:#ff7f0e;stroke:#ff7f0e;\" x=\"85.916771\" xlink:href=\"#m58ebb58d18\" y=\"190.369651\"/>\r\n     <use style=\"fill:#ff7f0e;stroke:#ff7f0e;\" x=\"86.354075\" xlink:href=\"#m58ebb58d18\" y=\"188.314062\"/>\r\n     <use style=\"fill:#ff7f0e;stroke:#ff7f0e;\" x=\"86.791379\" xlink:href=\"#m58ebb58d18\" y=\"186.127214\"/>\r\n     <use style=\"fill:#ff7f0e;stroke:#ff7f0e;\" x=\"87.228683\" xlink:href=\"#m58ebb58d18\" y=\"183.806457\"/>\r\n     <use style=\"fill:#ff7f0e;stroke:#ff7f0e;\" x=\"87.665987\" xlink:href=\"#m58ebb58d18\" y=\"181.351488\"/>\r\n     <use style=\"fill:#ff7f0e;stroke:#ff7f0e;\" x=\"88.103292\" xlink:href=\"#m58ebb58d18\" y=\"178.763271\"/>\r\n     <use style=\"fill:#ff7f0e;stroke:#ff7f0e;\" x=\"88.540596\" xlink:href=\"#m58ebb58d18\" y=\"176.043768\"/>\r\n     <use style=\"fill:#ff7f0e;stroke:#ff7f0e;\" x=\"88.9779\" xlink:href=\"#m58ebb58d18\" y=\"173.195935\"/>\r\n     <use style=\"fill:#ff7f0e;stroke:#ff7f0e;\" x=\"89.415204\" xlink:href=\"#m58ebb58d18\" y=\"170.223729\"/>\r\n     <use style=\"fill:#ff7f0e;stroke:#ff7f0e;\" x=\"89.852508\" xlink:href=\"#m58ebb58d18\" y=\"167.1321\"/>\r\n     <use style=\"fill:#ff7f0e;stroke:#ff7f0e;\" x=\"90.289812\" xlink:href=\"#m58ebb58d18\" y=\"163.926998\"/>\r\n     <use style=\"fill:#ff7f0e;stroke:#ff7f0e;\" x=\"90.727116\" xlink:href=\"#m58ebb58d18\" y=\"160.615369\"/>\r\n     <use style=\"fill:#ff7f0e;stroke:#ff7f0e;\" x=\"91.16442\" xlink:href=\"#m58ebb58d18\" y=\"157.205155\"/>\r\n     <use style=\"fill:#ff7f0e;stroke:#ff7f0e;\" x=\"91.601724\" xlink:href=\"#m58ebb58d18\" y=\"153.705297\"/>\r\n     <use style=\"fill:#ff7f0e;stroke:#ff7f0e;\" x=\"92.039028\" xlink:href=\"#m58ebb58d18\" y=\"150.125732\"/>\r\n     <use style=\"fill:#ff7f0e;stroke:#ff7f0e;\" x=\"92.476332\" xlink:href=\"#m58ebb58d18\" y=\"146.477394\"/>\r\n     <use style=\"fill:#ff7f0e;stroke:#ff7f0e;\" x=\"92.913636\" xlink:href=\"#m58ebb58d18\" y=\"142.772216\"/>\r\n     <use style=\"fill:#ff7f0e;stroke:#ff7f0e;\" x=\"93.35094\" xlink:href=\"#m58ebb58d18\" y=\"139.024171\"/>\r\n     <use style=\"fill:#ff7f0e;stroke:#ff7f0e;\" x=\"93.788245\" xlink:href=\"#m58ebb58d18\" y=\"135.243623\"/>\r\n     <use style=\"fill:#ff7f0e;stroke:#ff7f0e;\" x=\"94.225549\" xlink:href=\"#m58ebb58d18\" y=\"131.441911\"/>\r\n     <use style=\"fill:#ff7f0e;stroke:#ff7f0e;\" x=\"94.662853\" xlink:href=\"#m58ebb58d18\" y=\"127.630476\"/>\r\n     <use style=\"fill:#ff7f0e;stroke:#ff7f0e;\" x=\"95.100157\" xlink:href=\"#m58ebb58d18\" y=\"123.82205\"/>\r\n     <use style=\"fill:#ff7f0e;stroke:#ff7f0e;\" x=\"95.537461\" xlink:href=\"#m58ebb58d18\" y=\"120.028597\"/>\r\n     <use style=\"fill:#ff7f0e;stroke:#ff7f0e;\" x=\"95.974765\" xlink:href=\"#m58ebb58d18\" y=\"116.261276\"/>\r\n     <use style=\"fill:#ff7f0e;stroke:#ff7f0e;\" x=\"96.412069\" xlink:href=\"#m58ebb58d18\" y=\"112.530448\"/>\r\n     <use style=\"fill:#ff7f0e;stroke:#ff7f0e;\" x=\"96.849373\" xlink:href=\"#m58ebb58d18\" y=\"108.845669\"/>\r\n     <use style=\"fill:#ff7f0e;stroke:#ff7f0e;\" x=\"97.286677\" xlink:href=\"#m58ebb58d18\" y=\"105.215696\"/>\r\n     <use style=\"fill:#ff7f0e;stroke:#ff7f0e;\" x=\"97.723981\" xlink:href=\"#m58ebb58d18\" y=\"101.648485\"/>\r\n     <use style=\"fill:#ff7f0e;stroke:#ff7f0e;\" x=\"98.161285\" xlink:href=\"#m58ebb58d18\" y=\"98.151189\"/>\r\n     <use style=\"fill:#ff7f0e;stroke:#ff7f0e;\" x=\"98.598589\" xlink:href=\"#m58ebb58d18\" y=\"94.730162\"/>\r\n     <use style=\"fill:#ff7f0e;stroke:#ff7f0e;\" x=\"99.035893\" xlink:href=\"#m58ebb58d18\" y=\"91.390953\"/>\r\n     <use style=\"fill:#ff7f0e;stroke:#ff7f0e;\" x=\"99.473197\" xlink:href=\"#m58ebb58d18\" y=\"88.138314\"/>\r\n     <use style=\"fill:#ff7f0e;stroke:#ff7f0e;\" x=\"99.910502\" xlink:href=\"#m58ebb58d18\" y=\"84.976193\"/>\r\n     <use style=\"fill:#ff7f0e;stroke:#ff7f0e;\" x=\"100.347806\" xlink:href=\"#m58ebb58d18\" y=\"81.907737\"/>\r\n     <use style=\"fill:#ff7f0e;stroke:#ff7f0e;\" x=\"100.78511\" xlink:href=\"#m58ebb58d18\" y=\"78.935291\"/>\r\n     <use style=\"fill:#ff7f0e;stroke:#ff7f0e;\" x=\"101.222414\" xlink:href=\"#m58ebb58d18\" y=\"76.060401\"/>\r\n     <use style=\"fill:#ff7f0e;stroke:#ff7f0e;\" x=\"101.659718\" xlink:href=\"#m58ebb58d18\" y=\"73.283829\"/>\r\n     <use style=\"fill:#ff7f0e;stroke:#ff7f0e;\" x=\"102.097022\" xlink:href=\"#m58ebb58d18\" y=\"70.605735\"/>\r\n     <use style=\"fill:#ff7f0e;stroke:#ff7f0e;\" x=\"102.534326\" xlink:href=\"#m58ebb58d18\" y=\"68.025797\"/>\r\n     <use style=\"fill:#ff7f0e;stroke:#ff7f0e;\" x=\"102.97163\" xlink:href=\"#m58ebb58d18\" y=\"65.543406\"/>\r\n     <use style=\"fill:#ff7f0e;stroke:#ff7f0e;\" x=\"103.408934\" xlink:href=\"#m58ebb58d18\" y=\"63.157703\"/>\r\n     <use style=\"fill:#ff7f0e;stroke:#ff7f0e;\" x=\"103.846238\" xlink:href=\"#m58ebb58d18\" y=\"60.86757\"/>\r\n     <use style=\"fill:#ff7f0e;stroke:#ff7f0e;\" x=\"104.283542\" xlink:href=\"#m58ebb58d18\" y=\"58.671639\"/>\r\n     <use style=\"fill:#ff7f0e;stroke:#ff7f0e;\" x=\"104.720846\" xlink:href=\"#m58ebb58d18\" y=\"56.568283\"/>\r\n     <use style=\"fill:#ff7f0e;stroke:#ff7f0e;\" x=\"105.15815\" xlink:href=\"#m58ebb58d18\" y=\"54.555625\"/>\r\n     <use style=\"fill:#ff7f0e;stroke:#ff7f0e;\" x=\"105.595455\" xlink:href=\"#m58ebb58d18\" y=\"52.631529\"/>\r\n     <use style=\"fill:#ff7f0e;stroke:#ff7f0e;\" x=\"106.032759\" xlink:href=\"#m58ebb58d18\" y=\"50.793607\"/>\r\n     <use style=\"fill:#ff7f0e;stroke:#ff7f0e;\" x=\"106.470063\" xlink:href=\"#m58ebb58d18\" y=\"49.039324\"/>\r\n     <use style=\"fill:#ff7f0e;stroke:#ff7f0e;\" x=\"106.907367\" xlink:href=\"#m58ebb58d18\" y=\"47.36601\"/>\r\n     <use style=\"fill:#ff7f0e;stroke:#ff7f0e;\" x=\"107.344671\" xlink:href=\"#m58ebb58d18\" y=\"45.770746\"/>\r\n     <use style=\"fill:#ff7f0e;stroke:#ff7f0e;\" x=\"107.781975\" xlink:href=\"#m58ebb58d18\" y=\"44.250868\"/>\r\n     <use style=\"fill:#ff7f0e;stroke:#ff7f0e;\" x=\"108.219279\" xlink:href=\"#m58ebb58d18\" y=\"42.803751\"/>\r\n     <use style=\"fill:#ff7f0e;stroke:#ff7f0e;\" x=\"108.656583\" xlink:href=\"#m58ebb58d18\" y=\"41.4268\"/>\r\n     <use style=\"fill:#ff7f0e;stroke:#ff7f0e;\" x=\"109.093887\" xlink:href=\"#m58ebb58d18\" y=\"40.117448\"/>\r\n     <use style=\"fill:#ff7f0e;stroke:#ff7f0e;\" x=\"109.531191\" xlink:href=\"#m58ebb58d18\" y=\"38.873156\"/>\r\n     <use style=\"fill:#ff7f0e;stroke:#ff7f0e;\" x=\"109.968495\" xlink:href=\"#m58ebb58d18\" y=\"37.691416\"/>\r\n     <use style=\"fill:#ff7f0e;stroke:#ff7f0e;\" x=\"110.405799\" xlink:href=\"#m58ebb58d18\" y=\"36.569748\"/>\r\n     <use style=\"fill:#ff7f0e;stroke:#ff7f0e;\" x=\"110.843103\" xlink:href=\"#m58ebb58d18\" y=\"35.505701\"/>\r\n     <use style=\"fill:#ff7f0e;stroke:#ff7f0e;\" x=\"111.280408\" xlink:href=\"#m58ebb58d18\" y=\"34.496851\"/>\r\n     <use style=\"fill:#ff7f0e;stroke:#ff7f0e;\" x=\"111.717712\" xlink:href=\"#m58ebb58d18\" y=\"33.540806\"/>\r\n     <use style=\"fill:#ff7f0e;stroke:#ff7f0e;\" x=\"112.155016\" xlink:href=\"#m58ebb58d18\" y=\"32.635201\"/>\r\n     <use style=\"fill:#ff7f0e;stroke:#ff7f0e;\" x=\"112.59232\" xlink:href=\"#m58ebb58d18\" y=\"31.777701\"/>\r\n     <use style=\"fill:#ff7f0e;stroke:#ff7f0e;\" x=\"113.029624\" xlink:href=\"#m58ebb58d18\" y=\"30.965997\"/>\r\n     <use style=\"fill:#ff7f0e;stroke:#ff7f0e;\" x=\"113.466928\" xlink:href=\"#m58ebb58d18\" y=\"30.197814\"/>\r\n     <use style=\"fill:#ff7f0e;stroke:#ff7f0e;\" x=\"113.904232\" xlink:href=\"#m58ebb58d18\" y=\"29.4709\"/>\r\n     <use style=\"fill:#ff7f0e;stroke:#ff7f0e;\" x=\"114.341536\" xlink:href=\"#m58ebb58d18\" y=\"28.783037\"/>\r\n     <use style=\"fill:#ff7f0e;stroke:#ff7f0e;\" x=\"114.77884\" xlink:href=\"#m58ebb58d18\" y=\"28.132032\"/>\r\n     <use style=\"fill:#ff7f0e;stroke:#ff7f0e;\" x=\"115.216144\" xlink:href=\"#m58ebb58d18\" y=\"27.515724\"/>\r\n     <use style=\"fill:#ff7f0e;stroke:#ff7f0e;\" x=\"115.653448\" xlink:href=\"#m58ebb58d18\" y=\"26.932074\"/>\r\n     <use style=\"fill:#ff7f0e;stroke:#ff7f0e;\" x=\"116.090752\" xlink:href=\"#m58ebb58d18\" y=\"26.379972\"/>\r\n     <use style=\"fill:#ff7f0e;stroke:#ff7f0e;\" x=\"116.528056\" xlink:href=\"#m58ebb58d18\" y=\"25.857994\"/>\r\n     <use style=\"fill:#ff7f0e;stroke:#ff7f0e;\" x=\"116.965361\" xlink:href=\"#m58ebb58d18\" y=\"25.3646\"/>\r\n     <use style=\"fill:#ff7f0e;stroke:#ff7f0e;\" x=\"117.402665\" xlink:href=\"#m58ebb58d18\" y=\"24.898311\"/>\r\n     <use style=\"fill:#ff7f0e;stroke:#ff7f0e;\" x=\"117.839969\" xlink:href=\"#m58ebb58d18\" y=\"24.457707\"/>\r\n     <use style=\"fill:#ff7f0e;stroke:#ff7f0e;\" x=\"118.277273\" xlink:href=\"#m58ebb58d18\" y=\"24.041428\"/>\r\n     <use style=\"fill:#ff7f0e;stroke:#ff7f0e;\" x=\"118.714577\" xlink:href=\"#m58ebb58d18\" y=\"23.648162\"/>\r\n     <use style=\"fill:#ff7f0e;stroke:#ff7f0e;\" x=\"119.151881\" xlink:href=\"#m58ebb58d18\" y=\"23.276709\"/>\r\n     <use style=\"fill:#ff7f0e;stroke:#ff7f0e;\" x=\"119.589185\" xlink:href=\"#m58ebb58d18\" y=\"22.925642\"/>\r\n     <use style=\"fill:#ff7f0e;stroke:#ff7f0e;\" x=\"120.026489\" xlink:href=\"#m58ebb58d18\" y=\"22.593519\"/>\r\n     <use style=\"fill:#ff7f0e;stroke:#ff7f0e;\" x=\"120.463793\" xlink:href=\"#m58ebb58d18\" y=\"22.279542\"/>\r\n     <use style=\"fill:#ff7f0e;stroke:#ff7f0e;\" x=\"120.901097\" xlink:href=\"#m58ebb58d18\" y=\"21.982937\"/>\r\n     <use style=\"fill:#ff7f0e;stroke:#ff7f0e;\" x=\"121.338401\" xlink:href=\"#m58ebb58d18\" y=\"21.702938\"/>\r\n     <use style=\"fill:#ff7f0e;stroke:#ff7f0e;\" x=\"121.775705\" xlink:href=\"#m58ebb58d18\" y=\"21.438789\"/>\r\n     <use style=\"fill:#ff7f0e;stroke:#ff7f0e;\" x=\"122.213009\" xlink:href=\"#m58ebb58d18\" y=\"21.18974\"/>\r\n     <use style=\"fill:#ff7f0e;stroke:#ff7f0e;\" x=\"122.650313\" xlink:href=\"#m58ebb58d18\" y=\"20.95505\"/>\r\n     <use style=\"fill:#ff7f0e;stroke:#ff7f0e;\" x=\"123.087618\" xlink:href=\"#m58ebb58d18\" y=\"20.733988\"/>\r\n     <use style=\"fill:#ff7f0e;stroke:#ff7f0e;\" x=\"123.524922\" xlink:href=\"#m58ebb58d18\" y=\"20.52583\"/>\r\n     <use style=\"fill:#ff7f0e;stroke:#ff7f0e;\" x=\"123.962226\" xlink:href=\"#m58ebb58d18\" y=\"20.329862\"/>\r\n     <use style=\"fill:#ff7f0e;stroke:#ff7f0e;\" x=\"124.39953\" xlink:href=\"#m58ebb58d18\" y=\"20.145375\"/>\r\n     <use style=\"fill:#ff7f0e;stroke:#ff7f0e;\" x=\"124.836834\" xlink:href=\"#m58ebb58d18\" y=\"19.971674\"/>\r\n     <use style=\"fill:#ff7f0e;stroke:#ff7f0e;\" x=\"125.274138\" xlink:href=\"#m58ebb58d18\" y=\"19.808067\"/>\r\n     <use style=\"fill:#ff7f0e;stroke:#ff7f0e;\" x=\"125.711442\" xlink:href=\"#m58ebb58d18\" y=\"19.653875\"/>\r\n     <use style=\"fill:#ff7f0e;stroke:#ff7f0e;\" x=\"126.148746\" xlink:href=\"#m58ebb58d18\" y=\"19.508423\"/>\r\n     <use style=\"fill:#ff7f0e;stroke:#ff7f0e;\" x=\"126.58605\" xlink:href=\"#m58ebb58d18\" y=\"19.371049\"/>\r\n     <use style=\"fill:#ff7f0e;stroke:#ff7f0e;\" x=\"127.023354\" xlink:href=\"#m58ebb58d18\" y=\"19.241095\"/>\r\n     <use style=\"fill:#ff7f0e;stroke:#ff7f0e;\" x=\"127.460658\" xlink:href=\"#m58ebb58d18\" y=\"19.117921\"/>\r\n     <use style=\"fill:#ff7f0e;stroke:#ff7f0e;\" x=\"127.897962\" xlink:href=\"#m58ebb58d18\" y=\"19.001449\"/>\r\n     <use style=\"fill:#ff7f0e;stroke:#ff7f0e;\" x=\"128.335266\" xlink:href=\"#m58ebb58d18\" y=\"18.891603\"/>\r\n     <use style=\"fill:#ff7f0e;stroke:#ff7f0e;\" x=\"128.772571\" xlink:href=\"#m58ebb58d18\" y=\"18.78802\"/>\r\n     <use style=\"fill:#ff7f0e;stroke:#ff7f0e;\" x=\"129.209875\" xlink:href=\"#m58ebb58d18\" y=\"18.690353\"/>\r\n     <use style=\"fill:#ff7f0e;stroke:#ff7f0e;\" x=\"129.647179\" xlink:href=\"#m58ebb58d18\" y=\"18.598269\"/>\r\n     <use style=\"fill:#ff7f0e;stroke:#ff7f0e;\" x=\"130.084483\" xlink:href=\"#m58ebb58d18\" y=\"18.51145\"/>\r\n     <use style=\"fill:#ff7f0e;stroke:#ff7f0e;\" x=\"130.521787\" xlink:href=\"#m58ebb58d18\" y=\"18.429594\"/>\r\n     <use style=\"fill:#ff7f0e;stroke:#ff7f0e;\" x=\"130.959091\" xlink:href=\"#m58ebb58d18\" y=\"18.352412\"/>\r\n     <use style=\"fill:#ff7f0e;stroke:#ff7f0e;\" x=\"131.396395\" xlink:href=\"#m58ebb58d18\" y=\"18.279626\"/>\r\n     <use style=\"fill:#ff7f0e;stroke:#ff7f0e;\" x=\"131.833699\" xlink:href=\"#m58ebb58d18\" y=\"18.211003\"/>\r\n     <use style=\"fill:#ff7f0e;stroke:#ff7f0e;\" x=\"132.271003\" xlink:href=\"#m58ebb58d18\" y=\"18.146257\"/>\r\n     <use style=\"fill:#ff7f0e;stroke:#ff7f0e;\" x=\"132.708307\" xlink:href=\"#m58ebb58d18\" y=\"18.085111\"/>\r\n     <use style=\"fill:#ff7f0e;stroke:#ff7f0e;\" x=\"133.145611\" xlink:href=\"#m58ebb58d18\" y=\"18.027403\"/>\r\n     <use style=\"fill:#ff7f0e;stroke:#ff7f0e;\" x=\"133.582915\" xlink:href=\"#m58ebb58d18\" y=\"17.972976\"/>\r\n     <use style=\"fill:#ff7f0e;stroke:#ff7f0e;\" x=\"134.020219\" xlink:href=\"#m58ebb58d18\" y=\"17.921673\"/>\r\n     <use style=\"fill:#ff7f0e;stroke:#ff7f0e;\" x=\"134.457524\" xlink:href=\"#m58ebb58d18\" y=\"17.873342\"/>\r\n     <use style=\"fill:#ff7f0e;stroke:#ff7f0e;\" x=\"134.894828\" xlink:href=\"#m58ebb58d18\" y=\"17.827833\"/>\r\n     <use style=\"fill:#ff7f0e;stroke:#ff7f0e;\" x=\"135.332132\" xlink:href=\"#m58ebb58d18\" y=\"17.784998\"/>\r\n     <use style=\"fill:#ff7f0e;stroke:#ff7f0e;\" x=\"135.769436\" xlink:href=\"#m58ebb58d18\" y=\"17.744691\"/>\r\n     <use style=\"fill:#ff7f0e;stroke:#ff7f0e;\" x=\"136.20674\" xlink:href=\"#m58ebb58d18\" y=\"17.706769\"/>\r\n     <use style=\"fill:#ff7f0e;stroke:#ff7f0e;\" x=\"136.644044\" xlink:href=\"#m58ebb58d18\" y=\"17.671092\"/>\r\n     <use style=\"fill:#ff7f0e;stroke:#ff7f0e;\" x=\"137.081348\" xlink:href=\"#m58ebb58d18\" y=\"17.637521\"/>\r\n     <use style=\"fill:#ff7f0e;stroke:#ff7f0e;\" x=\"137.518652\" xlink:href=\"#m58ebb58d18\" y=\"17.605922\"/>\r\n     <use style=\"fill:#ff7f0e;stroke:#ff7f0e;\" x=\"137.955956\" xlink:href=\"#m58ebb58d18\" y=\"17.576161\"/>\r\n     <use style=\"fill:#ff7f0e;stroke:#ff7f0e;\" x=\"138.39326\" xlink:href=\"#m58ebb58d18\" y=\"17.548106\"/>\r\n     <use style=\"fill:#ff7f0e;stroke:#ff7f0e;\" x=\"138.830564\" xlink:href=\"#m58ebb58d18\" y=\"17.52163\"/>\r\n     <use style=\"fill:#ff7f0e;stroke:#ff7f0e;\" x=\"139.267868\" xlink:href=\"#m58ebb58d18\" y=\"17.496607\"/>\r\n     <use style=\"fill:#ff7f0e;stroke:#ff7f0e;\" x=\"139.705172\" xlink:href=\"#m58ebb58d18\" y=\"17.472915\"/>\r\n     <use style=\"fill:#ff7f0e;stroke:#ff7f0e;\" x=\"140.142476\" xlink:href=\"#m58ebb58d18\" y=\"17.45053\"/>\r\n     <use style=\"fill:#ff7f0e;stroke:#ff7f0e;\" x=\"140.579781\" xlink:href=\"#m58ebb58d18\" y=\"17.429428\"/>\r\n     <use style=\"fill:#ff7f0e;stroke:#ff7f0e;\" x=\"141.017085\" xlink:href=\"#m58ebb58d18\" y=\"17.409539\"/>\r\n     <use style=\"fill:#ff7f0e;stroke:#ff7f0e;\" x=\"141.454389\" xlink:href=\"#m58ebb58d18\" y=\"17.390795\"/>\r\n     <use style=\"fill:#ff7f0e;stroke:#ff7f0e;\" x=\"141.891693\" xlink:href=\"#m58ebb58d18\" y=\"17.373131\"/>\r\n     <use style=\"fill:#ff7f0e;stroke:#ff7f0e;\" x=\"142.328997\" xlink:href=\"#m58ebb58d18\" y=\"17.356485\"/>\r\n     <use style=\"fill:#ff7f0e;stroke:#ff7f0e;\" x=\"142.766301\" xlink:href=\"#m58ebb58d18\" y=\"17.340797\"/>\r\n     <use style=\"fill:#ff7f0e;stroke:#ff7f0e;\" x=\"143.203605\" xlink:href=\"#m58ebb58d18\" y=\"17.326013\"/>\r\n     <use style=\"fill:#ff7f0e;stroke:#ff7f0e;\" x=\"143.640909\" xlink:href=\"#m58ebb58d18\" y=\"17.312077\"/>\r\n     <use style=\"fill:#ff7f0e;stroke:#ff7f0e;\" x=\"144.078213\" xlink:href=\"#m58ebb58d18\" y=\"17.298937\"/>\r\n     <use style=\"fill:#ff7f0e;stroke:#ff7f0e;\" x=\"144.515517\" xlink:href=\"#m58ebb58d18\" y=\"17.286553\"/>\r\n     <use style=\"fill:#ff7f0e;stroke:#ff7f0e;\" x=\"144.952821\" xlink:href=\"#m58ebb58d18\" y=\"17.274871\"/>\r\n     <use style=\"fill:#ff7f0e;stroke:#ff7f0e;\" x=\"145.390125\" xlink:href=\"#m58ebb58d18\" y=\"17.263843\"/>\r\n     <use style=\"fill:#ff7f0e;stroke:#ff7f0e;\" x=\"145.827429\" xlink:href=\"#m58ebb58d18\" y=\"17.253438\"/>\r\n     <use style=\"fill:#ff7f0e;stroke:#ff7f0e;\" x=\"146.264734\" xlink:href=\"#m58ebb58d18\" y=\"17.243627\"/>\r\n     <use style=\"fill:#ff7f0e;stroke:#ff7f0e;\" x=\"146.702038\" xlink:href=\"#m58ebb58d18\" y=\"17.234382\"/>\r\n     <use style=\"fill:#ff7f0e;stroke:#ff7f0e;\" x=\"147.139342\" xlink:href=\"#m58ebb58d18\" y=\"17.225675\"/>\r\n     <use style=\"fill:#ff7f0e;stroke:#ff7f0e;\" x=\"147.576646\" xlink:href=\"#m58ebb58d18\" y=\"17.217478\"/>\r\n     <use style=\"fill:#ff7f0e;stroke:#ff7f0e;\" x=\"148.01395\" xlink:href=\"#m58ebb58d18\" y=\"17.209764\"/>\r\n     <use style=\"fill:#ff7f0e;stroke:#ff7f0e;\" x=\"148.451254\" xlink:href=\"#m58ebb58d18\" y=\"17.202507\"/>\r\n     <use style=\"fill:#ff7f0e;stroke:#ff7f0e;\" x=\"148.888558\" xlink:href=\"#m58ebb58d18\" y=\"17.19568\"/>\r\n     <use style=\"fill:#ff7f0e;stroke:#ff7f0e;\" x=\"149.325862\" xlink:href=\"#m58ebb58d18\" y=\"17.189258\"/>\r\n     <use style=\"fill:#ff7f0e;stroke:#ff7f0e;\" x=\"149.763166\" xlink:href=\"#m58ebb58d18\" y=\"17.183216\"/>\r\n     <use style=\"fill:#ff7f0e;stroke:#ff7f0e;\" x=\"150.20047\" xlink:href=\"#m58ebb58d18\" y=\"17.177529\"/>\r\n     <use style=\"fill:#ff7f0e;stroke:#ff7f0e;\" x=\"150.637774\" xlink:href=\"#m58ebb58d18\" y=\"17.172172\"/>\r\n     <use style=\"fill:#ff7f0e;stroke:#ff7f0e;\" x=\"151.075078\" xlink:href=\"#m58ebb58d18\" y=\"17.167123\"/>\r\n     <use style=\"fill:#ff7f0e;stroke:#ff7f0e;\" x=\"151.512382\" xlink:href=\"#m58ebb58d18\" y=\"17.162358\"/>\r\n     <use style=\"fill:#ff7f0e;stroke:#ff7f0e;\" x=\"151.949687\" xlink:href=\"#m58ebb58d18\" y=\"17.157853\"/>\r\n     <use style=\"fill:#ff7f0e;stroke:#ff7f0e;\" x=\"152.386991\" xlink:href=\"#m58ebb58d18\" y=\"17.153589\"/>\r\n     <use style=\"fill:#ff7f0e;stroke:#ff7f0e;\" x=\"152.824295\" xlink:href=\"#m58ebb58d18\" y=\"17.149563\"/>\r\n     <use style=\"fill:#ff7f0e;stroke:#ff7f0e;\" x=\"153.261599\" xlink:href=\"#m58ebb58d18\" y=\"17.145768\"/>\r\n     <use style=\"fill:#ff7f0e;stroke:#ff7f0e;\" x=\"153.698903\" xlink:href=\"#m58ebb58d18\" y=\"17.142191\"/>\r\n     <use style=\"fill:#ff7f0e;stroke:#ff7f0e;\" x=\"154.136207\" xlink:href=\"#m58ebb58d18\" y=\"17.138821\"/>\r\n     <use style=\"fill:#ff7f0e;stroke:#ff7f0e;\" x=\"154.573511\" xlink:href=\"#m58ebb58d18\" y=\"17.135646\"/>\r\n     <use style=\"fill:#ff7f0e;stroke:#ff7f0e;\" x=\"155.010815\" xlink:href=\"#m58ebb58d18\" y=\"17.132654\"/>\r\n     <use style=\"fill:#ff7f0e;stroke:#ff7f0e;\" x=\"155.448119\" xlink:href=\"#m58ebb58d18\" y=\"17.129834\"/>\r\n     <use style=\"fill:#ff7f0e;stroke:#ff7f0e;\" x=\"155.885423\" xlink:href=\"#m58ebb58d18\" y=\"17.127176\"/>\r\n     <use style=\"fill:#ff7f0e;stroke:#ff7f0e;\" x=\"156.322727\" xlink:href=\"#m58ebb58d18\" y=\"17.124672\"/>\r\n     <use style=\"fill:#ff7f0e;stroke:#ff7f0e;\" x=\"156.760031\" xlink:href=\"#m58ebb58d18\" y=\"17.12231\"/>\r\n     <use style=\"fill:#ff7f0e;stroke:#ff7f0e;\" x=\"157.197335\" xlink:href=\"#m58ebb58d18\" y=\"17.120085\"/>\r\n     <use style=\"fill:#ff7f0e;stroke:#ff7f0e;\" x=\"157.634639\" xlink:href=\"#m58ebb58d18\" y=\"17.117986\"/>\r\n     <use style=\"fill:#ff7f0e;stroke:#ff7f0e;\" x=\"158.071944\" xlink:href=\"#m58ebb58d18\" y=\"17.116004\"/>\r\n     <use style=\"fill:#ff7f0e;stroke:#ff7f0e;\" x=\"158.509248\" xlink:href=\"#m58ebb58d18\" y=\"17.114135\"/>\r\n     <use style=\"fill:#ff7f0e;stroke:#ff7f0e;\" x=\"158.946552\" xlink:href=\"#m58ebb58d18\" y=\"17.112372\"/>\r\n     <use style=\"fill:#ff7f0e;stroke:#ff7f0e;\" x=\"159.383856\" xlink:href=\"#m58ebb58d18\" y=\"17.110711\"/>\r\n     <use style=\"fill:#ff7f0e;stroke:#ff7f0e;\" x=\"159.82116\" xlink:href=\"#m58ebb58d18\" y=\"17.109146\"/>\r\n     <use style=\"fill:#ff7f0e;stroke:#ff7f0e;\" x=\"160.258464\" xlink:href=\"#m58ebb58d18\" y=\"17.107674\"/>\r\n     <use style=\"fill:#ff7f0e;stroke:#ff7f0e;\" x=\"160.695768\" xlink:href=\"#m58ebb58d18\" y=\"17.106288\"/>\r\n     <use style=\"fill:#ff7f0e;stroke:#ff7f0e;\" x=\"161.133072\" xlink:href=\"#m58ebb58d18\" y=\"17.104984\"/>\r\n     <use style=\"fill:#ff7f0e;stroke:#ff7f0e;\" x=\"161.570376\" xlink:href=\"#m58ebb58d18\" y=\"17.103758\"/>\r\n     <use style=\"fill:#ff7f0e;stroke:#ff7f0e;\" x=\"162.00768\" xlink:href=\"#m58ebb58d18\" y=\"17.102605\"/>\r\n     <use style=\"fill:#ff7f0e;stroke:#ff7f0e;\" x=\"162.444984\" xlink:href=\"#m58ebb58d18\" y=\"17.101519\"/>\r\n     <use style=\"fill:#ff7f0e;stroke:#ff7f0e;\" x=\"162.882288\" xlink:href=\"#m58ebb58d18\" y=\"17.100498\"/>\r\n     <use style=\"fill:#ff7f0e;stroke:#ff7f0e;\" x=\"163.319592\" xlink:href=\"#m58ebb58d18\" y=\"17.099536\"/>\r\n     <use style=\"fill:#ff7f0e;stroke:#ff7f0e;\" x=\"163.756897\" xlink:href=\"#m58ebb58d18\" y=\"17.098629\"/>\r\n     <use style=\"fill:#ff7f0e;stroke:#ff7f0e;\" x=\"164.194201\" xlink:href=\"#m58ebb58d18\" y=\"17.097773\"/>\r\n     <use style=\"fill:#ff7f0e;stroke:#ff7f0e;\" x=\"164.631505\" xlink:href=\"#m58ebb58d18\" y=\"17.096964\"/>\r\n     <use style=\"fill:#ff7f0e;stroke:#ff7f0e;\" x=\"165.068809\" xlink:href=\"#m58ebb58d18\" y=\"17.096198\"/>\r\n     <use style=\"fill:#ff7f0e;stroke:#ff7f0e;\" x=\"165.506113\" xlink:href=\"#m58ebb58d18\" y=\"17.095475\"/>\r\n     <use style=\"fill:#ff7f0e;stroke:#ff7f0e;\" x=\"165.943417\" xlink:href=\"#m58ebb58d18\" y=\"17.094793\"/>\r\n     <use style=\"fill:#ff7f0e;stroke:#ff7f0e;\" x=\"166.380721\" xlink:href=\"#m58ebb58d18\" y=\"17.094151\"/>\r\n     <use style=\"fill:#ff7f0e;stroke:#ff7f0e;\" x=\"166.818025\" xlink:href=\"#m58ebb58d18\" y=\"17.093546\"/>\r\n     <use style=\"fill:#ff7f0e;stroke:#ff7f0e;\" x=\"167.255329\" xlink:href=\"#m58ebb58d18\" y=\"17.092975\"/>\r\n     <use style=\"fill:#ff7f0e;stroke:#ff7f0e;\" x=\"167.692633\" xlink:href=\"#m58ebb58d18\" y=\"17.092438\"/>\r\n     <use style=\"fill:#ff7f0e;stroke:#ff7f0e;\" x=\"168.129937\" xlink:href=\"#m58ebb58d18\" y=\"17.091932\"/>\r\n     <use style=\"fill:#ff7f0e;stroke:#ff7f0e;\" x=\"168.567241\" xlink:href=\"#m58ebb58d18\" y=\"17.091454\"/>\r\n     <use style=\"fill:#ff7f0e;stroke:#ff7f0e;\" x=\"169.004545\" xlink:href=\"#m58ebb58d18\" y=\"17.091005\"/>\r\n     <use style=\"fill:#ff7f0e;stroke:#ff7f0e;\" x=\"169.44185\" xlink:href=\"#m58ebb58d18\" y=\"17.090581\"/>\r\n     <use style=\"fill:#ff7f0e;stroke:#ff7f0e;\" x=\"169.879154\" xlink:href=\"#m58ebb58d18\" y=\"17.090181\"/>\r\n     <use style=\"fill:#ff7f0e;stroke:#ff7f0e;\" x=\"170.316458\" xlink:href=\"#m58ebb58d18\" y=\"17.089804\"/>\r\n     <use style=\"fill:#ff7f0e;stroke:#ff7f0e;\" x=\"170.753762\" xlink:href=\"#m58ebb58d18\" y=\"17.089448\"/>\r\n     <use style=\"fill:#ff7f0e;stroke:#ff7f0e;\" x=\"171.191066\" xlink:href=\"#m58ebb58d18\" y=\"17.089112\"/>\r\n     <use style=\"fill:#ff7f0e;stroke:#ff7f0e;\" x=\"171.62837\" xlink:href=\"#m58ebb58d18\" y=\"17.088796\"/>\r\n     <use style=\"fill:#ff7f0e;stroke:#ff7f0e;\" x=\"172.065674\" xlink:href=\"#m58ebb58d18\" y=\"17.088498\"/>\r\n     <use style=\"fill:#ff7f0e;stroke:#ff7f0e;\" x=\"172.502978\" xlink:href=\"#m58ebb58d18\" y=\"17.088217\"/>\r\n     <use style=\"fill:#ff7f0e;stroke:#ff7f0e;\" x=\"172.940282\" xlink:href=\"#m58ebb58d18\" y=\"17.087952\"/>\r\n     <use style=\"fill:#ff7f0e;stroke:#ff7f0e;\" x=\"173.377586\" xlink:href=\"#m58ebb58d18\" y=\"17.087704\"/>\r\n     <use style=\"fill:#ff7f0e;stroke:#ff7f0e;\" x=\"173.81489\" xlink:href=\"#m58ebb58d18\" y=\"17.087469\"/>\r\n     <use style=\"fill:#ff7f0e;stroke:#ff7f0e;\" x=\"174.252194\" xlink:href=\"#m58ebb58d18\" y=\"17.087249\"/>\r\n     <use style=\"fill:#ff7f0e;stroke:#ff7f0e;\" x=\"174.689498\" xlink:href=\"#m58ebb58d18\" y=\"17.087042\"/>\r\n     <use style=\"fill:#ff7f0e;stroke:#ff7f0e;\" x=\"175.126803\" xlink:href=\"#m58ebb58d18\" y=\"17.086847\"/>\r\n     <use style=\"fill:#ff7f0e;stroke:#ff7f0e;\" x=\"175.564107\" xlink:href=\"#m58ebb58d18\" y=\"17.086664\"/>\r\n     <use style=\"fill:#ff7f0e;stroke:#ff7f0e;\" x=\"176.001411\" xlink:href=\"#m58ebb58d18\" y=\"17.086491\"/>\r\n     <use style=\"fill:#ff7f0e;stroke:#ff7f0e;\" x=\"176.438715\" xlink:href=\"#m58ebb58d18\" y=\"17.086328\"/>\r\n     <use style=\"fill:#ff7f0e;stroke:#ff7f0e;\" x=\"176.876019\" xlink:href=\"#m58ebb58d18\" y=\"17.086175\"/>\r\n     <use style=\"fill:#ff7f0e;stroke:#ff7f0e;\" x=\"177.313323\" xlink:href=\"#m58ebb58d18\" y=\"17.086029\"/>\r\n     <use style=\"fill:#ff7f0e;stroke:#ff7f0e;\" x=\"177.750627\" xlink:href=\"#m58ebb58d18\" y=\"17.085892\"/>\r\n     <use style=\"fill:#ff7f0e;stroke:#ff7f0e;\" x=\"178.187931\" xlink:href=\"#m58ebb58d18\" y=\"17.085762\"/>\r\n     <use style=\"fill:#ff7f0e;stroke:#ff7f0e;\" x=\"178.625235\" xlink:href=\"#m58ebb58d18\" y=\"17.08564\"/>\r\n     <use style=\"fill:#ff7f0e;stroke:#ff7f0e;\" x=\"179.062539\" xlink:href=\"#m58ebb58d18\" y=\"17.085524\"/>\r\n     <use style=\"fill:#ff7f0e;stroke:#ff7f0e;\" x=\"179.499843\" xlink:href=\"#m58ebb58d18\" y=\"17.085416\"/>\r\n     <use style=\"fill:#ff7f0e;stroke:#ff7f0e;\" x=\"179.937147\" xlink:href=\"#m58ebb58d18\" y=\"17.085313\"/>\r\n     <use style=\"fill:#ff7f0e;stroke:#ff7f0e;\" x=\"180.374451\" xlink:href=\"#m58ebb58d18\" y=\"17.085217\"/>\r\n     <use style=\"fill:#ff7f0e;stroke:#ff7f0e;\" x=\"180.811755\" xlink:href=\"#m58ebb58d18\" y=\"17.085126\"/>\r\n     <use style=\"fill:#ff7f0e;stroke:#ff7f0e;\" x=\"181.24906\" xlink:href=\"#m58ebb58d18\" y=\"17.08504\"/>\r\n     <use style=\"fill:#ff7f0e;stroke:#ff7f0e;\" x=\"181.686364\" xlink:href=\"#m58ebb58d18\" y=\"17.084959\"/>\r\n     <use style=\"fill:#ff7f0e;stroke:#ff7f0e;\" x=\"182.123668\" xlink:href=\"#m58ebb58d18\" y=\"17.084883\"/>\r\n     <use style=\"fill:#ff7f0e;stroke:#ff7f0e;\" x=\"182.560972\" xlink:href=\"#m58ebb58d18\" y=\"17.084811\"/>\r\n     <use style=\"fill:#ff7f0e;stroke:#ff7f0e;\" x=\"182.998276\" xlink:href=\"#m58ebb58d18\" y=\"17.084744\"/>\r\n     <use style=\"fill:#ff7f0e;stroke:#ff7f0e;\" x=\"183.43558\" xlink:href=\"#m58ebb58d18\" y=\"17.08468\"/>\r\n     <use style=\"fill:#ff7f0e;stroke:#ff7f0e;\" x=\"183.872884\" xlink:href=\"#m58ebb58d18\" y=\"17.08462\"/>\r\n     <use style=\"fill:#ff7f0e;stroke:#ff7f0e;\" x=\"184.310188\" xlink:href=\"#m58ebb58d18\" y=\"17.084563\"/>\r\n     <use style=\"fill:#ff7f0e;stroke:#ff7f0e;\" x=\"184.747492\" xlink:href=\"#m58ebb58d18\" y=\"17.084509\"/>\r\n     <use style=\"fill:#ff7f0e;stroke:#ff7f0e;\" x=\"185.184796\" xlink:href=\"#m58ebb58d18\" y=\"17.084459\"/>\r\n     <use style=\"fill:#ff7f0e;stroke:#ff7f0e;\" x=\"185.6221\" xlink:href=\"#m58ebb58d18\" y=\"17.084411\"/>\r\n     <use style=\"fill:#ff7f0e;stroke:#ff7f0e;\" x=\"186.059404\" xlink:href=\"#m58ebb58d18\" y=\"17.084367\"/>\r\n     <use style=\"fill:#ff7f0e;stroke:#ff7f0e;\" x=\"186.496708\" xlink:href=\"#m58ebb58d18\" y=\"17.084325\"/>\r\n     <use style=\"fill:#ff7f0e;stroke:#ff7f0e;\" x=\"186.934013\" xlink:href=\"#m58ebb58d18\" y=\"17.084285\"/>\r\n     <use style=\"fill:#ff7f0e;stroke:#ff7f0e;\" x=\"187.371317\" xlink:href=\"#m58ebb58d18\" y=\"17.084248\"/>\r\n     <use style=\"fill:#ff7f0e;stroke:#ff7f0e;\" x=\"187.808621\" xlink:href=\"#m58ebb58d18\" y=\"17.084213\"/>\r\n     <use style=\"fill:#ff7f0e;stroke:#ff7f0e;\" x=\"188.245925\" xlink:href=\"#m58ebb58d18\" y=\"17.08418\"/>\r\n     <use style=\"fill:#ff7f0e;stroke:#ff7f0e;\" x=\"188.683229\" xlink:href=\"#m58ebb58d18\" y=\"17.084149\"/>\r\n     <use style=\"fill:#ff7f0e;stroke:#ff7f0e;\" x=\"189.120533\" xlink:href=\"#m58ebb58d18\" y=\"17.08412\"/>\r\n     <use style=\"fill:#ff7f0e;stroke:#ff7f0e;\" x=\"189.557837\" xlink:href=\"#m58ebb58d18\" y=\"17.084092\"/>\r\n     <use style=\"fill:#ff7f0e;stroke:#ff7f0e;\" x=\"189.995141\" xlink:href=\"#m58ebb58d18\" y=\"17.084066\"/>\r\n     <use style=\"fill:#ff7f0e;stroke:#ff7f0e;\" x=\"190.432445\" xlink:href=\"#m58ebb58d18\" y=\"17.084041\"/>\r\n     <use style=\"fill:#ff7f0e;stroke:#ff7f0e;\" x=\"190.869749\" xlink:href=\"#m58ebb58d18\" y=\"17.084018\"/>\r\n     <use style=\"fill:#ff7f0e;stroke:#ff7f0e;\" x=\"191.307053\" xlink:href=\"#m58ebb58d18\" y=\"17.083996\"/>\r\n     <use style=\"fill:#ff7f0e;stroke:#ff7f0e;\" x=\"191.744357\" xlink:href=\"#m58ebb58d18\" y=\"17.083975\"/>\r\n     <use style=\"fill:#ff7f0e;stroke:#ff7f0e;\" x=\"192.181661\" xlink:href=\"#m58ebb58d18\" y=\"17.083956\"/>\r\n     <use style=\"fill:#ff7f0e;stroke:#ff7f0e;\" x=\"192.618966\" xlink:href=\"#m58ebb58d18\" y=\"17.083937\"/>\r\n     <use style=\"fill:#ff7f0e;stroke:#ff7f0e;\" x=\"193.05627\" xlink:href=\"#m58ebb58d18\" y=\"17.08392\"/>\r\n     <use style=\"fill:#ff7f0e;stroke:#ff7f0e;\" x=\"193.493574\" xlink:href=\"#m58ebb58d18\" y=\"17.083904\"/>\r\n     <use style=\"fill:#ff7f0e;stroke:#ff7f0e;\" x=\"193.930878\" xlink:href=\"#m58ebb58d18\" y=\"17.083888\"/>\r\n     <use style=\"fill:#ff7f0e;stroke:#ff7f0e;\" x=\"194.368182\" xlink:href=\"#m58ebb58d18\" y=\"17.083874\"/>\r\n     <use style=\"fill:#ff7f0e;stroke:#ff7f0e;\" x=\"194.805486\" xlink:href=\"#m58ebb58d18\" y=\"17.08386\"/>\r\n     <use style=\"fill:#ff7f0e;stroke:#ff7f0e;\" x=\"195.24279\" xlink:href=\"#m58ebb58d18\" y=\"17.083847\"/>\r\n     <use style=\"fill:#ff7f0e;stroke:#ff7f0e;\" x=\"195.680094\" xlink:href=\"#m58ebb58d18\" y=\"17.083835\"/>\r\n     <use style=\"fill:#ff7f0e;stroke:#ff7f0e;\" x=\"196.117398\" xlink:href=\"#m58ebb58d18\" y=\"17.083824\"/>\r\n     <use style=\"fill:#ff7f0e;stroke:#ff7f0e;\" x=\"196.554702\" xlink:href=\"#m58ebb58d18\" y=\"17.083813\"/>\r\n     <use style=\"fill:#ff7f0e;stroke:#ff7f0e;\" x=\"196.992006\" xlink:href=\"#m58ebb58d18\" y=\"17.083803\"/>\r\n     <use style=\"fill:#ff7f0e;stroke:#ff7f0e;\" x=\"197.42931\" xlink:href=\"#m58ebb58d18\" y=\"17.083793\"/>\r\n     <use style=\"fill:#ff7f0e;stroke:#ff7f0e;\" x=\"197.866614\" xlink:href=\"#m58ebb58d18\" y=\"17.083784\"/>\r\n     <use style=\"fill:#ff7f0e;stroke:#ff7f0e;\" x=\"198.303918\" xlink:href=\"#m58ebb58d18\" y=\"17.083775\"/>\r\n     <use style=\"fill:#ff7f0e;stroke:#ff7f0e;\" x=\"198.741223\" xlink:href=\"#m58ebb58d18\" y=\"17.083767\"/>\r\n     <use style=\"fill:#ff7f0e;stroke:#ff7f0e;\" x=\"199.178527\" xlink:href=\"#m58ebb58d18\" y=\"17.08376\"/>\r\n     <use style=\"fill:#ff7f0e;stroke:#ff7f0e;\" x=\"199.615831\" xlink:href=\"#m58ebb58d18\" y=\"17.083753\"/>\r\n     <use style=\"fill:#ff7f0e;stroke:#ff7f0e;\" x=\"200.053135\" xlink:href=\"#m58ebb58d18\" y=\"17.083746\"/>\r\n     <use style=\"fill:#ff7f0e;stroke:#ff7f0e;\" x=\"200.490439\" xlink:href=\"#m58ebb58d18\" y=\"17.08374\"/>\r\n     <use style=\"fill:#ff7f0e;stroke:#ff7f0e;\" x=\"200.927743\" xlink:href=\"#m58ebb58d18\" y=\"17.083734\"/>\r\n     <use style=\"fill:#ff7f0e;stroke:#ff7f0e;\" x=\"201.365047\" xlink:href=\"#m58ebb58d18\" y=\"17.083728\"/>\r\n     <use style=\"fill:#ff7f0e;stroke:#ff7f0e;\" x=\"201.802351\" xlink:href=\"#m58ebb58d18\" y=\"17.083723\"/>\r\n     <use style=\"fill:#ff7f0e;stroke:#ff7f0e;\" x=\"202.239655\" xlink:href=\"#m58ebb58d18\" y=\"17.083718\"/>\r\n     <use style=\"fill:#ff7f0e;stroke:#ff7f0e;\" x=\"202.676959\" xlink:href=\"#m58ebb58d18\" y=\"17.083714\"/>\r\n     <use style=\"fill:#ff7f0e;stroke:#ff7f0e;\" x=\"203.114263\" xlink:href=\"#m58ebb58d18\" y=\"17.083709\"/>\r\n     <use style=\"fill:#ff7f0e;stroke:#ff7f0e;\" x=\"203.551567\" xlink:href=\"#m58ebb58d18\" y=\"17.083705\"/>\r\n     <use style=\"fill:#ff7f0e;stroke:#ff7f0e;\" x=\"203.988871\" xlink:href=\"#m58ebb58d18\" y=\"17.083701\"/>\r\n     <use style=\"fill:#ff7f0e;stroke:#ff7f0e;\" x=\"204.426176\" xlink:href=\"#m58ebb58d18\" y=\"17.083697\"/>\r\n     <use style=\"fill:#ff7f0e;stroke:#ff7f0e;\" x=\"204.86348\" xlink:href=\"#m58ebb58d18\" y=\"17.083694\"/>\r\n     <use style=\"fill:#ff7f0e;stroke:#ff7f0e;\" x=\"205.300784\" xlink:href=\"#m58ebb58d18\" y=\"17.08369\"/>\r\n     <use style=\"fill:#ff7f0e;stroke:#ff7f0e;\" x=\"205.738088\" xlink:href=\"#m58ebb58d18\" y=\"17.083687\"/>\r\n     <use style=\"fill:#ff7f0e;stroke:#ff7f0e;\" x=\"206.175392\" xlink:href=\"#m58ebb58d18\" y=\"17.083684\"/>\r\n     <use style=\"fill:#ff7f0e;stroke:#ff7f0e;\" x=\"206.612696\" xlink:href=\"#m58ebb58d18\" y=\"17.083682\"/>\r\n     <use style=\"fill:#ff7f0e;stroke:#ff7f0e;\" x=\"207.05\" xlink:href=\"#m58ebb58d18\" y=\"17.083679\"/>\r\n     <use style=\"fill:#ff7f0e;stroke:#ff7f0e;\" x=\"207.487304\" xlink:href=\"#m58ebb58d18\" y=\"17.083677\"/>\r\n     <use style=\"fill:#ff7f0e;stroke:#ff7f0e;\" x=\"207.924608\" xlink:href=\"#m58ebb58d18\" y=\"17.083674\"/>\r\n     <use style=\"fill:#ff7f0e;stroke:#ff7f0e;\" x=\"208.361912\" xlink:href=\"#m58ebb58d18\" y=\"17.083672\"/>\r\n     <use style=\"fill:#ff7f0e;stroke:#ff7f0e;\" x=\"208.799216\" xlink:href=\"#m58ebb58d18\" y=\"17.08367\"/>\r\n     <use style=\"fill:#ff7f0e;stroke:#ff7f0e;\" x=\"209.23652\" xlink:href=\"#m58ebb58d18\" y=\"17.083668\"/>\r\n     <use style=\"fill:#ff7f0e;stroke:#ff7f0e;\" x=\"209.673824\" xlink:href=\"#m58ebb58d18\" y=\"17.083666\"/>\r\n     <use style=\"fill:#ff7f0e;stroke:#ff7f0e;\" x=\"210.111129\" xlink:href=\"#m58ebb58d18\" y=\"17.083664\"/>\r\n     <use style=\"fill:#ff7f0e;stroke:#ff7f0e;\" x=\"210.548433\" xlink:href=\"#m58ebb58d18\" y=\"17.083663\"/>\r\n     <use style=\"fill:#ff7f0e;stroke:#ff7f0e;\" x=\"210.985737\" xlink:href=\"#m58ebb58d18\" y=\"17.083661\"/>\r\n     <use style=\"fill:#ff7f0e;stroke:#ff7f0e;\" x=\"211.423041\" xlink:href=\"#m58ebb58d18\" y=\"17.08366\"/>\r\n     <use style=\"fill:#ff7f0e;stroke:#ff7f0e;\" x=\"211.860345\" xlink:href=\"#m58ebb58d18\" y=\"17.083659\"/>\r\n     <use style=\"fill:#ff7f0e;stroke:#ff7f0e;\" x=\"212.297649\" xlink:href=\"#m58ebb58d18\" y=\"17.083657\"/>\r\n     <use style=\"fill:#ff7f0e;stroke:#ff7f0e;\" x=\"212.734953\" xlink:href=\"#m58ebb58d18\" y=\"17.083656\"/>\r\n     <use style=\"fill:#ff7f0e;stroke:#ff7f0e;\" x=\"213.172257\" xlink:href=\"#m58ebb58d18\" y=\"17.083655\"/>\r\n     <use style=\"fill:#ff7f0e;stroke:#ff7f0e;\" x=\"213.609561\" xlink:href=\"#m58ebb58d18\" y=\"17.083654\"/>\r\n     <use style=\"fill:#ff7f0e;stroke:#ff7f0e;\" x=\"214.046865\" xlink:href=\"#m58ebb58d18\" y=\"17.083653\"/>\r\n     <use style=\"fill:#ff7f0e;stroke:#ff7f0e;\" x=\"214.484169\" xlink:href=\"#m58ebb58d18\" y=\"17.083652\"/>\r\n     <use style=\"fill:#ff7f0e;stroke:#ff7f0e;\" x=\"214.921473\" xlink:href=\"#m58ebb58d18\" y=\"17.083651\"/>\r\n     <use style=\"fill:#ff7f0e;stroke:#ff7f0e;\" x=\"215.358777\" xlink:href=\"#m58ebb58d18\" y=\"17.08365\"/>\r\n     <use style=\"fill:#ff7f0e;stroke:#ff7f0e;\" x=\"215.796082\" xlink:href=\"#m58ebb58d18\" y=\"17.083649\"/>\r\n     <use style=\"fill:#ff7f0e;stroke:#ff7f0e;\" x=\"216.233386\" xlink:href=\"#m58ebb58d18\" y=\"17.083649\"/>\r\n     <use style=\"fill:#ff7f0e;stroke:#ff7f0e;\" x=\"216.67069\" xlink:href=\"#m58ebb58d18\" y=\"17.083648\"/>\r\n     <use style=\"fill:#ff7f0e;stroke:#ff7f0e;\" x=\"217.107994\" xlink:href=\"#m58ebb58d18\" y=\"17.083647\"/>\r\n     <use style=\"fill:#ff7f0e;stroke:#ff7f0e;\" x=\"217.545298\" xlink:href=\"#m58ebb58d18\" y=\"17.083647\"/>\r\n     <use style=\"fill:#ff7f0e;stroke:#ff7f0e;\" x=\"217.982602\" xlink:href=\"#m58ebb58d18\" y=\"17.083646\"/>\r\n     <use style=\"fill:#ff7f0e;stroke:#ff7f0e;\" x=\"218.419906\" xlink:href=\"#m58ebb58d18\" y=\"17.083646\"/>\r\n     <use style=\"fill:#ff7f0e;stroke:#ff7f0e;\" x=\"218.85721\" xlink:href=\"#m58ebb58d18\" y=\"17.083645\"/>\r\n     <use style=\"fill:#ff7f0e;stroke:#ff7f0e;\" x=\"219.294514\" xlink:href=\"#m58ebb58d18\" y=\"17.083645\"/>\r\n     <use style=\"fill:#ff7f0e;stroke:#ff7f0e;\" x=\"219.731818\" xlink:href=\"#m58ebb58d18\" y=\"17.083644\"/>\r\n     <use style=\"fill:#ff7f0e;stroke:#ff7f0e;\" x=\"220.169122\" xlink:href=\"#m58ebb58d18\" y=\"17.083644\"/>\r\n     <use style=\"fill:#ff7f0e;stroke:#ff7f0e;\" x=\"220.606426\" xlink:href=\"#m58ebb58d18\" y=\"17.083643\"/>\r\n     <use style=\"fill:#ff7f0e;stroke:#ff7f0e;\" x=\"221.04373\" xlink:href=\"#m58ebb58d18\" y=\"17.083643\"/>\r\n     <use style=\"fill:#ff7f0e;stroke:#ff7f0e;\" x=\"221.481034\" xlink:href=\"#m58ebb58d18\" y=\"17.083642\"/>\r\n     <use style=\"fill:#ff7f0e;stroke:#ff7f0e;\" x=\"221.918339\" xlink:href=\"#m58ebb58d18\" y=\"17.083642\"/>\r\n     <use style=\"fill:#ff7f0e;stroke:#ff7f0e;\" x=\"222.355643\" xlink:href=\"#m58ebb58d18\" y=\"17.083642\"/>\r\n     <use style=\"fill:#ff7f0e;stroke:#ff7f0e;\" x=\"222.792947\" xlink:href=\"#m58ebb58d18\" y=\"17.083641\"/>\r\n     <use style=\"fill:#ff7f0e;stroke:#ff7f0e;\" x=\"223.230251\" xlink:href=\"#m58ebb58d18\" y=\"17.083641\"/>\r\n     <use style=\"fill:#ff7f0e;stroke:#ff7f0e;\" x=\"223.667555\" xlink:href=\"#m58ebb58d18\" y=\"17.083641\"/>\r\n     <use style=\"fill:#ff7f0e;stroke:#ff7f0e;\" x=\"224.104859\" xlink:href=\"#m58ebb58d18\" y=\"17.083641\"/>\r\n     <use style=\"fill:#ff7f0e;stroke:#ff7f0e;\" x=\"224.542163\" xlink:href=\"#m58ebb58d18\" y=\"17.08364\"/>\r\n     <use style=\"fill:#ff7f0e;stroke:#ff7f0e;\" x=\"224.979467\" xlink:href=\"#m58ebb58d18\" y=\"17.08364\"/>\r\n     <use style=\"fill:#ff7f0e;stroke:#ff7f0e;\" x=\"225.416771\" xlink:href=\"#m58ebb58d18\" y=\"17.08364\"/>\r\n     <use style=\"fill:#ff7f0e;stroke:#ff7f0e;\" x=\"225.854075\" xlink:href=\"#m58ebb58d18\" y=\"17.08364\"/>\r\n     <use style=\"fill:#ff7f0e;stroke:#ff7f0e;\" x=\"226.291379\" xlink:href=\"#m58ebb58d18\" y=\"17.083639\"/>\r\n     <use style=\"fill:#ff7f0e;stroke:#ff7f0e;\" x=\"226.728683\" xlink:href=\"#m58ebb58d18\" y=\"17.083639\"/>\r\n     <use style=\"fill:#ff7f0e;stroke:#ff7f0e;\" x=\"227.165987\" xlink:href=\"#m58ebb58d18\" y=\"17.083639\"/>\r\n     <use style=\"fill:#ff7f0e;stroke:#ff7f0e;\" x=\"227.603292\" xlink:href=\"#m58ebb58d18\" y=\"17.083639\"/>\r\n     <use style=\"fill:#ff7f0e;stroke:#ff7f0e;\" x=\"228.040596\" xlink:href=\"#m58ebb58d18\" y=\"17.083639\"/>\r\n     <use style=\"fill:#ff7f0e;stroke:#ff7f0e;\" x=\"228.4779\" xlink:href=\"#m58ebb58d18\" y=\"17.083639\"/>\r\n     <use style=\"fill:#ff7f0e;stroke:#ff7f0e;\" x=\"228.915204\" xlink:href=\"#m58ebb58d18\" y=\"17.083639\"/>\r\n     <use style=\"fill:#ff7f0e;stroke:#ff7f0e;\" x=\"229.352508\" xlink:href=\"#m58ebb58d18\" y=\"17.083638\"/>\r\n     <use style=\"fill:#ff7f0e;stroke:#ff7f0e;\" x=\"229.789812\" xlink:href=\"#m58ebb58d18\" y=\"17.083638\"/>\r\n     <use style=\"fill:#ff7f0e;stroke:#ff7f0e;\" x=\"230.227116\" xlink:href=\"#m58ebb58d18\" y=\"17.083638\"/>\r\n     <use style=\"fill:#ff7f0e;stroke:#ff7f0e;\" x=\"230.66442\" xlink:href=\"#m58ebb58d18\" y=\"17.083638\"/>\r\n     <use style=\"fill:#ff7f0e;stroke:#ff7f0e;\" x=\"231.101724\" xlink:href=\"#m58ebb58d18\" y=\"17.083638\"/>\r\n     <use style=\"fill:#ff7f0e;stroke:#ff7f0e;\" x=\"231.539028\" xlink:href=\"#m58ebb58d18\" y=\"17.083638\"/>\r\n     <use style=\"fill:#ff7f0e;stroke:#ff7f0e;\" x=\"231.976332\" xlink:href=\"#m58ebb58d18\" y=\"17.083638\"/>\r\n     <use style=\"fill:#ff7f0e;stroke:#ff7f0e;\" x=\"232.413636\" xlink:href=\"#m58ebb58d18\" y=\"17.083638\"/>\r\n     <use style=\"fill:#ff7f0e;stroke:#ff7f0e;\" x=\"232.85094\" xlink:href=\"#m58ebb58d18\" y=\"17.083638\"/>\r\n     <use style=\"fill:#ff7f0e;stroke:#ff7f0e;\" x=\"233.288245\" xlink:href=\"#m58ebb58d18\" y=\"17.083638\"/>\r\n     <use style=\"fill:#ff7f0e;stroke:#ff7f0e;\" x=\"233.725549\" xlink:href=\"#m58ebb58d18\" y=\"17.083638\"/>\r\n     <use style=\"fill:#ff7f0e;stroke:#ff7f0e;\" x=\"234.162853\" xlink:href=\"#m58ebb58d18\" y=\"17.083637\"/>\r\n     <use style=\"fill:#ff7f0e;stroke:#ff7f0e;\" x=\"234.600157\" xlink:href=\"#m58ebb58d18\" y=\"17.083637\"/>\r\n     <use style=\"fill:#ff7f0e;stroke:#ff7f0e;\" x=\"235.037461\" xlink:href=\"#m58ebb58d18\" y=\"17.083637\"/>\r\n     <use style=\"fill:#ff7f0e;stroke:#ff7f0e;\" x=\"235.474765\" xlink:href=\"#m58ebb58d18\" y=\"17.083637\"/>\r\n     <use style=\"fill:#ff7f0e;stroke:#ff7f0e;\" x=\"235.912069\" xlink:href=\"#m58ebb58d18\" y=\"17.083637\"/>\r\n     <use style=\"fill:#ff7f0e;stroke:#ff7f0e;\" x=\"236.349373\" xlink:href=\"#m58ebb58d18\" y=\"17.083637\"/>\r\n     <use style=\"fill:#ff7f0e;stroke:#ff7f0e;\" x=\"236.786677\" xlink:href=\"#m58ebb58d18\" y=\"17.083637\"/>\r\n     <use style=\"fill:#ff7f0e;stroke:#ff7f0e;\" x=\"237.223981\" xlink:href=\"#m58ebb58d18\" y=\"17.083637\"/>\r\n     <use style=\"fill:#ff7f0e;stroke:#ff7f0e;\" x=\"237.661285\" xlink:href=\"#m58ebb58d18\" y=\"17.083637\"/>\r\n     <use style=\"fill:#ff7f0e;stroke:#ff7f0e;\" x=\"238.098589\" xlink:href=\"#m58ebb58d18\" y=\"17.083637\"/>\r\n     <use style=\"fill:#ff7f0e;stroke:#ff7f0e;\" x=\"238.535893\" xlink:href=\"#m58ebb58d18\" y=\"17.083637\"/>\r\n     <use style=\"fill:#ff7f0e;stroke:#ff7f0e;\" x=\"238.973197\" xlink:href=\"#m58ebb58d18\" y=\"17.083637\"/>\r\n     <use style=\"fill:#ff7f0e;stroke:#ff7f0e;\" x=\"239.410502\" xlink:href=\"#m58ebb58d18\" y=\"17.083637\"/>\r\n     <use style=\"fill:#ff7f0e;stroke:#ff7f0e;\" x=\"239.847806\" xlink:href=\"#m58ebb58d18\" y=\"17.083637\"/>\r\n     <use style=\"fill:#ff7f0e;stroke:#ff7f0e;\" x=\"240.28511\" xlink:href=\"#m58ebb58d18\" y=\"17.083637\"/>\r\n     <use style=\"fill:#ff7f0e;stroke:#ff7f0e;\" x=\"240.722414\" xlink:href=\"#m58ebb58d18\" y=\"17.083637\"/>\r\n     <use style=\"fill:#ff7f0e;stroke:#ff7f0e;\" x=\"241.159718\" xlink:href=\"#m58ebb58d18\" y=\"17.083637\"/>\r\n     <use style=\"fill:#ff7f0e;stroke:#ff7f0e;\" x=\"241.597022\" xlink:href=\"#m58ebb58d18\" y=\"17.083637\"/>\r\n     <use style=\"fill:#ff7f0e;stroke:#ff7f0e;\" x=\"242.034326\" xlink:href=\"#m58ebb58d18\" y=\"17.083637\"/>\r\n     <use style=\"fill:#ff7f0e;stroke:#ff7f0e;\" x=\"242.47163\" xlink:href=\"#m58ebb58d18\" y=\"17.083637\"/>\r\n     <use style=\"fill:#ff7f0e;stroke:#ff7f0e;\" x=\"242.908934\" xlink:href=\"#m58ebb58d18\" y=\"17.083637\"/>\r\n     <use style=\"fill:#ff7f0e;stroke:#ff7f0e;\" x=\"243.346238\" xlink:href=\"#m58ebb58d18\" y=\"17.083637\"/>\r\n     <use style=\"fill:#ff7f0e;stroke:#ff7f0e;\" x=\"243.783542\" xlink:href=\"#m58ebb58d18\" y=\"17.083637\"/>\r\n     <use style=\"fill:#ff7f0e;stroke:#ff7f0e;\" x=\"244.220846\" xlink:href=\"#m58ebb58d18\" y=\"17.083637\"/>\r\n     <use style=\"fill:#ff7f0e;stroke:#ff7f0e;\" x=\"244.65815\" xlink:href=\"#m58ebb58d18\" y=\"17.083637\"/>\r\n     <use style=\"fill:#ff7f0e;stroke:#ff7f0e;\" x=\"245.095455\" xlink:href=\"#m58ebb58d18\" y=\"17.083637\"/>\r\n     <use style=\"fill:#ff7f0e;stroke:#ff7f0e;\" x=\"245.532759\" xlink:href=\"#m58ebb58d18\" y=\"17.083637\"/>\r\n     <use style=\"fill:#ff7f0e;stroke:#ff7f0e;\" x=\"245.970063\" xlink:href=\"#m58ebb58d18\" y=\"17.083637\"/>\r\n     <use style=\"fill:#ff7f0e;stroke:#ff7f0e;\" x=\"246.407367\" xlink:href=\"#m58ebb58d18\" y=\"17.083637\"/>\r\n     <use style=\"fill:#ff7f0e;stroke:#ff7f0e;\" x=\"246.844671\" xlink:href=\"#m58ebb58d18\" y=\"17.083637\"/>\r\n     <use style=\"fill:#ff7f0e;stroke:#ff7f0e;\" x=\"247.281975\" xlink:href=\"#m58ebb58d18\" y=\"17.083637\"/>\r\n     <use style=\"fill:#ff7f0e;stroke:#ff7f0e;\" x=\"247.719279\" xlink:href=\"#m58ebb58d18\" y=\"17.083637\"/>\r\n     <use style=\"fill:#ff7f0e;stroke:#ff7f0e;\" x=\"248.156583\" xlink:href=\"#m58ebb58d18\" y=\"17.083637\"/>\r\n     <use style=\"fill:#ff7f0e;stroke:#ff7f0e;\" x=\"248.593887\" xlink:href=\"#m58ebb58d18\" y=\"17.083637\"/>\r\n     <use style=\"fill:#ff7f0e;stroke:#ff7f0e;\" x=\"249.031191\" xlink:href=\"#m58ebb58d18\" y=\"17.083637\"/>\r\n     <use style=\"fill:#ff7f0e;stroke:#ff7f0e;\" x=\"249.468495\" xlink:href=\"#m58ebb58d18\" y=\"17.083637\"/>\r\n     <use style=\"fill:#ff7f0e;stroke:#ff7f0e;\" x=\"249.905799\" xlink:href=\"#m58ebb58d18\" y=\"17.083636\"/>\r\n     <use style=\"fill:#ff7f0e;stroke:#ff7f0e;\" x=\"250.343103\" xlink:href=\"#m58ebb58d18\" y=\"17.083636\"/>\r\n     <use style=\"fill:#ff7f0e;stroke:#ff7f0e;\" x=\"250.780408\" xlink:href=\"#m58ebb58d18\" y=\"17.083636\"/>\r\n     <use style=\"fill:#ff7f0e;stroke:#ff7f0e;\" x=\"251.217712\" xlink:href=\"#m58ebb58d18\" y=\"17.083636\"/>\r\n     <use style=\"fill:#ff7f0e;stroke:#ff7f0e;\" x=\"251.655016\" xlink:href=\"#m58ebb58d18\" y=\"17.083636\"/>\r\n     <use style=\"fill:#ff7f0e;stroke:#ff7f0e;\" x=\"252.09232\" xlink:href=\"#m58ebb58d18\" y=\"17.083636\"/>\r\n     <use style=\"fill:#ff7f0e;stroke:#ff7f0e;\" x=\"252.529624\" xlink:href=\"#m58ebb58d18\" y=\"17.083636\"/>\r\n     <use style=\"fill:#ff7f0e;stroke:#ff7f0e;\" x=\"252.966928\" xlink:href=\"#m58ebb58d18\" y=\"17.083636\"/>\r\n     <use style=\"fill:#ff7f0e;stroke:#ff7f0e;\" x=\"253.404232\" xlink:href=\"#m58ebb58d18\" y=\"17.083636\"/>\r\n     <use style=\"fill:#ff7f0e;stroke:#ff7f0e;\" x=\"253.841536\" xlink:href=\"#m58ebb58d18\" y=\"17.083636\"/>\r\n     <use style=\"fill:#ff7f0e;stroke:#ff7f0e;\" x=\"254.27884\" xlink:href=\"#m58ebb58d18\" y=\"17.083636\"/>\r\n     <use style=\"fill:#ff7f0e;stroke:#ff7f0e;\" x=\"254.716144\" xlink:href=\"#m58ebb58d18\" y=\"17.083636\"/>\r\n     <use style=\"fill:#ff7f0e;stroke:#ff7f0e;\" x=\"255.153448\" xlink:href=\"#m58ebb58d18\" y=\"17.083636\"/>\r\n     <use style=\"fill:#ff7f0e;stroke:#ff7f0e;\" x=\"255.590752\" xlink:href=\"#m58ebb58d18\" y=\"17.083636\"/>\r\n     <use style=\"fill:#ff7f0e;stroke:#ff7f0e;\" x=\"256.028056\" xlink:href=\"#m58ebb58d18\" y=\"17.083636\"/>\r\n     <use style=\"fill:#ff7f0e;stroke:#ff7f0e;\" x=\"256.465361\" xlink:href=\"#m58ebb58d18\" y=\"17.083636\"/>\r\n     <use style=\"fill:#ff7f0e;stroke:#ff7f0e;\" x=\"256.902665\" xlink:href=\"#m58ebb58d18\" y=\"17.083636\"/>\r\n     <use style=\"fill:#ff7f0e;stroke:#ff7f0e;\" x=\"257.339969\" xlink:href=\"#m58ebb58d18\" y=\"17.083636\"/>\r\n     <use style=\"fill:#ff7f0e;stroke:#ff7f0e;\" x=\"257.777273\" xlink:href=\"#m58ebb58d18\" y=\"17.083636\"/>\r\n     <use style=\"fill:#ff7f0e;stroke:#ff7f0e;\" x=\"258.214577\" xlink:href=\"#m58ebb58d18\" y=\"17.083636\"/>\r\n     <use style=\"fill:#ff7f0e;stroke:#ff7f0e;\" x=\"258.651881\" xlink:href=\"#m58ebb58d18\" y=\"17.083636\"/>\r\n     <use style=\"fill:#ff7f0e;stroke:#ff7f0e;\" x=\"259.089185\" xlink:href=\"#m58ebb58d18\" y=\"17.083636\"/>\r\n     <use style=\"fill:#ff7f0e;stroke:#ff7f0e;\" x=\"259.526489\" xlink:href=\"#m58ebb58d18\" y=\"17.083636\"/>\r\n     <use style=\"fill:#ff7f0e;stroke:#ff7f0e;\" x=\"259.963793\" xlink:href=\"#m58ebb58d18\" y=\"17.083636\"/>\r\n     <use style=\"fill:#ff7f0e;stroke:#ff7f0e;\" x=\"260.401097\" xlink:href=\"#m58ebb58d18\" y=\"17.083636\"/>\r\n     <use style=\"fill:#ff7f0e;stroke:#ff7f0e;\" x=\"260.838401\" xlink:href=\"#m58ebb58d18\" y=\"17.083636\"/>\r\n     <use style=\"fill:#ff7f0e;stroke:#ff7f0e;\" x=\"261.275705\" xlink:href=\"#m58ebb58d18\" y=\"17.083636\"/>\r\n     <use style=\"fill:#ff7f0e;stroke:#ff7f0e;\" x=\"261.713009\" xlink:href=\"#m58ebb58d18\" y=\"17.083636\"/>\r\n     <use style=\"fill:#ff7f0e;stroke:#ff7f0e;\" x=\"262.150313\" xlink:href=\"#m58ebb58d18\" y=\"17.083636\"/>\r\n     <use style=\"fill:#ff7f0e;stroke:#ff7f0e;\" x=\"262.587618\" xlink:href=\"#m58ebb58d18\" y=\"17.083636\"/>\r\n     <use style=\"fill:#ff7f0e;stroke:#ff7f0e;\" x=\"263.024922\" xlink:href=\"#m58ebb58d18\" y=\"17.083636\"/>\r\n     <use style=\"fill:#ff7f0e;stroke:#ff7f0e;\" x=\"263.462226\" xlink:href=\"#m58ebb58d18\" y=\"17.083636\"/>\r\n     <use style=\"fill:#ff7f0e;stroke:#ff7f0e;\" x=\"263.89953\" xlink:href=\"#m58ebb58d18\" y=\"17.083636\"/>\r\n     <use style=\"fill:#ff7f0e;stroke:#ff7f0e;\" x=\"264.336834\" xlink:href=\"#m58ebb58d18\" y=\"17.083636\"/>\r\n     <use style=\"fill:#ff7f0e;stroke:#ff7f0e;\" x=\"264.774138\" xlink:href=\"#m58ebb58d18\" y=\"17.083636\"/>\r\n     <use style=\"fill:#ff7f0e;stroke:#ff7f0e;\" x=\"265.211442\" xlink:href=\"#m58ebb58d18\" y=\"17.083636\"/>\r\n     <use style=\"fill:#ff7f0e;stroke:#ff7f0e;\" x=\"265.648746\" xlink:href=\"#m58ebb58d18\" y=\"17.083636\"/>\r\n     <use style=\"fill:#ff7f0e;stroke:#ff7f0e;\" x=\"266.08605\" xlink:href=\"#m58ebb58d18\" y=\"17.083636\"/>\r\n     <use style=\"fill:#ff7f0e;stroke:#ff7f0e;\" x=\"266.523354\" xlink:href=\"#m58ebb58d18\" y=\"17.083636\"/>\r\n     <use style=\"fill:#ff7f0e;stroke:#ff7f0e;\" x=\"266.960658\" xlink:href=\"#m58ebb58d18\" y=\"17.083636\"/>\r\n     <use style=\"fill:#ff7f0e;stroke:#ff7f0e;\" x=\"267.397962\" xlink:href=\"#m58ebb58d18\" y=\"17.083636\"/>\r\n     <use style=\"fill:#ff7f0e;stroke:#ff7f0e;\" x=\"267.835266\" xlink:href=\"#m58ebb58d18\" y=\"17.083636\"/>\r\n     <use style=\"fill:#ff7f0e;stroke:#ff7f0e;\" x=\"268.272571\" xlink:href=\"#m58ebb58d18\" y=\"17.083636\"/>\r\n     <use style=\"fill:#ff7f0e;stroke:#ff7f0e;\" x=\"268.709875\" xlink:href=\"#m58ebb58d18\" y=\"17.083636\"/>\r\n     <use style=\"fill:#ff7f0e;stroke:#ff7f0e;\" x=\"269.147179\" xlink:href=\"#m58ebb58d18\" y=\"17.083636\"/>\r\n     <use style=\"fill:#ff7f0e;stroke:#ff7f0e;\" x=\"269.584483\" xlink:href=\"#m58ebb58d18\" y=\"17.083636\"/>\r\n     <use style=\"fill:#ff7f0e;stroke:#ff7f0e;\" x=\"270.021787\" xlink:href=\"#m58ebb58d18\" y=\"17.083636\"/>\r\n     <use style=\"fill:#ff7f0e;stroke:#ff7f0e;\" x=\"270.459091\" xlink:href=\"#m58ebb58d18\" y=\"17.083636\"/>\r\n     <use style=\"fill:#ff7f0e;stroke:#ff7f0e;\" x=\"270.896395\" xlink:href=\"#m58ebb58d18\" y=\"17.083636\"/>\r\n     <use style=\"fill:#ff7f0e;stroke:#ff7f0e;\" x=\"271.333699\" xlink:href=\"#m58ebb58d18\" y=\"17.083636\"/>\r\n     <use style=\"fill:#ff7f0e;stroke:#ff7f0e;\" x=\"271.771003\" xlink:href=\"#m58ebb58d18\" y=\"17.083636\"/>\r\n     <use style=\"fill:#ff7f0e;stroke:#ff7f0e;\" x=\"272.208307\" xlink:href=\"#m58ebb58d18\" y=\"17.083636\"/>\r\n     <use style=\"fill:#ff7f0e;stroke:#ff7f0e;\" x=\"272.645611\" xlink:href=\"#m58ebb58d18\" y=\"17.083636\"/>\r\n     <use style=\"fill:#ff7f0e;stroke:#ff7f0e;\" x=\"273.082915\" xlink:href=\"#m58ebb58d18\" y=\"17.083636\"/>\r\n     <use style=\"fill:#ff7f0e;stroke:#ff7f0e;\" x=\"273.520219\" xlink:href=\"#m58ebb58d18\" y=\"17.083636\"/>\r\n     <use style=\"fill:#ff7f0e;stroke:#ff7f0e;\" x=\"273.957524\" xlink:href=\"#m58ebb58d18\" y=\"17.083636\"/>\r\n     <use style=\"fill:#ff7f0e;stroke:#ff7f0e;\" x=\"274.394828\" xlink:href=\"#m58ebb58d18\" y=\"17.083636\"/>\r\n     <use style=\"fill:#ff7f0e;stroke:#ff7f0e;\" x=\"274.832132\" xlink:href=\"#m58ebb58d18\" y=\"17.083636\"/>\r\n     <use style=\"fill:#ff7f0e;stroke:#ff7f0e;\" x=\"275.269436\" xlink:href=\"#m58ebb58d18\" y=\"17.083636\"/>\r\n     <use style=\"fill:#ff7f0e;stroke:#ff7f0e;\" x=\"275.70674\" xlink:href=\"#m58ebb58d18\" y=\"17.083636\"/>\r\n     <use style=\"fill:#ff7f0e;stroke:#ff7f0e;\" x=\"276.144044\" xlink:href=\"#m58ebb58d18\" y=\"17.083636\"/>\r\n     <use style=\"fill:#ff7f0e;stroke:#ff7f0e;\" x=\"276.581348\" xlink:href=\"#m58ebb58d18\" y=\"17.083636\"/>\r\n     <use style=\"fill:#ff7f0e;stroke:#ff7f0e;\" x=\"277.018652\" xlink:href=\"#m58ebb58d18\" y=\"17.083636\"/>\r\n     <use style=\"fill:#ff7f0e;stroke:#ff7f0e;\" x=\"277.455956\" xlink:href=\"#m58ebb58d18\" y=\"17.083636\"/>\r\n     <use style=\"fill:#ff7f0e;stroke:#ff7f0e;\" x=\"277.89326\" xlink:href=\"#m58ebb58d18\" y=\"17.083636\"/>\r\n     <use style=\"fill:#ff7f0e;stroke:#ff7f0e;\" x=\"278.330564\" xlink:href=\"#m58ebb58d18\" y=\"17.083636\"/>\r\n     <use style=\"fill:#ff7f0e;stroke:#ff7f0e;\" x=\"278.767868\" xlink:href=\"#m58ebb58d18\" y=\"17.083636\"/>\r\n     <use style=\"fill:#ff7f0e;stroke:#ff7f0e;\" x=\"279.205172\" xlink:href=\"#m58ebb58d18\" y=\"17.083636\"/>\r\n     <use style=\"fill:#ff7f0e;stroke:#ff7f0e;\" x=\"279.642476\" xlink:href=\"#m58ebb58d18\" y=\"17.083636\"/>\r\n     <use style=\"fill:#ff7f0e;stroke:#ff7f0e;\" x=\"280.079781\" xlink:href=\"#m58ebb58d18\" y=\"17.083636\"/>\r\n     <use style=\"fill:#ff7f0e;stroke:#ff7f0e;\" x=\"280.517085\" xlink:href=\"#m58ebb58d18\" y=\"17.083636\"/>\r\n     <use style=\"fill:#ff7f0e;stroke:#ff7f0e;\" x=\"280.954389\" xlink:href=\"#m58ebb58d18\" y=\"17.083636\"/>\r\n     <use style=\"fill:#ff7f0e;stroke:#ff7f0e;\" x=\"281.391693\" xlink:href=\"#m58ebb58d18\" y=\"17.083636\"/>\r\n     <use style=\"fill:#ff7f0e;stroke:#ff7f0e;\" x=\"281.828997\" xlink:href=\"#m58ebb58d18\" y=\"17.083636\"/>\r\n     <use style=\"fill:#ff7f0e;stroke:#ff7f0e;\" x=\"282.266301\" xlink:href=\"#m58ebb58d18\" y=\"17.083636\"/>\r\n     <use style=\"fill:#ff7f0e;stroke:#ff7f0e;\" x=\"282.703605\" xlink:href=\"#m58ebb58d18\" y=\"17.083636\"/>\r\n     <use style=\"fill:#ff7f0e;stroke:#ff7f0e;\" x=\"283.140909\" xlink:href=\"#m58ebb58d18\" y=\"17.083636\"/>\r\n     <use style=\"fill:#ff7f0e;stroke:#ff7f0e;\" x=\"283.578213\" xlink:href=\"#m58ebb58d18\" y=\"17.083636\"/>\r\n     <use style=\"fill:#ff7f0e;stroke:#ff7f0e;\" x=\"284.015517\" xlink:href=\"#m58ebb58d18\" y=\"17.083636\"/>\r\n     <use style=\"fill:#ff7f0e;stroke:#ff7f0e;\" x=\"284.452821\" xlink:href=\"#m58ebb58d18\" y=\"17.083636\"/>\r\n     <use style=\"fill:#ff7f0e;stroke:#ff7f0e;\" x=\"284.890125\" xlink:href=\"#m58ebb58d18\" y=\"17.083636\"/>\r\n     <use style=\"fill:#ff7f0e;stroke:#ff7f0e;\" x=\"285.327429\" xlink:href=\"#m58ebb58d18\" y=\"17.083636\"/>\r\n     <use style=\"fill:#ff7f0e;stroke:#ff7f0e;\" x=\"285.764734\" xlink:href=\"#m58ebb58d18\" y=\"17.083636\"/>\r\n     <use style=\"fill:#ff7f0e;stroke:#ff7f0e;\" x=\"286.202038\" xlink:href=\"#m58ebb58d18\" y=\"17.083636\"/>\r\n     <use style=\"fill:#ff7f0e;stroke:#ff7f0e;\" x=\"286.639342\" xlink:href=\"#m58ebb58d18\" y=\"17.083636\"/>\r\n     <use style=\"fill:#ff7f0e;stroke:#ff7f0e;\" x=\"287.076646\" xlink:href=\"#m58ebb58d18\" y=\"17.083636\"/>\r\n     <use style=\"fill:#ff7f0e;stroke:#ff7f0e;\" x=\"287.51395\" xlink:href=\"#m58ebb58d18\" y=\"17.083636\"/>\r\n     <use style=\"fill:#ff7f0e;stroke:#ff7f0e;\" x=\"287.951254\" xlink:href=\"#m58ebb58d18\" y=\"17.083636\"/>\r\n     <use style=\"fill:#ff7f0e;stroke:#ff7f0e;\" x=\"288.388558\" xlink:href=\"#m58ebb58d18\" y=\"17.083636\"/>\r\n     <use style=\"fill:#ff7f0e;stroke:#ff7f0e;\" x=\"288.825862\" xlink:href=\"#m58ebb58d18\" y=\"17.083636\"/>\r\n     <use style=\"fill:#ff7f0e;stroke:#ff7f0e;\" x=\"289.263166\" xlink:href=\"#m58ebb58d18\" y=\"17.083636\"/>\r\n     <use style=\"fill:#ff7f0e;stroke:#ff7f0e;\" x=\"289.70047\" xlink:href=\"#m58ebb58d18\" y=\"17.083636\"/>\r\n     <use style=\"fill:#ff7f0e;stroke:#ff7f0e;\" x=\"290.137774\" xlink:href=\"#m58ebb58d18\" y=\"17.083636\"/>\r\n     <use style=\"fill:#ff7f0e;stroke:#ff7f0e;\" x=\"290.575078\" xlink:href=\"#m58ebb58d18\" y=\"17.083636\"/>\r\n     <use style=\"fill:#ff7f0e;stroke:#ff7f0e;\" x=\"291.012382\" xlink:href=\"#m58ebb58d18\" y=\"17.083636\"/>\r\n     <use style=\"fill:#ff7f0e;stroke:#ff7f0e;\" x=\"291.449687\" xlink:href=\"#m58ebb58d18\" y=\"17.083636\"/>\r\n     <use style=\"fill:#ff7f0e;stroke:#ff7f0e;\" x=\"291.886991\" xlink:href=\"#m58ebb58d18\" y=\"17.083636\"/>\r\n     <use style=\"fill:#ff7f0e;stroke:#ff7f0e;\" x=\"292.324295\" xlink:href=\"#m58ebb58d18\" y=\"17.083636\"/>\r\n     <use style=\"fill:#ff7f0e;stroke:#ff7f0e;\" x=\"292.761599\" xlink:href=\"#m58ebb58d18\" y=\"17.083636\"/>\r\n     <use style=\"fill:#ff7f0e;stroke:#ff7f0e;\" x=\"293.198903\" xlink:href=\"#m58ebb58d18\" y=\"17.083636\"/>\r\n     <use style=\"fill:#ff7f0e;stroke:#ff7f0e;\" x=\"293.636207\" xlink:href=\"#m58ebb58d18\" y=\"17.083636\"/>\r\n     <use style=\"fill:#ff7f0e;stroke:#ff7f0e;\" x=\"294.073511\" xlink:href=\"#m58ebb58d18\" y=\"17.083636\"/>\r\n     <use style=\"fill:#ff7f0e;stroke:#ff7f0e;\" x=\"294.510815\" xlink:href=\"#m58ebb58d18\" y=\"17.083636\"/>\r\n     <use style=\"fill:#ff7f0e;stroke:#ff7f0e;\" x=\"294.948119\" xlink:href=\"#m58ebb58d18\" y=\"17.083636\"/>\r\n     <use style=\"fill:#ff7f0e;stroke:#ff7f0e;\" x=\"295.385423\" xlink:href=\"#m58ebb58d18\" y=\"17.083636\"/>\r\n     <use style=\"fill:#ff7f0e;stroke:#ff7f0e;\" x=\"295.822727\" xlink:href=\"#m58ebb58d18\" y=\"17.083636\"/>\r\n     <use style=\"fill:#ff7f0e;stroke:#ff7f0e;\" x=\"296.260031\" xlink:href=\"#m58ebb58d18\" y=\"17.083636\"/>\r\n     <use style=\"fill:#ff7f0e;stroke:#ff7f0e;\" x=\"296.697335\" xlink:href=\"#m58ebb58d18\" y=\"17.083636\"/>\r\n     <use style=\"fill:#ff7f0e;stroke:#ff7f0e;\" x=\"297.134639\" xlink:href=\"#m58ebb58d18\" y=\"17.083636\"/>\r\n     <use style=\"fill:#ff7f0e;stroke:#ff7f0e;\" x=\"297.571944\" xlink:href=\"#m58ebb58d18\" y=\"17.083636\"/>\r\n     <use style=\"fill:#ff7f0e;stroke:#ff7f0e;\" x=\"298.009248\" xlink:href=\"#m58ebb58d18\" y=\"17.083636\"/>\r\n     <use style=\"fill:#ff7f0e;stroke:#ff7f0e;\" x=\"298.446552\" xlink:href=\"#m58ebb58d18\" y=\"17.083636\"/>\r\n     <use style=\"fill:#ff7f0e;stroke:#ff7f0e;\" x=\"298.883856\" xlink:href=\"#m58ebb58d18\" y=\"17.083636\"/>\r\n     <use style=\"fill:#ff7f0e;stroke:#ff7f0e;\" x=\"299.32116\" xlink:href=\"#m58ebb58d18\" y=\"17.083636\"/>\r\n     <use style=\"fill:#ff7f0e;stroke:#ff7f0e;\" x=\"299.758464\" xlink:href=\"#m58ebb58d18\" y=\"17.083636\"/>\r\n     <use style=\"fill:#ff7f0e;stroke:#ff7f0e;\" x=\"300.195768\" xlink:href=\"#m58ebb58d18\" y=\"17.083636\"/>\r\n     <use style=\"fill:#ff7f0e;stroke:#ff7f0e;\" x=\"300.633072\" xlink:href=\"#m58ebb58d18\" y=\"17.083636\"/>\r\n     <use style=\"fill:#ff7f0e;stroke:#ff7f0e;\" x=\"301.070376\" xlink:href=\"#m58ebb58d18\" y=\"17.083636\"/>\r\n     <use style=\"fill:#ff7f0e;stroke:#ff7f0e;\" x=\"301.50768\" xlink:href=\"#m58ebb58d18\" y=\"17.083636\"/>\r\n     <use style=\"fill:#ff7f0e;stroke:#ff7f0e;\" x=\"301.944984\" xlink:href=\"#m58ebb58d18\" y=\"17.083636\"/>\r\n     <use style=\"fill:#ff7f0e;stroke:#ff7f0e;\" x=\"302.382288\" xlink:href=\"#m58ebb58d18\" y=\"17.083636\"/>\r\n     <use style=\"fill:#ff7f0e;stroke:#ff7f0e;\" x=\"302.819592\" xlink:href=\"#m58ebb58d18\" y=\"17.083636\"/>\r\n     <use style=\"fill:#ff7f0e;stroke:#ff7f0e;\" x=\"303.256897\" xlink:href=\"#m58ebb58d18\" y=\"17.083636\"/>\r\n     <use style=\"fill:#ff7f0e;stroke:#ff7f0e;\" x=\"303.694201\" xlink:href=\"#m58ebb58d18\" y=\"17.083636\"/>\r\n     <use style=\"fill:#ff7f0e;stroke:#ff7f0e;\" x=\"304.131505\" xlink:href=\"#m58ebb58d18\" y=\"17.083636\"/>\r\n     <use style=\"fill:#ff7f0e;stroke:#ff7f0e;\" x=\"304.568809\" xlink:href=\"#m58ebb58d18\" y=\"17.083636\"/>\r\n     <use style=\"fill:#ff7f0e;stroke:#ff7f0e;\" x=\"305.006113\" xlink:href=\"#m58ebb58d18\" y=\"17.083636\"/>\r\n     <use style=\"fill:#ff7f0e;stroke:#ff7f0e;\" x=\"305.443417\" xlink:href=\"#m58ebb58d18\" y=\"17.083636\"/>\r\n     <use style=\"fill:#ff7f0e;stroke:#ff7f0e;\" x=\"305.880721\" xlink:href=\"#m58ebb58d18\" y=\"17.083636\"/>\r\n     <use style=\"fill:#ff7f0e;stroke:#ff7f0e;\" x=\"306.318025\" xlink:href=\"#m58ebb58d18\" y=\"17.083636\"/>\r\n     <use style=\"fill:#ff7f0e;stroke:#ff7f0e;\" x=\"306.755329\" xlink:href=\"#m58ebb58d18\" y=\"17.083636\"/>\r\n     <use style=\"fill:#ff7f0e;stroke:#ff7f0e;\" x=\"307.192633\" xlink:href=\"#m58ebb58d18\" y=\"17.083636\"/>\r\n     <use style=\"fill:#ff7f0e;stroke:#ff7f0e;\" x=\"307.629937\" xlink:href=\"#m58ebb58d18\" y=\"17.083636\"/>\r\n     <use style=\"fill:#ff7f0e;stroke:#ff7f0e;\" x=\"308.067241\" xlink:href=\"#m58ebb58d18\" y=\"17.083636\"/>\r\n     <use style=\"fill:#ff7f0e;stroke:#ff7f0e;\" x=\"308.504545\" xlink:href=\"#m58ebb58d18\" y=\"17.083636\"/>\r\n     <use style=\"fill:#ff7f0e;stroke:#ff7f0e;\" x=\"308.94185\" xlink:href=\"#m58ebb58d18\" y=\"17.083636\"/>\r\n     <use style=\"fill:#ff7f0e;stroke:#ff7f0e;\" x=\"309.379154\" xlink:href=\"#m58ebb58d18\" y=\"17.083636\"/>\r\n     <use style=\"fill:#ff7f0e;stroke:#ff7f0e;\" x=\"309.816458\" xlink:href=\"#m58ebb58d18\" y=\"17.083636\"/>\r\n     <use style=\"fill:#ff7f0e;stroke:#ff7f0e;\" x=\"310.253762\" xlink:href=\"#m58ebb58d18\" y=\"17.083636\"/>\r\n     <use style=\"fill:#ff7f0e;stroke:#ff7f0e;\" x=\"310.691066\" xlink:href=\"#m58ebb58d18\" y=\"17.083636\"/>\r\n     <use style=\"fill:#ff7f0e;stroke:#ff7f0e;\" x=\"311.12837\" xlink:href=\"#m58ebb58d18\" y=\"17.083636\"/>\r\n     <use style=\"fill:#ff7f0e;stroke:#ff7f0e;\" x=\"311.565674\" xlink:href=\"#m58ebb58d18\" y=\"17.083636\"/>\r\n     <use style=\"fill:#ff7f0e;stroke:#ff7f0e;\" x=\"312.002978\" xlink:href=\"#m58ebb58d18\" y=\"17.083636\"/>\r\n     <use style=\"fill:#ff7f0e;stroke:#ff7f0e;\" x=\"312.440282\" xlink:href=\"#m58ebb58d18\" y=\"17.083636\"/>\r\n     <use style=\"fill:#ff7f0e;stroke:#ff7f0e;\" x=\"312.877586\" xlink:href=\"#m58ebb58d18\" y=\"17.083636\"/>\r\n     <use style=\"fill:#ff7f0e;stroke:#ff7f0e;\" x=\"313.31489\" xlink:href=\"#m58ebb58d18\" y=\"17.083636\"/>\r\n     <use style=\"fill:#ff7f0e;stroke:#ff7f0e;\" x=\"313.752194\" xlink:href=\"#m58ebb58d18\" y=\"17.083636\"/>\r\n     <use style=\"fill:#ff7f0e;stroke:#ff7f0e;\" x=\"314.189498\" xlink:href=\"#m58ebb58d18\" y=\"17.083636\"/>\r\n     <use style=\"fill:#ff7f0e;stroke:#ff7f0e;\" x=\"314.626803\" xlink:href=\"#m58ebb58d18\" y=\"17.083636\"/>\r\n     <use style=\"fill:#ff7f0e;stroke:#ff7f0e;\" x=\"315.064107\" xlink:href=\"#m58ebb58d18\" y=\"17.083636\"/>\r\n     <use style=\"fill:#ff7f0e;stroke:#ff7f0e;\" x=\"315.501411\" xlink:href=\"#m58ebb58d18\" y=\"17.083636\"/>\r\n     <use style=\"fill:#ff7f0e;stroke:#ff7f0e;\" x=\"315.938715\" xlink:href=\"#m58ebb58d18\" y=\"17.083636\"/>\r\n     <use style=\"fill:#ff7f0e;stroke:#ff7f0e;\" x=\"316.376019\" xlink:href=\"#m58ebb58d18\" y=\"17.083636\"/>\r\n     <use style=\"fill:#ff7f0e;stroke:#ff7f0e;\" x=\"316.813323\" xlink:href=\"#m58ebb58d18\" y=\"17.083636\"/>\r\n     <use style=\"fill:#ff7f0e;stroke:#ff7f0e;\" x=\"317.250627\" xlink:href=\"#m58ebb58d18\" y=\"17.083636\"/>\r\n     <use style=\"fill:#ff7f0e;stroke:#ff7f0e;\" x=\"317.687931\" xlink:href=\"#m58ebb58d18\" y=\"17.083636\"/>\r\n     <use style=\"fill:#ff7f0e;stroke:#ff7f0e;\" x=\"318.125235\" xlink:href=\"#m58ebb58d18\" y=\"17.083636\"/>\r\n     <use style=\"fill:#ff7f0e;stroke:#ff7f0e;\" x=\"318.562539\" xlink:href=\"#m58ebb58d18\" y=\"17.083636\"/>\r\n     <use style=\"fill:#ff7f0e;stroke:#ff7f0e;\" x=\"318.999843\" xlink:href=\"#m58ebb58d18\" y=\"17.083636\"/>\r\n     <use style=\"fill:#ff7f0e;stroke:#ff7f0e;\" x=\"319.437147\" xlink:href=\"#m58ebb58d18\" y=\"17.083636\"/>\r\n     <use style=\"fill:#ff7f0e;stroke:#ff7f0e;\" x=\"319.874451\" xlink:href=\"#m58ebb58d18\" y=\"17.083636\"/>\r\n     <use style=\"fill:#ff7f0e;stroke:#ff7f0e;\" x=\"320.311755\" xlink:href=\"#m58ebb58d18\" y=\"17.083636\"/>\r\n     <use style=\"fill:#ff7f0e;stroke:#ff7f0e;\" x=\"320.74906\" xlink:href=\"#m58ebb58d18\" y=\"17.083636\"/>\r\n     <use style=\"fill:#ff7f0e;stroke:#ff7f0e;\" x=\"321.186364\" xlink:href=\"#m58ebb58d18\" y=\"17.083636\"/>\r\n     <use style=\"fill:#ff7f0e;stroke:#ff7f0e;\" x=\"321.623668\" xlink:href=\"#m58ebb58d18\" y=\"17.083636\"/>\r\n     <use style=\"fill:#ff7f0e;stroke:#ff7f0e;\" x=\"322.060972\" xlink:href=\"#m58ebb58d18\" y=\"17.083636\"/>\r\n     <use style=\"fill:#ff7f0e;stroke:#ff7f0e;\" x=\"322.498276\" xlink:href=\"#m58ebb58d18\" y=\"17.083636\"/>\r\n     <use style=\"fill:#ff7f0e;stroke:#ff7f0e;\" x=\"322.93558\" xlink:href=\"#m58ebb58d18\" y=\"17.083636\"/>\r\n     <use style=\"fill:#ff7f0e;stroke:#ff7f0e;\" x=\"323.372884\" xlink:href=\"#m58ebb58d18\" y=\"17.083636\"/>\r\n     <use style=\"fill:#ff7f0e;stroke:#ff7f0e;\" x=\"323.810188\" xlink:href=\"#m58ebb58d18\" y=\"17.083636\"/>\r\n     <use style=\"fill:#ff7f0e;stroke:#ff7f0e;\" x=\"324.247492\" xlink:href=\"#m58ebb58d18\" y=\"17.083636\"/>\r\n     <use style=\"fill:#ff7f0e;stroke:#ff7f0e;\" x=\"324.684796\" xlink:href=\"#m58ebb58d18\" y=\"17.083636\"/>\r\n     <use style=\"fill:#ff7f0e;stroke:#ff7f0e;\" x=\"325.1221\" xlink:href=\"#m58ebb58d18\" y=\"17.083636\"/>\r\n     <use style=\"fill:#ff7f0e;stroke:#ff7f0e;\" x=\"325.559404\" xlink:href=\"#m58ebb58d18\" y=\"17.083636\"/>\r\n     <use style=\"fill:#ff7f0e;stroke:#ff7f0e;\" x=\"325.996708\" xlink:href=\"#m58ebb58d18\" y=\"17.083636\"/>\r\n     <use style=\"fill:#ff7f0e;stroke:#ff7f0e;\" x=\"326.434013\" xlink:href=\"#m58ebb58d18\" y=\"17.083636\"/>\r\n     <use style=\"fill:#ff7f0e;stroke:#ff7f0e;\" x=\"326.871317\" xlink:href=\"#m58ebb58d18\" y=\"17.083636\"/>\r\n     <use style=\"fill:#ff7f0e;stroke:#ff7f0e;\" x=\"327.308621\" xlink:href=\"#m58ebb58d18\" y=\"17.083636\"/>\r\n     <use style=\"fill:#ff7f0e;stroke:#ff7f0e;\" x=\"327.745925\" xlink:href=\"#m58ebb58d18\" y=\"17.083636\"/>\r\n     <use style=\"fill:#ff7f0e;stroke:#ff7f0e;\" x=\"328.183229\" xlink:href=\"#m58ebb58d18\" y=\"17.083636\"/>\r\n     <use style=\"fill:#ff7f0e;stroke:#ff7f0e;\" x=\"328.620533\" xlink:href=\"#m58ebb58d18\" y=\"17.083636\"/>\r\n     <use style=\"fill:#ff7f0e;stroke:#ff7f0e;\" x=\"329.057837\" xlink:href=\"#m58ebb58d18\" y=\"17.083636\"/>\r\n     <use style=\"fill:#ff7f0e;stroke:#ff7f0e;\" x=\"329.495141\" xlink:href=\"#m58ebb58d18\" y=\"17.083636\"/>\r\n     <use style=\"fill:#ff7f0e;stroke:#ff7f0e;\" x=\"329.932445\" xlink:href=\"#m58ebb58d18\" y=\"17.083636\"/>\r\n     <use style=\"fill:#ff7f0e;stroke:#ff7f0e;\" x=\"330.369749\" xlink:href=\"#m58ebb58d18\" y=\"17.083636\"/>\r\n     <use style=\"fill:#ff7f0e;stroke:#ff7f0e;\" x=\"330.807053\" xlink:href=\"#m58ebb58d18\" y=\"17.083636\"/>\r\n     <use style=\"fill:#ff7f0e;stroke:#ff7f0e;\" x=\"331.244357\" xlink:href=\"#m58ebb58d18\" y=\"17.083636\"/>\r\n     <use style=\"fill:#ff7f0e;stroke:#ff7f0e;\" x=\"331.681661\" xlink:href=\"#m58ebb58d18\" y=\"17.083636\"/>\r\n     <use style=\"fill:#ff7f0e;stroke:#ff7f0e;\" x=\"332.118966\" xlink:href=\"#m58ebb58d18\" y=\"17.083636\"/>\r\n     <use style=\"fill:#ff7f0e;stroke:#ff7f0e;\" x=\"332.55627\" xlink:href=\"#m58ebb58d18\" y=\"17.083636\"/>\r\n     <use style=\"fill:#ff7f0e;stroke:#ff7f0e;\" x=\"332.993574\" xlink:href=\"#m58ebb58d18\" y=\"17.083636\"/>\r\n     <use style=\"fill:#ff7f0e;stroke:#ff7f0e;\" x=\"333.430878\" xlink:href=\"#m58ebb58d18\" y=\"17.083636\"/>\r\n     <use style=\"fill:#ff7f0e;stroke:#ff7f0e;\" x=\"333.868182\" xlink:href=\"#m58ebb58d18\" y=\"17.083636\"/>\r\n     <use style=\"fill:#ff7f0e;stroke:#ff7f0e;\" x=\"334.305486\" xlink:href=\"#m58ebb58d18\" y=\"17.083636\"/>\r\n     <use style=\"fill:#ff7f0e;stroke:#ff7f0e;\" x=\"334.74279\" xlink:href=\"#m58ebb58d18\" y=\"17.083636\"/>\r\n     <use style=\"fill:#ff7f0e;stroke:#ff7f0e;\" x=\"335.180094\" xlink:href=\"#m58ebb58d18\" y=\"17.083636\"/>\r\n     <use style=\"fill:#ff7f0e;stroke:#ff7f0e;\" x=\"335.617398\" xlink:href=\"#m58ebb58d18\" y=\"17.083636\"/>\r\n     <use style=\"fill:#ff7f0e;stroke:#ff7f0e;\" x=\"336.054702\" xlink:href=\"#m58ebb58d18\" y=\"17.083636\"/>\r\n     <use style=\"fill:#ff7f0e;stroke:#ff7f0e;\" x=\"336.492006\" xlink:href=\"#m58ebb58d18\" y=\"17.083636\"/>\r\n     <use style=\"fill:#ff7f0e;stroke:#ff7f0e;\" x=\"336.92931\" xlink:href=\"#m58ebb58d18\" y=\"17.083636\"/>\r\n     <use style=\"fill:#ff7f0e;stroke:#ff7f0e;\" x=\"337.366614\" xlink:href=\"#m58ebb58d18\" y=\"17.083636\"/>\r\n     <use style=\"fill:#ff7f0e;stroke:#ff7f0e;\" x=\"337.803918\" xlink:href=\"#m58ebb58d18\" y=\"17.083636\"/>\r\n     <use style=\"fill:#ff7f0e;stroke:#ff7f0e;\" x=\"338.241223\" xlink:href=\"#m58ebb58d18\" y=\"17.083636\"/>\r\n     <use style=\"fill:#ff7f0e;stroke:#ff7f0e;\" x=\"338.678527\" xlink:href=\"#m58ebb58d18\" y=\"17.083636\"/>\r\n     <use style=\"fill:#ff7f0e;stroke:#ff7f0e;\" x=\"339.115831\" xlink:href=\"#m58ebb58d18\" y=\"17.083636\"/>\r\n     <use style=\"fill:#ff7f0e;stroke:#ff7f0e;\" x=\"339.553135\" xlink:href=\"#m58ebb58d18\" y=\"17.083636\"/>\r\n     <use style=\"fill:#ff7f0e;stroke:#ff7f0e;\" x=\"339.990439\" xlink:href=\"#m58ebb58d18\" y=\"17.083636\"/>\r\n     <use style=\"fill:#ff7f0e;stroke:#ff7f0e;\" x=\"340.427743\" xlink:href=\"#m58ebb58d18\" y=\"17.083636\"/>\r\n     <use style=\"fill:#ff7f0e;stroke:#ff7f0e;\" x=\"340.865047\" xlink:href=\"#m58ebb58d18\" y=\"17.083636\"/>\r\n     <use style=\"fill:#ff7f0e;stroke:#ff7f0e;\" x=\"341.302351\" xlink:href=\"#m58ebb58d18\" y=\"17.083636\"/>\r\n     <use style=\"fill:#ff7f0e;stroke:#ff7f0e;\" x=\"341.739655\" xlink:href=\"#m58ebb58d18\" y=\"17.083636\"/>\r\n     <use style=\"fill:#ff7f0e;stroke:#ff7f0e;\" x=\"342.176959\" xlink:href=\"#m58ebb58d18\" y=\"17.083636\"/>\r\n     <use style=\"fill:#ff7f0e;stroke:#ff7f0e;\" x=\"342.614263\" xlink:href=\"#m58ebb58d18\" y=\"17.083636\"/>\r\n     <use style=\"fill:#ff7f0e;stroke:#ff7f0e;\" x=\"343.051567\" xlink:href=\"#m58ebb58d18\" y=\"17.083636\"/>\r\n     <use style=\"fill:#ff7f0e;stroke:#ff7f0e;\" x=\"343.488871\" xlink:href=\"#m58ebb58d18\" y=\"17.083636\"/>\r\n     <use style=\"fill:#ff7f0e;stroke:#ff7f0e;\" x=\"343.926176\" xlink:href=\"#m58ebb58d18\" y=\"17.083636\"/>\r\n     <use style=\"fill:#ff7f0e;stroke:#ff7f0e;\" x=\"344.36348\" xlink:href=\"#m58ebb58d18\" y=\"17.083636\"/>\r\n     <use style=\"fill:#ff7f0e;stroke:#ff7f0e;\" x=\"344.800784\" xlink:href=\"#m58ebb58d18\" y=\"17.083636\"/>\r\n     <use style=\"fill:#ff7f0e;stroke:#ff7f0e;\" x=\"345.238088\" xlink:href=\"#m58ebb58d18\" y=\"17.083636\"/>\r\n     <use style=\"fill:#ff7f0e;stroke:#ff7f0e;\" x=\"345.675392\" xlink:href=\"#m58ebb58d18\" y=\"17.083636\"/>\r\n     <use style=\"fill:#ff7f0e;stroke:#ff7f0e;\" x=\"346.112696\" xlink:href=\"#m58ebb58d18\" y=\"17.083636\"/>\r\n     <use style=\"fill:#ff7f0e;stroke:#ff7f0e;\" x=\"346.55\" xlink:href=\"#m58ebb58d18\" y=\"17.083636\"/>\r\n     <use style=\"fill:#ff7f0e;stroke:#ff7f0e;\" x=\"346.987304\" xlink:href=\"#m58ebb58d18\" y=\"17.083636\"/>\r\n     <use style=\"fill:#ff7f0e;stroke:#ff7f0e;\" x=\"347.424608\" xlink:href=\"#m58ebb58d18\" y=\"17.083636\"/>\r\n     <use style=\"fill:#ff7f0e;stroke:#ff7f0e;\" x=\"347.861912\" xlink:href=\"#m58ebb58d18\" y=\"17.083636\"/>\r\n     <use style=\"fill:#ff7f0e;stroke:#ff7f0e;\" x=\"348.299216\" xlink:href=\"#m58ebb58d18\" y=\"17.083636\"/>\r\n     <use style=\"fill:#ff7f0e;stroke:#ff7f0e;\" x=\"348.73652\" xlink:href=\"#m58ebb58d18\" y=\"17.083636\"/>\r\n     <use style=\"fill:#ff7f0e;stroke:#ff7f0e;\" x=\"349.173824\" xlink:href=\"#m58ebb58d18\" y=\"17.083636\"/>\r\n     <use style=\"fill:#ff7f0e;stroke:#ff7f0e;\" x=\"349.611129\" xlink:href=\"#m58ebb58d18\" y=\"17.083636\"/>\r\n     <use style=\"fill:#ff7f0e;stroke:#ff7f0e;\" x=\"350.048433\" xlink:href=\"#m58ebb58d18\" y=\"17.083636\"/>\r\n     <use style=\"fill:#ff7f0e;stroke:#ff7f0e;\" x=\"350.485737\" xlink:href=\"#m58ebb58d18\" y=\"17.083636\"/>\r\n     <use style=\"fill:#ff7f0e;stroke:#ff7f0e;\" x=\"350.923041\" xlink:href=\"#m58ebb58d18\" y=\"17.083636\"/>\r\n     <use style=\"fill:#ff7f0e;stroke:#ff7f0e;\" x=\"351.360345\" xlink:href=\"#m58ebb58d18\" y=\"17.083636\"/>\r\n     <use style=\"fill:#ff7f0e;stroke:#ff7f0e;\" x=\"351.797649\" xlink:href=\"#m58ebb58d18\" y=\"17.083636\"/>\r\n     <use style=\"fill:#ff7f0e;stroke:#ff7f0e;\" x=\"352.234953\" xlink:href=\"#m58ebb58d18\" y=\"17.083636\"/>\r\n     <use style=\"fill:#ff7f0e;stroke:#ff7f0e;\" x=\"352.672257\" xlink:href=\"#m58ebb58d18\" y=\"17.083636\"/>\r\n     <use style=\"fill:#ff7f0e;stroke:#ff7f0e;\" x=\"353.109561\" xlink:href=\"#m58ebb58d18\" y=\"17.083636\"/>\r\n     <use style=\"fill:#ff7f0e;stroke:#ff7f0e;\" x=\"353.546865\" xlink:href=\"#m58ebb58d18\" y=\"17.083636\"/>\r\n     <use style=\"fill:#ff7f0e;stroke:#ff7f0e;\" x=\"353.984169\" xlink:href=\"#m58ebb58d18\" y=\"17.083636\"/>\r\n     <use style=\"fill:#ff7f0e;stroke:#ff7f0e;\" x=\"354.421473\" xlink:href=\"#m58ebb58d18\" y=\"17.083636\"/>\r\n     <use style=\"fill:#ff7f0e;stroke:#ff7f0e;\" x=\"354.858777\" xlink:href=\"#m58ebb58d18\" y=\"17.083636\"/>\r\n     <use style=\"fill:#ff7f0e;stroke:#ff7f0e;\" x=\"355.296082\" xlink:href=\"#m58ebb58d18\" y=\"17.083636\"/>\r\n     <use style=\"fill:#ff7f0e;stroke:#ff7f0e;\" x=\"355.733386\" xlink:href=\"#m58ebb58d18\" y=\"17.083636\"/>\r\n     <use style=\"fill:#ff7f0e;stroke:#ff7f0e;\" x=\"356.17069\" xlink:href=\"#m58ebb58d18\" y=\"17.083636\"/>\r\n     <use style=\"fill:#ff7f0e;stroke:#ff7f0e;\" x=\"356.607994\" xlink:href=\"#m58ebb58d18\" y=\"17.083636\"/>\r\n     <use style=\"fill:#ff7f0e;stroke:#ff7f0e;\" x=\"357.045298\" xlink:href=\"#m58ebb58d18\" y=\"17.083636\"/>\r\n     <use style=\"fill:#ff7f0e;stroke:#ff7f0e;\" x=\"357.482602\" xlink:href=\"#m58ebb58d18\" y=\"17.083636\"/>\r\n     <use style=\"fill:#ff7f0e;stroke:#ff7f0e;\" x=\"357.919906\" xlink:href=\"#m58ebb58d18\" y=\"17.083636\"/>\r\n     <use style=\"fill:#ff7f0e;stroke:#ff7f0e;\" x=\"358.35721\" xlink:href=\"#m58ebb58d18\" y=\"17.083636\"/>\r\n     <use style=\"fill:#ff7f0e;stroke:#ff7f0e;\" x=\"358.794514\" xlink:href=\"#m58ebb58d18\" y=\"17.083636\"/>\r\n     <use style=\"fill:#ff7f0e;stroke:#ff7f0e;\" x=\"359.231818\" xlink:href=\"#m58ebb58d18\" y=\"17.083636\"/>\r\n    </g>\r\n   </g>\r\n   <g id=\"matplotlib.axis_1\">\r\n    <g id=\"xtick_1\">\r\n     <g id=\"line2d_1\">\r\n      <defs>\r\n       <path d=\"M 0 0 \r\nL 0 3.5 \r\n\" id=\"m7283445c4c\" style=\"stroke:#000000;stroke-width:0.8;\"/>\r\n      </defs>\r\n      <g>\r\n       <use style=\"stroke:#000000;stroke-width:0.8;\" x=\"54.868182\" xlink:href=\"#m7283445c4c\" y=\"224.64\"/>\r\n      </g>\r\n     </g>\r\n     <g id=\"text_1\">\r\n      <!-- 0 -->\r\n      <defs>\r\n       <path d=\"M 31.78125 66.40625 \r\nQ 24.171875 66.40625 20.328125 58.90625 \r\nQ 16.5 51.421875 16.5 36.375 \r\nQ 16.5 21.390625 20.328125 13.890625 \r\nQ 24.171875 6.390625 31.78125 6.390625 \r\nQ 39.453125 6.390625 43.28125 13.890625 \r\nQ 47.125 21.390625 47.125 36.375 \r\nQ 47.125 51.421875 43.28125 58.90625 \r\nQ 39.453125 66.40625 31.78125 66.40625 \r\nz\r\nM 31.78125 74.21875 \r\nQ 44.046875 74.21875 50.515625 64.515625 \r\nQ 56.984375 54.828125 56.984375 36.375 \r\nQ 56.984375 17.96875 50.515625 8.265625 \r\nQ 44.046875 -1.421875 31.78125 -1.421875 \r\nQ 19.53125 -1.421875 13.0625 8.265625 \r\nQ 6.59375 17.96875 6.59375 36.375 \r\nQ 6.59375 54.828125 13.0625 64.515625 \r\nQ 19.53125 74.21875 31.78125 74.21875 \r\nz\r\n\" id=\"DejaVuSans-48\"/>\r\n      </defs>\r\n      <g transform=\"translate(51.686932 239.238437)scale(0.1 -0.1)\">\r\n       <use xlink:href=\"#DejaVuSans-48\"/>\r\n      </g>\r\n     </g>\r\n    </g>\r\n    <g id=\"xtick_2\">\r\n     <g id=\"line2d_2\">\r\n      <g>\r\n       <use style=\"stroke:#000000;stroke-width:0.8;\" x=\"98.598589\" xlink:href=\"#m7283445c4c\" y=\"224.64\"/>\r\n      </g>\r\n     </g>\r\n     <g id=\"text_2\">\r\n      <!-- 100 -->\r\n      <defs>\r\n       <path d=\"M 12.40625 8.296875 \r\nL 28.515625 8.296875 \r\nL 28.515625 63.921875 \r\nL 10.984375 60.40625 \r\nL 10.984375 69.390625 \r\nL 28.421875 72.90625 \r\nL 38.28125 72.90625 \r\nL 38.28125 8.296875 \r\nL 54.390625 8.296875 \r\nL 54.390625 0 \r\nL 12.40625 0 \r\nz\r\n\" id=\"DejaVuSans-49\"/>\r\n      </defs>\r\n      <g transform=\"translate(89.054839 239.238437)scale(0.1 -0.1)\">\r\n       <use xlink:href=\"#DejaVuSans-49\"/>\r\n       <use x=\"63.623047\" xlink:href=\"#DejaVuSans-48\"/>\r\n       <use x=\"127.246094\" xlink:href=\"#DejaVuSans-48\"/>\r\n      </g>\r\n     </g>\r\n    </g>\r\n    <g id=\"xtick_3\">\r\n     <g id=\"line2d_3\">\r\n      <g>\r\n       <use style=\"stroke:#000000;stroke-width:0.8;\" x=\"142.328997\" xlink:href=\"#m7283445c4c\" y=\"224.64\"/>\r\n      </g>\r\n     </g>\r\n     <g id=\"text_3\">\r\n      <!-- 200 -->\r\n      <defs>\r\n       <path d=\"M 19.1875 8.296875 \r\nL 53.609375 8.296875 \r\nL 53.609375 0 \r\nL 7.328125 0 \r\nL 7.328125 8.296875 \r\nQ 12.9375 14.109375 22.625 23.890625 \r\nQ 32.328125 33.6875 34.8125 36.53125 \r\nQ 39.546875 41.84375 41.421875 45.53125 \r\nQ 43.3125 49.21875 43.3125 52.78125 \r\nQ 43.3125 58.59375 39.234375 62.25 \r\nQ 35.15625 65.921875 28.609375 65.921875 \r\nQ 23.96875 65.921875 18.8125 64.3125 \r\nQ 13.671875 62.703125 7.8125 59.421875 \r\nL 7.8125 69.390625 \r\nQ 13.765625 71.78125 18.9375 73 \r\nQ 24.125 74.21875 28.421875 74.21875 \r\nQ 39.75 74.21875 46.484375 68.546875 \r\nQ 53.21875 62.890625 53.21875 53.421875 \r\nQ 53.21875 48.921875 51.53125 44.890625 \r\nQ 49.859375 40.875 45.40625 35.40625 \r\nQ 44.1875 33.984375 37.640625 27.21875 \r\nQ 31.109375 20.453125 19.1875 8.296875 \r\nz\r\n\" id=\"DejaVuSans-50\"/>\r\n      </defs>\r\n      <g transform=\"translate(132.785247 239.238437)scale(0.1 -0.1)\">\r\n       <use xlink:href=\"#DejaVuSans-50\"/>\r\n       <use x=\"63.623047\" xlink:href=\"#DejaVuSans-48\"/>\r\n       <use x=\"127.246094\" xlink:href=\"#DejaVuSans-48\"/>\r\n      </g>\r\n     </g>\r\n    </g>\r\n    <g id=\"xtick_4\">\r\n     <g id=\"line2d_4\">\r\n      <g>\r\n       <use style=\"stroke:#000000;stroke-width:0.8;\" x=\"186.059404\" xlink:href=\"#m7283445c4c\" y=\"224.64\"/>\r\n      </g>\r\n     </g>\r\n     <g id=\"text_4\">\r\n      <!-- 300 -->\r\n      <defs>\r\n       <path d=\"M 40.578125 39.3125 \r\nQ 47.65625 37.796875 51.625 33 \r\nQ 55.609375 28.21875 55.609375 21.1875 \r\nQ 55.609375 10.40625 48.1875 4.484375 \r\nQ 40.765625 -1.421875 27.09375 -1.421875 \r\nQ 22.515625 -1.421875 17.65625 -0.515625 \r\nQ 12.796875 0.390625 7.625 2.203125 \r\nL 7.625 11.71875 \r\nQ 11.71875 9.328125 16.59375 8.109375 \r\nQ 21.484375 6.890625 26.8125 6.890625 \r\nQ 36.078125 6.890625 40.9375 10.546875 \r\nQ 45.796875 14.203125 45.796875 21.1875 \r\nQ 45.796875 27.640625 41.28125 31.265625 \r\nQ 36.765625 34.90625 28.71875 34.90625 \r\nL 20.21875 34.90625 \r\nL 20.21875 43.015625 \r\nL 29.109375 43.015625 \r\nQ 36.375 43.015625 40.234375 45.921875 \r\nQ 44.09375 48.828125 44.09375 54.296875 \r\nQ 44.09375 59.90625 40.109375 62.90625 \r\nQ 36.140625 65.921875 28.71875 65.921875 \r\nQ 24.65625 65.921875 20.015625 65.03125 \r\nQ 15.375 64.15625 9.8125 62.3125 \r\nL 9.8125 71.09375 \r\nQ 15.4375 72.65625 20.34375 73.4375 \r\nQ 25.25 74.21875 29.59375 74.21875 \r\nQ 40.828125 74.21875 47.359375 69.109375 \r\nQ 53.90625 64.015625 53.90625 55.328125 \r\nQ 53.90625 49.265625 50.4375 45.09375 \r\nQ 46.96875 40.921875 40.578125 39.3125 \r\nz\r\n\" id=\"DejaVuSans-51\"/>\r\n      </defs>\r\n      <g transform=\"translate(176.515654 239.238437)scale(0.1 -0.1)\">\r\n       <use xlink:href=\"#DejaVuSans-51\"/>\r\n       <use x=\"63.623047\" xlink:href=\"#DejaVuSans-48\"/>\r\n       <use x=\"127.246094\" xlink:href=\"#DejaVuSans-48\"/>\r\n      </g>\r\n     </g>\r\n    </g>\r\n    <g id=\"xtick_5\">\r\n     <g id=\"line2d_5\">\r\n      <g>\r\n       <use style=\"stroke:#000000;stroke-width:0.8;\" x=\"229.789812\" xlink:href=\"#m7283445c4c\" y=\"224.64\"/>\r\n      </g>\r\n     </g>\r\n     <g id=\"text_5\">\r\n      <!-- 400 -->\r\n      <defs>\r\n       <path d=\"M 37.796875 64.3125 \r\nL 12.890625 25.390625 \r\nL 37.796875 25.390625 \r\nz\r\nM 35.203125 72.90625 \r\nL 47.609375 72.90625 \r\nL 47.609375 25.390625 \r\nL 58.015625 25.390625 \r\nL 58.015625 17.1875 \r\nL 47.609375 17.1875 \r\nL 47.609375 0 \r\nL 37.796875 0 \r\nL 37.796875 17.1875 \r\nL 4.890625 17.1875 \r\nL 4.890625 26.703125 \r\nz\r\n\" id=\"DejaVuSans-52\"/>\r\n      </defs>\r\n      <g transform=\"translate(220.246062 239.238437)scale(0.1 -0.1)\">\r\n       <use xlink:href=\"#DejaVuSans-52\"/>\r\n       <use x=\"63.623047\" xlink:href=\"#DejaVuSans-48\"/>\r\n       <use x=\"127.246094\" xlink:href=\"#DejaVuSans-48\"/>\r\n      </g>\r\n     </g>\r\n    </g>\r\n    <g id=\"xtick_6\">\r\n     <g id=\"line2d_6\">\r\n      <g>\r\n       <use style=\"stroke:#000000;stroke-width:0.8;\" x=\"273.520219\" xlink:href=\"#m7283445c4c\" y=\"224.64\"/>\r\n      </g>\r\n     </g>\r\n     <g id=\"text_6\">\r\n      <!-- 500 -->\r\n      <defs>\r\n       <path d=\"M 10.796875 72.90625 \r\nL 49.515625 72.90625 \r\nL 49.515625 64.59375 \r\nL 19.828125 64.59375 \r\nL 19.828125 46.734375 \r\nQ 21.96875 47.46875 24.109375 47.828125 \r\nQ 26.265625 48.1875 28.421875 48.1875 \r\nQ 40.625 48.1875 47.75 41.5 \r\nQ 54.890625 34.8125 54.890625 23.390625 \r\nQ 54.890625 11.625 47.5625 5.09375 \r\nQ 40.234375 -1.421875 26.90625 -1.421875 \r\nQ 22.3125 -1.421875 17.546875 -0.640625 \r\nQ 12.796875 0.140625 7.71875 1.703125 \r\nL 7.71875 11.625 \r\nQ 12.109375 9.234375 16.796875 8.0625 \r\nQ 21.484375 6.890625 26.703125 6.890625 \r\nQ 35.15625 6.890625 40.078125 11.328125 \r\nQ 45.015625 15.765625 45.015625 23.390625 \r\nQ 45.015625 31 40.078125 35.4375 \r\nQ 35.15625 39.890625 26.703125 39.890625 \r\nQ 22.75 39.890625 18.8125 39.015625 \r\nQ 14.890625 38.140625 10.796875 36.28125 \r\nz\r\n\" id=\"DejaVuSans-53\"/>\r\n      </defs>\r\n      <g transform=\"translate(263.976469 239.238437)scale(0.1 -0.1)\">\r\n       <use xlink:href=\"#DejaVuSans-53\"/>\r\n       <use x=\"63.623047\" xlink:href=\"#DejaVuSans-48\"/>\r\n       <use x=\"127.246094\" xlink:href=\"#DejaVuSans-48\"/>\r\n      </g>\r\n     </g>\r\n    </g>\r\n    <g id=\"xtick_7\">\r\n     <g id=\"line2d_7\">\r\n      <g>\r\n       <use style=\"stroke:#000000;stroke-width:0.8;\" x=\"317.250627\" xlink:href=\"#m7283445c4c\" y=\"224.64\"/>\r\n      </g>\r\n     </g>\r\n     <g id=\"text_7\">\r\n      <!-- 600 -->\r\n      <defs>\r\n       <path d=\"M 33.015625 40.375 \r\nQ 26.375 40.375 22.484375 35.828125 \r\nQ 18.609375 31.296875 18.609375 23.390625 \r\nQ 18.609375 15.53125 22.484375 10.953125 \r\nQ 26.375 6.390625 33.015625 6.390625 \r\nQ 39.65625 6.390625 43.53125 10.953125 \r\nQ 47.40625 15.53125 47.40625 23.390625 \r\nQ 47.40625 31.296875 43.53125 35.828125 \r\nQ 39.65625 40.375 33.015625 40.375 \r\nz\r\nM 52.59375 71.296875 \r\nL 52.59375 62.3125 \r\nQ 48.875 64.0625 45.09375 64.984375 \r\nQ 41.3125 65.921875 37.59375 65.921875 \r\nQ 27.828125 65.921875 22.671875 59.328125 \r\nQ 17.53125 52.734375 16.796875 39.40625 \r\nQ 19.671875 43.65625 24.015625 45.921875 \r\nQ 28.375 48.1875 33.59375 48.1875 \r\nQ 44.578125 48.1875 50.953125 41.515625 \r\nQ 57.328125 34.859375 57.328125 23.390625 \r\nQ 57.328125 12.15625 50.6875 5.359375 \r\nQ 44.046875 -1.421875 33.015625 -1.421875 \r\nQ 20.359375 -1.421875 13.671875 8.265625 \r\nQ 6.984375 17.96875 6.984375 36.375 \r\nQ 6.984375 53.65625 15.1875 63.9375 \r\nQ 23.390625 74.21875 37.203125 74.21875 \r\nQ 40.921875 74.21875 44.703125 73.484375 \r\nQ 48.484375 72.75 52.59375 71.296875 \r\nz\r\n\" id=\"DejaVuSans-54\"/>\r\n      </defs>\r\n      <g transform=\"translate(307.706877 239.238437)scale(0.1 -0.1)\">\r\n       <use xlink:href=\"#DejaVuSans-54\"/>\r\n       <use x=\"63.623047\" xlink:href=\"#DejaVuSans-48\"/>\r\n       <use x=\"127.246094\" xlink:href=\"#DejaVuSans-48\"/>\r\n      </g>\r\n     </g>\r\n    </g>\r\n    <g id=\"xtick_8\">\r\n     <g id=\"line2d_8\">\r\n      <g>\r\n       <use style=\"stroke:#000000;stroke-width:0.8;\" x=\"360.981034\" xlink:href=\"#m7283445c4c\" y=\"224.64\"/>\r\n      </g>\r\n     </g>\r\n     <g id=\"text_8\">\r\n      <!-- 700 -->\r\n      <defs>\r\n       <path d=\"M 8.203125 72.90625 \r\nL 55.078125 72.90625 \r\nL 55.078125 68.703125 \r\nL 28.609375 0 \r\nL 18.3125 0 \r\nL 43.21875 64.59375 \r\nL 8.203125 64.59375 \r\nz\r\n\" id=\"DejaVuSans-55\"/>\r\n      </defs>\r\n      <g transform=\"translate(351.437284 239.238437)scale(0.1 -0.1)\">\r\n       <use xlink:href=\"#DejaVuSans-55\"/>\r\n       <use x=\"63.623047\" xlink:href=\"#DejaVuSans-48\"/>\r\n       <use x=\"127.246094\" xlink:href=\"#DejaVuSans-48\"/>\r\n      </g>\r\n     </g>\r\n    </g>\r\n   </g>\r\n   <g id=\"matplotlib.axis_2\">\r\n    <g id=\"ytick_1\">\r\n     <g id=\"line2d_9\">\r\n      <defs>\r\n       <path d=\"M 0 0 \r\nL -3.5 0 \r\n\" id=\"m96e718ad65\" style=\"stroke:#000000;stroke-width:0.8;\"/>\r\n      </defs>\r\n      <g>\r\n       <use style=\"stroke:#000000;stroke-width:0.8;\" x=\"39.65\" xlink:href=\"#m96e718ad65\" y=\"214.756364\"/>\r\n      </g>\r\n     </g>\r\n     <g id=\"text_9\">\r\n      <!-- 0 -->\r\n      <g transform=\"translate(26.2875 218.555582)scale(0.1 -0.1)\">\r\n       <use xlink:href=\"#DejaVuSans-48\"/>\r\n      </g>\r\n     </g>\r\n    </g>\r\n    <g id=\"ytick_2\">\r\n     <g id=\"line2d_10\">\r\n      <g>\r\n       <use style=\"stroke:#000000;stroke-width:0.8;\" x=\"39.65\" xlink:href=\"#m96e718ad65\" y=\"189.934924\"/>\r\n      </g>\r\n     </g>\r\n     <g id=\"text_10\">\r\n      <!-- 1000 -->\r\n      <g transform=\"translate(7.2 193.734142)scale(0.1 -0.1)\">\r\n       <use xlink:href=\"#DejaVuSans-49\"/>\r\n       <use x=\"63.623047\" xlink:href=\"#DejaVuSans-48\"/>\r\n       <use x=\"127.246094\" xlink:href=\"#DejaVuSans-48\"/>\r\n       <use x=\"190.869141\" xlink:href=\"#DejaVuSans-48\"/>\r\n      </g>\r\n     </g>\r\n    </g>\r\n    <g id=\"ytick_3\">\r\n     <g id=\"line2d_11\">\r\n      <g>\r\n       <use style=\"stroke:#000000;stroke-width:0.8;\" x=\"39.65\" xlink:href=\"#m96e718ad65\" y=\"165.113483\"/>\r\n      </g>\r\n     </g>\r\n     <g id=\"text_11\">\r\n      <!-- 2000 -->\r\n      <g transform=\"translate(7.2 168.912702)scale(0.1 -0.1)\">\r\n       <use xlink:href=\"#DejaVuSans-50\"/>\r\n       <use x=\"63.623047\" xlink:href=\"#DejaVuSans-48\"/>\r\n       <use x=\"127.246094\" xlink:href=\"#DejaVuSans-48\"/>\r\n       <use x=\"190.869141\" xlink:href=\"#DejaVuSans-48\"/>\r\n      </g>\r\n     </g>\r\n    </g>\r\n    <g id=\"ytick_4\">\r\n     <g id=\"line2d_12\">\r\n      <g>\r\n       <use style=\"stroke:#000000;stroke-width:0.8;\" x=\"39.65\" xlink:href=\"#m96e718ad65\" y=\"140.292043\"/>\r\n      </g>\r\n     </g>\r\n     <g id=\"text_12\">\r\n      <!-- 3000 -->\r\n      <g transform=\"translate(7.2 144.091262)scale(0.1 -0.1)\">\r\n       <use xlink:href=\"#DejaVuSans-51\"/>\r\n       <use x=\"63.623047\" xlink:href=\"#DejaVuSans-48\"/>\r\n       <use x=\"127.246094\" xlink:href=\"#DejaVuSans-48\"/>\r\n       <use x=\"190.869141\" xlink:href=\"#DejaVuSans-48\"/>\r\n      </g>\r\n     </g>\r\n    </g>\r\n    <g id=\"ytick_5\">\r\n     <g id=\"line2d_13\">\r\n      <g>\r\n       <use style=\"stroke:#000000;stroke-width:0.8;\" x=\"39.65\" xlink:href=\"#m96e718ad65\" y=\"115.470603\"/>\r\n      </g>\r\n     </g>\r\n     <g id=\"text_13\">\r\n      <!-- 4000 -->\r\n      <g transform=\"translate(7.2 119.269822)scale(0.1 -0.1)\">\r\n       <use xlink:href=\"#DejaVuSans-52\"/>\r\n       <use x=\"63.623047\" xlink:href=\"#DejaVuSans-48\"/>\r\n       <use x=\"127.246094\" xlink:href=\"#DejaVuSans-48\"/>\r\n       <use x=\"190.869141\" xlink:href=\"#DejaVuSans-48\"/>\r\n      </g>\r\n     </g>\r\n    </g>\r\n    <g id=\"ytick_6\">\r\n     <g id=\"line2d_14\">\r\n      <g>\r\n       <use style=\"stroke:#000000;stroke-width:0.8;\" x=\"39.65\" xlink:href=\"#m96e718ad65\" y=\"90.649163\"/>\r\n      </g>\r\n     </g>\r\n     <g id=\"text_14\">\r\n      <!-- 5000 -->\r\n      <g transform=\"translate(7.2 94.448382)scale(0.1 -0.1)\">\r\n       <use xlink:href=\"#DejaVuSans-53\"/>\r\n       <use x=\"63.623047\" xlink:href=\"#DejaVuSans-48\"/>\r\n       <use x=\"127.246094\" xlink:href=\"#DejaVuSans-48\"/>\r\n       <use x=\"190.869141\" xlink:href=\"#DejaVuSans-48\"/>\r\n      </g>\r\n     </g>\r\n    </g>\r\n    <g id=\"ytick_7\">\r\n     <g id=\"line2d_15\">\r\n      <g>\r\n       <use style=\"stroke:#000000;stroke-width:0.8;\" x=\"39.65\" xlink:href=\"#m96e718ad65\" y=\"65.827723\"/>\r\n      </g>\r\n     </g>\r\n     <g id=\"text_15\">\r\n      <!-- 6000 -->\r\n      <g transform=\"translate(7.2 69.626942)scale(0.1 -0.1)\">\r\n       <use xlink:href=\"#DejaVuSans-54\"/>\r\n       <use x=\"63.623047\" xlink:href=\"#DejaVuSans-48\"/>\r\n       <use x=\"127.246094\" xlink:href=\"#DejaVuSans-48\"/>\r\n       <use x=\"190.869141\" xlink:href=\"#DejaVuSans-48\"/>\r\n      </g>\r\n     </g>\r\n    </g>\r\n    <g id=\"ytick_8\">\r\n     <g id=\"line2d_16\">\r\n      <g>\r\n       <use style=\"stroke:#000000;stroke-width:0.8;\" x=\"39.65\" xlink:href=\"#m96e718ad65\" y=\"41.006283\"/>\r\n      </g>\r\n     </g>\r\n     <g id=\"text_16\">\r\n      <!-- 7000 -->\r\n      <g transform=\"translate(7.2 44.805502)scale(0.1 -0.1)\">\r\n       <use xlink:href=\"#DejaVuSans-55\"/>\r\n       <use x=\"63.623047\" xlink:href=\"#DejaVuSans-48\"/>\r\n       <use x=\"127.246094\" xlink:href=\"#DejaVuSans-48\"/>\r\n       <use x=\"190.869141\" xlink:href=\"#DejaVuSans-48\"/>\r\n      </g>\r\n     </g>\r\n    </g>\r\n    <g id=\"ytick_9\">\r\n     <g id=\"line2d_17\">\r\n      <g>\r\n       <use style=\"stroke:#000000;stroke-width:0.8;\" x=\"39.65\" xlink:href=\"#m96e718ad65\" y=\"16.184843\"/>\r\n      </g>\r\n     </g>\r\n     <g id=\"text_17\">\r\n      <!-- 8000 -->\r\n      <defs>\r\n       <path d=\"M 31.78125 34.625 \r\nQ 24.75 34.625 20.71875 30.859375 \r\nQ 16.703125 27.09375 16.703125 20.515625 \r\nQ 16.703125 13.921875 20.71875 10.15625 \r\nQ 24.75 6.390625 31.78125 6.390625 \r\nQ 38.8125 6.390625 42.859375 10.171875 \r\nQ 46.921875 13.96875 46.921875 20.515625 \r\nQ 46.921875 27.09375 42.890625 30.859375 \r\nQ 38.875 34.625 31.78125 34.625 \r\nz\r\nM 21.921875 38.8125 \r\nQ 15.578125 40.375 12.03125 44.71875 \r\nQ 8.5 49.078125 8.5 55.328125 \r\nQ 8.5 64.0625 14.71875 69.140625 \r\nQ 20.953125 74.21875 31.78125 74.21875 \r\nQ 42.671875 74.21875 48.875 69.140625 \r\nQ 55.078125 64.0625 55.078125 55.328125 \r\nQ 55.078125 49.078125 51.53125 44.71875 \r\nQ 48 40.375 41.703125 38.8125 \r\nQ 48.828125 37.15625 52.796875 32.3125 \r\nQ 56.78125 27.484375 56.78125 20.515625 \r\nQ 56.78125 9.90625 50.3125 4.234375 \r\nQ 43.84375 -1.421875 31.78125 -1.421875 \r\nQ 19.734375 -1.421875 13.25 4.234375 \r\nQ 6.78125 9.90625 6.78125 20.515625 \r\nQ 6.78125 27.484375 10.78125 32.3125 \r\nQ 14.796875 37.15625 21.921875 38.8125 \r\nz\r\nM 18.3125 54.390625 \r\nQ 18.3125 48.734375 21.84375 45.5625 \r\nQ 25.390625 42.390625 31.78125 42.390625 \r\nQ 38.140625 42.390625 41.71875 45.5625 \r\nQ 45.3125 48.734375 45.3125 54.390625 \r\nQ 45.3125 60.0625 41.71875 63.234375 \r\nQ 38.140625 66.40625 31.78125 66.40625 \r\nQ 25.390625 66.40625 21.84375 63.234375 \r\nQ 18.3125 60.0625 18.3125 54.390625 \r\nz\r\n\" id=\"DejaVuSans-56\"/>\r\n      </defs>\r\n      <g transform=\"translate(7.2 19.984062)scale(0.1 -0.1)\">\r\n       <use xlink:href=\"#DejaVuSans-56\"/>\r\n       <use x=\"63.623047\" xlink:href=\"#DejaVuSans-48\"/>\r\n       <use x=\"127.246094\" xlink:href=\"#DejaVuSans-48\"/>\r\n       <use x=\"190.869141\" xlink:href=\"#DejaVuSans-48\"/>\r\n      </g>\r\n     </g>\r\n    </g>\r\n   </g>\r\n   <g id=\"patch_3\">\r\n    <path d=\"M 39.65 224.64 \r\nL 39.65 7.2 \r\n\" style=\"fill:none;stroke:#000000;stroke-linecap:square;stroke-linejoin:miter;stroke-width:0.8;\"/>\r\n   </g>\r\n   <g id=\"patch_4\">\r\n    <path d=\"M 374.45 224.64 \r\nL 374.45 7.2 \r\n\" style=\"fill:none;stroke:#000000;stroke-linecap:square;stroke-linejoin:miter;stroke-width:0.8;\"/>\r\n   </g>\r\n   <g id=\"patch_5\">\r\n    <path d=\"M 39.65 224.64 \r\nL 374.45 224.64 \r\n\" style=\"fill:none;stroke:#000000;stroke-linecap:square;stroke-linejoin:miter;stroke-width:0.8;\"/>\r\n   </g>\r\n   <g id=\"patch_6\">\r\n    <path d=\"M 39.65 7.2 \r\nL 374.45 7.2 \r\n\" style=\"fill:none;stroke:#000000;stroke-linecap:square;stroke-linejoin:miter;stroke-width:0.8;\"/>\r\n   </g>\r\n   <g id=\"legend_1\">\r\n    <g id=\"patch_7\">\r\n     <path d=\"M 46.65 44.55625 \r\nL 85.598438 44.55625 \r\nQ 87.598438 44.55625 87.598438 42.55625 \r\nL 87.598438 14.2 \r\nQ 87.598438 12.2 85.598438 12.2 \r\nL 46.65 12.2 \r\nQ 44.65 12.2 44.65 14.2 \r\nL 44.65 42.55625 \r\nQ 44.65 44.55625 46.65 44.55625 \r\nz\r\n\" style=\"fill:#ffffff;opacity:0.8;stroke:#cccccc;stroke-linejoin:miter;\"/>\r\n    </g>\r\n    <g id=\"PathCollection_3\">\r\n     <g>\r\n      <use style=\"fill:#1f77b4;stroke:#1f77b4;\" x=\"58.65\" xlink:href=\"#mc160ed06e4\" y=\"21.173437\"/>\r\n     </g>\r\n    </g>\r\n    <g id=\"text_18\">\r\n     <!-- I -->\r\n     <defs>\r\n      <path d=\"M 9.8125 72.90625 \r\nL 19.671875 72.90625 \r\nL 19.671875 0 \r\nL 9.8125 0 \r\nz\r\n\" id=\"DejaVuSans-73\"/>\r\n     </defs>\r\n     <g transform=\"translate(76.65 23.798437)scale(0.1 -0.1)\">\r\n      <use xlink:href=\"#DejaVuSans-73\"/>\r\n     </g>\r\n    </g>\r\n    <g id=\"PathCollection_4\">\r\n     <g>\r\n      <use style=\"fill:#ff7f0e;stroke:#ff7f0e;\" x=\"58.65\" xlink:href=\"#m58ebb58d18\" y=\"35.851562\"/>\r\n     </g>\r\n    </g>\r\n    <g id=\"text_19\">\r\n     <!-- R -->\r\n     <defs>\r\n      <path d=\"M 44.390625 34.1875 \r\nQ 47.5625 33.109375 50.5625 29.59375 \r\nQ 53.5625 26.078125 56.59375 19.921875 \r\nL 66.609375 0 \r\nL 56 0 \r\nL 46.6875 18.703125 \r\nQ 43.0625 26.03125 39.671875 28.421875 \r\nQ 36.28125 30.8125 30.421875 30.8125 \r\nL 19.671875 30.8125 \r\nL 19.671875 0 \r\nL 9.8125 0 \r\nL 9.8125 72.90625 \r\nL 32.078125 72.90625 \r\nQ 44.578125 72.90625 50.734375 67.671875 \r\nQ 56.890625 62.453125 56.890625 51.90625 \r\nQ 56.890625 45.015625 53.6875 40.46875 \r\nQ 50.484375 35.9375 44.390625 34.1875 \r\nz\r\nM 19.671875 64.796875 \r\nL 19.671875 38.921875 \r\nL 32.078125 38.921875 \r\nQ 39.203125 38.921875 42.84375 42.21875 \r\nQ 46.484375 45.515625 46.484375 51.90625 \r\nQ 46.484375 58.296875 42.84375 61.546875 \r\nQ 39.203125 64.796875 32.078125 64.796875 \r\nz\r\n\" id=\"DejaVuSans-82\"/>\r\n     </defs>\r\n     <g transform=\"translate(76.65 38.476562)scale(0.1 -0.1)\">\r\n      <use xlink:href=\"#DejaVuSans-82\"/>\r\n     </g>\r\n    </g>\r\n   </g>\r\n  </g>\r\n </g>\r\n <defs>\r\n  <clipPath id=\"p32dfe40e3d\">\r\n   <rect height=\"217.44\" width=\"334.8\" x=\"39.65\" y=\"7.2\"/>\r\n  </clipPath>\r\n </defs>\r\n</svg>\r\n",
            "image/png": "[encoded data removed]"
          },
          "metadata": {
            "needs_background": "light"
          }
        }
      ],
      "source": [
        "fig, ax = plt.subplots()\n",
        "#ax.scatter(sir_scenario2[:, 0], sir_scenario2[:, 1], label=\"S\")\n",
        "ax.scatter(sir_scenario2[:, 0], sir_scenario2[:, 2], label=\"I\")\n",
        "ax.scatter(sir_scenario2[:, 0], sir_scenario2[:, 3], label=\"R\")\n",
        "ax.legend()\n",
        "plt.show()"
      ]
    },
    {
      "cell_type": "code",
      "execution_count": 130,
      "metadata": {},
      "outputs": [
        {
          "output_type": "display_data",
          "data": {
            "text/plain": "<Figure size 432x288 with 1 Axes>",
            "image/svg+xml": "<?xml version=\"1.0\" encoding=\"utf-8\" standalone=\"no\"?>\r\n<!DOCTYPE svg PUBLIC \"-//W3C//DTD SVG 1.1//EN\"\r\n  \"http://www.w3.org/Graphics/SVG/1.1/DTD/svg11.dtd\">\r\n<!-- Created with matplotlib (https://matplotlib.org/) -->\r\n<svg height=\"248.518125pt\" version=\"1.1\" viewBox=\"0 0 375.2875 248.518125\" width=\"375.2875pt\" xmlns=\"http://www.w3.org/2000/svg\" xmlns:xlink=\"http://www.w3.org/1999/xlink\">\r\n <defs>\r\n  <style type=\"text/css\">\r\n*{stroke-linecap:butt;stroke-linejoin:round;}\r\n  </style>\r\n </defs>\r\n <g id=\"figure_1\">\r\n  <g id=\"patch_1\">\r\n   <path d=\"M 0 248.518125 \r\nL 375.2875 248.518125 \r\nL 375.2875 0 \r\nL 0 0 \r\nz\r\n\" style=\"fill:none;\"/>\r\n  </g>\r\n  <g id=\"axes_1\">\r\n   <g id=\"patch_2\">\r\n    <path d=\"M 33.2875 224.64 \r\nL 368.0875 224.64 \r\nL 368.0875 7.2 \r\nL 33.2875 7.2 \r\nz\r\n\" style=\"fill:#ffffff;\"/>\r\n   </g>\r\n   <g id=\"PathCollection_1\">\r\n    <defs>\r\n     <path d=\"M 0 3 \r\nC 0.795609 3 1.55874 2.683901 2.12132 2.12132 \r\nC 2.683901 1.55874 3 0.795609 3 0 \r\nC 3 -0.795609 2.683901 -1.55874 2.12132 -2.12132 \r\nC 1.55874 -2.683901 0.795609 -3 0 -3 \r\nC -0.795609 -3 -1.55874 -2.683901 -2.12132 -2.12132 \r\nC -2.683901 -1.55874 -3 -0.795609 -3 0 \r\nC -3 0.795609 -2.683901 1.55874 -2.12132 2.12132 \r\nC -1.55874 2.683901 -0.795609 3 0 3 \r\nz\r\n\" id=\"m77e6b4019f\" style=\"stroke:#1f77b4;\"/>\r\n    </defs>\r\n    <g clip-path=\"url(#pa1d7a5a7cb)\">\r\n     <use style=\"fill:#1f77b4;stroke:#1f77b4;\" x=\"48.505682\" xlink:href=\"#m77e6b4019f\" y=\"214.518837\"/>\r\n     <use style=\"fill:#1f77b4;stroke:#1f77b4;\" x=\"48.943615\" xlink:href=\"#m77e6b4019f\" y=\"214.493859\"/>\r\n     <use style=\"fill:#1f77b4;stroke:#1f77b4;\" x=\"49.381548\" xlink:href=\"#m77e6b4019f\" y=\"214.466236\"/>\r\n     <use style=\"fill:#1f77b4;stroke:#1f77b4;\" x=\"49.819482\" xlink:href=\"#m77e6b4019f\" y=\"214.435779\"/>\r\n     <use style=\"fill:#1f77b4;stroke:#1f77b4;\" x=\"50.257415\" xlink:href=\"#m77e6b4019f\" y=\"214.402133\"/>\r\n     <use style=\"fill:#1f77b4;stroke:#1f77b4;\" x=\"50.695348\" xlink:href=\"#m77e6b4019f\" y=\"214.364916\"/>\r\n     <use style=\"fill:#1f77b4;stroke:#1f77b4;\" x=\"51.133282\" xlink:href=\"#m77e6b4019f\" y=\"214.323745\"/>\r\n     <use style=\"fill:#1f77b4;stroke:#1f77b4;\" x=\"51.571215\" xlink:href=\"#m77e6b4019f\" y=\"214.278239\"/>\r\n     <use style=\"fill:#1f77b4;stroke:#1f77b4;\" x=\"52.009148\" xlink:href=\"#m77e6b4019f\" y=\"214.228017\"/>\r\n     <use style=\"fill:#1f77b4;stroke:#1f77b4;\" x=\"52.447081\" xlink:href=\"#m77e6b4019f\" y=\"214.172324\"/>\r\n     <use style=\"fill:#1f77b4;stroke:#1f77b4;\" x=\"52.885015\" xlink:href=\"#m77e6b4019f\" y=\"214.110968\"/>\r\n     <use style=\"fill:#1f77b4;stroke:#1f77b4;\" x=\"53.322948\" xlink:href=\"#m77e6b4019f\" y=\"214.043557\"/>\r\n     <use style=\"fill:#1f77b4;stroke:#1f77b4;\" x=\"53.760881\" xlink:href=\"#m77e6b4019f\" y=\"213.969143\"/>\r\n     <use style=\"fill:#1f77b4;stroke:#1f77b4;\" x=\"54.198815\" xlink:href=\"#m77e6b4019f\" y=\"213.886779\"/>\r\n     <use style=\"fill:#1f77b4;stroke:#1f77b4;\" x=\"54.636748\" xlink:href=\"#m77e6b4019f\" y=\"213.795517\"/>\r\n     <use style=\"fill:#1f77b4;stroke:#1f77b4;\" x=\"55.074681\" xlink:href=\"#m77e6b4019f\" y=\"213.694408\"/>\r\n     <use style=\"fill:#1f77b4;stroke:#1f77b4;\" x=\"55.512614\" xlink:href=\"#m77e6b4019f\" y=\"213.582506\"/>\r\n     <use style=\"fill:#1f77b4;stroke:#1f77b4;\" x=\"55.950548\" xlink:href=\"#m77e6b4019f\" y=\"213.458861\"/>\r\n     <use style=\"fill:#1f77b4;stroke:#1f77b4;\" x=\"56.388481\" xlink:href=\"#m77e6b4019f\" y=\"213.322526\"/>\r\n     <use style=\"fill:#1f77b4;stroke:#1f77b4;\" x=\"56.826414\" xlink:href=\"#m77e6b4019f\" y=\"213.172554\"/>\r\n     <use style=\"fill:#1f77b4;stroke:#1f77b4;\" x=\"57.264348\" xlink:href=\"#m77e6b4019f\" y=\"213.007282\"/>\r\n     <use style=\"fill:#1f77b4;stroke:#1f77b4;\" x=\"57.702281\" xlink:href=\"#m77e6b4019f\" y=\"212.824033\"/>\r\n     <use style=\"fill:#1f77b4;stroke:#1f77b4;\" x=\"58.140214\" xlink:href=\"#m77e6b4019f\" y=\"212.622453\"/>\r\n     <use style=\"fill:#1f77b4;stroke:#1f77b4;\" x=\"58.578147\" xlink:href=\"#m77e6b4019f\" y=\"212.400068\"/>\r\n     <use style=\"fill:#1f77b4;stroke:#1f77b4;\" x=\"59.016081\" xlink:href=\"#m77e6b4019f\" y=\"212.154264\"/>\r\n     <use style=\"fill:#1f77b4;stroke:#1f77b4;\" x=\"59.454014\" xlink:href=\"#m77e6b4019f\" y=\"211.882427\"/>\r\n     <use style=\"fill:#1f77b4;stroke:#1f77b4;\" x=\"59.891947\" xlink:href=\"#m77e6b4019f\" y=\"211.581943\"/>\r\n     <use style=\"fill:#1f77b4;stroke:#1f77b4;\" x=\"60.329881\" xlink:href=\"#m77e6b4019f\" y=\"211.250197\"/>\r\n     <use style=\"fill:#1f77b4;stroke:#1f77b4;\" x=\"60.767814\" xlink:href=\"#m77e6b4019f\" y=\"210.884577\"/>\r\n     <use style=\"fill:#1f77b4;stroke:#1f77b4;\" x=\"61.205747\" xlink:href=\"#m77e6b4019f\" y=\"210.483377\"/>\r\n     <use style=\"fill:#1f77b4;stroke:#1f77b4;\" x=\"61.643681\" xlink:href=\"#m77e6b4019f\" y=\"210.0395\"/>\r\n     <use style=\"fill:#1f77b4;stroke:#1f77b4;\" x=\"62.081614\" xlink:href=\"#m77e6b4019f\" y=\"209.549138\"/>\r\n     <use style=\"fill:#1f77b4;stroke:#1f77b4;\" x=\"62.519547\" xlink:href=\"#m77e6b4019f\" y=\"209.010384\"/>\r\n     <use style=\"fill:#1f77b4;stroke:#1f77b4;\" x=\"62.95748\" xlink:href=\"#m77e6b4019f\" y=\"208.417973\"/>\r\n     <use style=\"fill:#1f77b4;stroke:#1f77b4;\" x=\"63.395414\" xlink:href=\"#m77e6b4019f\" y=\"207.765159\"/>\r\n     <use style=\"fill:#1f77b4;stroke:#1f77b4;\" x=\"63.833347\" xlink:href=\"#m77e6b4019f\" y=\"207.045196\"/>\r\n     <use style=\"fill:#1f77b4;stroke:#1f77b4;\" x=\"64.27128\" xlink:href=\"#m77e6b4019f\" y=\"206.25134\"/>\r\n     <use style=\"fill:#1f77b4;stroke:#1f77b4;\" x=\"64.709214\" xlink:href=\"#m77e6b4019f\" y=\"205.376845\"/>\r\n     <use style=\"fill:#1f77b4;stroke:#1f77b4;\" x=\"65.147147\" xlink:href=\"#m77e6b4019f\" y=\"204.414964\"/>\r\n     <use style=\"fill:#1f77b4;stroke:#1f77b4;\" x=\"65.58508\" xlink:href=\"#m77e6b4019f\" y=\"203.358953\"/>\r\n     <use style=\"fill:#1f77b4;stroke:#1f77b4;\" x=\"66.023013\" xlink:href=\"#m77e6b4019f\" y=\"202.202066\"/>\r\n     <use style=\"fill:#1f77b4;stroke:#1f77b4;\" x=\"66.460947\" xlink:href=\"#m77e6b4019f\" y=\"200.937163\"/>\r\n     <use style=\"fill:#1f77b4;stroke:#1f77b4;\" x=\"66.89888\" xlink:href=\"#m77e6b4019f\" y=\"199.550975\"/>\r\n     <use style=\"fill:#1f77b4;stroke:#1f77b4;\" x=\"67.336813\" xlink:href=\"#m77e6b4019f\" y=\"198.028909\"/>\r\n     <use style=\"fill:#1f77b4;stroke:#1f77b4;\" x=\"67.774747\" xlink:href=\"#m77e6b4019f\" y=\"196.35835\"/>\r\n     <use style=\"fill:#1f77b4;stroke:#1f77b4;\" x=\"68.21268\" xlink:href=\"#m77e6b4019f\" y=\"194.526692\"/>\r\n     <use style=\"fill:#1f77b4;stroke:#1f77b4;\" x=\"68.650613\" xlink:href=\"#m77e6b4019f\" y=\"192.521332\"/>\r\n     <use style=\"fill:#1f77b4;stroke:#1f77b4;\" x=\"69.088546\" xlink:href=\"#m77e6b4019f\" y=\"190.329666\"/>\r\n     <use style=\"fill:#1f77b4;stroke:#1f77b4;\" x=\"69.52648\" xlink:href=\"#m77e6b4019f\" y=\"187.939089\"/>\r\n     <use style=\"fill:#1f77b4;stroke:#1f77b4;\" x=\"69.964413\" xlink:href=\"#m77e6b4019f\" y=\"185.336999\"/>\r\n     <use style=\"fill:#1f77b4;stroke:#1f77b4;\" x=\"70.402346\" xlink:href=\"#m77e6b4019f\" y=\"182.510791\"/>\r\n     <use style=\"fill:#1f77b4;stroke:#1f77b4;\" x=\"70.84028\" xlink:href=\"#m77e6b4019f\" y=\"179.447862\"/>\r\n     <use style=\"fill:#1f77b4;stroke:#1f77b4;\" x=\"71.278213\" xlink:href=\"#m77e6b4019f\" y=\"176.135606\"/>\r\n     <use style=\"fill:#1f77b4;stroke:#1f77b4;\" x=\"71.716146\" xlink:href=\"#m77e6b4019f\" y=\"172.561422\"/>\r\n     <use style=\"fill:#1f77b4;stroke:#1f77b4;\" x=\"72.154079\" xlink:href=\"#m77e6b4019f\" y=\"168.710712\"/>\r\n     <use style=\"fill:#1f77b4;stroke:#1f77b4;\" x=\"72.592013\" xlink:href=\"#m77e6b4019f\" y=\"164.557206\"/>\r\n     <use style=\"fill:#1f77b4;stroke:#1f77b4;\" x=\"73.029946\" xlink:href=\"#m77e6b4019f\" y=\"160.097659\"/>\r\n     <use style=\"fill:#1f77b4;stroke:#1f77b4;\" x=\"73.467879\" xlink:href=\"#m77e6b4019f\" y=\"155.327961\"/>\r\n     <use style=\"fill:#1f77b4;stroke:#1f77b4;\" x=\"73.905813\" xlink:href=\"#m77e6b4019f\" y=\"150.241758\"/>\r\n     <use style=\"fill:#1f77b4;stroke:#1f77b4;\" x=\"74.343746\" xlink:href=\"#m77e6b4019f\" y=\"144.839741\"/>\r\n     <use style=\"fill:#1f77b4;stroke:#1f77b4;\" x=\"74.781679\" xlink:href=\"#m77e6b4019f\" y=\"139.22132\"/>\r\n     <use style=\"fill:#1f77b4;stroke:#1f77b4;\" x=\"75.219612\" xlink:href=\"#m77e6b4019f\" y=\"133.256054\"/>\r\n     <use style=\"fill:#1f77b4;stroke:#1f77b4;\" x=\"75.657546\" xlink:href=\"#m77e6b4019f\" y=\"126.905865\"/>\r\n     <use style=\"fill:#1f77b4;stroke:#1f77b4;\" x=\"76.095479\" xlink:href=\"#m77e6b4019f\" y=\"120.230262\"/>\r\n     <use style=\"fill:#1f77b4;stroke:#1f77b4;\" x=\"76.533412\" xlink:href=\"#m77e6b4019f\" y=\"113.288751\"/>\r\n     <use style=\"fill:#1f77b4;stroke:#1f77b4;\" x=\"76.971346\" xlink:href=\"#m77e6b4019f\" y=\"106.14084\"/>\r\n     <use style=\"fill:#1f77b4;stroke:#1f77b4;\" x=\"77.409279\" xlink:href=\"#m77e6b4019f\" y=\"98.846038\"/>\r\n     <use style=\"fill:#1f77b4;stroke:#1f77b4;\" x=\"77.847212\" xlink:href=\"#m77e6b4019f\" y=\"91.463853\"/>\r\n     <use style=\"fill:#1f77b4;stroke:#1f77b4;\" x=\"78.285146\" xlink:href=\"#m77e6b4019f\" y=\"84.053791\"/>\r\n     <use style=\"fill:#1f77b4;stroke:#1f77b4;\" x=\"78.723079\" xlink:href=\"#m77e6b4019f\" y=\"76.675361\"/>\r\n     <use style=\"fill:#1f77b4;stroke:#1f77b4;\" x=\"79.161012\" xlink:href=\"#m77e6b4019f\" y=\"69.388071\"/>\r\n     <use style=\"fill:#1f77b4;stroke:#1f77b4;\" x=\"79.598945\" xlink:href=\"#m77e6b4019f\" y=\"62.251429\"/>\r\n     <use style=\"fill:#1f77b4;stroke:#1f77b4;\" x=\"80.036879\" xlink:href=\"#m77e6b4019f\" y=\"55.324942\"/>\r\n     <use style=\"fill:#1f77b4;stroke:#1f77b4;\" x=\"80.474812\" xlink:href=\"#m77e6b4019f\" y=\"48.560763\"/>\r\n     <use style=\"fill:#1f77b4;stroke:#1f77b4;\" x=\"80.912745\" xlink:href=\"#m77e6b4019f\" y=\"42.175316\"/>\r\n     <use style=\"fill:#1f77b4;stroke:#1f77b4;\" x=\"81.350679\" xlink:href=\"#m77e6b4019f\" y=\"36.484688\"/>\r\n     <use style=\"fill:#1f77b4;stroke:#1f77b4;\" x=\"81.788612\" xlink:href=\"#m77e6b4019f\" y=\"31.501813\"/>\r\n     <use style=\"fill:#1f77b4;stroke:#1f77b4;\" x=\"82.226545\" xlink:href=\"#m77e6b4019f\" y=\"27.237695\"/>\r\n     <use style=\"fill:#1f77b4;stroke:#1f77b4;\" x=\"82.664478\" xlink:href=\"#m77e6b4019f\" y=\"23.703339\"/>\r\n     <use style=\"fill:#1f77b4;stroke:#1f77b4;\" x=\"83.102412\" xlink:href=\"#m77e6b4019f\" y=\"20.90975\"/>\r\n     <use style=\"fill:#1f77b4;stroke:#1f77b4;\" x=\"83.540345\" xlink:href=\"#m77e6b4019f\" y=\"18.867933\"/>\r\n     <use style=\"fill:#1f77b4;stroke:#1f77b4;\" x=\"83.978278\" xlink:href=\"#m77e6b4019f\" y=\"17.588893\"/>\r\n     <use style=\"fill:#1f77b4;stroke:#1f77b4;\" x=\"84.416212\" xlink:href=\"#m77e6b4019f\" y=\"17.083636\"/>\r\n     <use style=\"fill:#1f77b4;stroke:#1f77b4;\" x=\"84.854145\" xlink:href=\"#m77e6b4019f\" y=\"17.363167\"/>\r\n     <use style=\"fill:#1f77b4;stroke:#1f77b4;\" x=\"85.292078\" xlink:href=\"#m77e6b4019f\" y=\"18.43849\"/>\r\n     <use style=\"fill:#1f77b4;stroke:#1f77b4;\" x=\"85.730011\" xlink:href=\"#m77e6b4019f\" y=\"20.32061\"/>\r\n     <use style=\"fill:#1f77b4;stroke:#1f77b4;\" x=\"86.167945\" xlink:href=\"#m77e6b4019f\" y=\"23.020533\"/>\r\n     <use style=\"fill:#1f77b4;stroke:#1f77b4;\" x=\"86.605878\" xlink:href=\"#m77e6b4019f\" y=\"26.67473\"/>\r\n     <use style=\"fill:#1f77b4;stroke:#1f77b4;\" x=\"87.043811\" xlink:href=\"#m77e6b4019f\" y=\"30.711356\"/>\r\n     <use style=\"fill:#1f77b4;stroke:#1f77b4;\" x=\"87.481745\" xlink:href=\"#m77e6b4019f\" y=\"35.290174\"/>\r\n     <use style=\"fill:#1f77b4;stroke:#1f77b4;\" x=\"87.919678\" xlink:href=\"#m77e6b4019f\" y=\"40.311656\"/>\r\n     <use style=\"fill:#1f77b4;stroke:#1f77b4;\" x=\"88.357611\" xlink:href=\"#m77e6b4019f\" y=\"45.686886\"/>\r\n     <use style=\"fill:#1f77b4;stroke:#1f77b4;\" x=\"88.795544\" xlink:href=\"#m77e6b4019f\" y=\"51.362924\"/>\r\n     <use style=\"fill:#1f77b4;stroke:#1f77b4;\" x=\"89.233478\" xlink:href=\"#m77e6b4019f\" y=\"57.287189\"/>\r\n     <use style=\"fill:#1f77b4;stroke:#1f77b4;\" x=\"89.671411\" xlink:href=\"#m77e6b4019f\" y=\"63.407104\"/>\r\n     <use style=\"fill:#1f77b4;stroke:#1f77b4;\" x=\"90.109344\" xlink:href=\"#m77e6b4019f\" y=\"69.670089\"/>\r\n     <use style=\"fill:#1f77b4;stroke:#1f77b4;\" x=\"90.547278\" xlink:href=\"#m77e6b4019f\" y=\"76.023566\"/>\r\n     <use style=\"fill:#1f77b4;stroke:#1f77b4;\" x=\"90.985211\" xlink:href=\"#m77e6b4019f\" y=\"82.414956\"/>\r\n     <use style=\"fill:#1f77b4;stroke:#1f77b4;\" x=\"91.423144\" xlink:href=\"#m77e6b4019f\" y=\"88.791681\"/>\r\n     <use style=\"fill:#1f77b4;stroke:#1f77b4;\" x=\"91.861078\" xlink:href=\"#m77e6b4019f\" y=\"95.10116\"/>\r\n     <use style=\"fill:#1f77b4;stroke:#1f77b4;\" x=\"92.299011\" xlink:href=\"#m77e6b4019f\" y=\"101.290816\"/>\r\n     <use style=\"fill:#1f77b4;stroke:#1f77b4;\" x=\"92.736944\" xlink:href=\"#m77e6b4019f\" y=\"107.30807\"/>\r\n     <use style=\"fill:#1f77b4;stroke:#1f77b4;\" x=\"93.174877\" xlink:href=\"#m77e6b4019f\" y=\"113.100343\"/>\r\n     <use style=\"fill:#1f77b4;stroke:#1f77b4;\" x=\"93.612811\" xlink:href=\"#m77e6b4019f\" y=\"118.615056\"/>\r\n     <use style=\"fill:#1f77b4;stroke:#1f77b4;\" x=\"94.050744\" xlink:href=\"#m77e6b4019f\" y=\"123.79963\"/>\r\n     <use style=\"fill:#1f77b4;stroke:#1f77b4;\" x=\"94.488677\" xlink:href=\"#m77e6b4019f\" y=\"128.601487\"/>\r\n     <use style=\"fill:#1f77b4;stroke:#1f77b4;\" x=\"94.926611\" xlink:href=\"#m77e6b4019f\" y=\"133.035583\"/>\r\n     <use style=\"fill:#1f77b4;stroke:#1f77b4;\" x=\"95.364544\" xlink:href=\"#m77e6b4019f\" y=\"137.568673\"/>\r\n     <use style=\"fill:#1f77b4;stroke:#1f77b4;\" x=\"95.802477\" xlink:href=\"#m77e6b4019f\" y=\"141.957286\"/>\r\n     <use style=\"fill:#1f77b4;stroke:#1f77b4;\" x=\"96.24041\" xlink:href=\"#m77e6b4019f\" y=\"146.125033\"/>\r\n     <use style=\"fill:#1f77b4;stroke:#1f77b4;\" x=\"96.678344\" xlink:href=\"#m77e6b4019f\" y=\"150.079468\"/>\r\n     <use style=\"fill:#1f77b4;stroke:#1f77b4;\" x=\"97.116277\" xlink:href=\"#m77e6b4019f\" y=\"153.828147\"/>\r\n     <use style=\"fill:#1f77b4;stroke:#1f77b4;\" x=\"97.55421\" xlink:href=\"#m77e6b4019f\" y=\"157.378624\"/>\r\n     <use style=\"fill:#1f77b4;stroke:#1f77b4;\" x=\"97.992144\" xlink:href=\"#m77e6b4019f\" y=\"160.738453\"/>\r\n     <use style=\"fill:#1f77b4;stroke:#1f77b4;\" x=\"98.430077\" xlink:href=\"#m77e6b4019f\" y=\"163.915191\"/>\r\n     <use style=\"fill:#1f77b4;stroke:#1f77b4;\" x=\"98.86801\" xlink:href=\"#m77e6b4019f\" y=\"166.916391\"/>\r\n     <use style=\"fill:#1f77b4;stroke:#1f77b4;\" x=\"99.305943\" xlink:href=\"#m77e6b4019f\" y=\"169.753265\"/>\r\n     <use style=\"fill:#1f77b4;stroke:#1f77b4;\" x=\"99.743877\" xlink:href=\"#m77e6b4019f\" y=\"172.418467\"/>\r\n     <use style=\"fill:#1f77b4;stroke:#1f77b4;\" x=\"100.18181\" xlink:href=\"#m77e6b4019f\" y=\"174.912128\"/>\r\n     <use style=\"fill:#1f77b4;stroke:#1f77b4;\" x=\"100.619743\" xlink:href=\"#m77e6b4019f\" y=\"177.231663\"/>\r\n     <use style=\"fill:#1f77b4;stroke:#1f77b4;\" x=\"101.057677\" xlink:href=\"#m77e6b4019f\" y=\"179.432428\"/>\r\n     <use style=\"fill:#1f77b4;stroke:#1f77b4;\" x=\"101.49561\" xlink:href=\"#m77e6b4019f\" y=\"181.519828\"/>\r\n     <use style=\"fill:#1f77b4;stroke:#1f77b4;\" x=\"101.933543\" xlink:href=\"#m77e6b4019f\" y=\"183.497334\"/>\r\n     <use style=\"fill:#1f77b4;stroke:#1f77b4;\" x=\"102.371476\" xlink:href=\"#m77e6b4019f\" y=\"185.368412\"/>\r\n     <use style=\"fill:#1f77b4;stroke:#1f77b4;\" x=\"102.80941\" xlink:href=\"#m77e6b4019f\" y=\"187.136532\"/>\r\n     <use style=\"fill:#1f77b4;stroke:#1f77b4;\" x=\"103.247343\" xlink:href=\"#m77e6b4019f\" y=\"188.80516\"/>\r\n     <use style=\"fill:#1f77b4;stroke:#1f77b4;\" x=\"103.685276\" xlink:href=\"#m77e6b4019f\" y=\"190.377765\"/>\r\n     <use style=\"fill:#1f77b4;stroke:#1f77b4;\" x=\"104.12321\" xlink:href=\"#m77e6b4019f\" y=\"191.857816\"/>\r\n     <use style=\"fill:#1f77b4;stroke:#1f77b4;\" x=\"104.561143\" xlink:href=\"#m77e6b4019f\" y=\"193.24878\"/>\r\n     <use style=\"fill:#1f77b4;stroke:#1f77b4;\" x=\"104.999076\" xlink:href=\"#m77e6b4019f\" y=\"194.554126\"/>\r\n     <use style=\"fill:#1f77b4;stroke:#1f77b4;\" x=\"105.437009\" xlink:href=\"#m77e6b4019f\" y=\"195.777321\"/>\r\n     <use style=\"fill:#1f77b4;stroke:#1f77b4;\" x=\"105.874943\" xlink:href=\"#m77e6b4019f\" y=\"196.921834\"/>\r\n     <use style=\"fill:#1f77b4;stroke:#1f77b4;\" x=\"106.312876\" xlink:href=\"#m77e6b4019f\" y=\"197.991132\"/>\r\n     <use style=\"fill:#1f77b4;stroke:#1f77b4;\" x=\"106.750809\" xlink:href=\"#m77e6b4019f\" y=\"198.988685\"/>\r\n     <use style=\"fill:#1f77b4;stroke:#1f77b4;\" x=\"107.188743\" xlink:href=\"#m77e6b4019f\" y=\"199.917959\"/>\r\n     <use style=\"fill:#1f77b4;stroke:#1f77b4;\" x=\"107.626676\" xlink:href=\"#m77e6b4019f\" y=\"200.782424\"/>\r\n     <use style=\"fill:#1f77b4;stroke:#1f77b4;\" x=\"108.064609\" xlink:href=\"#m77e6b4019f\" y=\"201.585547\"/>\r\n     <use style=\"fill:#1f77b4;stroke:#1f77b4;\" x=\"108.502543\" xlink:href=\"#m77e6b4019f\" y=\"202.330796\"/>\r\n     <use style=\"fill:#1f77b4;stroke:#1f77b4;\" x=\"108.940476\" xlink:href=\"#m77e6b4019f\" y=\"203.025503\"/>\r\n     <use style=\"fill:#1f77b4;stroke:#1f77b4;\" x=\"109.378409\" xlink:href=\"#m77e6b4019f\" y=\"203.706177\"/>\r\n     <use style=\"fill:#1f77b4;stroke:#1f77b4;\" x=\"109.816342\" xlink:href=\"#m77e6b4019f\" y=\"204.35428\"/>\r\n     <use style=\"fill:#1f77b4;stroke:#1f77b4;\" x=\"110.254276\" xlink:href=\"#m77e6b4019f\" y=\"204.964231\"/>\r\n     <use style=\"fill:#1f77b4;stroke:#1f77b4;\" x=\"110.692209\" xlink:href=\"#m77e6b4019f\" y=\"205.537998\"/>\r\n     <use style=\"fill:#1f77b4;stroke:#1f77b4;\" x=\"111.130142\" xlink:href=\"#m77e6b4019f\" y=\"206.077548\"/>\r\n     <use style=\"fill:#1f77b4;stroke:#1f77b4;\" x=\"111.568076\" xlink:href=\"#m77e6b4019f\" y=\"206.58485\"/>\r\n     <use style=\"fill:#1f77b4;stroke:#1f77b4;\" x=\"112.006009\" xlink:href=\"#m77e6b4019f\" y=\"207.061657\"/>\r\n     <use style=\"fill:#1f77b4;stroke:#1f77b4;\" x=\"112.443942\" xlink:href=\"#m77e6b4019f\" y=\"207.510816\"/>\r\n     <use style=\"fill:#1f77b4;stroke:#1f77b4;\" x=\"112.881875\" xlink:href=\"#m77e6b4019f\" y=\"207.92695\"/>\r\n     <use style=\"fill:#1f77b4;stroke:#1f77b4;\" x=\"113.319809\" xlink:href=\"#m77e6b4019f\" y=\"208.310155\"/>\r\n     <use style=\"fill:#1f77b4;stroke:#1f77b4;\" x=\"113.757742\" xlink:href=\"#m77e6b4019f\" y=\"208.676664\"/>\r\n     <use style=\"fill:#1f77b4;stroke:#1f77b4;\" x=\"114.195675\" xlink:href=\"#m77e6b4019f\" y=\"209.026971\"/>\r\n     <use style=\"fill:#1f77b4;stroke:#1f77b4;\" x=\"114.633609\" xlink:href=\"#m77e6b4019f\" y=\"209.361222\"/>\r\n     <use style=\"fill:#1f77b4;stroke:#1f77b4;\" x=\"115.071542\" xlink:href=\"#m77e6b4019f\" y=\"209.679565\"/>\r\n     <use style=\"fill:#1f77b4;stroke:#1f77b4;\" x=\"115.509475\" xlink:href=\"#m77e6b4019f\" y=\"209.982147\"/>\r\n     <use style=\"fill:#1f77b4;stroke:#1f77b4;\" x=\"115.947408\" xlink:href=\"#m77e6b4019f\" y=\"210.269116\"/>\r\n     <use style=\"fill:#1f77b4;stroke:#1f77b4;\" x=\"116.385342\" xlink:href=\"#m77e6b4019f\" y=\"210.540618\"/>\r\n     <use style=\"fill:#1f77b4;stroke:#1f77b4;\" x=\"116.823275\" xlink:href=\"#m77e6b4019f\" y=\"210.796801\"/>\r\n     <use style=\"fill:#1f77b4;stroke:#1f77b4;\" x=\"117.261208\" xlink:href=\"#m77e6b4019f\" y=\"211.037812\"/>\r\n     <use style=\"fill:#1f77b4;stroke:#1f77b4;\" x=\"117.699142\" xlink:href=\"#m77e6b4019f\" y=\"211.263798\"/>\r\n     <use style=\"fill:#1f77b4;stroke:#1f77b4;\" x=\"118.137075\" xlink:href=\"#m77e6b4019f\" y=\"211.474907\"/>\r\n     <use style=\"fill:#1f77b4;stroke:#1f77b4;\" x=\"118.575008\" xlink:href=\"#m77e6b4019f\" y=\"211.671286\"/>\r\n     <use style=\"fill:#1f77b4;stroke:#1f77b4;\" x=\"119.012941\" xlink:href=\"#m77e6b4019f\" y=\"211.853082\"/>\r\n     <use style=\"fill:#1f77b4;stroke:#1f77b4;\" x=\"119.450875\" xlink:href=\"#m77e6b4019f\" y=\"212.020442\"/>\r\n     <use style=\"fill:#1f77b4;stroke:#1f77b4;\" x=\"119.888808\" xlink:href=\"#m77e6b4019f\" y=\"212.173514\"/>\r\n     <use style=\"fill:#1f77b4;stroke:#1f77b4;\" x=\"120.326741\" xlink:href=\"#m77e6b4019f\" y=\"212.312446\"/>\r\n     <use style=\"fill:#1f77b4;stroke:#1f77b4;\" x=\"120.764675\" xlink:href=\"#m77e6b4019f\" y=\"212.437523\"/>\r\n     <use style=\"fill:#1f77b4;stroke:#1f77b4;\" x=\"121.202608\" xlink:href=\"#m77e6b4019f\" y=\"212.563526\"/>\r\n     <use style=\"fill:#1f77b4;stroke:#1f77b4;\" x=\"121.640541\" xlink:href=\"#m77e6b4019f\" y=\"212.690164\"/>\r\n     <use style=\"fill:#1f77b4;stroke:#1f77b4;\" x=\"122.078474\" xlink:href=\"#m77e6b4019f\" y=\"212.809667\"/>\r\n     <use style=\"fill:#1f77b4;stroke:#1f77b4;\" x=\"122.516408\" xlink:href=\"#m77e6b4019f\" y=\"212.922347\"/>\r\n     <use style=\"fill:#1f77b4;stroke:#1f77b4;\" x=\"122.954341\" xlink:href=\"#m77e6b4019f\" y=\"213.028518\"/>\r\n     <use style=\"fill:#1f77b4;stroke:#1f77b4;\" x=\"123.392274\" xlink:href=\"#m77e6b4019f\" y=\"213.128491\"/>\r\n     <use style=\"fill:#1f77b4;stroke:#1f77b4;\" x=\"123.830208\" xlink:href=\"#m77e6b4019f\" y=\"213.222579\"/>\r\n     <use style=\"fill:#1f77b4;stroke:#1f77b4;\" x=\"124.268141\" xlink:href=\"#m77e6b4019f\" y=\"213.311095\"/>\r\n     <use style=\"fill:#1f77b4;stroke:#1f77b4;\" x=\"124.706074\" xlink:href=\"#m77e6b4019f\" y=\"213.394217\"/>\r\n     <use style=\"fill:#1f77b4;stroke:#1f77b4;\" x=\"125.144008\" xlink:href=\"#m77e6b4019f\" y=\"213.472838\"/>\r\n     <use style=\"fill:#1f77b4;stroke:#1f77b4;\" x=\"125.581941\" xlink:href=\"#m77e6b4019f\" y=\"213.545976\"/>\r\n     <use style=\"fill:#1f77b4;stroke:#1f77b4;\" x=\"126.019874\" xlink:href=\"#m77e6b4019f\" y=\"213.613768\"/>\r\n     <use style=\"fill:#1f77b4;stroke:#1f77b4;\" x=\"126.457807\" xlink:href=\"#m77e6b4019f\" y=\"213.678484\"/>\r\n     <use style=\"fill:#1f77b4;stroke:#1f77b4;\" x=\"126.895741\" xlink:href=\"#m77e6b4019f\" y=\"213.740212\"/>\r\n     <use style=\"fill:#1f77b4;stroke:#1f77b4;\" x=\"127.333674\" xlink:href=\"#m77e6b4019f\" y=\"213.798995\"/>\r\n     <use style=\"fill:#1f77b4;stroke:#1f77b4;\" x=\"127.771607\" xlink:href=\"#m77e6b4019f\" y=\"213.854881\"/>\r\n     <use style=\"fill:#1f77b4;stroke:#1f77b4;\" x=\"128.209541\" xlink:href=\"#m77e6b4019f\" y=\"213.907913\"/>\r\n     <use style=\"fill:#1f77b4;stroke:#1f77b4;\" x=\"128.647474\" xlink:href=\"#m77e6b4019f\" y=\"213.958139\"/>\r\n     <use style=\"fill:#1f77b4;stroke:#1f77b4;\" x=\"129.085407\" xlink:href=\"#m77e6b4019f\" y=\"214.005602\"/>\r\n     <use style=\"fill:#1f77b4;stroke:#1f77b4;\" x=\"129.52334\" xlink:href=\"#m77e6b4019f\" y=\"214.050349\"/>\r\n     <use style=\"fill:#1f77b4;stroke:#1f77b4;\" x=\"129.961274\" xlink:href=\"#m77e6b4019f\" y=\"214.092424\"/>\r\n     <use style=\"fill:#1f77b4;stroke:#1f77b4;\" x=\"130.399207\" xlink:href=\"#m77e6b4019f\" y=\"214.131875\"/>\r\n     <use style=\"fill:#1f77b4;stroke:#1f77b4;\" x=\"130.83714\" xlink:href=\"#m77e6b4019f\" y=\"214.168745\"/>\r\n     <use style=\"fill:#1f77b4;stroke:#1f77b4;\" x=\"131.275074\" xlink:href=\"#m77e6b4019f\" y=\"214.20308\"/>\r\n     <use style=\"fill:#1f77b4;stroke:#1f77b4;\" x=\"131.713007\" xlink:href=\"#m77e6b4019f\" y=\"214.234926\"/>\r\n     <use style=\"fill:#1f77b4;stroke:#1f77b4;\" x=\"132.15094\" xlink:href=\"#m77e6b4019f\" y=\"214.264328\"/>\r\n     <use style=\"fill:#1f77b4;stroke:#1f77b4;\" x=\"132.588873\" xlink:href=\"#m77e6b4019f\" y=\"214.291332\"/>\r\n     <use style=\"fill:#1f77b4;stroke:#1f77b4;\" x=\"133.026807\" xlink:href=\"#m77e6b4019f\" y=\"214.316005\"/>\r\n     <use style=\"fill:#1f77b4;stroke:#1f77b4;\" x=\"133.46474\" xlink:href=\"#m77e6b4019f\" y=\"214.340309\"/>\r\n     <use style=\"fill:#1f77b4;stroke:#1f77b4;\" x=\"133.902673\" xlink:href=\"#m77e6b4019f\" y=\"214.364228\"/>\r\n     <use style=\"fill:#1f77b4;stroke:#1f77b4;\" x=\"134.340607\" xlink:href=\"#m77e6b4019f\" y=\"214.386826\"/>\r\n     <use style=\"fill:#1f77b4;stroke:#1f77b4;\" x=\"134.77854\" xlink:href=\"#m77e6b4019f\" y=\"214.408155\"/>\r\n     <use style=\"fill:#1f77b4;stroke:#1f77b4;\" x=\"135.216473\" xlink:href=\"#m77e6b4019f\" y=\"214.42827\"/>\r\n     <use style=\"fill:#1f77b4;stroke:#1f77b4;\" x=\"135.654406\" xlink:href=\"#m77e6b4019f\" y=\"214.447223\"/>\r\n     <use style=\"fill:#1f77b4;stroke:#1f77b4;\" x=\"136.09234\" xlink:href=\"#m77e6b4019f\" y=\"214.465068\"/>\r\n     <use style=\"fill:#1f77b4;stroke:#1f77b4;\" x=\"136.530273\" xlink:href=\"#m77e6b4019f\" y=\"214.481859\"/>\r\n     <use style=\"fill:#1f77b4;stroke:#1f77b4;\" x=\"136.968206\" xlink:href=\"#m77e6b4019f\" y=\"214.497649\"/>\r\n     <use style=\"fill:#1f77b4;stroke:#1f77b4;\" x=\"137.40614\" xlink:href=\"#m77e6b4019f\" y=\"214.512452\"/>\r\n     <use style=\"fill:#1f77b4;stroke:#1f77b4;\" x=\"137.844073\" xlink:href=\"#m77e6b4019f\" y=\"214.526498\"/>\r\n     <use style=\"fill:#1f77b4;stroke:#1f77b4;\" x=\"138.282006\" xlink:href=\"#m77e6b4019f\" y=\"214.539573\"/>\r\n     <use style=\"fill:#1f77b4;stroke:#1f77b4;\" x=\"138.71994\" xlink:href=\"#m77e6b4019f\" y=\"214.551706\"/>\r\n     <use style=\"fill:#1f77b4;stroke:#1f77b4;\" x=\"139.157873\" xlink:href=\"#m77e6b4019f\" y=\"214.563285\"/>\r\n     <use style=\"fill:#1f77b4;stroke:#1f77b4;\" x=\"139.595806\" xlink:href=\"#m77e6b4019f\" y=\"214.574326\"/>\r\n     <use style=\"fill:#1f77b4;stroke:#1f77b4;\" x=\"140.033739\" xlink:href=\"#m77e6b4019f\" y=\"214.584837\"/>\r\n     <use style=\"fill:#1f77b4;stroke:#1f77b4;\" x=\"140.471673\" xlink:href=\"#m77e6b4019f\" y=\"214.594828\"/>\r\n     <use style=\"fill:#1f77b4;stroke:#1f77b4;\" x=\"140.909606\" xlink:href=\"#m77e6b4019f\" y=\"214.604307\"/>\r\n     <use style=\"fill:#1f77b4;stroke:#1f77b4;\" x=\"141.347539\" xlink:href=\"#m77e6b4019f\" y=\"214.613282\"/>\r\n     <use style=\"fill:#1f77b4;stroke:#1f77b4;\" x=\"141.785473\" xlink:href=\"#m77e6b4019f\" y=\"214.621763\"/>\r\n     <use style=\"fill:#1f77b4;stroke:#1f77b4;\" x=\"142.223406\" xlink:href=\"#m77e6b4019f\" y=\"214.629758\"/>\r\n     <use style=\"fill:#1f77b4;stroke:#1f77b4;\" x=\"142.661339\" xlink:href=\"#m77e6b4019f\" y=\"214.637276\"/>\r\n     <use style=\"fill:#1f77b4;stroke:#1f77b4;\" x=\"143.099272\" xlink:href=\"#m77e6b4019f\" y=\"214.644326\"/>\r\n     <use style=\"fill:#1f77b4;stroke:#1f77b4;\" x=\"143.537206\" xlink:href=\"#m77e6b4019f\" y=\"214.650916\"/>\r\n     <use style=\"fill:#1f77b4;stroke:#1f77b4;\" x=\"143.975139\" xlink:href=\"#m77e6b4019f\" y=\"214.657055\"/>\r\n     <use style=\"fill:#1f77b4;stroke:#1f77b4;\" x=\"144.413072\" xlink:href=\"#m77e6b4019f\" y=\"214.662752\"/>\r\n     <use style=\"fill:#1f77b4;stroke:#1f77b4;\" x=\"144.851006\" xlink:href=\"#m77e6b4019f\" y=\"214.668016\"/>\r\n     <use style=\"fill:#1f77b4;stroke:#1f77b4;\" x=\"145.288939\" xlink:href=\"#m77e6b4019f\" y=\"214.672855\"/>\r\n     <use style=\"fill:#1f77b4;stroke:#1f77b4;\" x=\"145.726872\" xlink:href=\"#m77e6b4019f\" y=\"214.677298\"/>\r\n     <use style=\"fill:#1f77b4;stroke:#1f77b4;\" x=\"146.164805\" xlink:href=\"#m77e6b4019f\" y=\"214.681721\"/>\r\n     <use style=\"fill:#1f77b4;stroke:#1f77b4;\" x=\"146.602739\" xlink:href=\"#m77e6b4019f\" y=\"214.686011\"/>\r\n     <use style=\"fill:#1f77b4;stroke:#1f77b4;\" x=\"147.040672\" xlink:href=\"#m77e6b4019f\" y=\"214.690063\"/>\r\n     <use style=\"fill:#1f77b4;stroke:#1f77b4;\" x=\"147.478605\" xlink:href=\"#m77e6b4019f\" y=\"214.693888\"/>\r\n     <use style=\"fill:#1f77b4;stroke:#1f77b4;\" x=\"147.916539\" xlink:href=\"#m77e6b4019f\" y=\"214.697496\"/>\r\n     <use style=\"fill:#1f77b4;stroke:#1f77b4;\" x=\"148.354472\" xlink:href=\"#m77e6b4019f\" y=\"214.700895\"/>\r\n     <use style=\"fill:#1f77b4;stroke:#1f77b4;\" x=\"148.792405\" xlink:href=\"#m77e6b4019f\" y=\"214.704096\"/>\r\n     <use style=\"fill:#1f77b4;stroke:#1f77b4;\" x=\"149.230338\" xlink:href=\"#m77e6b4019f\" y=\"214.707107\"/>\r\n     <use style=\"fill:#1f77b4;stroke:#1f77b4;\" x=\"149.668272\" xlink:href=\"#m77e6b4019f\" y=\"214.709939\"/>\r\n     <use style=\"fill:#1f77b4;stroke:#1f77b4;\" x=\"150.106205\" xlink:href=\"#m77e6b4019f\" y=\"214.712592\"/>\r\n     <use style=\"fill:#1f77b4;stroke:#1f77b4;\" x=\"150.544138\" xlink:href=\"#m77e6b4019f\" y=\"214.715112\"/>\r\n     <use style=\"fill:#1f77b4;stroke:#1f77b4;\" x=\"150.982072\" xlink:href=\"#m77e6b4019f\" y=\"214.717458\"/>\r\n     <use style=\"fill:#1f77b4;stroke:#1f77b4;\" x=\"151.420005\" xlink:href=\"#m77e6b4019f\" y=\"214.719635\"/>\r\n     <use style=\"fill:#1f77b4;stroke:#1f77b4;\" x=\"151.857938\" xlink:href=\"#m77e6b4019f\" y=\"214.721712\"/>\r\n     <use style=\"fill:#1f77b4;stroke:#1f77b4;\" x=\"152.295871\" xlink:href=\"#m77e6b4019f\" y=\"214.723693\"/>\r\n     <use style=\"fill:#1f77b4;stroke:#1f77b4;\" x=\"152.733805\" xlink:href=\"#m77e6b4019f\" y=\"214.725579\"/>\r\n     <use style=\"fill:#1f77b4;stroke:#1f77b4;\" x=\"153.171738\" xlink:href=\"#m77e6b4019f\" y=\"214.727371\"/>\r\n     <use style=\"fill:#1f77b4;stroke:#1f77b4;\" x=\"153.609671\" xlink:href=\"#m77e6b4019f\" y=\"214.729072\"/>\r\n     <use style=\"fill:#1f77b4;stroke:#1f77b4;\" x=\"154.047605\" xlink:href=\"#m77e6b4019f\" y=\"214.730682\"/>\r\n     <use style=\"fill:#1f77b4;stroke:#1f77b4;\" x=\"154.485538\" xlink:href=\"#m77e6b4019f\" y=\"214.732203\"/>\r\n     <use style=\"fill:#1f77b4;stroke:#1f77b4;\" x=\"154.923471\" xlink:href=\"#m77e6b4019f\" y=\"214.733637\"/>\r\n     <use style=\"fill:#1f77b4;stroke:#1f77b4;\" x=\"155.361405\" xlink:href=\"#m77e6b4019f\" y=\"214.734986\"/>\r\n     <use style=\"fill:#1f77b4;stroke:#1f77b4;\" x=\"155.799338\" xlink:href=\"#m77e6b4019f\" y=\"214.736251\"/>\r\n     <use style=\"fill:#1f77b4;stroke:#1f77b4;\" x=\"156.237271\" xlink:href=\"#m77e6b4019f\" y=\"214.737433\"/>\r\n     <use style=\"fill:#1f77b4;stroke:#1f77b4;\" x=\"156.675204\" xlink:href=\"#m77e6b4019f\" y=\"214.738535\"/>\r\n     <use style=\"fill:#1f77b4;stroke:#1f77b4;\" x=\"157.113138\" xlink:href=\"#m77e6b4019f\" y=\"214.739557\"/>\r\n     <use style=\"fill:#1f77b4;stroke:#1f77b4;\" x=\"157.551071\" xlink:href=\"#m77e6b4019f\" y=\"214.740502\"/>\r\n     <use style=\"fill:#1f77b4;stroke:#1f77b4;\" x=\"157.989004\" xlink:href=\"#m77e6b4019f\" y=\"214.74137\"/>\r\n     <use style=\"fill:#1f77b4;stroke:#1f77b4;\" x=\"158.426938\" xlink:href=\"#m77e6b4019f\" y=\"214.742169\"/>\r\n     <use style=\"fill:#1f77b4;stroke:#1f77b4;\" x=\"158.864871\" xlink:href=\"#m77e6b4019f\" y=\"214.742964\"/>\r\n     <use style=\"fill:#1f77b4;stroke:#1f77b4;\" x=\"159.302804\" xlink:href=\"#m77e6b4019f\" y=\"214.743734\"/>\r\n     <use style=\"fill:#1f77b4;stroke:#1f77b4;\" x=\"159.740737\" xlink:href=\"#m77e6b4019f\" y=\"214.744461\"/>\r\n     <use style=\"fill:#1f77b4;stroke:#1f77b4;\" x=\"160.178671\" xlink:href=\"#m77e6b4019f\" y=\"214.745148\"/>\r\n     <use style=\"fill:#1f77b4;stroke:#1f77b4;\" x=\"160.616604\" xlink:href=\"#m77e6b4019f\" y=\"214.745796\"/>\r\n     <use style=\"fill:#1f77b4;stroke:#1f77b4;\" x=\"161.054537\" xlink:href=\"#m77e6b4019f\" y=\"214.746406\"/>\r\n     <use style=\"fill:#1f77b4;stroke:#1f77b4;\" x=\"161.492471\" xlink:href=\"#m77e6b4019f\" y=\"214.74698\"/>\r\n     <use style=\"fill:#1f77b4;stroke:#1f77b4;\" x=\"161.930404\" xlink:href=\"#m77e6b4019f\" y=\"214.747521\"/>\r\n     <use style=\"fill:#1f77b4;stroke:#1f77b4;\" x=\"162.368337\" xlink:href=\"#m77e6b4019f\" y=\"214.748029\"/>\r\n     <use style=\"fill:#1f77b4;stroke:#1f77b4;\" x=\"162.80627\" xlink:href=\"#m77e6b4019f\" y=\"214.748505\"/>\r\n     <use style=\"fill:#1f77b4;stroke:#1f77b4;\" x=\"163.244204\" xlink:href=\"#m77e6b4019f\" y=\"214.748958\"/>\r\n     <use style=\"fill:#1f77b4;stroke:#1f77b4;\" x=\"163.682137\" xlink:href=\"#m77e6b4019f\" y=\"214.749379\"/>\r\n     <use style=\"fill:#1f77b4;stroke:#1f77b4;\" x=\"164.12007\" xlink:href=\"#m77e6b4019f\" y=\"214.74977\"/>\r\n     <use style=\"fill:#1f77b4;stroke:#1f77b4;\" x=\"164.558004\" xlink:href=\"#m77e6b4019f\" y=\"214.750143\"/>\r\n     <use style=\"fill:#1f77b4;stroke:#1f77b4;\" x=\"164.995937\" xlink:href=\"#m77e6b4019f\" y=\"214.750498\"/>\r\n     <use style=\"fill:#1f77b4;stroke:#1f77b4;\" x=\"165.43387\" xlink:href=\"#m77e6b4019f\" y=\"214.750837\"/>\r\n     <use style=\"fill:#1f77b4;stroke:#1f77b4;\" x=\"165.871803\" xlink:href=\"#m77e6b4019f\" y=\"214.751158\"/>\r\n     <use style=\"fill:#1f77b4;stroke:#1f77b4;\" x=\"166.309737\" xlink:href=\"#m77e6b4019f\" y=\"214.751464\"/>\r\n     <use style=\"fill:#1f77b4;stroke:#1f77b4;\" x=\"166.74767\" xlink:href=\"#m77e6b4019f\" y=\"214.751753\"/>\r\n     <use style=\"fill:#1f77b4;stroke:#1f77b4;\" x=\"167.185603\" xlink:href=\"#m77e6b4019f\" y=\"214.752026\"/>\r\n     <use style=\"fill:#1f77b4;stroke:#1f77b4;\" x=\"167.623537\" xlink:href=\"#m77e6b4019f\" y=\"214.752283\"/>\r\n     <use style=\"fill:#1f77b4;stroke:#1f77b4;\" x=\"168.06147\" xlink:href=\"#m77e6b4019f\" y=\"214.752526\"/>\r\n     <use style=\"fill:#1f77b4;stroke:#1f77b4;\" x=\"168.499403\" xlink:href=\"#m77e6b4019f\" y=\"214.752753\"/>\r\n     <use style=\"fill:#1f77b4;stroke:#1f77b4;\" x=\"168.937336\" xlink:href=\"#m77e6b4019f\" y=\"214.752965\"/>\r\n     <use style=\"fill:#1f77b4;stroke:#1f77b4;\" x=\"169.37527\" xlink:href=\"#m77e6b4019f\" y=\"214.753163\"/>\r\n     <use style=\"fill:#1f77b4;stroke:#1f77b4;\" x=\"169.813203\" xlink:href=\"#m77e6b4019f\" y=\"214.753346\"/>\r\n     <use style=\"fill:#1f77b4;stroke:#1f77b4;\" x=\"170.251136\" xlink:href=\"#m77e6b4019f\" y=\"214.753516\"/>\r\n     <use style=\"fill:#1f77b4;stroke:#1f77b4;\" x=\"170.68907\" xlink:href=\"#m77e6b4019f\" y=\"214.753672\"/>\r\n     <use style=\"fill:#1f77b4;stroke:#1f77b4;\" x=\"171.127003\" xlink:href=\"#m77e6b4019f\" y=\"214.753815\"/>\r\n     <use style=\"fill:#1f77b4;stroke:#1f77b4;\" x=\"171.564936\" xlink:href=\"#m77e6b4019f\" y=\"214.753958\"/>\r\n     <use style=\"fill:#1f77b4;stroke:#1f77b4;\" x=\"172.00287\" xlink:href=\"#m77e6b4019f\" y=\"214.754096\"/>\r\n     <use style=\"fill:#1f77b4;stroke:#1f77b4;\" x=\"172.440803\" xlink:href=\"#m77e6b4019f\" y=\"214.754227\"/>\r\n     <use style=\"fill:#1f77b4;stroke:#1f77b4;\" x=\"172.878736\" xlink:href=\"#m77e6b4019f\" y=\"214.75435\"/>\r\n     <use style=\"fill:#1f77b4;stroke:#1f77b4;\" x=\"173.316669\" xlink:href=\"#m77e6b4019f\" y=\"214.754466\"/>\r\n     <use style=\"fill:#1f77b4;stroke:#1f77b4;\" x=\"173.754603\" xlink:href=\"#m77e6b4019f\" y=\"214.754576\"/>\r\n     <use style=\"fill:#1f77b4;stroke:#1f77b4;\" x=\"174.192536\" xlink:href=\"#m77e6b4019f\" y=\"214.754679\"/>\r\n     <use style=\"fill:#1f77b4;stroke:#1f77b4;\" x=\"174.630469\" xlink:href=\"#m77e6b4019f\" y=\"214.754776\"/>\r\n     <use style=\"fill:#1f77b4;stroke:#1f77b4;\" x=\"175.068403\" xlink:href=\"#m77e6b4019f\" y=\"214.754867\"/>\r\n     <use style=\"fill:#1f77b4;stroke:#1f77b4;\" x=\"175.506336\" xlink:href=\"#m77e6b4019f\" y=\"214.754953\"/>\r\n     <use style=\"fill:#1f77b4;stroke:#1f77b4;\" x=\"175.944269\" xlink:href=\"#m77e6b4019f\" y=\"214.755034\"/>\r\n     <use style=\"fill:#1f77b4;stroke:#1f77b4;\" x=\"176.382202\" xlink:href=\"#m77e6b4019f\" y=\"214.75511\"/>\r\n     <use style=\"fill:#1f77b4;stroke:#1f77b4;\" x=\"176.820136\" xlink:href=\"#m77e6b4019f\" y=\"214.75518\"/>\r\n     <use style=\"fill:#1f77b4;stroke:#1f77b4;\" x=\"177.258069\" xlink:href=\"#m77e6b4019f\" y=\"214.755247\"/>\r\n     <use style=\"fill:#1f77b4;stroke:#1f77b4;\" x=\"177.696002\" xlink:href=\"#m77e6b4019f\" y=\"214.75531\"/>\r\n     <use style=\"fill:#1f77b4;stroke:#1f77b4;\" x=\"178.133936\" xlink:href=\"#m77e6b4019f\" y=\"214.755371\"/>\r\n     <use style=\"fill:#1f77b4;stroke:#1f77b4;\" x=\"178.571869\" xlink:href=\"#m77e6b4019f\" y=\"214.755429\"/>\r\n     <use style=\"fill:#1f77b4;stroke:#1f77b4;\" x=\"179.009802\" xlink:href=\"#m77e6b4019f\" y=\"214.755484\"/>\r\n     <use style=\"fill:#1f77b4;stroke:#1f77b4;\" x=\"179.447735\" xlink:href=\"#m77e6b4019f\" y=\"214.755536\"/>\r\n     <use style=\"fill:#1f77b4;stroke:#1f77b4;\" x=\"179.885669\" xlink:href=\"#m77e6b4019f\" y=\"214.755585\"/>\r\n     <use style=\"fill:#1f77b4;stroke:#1f77b4;\" x=\"180.323602\" xlink:href=\"#m77e6b4019f\" y=\"214.755631\"/>\r\n     <use style=\"fill:#1f77b4;stroke:#1f77b4;\" x=\"180.761535\" xlink:href=\"#m77e6b4019f\" y=\"214.755675\"/>\r\n     <use style=\"fill:#1f77b4;stroke:#1f77b4;\" x=\"181.199469\" xlink:href=\"#m77e6b4019f\" y=\"214.755715\"/>\r\n     <use style=\"fill:#1f77b4;stroke:#1f77b4;\" x=\"181.637402\" xlink:href=\"#m77e6b4019f\" y=\"214.755754\"/>\r\n     <use style=\"fill:#1f77b4;stroke:#1f77b4;\" x=\"182.075335\" xlink:href=\"#m77e6b4019f\" y=\"214.755789\"/>\r\n     <use style=\"fill:#1f77b4;stroke:#1f77b4;\" x=\"182.513268\" xlink:href=\"#m77e6b4019f\" y=\"214.755822\"/>\r\n     <use style=\"fill:#1f77b4;stroke:#1f77b4;\" x=\"182.951202\" xlink:href=\"#m77e6b4019f\" y=\"214.755853\"/>\r\n     <use style=\"fill:#1f77b4;stroke:#1f77b4;\" x=\"183.389135\" xlink:href=\"#m77e6b4019f\" y=\"214.755881\"/>\r\n     <use style=\"fill:#1f77b4;stroke:#1f77b4;\" x=\"183.827068\" xlink:href=\"#m77e6b4019f\" y=\"214.755906\"/>\r\n     <use style=\"fill:#1f77b4;stroke:#1f77b4;\" x=\"184.265002\" xlink:href=\"#m77e6b4019f\" y=\"214.755932\"/>\r\n     <use style=\"fill:#1f77b4;stroke:#1f77b4;\" x=\"184.702935\" xlink:href=\"#m77e6b4019f\" y=\"214.755956\"/>\r\n     <use style=\"fill:#1f77b4;stroke:#1f77b4;\" x=\"185.140868\" xlink:href=\"#m77e6b4019f\" y=\"214.75598\"/>\r\n     <use style=\"fill:#1f77b4;stroke:#1f77b4;\" x=\"185.578802\" xlink:href=\"#m77e6b4019f\" y=\"214.756002\"/>\r\n     <use style=\"fill:#1f77b4;stroke:#1f77b4;\" x=\"186.016735\" xlink:href=\"#m77e6b4019f\" y=\"214.756023\"/>\r\n     <use style=\"fill:#1f77b4;stroke:#1f77b4;\" x=\"186.454668\" xlink:href=\"#m77e6b4019f\" y=\"214.756043\"/>\r\n     <use style=\"fill:#1f77b4;stroke:#1f77b4;\" x=\"186.892601\" xlink:href=\"#m77e6b4019f\" y=\"214.756061\"/>\r\n     <use style=\"fill:#1f77b4;stroke:#1f77b4;\" x=\"187.330535\" xlink:href=\"#m77e6b4019f\" y=\"214.756079\"/>\r\n     <use style=\"fill:#1f77b4;stroke:#1f77b4;\" x=\"187.768468\" xlink:href=\"#m77e6b4019f\" y=\"214.756095\"/>\r\n     <use style=\"fill:#1f77b4;stroke:#1f77b4;\" x=\"188.206401\" xlink:href=\"#m77e6b4019f\" y=\"214.75611\"/>\r\n     <use style=\"fill:#1f77b4;stroke:#1f77b4;\" x=\"188.644335\" xlink:href=\"#m77e6b4019f\" y=\"214.756125\"/>\r\n     <use style=\"fill:#1f77b4;stroke:#1f77b4;\" x=\"189.082268\" xlink:href=\"#m77e6b4019f\" y=\"214.756138\"/>\r\n     <use style=\"fill:#1f77b4;stroke:#1f77b4;\" x=\"189.520201\" xlink:href=\"#m77e6b4019f\" y=\"214.756151\"/>\r\n     <use style=\"fill:#1f77b4;stroke:#1f77b4;\" x=\"189.958134\" xlink:href=\"#m77e6b4019f\" y=\"214.756163\"/>\r\n     <use style=\"fill:#1f77b4;stroke:#1f77b4;\" x=\"190.396068\" xlink:href=\"#m77e6b4019f\" y=\"214.756174\"/>\r\n     <use style=\"fill:#1f77b4;stroke:#1f77b4;\" x=\"190.834001\" xlink:href=\"#m77e6b4019f\" y=\"214.756185\"/>\r\n     <use style=\"fill:#1f77b4;stroke:#1f77b4;\" x=\"191.271934\" xlink:href=\"#m77e6b4019f\" y=\"214.756196\"/>\r\n     <use style=\"fill:#1f77b4;stroke:#1f77b4;\" x=\"191.709868\" xlink:href=\"#m77e6b4019f\" y=\"214.756206\"/>\r\n     <use style=\"fill:#1f77b4;stroke:#1f77b4;\" x=\"192.147801\" xlink:href=\"#m77e6b4019f\" y=\"214.756215\"/>\r\n     <use style=\"fill:#1f77b4;stroke:#1f77b4;\" x=\"192.585734\" xlink:href=\"#m77e6b4019f\" y=\"214.756224\"/>\r\n     <use style=\"fill:#1f77b4;stroke:#1f77b4;\" x=\"193.023667\" xlink:href=\"#m77e6b4019f\" y=\"214.756232\"/>\r\n     <use style=\"fill:#1f77b4;stroke:#1f77b4;\" x=\"193.461601\" xlink:href=\"#m77e6b4019f\" y=\"214.75624\"/>\r\n     <use style=\"fill:#1f77b4;stroke:#1f77b4;\" x=\"193.899534\" xlink:href=\"#m77e6b4019f\" y=\"214.756247\"/>\r\n     <use style=\"fill:#1f77b4;stroke:#1f77b4;\" x=\"194.337467\" xlink:href=\"#m77e6b4019f\" y=\"214.756254\"/>\r\n     <use style=\"fill:#1f77b4;stroke:#1f77b4;\" x=\"194.775401\" xlink:href=\"#m77e6b4019f\" y=\"214.756261\"/>\r\n     <use style=\"fill:#1f77b4;stroke:#1f77b4;\" x=\"195.213334\" xlink:href=\"#m77e6b4019f\" y=\"214.756267\"/>\r\n     <use style=\"fill:#1f77b4;stroke:#1f77b4;\" x=\"195.651267\" xlink:href=\"#m77e6b4019f\" y=\"214.756272\"/>\r\n     <use style=\"fill:#1f77b4;stroke:#1f77b4;\" x=\"196.0892\" xlink:href=\"#m77e6b4019f\" y=\"214.756277\"/>\r\n     <use style=\"fill:#1f77b4;stroke:#1f77b4;\" x=\"196.527134\" xlink:href=\"#m77e6b4019f\" y=\"214.756282\"/>\r\n     <use style=\"fill:#1f77b4;stroke:#1f77b4;\" x=\"196.965067\" xlink:href=\"#m77e6b4019f\" y=\"214.756286\"/>\r\n     <use style=\"fill:#1f77b4;stroke:#1f77b4;\" x=\"197.403\" xlink:href=\"#m77e6b4019f\" y=\"214.756291\"/>\r\n     <use style=\"fill:#1f77b4;stroke:#1f77b4;\" x=\"197.840934\" xlink:href=\"#m77e6b4019f\" y=\"214.756295\"/>\r\n     <use style=\"fill:#1f77b4;stroke:#1f77b4;\" x=\"198.278867\" xlink:href=\"#m77e6b4019f\" y=\"214.756299\"/>\r\n     <use style=\"fill:#1f77b4;stroke:#1f77b4;\" x=\"198.7168\" xlink:href=\"#m77e6b4019f\" y=\"214.756302\"/>\r\n     <use style=\"fill:#1f77b4;stroke:#1f77b4;\" x=\"199.154733\" xlink:href=\"#m77e6b4019f\" y=\"214.756306\"/>\r\n     <use style=\"fill:#1f77b4;stroke:#1f77b4;\" x=\"199.592667\" xlink:href=\"#m77e6b4019f\" y=\"214.756309\"/>\r\n     <use style=\"fill:#1f77b4;stroke:#1f77b4;\" x=\"200.0306\" xlink:href=\"#m77e6b4019f\" y=\"214.756312\"/>\r\n     <use style=\"fill:#1f77b4;stroke:#1f77b4;\" x=\"200.468533\" xlink:href=\"#m77e6b4019f\" y=\"214.756315\"/>\r\n     <use style=\"fill:#1f77b4;stroke:#1f77b4;\" x=\"200.906467\" xlink:href=\"#m77e6b4019f\" y=\"214.756318\"/>\r\n     <use style=\"fill:#1f77b4;stroke:#1f77b4;\" x=\"201.3444\" xlink:href=\"#m77e6b4019f\" y=\"214.756321\"/>\r\n     <use style=\"fill:#1f77b4;stroke:#1f77b4;\" x=\"201.782333\" xlink:href=\"#m77e6b4019f\" y=\"214.756323\"/>\r\n     <use style=\"fill:#1f77b4;stroke:#1f77b4;\" x=\"202.220267\" xlink:href=\"#m77e6b4019f\" y=\"214.756325\"/>\r\n     <use style=\"fill:#1f77b4;stroke:#1f77b4;\" x=\"202.6582\" xlink:href=\"#m77e6b4019f\" y=\"214.756328\"/>\r\n     <use style=\"fill:#1f77b4;stroke:#1f77b4;\" x=\"203.096133\" xlink:href=\"#m77e6b4019f\" y=\"214.75633\"/>\r\n     <use style=\"fill:#1f77b4;stroke:#1f77b4;\" x=\"203.534066\" xlink:href=\"#m77e6b4019f\" y=\"214.756332\"/>\r\n     <use style=\"fill:#1f77b4;stroke:#1f77b4;\" x=\"203.972\" xlink:href=\"#m77e6b4019f\" y=\"214.756333\"/>\r\n     <use style=\"fill:#1f77b4;stroke:#1f77b4;\" x=\"204.409933\" xlink:href=\"#m77e6b4019f\" y=\"214.756335\"/>\r\n     <use style=\"fill:#1f77b4;stroke:#1f77b4;\" x=\"204.847866\" xlink:href=\"#m77e6b4019f\" y=\"214.756337\"/>\r\n     <use style=\"fill:#1f77b4;stroke:#1f77b4;\" x=\"205.2858\" xlink:href=\"#m77e6b4019f\" y=\"214.756338\"/>\r\n     <use style=\"fill:#1f77b4;stroke:#1f77b4;\" x=\"205.723733\" xlink:href=\"#m77e6b4019f\" y=\"214.75634\"/>\r\n     <use style=\"fill:#1f77b4;stroke:#1f77b4;\" x=\"206.161666\" xlink:href=\"#m77e6b4019f\" y=\"214.756341\"/>\r\n     <use style=\"fill:#1f77b4;stroke:#1f77b4;\" x=\"206.599599\" xlink:href=\"#m77e6b4019f\" y=\"214.756343\"/>\r\n     <use style=\"fill:#1f77b4;stroke:#1f77b4;\" x=\"207.037533\" xlink:href=\"#m77e6b4019f\" y=\"214.756344\"/>\r\n     <use style=\"fill:#1f77b4;stroke:#1f77b4;\" x=\"207.475466\" xlink:href=\"#m77e6b4019f\" y=\"214.756345\"/>\r\n     <use style=\"fill:#1f77b4;stroke:#1f77b4;\" x=\"207.913399\" xlink:href=\"#m77e6b4019f\" y=\"214.756346\"/>\r\n     <use style=\"fill:#1f77b4;stroke:#1f77b4;\" x=\"208.351333\" xlink:href=\"#m77e6b4019f\" y=\"214.756347\"/>\r\n     <use style=\"fill:#1f77b4;stroke:#1f77b4;\" x=\"208.789266\" xlink:href=\"#m77e6b4019f\" y=\"214.756348\"/>\r\n     <use style=\"fill:#1f77b4;stroke:#1f77b4;\" x=\"209.227199\" xlink:href=\"#m77e6b4019f\" y=\"214.756349\"/>\r\n     <use style=\"fill:#1f77b4;stroke:#1f77b4;\" x=\"209.665132\" xlink:href=\"#m77e6b4019f\" y=\"214.75635\"/>\r\n     <use style=\"fill:#1f77b4;stroke:#1f77b4;\" x=\"210.103066\" xlink:href=\"#m77e6b4019f\" y=\"214.756351\"/>\r\n     <use style=\"fill:#1f77b4;stroke:#1f77b4;\" x=\"210.540999\" xlink:href=\"#m77e6b4019f\" y=\"214.756351\"/>\r\n     <use style=\"fill:#1f77b4;stroke:#1f77b4;\" x=\"210.978932\" xlink:href=\"#m77e6b4019f\" y=\"214.756352\"/>\r\n     <use style=\"fill:#1f77b4;stroke:#1f77b4;\" x=\"211.416866\" xlink:href=\"#m77e6b4019f\" y=\"214.756353\"/>\r\n     <use style=\"fill:#1f77b4;stroke:#1f77b4;\" x=\"211.854799\" xlink:href=\"#m77e6b4019f\" y=\"214.756353\"/>\r\n     <use style=\"fill:#1f77b4;stroke:#1f77b4;\" x=\"212.292732\" xlink:href=\"#m77e6b4019f\" y=\"214.756354\"/>\r\n     <use style=\"fill:#1f77b4;stroke:#1f77b4;\" x=\"212.730665\" xlink:href=\"#m77e6b4019f\" y=\"214.756354\"/>\r\n     <use style=\"fill:#1f77b4;stroke:#1f77b4;\" x=\"213.168599\" xlink:href=\"#m77e6b4019f\" y=\"214.756355\"/>\r\n     <use style=\"fill:#1f77b4;stroke:#1f77b4;\" x=\"213.606532\" xlink:href=\"#m77e6b4019f\" y=\"214.756355\"/>\r\n     <use style=\"fill:#1f77b4;stroke:#1f77b4;\" x=\"214.044465\" xlink:href=\"#m77e6b4019f\" y=\"214.756356\"/>\r\n     <use style=\"fill:#1f77b4;stroke:#1f77b4;\" x=\"214.482399\" xlink:href=\"#m77e6b4019f\" y=\"214.756356\"/>\r\n     <use style=\"fill:#1f77b4;stroke:#1f77b4;\" x=\"214.920332\" xlink:href=\"#m77e6b4019f\" y=\"214.756357\"/>\r\n     <use style=\"fill:#1f77b4;stroke:#1f77b4;\" x=\"215.358265\" xlink:href=\"#m77e6b4019f\" y=\"214.756357\"/>\r\n     <use style=\"fill:#1f77b4;stroke:#1f77b4;\" x=\"215.796198\" xlink:href=\"#m77e6b4019f\" y=\"214.756357\"/>\r\n     <use style=\"fill:#1f77b4;stroke:#1f77b4;\" x=\"216.234132\" xlink:href=\"#m77e6b4019f\" y=\"214.756358\"/>\r\n     <use style=\"fill:#1f77b4;stroke:#1f77b4;\" x=\"216.672065\" xlink:href=\"#m77e6b4019f\" y=\"214.756358\"/>\r\n     <use style=\"fill:#1f77b4;stroke:#1f77b4;\" x=\"217.109998\" xlink:href=\"#m77e6b4019f\" y=\"214.756358\"/>\r\n     <use style=\"fill:#1f77b4;stroke:#1f77b4;\" x=\"217.547932\" xlink:href=\"#m77e6b4019f\" y=\"214.756359\"/>\r\n     <use style=\"fill:#1f77b4;stroke:#1f77b4;\" x=\"217.985865\" xlink:href=\"#m77e6b4019f\" y=\"214.756359\"/>\r\n     <use style=\"fill:#1f77b4;stroke:#1f77b4;\" x=\"218.423798\" xlink:href=\"#m77e6b4019f\" y=\"214.756359\"/>\r\n     <use style=\"fill:#1f77b4;stroke:#1f77b4;\" x=\"218.861732\" xlink:href=\"#m77e6b4019f\" y=\"214.75636\"/>\r\n     <use style=\"fill:#1f77b4;stroke:#1f77b4;\" x=\"219.299665\" xlink:href=\"#m77e6b4019f\" y=\"214.75636\"/>\r\n     <use style=\"fill:#1f77b4;stroke:#1f77b4;\" x=\"219.737598\" xlink:href=\"#m77e6b4019f\" y=\"214.75636\"/>\r\n     <use style=\"fill:#1f77b4;stroke:#1f77b4;\" x=\"220.175531\" xlink:href=\"#m77e6b4019f\" y=\"214.75636\"/>\r\n     <use style=\"fill:#1f77b4;stroke:#1f77b4;\" x=\"220.613465\" xlink:href=\"#m77e6b4019f\" y=\"214.756361\"/>\r\n     <use style=\"fill:#1f77b4;stroke:#1f77b4;\" x=\"221.051398\" xlink:href=\"#m77e6b4019f\" y=\"214.756361\"/>\r\n     <use style=\"fill:#1f77b4;stroke:#1f77b4;\" x=\"221.489331\" xlink:href=\"#m77e6b4019f\" y=\"214.756361\"/>\r\n     <use style=\"fill:#1f77b4;stroke:#1f77b4;\" x=\"221.927265\" xlink:href=\"#m77e6b4019f\" y=\"214.756361\"/>\r\n     <use style=\"fill:#1f77b4;stroke:#1f77b4;\" x=\"222.365198\" xlink:href=\"#m77e6b4019f\" y=\"214.756361\"/>\r\n     <use style=\"fill:#1f77b4;stroke:#1f77b4;\" x=\"222.803131\" xlink:href=\"#m77e6b4019f\" y=\"214.756361\"/>\r\n     <use style=\"fill:#1f77b4;stroke:#1f77b4;\" x=\"223.241064\" xlink:href=\"#m77e6b4019f\" y=\"214.756362\"/>\r\n     <use style=\"fill:#1f77b4;stroke:#1f77b4;\" x=\"223.678998\" xlink:href=\"#m77e6b4019f\" y=\"214.756362\"/>\r\n     <use style=\"fill:#1f77b4;stroke:#1f77b4;\" x=\"224.116931\" xlink:href=\"#m77e6b4019f\" y=\"214.756362\"/>\r\n     <use style=\"fill:#1f77b4;stroke:#1f77b4;\" x=\"224.554864\" xlink:href=\"#m77e6b4019f\" y=\"214.756362\"/>\r\n     <use style=\"fill:#1f77b4;stroke:#1f77b4;\" x=\"224.992798\" xlink:href=\"#m77e6b4019f\" y=\"214.756362\"/>\r\n     <use style=\"fill:#1f77b4;stroke:#1f77b4;\" x=\"225.430731\" xlink:href=\"#m77e6b4019f\" y=\"214.756362\"/>\r\n     <use style=\"fill:#1f77b4;stroke:#1f77b4;\" x=\"225.868664\" xlink:href=\"#m77e6b4019f\" y=\"214.756362\"/>\r\n     <use style=\"fill:#1f77b4;stroke:#1f77b4;\" x=\"226.306597\" xlink:href=\"#m77e6b4019f\" y=\"214.756362\"/>\r\n     <use style=\"fill:#1f77b4;stroke:#1f77b4;\" x=\"226.744531\" xlink:href=\"#m77e6b4019f\" y=\"214.756362\"/>\r\n     <use style=\"fill:#1f77b4;stroke:#1f77b4;\" x=\"227.182464\" xlink:href=\"#m77e6b4019f\" y=\"214.756362\"/>\r\n     <use style=\"fill:#1f77b4;stroke:#1f77b4;\" x=\"227.620397\" xlink:href=\"#m77e6b4019f\" y=\"214.756362\"/>\r\n     <use style=\"fill:#1f77b4;stroke:#1f77b4;\" x=\"228.058331\" xlink:href=\"#m77e6b4019f\" y=\"214.756362\"/>\r\n     <use style=\"fill:#1f77b4;stroke:#1f77b4;\" x=\"228.496264\" xlink:href=\"#m77e6b4019f\" y=\"214.756363\"/>\r\n     <use style=\"fill:#1f77b4;stroke:#1f77b4;\" x=\"228.934197\" xlink:href=\"#m77e6b4019f\" y=\"214.756363\"/>\r\n     <use style=\"fill:#1f77b4;stroke:#1f77b4;\" x=\"229.37213\" xlink:href=\"#m77e6b4019f\" y=\"214.756363\"/>\r\n     <use style=\"fill:#1f77b4;stroke:#1f77b4;\" x=\"229.810064\" xlink:href=\"#m77e6b4019f\" y=\"214.756363\"/>\r\n     <use style=\"fill:#1f77b4;stroke:#1f77b4;\" x=\"230.247997\" xlink:href=\"#m77e6b4019f\" y=\"214.756363\"/>\r\n     <use style=\"fill:#1f77b4;stroke:#1f77b4;\" x=\"230.68593\" xlink:href=\"#m77e6b4019f\" y=\"214.756363\"/>\r\n     <use style=\"fill:#1f77b4;stroke:#1f77b4;\" x=\"231.123864\" xlink:href=\"#m77e6b4019f\" y=\"214.756363\"/>\r\n     <use style=\"fill:#1f77b4;stroke:#1f77b4;\" x=\"231.561797\" xlink:href=\"#m77e6b4019f\" y=\"214.756363\"/>\r\n     <use style=\"fill:#1f77b4;stroke:#1f77b4;\" x=\"231.99973\" xlink:href=\"#m77e6b4019f\" y=\"214.756363\"/>\r\n     <use style=\"fill:#1f77b4;stroke:#1f77b4;\" x=\"232.437664\" xlink:href=\"#m77e6b4019f\" y=\"214.756363\"/>\r\n     <use style=\"fill:#1f77b4;stroke:#1f77b4;\" x=\"232.875597\" xlink:href=\"#m77e6b4019f\" y=\"214.756363\"/>\r\n     <use style=\"fill:#1f77b4;stroke:#1f77b4;\" x=\"233.31353\" xlink:href=\"#m77e6b4019f\" y=\"214.756363\"/>\r\n     <use style=\"fill:#1f77b4;stroke:#1f77b4;\" x=\"233.751463\" xlink:href=\"#m77e6b4019f\" y=\"214.756363\"/>\r\n     <use style=\"fill:#1f77b4;stroke:#1f77b4;\" x=\"234.189397\" xlink:href=\"#m77e6b4019f\" y=\"214.756363\"/>\r\n     <use style=\"fill:#1f77b4;stroke:#1f77b4;\" x=\"234.62733\" xlink:href=\"#m77e6b4019f\" y=\"214.756363\"/>\r\n     <use style=\"fill:#1f77b4;stroke:#1f77b4;\" x=\"235.065263\" xlink:href=\"#m77e6b4019f\" y=\"214.756363\"/>\r\n     <use style=\"fill:#1f77b4;stroke:#1f77b4;\" x=\"235.503197\" xlink:href=\"#m77e6b4019f\" y=\"214.756363\"/>\r\n     <use style=\"fill:#1f77b4;stroke:#1f77b4;\" x=\"235.94113\" xlink:href=\"#m77e6b4019f\" y=\"214.756363\"/>\r\n     <use style=\"fill:#1f77b4;stroke:#1f77b4;\" x=\"236.379063\" xlink:href=\"#m77e6b4019f\" y=\"214.756363\"/>\r\n     <use style=\"fill:#1f77b4;stroke:#1f77b4;\" x=\"236.816996\" xlink:href=\"#m77e6b4019f\" y=\"214.756363\"/>\r\n     <use style=\"fill:#1f77b4;stroke:#1f77b4;\" x=\"237.25493\" xlink:href=\"#m77e6b4019f\" y=\"214.756363\"/>\r\n     <use style=\"fill:#1f77b4;stroke:#1f77b4;\" x=\"237.692863\" xlink:href=\"#m77e6b4019f\" y=\"214.756363\"/>\r\n     <use style=\"fill:#1f77b4;stroke:#1f77b4;\" x=\"238.130796\" xlink:href=\"#m77e6b4019f\" y=\"214.756363\"/>\r\n     <use style=\"fill:#1f77b4;stroke:#1f77b4;\" x=\"238.56873\" xlink:href=\"#m77e6b4019f\" y=\"214.756363\"/>\r\n     <use style=\"fill:#1f77b4;stroke:#1f77b4;\" x=\"239.006663\" xlink:href=\"#m77e6b4019f\" y=\"214.756363\"/>\r\n     <use style=\"fill:#1f77b4;stroke:#1f77b4;\" x=\"239.444596\" xlink:href=\"#m77e6b4019f\" y=\"214.756363\"/>\r\n     <use style=\"fill:#1f77b4;stroke:#1f77b4;\" x=\"239.882529\" xlink:href=\"#m77e6b4019f\" y=\"214.756363\"/>\r\n     <use style=\"fill:#1f77b4;stroke:#1f77b4;\" x=\"240.320463\" xlink:href=\"#m77e6b4019f\" y=\"214.756363\"/>\r\n     <use style=\"fill:#1f77b4;stroke:#1f77b4;\" x=\"240.758396\" xlink:href=\"#m77e6b4019f\" y=\"214.756363\"/>\r\n     <use style=\"fill:#1f77b4;stroke:#1f77b4;\" x=\"241.196329\" xlink:href=\"#m77e6b4019f\" y=\"214.756363\"/>\r\n     <use style=\"fill:#1f77b4;stroke:#1f77b4;\" x=\"241.634263\" xlink:href=\"#m77e6b4019f\" y=\"214.756363\"/>\r\n     <use style=\"fill:#1f77b4;stroke:#1f77b4;\" x=\"242.072196\" xlink:href=\"#m77e6b4019f\" y=\"214.756363\"/>\r\n     <use style=\"fill:#1f77b4;stroke:#1f77b4;\" x=\"242.510129\" xlink:href=\"#m77e6b4019f\" y=\"214.756363\"/>\r\n     <use style=\"fill:#1f77b4;stroke:#1f77b4;\" x=\"242.948062\" xlink:href=\"#m77e6b4019f\" y=\"214.756363\"/>\r\n     <use style=\"fill:#1f77b4;stroke:#1f77b4;\" x=\"243.385996\" xlink:href=\"#m77e6b4019f\" y=\"214.756363\"/>\r\n     <use style=\"fill:#1f77b4;stroke:#1f77b4;\" x=\"243.823929\" xlink:href=\"#m77e6b4019f\" y=\"214.756363\"/>\r\n     <use style=\"fill:#1f77b4;stroke:#1f77b4;\" x=\"244.261862\" xlink:href=\"#m77e6b4019f\" y=\"214.756363\"/>\r\n     <use style=\"fill:#1f77b4;stroke:#1f77b4;\" x=\"244.699796\" xlink:href=\"#m77e6b4019f\" y=\"214.756364\"/>\r\n     <use style=\"fill:#1f77b4;stroke:#1f77b4;\" x=\"245.137729\" xlink:href=\"#m77e6b4019f\" y=\"214.756364\"/>\r\n     <use style=\"fill:#1f77b4;stroke:#1f77b4;\" x=\"245.575662\" xlink:href=\"#m77e6b4019f\" y=\"214.756364\"/>\r\n     <use style=\"fill:#1f77b4;stroke:#1f77b4;\" x=\"246.013595\" xlink:href=\"#m77e6b4019f\" y=\"214.756364\"/>\r\n     <use style=\"fill:#1f77b4;stroke:#1f77b4;\" x=\"246.451529\" xlink:href=\"#m77e6b4019f\" y=\"214.756364\"/>\r\n     <use style=\"fill:#1f77b4;stroke:#1f77b4;\" x=\"246.889462\" xlink:href=\"#m77e6b4019f\" y=\"214.756364\"/>\r\n     <use style=\"fill:#1f77b4;stroke:#1f77b4;\" x=\"247.327395\" xlink:href=\"#m77e6b4019f\" y=\"214.756364\"/>\r\n     <use style=\"fill:#1f77b4;stroke:#1f77b4;\" x=\"247.765329\" xlink:href=\"#m77e6b4019f\" y=\"214.756364\"/>\r\n     <use style=\"fill:#1f77b4;stroke:#1f77b4;\" x=\"248.203262\" xlink:href=\"#m77e6b4019f\" y=\"214.756364\"/>\r\n     <use style=\"fill:#1f77b4;stroke:#1f77b4;\" x=\"248.641195\" xlink:href=\"#m77e6b4019f\" y=\"214.756364\"/>\r\n     <use style=\"fill:#1f77b4;stroke:#1f77b4;\" x=\"249.079129\" xlink:href=\"#m77e6b4019f\" y=\"214.756364\"/>\r\n     <use style=\"fill:#1f77b4;stroke:#1f77b4;\" x=\"249.517062\" xlink:href=\"#m77e6b4019f\" y=\"214.756364\"/>\r\n     <use style=\"fill:#1f77b4;stroke:#1f77b4;\" x=\"249.954995\" xlink:href=\"#m77e6b4019f\" y=\"214.756364\"/>\r\n     <use style=\"fill:#1f77b4;stroke:#1f77b4;\" x=\"250.392928\" xlink:href=\"#m77e6b4019f\" y=\"214.756364\"/>\r\n     <use style=\"fill:#1f77b4;stroke:#1f77b4;\" x=\"250.830862\" xlink:href=\"#m77e6b4019f\" y=\"214.756364\"/>\r\n     <use style=\"fill:#1f77b4;stroke:#1f77b4;\" x=\"251.268795\" xlink:href=\"#m77e6b4019f\" y=\"214.756364\"/>\r\n     <use style=\"fill:#1f77b4;stroke:#1f77b4;\" x=\"251.706728\" xlink:href=\"#m77e6b4019f\" y=\"214.756364\"/>\r\n     <use style=\"fill:#1f77b4;stroke:#1f77b4;\" x=\"252.144662\" xlink:href=\"#m77e6b4019f\" y=\"214.756364\"/>\r\n     <use style=\"fill:#1f77b4;stroke:#1f77b4;\" x=\"252.582595\" xlink:href=\"#m77e6b4019f\" y=\"214.756364\"/>\r\n     <use style=\"fill:#1f77b4;stroke:#1f77b4;\" x=\"253.020528\" xlink:href=\"#m77e6b4019f\" y=\"214.756364\"/>\r\n     <use style=\"fill:#1f77b4;stroke:#1f77b4;\" x=\"253.458461\" xlink:href=\"#m77e6b4019f\" y=\"214.756364\"/>\r\n     <use style=\"fill:#1f77b4;stroke:#1f77b4;\" x=\"253.896395\" xlink:href=\"#m77e6b4019f\" y=\"214.756364\"/>\r\n     <use style=\"fill:#1f77b4;stroke:#1f77b4;\" x=\"254.334328\" xlink:href=\"#m77e6b4019f\" y=\"214.756364\"/>\r\n     <use style=\"fill:#1f77b4;stroke:#1f77b4;\" x=\"254.772261\" xlink:href=\"#m77e6b4019f\" y=\"214.756364\"/>\r\n     <use style=\"fill:#1f77b4;stroke:#1f77b4;\" x=\"255.210195\" xlink:href=\"#m77e6b4019f\" y=\"214.756364\"/>\r\n     <use style=\"fill:#1f77b4;stroke:#1f77b4;\" x=\"255.648128\" xlink:href=\"#m77e6b4019f\" y=\"214.756364\"/>\r\n     <use style=\"fill:#1f77b4;stroke:#1f77b4;\" x=\"256.086061\" xlink:href=\"#m77e6b4019f\" y=\"214.756364\"/>\r\n     <use style=\"fill:#1f77b4;stroke:#1f77b4;\" x=\"256.523994\" xlink:href=\"#m77e6b4019f\" y=\"214.756364\"/>\r\n     <use style=\"fill:#1f77b4;stroke:#1f77b4;\" x=\"256.961928\" xlink:href=\"#m77e6b4019f\" y=\"214.756364\"/>\r\n     <use style=\"fill:#1f77b4;stroke:#1f77b4;\" x=\"257.399861\" xlink:href=\"#m77e6b4019f\" y=\"214.756364\"/>\r\n     <use style=\"fill:#1f77b4;stroke:#1f77b4;\" x=\"257.837794\" xlink:href=\"#m77e6b4019f\" y=\"214.756364\"/>\r\n     <use style=\"fill:#1f77b4;stroke:#1f77b4;\" x=\"258.275728\" xlink:href=\"#m77e6b4019f\" y=\"214.756364\"/>\r\n     <use style=\"fill:#1f77b4;stroke:#1f77b4;\" x=\"258.713661\" xlink:href=\"#m77e6b4019f\" y=\"214.756364\"/>\r\n     <use style=\"fill:#1f77b4;stroke:#1f77b4;\" x=\"259.151594\" xlink:href=\"#m77e6b4019f\" y=\"214.756364\"/>\r\n     <use style=\"fill:#1f77b4;stroke:#1f77b4;\" x=\"259.589527\" xlink:href=\"#m77e6b4019f\" y=\"214.756364\"/>\r\n     <use style=\"fill:#1f77b4;stroke:#1f77b4;\" x=\"260.027461\" xlink:href=\"#m77e6b4019f\" y=\"214.756364\"/>\r\n     <use style=\"fill:#1f77b4;stroke:#1f77b4;\" x=\"260.465394\" xlink:href=\"#m77e6b4019f\" y=\"214.756364\"/>\r\n     <use style=\"fill:#1f77b4;stroke:#1f77b4;\" x=\"260.903327\" xlink:href=\"#m77e6b4019f\" y=\"214.756364\"/>\r\n     <use style=\"fill:#1f77b4;stroke:#1f77b4;\" x=\"261.341261\" xlink:href=\"#m77e6b4019f\" y=\"214.756364\"/>\r\n     <use style=\"fill:#1f77b4;stroke:#1f77b4;\" x=\"261.779194\" xlink:href=\"#m77e6b4019f\" y=\"214.756364\"/>\r\n     <use style=\"fill:#1f77b4;stroke:#1f77b4;\" x=\"262.217127\" xlink:href=\"#m77e6b4019f\" y=\"214.756364\"/>\r\n     <use style=\"fill:#1f77b4;stroke:#1f77b4;\" x=\"262.65506\" xlink:href=\"#m77e6b4019f\" y=\"214.756364\"/>\r\n     <use style=\"fill:#1f77b4;stroke:#1f77b4;\" x=\"263.092994\" xlink:href=\"#m77e6b4019f\" y=\"214.756364\"/>\r\n     <use style=\"fill:#1f77b4;stroke:#1f77b4;\" x=\"263.530927\" xlink:href=\"#m77e6b4019f\" y=\"214.756364\"/>\r\n     <use style=\"fill:#1f77b4;stroke:#1f77b4;\" x=\"263.96886\" xlink:href=\"#m77e6b4019f\" y=\"214.756364\"/>\r\n     <use style=\"fill:#1f77b4;stroke:#1f77b4;\" x=\"264.406794\" xlink:href=\"#m77e6b4019f\" y=\"214.756364\"/>\r\n     <use style=\"fill:#1f77b4;stroke:#1f77b4;\" x=\"264.844727\" xlink:href=\"#m77e6b4019f\" y=\"214.756364\"/>\r\n     <use style=\"fill:#1f77b4;stroke:#1f77b4;\" x=\"265.28266\" xlink:href=\"#m77e6b4019f\" y=\"214.756364\"/>\r\n     <use style=\"fill:#1f77b4;stroke:#1f77b4;\" x=\"265.720594\" xlink:href=\"#m77e6b4019f\" y=\"214.756364\"/>\r\n     <use style=\"fill:#1f77b4;stroke:#1f77b4;\" x=\"266.158527\" xlink:href=\"#m77e6b4019f\" y=\"214.756364\"/>\r\n     <use style=\"fill:#1f77b4;stroke:#1f77b4;\" x=\"266.59646\" xlink:href=\"#m77e6b4019f\" y=\"214.756364\"/>\r\n     <use style=\"fill:#1f77b4;stroke:#1f77b4;\" x=\"267.034393\" xlink:href=\"#m77e6b4019f\" y=\"214.756364\"/>\r\n     <use style=\"fill:#1f77b4;stroke:#1f77b4;\" x=\"267.472327\" xlink:href=\"#m77e6b4019f\" y=\"214.756364\"/>\r\n     <use style=\"fill:#1f77b4;stroke:#1f77b4;\" x=\"267.91026\" xlink:href=\"#m77e6b4019f\" y=\"214.756364\"/>\r\n     <use style=\"fill:#1f77b4;stroke:#1f77b4;\" x=\"268.348193\" xlink:href=\"#m77e6b4019f\" y=\"214.756364\"/>\r\n     <use style=\"fill:#1f77b4;stroke:#1f77b4;\" x=\"268.786127\" xlink:href=\"#m77e6b4019f\" y=\"214.756364\"/>\r\n     <use style=\"fill:#1f77b4;stroke:#1f77b4;\" x=\"269.22406\" xlink:href=\"#m77e6b4019f\" y=\"214.756364\"/>\r\n     <use style=\"fill:#1f77b4;stroke:#1f77b4;\" x=\"269.661993\" xlink:href=\"#m77e6b4019f\" y=\"214.756364\"/>\r\n     <use style=\"fill:#1f77b4;stroke:#1f77b4;\" x=\"270.099926\" xlink:href=\"#m77e6b4019f\" y=\"214.756364\"/>\r\n     <use style=\"fill:#1f77b4;stroke:#1f77b4;\" x=\"270.53786\" xlink:href=\"#m77e6b4019f\" y=\"214.756364\"/>\r\n     <use style=\"fill:#1f77b4;stroke:#1f77b4;\" x=\"270.975793\" xlink:href=\"#m77e6b4019f\" y=\"214.756364\"/>\r\n     <use style=\"fill:#1f77b4;stroke:#1f77b4;\" x=\"271.413726\" xlink:href=\"#m77e6b4019f\" y=\"214.756364\"/>\r\n     <use style=\"fill:#1f77b4;stroke:#1f77b4;\" x=\"271.85166\" xlink:href=\"#m77e6b4019f\" y=\"214.756364\"/>\r\n     <use style=\"fill:#1f77b4;stroke:#1f77b4;\" x=\"272.289593\" xlink:href=\"#m77e6b4019f\" y=\"214.756364\"/>\r\n     <use style=\"fill:#1f77b4;stroke:#1f77b4;\" x=\"272.727526\" xlink:href=\"#m77e6b4019f\" y=\"214.756364\"/>\r\n     <use style=\"fill:#1f77b4;stroke:#1f77b4;\" x=\"273.165459\" xlink:href=\"#m77e6b4019f\" y=\"214.756364\"/>\r\n     <use style=\"fill:#1f77b4;stroke:#1f77b4;\" x=\"273.603393\" xlink:href=\"#m77e6b4019f\" y=\"214.756364\"/>\r\n     <use style=\"fill:#1f77b4;stroke:#1f77b4;\" x=\"274.041326\" xlink:href=\"#m77e6b4019f\" y=\"214.756364\"/>\r\n     <use style=\"fill:#1f77b4;stroke:#1f77b4;\" x=\"274.479259\" xlink:href=\"#m77e6b4019f\" y=\"214.756364\"/>\r\n     <use style=\"fill:#1f77b4;stroke:#1f77b4;\" x=\"274.917193\" xlink:href=\"#m77e6b4019f\" y=\"214.756364\"/>\r\n     <use style=\"fill:#1f77b4;stroke:#1f77b4;\" x=\"275.355126\" xlink:href=\"#m77e6b4019f\" y=\"214.756364\"/>\r\n     <use style=\"fill:#1f77b4;stroke:#1f77b4;\" x=\"275.793059\" xlink:href=\"#m77e6b4019f\" y=\"214.756364\"/>\r\n     <use style=\"fill:#1f77b4;stroke:#1f77b4;\" x=\"276.230992\" xlink:href=\"#m77e6b4019f\" y=\"214.756364\"/>\r\n     <use style=\"fill:#1f77b4;stroke:#1f77b4;\" x=\"276.668926\" xlink:href=\"#m77e6b4019f\" y=\"214.756364\"/>\r\n     <use style=\"fill:#1f77b4;stroke:#1f77b4;\" x=\"277.106859\" xlink:href=\"#m77e6b4019f\" y=\"214.756364\"/>\r\n     <use style=\"fill:#1f77b4;stroke:#1f77b4;\" x=\"277.544792\" xlink:href=\"#m77e6b4019f\" y=\"214.756364\"/>\r\n     <use style=\"fill:#1f77b4;stroke:#1f77b4;\" x=\"277.982726\" xlink:href=\"#m77e6b4019f\" y=\"214.756364\"/>\r\n     <use style=\"fill:#1f77b4;stroke:#1f77b4;\" x=\"278.420659\" xlink:href=\"#m77e6b4019f\" y=\"214.756364\"/>\r\n     <use style=\"fill:#1f77b4;stroke:#1f77b4;\" x=\"278.858592\" xlink:href=\"#m77e6b4019f\" y=\"214.756364\"/>\r\n     <use style=\"fill:#1f77b4;stroke:#1f77b4;\" x=\"279.296526\" xlink:href=\"#m77e6b4019f\" y=\"214.756364\"/>\r\n     <use style=\"fill:#1f77b4;stroke:#1f77b4;\" x=\"279.734459\" xlink:href=\"#m77e6b4019f\" y=\"214.756364\"/>\r\n     <use style=\"fill:#1f77b4;stroke:#1f77b4;\" x=\"280.172392\" xlink:href=\"#m77e6b4019f\" y=\"214.756364\"/>\r\n     <use style=\"fill:#1f77b4;stroke:#1f77b4;\" x=\"280.610325\" xlink:href=\"#m77e6b4019f\" y=\"214.756364\"/>\r\n     <use style=\"fill:#1f77b4;stroke:#1f77b4;\" x=\"281.048259\" xlink:href=\"#m77e6b4019f\" y=\"214.756364\"/>\r\n     <use style=\"fill:#1f77b4;stroke:#1f77b4;\" x=\"281.486192\" xlink:href=\"#m77e6b4019f\" y=\"214.756364\"/>\r\n     <use style=\"fill:#1f77b4;stroke:#1f77b4;\" x=\"281.924125\" xlink:href=\"#m77e6b4019f\" y=\"214.756364\"/>\r\n     <use style=\"fill:#1f77b4;stroke:#1f77b4;\" x=\"282.362059\" xlink:href=\"#m77e6b4019f\" y=\"214.756364\"/>\r\n     <use style=\"fill:#1f77b4;stroke:#1f77b4;\" x=\"282.799992\" xlink:href=\"#m77e6b4019f\" y=\"214.756364\"/>\r\n     <use style=\"fill:#1f77b4;stroke:#1f77b4;\" x=\"283.237925\" xlink:href=\"#m77e6b4019f\" y=\"214.756364\"/>\r\n     <use style=\"fill:#1f77b4;stroke:#1f77b4;\" x=\"283.675858\" xlink:href=\"#m77e6b4019f\" y=\"214.756364\"/>\r\n     <use style=\"fill:#1f77b4;stroke:#1f77b4;\" x=\"284.113792\" xlink:href=\"#m77e6b4019f\" y=\"214.756364\"/>\r\n     <use style=\"fill:#1f77b4;stroke:#1f77b4;\" x=\"284.551725\" xlink:href=\"#m77e6b4019f\" y=\"214.756364\"/>\r\n     <use style=\"fill:#1f77b4;stroke:#1f77b4;\" x=\"284.989658\" xlink:href=\"#m77e6b4019f\" y=\"214.756364\"/>\r\n     <use style=\"fill:#1f77b4;stroke:#1f77b4;\" x=\"285.427592\" xlink:href=\"#m77e6b4019f\" y=\"214.756364\"/>\r\n     <use style=\"fill:#1f77b4;stroke:#1f77b4;\" x=\"285.865525\" xlink:href=\"#m77e6b4019f\" y=\"214.756364\"/>\r\n     <use style=\"fill:#1f77b4;stroke:#1f77b4;\" x=\"286.303458\" xlink:href=\"#m77e6b4019f\" y=\"214.756364\"/>\r\n     <use style=\"fill:#1f77b4;stroke:#1f77b4;\" x=\"286.741391\" xlink:href=\"#m77e6b4019f\" y=\"214.756364\"/>\r\n     <use style=\"fill:#1f77b4;stroke:#1f77b4;\" x=\"287.179325\" xlink:href=\"#m77e6b4019f\" y=\"214.756364\"/>\r\n     <use style=\"fill:#1f77b4;stroke:#1f77b4;\" x=\"287.617258\" xlink:href=\"#m77e6b4019f\" y=\"214.756364\"/>\r\n     <use style=\"fill:#1f77b4;stroke:#1f77b4;\" x=\"288.055191\" xlink:href=\"#m77e6b4019f\" y=\"214.756364\"/>\r\n     <use style=\"fill:#1f77b4;stroke:#1f77b4;\" x=\"288.493125\" xlink:href=\"#m77e6b4019f\" y=\"214.756364\"/>\r\n     <use style=\"fill:#1f77b4;stroke:#1f77b4;\" x=\"288.931058\" xlink:href=\"#m77e6b4019f\" y=\"214.756364\"/>\r\n     <use style=\"fill:#1f77b4;stroke:#1f77b4;\" x=\"289.368991\" xlink:href=\"#m77e6b4019f\" y=\"214.756364\"/>\r\n     <use style=\"fill:#1f77b4;stroke:#1f77b4;\" x=\"289.806924\" xlink:href=\"#m77e6b4019f\" y=\"214.756364\"/>\r\n     <use style=\"fill:#1f77b4;stroke:#1f77b4;\" x=\"290.244858\" xlink:href=\"#m77e6b4019f\" y=\"214.756364\"/>\r\n     <use style=\"fill:#1f77b4;stroke:#1f77b4;\" x=\"290.682791\" xlink:href=\"#m77e6b4019f\" y=\"214.756364\"/>\r\n     <use style=\"fill:#1f77b4;stroke:#1f77b4;\" x=\"291.120724\" xlink:href=\"#m77e6b4019f\" y=\"214.756364\"/>\r\n     <use style=\"fill:#1f77b4;stroke:#1f77b4;\" x=\"291.558658\" xlink:href=\"#m77e6b4019f\" y=\"214.756364\"/>\r\n     <use style=\"fill:#1f77b4;stroke:#1f77b4;\" x=\"291.996591\" xlink:href=\"#m77e6b4019f\" y=\"214.756364\"/>\r\n     <use style=\"fill:#1f77b4;stroke:#1f77b4;\" x=\"292.434524\" xlink:href=\"#m77e6b4019f\" y=\"214.756364\"/>\r\n     <use style=\"fill:#1f77b4;stroke:#1f77b4;\" x=\"292.872457\" xlink:href=\"#m77e6b4019f\" y=\"214.756364\"/>\r\n     <use style=\"fill:#1f77b4;stroke:#1f77b4;\" x=\"293.310391\" xlink:href=\"#m77e6b4019f\" y=\"214.756364\"/>\r\n     <use style=\"fill:#1f77b4;stroke:#1f77b4;\" x=\"293.748324\" xlink:href=\"#m77e6b4019f\" y=\"214.756364\"/>\r\n     <use style=\"fill:#1f77b4;stroke:#1f77b4;\" x=\"294.186257\" xlink:href=\"#m77e6b4019f\" y=\"214.756364\"/>\r\n     <use style=\"fill:#1f77b4;stroke:#1f77b4;\" x=\"294.624191\" xlink:href=\"#m77e6b4019f\" y=\"214.756364\"/>\r\n     <use style=\"fill:#1f77b4;stroke:#1f77b4;\" x=\"295.062124\" xlink:href=\"#m77e6b4019f\" y=\"214.756364\"/>\r\n     <use style=\"fill:#1f77b4;stroke:#1f77b4;\" x=\"295.500057\" xlink:href=\"#m77e6b4019f\" y=\"214.756364\"/>\r\n     <use style=\"fill:#1f77b4;stroke:#1f77b4;\" x=\"295.937991\" xlink:href=\"#m77e6b4019f\" y=\"214.756364\"/>\r\n     <use style=\"fill:#1f77b4;stroke:#1f77b4;\" x=\"296.375924\" xlink:href=\"#m77e6b4019f\" y=\"214.756364\"/>\r\n     <use style=\"fill:#1f77b4;stroke:#1f77b4;\" x=\"296.813857\" xlink:href=\"#m77e6b4019f\" y=\"214.756364\"/>\r\n     <use style=\"fill:#1f77b4;stroke:#1f77b4;\" x=\"297.25179\" xlink:href=\"#m77e6b4019f\" y=\"214.756364\"/>\r\n     <use style=\"fill:#1f77b4;stroke:#1f77b4;\" x=\"297.689724\" xlink:href=\"#m77e6b4019f\" y=\"214.756364\"/>\r\n     <use style=\"fill:#1f77b4;stroke:#1f77b4;\" x=\"298.127657\" xlink:href=\"#m77e6b4019f\" y=\"214.756364\"/>\r\n     <use style=\"fill:#1f77b4;stroke:#1f77b4;\" x=\"298.56559\" xlink:href=\"#m77e6b4019f\" y=\"214.756364\"/>\r\n     <use style=\"fill:#1f77b4;stroke:#1f77b4;\" x=\"299.003524\" xlink:href=\"#m77e6b4019f\" y=\"214.756364\"/>\r\n     <use style=\"fill:#1f77b4;stroke:#1f77b4;\" x=\"299.441457\" xlink:href=\"#m77e6b4019f\" y=\"214.756364\"/>\r\n     <use style=\"fill:#1f77b4;stroke:#1f77b4;\" x=\"299.87939\" xlink:href=\"#m77e6b4019f\" y=\"214.756364\"/>\r\n     <use style=\"fill:#1f77b4;stroke:#1f77b4;\" x=\"300.317323\" xlink:href=\"#m77e6b4019f\" y=\"214.756364\"/>\r\n     <use style=\"fill:#1f77b4;stroke:#1f77b4;\" x=\"300.755257\" xlink:href=\"#m77e6b4019f\" y=\"214.756364\"/>\r\n     <use style=\"fill:#1f77b4;stroke:#1f77b4;\" x=\"301.19319\" xlink:href=\"#m77e6b4019f\" y=\"214.756364\"/>\r\n     <use style=\"fill:#1f77b4;stroke:#1f77b4;\" x=\"301.631123\" xlink:href=\"#m77e6b4019f\" y=\"214.756364\"/>\r\n     <use style=\"fill:#1f77b4;stroke:#1f77b4;\" x=\"302.069057\" xlink:href=\"#m77e6b4019f\" y=\"214.756364\"/>\r\n     <use style=\"fill:#1f77b4;stroke:#1f77b4;\" x=\"302.50699\" xlink:href=\"#m77e6b4019f\" y=\"214.756364\"/>\r\n     <use style=\"fill:#1f77b4;stroke:#1f77b4;\" x=\"302.944923\" xlink:href=\"#m77e6b4019f\" y=\"214.756364\"/>\r\n     <use style=\"fill:#1f77b4;stroke:#1f77b4;\" x=\"303.382856\" xlink:href=\"#m77e6b4019f\" y=\"214.756364\"/>\r\n     <use style=\"fill:#1f77b4;stroke:#1f77b4;\" x=\"303.82079\" xlink:href=\"#m77e6b4019f\" y=\"214.756364\"/>\r\n     <use style=\"fill:#1f77b4;stroke:#1f77b4;\" x=\"304.258723\" xlink:href=\"#m77e6b4019f\" y=\"214.756364\"/>\r\n     <use style=\"fill:#1f77b4;stroke:#1f77b4;\" x=\"304.696656\" xlink:href=\"#m77e6b4019f\" y=\"214.756364\"/>\r\n     <use style=\"fill:#1f77b4;stroke:#1f77b4;\" x=\"305.13459\" xlink:href=\"#m77e6b4019f\" y=\"214.756364\"/>\r\n     <use style=\"fill:#1f77b4;stroke:#1f77b4;\" x=\"305.572523\" xlink:href=\"#m77e6b4019f\" y=\"214.756364\"/>\r\n     <use style=\"fill:#1f77b4;stroke:#1f77b4;\" x=\"306.010456\" xlink:href=\"#m77e6b4019f\" y=\"214.756364\"/>\r\n     <use style=\"fill:#1f77b4;stroke:#1f77b4;\" x=\"306.448389\" xlink:href=\"#m77e6b4019f\" y=\"214.756364\"/>\r\n     <use style=\"fill:#1f77b4;stroke:#1f77b4;\" x=\"306.886323\" xlink:href=\"#m77e6b4019f\" y=\"214.756364\"/>\r\n     <use style=\"fill:#1f77b4;stroke:#1f77b4;\" x=\"307.324256\" xlink:href=\"#m77e6b4019f\" y=\"214.756364\"/>\r\n     <use style=\"fill:#1f77b4;stroke:#1f77b4;\" x=\"307.762189\" xlink:href=\"#m77e6b4019f\" y=\"214.756364\"/>\r\n     <use style=\"fill:#1f77b4;stroke:#1f77b4;\" x=\"308.200123\" xlink:href=\"#m77e6b4019f\" y=\"214.756364\"/>\r\n     <use style=\"fill:#1f77b4;stroke:#1f77b4;\" x=\"308.638056\" xlink:href=\"#m77e6b4019f\" y=\"214.756364\"/>\r\n     <use style=\"fill:#1f77b4;stroke:#1f77b4;\" x=\"309.075989\" xlink:href=\"#m77e6b4019f\" y=\"214.756364\"/>\r\n     <use style=\"fill:#1f77b4;stroke:#1f77b4;\" x=\"309.513922\" xlink:href=\"#m77e6b4019f\" y=\"214.756364\"/>\r\n     <use style=\"fill:#1f77b4;stroke:#1f77b4;\" x=\"309.951856\" xlink:href=\"#m77e6b4019f\" y=\"214.756364\"/>\r\n     <use style=\"fill:#1f77b4;stroke:#1f77b4;\" x=\"310.389789\" xlink:href=\"#m77e6b4019f\" y=\"214.756364\"/>\r\n     <use style=\"fill:#1f77b4;stroke:#1f77b4;\" x=\"310.827722\" xlink:href=\"#m77e6b4019f\" y=\"214.756364\"/>\r\n     <use style=\"fill:#1f77b4;stroke:#1f77b4;\" x=\"311.265656\" xlink:href=\"#m77e6b4019f\" y=\"214.756364\"/>\r\n     <use style=\"fill:#1f77b4;stroke:#1f77b4;\" x=\"311.703589\" xlink:href=\"#m77e6b4019f\" y=\"214.756364\"/>\r\n     <use style=\"fill:#1f77b4;stroke:#1f77b4;\" x=\"312.141522\" xlink:href=\"#m77e6b4019f\" y=\"214.756364\"/>\r\n     <use style=\"fill:#1f77b4;stroke:#1f77b4;\" x=\"312.579456\" xlink:href=\"#m77e6b4019f\" y=\"214.756364\"/>\r\n     <use style=\"fill:#1f77b4;stroke:#1f77b4;\" x=\"313.017389\" xlink:href=\"#m77e6b4019f\" y=\"214.756364\"/>\r\n     <use style=\"fill:#1f77b4;stroke:#1f77b4;\" x=\"313.455322\" xlink:href=\"#m77e6b4019f\" y=\"214.756364\"/>\r\n     <use style=\"fill:#1f77b4;stroke:#1f77b4;\" x=\"313.893255\" xlink:href=\"#m77e6b4019f\" y=\"214.756364\"/>\r\n     <use style=\"fill:#1f77b4;stroke:#1f77b4;\" x=\"314.331189\" xlink:href=\"#m77e6b4019f\" y=\"214.756364\"/>\r\n     <use style=\"fill:#1f77b4;stroke:#1f77b4;\" x=\"314.769122\" xlink:href=\"#m77e6b4019f\" y=\"214.756364\"/>\r\n     <use style=\"fill:#1f77b4;stroke:#1f77b4;\" x=\"315.207055\" xlink:href=\"#m77e6b4019f\" y=\"214.756364\"/>\r\n     <use style=\"fill:#1f77b4;stroke:#1f77b4;\" x=\"315.644989\" xlink:href=\"#m77e6b4019f\" y=\"214.756364\"/>\r\n     <use style=\"fill:#1f77b4;stroke:#1f77b4;\" x=\"316.082922\" xlink:href=\"#m77e6b4019f\" y=\"214.756364\"/>\r\n     <use style=\"fill:#1f77b4;stroke:#1f77b4;\" x=\"316.520855\" xlink:href=\"#m77e6b4019f\" y=\"214.756364\"/>\r\n     <use style=\"fill:#1f77b4;stroke:#1f77b4;\" x=\"316.958788\" xlink:href=\"#m77e6b4019f\" y=\"214.756364\"/>\r\n     <use style=\"fill:#1f77b4;stroke:#1f77b4;\" x=\"317.396722\" xlink:href=\"#m77e6b4019f\" y=\"214.756364\"/>\r\n     <use style=\"fill:#1f77b4;stroke:#1f77b4;\" x=\"317.834655\" xlink:href=\"#m77e6b4019f\" y=\"214.756364\"/>\r\n     <use style=\"fill:#1f77b4;stroke:#1f77b4;\" x=\"318.272588\" xlink:href=\"#m77e6b4019f\" y=\"214.756364\"/>\r\n     <use style=\"fill:#1f77b4;stroke:#1f77b4;\" x=\"318.710522\" xlink:href=\"#m77e6b4019f\" y=\"214.756364\"/>\r\n     <use style=\"fill:#1f77b4;stroke:#1f77b4;\" x=\"319.148455\" xlink:href=\"#m77e6b4019f\" y=\"214.756364\"/>\r\n     <use style=\"fill:#1f77b4;stroke:#1f77b4;\" x=\"319.586388\" xlink:href=\"#m77e6b4019f\" y=\"214.756364\"/>\r\n     <use style=\"fill:#1f77b4;stroke:#1f77b4;\" x=\"320.024321\" xlink:href=\"#m77e6b4019f\" y=\"214.756364\"/>\r\n     <use style=\"fill:#1f77b4;stroke:#1f77b4;\" x=\"320.462255\" xlink:href=\"#m77e6b4019f\" y=\"214.756364\"/>\r\n     <use style=\"fill:#1f77b4;stroke:#1f77b4;\" x=\"320.900188\" xlink:href=\"#m77e6b4019f\" y=\"214.756364\"/>\r\n     <use style=\"fill:#1f77b4;stroke:#1f77b4;\" x=\"321.338121\" xlink:href=\"#m77e6b4019f\" y=\"214.756364\"/>\r\n     <use style=\"fill:#1f77b4;stroke:#1f77b4;\" x=\"321.776055\" xlink:href=\"#m77e6b4019f\" y=\"214.756364\"/>\r\n     <use style=\"fill:#1f77b4;stroke:#1f77b4;\" x=\"322.213988\" xlink:href=\"#m77e6b4019f\" y=\"214.756364\"/>\r\n     <use style=\"fill:#1f77b4;stroke:#1f77b4;\" x=\"322.651921\" xlink:href=\"#m77e6b4019f\" y=\"214.756364\"/>\r\n     <use style=\"fill:#1f77b4;stroke:#1f77b4;\" x=\"323.089854\" xlink:href=\"#m77e6b4019f\" y=\"214.756364\"/>\r\n     <use style=\"fill:#1f77b4;stroke:#1f77b4;\" x=\"323.527788\" xlink:href=\"#m77e6b4019f\" y=\"214.756364\"/>\r\n     <use style=\"fill:#1f77b4;stroke:#1f77b4;\" x=\"323.965721\" xlink:href=\"#m77e6b4019f\" y=\"214.756364\"/>\r\n     <use style=\"fill:#1f77b4;stroke:#1f77b4;\" x=\"324.403654\" xlink:href=\"#m77e6b4019f\" y=\"214.756364\"/>\r\n     <use style=\"fill:#1f77b4;stroke:#1f77b4;\" x=\"324.841588\" xlink:href=\"#m77e6b4019f\" y=\"214.756364\"/>\r\n     <use style=\"fill:#1f77b4;stroke:#1f77b4;\" x=\"325.279521\" xlink:href=\"#m77e6b4019f\" y=\"214.756364\"/>\r\n     <use style=\"fill:#1f77b4;stroke:#1f77b4;\" x=\"325.717454\" xlink:href=\"#m77e6b4019f\" y=\"214.756364\"/>\r\n     <use style=\"fill:#1f77b4;stroke:#1f77b4;\" x=\"326.155388\" xlink:href=\"#m77e6b4019f\" y=\"214.756364\"/>\r\n     <use style=\"fill:#1f77b4;stroke:#1f77b4;\" x=\"326.593321\" xlink:href=\"#m77e6b4019f\" y=\"214.756364\"/>\r\n     <use style=\"fill:#1f77b4;stroke:#1f77b4;\" x=\"327.031254\" xlink:href=\"#m77e6b4019f\" y=\"214.756364\"/>\r\n     <use style=\"fill:#1f77b4;stroke:#1f77b4;\" x=\"327.469187\" xlink:href=\"#m77e6b4019f\" y=\"214.756364\"/>\r\n     <use style=\"fill:#1f77b4;stroke:#1f77b4;\" x=\"327.907121\" xlink:href=\"#m77e6b4019f\" y=\"214.756364\"/>\r\n     <use style=\"fill:#1f77b4;stroke:#1f77b4;\" x=\"328.345054\" xlink:href=\"#m77e6b4019f\" y=\"214.756364\"/>\r\n     <use style=\"fill:#1f77b4;stroke:#1f77b4;\" x=\"328.782987\" xlink:href=\"#m77e6b4019f\" y=\"214.756364\"/>\r\n     <use style=\"fill:#1f77b4;stroke:#1f77b4;\" x=\"329.220921\" xlink:href=\"#m77e6b4019f\" y=\"214.756364\"/>\r\n     <use style=\"fill:#1f77b4;stroke:#1f77b4;\" x=\"329.658854\" xlink:href=\"#m77e6b4019f\" y=\"214.756364\"/>\r\n     <use style=\"fill:#1f77b4;stroke:#1f77b4;\" x=\"330.096787\" xlink:href=\"#m77e6b4019f\" y=\"214.756364\"/>\r\n     <use style=\"fill:#1f77b4;stroke:#1f77b4;\" x=\"330.53472\" xlink:href=\"#m77e6b4019f\" y=\"214.756364\"/>\r\n     <use style=\"fill:#1f77b4;stroke:#1f77b4;\" x=\"330.972654\" xlink:href=\"#m77e6b4019f\" y=\"214.756364\"/>\r\n     <use style=\"fill:#1f77b4;stroke:#1f77b4;\" x=\"331.410587\" xlink:href=\"#m77e6b4019f\" y=\"214.756364\"/>\r\n     <use style=\"fill:#1f77b4;stroke:#1f77b4;\" x=\"331.84852\" xlink:href=\"#m77e6b4019f\" y=\"214.756364\"/>\r\n     <use style=\"fill:#1f77b4;stroke:#1f77b4;\" x=\"332.286454\" xlink:href=\"#m77e6b4019f\" y=\"214.756364\"/>\r\n     <use style=\"fill:#1f77b4;stroke:#1f77b4;\" x=\"332.724387\" xlink:href=\"#m77e6b4019f\" y=\"214.756364\"/>\r\n     <use style=\"fill:#1f77b4;stroke:#1f77b4;\" x=\"333.16232\" xlink:href=\"#m77e6b4019f\" y=\"214.756364\"/>\r\n     <use style=\"fill:#1f77b4;stroke:#1f77b4;\" x=\"333.600253\" xlink:href=\"#m77e6b4019f\" y=\"214.756364\"/>\r\n     <use style=\"fill:#1f77b4;stroke:#1f77b4;\" x=\"334.038187\" xlink:href=\"#m77e6b4019f\" y=\"214.756364\"/>\r\n     <use style=\"fill:#1f77b4;stroke:#1f77b4;\" x=\"334.47612\" xlink:href=\"#m77e6b4019f\" y=\"214.756364\"/>\r\n     <use style=\"fill:#1f77b4;stroke:#1f77b4;\" x=\"334.914053\" xlink:href=\"#m77e6b4019f\" y=\"214.756364\"/>\r\n     <use style=\"fill:#1f77b4;stroke:#1f77b4;\" x=\"335.351987\" xlink:href=\"#m77e6b4019f\" y=\"214.756364\"/>\r\n     <use style=\"fill:#1f77b4;stroke:#1f77b4;\" x=\"335.78992\" xlink:href=\"#m77e6b4019f\" y=\"214.756364\"/>\r\n     <use style=\"fill:#1f77b4;stroke:#1f77b4;\" x=\"336.227853\" xlink:href=\"#m77e6b4019f\" y=\"214.756364\"/>\r\n     <use style=\"fill:#1f77b4;stroke:#1f77b4;\" x=\"336.665786\" xlink:href=\"#m77e6b4019f\" y=\"214.756364\"/>\r\n     <use style=\"fill:#1f77b4;stroke:#1f77b4;\" x=\"337.10372\" xlink:href=\"#m77e6b4019f\" y=\"214.756364\"/>\r\n     <use style=\"fill:#1f77b4;stroke:#1f77b4;\" x=\"337.541653\" xlink:href=\"#m77e6b4019f\" y=\"214.756364\"/>\r\n     <use style=\"fill:#1f77b4;stroke:#1f77b4;\" x=\"337.979586\" xlink:href=\"#m77e6b4019f\" y=\"214.756364\"/>\r\n     <use style=\"fill:#1f77b4;stroke:#1f77b4;\" x=\"338.41752\" xlink:href=\"#m77e6b4019f\" y=\"214.756364\"/>\r\n     <use style=\"fill:#1f77b4;stroke:#1f77b4;\" x=\"338.855453\" xlink:href=\"#m77e6b4019f\" y=\"214.756364\"/>\r\n     <use style=\"fill:#1f77b4;stroke:#1f77b4;\" x=\"339.293386\" xlink:href=\"#m77e6b4019f\" y=\"214.756364\"/>\r\n     <use style=\"fill:#1f77b4;stroke:#1f77b4;\" x=\"339.731319\" xlink:href=\"#m77e6b4019f\" y=\"214.756364\"/>\r\n     <use style=\"fill:#1f77b4;stroke:#1f77b4;\" x=\"340.169253\" xlink:href=\"#m77e6b4019f\" y=\"214.756364\"/>\r\n     <use style=\"fill:#1f77b4;stroke:#1f77b4;\" x=\"340.607186\" xlink:href=\"#m77e6b4019f\" y=\"214.756364\"/>\r\n     <use style=\"fill:#1f77b4;stroke:#1f77b4;\" x=\"341.045119\" xlink:href=\"#m77e6b4019f\" y=\"214.756364\"/>\r\n     <use style=\"fill:#1f77b4;stroke:#1f77b4;\" x=\"341.483053\" xlink:href=\"#m77e6b4019f\" y=\"214.756364\"/>\r\n     <use style=\"fill:#1f77b4;stroke:#1f77b4;\" x=\"341.920986\" xlink:href=\"#m77e6b4019f\" y=\"214.756364\"/>\r\n     <use style=\"fill:#1f77b4;stroke:#1f77b4;\" x=\"342.358919\" xlink:href=\"#m77e6b4019f\" y=\"214.756364\"/>\r\n     <use style=\"fill:#1f77b4;stroke:#1f77b4;\" x=\"342.796853\" xlink:href=\"#m77e6b4019f\" y=\"214.756364\"/>\r\n     <use style=\"fill:#1f77b4;stroke:#1f77b4;\" x=\"343.234786\" xlink:href=\"#m77e6b4019f\" y=\"214.756364\"/>\r\n     <use style=\"fill:#1f77b4;stroke:#1f77b4;\" x=\"343.672719\" xlink:href=\"#m77e6b4019f\" y=\"214.756364\"/>\r\n     <use style=\"fill:#1f77b4;stroke:#1f77b4;\" x=\"344.110652\" xlink:href=\"#m77e6b4019f\" y=\"214.756364\"/>\r\n     <use style=\"fill:#1f77b4;stroke:#1f77b4;\" x=\"344.548586\" xlink:href=\"#m77e6b4019f\" y=\"214.756364\"/>\r\n     <use style=\"fill:#1f77b4;stroke:#1f77b4;\" x=\"344.986519\" xlink:href=\"#m77e6b4019f\" y=\"214.756364\"/>\r\n     <use style=\"fill:#1f77b4;stroke:#1f77b4;\" x=\"345.424452\" xlink:href=\"#m77e6b4019f\" y=\"214.756364\"/>\r\n     <use style=\"fill:#1f77b4;stroke:#1f77b4;\" x=\"345.862386\" xlink:href=\"#m77e6b4019f\" y=\"214.756364\"/>\r\n     <use style=\"fill:#1f77b4;stroke:#1f77b4;\" x=\"346.300319\" xlink:href=\"#m77e6b4019f\" y=\"214.756364\"/>\r\n     <use style=\"fill:#1f77b4;stroke:#1f77b4;\" x=\"346.738252\" xlink:href=\"#m77e6b4019f\" y=\"214.756364\"/>\r\n     <use style=\"fill:#1f77b4;stroke:#1f77b4;\" x=\"347.176185\" xlink:href=\"#m77e6b4019f\" y=\"214.756364\"/>\r\n     <use style=\"fill:#1f77b4;stroke:#1f77b4;\" x=\"347.614119\" xlink:href=\"#m77e6b4019f\" y=\"214.756364\"/>\r\n     <use style=\"fill:#1f77b4;stroke:#1f77b4;\" x=\"348.052052\" xlink:href=\"#m77e6b4019f\" y=\"214.756364\"/>\r\n     <use style=\"fill:#1f77b4;stroke:#1f77b4;\" x=\"348.489985\" xlink:href=\"#m77e6b4019f\" y=\"214.756364\"/>\r\n     <use style=\"fill:#1f77b4;stroke:#1f77b4;\" x=\"348.927919\" xlink:href=\"#m77e6b4019f\" y=\"214.756364\"/>\r\n     <use style=\"fill:#1f77b4;stroke:#1f77b4;\" x=\"349.365852\" xlink:href=\"#m77e6b4019f\" y=\"214.756364\"/>\r\n     <use style=\"fill:#1f77b4;stroke:#1f77b4;\" x=\"349.803785\" xlink:href=\"#m77e6b4019f\" y=\"214.756364\"/>\r\n     <use style=\"fill:#1f77b4;stroke:#1f77b4;\" x=\"350.241718\" xlink:href=\"#m77e6b4019f\" y=\"214.756364\"/>\r\n     <use style=\"fill:#1f77b4;stroke:#1f77b4;\" x=\"350.679652\" xlink:href=\"#m77e6b4019f\" y=\"214.756364\"/>\r\n     <use style=\"fill:#1f77b4;stroke:#1f77b4;\" x=\"351.117585\" xlink:href=\"#m77e6b4019f\" y=\"214.756364\"/>\r\n     <use style=\"fill:#1f77b4;stroke:#1f77b4;\" x=\"351.555518\" xlink:href=\"#m77e6b4019f\" y=\"214.756364\"/>\r\n     <use style=\"fill:#1f77b4;stroke:#1f77b4;\" x=\"351.993452\" xlink:href=\"#m77e6b4019f\" y=\"214.756364\"/>\r\n     <use style=\"fill:#1f77b4;stroke:#1f77b4;\" x=\"352.431385\" xlink:href=\"#m77e6b4019f\" y=\"214.756364\"/>\r\n     <use style=\"fill:#1f77b4;stroke:#1f77b4;\" x=\"352.869318\" xlink:href=\"#m77e6b4019f\" y=\"214.756364\"/>\r\n    </g>\r\n   </g>\r\n   <g id=\"PathCollection_2\">\r\n    <defs>\r\n     <path d=\"M 0 3 \r\nC 0.795609 3 1.55874 2.683901 2.12132 2.12132 \r\nC 2.683901 1.55874 3 0.795609 3 0 \r\nC 3 -0.795609 2.683901 -1.55874 2.12132 -2.12132 \r\nC 1.55874 -2.683901 0.795609 -3 0 -3 \r\nC -0.795609 -3 -1.55874 -2.683901 -2.12132 -2.12132 \r\nC -2.683901 -1.55874 -3 -0.795609 -3 0 \r\nC -3 0.795609 -2.683901 1.55874 -2.12132 2.12132 \r\nC -1.55874 2.683901 -0.795609 3 0 3 \r\nz\r\n\" id=\"md225a8457d\" style=\"stroke:#ff7f0e;\"/>\r\n    </defs>\r\n    <g clip-path=\"url(#pa1d7a5a7cb)\">\r\n     <use style=\"fill:#ff7f0e;stroke:#ff7f0e;\" x=\"48.505682\" xlink:href=\"#md225a8457d\" y=\"214.496245\"/>\r\n     <use style=\"fill:#ff7f0e;stroke:#ff7f0e;\" x=\"48.943615\" xlink:href=\"#md225a8457d\" y=\"214.456317\"/>\r\n     <use style=\"fill:#ff7f0e;stroke:#ff7f0e;\" x=\"49.381548\" xlink:href=\"#md225a8457d\" y=\"214.410205\"/>\r\n     <use style=\"fill:#ff7f0e;stroke:#ff7f0e;\" x=\"49.819482\" xlink:href=\"#md225a8457d\" y=\"214.357104\"/>\r\n     <use style=\"fill:#ff7f0e;stroke:#ff7f0e;\" x=\"50.257415\" xlink:href=\"#md225a8457d\" y=\"214.295968\"/>\r\n     <use style=\"fill:#ff7f0e;stroke:#ff7f0e;\" x=\"50.695348\" xlink:href=\"#md225a8457d\" y=\"214.225321\"/>\r\n     <use style=\"fill:#ff7f0e;stroke:#ff7f0e;\" x=\"51.133282\" xlink:href=\"#md225a8457d\" y=\"214.143684\"/>\r\n     <use style=\"fill:#ff7f0e;stroke:#ff7f0e;\" x=\"51.571215\" xlink:href=\"#md225a8457d\" y=\"214.049575\"/>\r\n     <use style=\"fill:#ff7f0e;stroke:#ff7f0e;\" x=\"52.009148\" xlink:href=\"#md225a8457d\" y=\"213.941011\"/>\r\n     <use style=\"fill:#ff7f0e;stroke:#ff7f0e;\" x=\"52.447081\" xlink:href=\"#md225a8457d\" y=\"213.815917\"/>\r\n     <use style=\"fill:#ff7f0e;stroke:#ff7f0e;\" x=\"52.885015\" xlink:href=\"#md225a8457d\" y=\"213.672707\"/>\r\n     <use style=\"fill:#ff7f0e;stroke:#ff7f0e;\" x=\"53.322948\" xlink:href=\"#md225a8457d\" y=\"213.507402\"/>\r\n     <use style=\"fill:#ff7f0e;stroke:#ff7f0e;\" x=\"53.760881\" xlink:href=\"#md225a8457d\" y=\"213.315928\"/>\r\n     <use style=\"fill:#ff7f0e;stroke:#ff7f0e;\" x=\"54.198815\" xlink:href=\"#md225a8457d\" y=\"213.094212\"/>\r\n     <use style=\"fill:#ff7f0e;stroke:#ff7f0e;\" x=\"54.636748\" xlink:href=\"#md225a8457d\" y=\"212.838179\"/>\r\n     <use style=\"fill:#ff7f0e;stroke:#ff7f0e;\" x=\"55.074681\" xlink:href=\"#md225a8457d\" y=\"212.543756\"/>\r\n     <use style=\"fill:#ff7f0e;stroke:#ff7f0e;\" x=\"55.512614\" xlink:href=\"#md225a8457d\" y=\"212.206617\"/>\r\n     <use style=\"fill:#ff7f0e;stroke:#ff7f0e;\" x=\"55.950548\" xlink:href=\"#md225a8457d\" y=\"211.81759\"/>\r\n     <use style=\"fill:#ff7f0e;stroke:#ff7f0e;\" x=\"56.388481\" xlink:href=\"#md225a8457d\" y=\"211.368745\"/>\r\n     <use style=\"fill:#ff7f0e;stroke:#ff7f0e;\" x=\"56.826414\" xlink:href=\"#md225a8457d\" y=\"213.67016\"/>\r\n     <use style=\"fill:#ff7f0e;stroke:#ff7f0e;\" x=\"57.264348\" xlink:href=\"#md225a8457d\" y=\"213.678154\"/>\r\n     <use style=\"fill:#ff7f0e;stroke:#ff7f0e;\" x=\"57.702281\" xlink:href=\"#md225a8457d\" y=\"213.686095\"/>\r\n     <use style=\"fill:#ff7f0e;stroke:#ff7f0e;\" x=\"58.140214\" xlink:href=\"#md225a8457d\" y=\"213.693984\"/>\r\n     <use style=\"fill:#ff7f0e;stroke:#ff7f0e;\" x=\"58.578147\" xlink:href=\"#md225a8457d\" y=\"213.70182\"/>\r\n     <use style=\"fill:#ff7f0e;stroke:#ff7f0e;\" x=\"59.016081\" xlink:href=\"#md225a8457d\" y=\"213.709603\"/>\r\n     <use style=\"fill:#ff7f0e;stroke:#ff7f0e;\" x=\"59.454014\" xlink:href=\"#md225a8457d\" y=\"213.717335\"/>\r\n     <use style=\"fill:#ff7f0e;stroke:#ff7f0e;\" x=\"59.891947\" xlink:href=\"#md225a8457d\" y=\"213.725015\"/>\r\n     <use style=\"fill:#ff7f0e;stroke:#ff7f0e;\" x=\"60.329881\" xlink:href=\"#md225a8457d\" y=\"213.732644\"/>\r\n     <use style=\"fill:#ff7f0e;stroke:#ff7f0e;\" x=\"60.767814\" xlink:href=\"#md225a8457d\" y=\"213.740222\"/>\r\n     <use style=\"fill:#ff7f0e;stroke:#ff7f0e;\" x=\"61.205747\" xlink:href=\"#md225a8457d\" y=\"213.747748\"/>\r\n     <use style=\"fill:#ff7f0e;stroke:#ff7f0e;\" x=\"61.643681\" xlink:href=\"#md225a8457d\" y=\"213.755224\"/>\r\n     <use style=\"fill:#ff7f0e;stroke:#ff7f0e;\" x=\"62.081614\" xlink:href=\"#md225a8457d\" y=\"213.76265\"/>\r\n     <use style=\"fill:#ff7f0e;stroke:#ff7f0e;\" x=\"62.519547\" xlink:href=\"#md225a8457d\" y=\"213.770025\"/>\r\n     <use style=\"fill:#ff7f0e;stroke:#ff7f0e;\" x=\"62.95748\" xlink:href=\"#md225a8457d\" y=\"213.777351\"/>\r\n     <use style=\"fill:#ff7f0e;stroke:#ff7f0e;\" x=\"63.395414\" xlink:href=\"#md225a8457d\" y=\"213.784627\"/>\r\n     <use style=\"fill:#ff7f0e;stroke:#ff7f0e;\" x=\"63.833347\" xlink:href=\"#md225a8457d\" y=\"213.791853\"/>\r\n     <use style=\"fill:#ff7f0e;stroke:#ff7f0e;\" x=\"64.27128\" xlink:href=\"#md225a8457d\" y=\"213.79903\"/>\r\n     <use style=\"fill:#ff7f0e;stroke:#ff7f0e;\" x=\"64.709214\" xlink:href=\"#md225a8457d\" y=\"213.806159\"/>\r\n     <use style=\"fill:#ff7f0e;stroke:#ff7f0e;\" x=\"65.58508\" xlink:href=\"#md225a8457d\" y=\"213.150548\"/>\r\n     <use style=\"fill:#ff7f0e;stroke:#ff7f0e;\" x=\"66.023013\" xlink:href=\"#md225a8457d\" y=\"213.093127\"/>\r\n     <use style=\"fill:#ff7f0e;stroke:#ff7f0e;\" x=\"66.460947\" xlink:href=\"#md225a8457d\" y=\"213.033646\"/>\r\n     <use style=\"fill:#ff7f0e;stroke:#ff7f0e;\" x=\"66.89888\" xlink:href=\"#md225a8457d\" y=\"212.972026\"/>\r\n     <use style=\"fill:#ff7f0e;stroke:#ff7f0e;\" x=\"67.336813\" xlink:href=\"#md225a8457d\" y=\"212.908315\"/>\r\n     <use style=\"fill:#ff7f0e;stroke:#ff7f0e;\" x=\"67.774747\" xlink:href=\"#md225a8457d\" y=\"212.842426\"/>\r\n     <use style=\"fill:#ff7f0e;stroke:#ff7f0e;\" x=\"68.21268\" xlink:href=\"#md225a8457d\" y=\"212.774267\"/>\r\n     <use style=\"fill:#ff7f0e;stroke:#ff7f0e;\" x=\"68.650613\" xlink:href=\"#md225a8457d\" y=\"212.703744\"/>\r\n     <use style=\"fill:#ff7f0e;stroke:#ff7f0e;\" x=\"69.088546\" xlink:href=\"#md225a8457d\" y=\"212.630766\"/>\r\n     <use style=\"fill:#ff7f0e;stroke:#ff7f0e;\" x=\"69.52648\" xlink:href=\"#md225a8457d\" y=\"212.55524\"/>\r\n     <use style=\"fill:#ff7f0e;stroke:#ff7f0e;\" x=\"69.964413\" xlink:href=\"#md225a8457d\" y=\"212.477074\"/>\r\n     <use style=\"fill:#ff7f0e;stroke:#ff7f0e;\" x=\"70.402346\" xlink:href=\"#md225a8457d\" y=\"212.396175\"/>\r\n     <use style=\"fill:#ff7f0e;stroke:#ff7f0e;\" x=\"70.84028\" xlink:href=\"#md225a8457d\" y=\"212.312451\"/>\r\n     <use style=\"fill:#ff7f0e;stroke:#ff7f0e;\" x=\"71.278213\" xlink:href=\"#md225a8457d\" y=\"212.225809\"/>\r\n     <use style=\"fill:#ff7f0e;stroke:#ff7f0e;\" x=\"71.716146\" xlink:href=\"#md225a8457d\" y=\"212.136158\"/>\r\n     <use style=\"fill:#ff7f0e;stroke:#ff7f0e;\" x=\"72.154079\" xlink:href=\"#md225a8457d\" y=\"212.043404\"/>\r\n     <use style=\"fill:#ff7f0e;stroke:#ff7f0e;\" x=\"72.592013\" xlink:href=\"#md225a8457d\" y=\"211.947455\"/>\r\n     <use style=\"fill:#ff7f0e;stroke:#ff7f0e;\" x=\"73.029946\" xlink:href=\"#md225a8457d\" y=\"211.848218\"/>\r\n     <use style=\"fill:#ff7f0e;stroke:#ff7f0e;\" x=\"73.467879\" xlink:href=\"#md225a8457d\" y=\"211.745602\"/>\r\n     <use style=\"fill:#ff7f0e;stroke:#ff7f0e;\" x=\"73.905813\" xlink:href=\"#md225a8457d\" y=\"211.639514\"/>\r\n     <use style=\"fill:#ff7f0e;stroke:#ff7f0e;\" x=\"74.343746\" xlink:href=\"#md225a8457d\" y=\"211.529861\"/>\r\n     <use style=\"fill:#ff7f0e;stroke:#ff7f0e;\" x=\"74.781679\" xlink:href=\"#md225a8457d\" y=\"211.416552\"/>\r\n     <use style=\"fill:#ff7f0e;stroke:#ff7f0e;\" x=\"75.219612\" xlink:href=\"#md225a8457d\" y=\"211.299466\"/>\r\n     <use style=\"fill:#ff7f0e;stroke:#ff7f0e;\" x=\"75.657546\" xlink:href=\"#md225a8457d\" y=\"211.178315\"/>\r\n     <use style=\"fill:#ff7f0e;stroke:#ff7f0e;\" x=\"76.095479\" xlink:href=\"#md225a8457d\" y=\"211.053068\"/>\r\n     <use style=\"fill:#ff7f0e;stroke:#ff7f0e;\" x=\"76.533412\" xlink:href=\"#md225a8457d\" y=\"210.923619\"/>\r\n     <use style=\"fill:#ff7f0e;stroke:#ff7f0e;\" x=\"76.971346\" xlink:href=\"#md225a8457d\" y=\"210.789836\"/>\r\n     <use style=\"fill:#ff7f0e;stroke:#ff7f0e;\" x=\"77.409279\" xlink:href=\"#md225a8457d\" y=\"210.651583\"/>\r\n     <use style=\"fill:#ff7f0e;stroke:#ff7f0e;\" x=\"77.847212\" xlink:href=\"#md225a8457d\" y=\"210.508727\"/>\r\n     <use style=\"fill:#ff7f0e;stroke:#ff7f0e;\" x=\"78.285146\" xlink:href=\"#md225a8457d\" y=\"210.361133\"/>\r\n     <use style=\"fill:#ff7f0e;stroke:#ff7f0e;\" x=\"78.723079\" xlink:href=\"#md225a8457d\" y=\"210.208666\"/>\r\n     <use style=\"fill:#ff7f0e;stroke:#ff7f0e;\" x=\"79.161012\" xlink:href=\"#md225a8457d\" y=\"210.051154\"/>\r\n     <use style=\"fill:#ff7f0e;stroke:#ff7f0e;\" x=\"79.598945\" xlink:href=\"#md225a8457d\" y=\"209.888448\"/>\r\n     <use style=\"fill:#ff7f0e;stroke:#ff7f0e;\" x=\"80.036879\" xlink:href=\"#md225a8457d\" y=\"209.720469\"/>\r\n     <use style=\"fill:#ff7f0e;stroke:#ff7f0e;\" x=\"80.474812\" xlink:href=\"#md225a8457d\" y=\"209.547054\"/>\r\n     <use style=\"fill:#ff7f0e;stroke:#ff7f0e;\" x=\"80.912745\" xlink:href=\"#md225a8457d\" y=\"209.368033\"/>\r\n     <use style=\"fill:#ff7f0e;stroke:#ff7f0e;\" x=\"81.350679\" xlink:href=\"#md225a8457d\" y=\"209.183238\"/>\r\n     <use style=\"fill:#ff7f0e;stroke:#ff7f0e;\" x=\"81.788612\" xlink:href=\"#md225a8457d\" y=\"208.992502\"/>\r\n     <use style=\"fill:#ff7f0e;stroke:#ff7f0e;\" x=\"82.226545\" xlink:href=\"#md225a8457d\" y=\"208.795656\"/>\r\n     <use style=\"fill:#ff7f0e;stroke:#ff7f0e;\" x=\"82.664478\" xlink:href=\"#md225a8457d\" y=\"208.592531\"/>\r\n     <use style=\"fill:#ff7f0e;stroke:#ff7f0e;\" x=\"83.102412\" xlink:href=\"#md225a8457d\" y=\"208.382961\"/>\r\n     <use style=\"fill:#ff7f0e;stroke:#ff7f0e;\" x=\"83.540345\" xlink:href=\"#md225a8457d\" y=\"208.166775\"/>\r\n     <use style=\"fill:#ff7f0e;stroke:#ff7f0e;\" x=\"83.978278\" xlink:href=\"#md225a8457d\" y=\"207.943807\"/>\r\n     <use style=\"fill:#ff7f0e;stroke:#ff7f0e;\" x=\"84.416212\" xlink:href=\"#md225a8457d\" y=\"207.713887\"/>\r\n     <use style=\"fill:#ff7f0e;stroke:#ff7f0e;\" x=\"84.854145\" xlink:href=\"#md225a8457d\" y=\"207.476848\"/>\r\n     <use style=\"fill:#ff7f0e;stroke:#ff7f0e;\" x=\"85.292078\" xlink:href=\"#md225a8457d\" y=\"207.232522\"/>\r\n     <use style=\"fill:#ff7f0e;stroke:#ff7f0e;\" x=\"85.730011\" xlink:href=\"#md225a8457d\" y=\"206.98074\"/>\r\n     <use style=\"fill:#ff7f0e;stroke:#ff7f0e;\" x=\"86.167945\" xlink:href=\"#md225a8457d\" y=\"206.721334\"/>\r\n     <use style=\"fill:#ff7f0e;stroke:#ff7f0e;\" x=\"86.605878\" xlink:href=\"#md225a8457d\" y=\"206.454136\"/>\r\n     <use style=\"fill:#ff7f0e;stroke:#ff7f0e;\" x=\"87.043811\" xlink:href=\"#md225a8457d\" y=\"206.178977\"/>\r\n     <use style=\"fill:#ff7f0e;stroke:#ff7f0e;\" x=\"87.481745\" xlink:href=\"#md225a8457d\" y=\"205.89569\"/>\r\n     <use style=\"fill:#ff7f0e;stroke:#ff7f0e;\" x=\"87.919678\" xlink:href=\"#md225a8457d\" y=\"205.604093\"/>\r\n     <use style=\"fill:#ff7f0e;stroke:#ff7f0e;\" x=\"88.357611\" xlink:href=\"#md225a8457d\" y=\"205.303892\"/>\r\n     <use style=\"fill:#ff7f0e;stroke:#ff7f0e;\" x=\"88.795544\" xlink:href=\"#md225a8457d\" y=\"204.99497\"/>\r\n     <use style=\"fill:#ff7f0e;stroke:#ff7f0e;\" x=\"89.233478\" xlink:href=\"#md225a8457d\" y=\"204.677186\"/>\r\n     <use style=\"fill:#ff7f0e;stroke:#ff7f0e;\" x=\"89.671411\" xlink:href=\"#md225a8457d\" y=\"204.350372\"/>\r\n     <use style=\"fill:#ff7f0e;stroke:#ff7f0e;\" x=\"90.109344\" xlink:href=\"#md225a8457d\" y=\"204.014358\"/>\r\n     <use style=\"fill:#ff7f0e;stroke:#ff7f0e;\" x=\"90.547278\" xlink:href=\"#md225a8457d\" y=\"203.668977\"/>\r\n     <use style=\"fill:#ff7f0e;stroke:#ff7f0e;\" x=\"90.985211\" xlink:href=\"#md225a8457d\" y=\"203.314051\"/>\r\n     <use style=\"fill:#ff7f0e;stroke:#ff7f0e;\" x=\"91.423144\" xlink:href=\"#md225a8457d\" y=\"202.94946\"/>\r\n     <use style=\"fill:#ff7f0e;stroke:#ff7f0e;\" x=\"91.861078\" xlink:href=\"#md225a8457d\" y=\"202.575321\"/>\r\n     <use style=\"fill:#ff7f0e;stroke:#ff7f0e;\" x=\"92.299011\" xlink:href=\"#md225a8457d\" y=\"202.191647\"/>\r\n     <use style=\"fill:#ff7f0e;stroke:#ff7f0e;\" x=\"92.736944\" xlink:href=\"#md225a8457d\" y=\"201.797437\"/>\r\n     <use style=\"fill:#ff7f0e;stroke:#ff7f0e;\" x=\"93.174877\" xlink:href=\"#md225a8457d\" y=\"201.392636\"/>\r\n     <use style=\"fill:#ff7f0e;stroke:#ff7f0e;\" x=\"93.612811\" xlink:href=\"#md225a8457d\" y=\"200.977229\"/>\r\n     <use style=\"fill:#ff7f0e;stroke:#ff7f0e;\" x=\"94.050744\" xlink:href=\"#md225a8457d\" y=\"200.551204\"/>\r\n     <use style=\"fill:#ff7f0e;stroke:#ff7f0e;\" x=\"94.488677\" xlink:href=\"#md225a8457d\" y=\"200.114547\"/>\r\n     <use style=\"fill:#ff7f0e;stroke:#ff7f0e;\" x=\"94.926611\" xlink:href=\"#md225a8457d\" y=\"199.667244\"/>\r\n     <use style=\"fill:#ff7f0e;stroke:#ff7f0e;\" x=\"95.364544\" xlink:href=\"#md225a8457d\" y=\"199.209281\"/>\r\n     <use style=\"fill:#ff7f0e;stroke:#ff7f0e;\" x=\"95.802477\" xlink:href=\"#md225a8457d\" y=\"198.740645\"/>\r\n     <use style=\"fill:#ff7f0e;stroke:#ff7f0e;\" x=\"96.24041\" xlink:href=\"#md225a8457d\" y=\"198.261323\"/>\r\n     <use style=\"fill:#ff7f0e;stroke:#ff7f0e;\" x=\"96.678344\" xlink:href=\"#md225a8457d\" y=\"197.7713\"/>\r\n     <use style=\"fill:#ff7f0e;stroke:#ff7f0e;\" x=\"97.116277\" xlink:href=\"#md225a8457d\" y=\"197.270564\"/>\r\n     <use style=\"fill:#ff7f0e;stroke:#ff7f0e;\" x=\"97.55421\" xlink:href=\"#md225a8457d\" y=\"196.7591\"/>\r\n     <use style=\"fill:#ff7f0e;stroke:#ff7f0e;\" x=\"97.992144\" xlink:href=\"#md225a8457d\" y=\"196.236895\"/>\r\n     <use style=\"fill:#ff7f0e;stroke:#ff7f0e;\" x=\"98.430077\" xlink:href=\"#md225a8457d\" y=\"195.703936\"/>\r\n     <use style=\"fill:#ff7f0e;stroke:#ff7f0e;\" x=\"98.86801\" xlink:href=\"#md225a8457d\" y=\"195.160209\"/>\r\n     <use style=\"fill:#ff7f0e;stroke:#ff7f0e;\" x=\"99.305943\" xlink:href=\"#md225a8457d\" y=\"194.6057\"/>\r\n     <use style=\"fill:#ff7f0e;stroke:#ff7f0e;\" x=\"99.743877\" xlink:href=\"#md225a8457d\" y=\"194.040395\"/>\r\n     <use style=\"fill:#ff7f0e;stroke:#ff7f0e;\" x=\"100.18181\" xlink:href=\"#md225a8457d\" y=\"193.464282\"/>\r\n     <use style=\"fill:#ff7f0e;stroke:#ff7f0e;\" x=\"100.619743\" xlink:href=\"#md225a8457d\" y=\"192.877368\"/>\r\n     <use style=\"fill:#ff7f0e;stroke:#ff7f0e;\" x=\"101.057677\" xlink:href=\"#md225a8457d\" y=\"192.28063\"/>\r\n     <use style=\"fill:#ff7f0e;stroke:#ff7f0e;\" x=\"101.49561\" xlink:href=\"#md225a8457d\" y=\"191.674254\"/>\r\n     <use style=\"fill:#ff7f0e;stroke:#ff7f0e;\" x=\"101.933543\" xlink:href=\"#md225a8457d\" y=\"191.058182\"/>\r\n     <use style=\"fill:#ff7f0e;stroke:#ff7f0e;\" x=\"102.371476\" xlink:href=\"#md225a8457d\" y=\"190.432722\"/>\r\n     <use style=\"fill:#ff7f0e;stroke:#ff7f0e;\" x=\"102.80941\" xlink:href=\"#md225a8457d\" y=\"189.798183\"/>\r\n     <use style=\"fill:#ff7f0e;stroke:#ff7f0e;\" x=\"103.247343\" xlink:href=\"#md225a8457d\" y=\"189.154875\"/>\r\n     <use style=\"fill:#ff7f0e;stroke:#ff7f0e;\" x=\"103.685276\" xlink:href=\"#md225a8457d\" y=\"188.503075\"/>\r\n     <use style=\"fill:#ff7f0e;stroke:#ff7f0e;\" x=\"104.12321\" xlink:href=\"#md225a8457d\" y=\"187.843277\"/>\r\n     <use style=\"fill:#ff7f0e;stroke:#ff7f0e;\" x=\"104.561143\" xlink:href=\"#md225a8457d\" y=\"187.176402\"/>\r\n     <use style=\"fill:#ff7f0e;stroke:#ff7f0e;\" x=\"104.999076\" xlink:href=\"#md225a8457d\" y=\"186.503364\"/>\r\n     <use style=\"fill:#ff7f0e;stroke:#ff7f0e;\" x=\"105.437009\" xlink:href=\"#md225a8457d\" y=\"185.822756\"/>\r\n     <use style=\"fill:#ff7f0e;stroke:#ff7f0e;\" x=\"105.874943\" xlink:href=\"#md225a8457d\" y=\"185.135286\"/>\r\n     <use style=\"fill:#ff7f0e;stroke:#ff7f0e;\" x=\"106.312876\" xlink:href=\"#md225a8457d\" y=\"184.441792\"/>\r\n     <use style=\"fill:#ff7f0e;stroke:#ff7f0e;\" x=\"106.750809\" xlink:href=\"#md225a8457d\" y=\"183.743111\"/>\r\n     <use style=\"fill:#ff7f0e;stroke:#ff7f0e;\" x=\"107.188743\" xlink:href=\"#md225a8457d\" y=\"183.040083\"/>\r\n     <use style=\"fill:#ff7f0e;stroke:#ff7f0e;\" x=\"107.626676\" xlink:href=\"#md225a8457d\" y=\"182.333546\"/>\r\n     <use style=\"fill:#ff7f0e;stroke:#ff7f0e;\" x=\"108.064609\" xlink:href=\"#md225a8457d\" y=\"181.624339\"/>\r\n     <use style=\"fill:#ff7f0e;stroke:#ff7f0e;\" x=\"108.502543\" xlink:href=\"#md225a8457d\" y=\"180.913299\"/>\r\n     <use style=\"fill:#ff7f0e;stroke:#ff7f0e;\" x=\"108.940476\" xlink:href=\"#md225a8457d\" y=\"180.201265\"/>\r\n     <use style=\"fill:#ff7f0e;stroke:#ff7f0e;\" x=\"109.378409\" xlink:href=\"#md225a8457d\" y=\"179.489076\"/>\r\n     <use style=\"fill:#ff7f0e;stroke:#ff7f0e;\" x=\"109.816342\" xlink:href=\"#md225a8457d\" y=\"178.77757\"/>\r\n     <use style=\"fill:#ff7f0e;stroke:#ff7f0e;\" x=\"110.254276\" xlink:href=\"#md225a8457d\" y=\"178.067586\"/>\r\n     <use style=\"fill:#ff7f0e;stroke:#ff7f0e;\" x=\"110.692209\" xlink:href=\"#md225a8457d\" y=\"177.359961\"/>\r\n     <use style=\"fill:#ff7f0e;stroke:#ff7f0e;\" x=\"111.130142\" xlink:href=\"#md225a8457d\" y=\"176.655535\"/>\r\n     <use style=\"fill:#ff7f0e;stroke:#ff7f0e;\" x=\"111.568076\" xlink:href=\"#md225a8457d\" y=\"175.955145\"/>\r\n     <use style=\"fill:#ff7f0e;stroke:#ff7f0e;\" x=\"112.006009\" xlink:href=\"#md225a8457d\" y=\"175.25963\"/>\r\n     <use style=\"fill:#ff7f0e;stroke:#ff7f0e;\" x=\"112.443942\" xlink:href=\"#md225a8457d\" y=\"174.56983\"/>\r\n     <use style=\"fill:#ff7f0e;stroke:#ff7f0e;\" x=\"112.881875\" xlink:href=\"#md225a8457d\" y=\"173.886581\"/>\r\n     <use style=\"fill:#ff7f0e;stroke:#ff7f0e;\" x=\"113.319809\" xlink:href=\"#md225a8457d\" y=\"173.210722\"/>\r\n     <use style=\"fill:#ff7f0e;stroke:#ff7f0e;\" x=\"113.757742\" xlink:href=\"#md225a8457d\" y=\"172.543604\"/>\r\n     <use style=\"fill:#ff7f0e;stroke:#ff7f0e;\" x=\"114.195675\" xlink:href=\"#md225a8457d\" y=\"171.887896\"/>\r\n     <use style=\"fill:#ff7f0e;stroke:#ff7f0e;\" x=\"114.633609\" xlink:href=\"#md225a8457d\" y=\"171.243655\"/>\r\n     <use style=\"fill:#ff7f0e;stroke:#ff7f0e;\" x=\"115.071542\" xlink:href=\"#md225a8457d\" y=\"170.611828\"/>\r\n     <use style=\"fill:#ff7f0e;stroke:#ff7f0e;\" x=\"115.509475\" xlink:href=\"#md225a8457d\" y=\"169.993478\"/>\r\n     <use style=\"fill:#ff7f0e;stroke:#ff7f0e;\" x=\"115.947408\" xlink:href=\"#md225a8457d\" y=\"169.389673\"/>\r\n     <use style=\"fill:#ff7f0e;stroke:#ff7f0e;\" x=\"116.385342\" xlink:href=\"#md225a8457d\" y=\"168.801478\"/>\r\n     <use style=\"fill:#ff7f0e;stroke:#ff7f0e;\" x=\"116.823275\" xlink:href=\"#md225a8457d\" y=\"168.229946\"/>\r\n     <use style=\"fill:#ff7f0e;stroke:#ff7f0e;\" x=\"117.261208\" xlink:href=\"#md225a8457d\" y=\"167.675243\"/>\r\n     <use style=\"fill:#ff7f0e;stroke:#ff7f0e;\" x=\"117.699142\" xlink:href=\"#md225a8457d\" y=\"167.136173\"/>\r\n     <use style=\"fill:#ff7f0e;stroke:#ff7f0e;\" x=\"118.137075\" xlink:href=\"#md225a8457d\" y=\"166.618435\"/>\r\n     <use style=\"fill:#ff7f0e;stroke:#ff7f0e;\" x=\"118.575008\" xlink:href=\"#md225a8457d\" y=\"166.123115\"/>\r\n     <use style=\"fill:#ff7f0e;stroke:#ff7f0e;\" x=\"119.012941\" xlink:href=\"#md225a8457d\" y=\"165.650678\"/>\r\n     <use style=\"fill:#ff7f0e;stroke:#ff7f0e;\" x=\"119.450875\" xlink:href=\"#md225a8457d\" y=\"165.201587\"/>\r\n     <use style=\"fill:#ff7f0e;stroke:#ff7f0e;\" x=\"119.888808\" xlink:href=\"#md225a8457d\" y=\"164.776307\"/>\r\n     <use style=\"fill:#ff7f0e;stroke:#ff7f0e;\" x=\"120.326741\" xlink:href=\"#md225a8457d\" y=\"164.375302\"/>\r\n     <use style=\"fill:#ff7f0e;stroke:#ff7f0e;\" x=\"120.764675\" xlink:href=\"#md225a8457d\" y=\"163.999036\"/>\r\n     <use style=\"fill:#ff7f0e;stroke:#ff7f0e;\" x=\"121.202608\" xlink:href=\"#md225a8457d\" y=\"163.647974\"/>\r\n     <use style=\"fill:#ff7f0e;stroke:#ff7f0e;\" x=\"121.640541\" xlink:href=\"#md225a8457d\" y=\"163.322579\"/>\r\n     <use style=\"fill:#ff7f0e;stroke:#ff7f0e;\" x=\"122.078474\" xlink:href=\"#md225a8457d\" y=\"163.023315\"/>\r\n     <use style=\"fill:#ff7f0e;stroke:#ff7f0e;\" x=\"122.516408\" xlink:href=\"#md225a8457d\" y=\"162.750647\"/>\r\n     <use style=\"fill:#ff7f0e;stroke:#ff7f0e;\" x=\"122.954341\" xlink:href=\"#md225a8457d\" y=\"162.50504\"/>\r\n     <use style=\"fill:#ff7f0e;stroke:#ff7f0e;\" x=\"123.392274\" xlink:href=\"#md225a8457d\" y=\"162.286956\"/>\r\n     <use style=\"fill:#ff7f0e;stroke:#ff7f0e;\" x=\"123.830208\" xlink:href=\"#md225a8457d\" y=\"162.09686\"/>\r\n     <use style=\"fill:#ff7f0e;stroke:#ff7f0e;\" x=\"124.268141\" xlink:href=\"#md225a8457d\" y=\"161.935218\"/>\r\n     <use style=\"fill:#ff7f0e;stroke:#ff7f0e;\" x=\"124.706074\" xlink:href=\"#md225a8457d\" y=\"161.802491\"/>\r\n     <use style=\"fill:#ff7f0e;stroke:#ff7f0e;\" x=\"125.144008\" xlink:href=\"#md225a8457d\" y=\"161.699146\"/>\r\n     <use style=\"fill:#ff7f0e;stroke:#ff7f0e;\" x=\"125.581941\" xlink:href=\"#md225a8457d\" y=\"161.625645\"/>\r\n     <use style=\"fill:#ff7f0e;stroke:#ff7f0e;\" x=\"126.019874\" xlink:href=\"#md225a8457d\" y=\"161.582454\"/>\r\n     <use style=\"fill:#ff7f0e;stroke:#ff7f0e;\" x=\"126.457807\" xlink:href=\"#md225a8457d\" y=\"161.570036\"/>\r\n     <use style=\"fill:#ff7f0e;stroke:#ff7f0e;\" x=\"126.895741\" xlink:href=\"#md225a8457d\" y=\"161.588473\"/>\r\n     <use style=\"fill:#ff7f0e;stroke:#ff7f0e;\" x=\"127.333674\" xlink:href=\"#md225a8457d\" y=\"161.633621\"/>\r\n     <use style=\"fill:#ff7f0e;stroke:#ff7f0e;\" x=\"127.771607\" xlink:href=\"#md225a8457d\" y=\"161.706545\"/>\r\n     <use style=\"fill:#ff7f0e;stroke:#ff7f0e;\" x=\"128.209541\" xlink:href=\"#md225a8457d\" y=\"161.807737\"/>\r\n     <use style=\"fill:#ff7f0e;stroke:#ff7f0e;\" x=\"128.647474\" xlink:href=\"#md225a8457d\" y=\"161.936793\"/>\r\n     <use style=\"fill:#ff7f0e;stroke:#ff7f0e;\" x=\"129.085407\" xlink:href=\"#md225a8457d\" y=\"162.093318\"/>\r\n     <use style=\"fill:#ff7f0e;stroke:#ff7f0e;\" x=\"129.52334\" xlink:href=\"#md225a8457d\" y=\"162.276817\"/>\r\n     <use style=\"fill:#ff7f0e;stroke:#ff7f0e;\" x=\"129.961274\" xlink:href=\"#md225a8457d\" y=\"162.486615\"/>\r\n     <use style=\"fill:#ff7f0e;stroke:#ff7f0e;\" x=\"130.399207\" xlink:href=\"#md225a8457d\" y=\"162.720901\"/>\r\n     <use style=\"fill:#ff7f0e;stroke:#ff7f0e;\" x=\"130.83714\" xlink:href=\"#md225a8457d\" y=\"162.980668\"/>\r\n     <use style=\"fill:#ff7f0e;stroke:#ff7f0e;\" x=\"131.275074\" xlink:href=\"#md225a8457d\" y=\"163.265604\"/>\r\n     <use style=\"fill:#ff7f0e;stroke:#ff7f0e;\" x=\"131.713007\" xlink:href=\"#md225a8457d\" y=\"163.574785\"/>\r\n     <use style=\"fill:#ff7f0e;stroke:#ff7f0e;\" x=\"132.15094\" xlink:href=\"#md225a8457d\" y=\"163.907287\"/>\r\n     <use style=\"fill:#ff7f0e;stroke:#ff7f0e;\" x=\"132.588873\" xlink:href=\"#md225a8457d\" y=\"164.262184\"/>\r\n     <use style=\"fill:#ff7f0e;stroke:#ff7f0e;\" x=\"133.026807\" xlink:href=\"#md225a8457d\" y=\"164.638552\"/>\r\n     <use style=\"fill:#ff7f0e;stroke:#ff7f0e;\" x=\"133.46474\" xlink:href=\"#md225a8457d\" y=\"165.035467\"/>\r\n     <use style=\"fill:#ff7f0e;stroke:#ff7f0e;\" x=\"133.902673\" xlink:href=\"#md225a8457d\" y=\"165.452005\"/>\r\n     <use style=\"fill:#ff7f0e;stroke:#ff7f0e;\" x=\"134.340607\" xlink:href=\"#md225a8457d\" y=\"165.88724\"/>\r\n     <use style=\"fill:#ff7f0e;stroke:#ff7f0e;\" x=\"134.77854\" xlink:href=\"#md225a8457d\" y=\"166.340248\"/>\r\n     <use style=\"fill:#ff7f0e;stroke:#ff7f0e;\" x=\"135.216473\" xlink:href=\"#md225a8457d\" y=\"166.810105\"/>\r\n     <use style=\"fill:#ff7f0e;stroke:#ff7f0e;\" x=\"135.654406\" xlink:href=\"#md225a8457d\" y=\"167.295886\"/>\r\n     <use style=\"fill:#ff7f0e;stroke:#ff7f0e;\" x=\"136.09234\" xlink:href=\"#md225a8457d\" y=\"167.796667\"/>\r\n     <use style=\"fill:#ff7f0e;stroke:#ff7f0e;\" x=\"136.530273\" xlink:href=\"#md225a8457d\" y=\"168.311523\"/>\r\n     <use style=\"fill:#ff7f0e;stroke:#ff7f0e;\" x=\"136.968206\" xlink:href=\"#md225a8457d\" y=\"168.83953\"/>\r\n     <use style=\"fill:#ff7f0e;stroke:#ff7f0e;\" x=\"137.40614\" xlink:href=\"#md225a8457d\" y=\"169.379762\"/>\r\n     <use style=\"fill:#ff7f0e;stroke:#ff7f0e;\" x=\"137.844073\" xlink:href=\"#md225a8457d\" y=\"169.931297\"/>\r\n     <use style=\"fill:#ff7f0e;stroke:#ff7f0e;\" x=\"138.282006\" xlink:href=\"#md225a8457d\" y=\"170.493208\"/>\r\n     <use style=\"fill:#ff7f0e;stroke:#ff7f0e;\" x=\"138.71994\" xlink:href=\"#md225a8457d\" y=\"171.064572\"/>\r\n     <use style=\"fill:#ff7f0e;stroke:#ff7f0e;\" x=\"139.157873\" xlink:href=\"#md225a8457d\" y=\"171.644464\"/>\r\n     <use style=\"fill:#ff7f0e;stroke:#ff7f0e;\" x=\"139.595806\" xlink:href=\"#md225a8457d\" y=\"172.23196\"/>\r\n     <use style=\"fill:#ff7f0e;stroke:#ff7f0e;\" x=\"140.033739\" xlink:href=\"#md225a8457d\" y=\"172.826135\"/>\r\n     <use style=\"fill:#ff7f0e;stroke:#ff7f0e;\" x=\"140.471673\" xlink:href=\"#md225a8457d\" y=\"173.426064\"/>\r\n     <use style=\"fill:#ff7f0e;stroke:#ff7f0e;\" x=\"140.909606\" xlink:href=\"#md225a8457d\" y=\"174.03148\"/>\r\n     <use style=\"fill:#ff7f0e;stroke:#ff7f0e;\" x=\"141.347539\" xlink:href=\"#md225a8457d\" y=\"174.641898\"/>\r\n     <use style=\"fill:#ff7f0e;stroke:#ff7f0e;\" x=\"141.785473\" xlink:href=\"#md225a8457d\" y=\"175.255994\"/>\r\n     <use style=\"fill:#ff7f0e;stroke:#ff7f0e;\" x=\"142.223406\" xlink:href=\"#md225a8457d\" y=\"175.873017\"/>\r\n     <use style=\"fill:#ff7f0e;stroke:#ff7f0e;\" x=\"142.661339\" xlink:href=\"#md225a8457d\" y=\"176.492323\"/>\r\n     <use style=\"fill:#ff7f0e;stroke:#ff7f0e;\" x=\"143.099272\" xlink:href=\"#md225a8457d\" y=\"177.115606\"/>\r\n     <use style=\"fill:#ff7f0e;stroke:#ff7f0e;\" x=\"143.537206\" xlink:href=\"#md225a8457d\" y=\"177.739768\"/>\r\n     <use style=\"fill:#ff7f0e;stroke:#ff7f0e;\" x=\"143.975139\" xlink:href=\"#md225a8457d\" y=\"178.362798\"/>\r\n     <use style=\"fill:#ff7f0e;stroke:#ff7f0e;\" x=\"144.413072\" xlink:href=\"#md225a8457d\" y=\"178.984373\"/>\r\n     <use style=\"fill:#ff7f0e;stroke:#ff7f0e;\" x=\"144.851006\" xlink:href=\"#md225a8457d\" y=\"179.604167\"/>\r\n     <use style=\"fill:#ff7f0e;stroke:#ff7f0e;\" x=\"145.288939\" xlink:href=\"#md225a8457d\" y=\"180.221856\"/>\r\n     <use style=\"fill:#ff7f0e;stroke:#ff7f0e;\" x=\"145.726872\" xlink:href=\"#md225a8457d\" y=\"180.837116\"/>\r\n     <use style=\"fill:#ff7f0e;stroke:#ff7f0e;\" x=\"146.164805\" xlink:href=\"#md225a8457d\" y=\"181.449624\"/>\r\n     <use style=\"fill:#ff7f0e;stroke:#ff7f0e;\" x=\"146.602739\" xlink:href=\"#md225a8457d\" y=\"182.059053\"/>\r\n     <use style=\"fill:#ff7f0e;stroke:#ff7f0e;\" x=\"147.040672\" xlink:href=\"#md225a8457d\" y=\"182.665082\"/>\r\n     <use style=\"fill:#ff7f0e;stroke:#ff7f0e;\" x=\"147.478605\" xlink:href=\"#md225a8457d\" y=\"183.267384\"/>\r\n     <use style=\"fill:#ff7f0e;stroke:#ff7f0e;\" x=\"147.916539\" xlink:href=\"#md225a8457d\" y=\"183.865637\"/>\r\n     <use style=\"fill:#ff7f0e;stroke:#ff7f0e;\" x=\"148.354472\" xlink:href=\"#md225a8457d\" y=\"184.459515\"/>\r\n     <use style=\"fill:#ff7f0e;stroke:#ff7f0e;\" x=\"148.792405\" xlink:href=\"#md225a8457d\" y=\"185.048695\"/>\r\n     <use style=\"fill:#ff7f0e;stroke:#ff7f0e;\" x=\"149.230338\" xlink:href=\"#md225a8457d\" y=\"185.632851\"/>\r\n     <use style=\"fill:#ff7f0e;stroke:#ff7f0e;\" x=\"149.668272\" xlink:href=\"#md225a8457d\" y=\"186.211661\"/>\r\n     <use style=\"fill:#ff7f0e;stroke:#ff7f0e;\" x=\"150.106205\" xlink:href=\"#md225a8457d\" y=\"186.784799\"/>\r\n     <use style=\"fill:#ff7f0e;stroke:#ff7f0e;\" x=\"150.544138\" xlink:href=\"#md225a8457d\" y=\"187.351942\"/>\r\n     <use style=\"fill:#ff7f0e;stroke:#ff7f0e;\" x=\"150.982072\" xlink:href=\"#md225a8457d\" y=\"187.912765\"/>\r\n     <use style=\"fill:#ff7f0e;stroke:#ff7f0e;\" x=\"151.420005\" xlink:href=\"#md225a8457d\" y=\"188.466944\"/>\r\n     <use style=\"fill:#ff7f0e;stroke:#ff7f0e;\" x=\"151.857938\" xlink:href=\"#md225a8457d\" y=\"189.014155\"/>\r\n     <use style=\"fill:#ff7f0e;stroke:#ff7f0e;\" x=\"152.295871\" xlink:href=\"#md225a8457d\" y=\"189.554073\"/>\r\n     <use style=\"fill:#ff7f0e;stroke:#ff7f0e;\" x=\"152.733805\" xlink:href=\"#md225a8457d\" y=\"190.086375\"/>\r\n     <use style=\"fill:#ff7f0e;stroke:#ff7f0e;\" x=\"153.171738\" xlink:href=\"#md225a8457d\" y=\"190.610735\"/>\r\n     <use style=\"fill:#ff7f0e;stroke:#ff7f0e;\" x=\"153.609671\" xlink:href=\"#md225a8457d\" y=\"191.12683\"/>\r\n     <use style=\"fill:#ff7f0e;stroke:#ff7f0e;\" x=\"154.047605\" xlink:href=\"#md225a8457d\" y=\"191.634782\"/>\r\n     <use style=\"fill:#ff7f0e;stroke:#ff7f0e;\" x=\"154.485538\" xlink:href=\"#md225a8457d\" y=\"192.136299\"/>\r\n     <use style=\"fill:#ff7f0e;stroke:#ff7f0e;\" x=\"154.923471\" xlink:href=\"#md225a8457d\" y=\"192.630262\"/>\r\n     <use style=\"fill:#ff7f0e;stroke:#ff7f0e;\" x=\"155.361405\" xlink:href=\"#md225a8457d\" y=\"193.116472\"/>\r\n     <use style=\"fill:#ff7f0e;stroke:#ff7f0e;\" x=\"155.799338\" xlink:href=\"#md225a8457d\" y=\"193.59544\"/>\r\n     <use style=\"fill:#ff7f0e;stroke:#ff7f0e;\" x=\"156.237271\" xlink:href=\"#md225a8457d\" y=\"194.066409\"/>\r\n     <use style=\"fill:#ff7f0e;stroke:#ff7f0e;\" x=\"156.675204\" xlink:href=\"#md225a8457d\" y=\"194.529146\"/>\r\n     <use style=\"fill:#ff7f0e;stroke:#ff7f0e;\" x=\"157.113138\" xlink:href=\"#md225a8457d\" y=\"194.983718\"/>\r\n     <use style=\"fill:#ff7f0e;stroke:#ff7f0e;\" x=\"157.551071\" xlink:href=\"#md225a8457d\" y=\"195.430191\"/>\r\n     <use style=\"fill:#ff7f0e;stroke:#ff7f0e;\" x=\"157.989004\" xlink:href=\"#md225a8457d\" y=\"195.868633\"/>\r\n     <use style=\"fill:#ff7f0e;stroke:#ff7f0e;\" x=\"158.426938\" xlink:href=\"#md225a8457d\" y=\"196.299111\"/>\r\n     <use style=\"fill:#ff7f0e;stroke:#ff7f0e;\" x=\"158.864871\" xlink:href=\"#md225a8457d\" y=\"196.72169\"/>\r\n     <use style=\"fill:#ff7f0e;stroke:#ff7f0e;\" x=\"159.302804\" xlink:href=\"#md225a8457d\" y=\"197.136438\"/>\r\n     <use style=\"fill:#ff7f0e;stroke:#ff7f0e;\" x=\"159.740737\" xlink:href=\"#md225a8457d\" y=\"197.543421\"/>\r\n     <use style=\"fill:#ff7f0e;stroke:#ff7f0e;\" x=\"160.178671\" xlink:href=\"#md225a8457d\" y=\"197.942707\"/>\r\n     <use style=\"fill:#ff7f0e;stroke:#ff7f0e;\" x=\"160.616604\" xlink:href=\"#md225a8457d\" y=\"198.334362\"/>\r\n     <use style=\"fill:#ff7f0e;stroke:#ff7f0e;\" x=\"161.054537\" xlink:href=\"#md225a8457d\" y=\"198.718452\"/>\r\n     <use style=\"fill:#ff7f0e;stroke:#ff7f0e;\" x=\"161.492471\" xlink:href=\"#md225a8457d\" y=\"199.095045\"/>\r\n     <use style=\"fill:#ff7f0e;stroke:#ff7f0e;\" x=\"161.930404\" xlink:href=\"#md225a8457d\" y=\"199.464207\"/>\r\n     <use style=\"fill:#ff7f0e;stroke:#ff7f0e;\" x=\"162.368337\" xlink:href=\"#md225a8457d\" y=\"199.826005\"/>\r\n     <use style=\"fill:#ff7f0e;stroke:#ff7f0e;\" x=\"162.80627\" xlink:href=\"#md225a8457d\" y=\"200.180506\"/>\r\n     <use style=\"fill:#ff7f0e;stroke:#ff7f0e;\" x=\"163.244204\" xlink:href=\"#md225a8457d\" y=\"200.527777\"/>\r\n     <use style=\"fill:#ff7f0e;stroke:#ff7f0e;\" x=\"163.682137\" xlink:href=\"#md225a8457d\" y=\"200.867883\"/>\r\n     <use style=\"fill:#ff7f0e;stroke:#ff7f0e;\" x=\"164.12007\" xlink:href=\"#md225a8457d\" y=\"201.200893\"/>\r\n     <use style=\"fill:#ff7f0e;stroke:#ff7f0e;\" x=\"164.558004\" xlink:href=\"#md225a8457d\" y=\"201.526872\"/>\r\n     <use style=\"fill:#ff7f0e;stroke:#ff7f0e;\" x=\"164.995937\" xlink:href=\"#md225a8457d\" y=\"201.845888\"/>\r\n     <use style=\"fill:#ff7f0e;stroke:#ff7f0e;\" x=\"165.43387\" xlink:href=\"#md225a8457d\" y=\"202.158007\"/>\r\n     <use style=\"fill:#ff7f0e;stroke:#ff7f0e;\" x=\"165.871803\" xlink:href=\"#md225a8457d\" y=\"202.463297\"/>\r\n     <use style=\"fill:#ff7f0e;stroke:#ff7f0e;\" x=\"166.309737\" xlink:href=\"#md225a8457d\" y=\"202.761872\"/>\r\n     <use style=\"fill:#ff7f0e;stroke:#ff7f0e;\" x=\"166.74767\" xlink:href=\"#md225a8457d\" y=\"203.053984\"/>\r\n     <use style=\"fill:#ff7f0e;stroke:#ff7f0e;\" x=\"167.185603\" xlink:href=\"#md225a8457d\" y=\"203.339675\"/>\r\n     <use style=\"fill:#ff7f0e;stroke:#ff7f0e;\" x=\"167.623537\" xlink:href=\"#md225a8457d\" y=\"203.619043\"/>\r\n     <use style=\"fill:#ff7f0e;stroke:#ff7f0e;\" x=\"168.06147\" xlink:href=\"#md225a8457d\" y=\"203.892143\"/>\r\n     <use style=\"fill:#ff7f0e;stroke:#ff7f0e;\" x=\"168.499403\" xlink:href=\"#md225a8457d\" y=\"204.158714\"/>\r\n     <use style=\"fill:#ff7f0e;stroke:#ff7f0e;\" x=\"168.937336\" xlink:href=\"#md225a8457d\" y=\"204.419316\"/>\r\n     <use style=\"fill:#ff7f0e;stroke:#ff7f0e;\" x=\"169.37527\" xlink:href=\"#md225a8457d\" y=\"204.674167\"/>\r\n     <use style=\"fill:#ff7f0e;stroke:#ff7f0e;\" x=\"169.813203\" xlink:href=\"#md225a8457d\" y=\"204.923352\"/>\r\n     <use style=\"fill:#ff7f0e;stroke:#ff7f0e;\" x=\"170.251136\" xlink:href=\"#md225a8457d\" y=\"205.166957\"/>\r\n     <use style=\"fill:#ff7f0e;stroke:#ff7f0e;\" x=\"170.68907\" xlink:href=\"#md225a8457d\" y=\"205.405067\"/>\r\n     <use style=\"fill:#ff7f0e;stroke:#ff7f0e;\" x=\"171.127003\" xlink:href=\"#md225a8457d\" y=\"205.637767\"/>\r\n     <use style=\"fill:#ff7f0e;stroke:#ff7f0e;\" x=\"171.564936\" xlink:href=\"#md225a8457d\" y=\"205.865142\"/>\r\n     <use style=\"fill:#ff7f0e;stroke:#ff7f0e;\" x=\"172.00287\" xlink:href=\"#md225a8457d\" y=\"206.087277\"/>\r\n     <use style=\"fill:#ff7f0e;stroke:#ff7f0e;\" x=\"172.440803\" xlink:href=\"#md225a8457d\" y=\"206.304258\"/>\r\n     <use style=\"fill:#ff7f0e;stroke:#ff7f0e;\" x=\"172.878736\" xlink:href=\"#md225a8457d\" y=\"206.51617\"/>\r\n     <use style=\"fill:#ff7f0e;stroke:#ff7f0e;\" x=\"173.316669\" xlink:href=\"#md225a8457d\" y=\"206.723098\"/>\r\n     <use style=\"fill:#ff7f0e;stroke:#ff7f0e;\" x=\"173.754603\" xlink:href=\"#md225a8457d\" y=\"206.925127\"/>\r\n     <use style=\"fill:#ff7f0e;stroke:#ff7f0e;\" x=\"174.192536\" xlink:href=\"#md225a8457d\" y=\"207.122343\"/>\r\n     <use style=\"fill:#ff7f0e;stroke:#ff7f0e;\" x=\"174.630469\" xlink:href=\"#md225a8457d\" y=\"207.314831\"/>\r\n     <use style=\"fill:#ff7f0e;stroke:#ff7f0e;\" x=\"175.068403\" xlink:href=\"#md225a8457d\" y=\"207.502675\"/>\r\n     <use style=\"fill:#ff7f0e;stroke:#ff7f0e;\" x=\"175.506336\" xlink:href=\"#md225a8457d\" y=\"207.685962\"/>\r\n     <use style=\"fill:#ff7f0e;stroke:#ff7f0e;\" x=\"175.944269\" xlink:href=\"#md225a8457d\" y=\"207.864776\"/>\r\n     <use style=\"fill:#ff7f0e;stroke:#ff7f0e;\" x=\"176.382202\" xlink:href=\"#md225a8457d\" y=\"208.039203\"/>\r\n     <use style=\"fill:#ff7f0e;stroke:#ff7f0e;\" x=\"176.820136\" xlink:href=\"#md225a8457d\" y=\"208.209327\"/>\r\n     <use style=\"fill:#ff7f0e;stroke:#ff7f0e;\" x=\"177.258069\" xlink:href=\"#md225a8457d\" y=\"208.375235\"/>\r\n     <use style=\"fill:#ff7f0e;stroke:#ff7f0e;\" x=\"177.696002\" xlink:href=\"#md225a8457d\" y=\"208.537011\"/>\r\n     <use style=\"fill:#ff7f0e;stroke:#ff7f0e;\" x=\"178.133936\" xlink:href=\"#md225a8457d\" y=\"208.69474\"/>\r\n     <use style=\"fill:#ff7f0e;stroke:#ff7f0e;\" x=\"178.571869\" xlink:href=\"#md225a8457d\" y=\"208.848613\"/>\r\n     <use style=\"fill:#ff7f0e;stroke:#ff7f0e;\" x=\"179.009802\" xlink:href=\"#md225a8457d\" y=\"208.999086\"/>\r\n     <use style=\"fill:#ff7f0e;stroke:#ff7f0e;\" x=\"179.447735\" xlink:href=\"#md225a8457d\" y=\"209.145913\"/>\r\n     <use style=\"fill:#ff7f0e;stroke:#ff7f0e;\" x=\"179.885669\" xlink:href=\"#md225a8457d\" y=\"209.289132\"/>\r\n     <use style=\"fill:#ff7f0e;stroke:#ff7f0e;\" x=\"180.323602\" xlink:href=\"#md225a8457d\" y=\"209.428825\"/>\r\n     <use style=\"fill:#ff7f0e;stroke:#ff7f0e;\" x=\"180.761535\" xlink:href=\"#md225a8457d\" y=\"209.565017\"/>\r\n     <use style=\"fill:#ff7f0e;stroke:#ff7f0e;\" x=\"181.199469\" xlink:href=\"#md225a8457d\" y=\"209.697465\"/>\r\n     <use style=\"fill:#ff7f0e;stroke:#ff7f0e;\" x=\"181.637402\" xlink:href=\"#md225a8457d\" y=\"209.826692\"/>\r\n     <use style=\"fill:#ff7f0e;stroke:#ff7f0e;\" x=\"182.075335\" xlink:href=\"#md225a8457d\" y=\"209.952859\"/>\r\n     <use style=\"fill:#ff7f0e;stroke:#ff7f0e;\" x=\"182.513268\" xlink:href=\"#md225a8457d\" y=\"210.076013\"/>\r\n     <use style=\"fill:#ff7f0e;stroke:#ff7f0e;\" x=\"182.951202\" xlink:href=\"#md225a8457d\" y=\"210.196206\"/>\r\n     <use style=\"fill:#ff7f0e;stroke:#ff7f0e;\" x=\"183.389135\" xlink:href=\"#md225a8457d\" y=\"210.313488\"/>\r\n     <use style=\"fill:#ff7f0e;stroke:#ff7f0e;\" x=\"183.827068\" xlink:href=\"#md225a8457d\" y=\"210.427909\"/>\r\n     <use style=\"fill:#ff7f0e;stroke:#ff7f0e;\" x=\"184.265002\" xlink:href=\"#md225a8457d\" y=\"210.539518\"/>\r\n     <use style=\"fill:#ff7f0e;stroke:#ff7f0e;\" x=\"184.702935\" xlink:href=\"#md225a8457d\" y=\"210.648367\"/>\r\n     <use style=\"fill:#ff7f0e;stroke:#ff7f0e;\" x=\"185.140868\" xlink:href=\"#md225a8457d\" y=\"210.754505\"/>\r\n     <use style=\"fill:#ff7f0e;stroke:#ff7f0e;\" x=\"185.578802\" xlink:href=\"#md225a8457d\" y=\"210.857983\"/>\r\n     <use style=\"fill:#ff7f0e;stroke:#ff7f0e;\" x=\"186.016735\" xlink:href=\"#md225a8457d\" y=\"210.95885\"/>\r\n     <use style=\"fill:#ff7f0e;stroke:#ff7f0e;\" x=\"186.454668\" xlink:href=\"#md225a8457d\" y=\"211.057158\"/>\r\n     <use style=\"fill:#ff7f0e;stroke:#ff7f0e;\" x=\"186.892601\" xlink:href=\"#md225a8457d\" y=\"211.152955\"/>\r\n     <use style=\"fill:#ff7f0e;stroke:#ff7f0e;\" x=\"187.330535\" xlink:href=\"#md225a8457d\" y=\"211.246292\"/>\r\n     <use style=\"fill:#ff7f0e;stroke:#ff7f0e;\" x=\"187.768468\" xlink:href=\"#md225a8457d\" y=\"211.33722\"/>\r\n     <use style=\"fill:#ff7f0e;stroke:#ff7f0e;\" x=\"188.206401\" xlink:href=\"#md225a8457d\" y=\"211.425788\"/>\r\n     <use style=\"fill:#ff7f0e;stroke:#ff7f0e;\" x=\"188.644335\" xlink:href=\"#md225a8457d\" y=\"211.512046\"/>\r\n     <use style=\"fill:#ff7f0e;stroke:#ff7f0e;\" x=\"189.082268\" xlink:href=\"#md225a8457d\" y=\"211.596046\"/>\r\n     <use style=\"fill:#ff7f0e;stroke:#ff7f0e;\" x=\"189.520201\" xlink:href=\"#md225a8457d\" y=\"211.677836\"/>\r\n     <use style=\"fill:#ff7f0e;stroke:#ff7f0e;\" x=\"189.958134\" xlink:href=\"#md225a8457d\" y=\"211.757468\"/>\r\n     <use style=\"fill:#ff7f0e;stroke:#ff7f0e;\" x=\"190.396068\" xlink:href=\"#md225a8457d\" y=\"211.83499\"/>\r\n     <use style=\"fill:#ff7f0e;stroke:#ff7f0e;\" x=\"190.834001\" xlink:href=\"#md225a8457d\" y=\"211.910455\"/>\r\n     <use style=\"fill:#ff7f0e;stroke:#ff7f0e;\" x=\"191.271934\" xlink:href=\"#md225a8457d\" y=\"211.984167\"/>\r\n     <use style=\"fill:#ff7f0e;stroke:#ff7f0e;\" x=\"191.709868\" xlink:href=\"#md225a8457d\" y=\"212.056181\"/>\r\n     <use style=\"fill:#ff7f0e;stroke:#ff7f0e;\" x=\"192.147801\" xlink:href=\"#md225a8457d\" y=\"212.126354\"/>\r\n     <use style=\"fill:#ff7f0e;stroke:#ff7f0e;\" x=\"192.585734\" xlink:href=\"#md225a8457d\" y=\"212.194731\"/>\r\n     <use style=\"fill:#ff7f0e;stroke:#ff7f0e;\" x=\"193.023667\" xlink:href=\"#md225a8457d\" y=\"212.261356\"/>\r\n     <use style=\"fill:#ff7f0e;stroke:#ff7f0e;\" x=\"193.461601\" xlink:href=\"#md225a8457d\" y=\"212.32624\"/>\r\n     <use style=\"fill:#ff7f0e;stroke:#ff7f0e;\" x=\"193.899534\" xlink:href=\"#md225a8457d\" y=\"212.389246\"/>\r\n     <use style=\"fill:#ff7f0e;stroke:#ff7f0e;\" x=\"194.337467\" xlink:href=\"#md225a8457d\" y=\"212.450675\"/>\r\n     <use style=\"fill:#ff7f0e;stroke:#ff7f0e;\" x=\"194.775401\" xlink:href=\"#md225a8457d\" y=\"212.510608\"/>\r\n     <use style=\"fill:#ff7f0e;stroke:#ff7f0e;\" x=\"195.213334\" xlink:href=\"#md225a8457d\" y=\"212.56907\"/>\r\n     <use style=\"fill:#ff7f0e;stroke:#ff7f0e;\" x=\"195.651267\" xlink:href=\"#md225a8457d\" y=\"212.626087\"/>\r\n     <use style=\"fill:#ff7f0e;stroke:#ff7f0e;\" x=\"196.0892\" xlink:href=\"#md225a8457d\" y=\"212.681685\"/>\r\n     <use style=\"fill:#ff7f0e;stroke:#ff7f0e;\" x=\"196.527134\" xlink:href=\"#md225a8457d\" y=\"212.735889\"/>\r\n     <use style=\"fill:#ff7f0e;stroke:#ff7f0e;\" x=\"196.965067\" xlink:href=\"#md225a8457d\" y=\"212.788723\"/>\r\n     <use style=\"fill:#ff7f0e;stroke:#ff7f0e;\" x=\"197.403\" xlink:href=\"#md225a8457d\" y=\"212.840214\"/>\r\n     <use style=\"fill:#ff7f0e;stroke:#ff7f0e;\" x=\"197.840934\" xlink:href=\"#md225a8457d\" y=\"212.890387\"/>\r\n     <use style=\"fill:#ff7f0e;stroke:#ff7f0e;\" x=\"198.278867\" xlink:href=\"#md225a8457d\" y=\"212.939266\"/>\r\n     <use style=\"fill:#ff7f0e;stroke:#ff7f0e;\" x=\"198.7168\" xlink:href=\"#md225a8457d\" y=\"212.986878\"/>\r\n     <use style=\"fill:#ff7f0e;stroke:#ff7f0e;\" x=\"199.154733\" xlink:href=\"#md225a8457d\" y=\"213.033248\"/>\r\n     <use style=\"fill:#ff7f0e;stroke:#ff7f0e;\" x=\"199.592667\" xlink:href=\"#md225a8457d\" y=\"213.0784\"/>\r\n     <use style=\"fill:#ff7f0e;stroke:#ff7f0e;\" x=\"200.0306\" xlink:href=\"#md225a8457d\" y=\"213.122361\"/>\r\n     <use style=\"fill:#ff7f0e;stroke:#ff7f0e;\" x=\"200.468533\" xlink:href=\"#md225a8457d\" y=\"213.165156\"/>\r\n     <use style=\"fill:#ff7f0e;stroke:#ff7f0e;\" x=\"200.906467\" xlink:href=\"#md225a8457d\" y=\"213.20681\"/>\r\n     <use style=\"fill:#ff7f0e;stroke:#ff7f0e;\" x=\"201.3444\" xlink:href=\"#md225a8457d\" y=\"213.247348\"/>\r\n     <use style=\"fill:#ff7f0e;stroke:#ff7f0e;\" x=\"201.782333\" xlink:href=\"#md225a8457d\" y=\"213.286796\"/>\r\n     <use style=\"fill:#ff7f0e;stroke:#ff7f0e;\" x=\"202.220267\" xlink:href=\"#md225a8457d\" y=\"213.325178\"/>\r\n     <use style=\"fill:#ff7f0e;stroke:#ff7f0e;\" x=\"202.6582\" xlink:href=\"#md225a8457d\" y=\"213.362521\"/>\r\n     <use style=\"fill:#ff7f0e;stroke:#ff7f0e;\" x=\"203.096133\" xlink:href=\"#md225a8457d\" y=\"213.39885\"/>\r\n     <use style=\"fill:#ff7f0e;stroke:#ff7f0e;\" x=\"203.534066\" xlink:href=\"#md225a8457d\" y=\"213.434198\"/>\r\n     <use style=\"fill:#ff7f0e;stroke:#ff7f0e;\" x=\"203.972\" xlink:href=\"#md225a8457d\" y=\"213.468764\"/>\r\n     <use style=\"fill:#ff7f0e;stroke:#ff7f0e;\" x=\"204.409933\" xlink:href=\"#md225a8457d\" y=\"213.502494\"/>\r\n     <use style=\"fill:#ff7f0e;stroke:#ff7f0e;\" x=\"204.847866\" xlink:href=\"#md225a8457d\" y=\"213.535347\"/>\r\n     <use style=\"fill:#ff7f0e;stroke:#ff7f0e;\" x=\"205.2858\" xlink:href=\"#md225a8457d\" y=\"213.567344\"/>\r\n     <use style=\"fill:#ff7f0e;stroke:#ff7f0e;\" x=\"205.723733\" xlink:href=\"#md225a8457d\" y=\"213.598508\"/>\r\n     <use style=\"fill:#ff7f0e;stroke:#ff7f0e;\" x=\"206.161666\" xlink:href=\"#md225a8457d\" y=\"213.628844\"/>\r\n     <use style=\"fill:#ff7f0e;stroke:#ff7f0e;\" x=\"206.599599\" xlink:href=\"#md225a8457d\" y=\"213.658283\"/>\r\n     <use style=\"fill:#ff7f0e;stroke:#ff7f0e;\" x=\"207.037533\" xlink:href=\"#md225a8457d\" y=\"213.686975\"/>\r\n     <use style=\"fill:#ff7f0e;stroke:#ff7f0e;\" x=\"207.475466\" xlink:href=\"#md225a8457d\" y=\"213.714961\"/>\r\n     <use style=\"fill:#ff7f0e;stroke:#ff7f0e;\" x=\"207.913399\" xlink:href=\"#md225a8457d\" y=\"213.742252\"/>\r\n     <use style=\"fill:#ff7f0e;stroke:#ff7f0e;\" x=\"208.351333\" xlink:href=\"#md225a8457d\" y=\"213.768861\"/>\r\n     <use style=\"fill:#ff7f0e;stroke:#ff7f0e;\" x=\"208.789266\" xlink:href=\"#md225a8457d\" y=\"213.7948\"/>\r\n     <use style=\"fill:#ff7f0e;stroke:#ff7f0e;\" x=\"209.227199\" xlink:href=\"#md225a8457d\" y=\"213.82008\"/>\r\n     <use style=\"fill:#ff7f0e;stroke:#ff7f0e;\" x=\"209.665132\" xlink:href=\"#md225a8457d\" y=\"213.844714\"/>\r\n     <use style=\"fill:#ff7f0e;stroke:#ff7f0e;\" x=\"210.103066\" xlink:href=\"#md225a8457d\" y=\"213.868715\"/>\r\n     <use style=\"fill:#ff7f0e;stroke:#ff7f0e;\" x=\"210.540999\" xlink:href=\"#md225a8457d\" y=\"213.892093\"/>\r\n     <use style=\"fill:#ff7f0e;stroke:#ff7f0e;\" x=\"210.978932\" xlink:href=\"#md225a8457d\" y=\"213.914862\"/>\r\n     <use style=\"fill:#ff7f0e;stroke:#ff7f0e;\" x=\"211.416866\" xlink:href=\"#md225a8457d\" y=\"213.937034\"/>\r\n     <use style=\"fill:#ff7f0e;stroke:#ff7f0e;\" x=\"211.854799\" xlink:href=\"#md225a8457d\" y=\"213.95862\"/>\r\n     <use style=\"fill:#ff7f0e;stroke:#ff7f0e;\" x=\"212.292732\" xlink:href=\"#md225a8457d\" y=\"213.979633\"/>\r\n     <use style=\"fill:#ff7f0e;stroke:#ff7f0e;\" x=\"212.730665\" xlink:href=\"#md225a8457d\" y=\"214.000085\"/>\r\n     <use style=\"fill:#ff7f0e;stroke:#ff7f0e;\" x=\"213.168599\" xlink:href=\"#md225a8457d\" y=\"214.019987\"/>\r\n     <use style=\"fill:#ff7f0e;stroke:#ff7f0e;\" x=\"213.606532\" xlink:href=\"#md225a8457d\" y=\"214.039353\"/>\r\n     <use style=\"fill:#ff7f0e;stroke:#ff7f0e;\" x=\"214.044465\" xlink:href=\"#md225a8457d\" y=\"214.058195\"/>\r\n     <use style=\"fill:#ff7f0e;stroke:#ff7f0e;\" x=\"214.482399\" xlink:href=\"#md225a8457d\" y=\"214.076523\"/>\r\n     <use style=\"fill:#ff7f0e;stroke:#ff7f0e;\" x=\"214.920332\" xlink:href=\"#md225a8457d\" y=\"214.094352\"/>\r\n     <use style=\"fill:#ff7f0e;stroke:#ff7f0e;\" x=\"215.358265\" xlink:href=\"#md225a8457d\" y=\"214.111692\"/>\r\n     <use style=\"fill:#ff7f0e;stroke:#ff7f0e;\" x=\"215.796198\" xlink:href=\"#md225a8457d\" y=\"214.128556\"/>\r\n     <use style=\"fill:#ff7f0e;stroke:#ff7f0e;\" x=\"216.234132\" xlink:href=\"#md225a8457d\" y=\"214.144963\"/>\r\n     <use style=\"fill:#ff7f0e;stroke:#ff7f0e;\" x=\"216.672065\" xlink:href=\"#md225a8457d\" y=\"214.161014\"/>\r\n     <use style=\"fill:#ff7f0e;stroke:#ff7f0e;\" x=\"217.109998\" xlink:href=\"#md225a8457d\" y=\"214.176669\"/>\r\n     <use style=\"fill:#ff7f0e;stroke:#ff7f0e;\" x=\"217.547932\" xlink:href=\"#md225a8457d\" y=\"214.191913\"/>\r\n     <use style=\"fill:#ff7f0e;stroke:#ff7f0e;\" x=\"217.985865\" xlink:href=\"#md225a8457d\" y=\"214.206757\"/>\r\n     <use style=\"fill:#ff7f0e;stroke:#ff7f0e;\" x=\"218.423798\" xlink:href=\"#md225a8457d\" y=\"214.221212\"/>\r\n     <use style=\"fill:#ff7f0e;stroke:#ff7f0e;\" x=\"218.861732\" xlink:href=\"#md225a8457d\" y=\"214.235279\"/>\r\n     <use style=\"fill:#ff7f0e;stroke:#ff7f0e;\" x=\"219.299665\" xlink:href=\"#md225a8457d\" y=\"214.248927\"/>\r\n     <use style=\"fill:#ff7f0e;stroke:#ff7f0e;\" x=\"219.737598\" xlink:href=\"#md225a8457d\" y=\"214.262227\"/>\r\n     <use style=\"fill:#ff7f0e;stroke:#ff7f0e;\" x=\"220.175531\" xlink:href=\"#md225a8457d\" y=\"214.275198\"/>\r\n     <use style=\"fill:#ff7f0e;stroke:#ff7f0e;\" x=\"220.613465\" xlink:href=\"#md225a8457d\" y=\"214.287846\"/>\r\n     <use style=\"fill:#ff7f0e;stroke:#ff7f0e;\" x=\"221.051398\" xlink:href=\"#md225a8457d\" y=\"214.300175\"/>\r\n     <use style=\"fill:#ff7f0e;stroke:#ff7f0e;\" x=\"221.489331\" xlink:href=\"#md225a8457d\" y=\"214.312192\"/>\r\n     <use style=\"fill:#ff7f0e;stroke:#ff7f0e;\" x=\"221.927265\" xlink:href=\"#md225a8457d\" y=\"214.323903\"/>\r\n     <use style=\"fill:#ff7f0e;stroke:#ff7f0e;\" x=\"222.365198\" xlink:href=\"#md225a8457d\" y=\"214.335313\"/>\r\n     <use style=\"fill:#ff7f0e;stroke:#ff7f0e;\" x=\"222.803131\" xlink:href=\"#md225a8457d\" y=\"214.346427\"/>\r\n     <use style=\"fill:#ff7f0e;stroke:#ff7f0e;\" x=\"223.241064\" xlink:href=\"#md225a8457d\" y=\"214.357252\"/>\r\n     <use style=\"fill:#ff7f0e;stroke:#ff7f0e;\" x=\"223.678998\" xlink:href=\"#md225a8457d\" y=\"214.367794\"/>\r\n     <use style=\"fill:#ff7f0e;stroke:#ff7f0e;\" x=\"224.116931\" xlink:href=\"#md225a8457d\" y=\"214.378057\"/>\r\n     <use style=\"fill:#ff7f0e;stroke:#ff7f0e;\" x=\"224.554864\" xlink:href=\"#md225a8457d\" y=\"214.388048\"/>\r\n     <use style=\"fill:#ff7f0e;stroke:#ff7f0e;\" x=\"224.992798\" xlink:href=\"#md225a8457d\" y=\"214.397772\"/>\r\n     <use style=\"fill:#ff7f0e;stroke:#ff7f0e;\" x=\"225.430731\" xlink:href=\"#md225a8457d\" y=\"214.407236\"/>\r\n     <use style=\"fill:#ff7f0e;stroke:#ff7f0e;\" x=\"225.868664\" xlink:href=\"#md225a8457d\" y=\"214.416444\"/>\r\n     <use style=\"fill:#ff7f0e;stroke:#ff7f0e;\" x=\"226.306597\" xlink:href=\"#md225a8457d\" y=\"214.425402\"/>\r\n     <use style=\"fill:#ff7f0e;stroke:#ff7f0e;\" x=\"226.744531\" xlink:href=\"#md225a8457d\" y=\"214.434116\"/>\r\n     <use style=\"fill:#ff7f0e;stroke:#ff7f0e;\" x=\"227.182464\" xlink:href=\"#md225a8457d\" y=\"214.442592\"/>\r\n     <use style=\"fill:#ff7f0e;stroke:#ff7f0e;\" x=\"227.620397\" xlink:href=\"#md225a8457d\" y=\"214.450836\"/>\r\n     <use style=\"fill:#ff7f0e;stroke:#ff7f0e;\" x=\"228.058331\" xlink:href=\"#md225a8457d\" y=\"214.458852\"/>\r\n     <use style=\"fill:#ff7f0e;stroke:#ff7f0e;\" x=\"228.496264\" xlink:href=\"#md225a8457d\" y=\"214.466648\"/>\r\n     <use style=\"fill:#ff7f0e;stroke:#ff7f0e;\" x=\"228.934197\" xlink:href=\"#md225a8457d\" y=\"214.474232\"/>\r\n     <use style=\"fill:#ff7f0e;stroke:#ff7f0e;\" x=\"229.37213\" xlink:href=\"#md225a8457d\" y=\"214.481653\"/>\r\n     <use style=\"fill:#ff7f0e;stroke:#ff7f0e;\" x=\"229.810064\" xlink:href=\"#md225a8457d\" y=\"214.488889\"/>\r\n     <use style=\"fill:#ff7f0e;stroke:#ff7f0e;\" x=\"230.247997\" xlink:href=\"#md225a8457d\" y=\"214.495934\"/>\r\n     <use style=\"fill:#ff7f0e;stroke:#ff7f0e;\" x=\"230.68593\" xlink:href=\"#md225a8457d\" y=\"214.502794\"/>\r\n     <use style=\"fill:#ff7f0e;stroke:#ff7f0e;\" x=\"231.123864\" xlink:href=\"#md225a8457d\" y=\"214.509473\"/>\r\n     <use style=\"fill:#ff7f0e;stroke:#ff7f0e;\" x=\"231.561797\" xlink:href=\"#md225a8457d\" y=\"214.515973\"/>\r\n     <use style=\"fill:#ff7f0e;stroke:#ff7f0e;\" x=\"231.99973\" xlink:href=\"#md225a8457d\" y=\"214.522278\"/>\r\n     <use style=\"fill:#ff7f0e;stroke:#ff7f0e;\" x=\"232.437664\" xlink:href=\"#md225a8457d\" y=\"214.528422\"/>\r\n     <use style=\"fill:#ff7f0e;stroke:#ff7f0e;\" x=\"232.875597\" xlink:href=\"#md225a8457d\" y=\"214.534414\"/>\r\n     <use style=\"fill:#ff7f0e;stroke:#ff7f0e;\" x=\"233.31353\" xlink:href=\"#md225a8457d\" y=\"214.540256\"/>\r\n     <use style=\"fill:#ff7f0e;stroke:#ff7f0e;\" x=\"233.751463\" xlink:href=\"#md225a8457d\" y=\"214.545951\"/>\r\n     <use style=\"fill:#ff7f0e;stroke:#ff7f0e;\" x=\"234.189397\" xlink:href=\"#md225a8457d\" y=\"214.551501\"/>\r\n     <use style=\"fill:#ff7f0e;stroke:#ff7f0e;\" x=\"234.62733\" xlink:href=\"#md225a8457d\" y=\"214.556909\"/>\r\n     <use style=\"fill:#ff7f0e;stroke:#ff7f0e;\" x=\"235.065263\" xlink:href=\"#md225a8457d\" y=\"214.562178\"/>\r\n     <use style=\"fill:#ff7f0e;stroke:#ff7f0e;\" x=\"235.503197\" xlink:href=\"#md225a8457d\" y=\"214.56731\"/>\r\n     <use style=\"fill:#ff7f0e;stroke:#ff7f0e;\" x=\"235.94113\" xlink:href=\"#md225a8457d\" y=\"214.572308\"/>\r\n     <use style=\"fill:#ff7f0e;stroke:#ff7f0e;\" x=\"236.379063\" xlink:href=\"#md225a8457d\" y=\"214.577175\"/>\r\n     <use style=\"fill:#ff7f0e;stroke:#ff7f0e;\" x=\"236.816996\" xlink:href=\"#md225a8457d\" y=\"214.581914\"/>\r\n     <use style=\"fill:#ff7f0e;stroke:#ff7f0e;\" x=\"237.25493\" xlink:href=\"#md225a8457d\" y=\"214.586526\"/>\r\n     <use style=\"fill:#ff7f0e;stroke:#ff7f0e;\" x=\"237.692863\" xlink:href=\"#md225a8457d\" y=\"214.591015\"/>\r\n     <use style=\"fill:#ff7f0e;stroke:#ff7f0e;\" x=\"238.130796\" xlink:href=\"#md225a8457d\" y=\"214.595383\"/>\r\n     <use style=\"fill:#ff7f0e;stroke:#ff7f0e;\" x=\"238.56873\" xlink:href=\"#md225a8457d\" y=\"214.599633\"/>\r\n     <use style=\"fill:#ff7f0e;stroke:#ff7f0e;\" x=\"239.006663\" xlink:href=\"#md225a8457d\" y=\"214.603767\"/>\r\n     <use style=\"fill:#ff7f0e;stroke:#ff7f0e;\" x=\"239.444596\" xlink:href=\"#md225a8457d\" y=\"214.607789\"/>\r\n     <use style=\"fill:#ff7f0e;stroke:#ff7f0e;\" x=\"239.882529\" xlink:href=\"#md225a8457d\" y=\"214.6117\"/>\r\n     <use style=\"fill:#ff7f0e;stroke:#ff7f0e;\" x=\"240.320463\" xlink:href=\"#md225a8457d\" y=\"214.615504\"/>\r\n     <use style=\"fill:#ff7f0e;stroke:#ff7f0e;\" x=\"240.758396\" xlink:href=\"#md225a8457d\" y=\"214.619203\"/>\r\n     <use style=\"fill:#ff7f0e;stroke:#ff7f0e;\" x=\"241.196329\" xlink:href=\"#md225a8457d\" y=\"214.622799\"/>\r\n     <use style=\"fill:#ff7f0e;stroke:#ff7f0e;\" x=\"241.634263\" xlink:href=\"#md225a8457d\" y=\"214.626299\"/>\r\n     <use style=\"fill:#ff7f0e;stroke:#ff7f0e;\" x=\"242.072196\" xlink:href=\"#md225a8457d\" y=\"214.629723\"/>\r\n     <use style=\"fill:#ff7f0e;stroke:#ff7f0e;\" x=\"242.510129\" xlink:href=\"#md225a8457d\" y=\"214.633061\"/>\r\n     <use style=\"fill:#ff7f0e;stroke:#ff7f0e;\" x=\"242.948062\" xlink:href=\"#md225a8457d\" y=\"214.636311\"/>\r\n     <use style=\"fill:#ff7f0e;stroke:#ff7f0e;\" x=\"243.385996\" xlink:href=\"#md225a8457d\" y=\"214.639476\"/>\r\n     <use style=\"fill:#ff7f0e;stroke:#ff7f0e;\" x=\"243.823929\" xlink:href=\"#md225a8457d\" y=\"214.642557\"/>\r\n     <use style=\"fill:#ff7f0e;stroke:#ff7f0e;\" x=\"244.261862\" xlink:href=\"#md225a8457d\" y=\"214.645555\"/>\r\n     <use style=\"fill:#ff7f0e;stroke:#ff7f0e;\" x=\"244.699796\" xlink:href=\"#md225a8457d\" y=\"214.648464\"/>\r\n     <use style=\"fill:#ff7f0e;stroke:#ff7f0e;\" x=\"245.137729\" xlink:href=\"#md225a8457d\" y=\"214.651297\"/>\r\n     <use style=\"fill:#ff7f0e;stroke:#ff7f0e;\" x=\"245.575662\" xlink:href=\"#md225a8457d\" y=\"214.654061\"/>\r\n     <use style=\"fill:#ff7f0e;stroke:#ff7f0e;\" x=\"246.013595\" xlink:href=\"#md225a8457d\" y=\"214.656755\"/>\r\n     <use style=\"fill:#ff7f0e;stroke:#ff7f0e;\" x=\"246.451529\" xlink:href=\"#md225a8457d\" y=\"214.659382\"/>\r\n     <use style=\"fill:#ff7f0e;stroke:#ff7f0e;\" x=\"246.889462\" xlink:href=\"#md225a8457d\" y=\"214.661941\"/>\r\n     <use style=\"fill:#ff7f0e;stroke:#ff7f0e;\" x=\"247.327395\" xlink:href=\"#md225a8457d\" y=\"214.664435\"/>\r\n     <use style=\"fill:#ff7f0e;stroke:#ff7f0e;\" x=\"247.765329\" xlink:href=\"#md225a8457d\" y=\"214.666865\"/>\r\n     <use style=\"fill:#ff7f0e;stroke:#ff7f0e;\" x=\"248.203262\" xlink:href=\"#md225a8457d\" y=\"214.669232\"/>\r\n     <use style=\"fill:#ff7f0e;stroke:#ff7f0e;\" x=\"248.641195\" xlink:href=\"#md225a8457d\" y=\"214.671537\"/>\r\n     <use style=\"fill:#ff7f0e;stroke:#ff7f0e;\" x=\"249.079129\" xlink:href=\"#md225a8457d\" y=\"214.673781\"/>\r\n     <use style=\"fill:#ff7f0e;stroke:#ff7f0e;\" x=\"249.517062\" xlink:href=\"#md225a8457d\" y=\"214.675966\"/>\r\n     <use style=\"fill:#ff7f0e;stroke:#ff7f0e;\" x=\"249.954995\" xlink:href=\"#md225a8457d\" y=\"214.678093\"/>\r\n     <use style=\"fill:#ff7f0e;stroke:#ff7f0e;\" x=\"250.392928\" xlink:href=\"#md225a8457d\" y=\"214.680162\"/>\r\n     <use style=\"fill:#ff7f0e;stroke:#ff7f0e;\" x=\"250.830862\" xlink:href=\"#md225a8457d\" y=\"214.682176\"/>\r\n     <use style=\"fill:#ff7f0e;stroke:#ff7f0e;\" x=\"251.268795\" xlink:href=\"#md225a8457d\" y=\"214.684136\"/>\r\n     <use style=\"fill:#ff7f0e;stroke:#ff7f0e;\" x=\"251.706728\" xlink:href=\"#md225a8457d\" y=\"214.686042\"/>\r\n     <use style=\"fill:#ff7f0e;stroke:#ff7f0e;\" x=\"252.144662\" xlink:href=\"#md225a8457d\" y=\"214.687896\"/>\r\n     <use style=\"fill:#ff7f0e;stroke:#ff7f0e;\" x=\"252.582595\" xlink:href=\"#md225a8457d\" y=\"214.689699\"/>\r\n     <use style=\"fill:#ff7f0e;stroke:#ff7f0e;\" x=\"253.020528\" xlink:href=\"#md225a8457d\" y=\"214.691453\"/>\r\n     <use style=\"fill:#ff7f0e;stroke:#ff7f0e;\" x=\"253.458461\" xlink:href=\"#md225a8457d\" y=\"214.693158\"/>\r\n     <use style=\"fill:#ff7f0e;stroke:#ff7f0e;\" x=\"253.896395\" xlink:href=\"#md225a8457d\" y=\"214.694816\"/>\r\n     <use style=\"fill:#ff7f0e;stroke:#ff7f0e;\" x=\"254.334328\" xlink:href=\"#md225a8457d\" y=\"214.696429\"/>\r\n     <use style=\"fill:#ff7f0e;stroke:#ff7f0e;\" x=\"254.772261\" xlink:href=\"#md225a8457d\" y=\"214.698007\"/>\r\n     <use style=\"fill:#ff7f0e;stroke:#ff7f0e;\" x=\"255.210195\" xlink:href=\"#md225a8457d\" y=\"214.699546\"/>\r\n     <use style=\"fill:#ff7f0e;stroke:#ff7f0e;\" x=\"255.648128\" xlink:href=\"#md225a8457d\" y=\"214.701044\"/>\r\n     <use style=\"fill:#ff7f0e;stroke:#ff7f0e;\" x=\"256.086061\" xlink:href=\"#md225a8457d\" y=\"214.702503\"/>\r\n     <use style=\"fill:#ff7f0e;stroke:#ff7f0e;\" x=\"256.523994\" xlink:href=\"#md225a8457d\" y=\"214.703923\"/>\r\n     <use style=\"fill:#ff7f0e;stroke:#ff7f0e;\" x=\"256.961928\" xlink:href=\"#md225a8457d\" y=\"214.705305\"/>\r\n     <use style=\"fill:#ff7f0e;stroke:#ff7f0e;\" x=\"257.399861\" xlink:href=\"#md225a8457d\" y=\"214.706646\"/>\r\n     <use style=\"fill:#ff7f0e;stroke:#ff7f0e;\" x=\"257.837794\" xlink:href=\"#md225a8457d\" y=\"214.707952\"/>\r\n     <use style=\"fill:#ff7f0e;stroke:#ff7f0e;\" x=\"258.275728\" xlink:href=\"#md225a8457d\" y=\"214.709226\"/>\r\n     <use style=\"fill:#ff7f0e;stroke:#ff7f0e;\" x=\"258.713661\" xlink:href=\"#md225a8457d\" y=\"214.710468\"/>\r\n     <use style=\"fill:#ff7f0e;stroke:#ff7f0e;\" x=\"259.151594\" xlink:href=\"#md225a8457d\" y=\"214.711678\"/>\r\n     <use style=\"fill:#ff7f0e;stroke:#ff7f0e;\" x=\"259.589527\" xlink:href=\"#md225a8457d\" y=\"214.712858\"/>\r\n     <use style=\"fill:#ff7f0e;stroke:#ff7f0e;\" x=\"260.027461\" xlink:href=\"#md225a8457d\" y=\"214.714007\"/>\r\n     <use style=\"fill:#ff7f0e;stroke:#ff7f0e;\" x=\"260.465394\" xlink:href=\"#md225a8457d\" y=\"214.715127\"/>\r\n     <use style=\"fill:#ff7f0e;stroke:#ff7f0e;\" x=\"260.903327\" xlink:href=\"#md225a8457d\" y=\"214.716218\"/>\r\n     <use style=\"fill:#ff7f0e;stroke:#ff7f0e;\" x=\"261.341261\" xlink:href=\"#md225a8457d\" y=\"214.71728\"/>\r\n     <use style=\"fill:#ff7f0e;stroke:#ff7f0e;\" x=\"261.779194\" xlink:href=\"#md225a8457d\" y=\"214.718314\"/>\r\n     <use style=\"fill:#ff7f0e;stroke:#ff7f0e;\" x=\"262.217127\" xlink:href=\"#md225a8457d\" y=\"214.719321\"/>\r\n     <use style=\"fill:#ff7f0e;stroke:#ff7f0e;\" x=\"262.65506\" xlink:href=\"#md225a8457d\" y=\"214.720301\"/>\r\n     <use style=\"fill:#ff7f0e;stroke:#ff7f0e;\" x=\"263.092994\" xlink:href=\"#md225a8457d\" y=\"214.721255\"/>\r\n     <use style=\"fill:#ff7f0e;stroke:#ff7f0e;\" x=\"263.530927\" xlink:href=\"#md225a8457d\" y=\"214.722183\"/>\r\n     <use style=\"fill:#ff7f0e;stroke:#ff7f0e;\" x=\"263.96886\" xlink:href=\"#md225a8457d\" y=\"214.723086\"/>\r\n     <use style=\"fill:#ff7f0e;stroke:#ff7f0e;\" x=\"264.406794\" xlink:href=\"#md225a8457d\" y=\"214.723965\"/>\r\n     <use style=\"fill:#ff7f0e;stroke:#ff7f0e;\" x=\"264.844727\" xlink:href=\"#md225a8457d\" y=\"214.724819\"/>\r\n     <use style=\"fill:#ff7f0e;stroke:#ff7f0e;\" x=\"265.28266\" xlink:href=\"#md225a8457d\" y=\"214.72565\"/>\r\n     <use style=\"fill:#ff7f0e;stroke:#ff7f0e;\" x=\"265.720594\" xlink:href=\"#md225a8457d\" y=\"214.726458\"/>\r\n     <use style=\"fill:#ff7f0e;stroke:#ff7f0e;\" x=\"266.158527\" xlink:href=\"#md225a8457d\" y=\"214.727244\"/>\r\n     <use style=\"fill:#ff7f0e;stroke:#ff7f0e;\" x=\"266.59646\" xlink:href=\"#md225a8457d\" y=\"214.728008\"/>\r\n     <use style=\"fill:#ff7f0e;stroke:#ff7f0e;\" x=\"267.034393\" xlink:href=\"#md225a8457d\" y=\"214.728751\"/>\r\n     <use style=\"fill:#ff7f0e;stroke:#ff7f0e;\" x=\"267.472327\" xlink:href=\"#md225a8457d\" y=\"214.729478\"/>\r\n     <use style=\"fill:#ff7f0e;stroke:#ff7f0e;\" x=\"267.91026\" xlink:href=\"#md225a8457d\" y=\"214.730187\"/>\r\n     <use style=\"fill:#ff7f0e;stroke:#ff7f0e;\" x=\"268.348193\" xlink:href=\"#md225a8457d\" y=\"214.730878\"/>\r\n     <use style=\"fill:#ff7f0e;stroke:#ff7f0e;\" x=\"268.786127\" xlink:href=\"#md225a8457d\" y=\"214.73155\"/>\r\n     <use style=\"fill:#ff7f0e;stroke:#ff7f0e;\" x=\"269.22406\" xlink:href=\"#md225a8457d\" y=\"214.732204\"/>\r\n     <use style=\"fill:#ff7f0e;stroke:#ff7f0e;\" x=\"269.661993\" xlink:href=\"#md225a8457d\" y=\"214.732841\"/>\r\n     <use style=\"fill:#ff7f0e;stroke:#ff7f0e;\" x=\"270.099926\" xlink:href=\"#md225a8457d\" y=\"214.733459\"/>\r\n     <use style=\"fill:#ff7f0e;stroke:#ff7f0e;\" x=\"270.53786\" xlink:href=\"#md225a8457d\" y=\"214.734061\"/>\r\n     <use style=\"fill:#ff7f0e;stroke:#ff7f0e;\" x=\"270.975793\" xlink:href=\"#md225a8457d\" y=\"214.734647\"/>\r\n     <use style=\"fill:#ff7f0e;stroke:#ff7f0e;\" x=\"271.413726\" xlink:href=\"#md225a8457d\" y=\"214.73522\"/>\r\n     <use style=\"fill:#ff7f0e;stroke:#ff7f0e;\" x=\"271.85166\" xlink:href=\"#md225a8457d\" y=\"214.735777\"/>\r\n     <use style=\"fill:#ff7f0e;stroke:#ff7f0e;\" x=\"272.289593\" xlink:href=\"#md225a8457d\" y=\"214.736321\"/>\r\n     <use style=\"fill:#ff7f0e;stroke:#ff7f0e;\" x=\"272.727526\" xlink:href=\"#md225a8457d\" y=\"214.736851\"/>\r\n     <use style=\"fill:#ff7f0e;stroke:#ff7f0e;\" x=\"273.165459\" xlink:href=\"#md225a8457d\" y=\"214.737367\"/>\r\n     <use style=\"fill:#ff7f0e;stroke:#ff7f0e;\" x=\"273.603393\" xlink:href=\"#md225a8457d\" y=\"214.737869\"/>\r\n     <use style=\"fill:#ff7f0e;stroke:#ff7f0e;\" x=\"274.041326\" xlink:href=\"#md225a8457d\" y=\"214.738358\"/>\r\n     <use style=\"fill:#ff7f0e;stroke:#ff7f0e;\" x=\"274.479259\" xlink:href=\"#md225a8457d\" y=\"214.738835\"/>\r\n     <use style=\"fill:#ff7f0e;stroke:#ff7f0e;\" x=\"274.917193\" xlink:href=\"#md225a8457d\" y=\"214.739299\"/>\r\n     <use style=\"fill:#ff7f0e;stroke:#ff7f0e;\" x=\"275.355126\" xlink:href=\"#md225a8457d\" y=\"214.73975\"/>\r\n     <use style=\"fill:#ff7f0e;stroke:#ff7f0e;\" x=\"275.793059\" xlink:href=\"#md225a8457d\" y=\"214.74019\"/>\r\n     <use style=\"fill:#ff7f0e;stroke:#ff7f0e;\" x=\"276.230992\" xlink:href=\"#md225a8457d\" y=\"214.740618\"/>\r\n     <use style=\"fill:#ff7f0e;stroke:#ff7f0e;\" x=\"276.668926\" xlink:href=\"#md225a8457d\" y=\"214.741034\"/>\r\n     <use style=\"fill:#ff7f0e;stroke:#ff7f0e;\" x=\"277.106859\" xlink:href=\"#md225a8457d\" y=\"214.741438\"/>\r\n     <use style=\"fill:#ff7f0e;stroke:#ff7f0e;\" x=\"277.544792\" xlink:href=\"#md225a8457d\" y=\"214.741832\"/>\r\n     <use style=\"fill:#ff7f0e;stroke:#ff7f0e;\" x=\"277.982726\" xlink:href=\"#md225a8457d\" y=\"214.742215\"/>\r\n     <use style=\"fill:#ff7f0e;stroke:#ff7f0e;\" x=\"278.420659\" xlink:href=\"#md225a8457d\" y=\"214.742587\"/>\r\n     <use style=\"fill:#ff7f0e;stroke:#ff7f0e;\" x=\"278.858592\" xlink:href=\"#md225a8457d\" y=\"214.742949\"/>\r\n     <use style=\"fill:#ff7f0e;stroke:#ff7f0e;\" x=\"279.296526\" xlink:href=\"#md225a8457d\" y=\"214.743301\"/>\r\n     <use style=\"fill:#ff7f0e;stroke:#ff7f0e;\" x=\"279.734459\" xlink:href=\"#md225a8457d\" y=\"214.743643\"/>\r\n     <use style=\"fill:#ff7f0e;stroke:#ff7f0e;\" x=\"280.172392\" xlink:href=\"#md225a8457d\" y=\"214.743978\"/>\r\n     <use style=\"fill:#ff7f0e;stroke:#ff7f0e;\" x=\"280.610325\" xlink:href=\"#md225a8457d\" y=\"214.744305\"/>\r\n     <use style=\"fill:#ff7f0e;stroke:#ff7f0e;\" x=\"281.048259\" xlink:href=\"#md225a8457d\" y=\"214.744623\"/>\r\n     <use style=\"fill:#ff7f0e;stroke:#ff7f0e;\" x=\"281.486192\" xlink:href=\"#md225a8457d\" y=\"214.744933\"/>\r\n     <use style=\"fill:#ff7f0e;stroke:#ff7f0e;\" x=\"281.924125\" xlink:href=\"#md225a8457d\" y=\"214.745234\"/>\r\n     <use style=\"fill:#ff7f0e;stroke:#ff7f0e;\" x=\"282.362059\" xlink:href=\"#md225a8457d\" y=\"214.745528\"/>\r\n     <use style=\"fill:#ff7f0e;stroke:#ff7f0e;\" x=\"282.799992\" xlink:href=\"#md225a8457d\" y=\"214.745812\"/>\r\n     <use style=\"fill:#ff7f0e;stroke:#ff7f0e;\" x=\"283.237925\" xlink:href=\"#md225a8457d\" y=\"214.746089\"/>\r\n     <use style=\"fill:#ff7f0e;stroke:#ff7f0e;\" x=\"283.675858\" xlink:href=\"#md225a8457d\" y=\"214.74636\"/>\r\n     <use style=\"fill:#ff7f0e;stroke:#ff7f0e;\" x=\"284.113792\" xlink:href=\"#md225a8457d\" y=\"214.746623\"/>\r\n     <use style=\"fill:#ff7f0e;stroke:#ff7f0e;\" x=\"284.551725\" xlink:href=\"#md225a8457d\" y=\"214.74688\"/>\r\n     <use style=\"fill:#ff7f0e;stroke:#ff7f0e;\" x=\"284.989658\" xlink:href=\"#md225a8457d\" y=\"214.747131\"/>\r\n     <use style=\"fill:#ff7f0e;stroke:#ff7f0e;\" x=\"285.427592\" xlink:href=\"#md225a8457d\" y=\"214.747375\"/>\r\n     <use style=\"fill:#ff7f0e;stroke:#ff7f0e;\" x=\"285.865525\" xlink:href=\"#md225a8457d\" y=\"214.747612\"/>\r\n     <use style=\"fill:#ff7f0e;stroke:#ff7f0e;\" x=\"286.303458\" xlink:href=\"#md225a8457d\" y=\"214.747844\"/>\r\n     <use style=\"fill:#ff7f0e;stroke:#ff7f0e;\" x=\"286.741391\" xlink:href=\"#md225a8457d\" y=\"214.748069\"/>\r\n     <use style=\"fill:#ff7f0e;stroke:#ff7f0e;\" x=\"287.179325\" xlink:href=\"#md225a8457d\" y=\"214.748289\"/>\r\n     <use style=\"fill:#ff7f0e;stroke:#ff7f0e;\" x=\"287.617258\" xlink:href=\"#md225a8457d\" y=\"214.748503\"/>\r\n     <use style=\"fill:#ff7f0e;stroke:#ff7f0e;\" x=\"288.055191\" xlink:href=\"#md225a8457d\" y=\"214.748711\"/>\r\n     <use style=\"fill:#ff7f0e;stroke:#ff7f0e;\" x=\"288.493125\" xlink:href=\"#md225a8457d\" y=\"214.748913\"/>\r\n     <use style=\"fill:#ff7f0e;stroke:#ff7f0e;\" x=\"288.931058\" xlink:href=\"#md225a8457d\" y=\"214.74911\"/>\r\n     <use style=\"fill:#ff7f0e;stroke:#ff7f0e;\" x=\"289.368991\" xlink:href=\"#md225a8457d\" y=\"214.749302\"/>\r\n     <use style=\"fill:#ff7f0e;stroke:#ff7f0e;\" x=\"289.806924\" xlink:href=\"#md225a8457d\" y=\"214.749488\"/>\r\n     <use style=\"fill:#ff7f0e;stroke:#ff7f0e;\" x=\"290.244858\" xlink:href=\"#md225a8457d\" y=\"214.74967\"/>\r\n     <use style=\"fill:#ff7f0e;stroke:#ff7f0e;\" x=\"290.682791\" xlink:href=\"#md225a8457d\" y=\"214.749846\"/>\r\n     <use style=\"fill:#ff7f0e;stroke:#ff7f0e;\" x=\"291.120724\" xlink:href=\"#md225a8457d\" y=\"214.750017\"/>\r\n     <use style=\"fill:#ff7f0e;stroke:#ff7f0e;\" x=\"291.558658\" xlink:href=\"#md225a8457d\" y=\"214.750184\"/>\r\n     <use style=\"fill:#ff7f0e;stroke:#ff7f0e;\" x=\"291.996591\" xlink:href=\"#md225a8457d\" y=\"214.750346\"/>\r\n     <use style=\"fill:#ff7f0e;stroke:#ff7f0e;\" x=\"292.434524\" xlink:href=\"#md225a8457d\" y=\"214.750504\"/>\r\n     <use style=\"fill:#ff7f0e;stroke:#ff7f0e;\" x=\"292.872457\" xlink:href=\"#md225a8457d\" y=\"214.750658\"/>\r\n     <use style=\"fill:#ff7f0e;stroke:#ff7f0e;\" x=\"293.310391\" xlink:href=\"#md225a8457d\" y=\"214.750809\"/>\r\n     <use style=\"fill:#ff7f0e;stroke:#ff7f0e;\" x=\"293.748324\" xlink:href=\"#md225a8457d\" y=\"214.750955\"/>\r\n     <use style=\"fill:#ff7f0e;stroke:#ff7f0e;\" x=\"294.186257\" xlink:href=\"#md225a8457d\" y=\"214.751098\"/>\r\n     <use style=\"fill:#ff7f0e;stroke:#ff7f0e;\" x=\"294.624191\" xlink:href=\"#md225a8457d\" y=\"214.751237\"/>\r\n     <use style=\"fill:#ff7f0e;stroke:#ff7f0e;\" x=\"295.062124\" xlink:href=\"#md225a8457d\" y=\"214.751372\"/>\r\n     <use style=\"fill:#ff7f0e;stroke:#ff7f0e;\" x=\"295.500057\" xlink:href=\"#md225a8457d\" y=\"214.751503\"/>\r\n     <use style=\"fill:#ff7f0e;stroke:#ff7f0e;\" x=\"295.937991\" xlink:href=\"#md225a8457d\" y=\"214.751631\"/>\r\n     <use style=\"fill:#ff7f0e;stroke:#ff7f0e;\" x=\"296.375924\" xlink:href=\"#md225a8457d\" y=\"214.751755\"/>\r\n     <use style=\"fill:#ff7f0e;stroke:#ff7f0e;\" x=\"296.813857\" xlink:href=\"#md225a8457d\" y=\"214.751877\"/>\r\n     <use style=\"fill:#ff7f0e;stroke:#ff7f0e;\" x=\"297.25179\" xlink:href=\"#md225a8457d\" y=\"214.751995\"/>\r\n     <use style=\"fill:#ff7f0e;stroke:#ff7f0e;\" x=\"297.689724\" xlink:href=\"#md225a8457d\" y=\"214.752111\"/>\r\n     <use style=\"fill:#ff7f0e;stroke:#ff7f0e;\" x=\"298.127657\" xlink:href=\"#md225a8457d\" y=\"214.752223\"/>\r\n     <use style=\"fill:#ff7f0e;stroke:#ff7f0e;\" x=\"298.56559\" xlink:href=\"#md225a8457d\" y=\"214.752332\"/>\r\n     <use style=\"fill:#ff7f0e;stroke:#ff7f0e;\" x=\"299.003524\" xlink:href=\"#md225a8457d\" y=\"214.752439\"/>\r\n     <use style=\"fill:#ff7f0e;stroke:#ff7f0e;\" x=\"299.441457\" xlink:href=\"#md225a8457d\" y=\"214.752543\"/>\r\n     <use style=\"fill:#ff7f0e;stroke:#ff7f0e;\" x=\"299.87939\" xlink:href=\"#md225a8457d\" y=\"214.752644\"/>\r\n     <use style=\"fill:#ff7f0e;stroke:#ff7f0e;\" x=\"300.317323\" xlink:href=\"#md225a8457d\" y=\"214.752743\"/>\r\n     <use style=\"fill:#ff7f0e;stroke:#ff7f0e;\" x=\"300.755257\" xlink:href=\"#md225a8457d\" y=\"214.752838\"/>\r\n     <use style=\"fill:#ff7f0e;stroke:#ff7f0e;\" x=\"301.19319\" xlink:href=\"#md225a8457d\" y=\"214.752932\"/>\r\n     <use style=\"fill:#ff7f0e;stroke:#ff7f0e;\" x=\"301.631123\" xlink:href=\"#md225a8457d\" y=\"214.753022\"/>\r\n     <use style=\"fill:#ff7f0e;stroke:#ff7f0e;\" x=\"302.069057\" xlink:href=\"#md225a8457d\" y=\"214.753111\"/>\r\n     <use style=\"fill:#ff7f0e;stroke:#ff7f0e;\" x=\"302.50699\" xlink:href=\"#md225a8457d\" y=\"214.753197\"/>\r\n     <use style=\"fill:#ff7f0e;stroke:#ff7f0e;\" x=\"302.944923\" xlink:href=\"#md225a8457d\" y=\"214.75328\"/>\r\n     <use style=\"fill:#ff7f0e;stroke:#ff7f0e;\" x=\"303.382856\" xlink:href=\"#md225a8457d\" y=\"214.753361\"/>\r\n     <use style=\"fill:#ff7f0e;stroke:#ff7f0e;\" x=\"303.82079\" xlink:href=\"#md225a8457d\" y=\"214.75344\"/>\r\n     <use style=\"fill:#ff7f0e;stroke:#ff7f0e;\" x=\"304.258723\" xlink:href=\"#md225a8457d\" y=\"214.753517\"/>\r\n     <use style=\"fill:#ff7f0e;stroke:#ff7f0e;\" x=\"304.696656\" xlink:href=\"#md225a8457d\" y=\"214.753592\"/>\r\n     <use style=\"fill:#ff7f0e;stroke:#ff7f0e;\" x=\"305.13459\" xlink:href=\"#md225a8457d\" y=\"214.753664\"/>\r\n     <use style=\"fill:#ff7f0e;stroke:#ff7f0e;\" x=\"305.572523\" xlink:href=\"#md225a8457d\" y=\"214.753736\"/>\r\n     <use style=\"fill:#ff7f0e;stroke:#ff7f0e;\" x=\"306.010456\" xlink:href=\"#md225a8457d\" y=\"214.753805\"/>\r\n     <use style=\"fill:#ff7f0e;stroke:#ff7f0e;\" x=\"306.448389\" xlink:href=\"#md225a8457d\" y=\"214.753872\"/>\r\n     <use style=\"fill:#ff7f0e;stroke:#ff7f0e;\" x=\"306.886323\" xlink:href=\"#md225a8457d\" y=\"214.753938\"/>\r\n     <use style=\"fill:#ff7f0e;stroke:#ff7f0e;\" x=\"307.324256\" xlink:href=\"#md225a8457d\" y=\"214.754002\"/>\r\n     <use style=\"fill:#ff7f0e;stroke:#ff7f0e;\" x=\"307.762189\" xlink:href=\"#md225a8457d\" y=\"214.754064\"/>\r\n     <use style=\"fill:#ff7f0e;stroke:#ff7f0e;\" x=\"308.200123\" xlink:href=\"#md225a8457d\" y=\"214.754125\"/>\r\n     <use style=\"fill:#ff7f0e;stroke:#ff7f0e;\" x=\"308.638056\" xlink:href=\"#md225a8457d\" y=\"214.754184\"/>\r\n     <use style=\"fill:#ff7f0e;stroke:#ff7f0e;\" x=\"309.075989\" xlink:href=\"#md225a8457d\" y=\"214.754241\"/>\r\n     <use style=\"fill:#ff7f0e;stroke:#ff7f0e;\" x=\"309.513922\" xlink:href=\"#md225a8457d\" y=\"214.754297\"/>\r\n     <use style=\"fill:#ff7f0e;stroke:#ff7f0e;\" x=\"309.951856\" xlink:href=\"#md225a8457d\" y=\"214.754351\"/>\r\n     <use style=\"fill:#ff7f0e;stroke:#ff7f0e;\" x=\"310.389789\" xlink:href=\"#md225a8457d\" y=\"214.754404\"/>\r\n     <use style=\"fill:#ff7f0e;stroke:#ff7f0e;\" x=\"310.827722\" xlink:href=\"#md225a8457d\" y=\"214.754456\"/>\r\n     <use style=\"fill:#ff7f0e;stroke:#ff7f0e;\" x=\"311.265656\" xlink:href=\"#md225a8457d\" y=\"214.754507\"/>\r\n     <use style=\"fill:#ff7f0e;stroke:#ff7f0e;\" x=\"311.703589\" xlink:href=\"#md225a8457d\" y=\"214.754556\"/>\r\n     <use style=\"fill:#ff7f0e;stroke:#ff7f0e;\" x=\"312.141522\" xlink:href=\"#md225a8457d\" y=\"214.754604\"/>\r\n     <use style=\"fill:#ff7f0e;stroke:#ff7f0e;\" x=\"312.579456\" xlink:href=\"#md225a8457d\" y=\"214.75465\"/>\r\n     <use style=\"fill:#ff7f0e;stroke:#ff7f0e;\" x=\"313.017389\" xlink:href=\"#md225a8457d\" y=\"214.754696\"/>\r\n     <use style=\"fill:#ff7f0e;stroke:#ff7f0e;\" x=\"313.455322\" xlink:href=\"#md225a8457d\" y=\"214.75474\"/>\r\n     <use style=\"fill:#ff7f0e;stroke:#ff7f0e;\" x=\"313.893255\" xlink:href=\"#md225a8457d\" y=\"214.754783\"/>\r\n     <use style=\"fill:#ff7f0e;stroke:#ff7f0e;\" x=\"314.331189\" xlink:href=\"#md225a8457d\" y=\"214.754825\"/>\r\n     <use style=\"fill:#ff7f0e;stroke:#ff7f0e;\" x=\"314.769122\" xlink:href=\"#md225a8457d\" y=\"214.754865\"/>\r\n     <use style=\"fill:#ff7f0e;stroke:#ff7f0e;\" x=\"315.207055\" xlink:href=\"#md225a8457d\" y=\"214.754905\"/>\r\n     <use style=\"fill:#ff7f0e;stroke:#ff7f0e;\" x=\"315.644989\" xlink:href=\"#md225a8457d\" y=\"214.754943\"/>\r\n     <use style=\"fill:#ff7f0e;stroke:#ff7f0e;\" x=\"316.082922\" xlink:href=\"#md225a8457d\" y=\"214.754981\"/>\r\n     <use style=\"fill:#ff7f0e;stroke:#ff7f0e;\" x=\"316.520855\" xlink:href=\"#md225a8457d\" y=\"214.755017\"/>\r\n     <use style=\"fill:#ff7f0e;stroke:#ff7f0e;\" x=\"316.958788\" xlink:href=\"#md225a8457d\" y=\"214.755052\"/>\r\n     <use style=\"fill:#ff7f0e;stroke:#ff7f0e;\" x=\"317.396722\" xlink:href=\"#md225a8457d\" y=\"214.755087\"/>\r\n     <use style=\"fill:#ff7f0e;stroke:#ff7f0e;\" x=\"317.834655\" xlink:href=\"#md225a8457d\" y=\"214.75512\"/>\r\n     <use style=\"fill:#ff7f0e;stroke:#ff7f0e;\" x=\"318.272588\" xlink:href=\"#md225a8457d\" y=\"214.755153\"/>\r\n     <use style=\"fill:#ff7f0e;stroke:#ff7f0e;\" x=\"318.710522\" xlink:href=\"#md225a8457d\" y=\"214.755185\"/>\r\n     <use style=\"fill:#ff7f0e;stroke:#ff7f0e;\" x=\"319.148455\" xlink:href=\"#md225a8457d\" y=\"214.755216\"/>\r\n     <use style=\"fill:#ff7f0e;stroke:#ff7f0e;\" x=\"319.586388\" xlink:href=\"#md225a8457d\" y=\"214.755246\"/>\r\n     <use style=\"fill:#ff7f0e;stroke:#ff7f0e;\" x=\"320.024321\" xlink:href=\"#md225a8457d\" y=\"214.755276\"/>\r\n     <use style=\"fill:#ff7f0e;stroke:#ff7f0e;\" x=\"320.462255\" xlink:href=\"#md225a8457d\" y=\"214.755304\"/>\r\n     <use style=\"fill:#ff7f0e;stroke:#ff7f0e;\" x=\"320.900188\" xlink:href=\"#md225a8457d\" y=\"214.755332\"/>\r\n     <use style=\"fill:#ff7f0e;stroke:#ff7f0e;\" x=\"321.338121\" xlink:href=\"#md225a8457d\" y=\"214.755359\"/>\r\n     <use style=\"fill:#ff7f0e;stroke:#ff7f0e;\" x=\"321.776055\" xlink:href=\"#md225a8457d\" y=\"214.755386\"/>\r\n     <use style=\"fill:#ff7f0e;stroke:#ff7f0e;\" x=\"322.213988\" xlink:href=\"#md225a8457d\" y=\"214.755412\"/>\r\n     <use style=\"fill:#ff7f0e;stroke:#ff7f0e;\" x=\"322.651921\" xlink:href=\"#md225a8457d\" y=\"214.755437\"/>\r\n     <use style=\"fill:#ff7f0e;stroke:#ff7f0e;\" x=\"323.089854\" xlink:href=\"#md225a8457d\" y=\"214.755461\"/>\r\n     <use style=\"fill:#ff7f0e;stroke:#ff7f0e;\" x=\"323.527788\" xlink:href=\"#md225a8457d\" y=\"214.755485\"/>\r\n     <use style=\"fill:#ff7f0e;stroke:#ff7f0e;\" x=\"323.965721\" xlink:href=\"#md225a8457d\" y=\"214.755508\"/>\r\n     <use style=\"fill:#ff7f0e;stroke:#ff7f0e;\" x=\"324.403654\" xlink:href=\"#md225a8457d\" y=\"214.755531\"/>\r\n     <use style=\"fill:#ff7f0e;stroke:#ff7f0e;\" x=\"324.841588\" xlink:href=\"#md225a8457d\" y=\"214.755553\"/>\r\n     <use style=\"fill:#ff7f0e;stroke:#ff7f0e;\" x=\"325.279521\" xlink:href=\"#md225a8457d\" y=\"214.755574\"/>\r\n     <use style=\"fill:#ff7f0e;stroke:#ff7f0e;\" x=\"325.717454\" xlink:href=\"#md225a8457d\" y=\"214.755595\"/>\r\n     <use style=\"fill:#ff7f0e;stroke:#ff7f0e;\" x=\"326.155388\" xlink:href=\"#md225a8457d\" y=\"214.755616\"/>\r\n     <use style=\"fill:#ff7f0e;stroke:#ff7f0e;\" x=\"326.593321\" xlink:href=\"#md225a8457d\" y=\"214.755635\"/>\r\n     <use style=\"fill:#ff7f0e;stroke:#ff7f0e;\" x=\"327.031254\" xlink:href=\"#md225a8457d\" y=\"214.755655\"/>\r\n     <use style=\"fill:#ff7f0e;stroke:#ff7f0e;\" x=\"327.469187\" xlink:href=\"#md225a8457d\" y=\"214.755673\"/>\r\n     <use style=\"fill:#ff7f0e;stroke:#ff7f0e;\" x=\"327.907121\" xlink:href=\"#md225a8457d\" y=\"214.755692\"/>\r\n     <use style=\"fill:#ff7f0e;stroke:#ff7f0e;\" x=\"328.345054\" xlink:href=\"#md225a8457d\" y=\"214.755709\"/>\r\n     <use style=\"fill:#ff7f0e;stroke:#ff7f0e;\" x=\"328.782987\" xlink:href=\"#md225a8457d\" y=\"214.755727\"/>\r\n     <use style=\"fill:#ff7f0e;stroke:#ff7f0e;\" x=\"329.220921\" xlink:href=\"#md225a8457d\" y=\"214.755743\"/>\r\n     <use style=\"fill:#ff7f0e;stroke:#ff7f0e;\" x=\"329.658854\" xlink:href=\"#md225a8457d\" y=\"214.75576\"/>\r\n     <use style=\"fill:#ff7f0e;stroke:#ff7f0e;\" x=\"330.096787\" xlink:href=\"#md225a8457d\" y=\"214.755776\"/>\r\n     <use style=\"fill:#ff7f0e;stroke:#ff7f0e;\" x=\"330.53472\" xlink:href=\"#md225a8457d\" y=\"214.755791\"/>\r\n     <use style=\"fill:#ff7f0e;stroke:#ff7f0e;\" x=\"330.972654\" xlink:href=\"#md225a8457d\" y=\"214.755806\"/>\r\n     <use style=\"fill:#ff7f0e;stroke:#ff7f0e;\" x=\"331.410587\" xlink:href=\"#md225a8457d\" y=\"214.755821\"/>\r\n     <use style=\"fill:#ff7f0e;stroke:#ff7f0e;\" x=\"331.84852\" xlink:href=\"#md225a8457d\" y=\"214.755835\"/>\r\n     <use style=\"fill:#ff7f0e;stroke:#ff7f0e;\" x=\"332.286454\" xlink:href=\"#md225a8457d\" y=\"214.755849\"/>\r\n     <use style=\"fill:#ff7f0e;stroke:#ff7f0e;\" x=\"332.724387\" xlink:href=\"#md225a8457d\" y=\"214.755863\"/>\r\n     <use style=\"fill:#ff7f0e;stroke:#ff7f0e;\" x=\"333.16232\" xlink:href=\"#md225a8457d\" y=\"214.755876\"/>\r\n     <use style=\"fill:#ff7f0e;stroke:#ff7f0e;\" x=\"333.600253\" xlink:href=\"#md225a8457d\" y=\"214.755889\"/>\r\n     <use style=\"fill:#ff7f0e;stroke:#ff7f0e;\" x=\"334.038187\" xlink:href=\"#md225a8457d\" y=\"214.755901\"/>\r\n     <use style=\"fill:#ff7f0e;stroke:#ff7f0e;\" x=\"334.47612\" xlink:href=\"#md225a8457d\" y=\"214.755913\"/>\r\n     <use style=\"fill:#ff7f0e;stroke:#ff7f0e;\" x=\"334.914053\" xlink:href=\"#md225a8457d\" y=\"214.755925\"/>\r\n     <use style=\"fill:#ff7f0e;stroke:#ff7f0e;\" x=\"335.351987\" xlink:href=\"#md225a8457d\" y=\"214.755937\"/>\r\n     <use style=\"fill:#ff7f0e;stroke:#ff7f0e;\" x=\"335.78992\" xlink:href=\"#md225a8457d\" y=\"214.755948\"/>\r\n     <use style=\"fill:#ff7f0e;stroke:#ff7f0e;\" x=\"336.227853\" xlink:href=\"#md225a8457d\" y=\"214.755959\"/>\r\n     <use style=\"fill:#ff7f0e;stroke:#ff7f0e;\" x=\"336.665786\" xlink:href=\"#md225a8457d\" y=\"214.75597\"/>\r\n     <use style=\"fill:#ff7f0e;stroke:#ff7f0e;\" x=\"337.10372\" xlink:href=\"#md225a8457d\" y=\"214.75598\"/>\r\n     <use style=\"fill:#ff7f0e;stroke:#ff7f0e;\" x=\"337.541653\" xlink:href=\"#md225a8457d\" y=\"214.75599\"/>\r\n     <use style=\"fill:#ff7f0e;stroke:#ff7f0e;\" x=\"337.979586\" xlink:href=\"#md225a8457d\" y=\"214.756\"/>\r\n     <use style=\"fill:#ff7f0e;stroke:#ff7f0e;\" x=\"338.41752\" xlink:href=\"#md225a8457d\" y=\"214.75601\"/>\r\n     <use style=\"fill:#ff7f0e;stroke:#ff7f0e;\" x=\"338.855453\" xlink:href=\"#md225a8457d\" y=\"214.756019\"/>\r\n     <use style=\"fill:#ff7f0e;stroke:#ff7f0e;\" x=\"339.293386\" xlink:href=\"#md225a8457d\" y=\"214.756028\"/>\r\n     <use style=\"fill:#ff7f0e;stroke:#ff7f0e;\" x=\"339.731319\" xlink:href=\"#md225a8457d\" y=\"214.756037\"/>\r\n     <use style=\"fill:#ff7f0e;stroke:#ff7f0e;\" x=\"340.169253\" xlink:href=\"#md225a8457d\" y=\"214.756046\"/>\r\n     <use style=\"fill:#ff7f0e;stroke:#ff7f0e;\" x=\"340.607186\" xlink:href=\"#md225a8457d\" y=\"214.756054\"/>\r\n     <use style=\"fill:#ff7f0e;stroke:#ff7f0e;\" x=\"341.045119\" xlink:href=\"#md225a8457d\" y=\"214.756062\"/>\r\n     <use style=\"fill:#ff7f0e;stroke:#ff7f0e;\" x=\"341.483053\" xlink:href=\"#md225a8457d\" y=\"214.75607\"/>\r\n     <use style=\"fill:#ff7f0e;stroke:#ff7f0e;\" x=\"341.920986\" xlink:href=\"#md225a8457d\" y=\"214.756078\"/>\r\n     <use style=\"fill:#ff7f0e;stroke:#ff7f0e;\" x=\"342.358919\" xlink:href=\"#md225a8457d\" y=\"214.756085\"/>\r\n     <use style=\"fill:#ff7f0e;stroke:#ff7f0e;\" x=\"342.796853\" xlink:href=\"#md225a8457d\" y=\"214.756093\"/>\r\n     <use style=\"fill:#ff7f0e;stroke:#ff7f0e;\" x=\"343.234786\" xlink:href=\"#md225a8457d\" y=\"214.7561\"/>\r\n     <use style=\"fill:#ff7f0e;stroke:#ff7f0e;\" x=\"343.672719\" xlink:href=\"#md225a8457d\" y=\"214.756107\"/>\r\n     <use style=\"fill:#ff7f0e;stroke:#ff7f0e;\" x=\"344.110652\" xlink:href=\"#md225a8457d\" y=\"214.756114\"/>\r\n     <use style=\"fill:#ff7f0e;stroke:#ff7f0e;\" x=\"344.548586\" xlink:href=\"#md225a8457d\" y=\"214.75612\"/>\r\n    </g>\r\n   </g>\r\n   <g id=\"matplotlib.axis_1\">\r\n    <g id=\"xtick_1\">\r\n     <g id=\"line2d_1\">\r\n      <defs>\r\n       <path d=\"M 0 0 \r\nL 0 3.5 \r\n\" id=\"m0bdbb02cf6\" style=\"stroke:#000000;stroke-width:0.8;\"/>\r\n      </defs>\r\n      <g>\r\n       <use style=\"stroke:#000000;stroke-width:0.8;\" x=\"48.067749\" xlink:href=\"#m0bdbb02cf6\" y=\"224.64\"/>\r\n      </g>\r\n     </g>\r\n     <g id=\"text_1\">\r\n      <!-- 0 -->\r\n      <defs>\r\n       <path d=\"M 31.78125 66.40625 \r\nQ 24.171875 66.40625 20.328125 58.90625 \r\nQ 16.5 51.421875 16.5 36.375 \r\nQ 16.5 21.390625 20.328125 13.890625 \r\nQ 24.171875 6.390625 31.78125 6.390625 \r\nQ 39.453125 6.390625 43.28125 13.890625 \r\nQ 47.125 21.390625 47.125 36.375 \r\nQ 47.125 51.421875 43.28125 58.90625 \r\nQ 39.453125 66.40625 31.78125 66.40625 \r\nz\r\nM 31.78125 74.21875 \r\nQ 44.046875 74.21875 50.515625 64.515625 \r\nQ 56.984375 54.828125 56.984375 36.375 \r\nQ 56.984375 17.96875 50.515625 8.265625 \r\nQ 44.046875 -1.421875 31.78125 -1.421875 \r\nQ 19.53125 -1.421875 13.0625 8.265625 \r\nQ 6.59375 17.96875 6.59375 36.375 \r\nQ 6.59375 54.828125 13.0625 64.515625 \r\nQ 19.53125 74.21875 31.78125 74.21875 \r\nz\r\n\" id=\"DejaVuSans-48\"/>\r\n      </defs>\r\n      <g transform=\"translate(44.886499 239.238437)scale(0.1 -0.1)\">\r\n       <use xlink:href=\"#DejaVuSans-48\"/>\r\n      </g>\r\n     </g>\r\n    </g>\r\n    <g id=\"xtick_2\">\r\n     <g id=\"line2d_2\">\r\n      <g>\r\n       <use style=\"stroke:#000000;stroke-width:0.8;\" x=\"91.861078\" xlink:href=\"#m0bdbb02cf6\" y=\"224.64\"/>\r\n      </g>\r\n     </g>\r\n     <g id=\"text_2\">\r\n      <!-- 100 -->\r\n      <defs>\r\n       <path d=\"M 12.40625 8.296875 \r\nL 28.515625 8.296875 \r\nL 28.515625 63.921875 \r\nL 10.984375 60.40625 \r\nL 10.984375 69.390625 \r\nL 28.421875 72.90625 \r\nL 38.28125 72.90625 \r\nL 38.28125 8.296875 \r\nL 54.390625 8.296875 \r\nL 54.390625 0 \r\nL 12.40625 0 \r\nz\r\n\" id=\"DejaVuSans-49\"/>\r\n      </defs>\r\n      <g transform=\"translate(82.317328 239.238437)scale(0.1 -0.1)\">\r\n       <use xlink:href=\"#DejaVuSans-49\"/>\r\n       <use x=\"63.623047\" xlink:href=\"#DejaVuSans-48\"/>\r\n       <use x=\"127.246094\" xlink:href=\"#DejaVuSans-48\"/>\r\n      </g>\r\n     </g>\r\n    </g>\r\n    <g id=\"xtick_3\">\r\n     <g id=\"line2d_3\">\r\n      <g>\r\n       <use style=\"stroke:#000000;stroke-width:0.8;\" x=\"135.654406\" xlink:href=\"#m0bdbb02cf6\" y=\"224.64\"/>\r\n      </g>\r\n     </g>\r\n     <g id=\"text_3\">\r\n      <!-- 200 -->\r\n      <defs>\r\n       <path d=\"M 19.1875 8.296875 \r\nL 53.609375 8.296875 \r\nL 53.609375 0 \r\nL 7.328125 0 \r\nL 7.328125 8.296875 \r\nQ 12.9375 14.109375 22.625 23.890625 \r\nQ 32.328125 33.6875 34.8125 36.53125 \r\nQ 39.546875 41.84375 41.421875 45.53125 \r\nQ 43.3125 49.21875 43.3125 52.78125 \r\nQ 43.3125 58.59375 39.234375 62.25 \r\nQ 35.15625 65.921875 28.609375 65.921875 \r\nQ 23.96875 65.921875 18.8125 64.3125 \r\nQ 13.671875 62.703125 7.8125 59.421875 \r\nL 7.8125 69.390625 \r\nQ 13.765625 71.78125 18.9375 73 \r\nQ 24.125 74.21875 28.421875 74.21875 \r\nQ 39.75 74.21875 46.484375 68.546875 \r\nQ 53.21875 62.890625 53.21875 53.421875 \r\nQ 53.21875 48.921875 51.53125 44.890625 \r\nQ 49.859375 40.875 45.40625 35.40625 \r\nQ 44.1875 33.984375 37.640625 27.21875 \r\nQ 31.109375 20.453125 19.1875 8.296875 \r\nz\r\n\" id=\"DejaVuSans-50\"/>\r\n      </defs>\r\n      <g transform=\"translate(126.110656 239.238437)scale(0.1 -0.1)\">\r\n       <use xlink:href=\"#DejaVuSans-50\"/>\r\n       <use x=\"63.623047\" xlink:href=\"#DejaVuSans-48\"/>\r\n       <use x=\"127.246094\" xlink:href=\"#DejaVuSans-48\"/>\r\n      </g>\r\n     </g>\r\n    </g>\r\n    <g id=\"xtick_4\">\r\n     <g id=\"line2d_4\">\r\n      <g>\r\n       <use style=\"stroke:#000000;stroke-width:0.8;\" x=\"179.447735\" xlink:href=\"#m0bdbb02cf6\" y=\"224.64\"/>\r\n      </g>\r\n     </g>\r\n     <g id=\"text_4\">\r\n      <!-- 300 -->\r\n      <defs>\r\n       <path d=\"M 40.578125 39.3125 \r\nQ 47.65625 37.796875 51.625 33 \r\nQ 55.609375 28.21875 55.609375 21.1875 \r\nQ 55.609375 10.40625 48.1875 4.484375 \r\nQ 40.765625 -1.421875 27.09375 -1.421875 \r\nQ 22.515625 -1.421875 17.65625 -0.515625 \r\nQ 12.796875 0.390625 7.625 2.203125 \r\nL 7.625 11.71875 \r\nQ 11.71875 9.328125 16.59375 8.109375 \r\nQ 21.484375 6.890625 26.8125 6.890625 \r\nQ 36.078125 6.890625 40.9375 10.546875 \r\nQ 45.796875 14.203125 45.796875 21.1875 \r\nQ 45.796875 27.640625 41.28125 31.265625 \r\nQ 36.765625 34.90625 28.71875 34.90625 \r\nL 20.21875 34.90625 \r\nL 20.21875 43.015625 \r\nL 29.109375 43.015625 \r\nQ 36.375 43.015625 40.234375 45.921875 \r\nQ 44.09375 48.828125 44.09375 54.296875 \r\nQ 44.09375 59.90625 40.109375 62.90625 \r\nQ 36.140625 65.921875 28.71875 65.921875 \r\nQ 24.65625 65.921875 20.015625 65.03125 \r\nQ 15.375 64.15625 9.8125 62.3125 \r\nL 9.8125 71.09375 \r\nQ 15.4375 72.65625 20.34375 73.4375 \r\nQ 25.25 74.21875 29.59375 74.21875 \r\nQ 40.828125 74.21875 47.359375 69.109375 \r\nQ 53.90625 64.015625 53.90625 55.328125 \r\nQ 53.90625 49.265625 50.4375 45.09375 \r\nQ 46.96875 40.921875 40.578125 39.3125 \r\nz\r\n\" id=\"DejaVuSans-51\"/>\r\n      </defs>\r\n      <g transform=\"translate(169.903985 239.238437)scale(0.1 -0.1)\">\r\n       <use xlink:href=\"#DejaVuSans-51\"/>\r\n       <use x=\"63.623047\" xlink:href=\"#DejaVuSans-48\"/>\r\n       <use x=\"127.246094\" xlink:href=\"#DejaVuSans-48\"/>\r\n      </g>\r\n     </g>\r\n    </g>\r\n    <g id=\"xtick_5\">\r\n     <g id=\"line2d_5\">\r\n      <g>\r\n       <use style=\"stroke:#000000;stroke-width:0.8;\" x=\"223.241064\" xlink:href=\"#m0bdbb02cf6\" y=\"224.64\"/>\r\n      </g>\r\n     </g>\r\n     <g id=\"text_5\">\r\n      <!-- 400 -->\r\n      <defs>\r\n       <path d=\"M 37.796875 64.3125 \r\nL 12.890625 25.390625 \r\nL 37.796875 25.390625 \r\nz\r\nM 35.203125 72.90625 \r\nL 47.609375 72.90625 \r\nL 47.609375 25.390625 \r\nL 58.015625 25.390625 \r\nL 58.015625 17.1875 \r\nL 47.609375 17.1875 \r\nL 47.609375 0 \r\nL 37.796875 0 \r\nL 37.796875 17.1875 \r\nL 4.890625 17.1875 \r\nL 4.890625 26.703125 \r\nz\r\n\" id=\"DejaVuSans-52\"/>\r\n      </defs>\r\n      <g transform=\"translate(213.697314 239.238437)scale(0.1 -0.1)\">\r\n       <use xlink:href=\"#DejaVuSans-52\"/>\r\n       <use x=\"63.623047\" xlink:href=\"#DejaVuSans-48\"/>\r\n       <use x=\"127.246094\" xlink:href=\"#DejaVuSans-48\"/>\r\n      </g>\r\n     </g>\r\n    </g>\r\n    <g id=\"xtick_6\">\r\n     <g id=\"line2d_6\">\r\n      <g>\r\n       <use style=\"stroke:#000000;stroke-width:0.8;\" x=\"267.034393\" xlink:href=\"#m0bdbb02cf6\" y=\"224.64\"/>\r\n      </g>\r\n     </g>\r\n     <g id=\"text_6\">\r\n      <!-- 500 -->\r\n      <defs>\r\n       <path d=\"M 10.796875 72.90625 \r\nL 49.515625 72.90625 \r\nL 49.515625 64.59375 \r\nL 19.828125 64.59375 \r\nL 19.828125 46.734375 \r\nQ 21.96875 47.46875 24.109375 47.828125 \r\nQ 26.265625 48.1875 28.421875 48.1875 \r\nQ 40.625 48.1875 47.75 41.5 \r\nQ 54.890625 34.8125 54.890625 23.390625 \r\nQ 54.890625 11.625 47.5625 5.09375 \r\nQ 40.234375 -1.421875 26.90625 -1.421875 \r\nQ 22.3125 -1.421875 17.546875 -0.640625 \r\nQ 12.796875 0.140625 7.71875 1.703125 \r\nL 7.71875 11.625 \r\nQ 12.109375 9.234375 16.796875 8.0625 \r\nQ 21.484375 6.890625 26.703125 6.890625 \r\nQ 35.15625 6.890625 40.078125 11.328125 \r\nQ 45.015625 15.765625 45.015625 23.390625 \r\nQ 45.015625 31 40.078125 35.4375 \r\nQ 35.15625 39.890625 26.703125 39.890625 \r\nQ 22.75 39.890625 18.8125 39.015625 \r\nQ 14.890625 38.140625 10.796875 36.28125 \r\nz\r\n\" id=\"DejaVuSans-53\"/>\r\n      </defs>\r\n      <g transform=\"translate(257.490643 239.238437)scale(0.1 -0.1)\">\r\n       <use xlink:href=\"#DejaVuSans-53\"/>\r\n       <use x=\"63.623047\" xlink:href=\"#DejaVuSans-48\"/>\r\n       <use x=\"127.246094\" xlink:href=\"#DejaVuSans-48\"/>\r\n      </g>\r\n     </g>\r\n    </g>\r\n    <g id=\"xtick_7\">\r\n     <g id=\"line2d_7\">\r\n      <g>\r\n       <use style=\"stroke:#000000;stroke-width:0.8;\" x=\"310.827722\" xlink:href=\"#m0bdbb02cf6\" y=\"224.64\"/>\r\n      </g>\r\n     </g>\r\n     <g id=\"text_7\">\r\n      <!-- 600 -->\r\n      <defs>\r\n       <path d=\"M 33.015625 40.375 \r\nQ 26.375 40.375 22.484375 35.828125 \r\nQ 18.609375 31.296875 18.609375 23.390625 \r\nQ 18.609375 15.53125 22.484375 10.953125 \r\nQ 26.375 6.390625 33.015625 6.390625 \r\nQ 39.65625 6.390625 43.53125 10.953125 \r\nQ 47.40625 15.53125 47.40625 23.390625 \r\nQ 47.40625 31.296875 43.53125 35.828125 \r\nQ 39.65625 40.375 33.015625 40.375 \r\nz\r\nM 52.59375 71.296875 \r\nL 52.59375 62.3125 \r\nQ 48.875 64.0625 45.09375 64.984375 \r\nQ 41.3125 65.921875 37.59375 65.921875 \r\nQ 27.828125 65.921875 22.671875 59.328125 \r\nQ 17.53125 52.734375 16.796875 39.40625 \r\nQ 19.671875 43.65625 24.015625 45.921875 \r\nQ 28.375 48.1875 33.59375 48.1875 \r\nQ 44.578125 48.1875 50.953125 41.515625 \r\nQ 57.328125 34.859375 57.328125 23.390625 \r\nQ 57.328125 12.15625 50.6875 5.359375 \r\nQ 44.046875 -1.421875 33.015625 -1.421875 \r\nQ 20.359375 -1.421875 13.671875 8.265625 \r\nQ 6.984375 17.96875 6.984375 36.375 \r\nQ 6.984375 53.65625 15.1875 63.9375 \r\nQ 23.390625 74.21875 37.203125 74.21875 \r\nQ 40.921875 74.21875 44.703125 73.484375 \r\nQ 48.484375 72.75 52.59375 71.296875 \r\nz\r\n\" id=\"DejaVuSans-54\"/>\r\n      </defs>\r\n      <g transform=\"translate(301.283972 239.238437)scale(0.1 -0.1)\">\r\n       <use xlink:href=\"#DejaVuSans-54\"/>\r\n       <use x=\"63.623047\" xlink:href=\"#DejaVuSans-48\"/>\r\n       <use x=\"127.246094\" xlink:href=\"#DejaVuSans-48\"/>\r\n      </g>\r\n     </g>\r\n    </g>\r\n    <g id=\"xtick_8\">\r\n     <g id=\"line2d_8\">\r\n      <g>\r\n       <use style=\"stroke:#000000;stroke-width:0.8;\" x=\"354.621051\" xlink:href=\"#m0bdbb02cf6\" y=\"224.64\"/>\r\n      </g>\r\n     </g>\r\n     <g id=\"text_8\">\r\n      <!-- 700 -->\r\n      <defs>\r\n       <path d=\"M 8.203125 72.90625 \r\nL 55.078125 72.90625 \r\nL 55.078125 68.703125 \r\nL 28.609375 0 \r\nL 18.3125 0 \r\nL 43.21875 64.59375 \r\nL 8.203125 64.59375 \r\nz\r\n\" id=\"DejaVuSans-55\"/>\r\n      </defs>\r\n      <g transform=\"translate(345.077301 239.238437)scale(0.1 -0.1)\">\r\n       <use xlink:href=\"#DejaVuSans-55\"/>\r\n       <use x=\"63.623047\" xlink:href=\"#DejaVuSans-48\"/>\r\n       <use x=\"127.246094\" xlink:href=\"#DejaVuSans-48\"/>\r\n      </g>\r\n     </g>\r\n    </g>\r\n   </g>\r\n   <g id=\"matplotlib.axis_2\">\r\n    <g id=\"ytick_1\">\r\n     <g id=\"line2d_9\">\r\n      <defs>\r\n       <path d=\"M 0 0 \r\nL -3.5 0 \r\n\" id=\"m199eb332eb\" style=\"stroke:#000000;stroke-width:0.8;\"/>\r\n      </defs>\r\n      <g>\r\n       <use style=\"stroke:#000000;stroke-width:0.8;\" x=\"33.2875\" xlink:href=\"#m199eb332eb\" y=\"214.756364\"/>\r\n      </g>\r\n     </g>\r\n     <g id=\"text_9\">\r\n      <!-- 0 -->\r\n      <g transform=\"translate(19.925 218.555582)scale(0.1 -0.1)\">\r\n       <use xlink:href=\"#DejaVuSans-48\"/>\r\n      </g>\r\n     </g>\r\n    </g>\r\n    <g id=\"ytick_2\">\r\n     <g id=\"line2d_10\">\r\n      <g>\r\n       <use style=\"stroke:#000000;stroke-width:0.8;\" x=\"33.2875\" xlink:href=\"#m199eb332eb\" y=\"186.521871\"/>\r\n      </g>\r\n     </g>\r\n     <g id=\"text_10\">\r\n      <!-- 25 -->\r\n      <g transform=\"translate(13.5625 190.321089)scale(0.1 -0.1)\">\r\n       <use xlink:href=\"#DejaVuSans-50\"/>\r\n       <use x=\"63.623047\" xlink:href=\"#DejaVuSans-53\"/>\r\n      </g>\r\n     </g>\r\n    </g>\r\n    <g id=\"ytick_3\">\r\n     <g id=\"line2d_11\">\r\n      <g>\r\n       <use style=\"stroke:#000000;stroke-width:0.8;\" x=\"33.2875\" xlink:href=\"#m199eb332eb\" y=\"158.287378\"/>\r\n      </g>\r\n     </g>\r\n     <g id=\"text_11\">\r\n      <!-- 50 -->\r\n      <g transform=\"translate(13.5625 162.086596)scale(0.1 -0.1)\">\r\n       <use xlink:href=\"#DejaVuSans-53\"/>\r\n       <use x=\"63.623047\" xlink:href=\"#DejaVuSans-48\"/>\r\n      </g>\r\n     </g>\r\n    </g>\r\n    <g id=\"ytick_4\">\r\n     <g id=\"line2d_12\">\r\n      <g>\r\n       <use style=\"stroke:#000000;stroke-width:0.8;\" x=\"33.2875\" xlink:href=\"#m199eb332eb\" y=\"130.052885\"/>\r\n      </g>\r\n     </g>\r\n     <g id=\"text_12\">\r\n      <!-- 75 -->\r\n      <g transform=\"translate(13.5625 133.852103)scale(0.1 -0.1)\">\r\n       <use xlink:href=\"#DejaVuSans-55\"/>\r\n       <use x=\"63.623047\" xlink:href=\"#DejaVuSans-53\"/>\r\n      </g>\r\n     </g>\r\n    </g>\r\n    <g id=\"ytick_5\">\r\n     <g id=\"line2d_13\">\r\n      <g>\r\n       <use style=\"stroke:#000000;stroke-width:0.8;\" x=\"33.2875\" xlink:href=\"#m199eb332eb\" y=\"101.818392\"/>\r\n      </g>\r\n     </g>\r\n     <g id=\"text_13\">\r\n      <!-- 100 -->\r\n      <g transform=\"translate(7.2 105.61761)scale(0.1 -0.1)\">\r\n       <use xlink:href=\"#DejaVuSans-49\"/>\r\n       <use x=\"63.623047\" xlink:href=\"#DejaVuSans-48\"/>\r\n       <use x=\"127.246094\" xlink:href=\"#DejaVuSans-48\"/>\r\n      </g>\r\n     </g>\r\n    </g>\r\n    <g id=\"ytick_6\">\r\n     <g id=\"line2d_14\">\r\n      <g>\r\n       <use style=\"stroke:#000000;stroke-width:0.8;\" x=\"33.2875\" xlink:href=\"#m199eb332eb\" y=\"73.583899\"/>\r\n      </g>\r\n     </g>\r\n     <g id=\"text_14\">\r\n      <!-- 125 -->\r\n      <g transform=\"translate(7.2 77.383117)scale(0.1 -0.1)\">\r\n       <use xlink:href=\"#DejaVuSans-49\"/>\r\n       <use x=\"63.623047\" xlink:href=\"#DejaVuSans-50\"/>\r\n       <use x=\"127.246094\" xlink:href=\"#DejaVuSans-53\"/>\r\n      </g>\r\n     </g>\r\n    </g>\r\n    <g id=\"ytick_7\">\r\n     <g id=\"line2d_15\">\r\n      <g>\r\n       <use style=\"stroke:#000000;stroke-width:0.8;\" x=\"33.2875\" xlink:href=\"#m199eb332eb\" y=\"45.349406\"/>\r\n      </g>\r\n     </g>\r\n     <g id=\"text_15\">\r\n      <!-- 150 -->\r\n      <g transform=\"translate(7.2 49.148624)scale(0.1 -0.1)\">\r\n       <use xlink:href=\"#DejaVuSans-49\"/>\r\n       <use x=\"63.623047\" xlink:href=\"#DejaVuSans-53\"/>\r\n       <use x=\"127.246094\" xlink:href=\"#DejaVuSans-48\"/>\r\n      </g>\r\n     </g>\r\n    </g>\r\n    <g id=\"ytick_8\">\r\n     <g id=\"line2d_16\">\r\n      <g>\r\n       <use style=\"stroke:#000000;stroke-width:0.8;\" x=\"33.2875\" xlink:href=\"#m199eb332eb\" y=\"17.114913\"/>\r\n      </g>\r\n     </g>\r\n     <g id=\"text_16\">\r\n      <!-- 175 -->\r\n      <g transform=\"translate(7.2 20.914132)scale(0.1 -0.1)\">\r\n       <use xlink:href=\"#DejaVuSans-49\"/>\r\n       <use x=\"63.623047\" xlink:href=\"#DejaVuSans-55\"/>\r\n       <use x=\"127.246094\" xlink:href=\"#DejaVuSans-53\"/>\r\n      </g>\r\n     </g>\r\n    </g>\r\n   </g>\r\n   <g id=\"patch_3\">\r\n    <path d=\"M 33.2875 224.64 \r\nL 33.2875 7.2 \r\n\" style=\"fill:none;stroke:#000000;stroke-linecap:square;stroke-linejoin:miter;stroke-width:0.8;\"/>\r\n   </g>\r\n   <g id=\"patch_4\">\r\n    <path d=\"M 368.0875 224.64 \r\nL 368.0875 7.2 \r\n\" style=\"fill:none;stroke:#000000;stroke-linecap:square;stroke-linejoin:miter;stroke-width:0.8;\"/>\r\n   </g>\r\n   <g id=\"patch_5\">\r\n    <path d=\"M 33.2875 224.64 \r\nL 368.0875 224.64 \r\n\" style=\"fill:none;stroke:#000000;stroke-linecap:square;stroke-linejoin:miter;stroke-width:0.8;\"/>\r\n   </g>\r\n   <g id=\"patch_6\">\r\n    <path d=\"M 33.2875 7.2 \r\nL 368.0875 7.2 \r\n\" style=\"fill:none;stroke:#000000;stroke-linecap:square;stroke-linejoin:miter;stroke-width:0.8;\"/>\r\n   </g>\r\n   <g id=\"legend_1\">\r\n    <g id=\"patch_7\">\r\n     <path d=\"M 276.073438 44.55625 \r\nL 361.0875 44.55625 \r\nQ 363.0875 44.55625 363.0875 42.55625 \r\nL 363.0875 14.2 \r\nQ 363.0875 12.2 361.0875 12.2 \r\nL 276.073438 12.2 \r\nQ 274.073438 12.2 274.073438 14.2 \r\nL 274.073438 42.55625 \r\nQ 274.073438 44.55625 276.073438 44.55625 \r\nz\r\n\" style=\"fill:#ffffff;opacity:0.8;stroke:#cccccc;stroke-linejoin:miter;\"/>\r\n    </g>\r\n    <g id=\"PathCollection_3\">\r\n     <g>\r\n      <use style=\"fill:#1f77b4;stroke:#1f77b4;\" x=\"288.073438\" xlink:href=\"#m77e6b4019f\" y=\"21.173437\"/>\r\n     </g>\r\n    </g>\r\n    <g id=\"text_17\">\r\n     <!-- Scenario 1 -->\r\n     <defs>\r\n      <path d=\"M 53.515625 70.515625 \r\nL 53.515625 60.890625 \r\nQ 47.90625 63.578125 42.921875 64.890625 \r\nQ 37.9375 66.21875 33.296875 66.21875 \r\nQ 25.25 66.21875 20.875 63.09375 \r\nQ 16.5 59.96875 16.5 54.203125 \r\nQ 16.5 49.359375 19.40625 46.890625 \r\nQ 22.3125 44.4375 30.421875 42.921875 \r\nL 36.375 41.703125 \r\nQ 47.40625 39.59375 52.65625 34.296875 \r\nQ 57.90625 29 57.90625 20.125 \r\nQ 57.90625 9.515625 50.796875 4.046875 \r\nQ 43.703125 -1.421875 29.984375 -1.421875 \r\nQ 24.8125 -1.421875 18.96875 -0.25 \r\nQ 13.140625 0.921875 6.890625 3.21875 \r\nL 6.890625 13.375 \r\nQ 12.890625 10.015625 18.65625 8.296875 \r\nQ 24.421875 6.59375 29.984375 6.59375 \r\nQ 38.421875 6.59375 43.015625 9.90625 \r\nQ 47.609375 13.234375 47.609375 19.390625 \r\nQ 47.609375 24.75 44.3125 27.78125 \r\nQ 41.015625 30.8125 33.5 32.328125 \r\nL 27.484375 33.5 \r\nQ 16.453125 35.6875 11.515625 40.375 \r\nQ 6.59375 45.0625 6.59375 53.421875 \r\nQ 6.59375 63.09375 13.40625 68.65625 \r\nQ 20.21875 74.21875 32.171875 74.21875 \r\nQ 37.3125 74.21875 42.625 73.28125 \r\nQ 47.953125 72.359375 53.515625 70.515625 \r\nz\r\n\" id=\"DejaVuSans-83\"/>\r\n      <path d=\"M 48.78125 52.59375 \r\nL 48.78125 44.1875 \r\nQ 44.96875 46.296875 41.140625 47.34375 \r\nQ 37.3125 48.390625 33.40625 48.390625 \r\nQ 24.65625 48.390625 19.8125 42.84375 \r\nQ 14.984375 37.3125 14.984375 27.296875 \r\nQ 14.984375 17.28125 19.8125 11.734375 \r\nQ 24.65625 6.203125 33.40625 6.203125 \r\nQ 37.3125 6.203125 41.140625 7.25 \r\nQ 44.96875 8.296875 48.78125 10.40625 \r\nL 48.78125 2.09375 \r\nQ 45.015625 0.34375 40.984375 -0.53125 \r\nQ 36.96875 -1.421875 32.421875 -1.421875 \r\nQ 20.0625 -1.421875 12.78125 6.34375 \r\nQ 5.515625 14.109375 5.515625 27.296875 \r\nQ 5.515625 40.671875 12.859375 48.328125 \r\nQ 20.21875 56 33.015625 56 \r\nQ 37.15625 56 41.109375 55.140625 \r\nQ 45.0625 54.296875 48.78125 52.59375 \r\nz\r\n\" id=\"DejaVuSans-99\"/>\r\n      <path d=\"M 56.203125 29.59375 \r\nL 56.203125 25.203125 \r\nL 14.890625 25.203125 \r\nQ 15.484375 15.921875 20.484375 11.0625 \r\nQ 25.484375 6.203125 34.421875 6.203125 \r\nQ 39.59375 6.203125 44.453125 7.46875 \r\nQ 49.3125 8.734375 54.109375 11.28125 \r\nL 54.109375 2.78125 \r\nQ 49.265625 0.734375 44.1875 -0.34375 \r\nQ 39.109375 -1.421875 33.890625 -1.421875 \r\nQ 20.796875 -1.421875 13.15625 6.1875 \r\nQ 5.515625 13.8125 5.515625 26.8125 \r\nQ 5.515625 40.234375 12.765625 48.109375 \r\nQ 20.015625 56 32.328125 56 \r\nQ 43.359375 56 49.78125 48.890625 \r\nQ 56.203125 41.796875 56.203125 29.59375 \r\nz\r\nM 47.21875 32.234375 \r\nQ 47.125 39.59375 43.09375 43.984375 \r\nQ 39.0625 48.390625 32.421875 48.390625 \r\nQ 24.90625 48.390625 20.390625 44.140625 \r\nQ 15.875 39.890625 15.1875 32.171875 \r\nz\r\n\" id=\"DejaVuSans-101\"/>\r\n      <path d=\"M 54.890625 33.015625 \r\nL 54.890625 0 \r\nL 45.90625 0 \r\nL 45.90625 32.71875 \r\nQ 45.90625 40.484375 42.875 44.328125 \r\nQ 39.84375 48.1875 33.796875 48.1875 \r\nQ 26.515625 48.1875 22.3125 43.546875 \r\nQ 18.109375 38.921875 18.109375 30.90625 \r\nL 18.109375 0 \r\nL 9.078125 0 \r\nL 9.078125 54.6875 \r\nL 18.109375 54.6875 \r\nL 18.109375 46.1875 \r\nQ 21.34375 51.125 25.703125 53.5625 \r\nQ 30.078125 56 35.796875 56 \r\nQ 45.21875 56 50.046875 50.171875 \r\nQ 54.890625 44.34375 54.890625 33.015625 \r\nz\r\n\" id=\"DejaVuSans-110\"/>\r\n      <path d=\"M 34.28125 27.484375 \r\nQ 23.390625 27.484375 19.1875 25 \r\nQ 14.984375 22.515625 14.984375 16.5 \r\nQ 14.984375 11.71875 18.140625 8.90625 \r\nQ 21.296875 6.109375 26.703125 6.109375 \r\nQ 34.1875 6.109375 38.703125 11.40625 \r\nQ 43.21875 16.703125 43.21875 25.484375 \r\nL 43.21875 27.484375 \r\nz\r\nM 52.203125 31.203125 \r\nL 52.203125 0 \r\nL 43.21875 0 \r\nL 43.21875 8.296875 \r\nQ 40.140625 3.328125 35.546875 0.953125 \r\nQ 30.953125 -1.421875 24.3125 -1.421875 \r\nQ 15.921875 -1.421875 10.953125 3.296875 \r\nQ 6 8.015625 6 15.921875 \r\nQ 6 25.140625 12.171875 29.828125 \r\nQ 18.359375 34.515625 30.609375 34.515625 \r\nL 43.21875 34.515625 \r\nL 43.21875 35.40625 \r\nQ 43.21875 41.609375 39.140625 45 \r\nQ 35.0625 48.390625 27.6875 48.390625 \r\nQ 23 48.390625 18.546875 47.265625 \r\nQ 14.109375 46.140625 10.015625 43.890625 \r\nL 10.015625 52.203125 \r\nQ 14.9375 54.109375 19.578125 55.046875 \r\nQ 24.21875 56 28.609375 56 \r\nQ 40.484375 56 46.34375 49.84375 \r\nQ 52.203125 43.703125 52.203125 31.203125 \r\nz\r\n\" id=\"DejaVuSans-97\"/>\r\n      <path d=\"M 41.109375 46.296875 \r\nQ 39.59375 47.171875 37.8125 47.578125 \r\nQ 36.03125 48 33.890625 48 \r\nQ 26.265625 48 22.1875 43.046875 \r\nQ 18.109375 38.09375 18.109375 28.8125 \r\nL 18.109375 0 \r\nL 9.078125 0 \r\nL 9.078125 54.6875 \r\nL 18.109375 54.6875 \r\nL 18.109375 46.1875 \r\nQ 20.953125 51.171875 25.484375 53.578125 \r\nQ 30.03125 56 36.53125 56 \r\nQ 37.453125 56 38.578125 55.875 \r\nQ 39.703125 55.765625 41.0625 55.515625 \r\nz\r\n\" id=\"DejaVuSans-114\"/>\r\n      <path d=\"M 9.421875 54.6875 \r\nL 18.40625 54.6875 \r\nL 18.40625 0 \r\nL 9.421875 0 \r\nz\r\nM 9.421875 75.984375 \r\nL 18.40625 75.984375 \r\nL 18.40625 64.59375 \r\nL 9.421875 64.59375 \r\nz\r\n\" id=\"DejaVuSans-105\"/>\r\n      <path d=\"M 30.609375 48.390625 \r\nQ 23.390625 48.390625 19.1875 42.75 \r\nQ 14.984375 37.109375 14.984375 27.296875 \r\nQ 14.984375 17.484375 19.15625 11.84375 \r\nQ 23.34375 6.203125 30.609375 6.203125 \r\nQ 37.796875 6.203125 41.984375 11.859375 \r\nQ 46.1875 17.53125 46.1875 27.296875 \r\nQ 46.1875 37.015625 41.984375 42.703125 \r\nQ 37.796875 48.390625 30.609375 48.390625 \r\nz\r\nM 30.609375 56 \r\nQ 42.328125 56 49.015625 48.375 \r\nQ 55.71875 40.765625 55.71875 27.296875 \r\nQ 55.71875 13.875 49.015625 6.21875 \r\nQ 42.328125 -1.421875 30.609375 -1.421875 \r\nQ 18.84375 -1.421875 12.171875 6.21875 \r\nQ 5.515625 13.875 5.515625 27.296875 \r\nQ 5.515625 40.765625 12.171875 48.375 \r\nQ 18.84375 56 30.609375 56 \r\nz\r\n\" id=\"DejaVuSans-111\"/>\r\n      <path id=\"DejaVuSans-32\"/>\r\n     </defs>\r\n     <g transform=\"translate(306.073438 23.798437)scale(0.1 -0.1)\">\r\n      <use xlink:href=\"#DejaVuSans-83\"/>\r\n      <use x=\"63.476562\" xlink:href=\"#DejaVuSans-99\"/>\r\n      <use x=\"118.457031\" xlink:href=\"#DejaVuSans-101\"/>\r\n      <use x=\"179.980469\" xlink:href=\"#DejaVuSans-110\"/>\r\n      <use x=\"243.359375\" xlink:href=\"#DejaVuSans-97\"/>\r\n      <use x=\"304.638672\" xlink:href=\"#DejaVuSans-114\"/>\r\n      <use x=\"345.751953\" xlink:href=\"#DejaVuSans-105\"/>\r\n      <use x=\"373.535156\" xlink:href=\"#DejaVuSans-111\"/>\r\n      <use x=\"434.716797\" xlink:href=\"#DejaVuSans-32\"/>\r\n      <use x=\"466.503906\" xlink:href=\"#DejaVuSans-49\"/>\r\n     </g>\r\n    </g>\r\n    <g id=\"PathCollection_4\">\r\n     <g>\r\n      <use style=\"fill:#ff7f0e;stroke:#ff7f0e;\" x=\"288.073438\" xlink:href=\"#md225a8457d\" y=\"35.851562\"/>\r\n     </g>\r\n    </g>\r\n    <g id=\"text_18\">\r\n     <!-- Scenario 2 -->\r\n     <g transform=\"translate(306.073438 38.476562)scale(0.1 -0.1)\">\r\n      <use xlink:href=\"#DejaVuSans-83\"/>\r\n      <use x=\"63.476562\" xlink:href=\"#DejaVuSans-99\"/>\r\n      <use x=\"118.457031\" xlink:href=\"#DejaVuSans-101\"/>\r\n      <use x=\"179.980469\" xlink:href=\"#DejaVuSans-110\"/>\r\n      <use x=\"243.359375\" xlink:href=\"#DejaVuSans-97\"/>\r\n      <use x=\"304.638672\" xlink:href=\"#DejaVuSans-114\"/>\r\n      <use x=\"345.751953\" xlink:href=\"#DejaVuSans-105\"/>\r\n      <use x=\"373.535156\" xlink:href=\"#DejaVuSans-111\"/>\r\n      <use x=\"434.716797\" xlink:href=\"#DejaVuSans-32\"/>\r\n      <use x=\"466.503906\" xlink:href=\"#DejaVuSans-50\"/>\r\n     </g>\r\n    </g>\r\n   </g>\r\n  </g>\r\n </g>\r\n <defs>\r\n  <clipPath id=\"pa1d7a5a7cb\">\r\n   <rect height=\"217.44\" width=\"334.8\" x=\"33.2875\" y=\"7.2\"/>\r\n  </clipPath>\r\n </defs>\r\n</svg>\r\n",
            "image/png": "[encoded data removed]"
          },
          "metadata": {
            "needs_background": "light"
          }
        }
      ],
      "source": [
        "fig, ax = plt.subplots()\n",
        "ax.scatter(sir_scenario1[1:, 0], sir_scenario1[:-1, 1] - sir_scenario1[1:, 1], label=\"Scenario 1\")\n",
        "ax.scatter(sir_scenario2[1:, 0], sir_scenario2[:-1, 1] - sir_scenario2[1:, 1], label=\"Scenario 2\")\n",
        "ax.legend()\n",
        "plt.show()"
      ]
    },
    {
      "cell_type": "code",
      "execution_count": 111,
      "metadata": {},
      "outputs": [
        {
          "output_type": "execute_result",
          "data": {
            "text/plain": "array([[0.00000000e+00, 9.99900000e+03, 1.00000000e+00, 0.00000000e+00],\n       [1.00000000e+00, 9.99876968e+03, 1.15353789e+00, 7.67817876e-02],\n       [2.00000000e+00, 9.99850401e+03, 1.33064178e+00, 1.65351846e-01],\n       [3.00000000e+00, 9.99819755e+03, 1.53493003e+00, 2.67521251e-01],\n       [4.00000000e+00, 9.99784406e+03, 1.77056468e+00, 3.85373556e-01],\n       [5.00000000e+00, 9.99607051e+03, 3.36670568e+00, 5.62782493e-01],\n       [6.00000000e+00, 9.99269923e+03, 6.40067047e+00, 9.00104464e-01],\n       [7.00000000e+00, 9.98629556e+03, 1.21633053e+01, 1.54113658e+00],\n       [8.00000000e+00, 9.97413732e+03, 2.31032903e+01, 2.75939038e+00],\n       [1.00000000e+01, 9.96883231e+03, 2.66349031e+01, 4.53278213e+00],\n       [1.10000000e+01, 9.96271967e+03, 3.07029594e+01, 6.57737357e+00],\n       [1.20000000e+01, 9.95567863e+03, 3.53872760e+01, 8.93409747e+00],\n       [1.30000000e+01, 9.94757235e+03, 4.07783487e+01, 1.16493050e+01],\n       [1.40000000e+01, 9.93824037e+03, 4.69819327e+01, 1.47777010e+01],\n       [1.50000000e+01, 9.92749825e+03, 5.41192604e+01, 1.83824887e+01],\n       [1.60000000e+01, 9.91513759e+03, 6.23270415e+01, 2.25353697e+01],\n       [1.70000000e+01, 9.90092532e+03, 7.17575851e+01, 2.73170959e+01],\n       [1.80000000e+01, 9.88459468e+03, 8.25830348e+01, 3.28222840e+01],\n       [1.90000000e+01, 9.86584378e+03, 9.50025220e+01, 3.91537014e+01],\n       [2.00000000e+01, 9.84432357e+03, 1.09244132e+02, 4.64322939e+01],\n       [2.10000000e+01, 9.81963524e+03, 1.25565105e+02, 5.47996585e+01],\n       [2.20000000e+01, 9.79133012e+03, 1.44251833e+02, 6.44180432e+01],\n       [2.30000000e+01, 9.75890979e+03, 1.65619861e+02, 7.54703470e+01],\n       [2.40000000e+01, 9.72182599e+03, 1.90013890e+02, 8.81601200e+01],\n       [2.50000000e+01, 9.67948066e+03, 2.17807772e+02, 1.02711563e+02],\n       [2.60000000e+01, 9.63126809e+03, 2.49362962e+02, 1.19368947e+02],\n       [2.70000000e+01, 9.57650580e+03, 2.85078423e+02, 1.38415778e+02],\n       [2.80000000e+01, 9.51425109e+03, 3.25562422e+02, 1.60186486e+02],\n       [2.90000000e+01, 9.44355605e+03, 3.71395196e+02, 1.85048754e+02],\n       [3.00000000e+01, 9.36348131e+03, 4.23115908e+02, 2.13402778e+02],\n       [3.10000000e+01, 9.27309608e+03, 4.81222646e+02, 2.45681273e+02],\n       [3.20000000e+01, 9.17147811e+03, 5.46172424e+02, 2.82349466e+02],\n       [3.30000000e+01, 9.05771371e+03, 6.18381182e+02, 3.23905104e+02],\n       [3.40000000e+01, 8.93089777e+03, 6.98223785e+02, 3.70878446e+02],\n       [3.50000000e+01, 8.79013371e+03, 7.86034023e+02, 4.23832268e+02],\n       [3.60000000e+01, 8.63456139e+03, 8.82081854e+02, 4.83356751e+02],\n       [3.70000000e+01, 8.46354302e+03, 9.86416567e+02, 5.50040408e+02],\n       [3.80000000e+01, 8.27665787e+03, 1.09887352e+03, 6.24468612e+02],\n       [3.90000000e+01, 8.07374686e+03, 1.21904593e+03, 7.07207212e+02],\n       [4.00000000e+01, 7.85490583e+03, 1.34630960e+03, 7.98784569e+02],\n       [4.10000000e+01, 7.61987125e+03, 1.48047307e+03, 8.99655680e+02],\n       [4.20000000e+01, 7.36997365e+03, 1.61978839e+03, 1.01023796e+03],\n       [4.30000000e+01, 7.10717285e+03, 1.76199788e+03, 1.13082927e+03],\n       [4.40000000e+01, 6.83348932e+03, 1.90492662e+03, 1.26158406e+03],\n       [4.50000000e+01, 6.55100426e+03, 2.04648239e+03, 1.40251335e+03],\n       [4.60000000e+01, 6.26185954e+03, 2.18465568e+03, 1.55348478e+03],\n       [4.70000000e+01, 5.96825772e+03, 2.31751972e+03, 1.71422256e+03],\n       [4.80000000e+01, 5.67246207e+03, 2.44323045e+03, 1.88430748e+03],\n       [4.90000000e+01, 5.37679654e+03, 2.56002652e+03, 2.06317694e+03],\n       [5.00000000e+01, 5.08364579e+03, 2.66622932e+03, 2.25012489e+03],\n       [5.10000000e+01, 4.79545514e+03, 2.76024294e+03, 2.44430192e+03],\n       [5.20000000e+01, 4.51473065e+03, 2.84055419e+03, 2.64471516e+03],\n       [5.30000000e+01, 4.24403903e+03, 2.90573262e+03, 2.85022836e+03],\n       [5.40000000e+01, 3.98559155e+03, 2.95471067e+03, 3.05969778e+03],\n       [5.50000000e+01, 3.73974483e+03, 2.98800279e+03, 3.27225238e+03],\n       [5.60000000e+01, 3.50699778e+03, 3.00629735e+03, 3.48670487e+03],\n       [5.70000000e+01, 3.28775829e+03, 3.01031995e+03, 3.70192175e+03],\n       [5.80000000e+01, 3.08226808e+03, 3.00087362e+03, 3.91685830e+03],\n       [5.90000000e+01, 2.89060266e+03, 2.97883874e+03, 4.13055860e+03],\n       [6.00000000e+01, 2.71267141e+03, 2.94517305e+03, 4.34215553e+03],\n       [6.10000000e+01, 2.54821752e+03, 2.90091170e+03, 4.55087078e+03],\n       [6.20000000e+01, 2.39681801e+03, 2.84716719e+03, 4.75601480e+03],\n       [6.30000000e+01, 2.25788372e+03, 2.78512940e+03, 4.95698687e+03],\n       [6.40000000e+01, 2.13065934e+03, 2.71606560e+03, 5.15327507e+03],\n       [6.50000000e+01, 2.01422336e+03, 2.64132040e+03, 5.34445624e+03],\n       [6.60000000e+01, 1.90748812e+03, 2.56231583e+03, 5.53019605e+03],\n       [6.70000000e+01, 1.80919978e+03, 2.48055126e+03, 5.71024896e+03],\n       [6.80000000e+01, 1.71704717e+03, 2.39844191e+03, 5.88451092e+03],\n       [6.90000000e+01, 1.63248949e+03, 2.31466658e+03, 6.05284393e+03],\n       [7.00000000e+01, 1.55501018e+03, 2.22996564e+03, 6.21502418e+03],\n       [7.10000000e+01, 1.48410391e+03, 2.14497412e+03, 6.37092197e+03],\n       [7.20000000e+01, 1.41911708e+03, 2.06021351e+03, 6.52066942e+03],\n       [7.30000000e+01, 1.35944844e+03, 1.97615110e+03, 6.66440046e+03],\n       [7.40000000e+01, 1.30455040e+03, 1.89320032e+03, 6.80224928e+03],\n       [7.50000000e+01, 1.25392898e+03, 1.81172073e+03, 6.93435028e+03],\n       [7.60000000e+01, 1.20714384e+03, 1.73201804e+03, 7.06083812e+03],\n       [7.70000000e+01, 1.16380826e+03, 1.65434407e+03, 7.18184766e+03],\n       [7.80000000e+01, 1.12358917e+03, 1.57889679e+03, 7.29751403e+03],\n       [7.90000000e+01, 1.08620712e+03, 1.50582031e+03, 7.40797257e+03],\n       [8.00000000e+01, 1.05143630e+03, 1.43520485e+03, 7.51335885e+03],\n       [8.10000000e+01, 1.01910451e+03, 1.36708679e+03, 7.61380869e+03],\n       [8.20000000e+01, 9.89093219e+02, 1.30144864e+03, 7.70945814e+03],\n       [8.30000000e+01, 9.61337493e+02, 1.23821904e+03, 7.80044346e+03],\n       [8.40000000e+01, 9.35826049e+02, 1.17727276e+03, 7.88690119e+03],\n       [8.50000000e+01, 9.12601230e+02, 1.11843072e+03, 7.96896805e+03],\n       [8.60000000e+01, 8.91508615e+02, 1.06167104e+03, 8.04682034e+03],\n       [8.70000000e+01, 8.71953251e+02, 1.00733978e+03, 8.12070697e+03],\n       [8.80000000e+01, 8.53798692e+02, 9.55399873e+02, 8.19080144e+03],\n       [8.90000000e+01, 8.36938117e+02, 9.05792230e+02, 8.25726965e+03],\n       [9.00000000e+01, 8.21271234e+02, 8.58455176e+02, 8.32027359e+03],\n       [9.10000000e+01, 8.06704281e+02, 8.13324440e+02, 8.37997128e+03],\n       [9.20000000e+01, 7.93150021e+02, 7.70333162e+02, 8.43651682e+03],\n       [9.30000000e+01, 7.80527747e+02, 7.29411888e+02, 8.49006037e+03],\n       [9.40000000e+01, 7.68763281e+02, 6.90488572e+02, 8.54074815e+03],\n       [9.50000000e+01, 7.57788972e+02, 6.53488577e+02, 8.58872245e+03],\n       [9.60000000e+01, 7.47543698e+02, 6.18334675e+02, 8.63412163e+03],\n       [9.70000000e+01, 7.37970298e+02, 5.84944127e+02, 8.67708558e+03],\n       [9.80000000e+01, 7.29027631e+02, 5.53246977e+02, 8.71772539e+03],\n       [9.90000000e+01, 7.20660900e+02, 5.23161441e+02, 8.75617766e+03],\n       [1.00000000e+02, 7.12818208e+02, 4.94603849e+02, 8.79257794e+03],\n       [1.01000000e+02, 7.05472042e+02, 4.67512329e+02, 8.82701563e+03],\n       [1.02000000e+02, 6.98595887e+02, 4.41826471e+02, 8.85957764e+03],\n       [1.03000000e+02, 6.92163730e+02, 4.17486865e+02, 8.89034941e+03],\n       [1.04000000e+02, 6.86150065e+02, 3.94435103e+02, 8.91941483e+03],\n       [1.05000000e+02, 6.80529887e+02, 3.72613783e+02, 8.94685633e+03],\n       [1.06000000e+02, 6.75278697e+02, 3.51966500e+02, 8.97275480e+03],\n       [1.07000000e+02, 6.70372499e+02, 3.32437855e+02, 8.99718965e+03],\n       [1.08000000e+02, 6.65787800e+02, 3.13973450e+02, 9.02023875e+03],\n       [1.09000000e+02, 6.61501613e+02, 2.96519889e+02, 9.04197850e+03],\n       [1.10000000e+02, 6.57491453e+02, 2.80024779e+02, 9.06248377e+03],\n       [1.11000000e+02, 6.53735339e+02, 2.64436726e+02, 9.08182793e+03],\n       [1.12000000e+02, 6.50211796e+02, 2.49705344e+02, 9.10008286e+03],\n       [1.13000000e+02, 6.46899850e+02, 2.35781244e+02, 9.11731891e+03],\n       [1.14000000e+02, 6.43779034e+02, 2.22616041e+02, 9.13360493e+03],\n       [1.15000000e+02, 6.40829381e+02, 2.10162353e+02, 9.14900827e+03],\n       [1.16000000e+02, 6.38035141e+02, 1.98376658e+02, 9.16358820e+03],\n       [1.17000000e+02, 6.35404416e+02, 1.87236178e+02, 9.17735941e+03],\n       [1.18000000e+02, 6.32931233e+02, 1.76710802e+02, 9.19035797e+03],\n       [1.19000000e+02, 6.30606166e+02, 1.66768768e+02, 9.20262507e+03],\n       [1.20000000e+02, 6.28420225e+02, 1.57379453e+02, 9.21420032e+03],\n       [1.21000000e+02, 6.26364856e+02, 1.48513367e+02, 9.22512178e+03],\n       [1.22000000e+02, 6.24431938e+02, 1.40142159e+02, 9.23542590e+03],\n       [1.23000000e+02, 6.22613786e+02, 1.32238613e+02, 9.24514760e+03],\n       [1.24000000e+02, 6.20903149e+02, 1.24776649e+02, 9.25432020e+03],\n       [1.25000000e+02, 6.19293214e+02, 1.17731323e+02, 9.26297546e+03]])"
          },
          "metadata": {},
          "execution_count": 111
        }
      ],
      "source": [
        "sir_scenario2"
      ]
    },
    {
      "cell_type": "code",
      "execution_count": 94,
      "metadata": {},
      "outputs": [
        {
          "output_type": "execute_result",
          "data": {
            "text/plain": "<function __main__.predict_sir(N, params_t, perc_recovered)>"
          },
          "metadata": {},
          "execution_count": 94
        }
      ],
      "source": []
    },
    {
      "cell_type": "code",
      "execution_count": null,
      "metadata": {},
      "outputs": [],
      "source": []
    }
  ],
  "metadata": {
    "colab": {
      "name": "Covid19 Visualization3.ipynb",
      "provenance": [],
      "collapsed_sections": []
    },
    "kernelspec": {
      "name": "python38264bitcovidappconda66a19c83b48a4465abc28e043f420f61",
      "display_name": "Python 3.8.2 64-bit ('CovidApp': conda)"
    },
    "widgets": {
      "application/vnd.jupyter.widget-state+json": {
        "f8740008767f49d5a3c9146b8cb2c43d": {
          "model_module": "@jupyter-widgets/controls",
          "model_name": "HBoxModel",
          "state": {
            "_view_name": "HBoxView",
            "_dom_classes": [],
            "_model_name": "HBoxModel",
            "_view_module": "@jupyter-widgets/controls",
            "_model_module_version": "1.5.0",
            "_view_count": null,
            "_view_module_version": "1.5.0",
            "box_style": "",
            "layout": "IPY_MODEL_b4b1a03310ae47089a663c0b5296ccc0",
            "_model_module": "@jupyter-widgets/controls",
            "children": [
              "IPY_MODEL_bea6c47e04704c208f289b75766039eb",
              "IPY_MODEL_c6e0300328094b3a93c1d31a6d045896",
              "IPY_MODEL_43b2669c82354599b66b1cd7cfd082ed"
            ]
          }
        },
        "b4b1a03310ae47089a663c0b5296ccc0": {
          "model_module": "@jupyter-widgets/base",
          "model_name": "LayoutModel",
          "state": {
            "_view_name": "LayoutView",
            "grid_template_rows": null,
            "right": null,
            "justify_content": null,
            "_view_module": "@jupyter-widgets/base",
            "overflow": null,
            "_model_module_version": "1.2.0",
            "_view_count": null,
            "flex_flow": null,
            "width": null,
            "min_width": null,
            "border": null,
            "align_items": null,
            "bottom": null,
            "_model_module": "@jupyter-widgets/base",
            "top": null,
            "grid_column": null,
            "overflow_y": null,
            "overflow_x": null,
            "grid_auto_flow": null,
            "grid_area": null,
            "grid_template_columns": null,
            "flex": null,
            "_model_name": "LayoutModel",
            "justify_items": null,
            "grid_row": null,
            "max_height": null,
            "align_content": null,
            "visibility": null,
            "align_self": null,
            "height": null,
            "min_height": null,
            "padding": null,
            "grid_auto_rows": null,
            "grid_gap": null,
            "max_width": null,
            "order": null,
            "_view_module_version": "1.2.0",
            "grid_template_areas": null,
            "object_position": null,
            "object_fit": null,
            "grid_auto_columns": null,
            "margin": null,
            "display": null,
            "left": null
          }
        },
        "bea6c47e04704c208f289b75766039eb": {
          "model_module": "@jupyter-widgets/controls",
          "model_name": "SelectMultipleModel",
          "state": {
            "_options_labels": [
              "Alabama",
              "Alaska",
              "Alberta",
              "American Samoa",
              "Anguilla",
              "Anhui",
              "Arizona",
              "Arkansas",
              "Aruba",
              "Australian Capital Territory",
              "Bavaria",
              "Beijing",
              "Bermuda",
              "British Columbia",
              "British Virgin Islands",
              "California",
              "Cayman Islands",
              "Channel Islands",
              "Chicago",
              "Chongqing",
              "Colorado",
              "Connecticut",
              "Cruise Ship",
              "Curacao",
              "D.C.",
              "Delaware",
              "Denmark",
              "Diamond Princess",
              "District of Columbia",
              "External territories",
              "Falkland Islands (Islas Malvinas)",
              "Faroe Islands",
              "Fench Guiana",
              "Florida",
              "France",
              "French Guiana",
              "French Polynesia",
              "From Diamond Princess",
              "Fujian",
              "Gansu",
              "Georgia",
              "Gibraltar",
              "Grand Princess",
              "Greenland",
              "Guadeloupe",
              "Guam",
              "Guangdong",
              "Guangxi",
              "Guizhou",
              "Hainan",
              "Hawaii",
              "Hebei",
              "Heilongjiang",
              "Henan",
              "Hong Kong",
              "Hubei",
              "Hunan",
              "Idaho",
              "Illinois",
              "Indiana",
              "Inner Mongolia",
              "Iowa",
              "Isle of Man",
              "Jervis Bay Territory",
              "Jiangsu",
              "Jiangxi",
              "Jilin",
              "Kansas",
              "Kentucky",
              "Liaoning",
              "Louisiana",
              "Macau",
              "Maine",
              "Manitoba",
              "Martinique",
              "Maryland",
              "Massachusetts",
              "Mayotte",
              "Michigan",
              "Minnesota",
              "Mississippi",
              "Missouri",
              "Montana",
              "Montserrat",
              "Nebraska",
              "Netherlands",
              "Nevada",
              "New Brunswick",
              "New Caledonia",
              "New Hampshire",
              "New Jersey",
              "New Mexico",
              "New South Wales",
              "New York",
              "Newfoundland and Labrador",
              "Ningxia",
              "North Carolina",
              "North Dakota",
              "Northern Mariana Islands",
              "Northern Territory",
              "Northwest Territories",
              "Nova Scotia",
              "ON",
              "Ohio",
              "Oklahoma",
              "Ontario",
              "Oregon",
              "Pennsylvania",
              "Prince Edward Island",
              "Puerto Rico",
              "QC",
              "Qinghai",
              "Quebec",
              "Queensland",
              "Reunion",
              "Rhode Island",
              "Saint Barthelemy",
              "Saskatchewan",
              "Shaanxi",
              "Shandong",
              "Shanghai",
              "Shanxi",
              "Sichuan",
              "Sint Eustatius and Saba",
              "Sint Maarten",
              "South Australia",
              "South Carolina",
              "South Dakota",
              "St Martin",
              "Taiwan",
              "Tasmania",
              "Tennessee",
              "Texas",
              "Tianjin",
              "Tibet",
              "Turks and Caicos Islands",
              "United Kingdom",
              "United States Virgin Islands",
              "Utah",
              "Vermont",
              "Victoria",
              "Virgin Islands",
              "Virginia",
              "Washington",
              "West Virginia",
              "Western Australia",
              "Wisconsin",
              "Wuhan Evacuee",
              "Wyoming",
              "Xinjiang",
              "Yukon",
              "Yunnan",
              "Zhejiang",
              "nan"
            ],
            "_view_name": "SelectMultipleView",
            "style": "IPY_MODEL_a79b51547a0b40fc9d8a36098d2bc9d9",
            "rows": 5,
            "_dom_classes": [],
            "description": "States",
            "_model_name": "SelectMultipleModel",
            "index": [],
            "_view_module": "@jupyter-widgets/controls",
            "_model_module_version": "1.5.0",
            "_view_count": null,
            "disabled": false,
            "_view_module_version": "1.5.0",
            "description_tooltip": null,
            "_model_module": "@jupyter-widgets/controls",
            "layout": "IPY_MODEL_67d63198c41d4435a657983dfbaefab9"
          }
        },
        "c6e0300328094b3a93c1d31a6d045896": {
          "model_module": "@jupyter-widgets/controls",
          "model_name": "SelectMultipleModel",
          "state": {
            "_options_labels": [
              "Afghanistan",
              "Albania",
              "Algeria",
              "Andorra",
              "Angola",
              "Antigua and Barbuda",
              "Argentina",
              "Armenia",
              "Aruba",
              "Australia",
              "Austria",
              "Azerbaijan",
              "Bahamas",
              "Bahrain",
              "Bangladesh",
              "Barbados",
              "Belarus",
              "Belgium",
              "Belize",
              "Benin",
              "Bhutan",
              "Bolivia",
              "Bosnia and Herzegovina",
              "Botswana",
              "Brazil",
              "Brunei",
              "Bulgaria",
              "Burkina Faso",
              "Burma",
              "Burundi",
              "Cabo Verde",
              "Cambodia",
              "Cameroon",
              "Canada",
              "Cape Verde",
              "Cayman Islands",
              "Central African Republic",
              "Chad",
              "Channel Islands",
              "Chile",
              "China",
              "Colombia",
              "Congo (Brazzaville)",
              "Congo (Kinshasa)",
              "Costa Rica",
              "Croatia",
              "Cruise Ship",
              "Cuba",
              "Curacao",
              "Cyprus",
              "Czech Republic",
              "Czechia",
              "Denmark",
              "Djibouti",
              "Dominica",
              "Dominican Republic",
              "East Timor",
              "Ecuador",
              "Egypt",
              "El Salvador",
              "Equatorial Guinea",
              "Eritrea",
              "Estonia",
              "Eswatini",
              "Ethiopia",
              "Faroe Islands",
              "Fiji",
              "Finland",
              "France",
              "French Guiana",
              "Gabon",
              "Gambia",
              "Georgia",
              "Germany",
              "Ghana",
              "Gibraltar",
              "Greece",
              "Greenland",
              "Grenada",
              "Guadeloupe",
              "Guam",
              "Guatemala",
              "Guernsey",
              "Guinea",
              "Guinea-Bissau",
              "Guyana",
              "Haiti",
              "Holy See",
              "Honduras",
              "Hong Kong",
              "Hungary",
              "Iceland",
              "India",
              "Indonesia",
              "Iran",
              "Iraq",
              "Ireland",
              "Israel",
              "Italy",
              "Ivory Coast",
              "Jamaica",
              "Japan",
              "Jersey",
              "Jordan",
              "Kazakhstan",
              "Kenya",
              "Kosovo",
              "Kuwait",
              "Kyrgyzstan",
              "Laos",
              "Latvia",
              "Lebanon",
              "Liberia",
              "Libya",
              "Liechtenstein",
              "Lithuania",
              "Luxembourg",
              "MS Zaandam",
              "Macao SAR",
              "Macau",
              "Madagascar",
              "Malawi",
              "Malaysia",
              "Maldives",
              "Mali",
              "Malta",
              "Martinique",
              "Mauritania",
              "Mauritius",
              "Mayotte",
              "Mexico",
              "Moldova",
              "Monaco",
              "Mongolia",
              "Montenegro",
              "Morocco",
              "Mozambique",
              "Namibia",
              "Nepal",
              "Netherlands",
              "New Zealand",
              "Nicaragua",
              "Niger",
              "Nigeria",
              "North Ireland",
              "North Macedonia",
              "Norway",
              "Oman",
              "Pakistan",
              "Palestine",
              "Panama",
              "Papua New Guinea",
              "Paraguay",
              "Peru",
              "Philippines",
              "Poland",
              "Portugal",
              "Puerto Rico",
              "Qatar",
              "Republic of the Congo",
              "Reunion",
              "Romania",
              "Russia",
              "Rwanda",
              "Saint Barthelemy",
              "Saint Kitts and Nevis",
              "Saint Lucia",
              "Saint Martin",
              "Saint Vincent and the Grenadines",
              "San Marino",
              "Saudi Arabia",
              "Senegal",
              "Serbia",
              "Seychelles",
              "Sierra Leone",
              "Singapore",
              "Slovakia",
              "Slovenia",
              "Somalia",
              "South Africa",
              "South Korea",
              "Spain",
              "Sri Lanka",
              "Sudan",
              "Suriname",
              "Sweden",
              "Switzerland",
              "Syria",
              "Taipei and environs",
              "Taiwan",
              "Tanzania",
              "Thailand",
              "Timor-Leste",
              "Togo",
              "Trinidad and Tobago",
              "Tunisia",
              "Turkey",
              "Uganda",
              "Ukraine",
              "United Arab Emirates",
              "United Kingdom",
              "United States",
              "Uruguay",
              "Uzbekistan",
              "Vatican City",
              "Venezuela",
              "Vietnam",
              "West Bank and Gaza",
              "Zambia",
              "Zimbabwe",
              "occupied Palestinian territory"
            ],
            "_view_name": "SelectMultipleView",
            "style": "IPY_MODEL_5363157eec3b498a8244b9bcc1254c53",
            "rows": 5,
            "_dom_classes": [],
            "description": "Countries",
            "_model_name": "SelectMultipleModel",
            "index": [],
            "_view_module": "@jupyter-widgets/controls",
            "_model_module_version": "1.5.0",
            "_view_count": null,
            "disabled": false,
            "_view_module_version": "1.5.0",
            "description_tooltip": null,
            "_model_module": "@jupyter-widgets/controls",
            "layout": "IPY_MODEL_5fb6651db52c4277bee33a372b699c0f"
          }
        },
        "43b2669c82354599b66b1cd7cfd082ed": {
          "model_module": "@jupyter-widgets/controls",
          "model_name": "ToggleButtonModel",
          "state": {
            "_view_name": "ToggleButtonView",
            "style": "IPY_MODEL_1bc9eec8f8af4a769e9df33152d414a8",
            "_dom_classes": [],
            "description": "Update Plot",
            "_model_name": "ToggleButtonModel",
            "button_style": "",
            "_view_module": "@jupyter-widgets/controls",
            "_model_module_version": "1.5.0",
            "tooltip": "",
            "_view_count": null,
            "disabled": false,
            "_view_module_version": "1.5.0",
            "value": false,
            "description_tooltip": null,
            "_model_module": "@jupyter-widgets/controls",
            "layout": "IPY_MODEL_e7932063d9fc4c5aaaa930df91c72ce3",
            "icon": ""
          }
        },
        "a79b51547a0b40fc9d8a36098d2bc9d9": {
          "model_module": "@jupyter-widgets/controls",
          "model_name": "DescriptionStyleModel",
          "state": {
            "_view_name": "StyleView",
            "_model_name": "DescriptionStyleModel",
            "description_width": "",
            "_view_module": "@jupyter-widgets/base",
            "_model_module_version": "1.5.0",
            "_view_count": null,
            "_view_module_version": "1.2.0",
            "_model_module": "@jupyter-widgets/controls"
          }
        },
        "67d63198c41d4435a657983dfbaefab9": {
          "model_module": "@jupyter-widgets/base",
          "model_name": "LayoutModel",
          "state": {
            "_view_name": "LayoutView",
            "grid_template_rows": null,
            "right": null,
            "justify_content": null,
            "_view_module": "@jupyter-widgets/base",
            "overflow": null,
            "_model_module_version": "1.2.0",
            "_view_count": null,
            "flex_flow": null,
            "width": null,
            "min_width": null,
            "border": null,
            "align_items": null,
            "bottom": null,
            "_model_module": "@jupyter-widgets/base",
            "top": null,
            "grid_column": null,
            "overflow_y": null,
            "overflow_x": null,
            "grid_auto_flow": null,
            "grid_area": null,
            "grid_template_columns": null,
            "flex": null,
            "_model_name": "LayoutModel",
            "justify_items": null,
            "grid_row": null,
            "max_height": null,
            "align_content": null,
            "visibility": null,
            "align_self": null,
            "height": null,
            "min_height": null,
            "padding": null,
            "grid_auto_rows": null,
            "grid_gap": null,
            "max_width": null,
            "order": null,
            "_view_module_version": "1.2.0",
            "grid_template_areas": null,
            "object_position": null,
            "object_fit": null,
            "grid_auto_columns": null,
            "margin": null,
            "display": null,
            "left": null
          }
        },
        "5363157eec3b498a8244b9bcc1254c53": {
          "model_module": "@jupyter-widgets/controls",
          "model_name": "DescriptionStyleModel",
          "state": {
            "_view_name": "StyleView",
            "_model_name": "DescriptionStyleModel",
            "description_width": "",
            "_view_module": "@jupyter-widgets/base",
            "_model_module_version": "1.5.0",
            "_view_count": null,
            "_view_module_version": "1.2.0",
            "_model_module": "@jupyter-widgets/controls"
          }
        },
        "5fb6651db52c4277bee33a372b699c0f": {
          "model_module": "@jupyter-widgets/base",
          "model_name": "LayoutModel",
          "state": {
            "_view_name": "LayoutView",
            "grid_template_rows": null,
            "right": null,
            "justify_content": null,
            "_view_module": "@jupyter-widgets/base",
            "overflow": null,
            "_model_module_version": "1.2.0",
            "_view_count": null,
            "flex_flow": null,
            "width": null,
            "min_width": null,
            "border": null,
            "align_items": null,
            "bottom": null,
            "_model_module": "@jupyter-widgets/base",
            "top": null,
            "grid_column": null,
            "overflow_y": null,
            "overflow_x": null,
            "grid_auto_flow": null,
            "grid_area": null,
            "grid_template_columns": null,
            "flex": null,
            "_model_name": "LayoutModel",
            "justify_items": null,
            "grid_row": null,
            "max_height": null,
            "align_content": null,
            "visibility": null,
            "align_self": null,
            "height": null,
            "min_height": null,
            "padding": null,
            "grid_auto_rows": null,
            "grid_gap": null,
            "max_width": null,
            "order": null,
            "_view_module_version": "1.2.0",
            "grid_template_areas": null,
            "object_position": null,
            "object_fit": null,
            "grid_auto_columns": null,
            "margin": null,
            "display": null,
            "left": null
          }
        },
        "1bc9eec8f8af4a769e9df33152d414a8": {
          "model_module": "@jupyter-widgets/controls",
          "model_name": "DescriptionStyleModel",
          "state": {
            "_view_name": "StyleView",
            "_model_name": "DescriptionStyleModel",
            "description_width": "",
            "_view_module": "@jupyter-widgets/base",
            "_model_module_version": "1.5.0",
            "_view_count": null,
            "_view_module_version": "1.2.0",
            "_model_module": "@jupyter-widgets/controls"
          }
        },
        "e7932063d9fc4c5aaaa930df91c72ce3": {
          "model_module": "@jupyter-widgets/base",
          "model_name": "LayoutModel",
          "state": {
            "_view_name": "LayoutView",
            "grid_template_rows": null,
            "right": null,
            "justify_content": null,
            "_view_module": "@jupyter-widgets/base",
            "overflow": null,
            "_model_module_version": "1.2.0",
            "_view_count": null,
            "flex_flow": null,
            "width": null,
            "min_width": null,
            "border": null,
            "align_items": null,
            "bottom": null,
            "_model_module": "@jupyter-widgets/base",
            "top": null,
            "grid_column": null,
            "overflow_y": null,
            "overflow_x": null,
            "grid_auto_flow": null,
            "grid_area": null,
            "grid_template_columns": null,
            "flex": null,
            "_model_name": "LayoutModel",
            "justify_items": null,
            "grid_row": null,
            "max_height": null,
            "align_content": null,
            "visibility": null,
            "align_self": null,
            "height": null,
            "min_height": null,
            "padding": null,
            "grid_auto_rows": null,
            "grid_gap": null,
            "max_width": null,
            "order": null,
            "_view_module_version": "1.2.0",
            "grid_template_areas": null,
            "object_position": null,
            "object_fit": null,
            "grid_auto_columns": null,
            "margin": null,
            "display": null,
            "left": null
          }
        }
      }
    }
  },
  "nbformat": 4,
  "nbformat_minor": 0
}